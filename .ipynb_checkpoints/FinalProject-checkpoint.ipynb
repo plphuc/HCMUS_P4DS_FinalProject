{
 "cells": [
  {
   "cell_type": "markdown",
   "id": "5a042a36",
   "metadata": {},
   "source": [
    "# Đồ án cuối kì Lập trình cho khoa học dữ liệu\n"
   ]
  },
  {
   "cell_type": "markdown",
   "id": "a1a29963",
   "metadata": {},
   "source": [
    "## Link đến github repo\n",
    "\n",
    "https://github.com/plphuc/HCMUS_P4DS_FinalProject.git"
   ]
  },
  {
   "cell_type": "markdown",
   "id": "b2409499",
   "metadata": {},
   "source": [
    "## Thành viên nhóm"
   ]
  },
  {
   "cell_type": "markdown",
   "id": "c5ac6e19",
   "metadata": {},
   "source": [
    "\n",
    "| |Họ và tên|MSSV|Github account|\n",
    "|:--:|:--|:--:|:--|\n",
    "|1|Võ Thành Nam|19120301|[thanhnam001](https://github.com/thanhnam001)|\n",
    "|2|Phạm Lưu Mỹ Phúc|19120331|[plphuc](https://github.com/plphuc)|"
   ]
  },
  {
   "cell_type": "markdown",
   "id": "f0104328",
   "metadata": {},
   "source": [
    "## Môi trường code"
   ]
  },
  {
   "cell_type": "code",
   "execution_count": 2,
   "id": "04412bd4",
   "metadata": {},
   "outputs": [
    {
     "data": {
      "text/plain": [
       "'/home/poreooo/anaconda3/envs/min_ds-env/bin/python'"
      ]
     },
     "execution_count": 2,
     "metadata": {},
     "output_type": "execute_result"
    }
   ],
   "source": [
    "import sys\n",
    "sys.executable"
   ]
  },
  {
   "cell_type": "markdown",
   "id": "cbedd2a7",
   "metadata": {},
   "source": [
    "## Tổng quan về dữ liệu sẽ được dùng để phân tích\n",
    "\n",
    "Bộ dữ liệu được sử dụng là file `DataScientist.csv`. Đây là dữ liệu nằm trong một bộ dữ liệu gồm nhiều file khác về thông tin tuyển dụng của những ngành nghề liên quan đến Data. \n",
    "- Bộ dữ liệu được tác giả *picklesueat* lấy từ trang web https://www.glassdoor.com/ (một trang web tìm kiếm việc làm), sử dụng công cụ `selenium`. \n",
    "- Bộ dữ liệu đã được tác giả public tại [Github](https://github.com/picklesueat/data_jobs_data) và được reup tại [Kaggle](https://www.kaggle.com/andrewmvd/data-scientist-jobs).\n",
    "- Về license của dữ liệu, chỉ có [MIT License](https://github.com/harshibar/5-python-projects/blob/master/LICENSE), tác giả cho phép mọi người có thể tải xuống tùy ý.\n",
    "- File dữ liệu `DataScientist.csv` là file dữ liệu về thông tin tuyển dụng của nghề Data Scientist bao gồm tên vị trí tuyển dụng, mức lương, tên công ty,..."
   ]
  },
  {
   "cell_type": "markdown",
   "id": "e1cf1f2b",
   "metadata": {},
   "source": [
    "## Import các thư viện cần thiết"
   ]
  },
  {
   "cell_type": "code",
   "execution_count": 3,
   "id": "387a3692",
   "metadata": {},
   "outputs": [],
   "source": [
    "import pandas as pd\n",
    "import numpy as np\n",
    "import re\n",
    "import matplotlib.pyplot as plt\n",
    "import math \n",
    "import seaborn as sns"
   ]
  },
  {
   "cell_type": "markdown",
   "id": "1585c084",
   "metadata": {},
   "source": [
    "## Khám phá dữ liệu (phần 1)"
   ]
  },
  {
   "cell_type": "markdown",
   "id": "e0d809c3",
   "metadata": {},
   "source": [
    "### Đọc dữ liệu vào từ file csv vào dataframe"
   ]
  },
  {
   "cell_type": "code",
   "execution_count": 4,
   "id": "0180dbbe",
   "metadata": {},
   "outputs": [
    {
     "data": {
      "text/html": [
       "<div>\n",
       "<style scoped>\n",
       "    .dataframe tbody tr th:only-of-type {\n",
       "        vertical-align: middle;\n",
       "    }\n",
       "\n",
       "    .dataframe tbody tr th {\n",
       "        vertical-align: top;\n",
       "    }\n",
       "\n",
       "    .dataframe thead th {\n",
       "        text-align: right;\n",
       "    }\n",
       "</style>\n",
       "<table border=\"1\" class=\"dataframe\">\n",
       "  <thead>\n",
       "    <tr style=\"text-align: right;\">\n",
       "      <th></th>\n",
       "      <th>Unnamed: 0</th>\n",
       "      <th>index</th>\n",
       "      <th>Job Title</th>\n",
       "      <th>Salary Estimate</th>\n",
       "      <th>Job Description</th>\n",
       "      <th>Rating</th>\n",
       "      <th>Company Name</th>\n",
       "      <th>Location</th>\n",
       "      <th>Headquarters</th>\n",
       "      <th>Size</th>\n",
       "      <th>Founded</th>\n",
       "      <th>Type of ownership</th>\n",
       "      <th>Industry</th>\n",
       "      <th>Sector</th>\n",
       "      <th>Revenue</th>\n",
       "      <th>Competitors</th>\n",
       "      <th>Easy Apply</th>\n",
       "    </tr>\n",
       "  </thead>\n",
       "  <tbody>\n",
       "    <tr>\n",
       "      <th>0</th>\n",
       "      <td>0</td>\n",
       "      <td>0</td>\n",
       "      <td>Senior Data Scientist</td>\n",
       "      <td>$111K-$181K (Glassdoor est.)</td>\n",
       "      <td>ABOUT HOPPER\\n\\nAt Hopper, we’re on a mission ...</td>\n",
       "      <td>3.5</td>\n",
       "      <td>Hopper\\n3.5</td>\n",
       "      <td>New York, NY</td>\n",
       "      <td>Montreal, Canada</td>\n",
       "      <td>501 to 1000 employees</td>\n",
       "      <td>2007</td>\n",
       "      <td>Company - Private</td>\n",
       "      <td>Travel Agencies</td>\n",
       "      <td>Travel &amp; Tourism</td>\n",
       "      <td>Unknown / Non-Applicable</td>\n",
       "      <td>-1</td>\n",
       "      <td>-1</td>\n",
       "    </tr>\n",
       "    <tr>\n",
       "      <th>1</th>\n",
       "      <td>1</td>\n",
       "      <td>1</td>\n",
       "      <td>Data Scientist, Product Analytics</td>\n",
       "      <td>$111K-$181K (Glassdoor est.)</td>\n",
       "      <td>At Noom, we use scientifically proven methods ...</td>\n",
       "      <td>4.5</td>\n",
       "      <td>Noom US\\n4.5</td>\n",
       "      <td>New York, NY</td>\n",
       "      <td>New York, NY</td>\n",
       "      <td>1001 to 5000 employees</td>\n",
       "      <td>2008</td>\n",
       "      <td>Company - Private</td>\n",
       "      <td>Health, Beauty, &amp; Fitness</td>\n",
       "      <td>Consumer Services</td>\n",
       "      <td>Unknown / Non-Applicable</td>\n",
       "      <td>-1</td>\n",
       "      <td>-1</td>\n",
       "    </tr>\n",
       "    <tr>\n",
       "      <th>2</th>\n",
       "      <td>2</td>\n",
       "      <td>2</td>\n",
       "      <td>Data Science Manager</td>\n",
       "      <td>$111K-$181K (Glassdoor est.)</td>\n",
       "      <td>Decode_M\\n\\nhttps://www.decode-m.com/\\n\\nData ...</td>\n",
       "      <td>-1.0</td>\n",
       "      <td>Decode_M</td>\n",
       "      <td>New York, NY</td>\n",
       "      <td>New York, NY</td>\n",
       "      <td>1 to 50 employees</td>\n",
       "      <td>-1</td>\n",
       "      <td>Unknown</td>\n",
       "      <td>-1</td>\n",
       "      <td>-1</td>\n",
       "      <td>Unknown / Non-Applicable</td>\n",
       "      <td>-1</td>\n",
       "      <td>True</td>\n",
       "    </tr>\n",
       "    <tr>\n",
       "      <th>3</th>\n",
       "      <td>3</td>\n",
       "      <td>3</td>\n",
       "      <td>Data Analyst</td>\n",
       "      <td>$111K-$181K (Glassdoor est.)</td>\n",
       "      <td>Sapphire Digital seeks a dynamic and driven mi...</td>\n",
       "      <td>3.4</td>\n",
       "      <td>Sapphire Digital\\n3.4</td>\n",
       "      <td>Lyndhurst, NJ</td>\n",
       "      <td>Lyndhurst, NJ</td>\n",
       "      <td>201 to 500 employees</td>\n",
       "      <td>2019</td>\n",
       "      <td>Company - Private</td>\n",
       "      <td>Internet</td>\n",
       "      <td>Information Technology</td>\n",
       "      <td>Unknown / Non-Applicable</td>\n",
       "      <td>Zocdoc, Healthgrades</td>\n",
       "      <td>-1</td>\n",
       "    </tr>\n",
       "    <tr>\n",
       "      <th>4</th>\n",
       "      <td>4</td>\n",
       "      <td>4</td>\n",
       "      <td>Director, Data Science</td>\n",
       "      <td>$111K-$181K (Glassdoor est.)</td>\n",
       "      <td>Director, Data Science - (200537)\\nDescription...</td>\n",
       "      <td>3.4</td>\n",
       "      <td>United Entertainment Group\\n3.4</td>\n",
       "      <td>New York, NY</td>\n",
       "      <td>New York, NY</td>\n",
       "      <td>51 to 200 employees</td>\n",
       "      <td>2007</td>\n",
       "      <td>Company - Private</td>\n",
       "      <td>Advertising &amp; Marketing</td>\n",
       "      <td>Business Services</td>\n",
       "      <td>Unknown / Non-Applicable</td>\n",
       "      <td>BBDO, Grey Group, Droga5</td>\n",
       "      <td>-1</td>\n",
       "    </tr>\n",
       "  </tbody>\n",
       "</table>\n",
       "</div>"
      ],
      "text/plain": [
       "   Unnamed: 0  index                          Job Title  \\\n",
       "0           0      0              Senior Data Scientist   \n",
       "1           1      1  Data Scientist, Product Analytics   \n",
       "2           2      2               Data Science Manager   \n",
       "3           3      3                       Data Analyst   \n",
       "4           4      4             Director, Data Science   \n",
       "\n",
       "                Salary Estimate  \\\n",
       "0  $111K-$181K (Glassdoor est.)   \n",
       "1  $111K-$181K (Glassdoor est.)   \n",
       "2  $111K-$181K (Glassdoor est.)   \n",
       "3  $111K-$181K (Glassdoor est.)   \n",
       "4  $111K-$181K (Glassdoor est.)   \n",
       "\n",
       "                                     Job Description  Rating  \\\n",
       "0  ABOUT HOPPER\\n\\nAt Hopper, we’re on a mission ...     3.5   \n",
       "1  At Noom, we use scientifically proven methods ...     4.5   \n",
       "2  Decode_M\\n\\nhttps://www.decode-m.com/\\n\\nData ...    -1.0   \n",
       "3  Sapphire Digital seeks a dynamic and driven mi...     3.4   \n",
       "4  Director, Data Science - (200537)\\nDescription...     3.4   \n",
       "\n",
       "                      Company Name       Location      Headquarters  \\\n",
       "0                      Hopper\\n3.5   New York, NY  Montreal, Canada   \n",
       "1                     Noom US\\n4.5   New York, NY      New York, NY   \n",
       "2                         Decode_M   New York, NY      New York, NY   \n",
       "3            Sapphire Digital\\n3.4  Lyndhurst, NJ     Lyndhurst, NJ   \n",
       "4  United Entertainment Group\\n3.4   New York, NY      New York, NY   \n",
       "\n",
       "                     Size  Founded  Type of ownership  \\\n",
       "0   501 to 1000 employees     2007  Company - Private   \n",
       "1  1001 to 5000 employees     2008  Company - Private   \n",
       "2       1 to 50 employees       -1            Unknown   \n",
       "3    201 to 500 employees     2019  Company - Private   \n",
       "4     51 to 200 employees     2007  Company - Private   \n",
       "\n",
       "                    Industry                  Sector  \\\n",
       "0            Travel Agencies        Travel & Tourism   \n",
       "1  Health, Beauty, & Fitness       Consumer Services   \n",
       "2                         -1                      -1   \n",
       "3                   Internet  Information Technology   \n",
       "4    Advertising & Marketing       Business Services   \n",
       "\n",
       "                    Revenue               Competitors Easy Apply  \n",
       "0  Unknown / Non-Applicable                        -1         -1  \n",
       "1  Unknown / Non-Applicable                        -1         -1  \n",
       "2  Unknown / Non-Applicable                        -1       True  \n",
       "3  Unknown / Non-Applicable      Zocdoc, Healthgrades         -1  \n",
       "4  Unknown / Non-Applicable  BBDO, Grey Group, Droga5         -1  "
      ]
     },
     "execution_count": 4,
     "metadata": {},
     "output_type": "execute_result"
    }
   ],
   "source": [
    "ds_df = pd.read_csv('DataScientist.csv')\n",
    "ds_df.head()"
   ]
  },
  {
   "cell_type": "markdown",
   "id": "b2f74463",
   "metadata": {},
   "source": [
    "Đầu tiên, ta thấy dữ liệu có đến 2 cột index, ta sẽ không sử dụng 2 cột này, do đó sẽ loại bỏ 2 cột này đi."
   ]
  },
  {
   "cell_type": "code",
   "execution_count": 5,
   "id": "fc22b220",
   "metadata": {},
   "outputs": [],
   "source": [
    "ds_df.drop(columns = ['Unnamed: 0','index'],inplace = True)"
   ]
  },
  {
   "cell_type": "markdown",
   "id": "2d47b4af",
   "metadata": {},
   "source": [
    "### Số lượng dòng và cột của dữ liệu"
   ]
  },
  {
   "cell_type": "code",
   "execution_count": 6,
   "id": "53fa7d1d",
   "metadata": {},
   "outputs": [
    {
     "name": "stdout",
     "output_type": "stream",
     "text": [
      "Number of rows: 3909\n",
      "Number of columns: 15\n"
     ]
    }
   ],
   "source": [
    "n_rows, n_cols = ds_df.shape\n",
    "print(f'Number of rows: {n_rows}')\n",
    "print(f'Number of columns: {n_cols}')"
   ]
  },
  {
   "cell_type": "markdown",
   "id": "4b2a20b4",
   "metadata": {},
   "source": [
    "### Xét xem các dữ liệu có trùng nhau hay không"
   ]
  },
  {
   "cell_type": "code",
   "execution_count": 7,
   "id": "15808744",
   "metadata": {},
   "outputs": [
    {
     "name": "stdout",
     "output_type": "stream",
     "text": [
      "Number of duplicated rows: 0\n"
     ]
    }
   ],
   "source": [
    "print(f'Number of duplicated rows: {sum(ds_df.duplicated())}')"
   ]
  },
  {
   "cell_type": "markdown",
   "id": "70191e56",
   "metadata": {},
   "source": [
    "### Ý nghĩa của các cột trong dataframe\n",
    "(Dựa theo mô tả tại trang web [Kaggle](https://www.kaggle.com/andrewmvd/data-scientist-jobs))\n",
    "\n",
    "- **Job Title:** tên vị trí tuyển dụng.\n",
    "- **Salary Estimate:** mức lương dự kiến.\n",
    "- **Job Description:** mô tả công việc.\n",
    "- **Rating:** điểm đánh giá của công ty.\n",
    "- **Company Name:** tên công ty.\n",
    "- **Location:** địa điểm làm việc.\n",
    "- **Headquarters:** trụ sở chính của công ty.\n",
    "- **Size:** kích thước công ty (số lượng nhân viên).\n",
    "- **Founded:** năm thành lập công ty.\n",
    "- **Type of ownership:** loại hình sở hữu của công ty.\n",
    "- **Industry:** phân loại công nghiệp của công ty.\n",
    "- **Sector:** phân loại ngành của công ty.\n",
    "- **Revenue:** doanh thu của công ty (theo năm).\n",
    "- **Competitors:** công ty đối thủ.\n",
    "- **Easy Apply:** công ty có dễ apply hay không."
   ]
  },
  {
   "cell_type": "markdown",
   "id": "c02c0086",
   "metadata": {},
   "source": [
    "### Sơ lược về dữ liệu trong các cột"
   ]
  },
  {
   "cell_type": "code",
   "execution_count": 8,
   "id": "48123959",
   "metadata": {},
   "outputs": [
    {
     "name": "stdout",
     "output_type": "stream",
     "text": [
      "<class 'pandas.core.frame.DataFrame'>\n",
      "RangeIndex: 3909 entries, 0 to 3908\n",
      "Data columns (total 15 columns):\n",
      " #   Column             Non-Null Count  Dtype  \n",
      "---  ------             --------------  -----  \n",
      " 0   Job Title          3909 non-null   object \n",
      " 1   Salary Estimate    3909 non-null   object \n",
      " 2   Job Description    3909 non-null   object \n",
      " 3   Rating             3909 non-null   float64\n",
      " 4   Company Name       3909 non-null   object \n",
      " 5   Location           3909 non-null   object \n",
      " 6   Headquarters       3909 non-null   object \n",
      " 7   Size               3909 non-null   object \n",
      " 8   Founded            3909 non-null   int64  \n",
      " 9   Type of ownership  3909 non-null   object \n",
      " 10  Industry           3909 non-null   object \n",
      " 11  Sector             3909 non-null   object \n",
      " 12  Revenue            3909 non-null   object \n",
      " 13  Competitors        3909 non-null   object \n",
      " 14  Easy Apply         3909 non-null   object \n",
      "dtypes: float64(1), int64(1), object(13)\n",
      "memory usage: 458.2+ KB\n"
     ]
    }
   ],
   "source": [
    "ds_df.info()"
   ]
  },
  {
   "cell_type": "markdown",
   "id": "a2554c54",
   "metadata": {},
   "source": [
    "### Nhận xét chung\n",
    "\n",
    "- Như ta có thể thấy, dữ liệu không có bất kì dòng nào thiếu hay trùng lắp. Tuy nhiên, khi quan sát bảng dữ liệu ở phía trên, dễ nhận ra tác giả đã thay thế các dữ liệu (có thể là bị thiếu) bằng giá trị `-1`.\n",
    "- Những cột đáng lẽ cần phải ở kiểu dữ liệu là số như `Salary Estimate`, `Size` thì lại có kiểu dữ liệu là object, ta cần phải xử lí những cột này.\n",
    "- Cột `Company Name` có vẻ bị lỗi khi thu thập dữ liệu (tên công ty gắn liền với rating).\n",
    "- Cột `Easy Apply` chỉ nên có giá trị `True` hoặc `False`.\n",
    "- ...\n",
    "\n",
    "Ta không quan sát được toàn bộ dữ liệu, do đó, ta sẽ phân tích và tiền xử lí cho từng cột trong phần tiền xử lí dữ liệu."
   ]
  },
  {
   "cell_type": "markdown",
   "id": "af4f1ee4",
   "metadata": {},
   "source": [
    "## Tiền xử lí dữ liệu"
   ]
  },
  {
   "cell_type": "markdown",
   "id": "203d5dbb",
   "metadata": {},
   "source": [
    "### Các giá trị của cột Job Title liệu đã đúng hay chưa?"
   ]
  },
  {
   "cell_type": "markdown",
   "id": "eadfd0c7",
   "metadata": {},
   "source": [
    "Trước tiên, ta quan sát 20 giá trị xuất hiện nhiều nhất và ít nhất."
   ]
  },
  {
   "cell_type": "code",
   "execution_count": 9,
   "id": "5fc91c47",
   "metadata": {},
   "outputs": [
    {
     "data": {
      "text/html": [
       "<div>\n",
       "<style scoped>\n",
       "    .dataframe tbody tr th:only-of-type {\n",
       "        vertical-align: middle;\n",
       "    }\n",
       "\n",
       "    .dataframe tbody tr th {\n",
       "        vertical-align: top;\n",
       "    }\n",
       "\n",
       "    .dataframe thead th {\n",
       "        text-align: right;\n",
       "    }\n",
       "</style>\n",
       "<table border=\"1\" class=\"dataframe\">\n",
       "  <thead>\n",
       "    <tr style=\"text-align: right;\">\n",
       "      <th></th>\n",
       "      <th>Job Title</th>\n",
       "      <th>count</th>\n",
       "      <th>Job Title</th>\n",
       "      <th>count</th>\n",
       "    </tr>\n",
       "  </thead>\n",
       "  <tbody>\n",
       "    <tr>\n",
       "      <th>0</th>\n",
       "      <td>Data Scientist</td>\n",
       "      <td>274</td>\n",
       "      <td>Scientist I, QC Aero Star 1st shift</td>\n",
       "      <td>1</td>\n",
       "    </tr>\n",
       "    <tr>\n",
       "      <th>1</th>\n",
       "      <td>Data Engineer</td>\n",
       "      <td>260</td>\n",
       "      <td>AI Scientist - Data &amp; AI Platform</td>\n",
       "      <td>1</td>\n",
       "    </tr>\n",
       "    <tr>\n",
       "      <th>2</th>\n",
       "      <td>Data Analyst</td>\n",
       "      <td>246</td>\n",
       "      <td>Urgent Need - Data Analyst</td>\n",
       "      <td>1</td>\n",
       "    </tr>\n",
       "    <tr>\n",
       "      <th>3</th>\n",
       "      <td>Senior Data Scientist</td>\n",
       "      <td>91</td>\n",
       "      <td>Scientist - Combustion</td>\n",
       "      <td>1</td>\n",
       "    </tr>\n",
       "    <tr>\n",
       "      <th>4</th>\n",
       "      <td>Machine Learning Engineer</td>\n",
       "      <td>47</td>\n",
       "      <td>Scientist - Biomarker and Flow Cytometry</td>\n",
       "      <td>1</td>\n",
       "    </tr>\n",
       "    <tr>\n",
       "      <th>5</th>\n",
       "      <td>Senior Data Analyst</td>\n",
       "      <td>47</td>\n",
       "      <td>Data Scientist - Sr. Analyst</td>\n",
       "      <td>1</td>\n",
       "    </tr>\n",
       "    <tr>\n",
       "      <th>6</th>\n",
       "      <td>Big Data Engineer</td>\n",
       "      <td>41</td>\n",
       "      <td>Senior Data Analyst- Guidewire Data Hub</td>\n",
       "      <td>1</td>\n",
       "    </tr>\n",
       "    <tr>\n",
       "      <th>7</th>\n",
       "      <td>Business Intelligence Analyst</td>\n",
       "      <td>39</td>\n",
       "      <td>Data Analyst/Engineer</td>\n",
       "      <td>1</td>\n",
       "    </tr>\n",
       "    <tr>\n",
       "      <th>8</th>\n",
       "      <td>Senior Data Engineer</td>\n",
       "      <td>37</td>\n",
       "      <td>Senior Data Engineer - Apps Systems Engineer 5</td>\n",
       "      <td>1</td>\n",
       "    </tr>\n",
       "    <tr>\n",
       "      <th>9</th>\n",
       "      <td>Sr. Data Scientist</td>\n",
       "      <td>23</td>\n",
       "      <td>Scientist III, QC Aero Star 2nd Shift</td>\n",
       "      <td>1</td>\n",
       "    </tr>\n",
       "    <tr>\n",
       "      <th>10</th>\n",
       "      <td>Lead Data Scientist</td>\n",
       "      <td>23</td>\n",
       "      <td>Product Manager - Data Science</td>\n",
       "      <td>1</td>\n",
       "    </tr>\n",
       "    <tr>\n",
       "      <th>11</th>\n",
       "      <td>Research Scientist</td>\n",
       "      <td>22</td>\n",
       "      <td>DATA Scientist</td>\n",
       "      <td>1</td>\n",
       "    </tr>\n",
       "    <tr>\n",
       "      <th>12</th>\n",
       "      <td>Data Modeler</td>\n",
       "      <td>17</td>\n",
       "      <td>Sr. Big data Ebgineer</td>\n",
       "      <td>1</td>\n",
       "    </tr>\n",
       "    <tr>\n",
       "      <th>13</th>\n",
       "      <td>Junior Data Analyst</td>\n",
       "      <td>15</td>\n",
       "      <td>Senior Marketing Data Scientist II</td>\n",
       "      <td>1</td>\n",
       "    </tr>\n",
       "    <tr>\n",
       "      <th>14</th>\n",
       "      <td>Principal Data Scientist</td>\n",
       "      <td>15</td>\n",
       "      <td>Senior Principal, Quantitative Researcher - Sales</td>\n",
       "      <td>1</td>\n",
       "    </tr>\n",
       "    <tr>\n",
       "      <th>15</th>\n",
       "      <td>Statistician (Data Scientist) *12 month Roster...</td>\n",
       "      <td>14</td>\n",
       "      <td>Senior Data Engineer (ASE5) Asset and Liabilit...</td>\n",
       "      <td>1</td>\n",
       "    </tr>\n",
       "    <tr>\n",
       "      <th>16</th>\n",
       "      <td>Scientist</td>\n",
       "      <td>13</td>\n",
       "      <td>Data Engineer - Cognitive Computing</td>\n",
       "      <td>1</td>\n",
       "    </tr>\n",
       "    <tr>\n",
       "      <th>17</th>\n",
       "      <td>Sr. Data Engineer</td>\n",
       "      <td>13</td>\n",
       "      <td>Data Scientist — Risk</td>\n",
       "      <td>1</td>\n",
       "    </tr>\n",
       "    <tr>\n",
       "      <th>18</th>\n",
       "      <td>Federal - Data Scientist</td>\n",
       "      <td>13</td>\n",
       "      <td>Splunk SME / Data Analyst _ TXho_</td>\n",
       "      <td>1</td>\n",
       "    </tr>\n",
       "    <tr>\n",
       "      <th>19</th>\n",
       "      <td>Business Data Analyst</td>\n",
       "      <td>11</td>\n",
       "      <td>Quantitative Research Scientist</td>\n",
       "      <td>1</td>\n",
       "    </tr>\n",
       "  </tbody>\n",
       "</table>\n",
       "</div>"
      ],
      "text/plain": [
       "                                            Job Title  count  \\\n",
       "0                                      Data Scientist    274   \n",
       "1                                       Data Engineer    260   \n",
       "2                                        Data Analyst    246   \n",
       "3                               Senior Data Scientist     91   \n",
       "4                           Machine Learning Engineer     47   \n",
       "5                                 Senior Data Analyst     47   \n",
       "6                                   Big Data Engineer     41   \n",
       "7                       Business Intelligence Analyst     39   \n",
       "8                                Senior Data Engineer     37   \n",
       "9                                  Sr. Data Scientist     23   \n",
       "10                                Lead Data Scientist     23   \n",
       "11                                 Research Scientist     22   \n",
       "12                                       Data Modeler     17   \n",
       "13                                Junior Data Analyst     15   \n",
       "14                           Principal Data Scientist     15   \n",
       "15  Statistician (Data Scientist) *12 month Roster...     14   \n",
       "16                                          Scientist     13   \n",
       "17                                  Sr. Data Engineer     13   \n",
       "18                           Federal - Data Scientist     13   \n",
       "19                              Business Data Analyst     11   \n",
       "\n",
       "                                            Job Title  count  \n",
       "0                 Scientist I, QC Aero Star 1st shift      1  \n",
       "1                   AI Scientist - Data & AI Platform      1  \n",
       "2                          Urgent Need - Data Analyst      1  \n",
       "3                              Scientist - Combustion      1  \n",
       "4            Scientist - Biomarker and Flow Cytometry      1  \n",
       "5                        Data Scientist - Sr. Analyst      1  \n",
       "6             Senior Data Analyst- Guidewire Data Hub      1  \n",
       "7                               Data Analyst/Engineer      1  \n",
       "8      Senior Data Engineer - Apps Systems Engineer 5      1  \n",
       "9               Scientist III, QC Aero Star 2nd Shift      1  \n",
       "10                     Product Manager - Data Science      1  \n",
       "11                                     DATA Scientist      1  \n",
       "12                              Sr. Big data Ebgineer      1  \n",
       "13                 Senior Marketing Data Scientist II      1  \n",
       "14  Senior Principal, Quantitative Researcher - Sales      1  \n",
       "15  Senior Data Engineer (ASE5) Asset and Liabilit...      1  \n",
       "16                Data Engineer - Cognitive Computing      1  \n",
       "17                              Data Scientist — Risk      1  \n",
       "18                  Splunk SME / Data Analyst _ TXho_      1  \n",
       "19                    Quantitative Research Scientist      1  "
      ]
     },
     "execution_count": 9,
     "metadata": {},
     "output_type": "execute_result"
    }
   ],
   "source": [
    "job_title_first_20 = ds_df['Job Title'].value_counts()[:20].reset_index()\n",
    "job_title_last_20 = ds_df['Job Title'].value_counts()[-20:].reset_index()\n",
    "pd.concat([job_title_first_20,job_title_last_20],axis=1).rename(columns = {'Job Title':'count','index':'Job Title'})"
   ]
  },
  {
   "cell_type": "markdown",
   "id": "8217a782",
   "metadata": {},
   "source": [
    "Có thể thấy, thông tin `Job Title` được miêu tả khá \"lộn xộn\" có thể là: tuyển nhiều vị trí cùng lúc, ghi tên vị trí cùng thời gian làm việc. Do đó, ta sẽ xử lý để cột chỉ thể hiện một công việc chính (xem việc được nhắc đến đầu tiên là công việc chính). Ngoài ra, có vài vị trí là như nhau nhưng sử dụng thuật ngữ khác nhau (Sr., Senior) ta sẽ xử lý những giá trị này để chúng thể hiện cùng từ ngữ."
   ]
  },
  {
   "cell_type": "code",
   "execution_count": 10,
   "id": "1371de58",
   "metadata": {},
   "outputs": [
    {
     "data": {
      "text/plain": [
       "Data Scientist                                             357\n",
       "Data Engineer                                              290\n",
       "Data Analyst                                               278\n",
       "Senior Data Scientist                                      105\n",
       "Data Scientist                                              70\n",
       "                                                          ... \n",
       "Associate Product Development Scientist                      1\n",
       "Data Scientist (ML and Image Processing)                     1\n",
       "Data Scientist (Individual Contributors and Team Leads)      1\n",
       "EUV Staff Systems Scientist                                  1\n",
       "Quantitative Research Scientist                              1\n",
       "Name: Job Title, Length: 1378, dtype: int64"
      ]
     },
     "execution_count": 10,
     "metadata": {},
     "output_type": "execute_result"
    }
   ],
   "source": [
    "ds_df['Job Title'] = ds_df['Job Title'].apply(lambda x:''.join(re.compile(\"[,\\/-]\").split(x)[:1]))\n",
    "ds_df['Job Title'].value_counts()"
   ]
  },
  {
   "cell_type": "code",
   "execution_count": 11,
   "id": "5dc1b87f",
   "metadata": {},
   "outputs": [],
   "source": [
    "ds_df['Job Title'] = ds_df['Job Title'].str.replace('Sr.','Senior',regex=False)\n",
    "ds_df['Job Title'] = ds_df['Job Title'].str.replace('Jr.','Junior',regex=False)"
   ]
  },
  {
   "cell_type": "markdown",
   "id": "5c97879b",
   "metadata": {},
   "source": [
    "### Tiền xử lý cột Salary Estimate\n"
   ]
  },
  {
   "cell_type": "markdown",
   "id": "6eb1fe90",
   "metadata": {},
   "source": [
    "Cột này bao gồm các giá trị là khoảng ước tính, do đó ta sẽ tách thành 2 cột min và max, sau đó loại bỏ cột ban đầu."
   ]
  },
  {
   "cell_type": "code",
   "execution_count": 12,
   "id": "682e2b39",
   "metadata": {},
   "outputs": [],
   "source": [
    "def split_to_minmax(s):\n",
    "    value_range = [int(d) for d in re.findall(r'\\d+',s)]\n",
    "    return value_range\n",
    "ds_df[['SalaryMin','SalaryMax']] = pd.DataFrame(ds_df['Salary Estimate'].apply(split_to_minmax).to_list())\n",
    "ds_df.drop(columns=['Salary Estimate'],inplace = True)"
   ]
  },
  {
   "cell_type": "markdown",
   "id": "87ae77e0",
   "metadata": {},
   "source": [
    "### Tiền xử lý cột Rating"
   ]
  },
  {
   "cell_type": "code",
   "execution_count": 13,
   "id": "472aa6ff",
   "metadata": {
    "scrolled": true
   },
   "outputs": [
    {
     "data": {
      "text/plain": [
       "array([ 3.5,  4.5, -1. ,  3.4,  2.9,  4.4,  5. ,  4.8,  3.9,  4.3,  3. ,\n",
       "        3.6,  3.3,  4. ,  4.1,  3.8,  3.7,  4.2,  4.6,  4.7,  3.2,  2.8,\n",
       "        2.7,  4.9,  2.5,  1. ,  1.9,  3.1,  1.6,  2.6,  2.1,  2.3,  2.4,\n",
       "        2. ,  2.2,  1.5,  1.7])"
      ]
     },
     "execution_count": 13,
     "metadata": {},
     "output_type": "execute_result"
    }
   ],
   "source": [
    "ds_df['Rating'].unique()"
   ]
  },
  {
   "cell_type": "markdown",
   "id": "3b36ceed",
   "metadata": {},
   "source": [
    "Cột `Rating` có khá nhiều giá trị thiếu được đánh dấu bằng giá trị `-1`. Ta sẽ thay thế các giá trị này bằng trung bình của các giá trị còn lại."
   ]
  },
  {
   "cell_type": "code",
   "execution_count": 14,
   "id": "1e6d02c0",
   "metadata": {},
   "outputs": [],
   "source": [
    "# Thay giá trị -1 thành nan\n",
    "ds_df['Rating'].replace(-1,np.nan,inplace = True)\n",
    "# Tính mean của các giá trị khác nan\n",
    "mean = ds_df['Rating'].mean(skipna = True).round(1)\n",
    "# Thay thế các giá trị nan bằng mean\n",
    "ds_df['Rating'].replace(np.nan,mean,inplace = True)"
   ]
  },
  {
   "cell_type": "markdown",
   "id": "7fb01039",
   "metadata": {},
   "source": [
    "### Loại bỏ rating trong Company name"
   ]
  },
  {
   "cell_type": "markdown",
   "id": "86e3b2e4",
   "metadata": {},
   "source": [
    "Như đã nói ở phần Khám phá dữ liệu, cột `Company Name` đã bị lỗi khi thu thập dữ liệu (tên công ty gắn liền với rating). Vì đã có cột `Rating` nên ta sẽ thực hiện xóa phần rating bị thừa trong cột này."
   ]
  },
  {
   "cell_type": "code",
   "execution_count": 15,
   "id": "01912a9b",
   "metadata": {},
   "outputs": [],
   "source": [
    "ds_df['Company Name'] = ds_df['Company Name'].str.split('\\n').str[0]"
   ]
  },
  {
   "cell_type": "markdown",
   "id": "66f8c03d",
   "metadata": {},
   "source": [
    "### Tiền xử lý cột Location và loại bỏ missing value"
   ]
  },
  {
   "cell_type": "code",
   "execution_count": 16,
   "id": "64cd9efa",
   "metadata": {},
   "outputs": [],
   "source": [
    "ds_df['Location'].replace('-1',np.nan,inplace = True)"
   ]
  },
  {
   "cell_type": "code",
   "execution_count": 17,
   "id": "4dbd86be",
   "metadata": {},
   "outputs": [
    {
     "data": {
      "text/plain": [
       "Austin, TX                   345\n",
       "Chicago, IL                  330\n",
       "San Diego, CA                304\n",
       "New York, NY                 303\n",
       "Houston, TX                  219\n",
       "                            ... \n",
       "Bedford, TX                    1\n",
       "Monaco, CA                     1\n",
       "Duarte, CA                     1\n",
       "West University Place, TX      1\n",
       "Ridley Park, PA                1\n",
       "Name: Location, Length: 191, dtype: int64"
      ]
     },
     "execution_count": 17,
     "metadata": {},
     "output_type": "execute_result"
    }
   ],
   "source": [
    "ds_df['Location'].value_counts()"
   ]
  },
  {
   "cell_type": "markdown",
   "id": "ee2c59e8",
   "metadata": {},
   "source": [
    "Trong cột `Location`, mỗi giá trị bao gồm tên thành phố và tên bang cách nhau bởi dấu `,`. Ta sẽ tách các giá trị này thành 2 cột là `City` và `State`."
   ]
  },
  {
   "cell_type": "code",
   "execution_count": 18,
   "id": "09ddb7e8",
   "metadata": {},
   "outputs": [],
   "source": [
    "ds_df[['City','State']] = ds_df['Location'].str.split(', ',expand=True)\n",
    "ds_df.drop(columns = ['Location'], inplace = True)"
   ]
  },
  {
   "cell_type": "markdown",
   "id": "df9043c5",
   "metadata": {},
   "source": [
    "### Tách tên thành phố trong cột Headquarters và xử lý missing value"
   ]
  },
  {
   "cell_type": "code",
   "execution_count": 19,
   "id": "96d72ecb",
   "metadata": {},
   "outputs": [],
   "source": [
    "ds_df['Headquarters'].replace('-1',np.nan,inplace = True)"
   ]
  },
  {
   "cell_type": "code",
   "execution_count": 20,
   "id": "20a92fa7",
   "metadata": {},
   "outputs": [
    {
     "data": {
      "text/html": [
       "<div>\n",
       "<style scoped>\n",
       "    .dataframe tbody tr th:only-of-type {\n",
       "        vertical-align: middle;\n",
       "    }\n",
       "\n",
       "    .dataframe tbody tr th {\n",
       "        vertical-align: top;\n",
       "    }\n",
       "\n",
       "    .dataframe thead th {\n",
       "        text-align: right;\n",
       "    }\n",
       "</style>\n",
       "<table border=\"1\" class=\"dataframe\">\n",
       "  <thead>\n",
       "    <tr style=\"text-align: right;\">\n",
       "      <th></th>\n",
       "      <th>0</th>\n",
       "      <th>1</th>\n",
       "      <th>2</th>\n",
       "    </tr>\n",
       "  </thead>\n",
       "  <tbody>\n",
       "    <tr>\n",
       "      <th>0</th>\n",
       "      <td>Montreal</td>\n",
       "      <td>Canada</td>\n",
       "      <td>None</td>\n",
       "    </tr>\n",
       "    <tr>\n",
       "      <th>1</th>\n",
       "      <td>New York</td>\n",
       "      <td>NY</td>\n",
       "      <td>None</td>\n",
       "    </tr>\n",
       "    <tr>\n",
       "      <th>2</th>\n",
       "      <td>New York</td>\n",
       "      <td>NY</td>\n",
       "      <td>None</td>\n",
       "    </tr>\n",
       "    <tr>\n",
       "      <th>3</th>\n",
       "      <td>Lyndhurst</td>\n",
       "      <td>NJ</td>\n",
       "      <td>None</td>\n",
       "    </tr>\n",
       "    <tr>\n",
       "      <th>4</th>\n",
       "      <td>New York</td>\n",
       "      <td>NY</td>\n",
       "      <td>None</td>\n",
       "    </tr>\n",
       "    <tr>\n",
       "      <th>...</th>\n",
       "      <td>...</td>\n",
       "      <td>...</td>\n",
       "      <td>...</td>\n",
       "    </tr>\n",
       "    <tr>\n",
       "      <th>3904</th>\n",
       "      <td>Irving</td>\n",
       "      <td>TX</td>\n",
       "      <td>None</td>\n",
       "    </tr>\n",
       "    <tr>\n",
       "      <th>3905</th>\n",
       "      <td>Woodridge</td>\n",
       "      <td>IL</td>\n",
       "      <td>None</td>\n",
       "    </tr>\n",
       "    <tr>\n",
       "      <th>3906</th>\n",
       "      <td>Irving</td>\n",
       "      <td>TX</td>\n",
       "      <td>None</td>\n",
       "    </tr>\n",
       "    <tr>\n",
       "      <th>3907</th>\n",
       "      <td>Omaha</td>\n",
       "      <td>NE</td>\n",
       "      <td>None</td>\n",
       "    </tr>\n",
       "    <tr>\n",
       "      <th>3908</th>\n",
       "      <td>Brussel</td>\n",
       "      <td>Belgium</td>\n",
       "      <td>None</td>\n",
       "    </tr>\n",
       "  </tbody>\n",
       "</table>\n",
       "<p>3909 rows × 3 columns</p>\n",
       "</div>"
      ],
      "text/plain": [
       "              0         1     2\n",
       "0      Montreal    Canada  None\n",
       "1      New York        NY  None\n",
       "2      New York        NY  None\n",
       "3     Lyndhurst        NJ  None\n",
       "4      New York        NY  None\n",
       "...         ...       ...   ...\n",
       "3904     Irving        TX  None\n",
       "3905  Woodridge        IL  None\n",
       "3906     Irving        TX  None\n",
       "3907      Omaha        NE  None\n",
       "3908    Brussel   Belgium  None\n",
       "\n",
       "[3909 rows x 3 columns]"
      ]
     },
     "execution_count": 20,
     "metadata": {},
     "output_type": "execute_result"
    }
   ],
   "source": [
    "headquarters_splited = ds_df['Headquarters'].str.split(',',expand=True)\n",
    "headquarters_splited"
   ]
  },
  {
   "cell_type": "markdown",
   "id": "64b86e3b",
   "metadata": {},
   "source": [
    "Một số công ty có định dạng `Headquarters` khác với công ty còn lại, ta sẽ xem xét và giải quyết các giá trị đặc biệt này."
   ]
  },
  {
   "cell_type": "code",
   "execution_count": 21,
   "id": "02e18ce6",
   "metadata": {},
   "outputs": [
    {
     "data": {
      "text/html": [
       "<div>\n",
       "<style scoped>\n",
       "    .dataframe tbody tr th:only-of-type {\n",
       "        vertical-align: middle;\n",
       "    }\n",
       "\n",
       "    .dataframe tbody tr th {\n",
       "        vertical-align: top;\n",
       "    }\n",
       "\n",
       "    .dataframe thead th {\n",
       "        text-align: right;\n",
       "    }\n",
       "</style>\n",
       "<table border=\"1\" class=\"dataframe\">\n",
       "  <thead>\n",
       "    <tr style=\"text-align: right;\">\n",
       "      <th></th>\n",
       "      <th>0</th>\n",
       "      <th>1</th>\n",
       "      <th>2</th>\n",
       "    </tr>\n",
       "  </thead>\n",
       "  <tbody>\n",
       "    <tr>\n",
       "      <th>142</th>\n",
       "      <td>New York</td>\n",
       "      <td>NY (US)</td>\n",
       "      <td>NY</td>\n",
       "    </tr>\n",
       "    <tr>\n",
       "      <th>303</th>\n",
       "      <td>New York</td>\n",
       "      <td>NY (US)</td>\n",
       "      <td>NY</td>\n",
       "    </tr>\n",
       "    <tr>\n",
       "      <th>1686</th>\n",
       "      <td>Philadelphia</td>\n",
       "      <td>PA (US)</td>\n",
       "      <td>PA</td>\n",
       "    </tr>\n",
       "    <tr>\n",
       "      <th>1751</th>\n",
       "      <td>Philadelphia</td>\n",
       "      <td>PA (US)</td>\n",
       "      <td>PA</td>\n",
       "    </tr>\n",
       "    <tr>\n",
       "      <th>1816</th>\n",
       "      <td>New York</td>\n",
       "      <td>NY (US)</td>\n",
       "      <td>NY</td>\n",
       "    </tr>\n",
       "    <tr>\n",
       "      <th>2118</th>\n",
       "      <td>San Marcos</td>\n",
       "      <td>CA (US)</td>\n",
       "      <td>CA</td>\n",
       "    </tr>\n",
       "  </tbody>\n",
       "</table>\n",
       "</div>"
      ],
      "text/plain": [
       "                 0         1    2\n",
       "142       New York   NY (US)   NY\n",
       "303       New York   NY (US)   NY\n",
       "1686  Philadelphia   PA (US)   PA\n",
       "1751  Philadelphia   PA (US)   PA\n",
       "1816      New York   NY (US)   NY\n",
       "2118    San Marcos   CA (US)   CA"
      ]
     },
     "execution_count": 21,
     "metadata": {},
     "output_type": "execute_result"
    }
   ],
   "source": [
    "headquarters_splited[~headquarters_splited[2].isnull()]"
   ]
  },
  {
   "cell_type": "markdown",
   "id": "0c45c4e0",
   "metadata": {},
   "source": [
    "Như vậy, các định dạng khác thường là do một số công ty ghi thêm quốc gia, ta sẽ loại bỏ các giá trị này, sau đó loại bỏ cột 2."
   ]
  },
  {
   "cell_type": "code",
   "execution_count": 22,
   "id": "c66c5617",
   "metadata": {},
   "outputs": [],
   "source": [
    "headquarters_splited[1] = headquarters_splited[1].str.replace('\\(\\w*\\)','',regex=True)\n",
    "headquarters_splited[1] = headquarters_splited[1].str.strip()\n",
    "headquarters_splited.drop(columns=[2],inplace=True)"
   ]
  },
  {
   "cell_type": "markdown",
   "id": "3a937901",
   "metadata": {},
   "source": [
    "Sau khi đã phân tách thành 2 cột, ta tạo ra 2 cột mới tương ứng là `Headquarters_City` và `Headquarters_State/Country` trong `ds_df` và loại bỏ đi cột `Headquarters`."
   ]
  },
  {
   "cell_type": "code",
   "execution_count": 23,
   "id": "5856d3be",
   "metadata": {
    "scrolled": true
   },
   "outputs": [],
   "source": [
    "ds_df[['Headquarters_City','Headquarters_State/Country']] = headquarters_splited\n",
    "ds_df.drop(columns=['Headquarters'],inplace = True)"
   ]
  },
  {
   "cell_type": "markdown",
   "id": "84ef87b5",
   "metadata": {},
   "source": [
    "### Tiền xử lý cột Size"
   ]
  },
  {
   "cell_type": "code",
   "execution_count": 24,
   "id": "e31302e9",
   "metadata": {},
   "outputs": [
    {
     "data": {
      "text/plain": [
       "10000+ employees           993\n",
       "51 to 200 employees        563\n",
       "1001 to 5000 employees     553\n",
       "1 to 50 employees          550\n",
       "201 to 500 employees       418\n",
       "501 to 1000 employees      307\n",
       "-1                         229\n",
       "5001 to 10000 employees    219\n",
       "Unknown                     77\n",
       "Name: Size, dtype: int64"
      ]
     },
     "execution_count": 24,
     "metadata": {},
     "output_type": "execute_result"
    }
   ],
   "source": [
    "ds_df['Size'].value_counts()"
   ]
  },
  {
   "cell_type": "markdown",
   "id": "a2cbc278",
   "metadata": {},
   "source": [
    "Cột `Size` gồm 3 kiểu thể hiện dữ liệu: gồm `-1` cho các giá trị thiếu, `Unknown` là các giá trị mà công ty không cung cấp và còn lại là các khoảng. Ta sẽ tiền xử lí cột này như sau:\n",
    "* Các giá trị `-1` và `Unknown` sẽ thay thế bằng giá trị `NaN`.\n",
    "* Các giá trị là các khoảng, ta sẽ chuyển thành giá trị trung bình, riêng khoảng lớn nhất sẽ dùng giá trị phân chia (e.g `10000+ employees` sẽ thay bằng giá trị `10000`)."
   ]
  },
  {
   "cell_type": "code",
   "execution_count": 25,
   "id": "c675d7ff",
   "metadata": {},
   "outputs": [],
   "source": [
    "def convert_to_mean(s):\n",
    "    if type(s) != str:\n",
    "        return\n",
    "    value_range = [int(d) for d in re.findall(r'\\d+',s)]\n",
    "    return math.floor(sum(value_range)/len(value_range))\n",
    "# Chuyển giá trị -1 và Unknown thành nan\n",
    "ds_df['Size'].replace('-1',np.nan,inplace = True)\n",
    "ds_df['Size'].replace('Unknown',np.nan,inplace = True)\n",
    "# Biến đổi các khoảng thành giá trị trung bình\n",
    "ds_df['Size']=ds_df['Size'].apply(convert_to_mean)"
   ]
  },
  {
   "cell_type": "markdown",
   "id": "59862b25",
   "metadata": {},
   "source": [
    "### Tiền xử lý cột Founded "
   ]
  },
  {
   "cell_type": "code",
   "execution_count": 26,
   "id": "fae750d5",
   "metadata": {},
   "outputs": [
    {
     "data": {
      "text/plain": [
       "-1       977\n",
       " 1625      2\n",
       " 1682      1\n",
       " 1740      9\n",
       " 1775     13\n",
       "        ... \n",
       " 2016     49\n",
       " 2017     40\n",
       " 2018     27\n",
       " 2019     14\n",
       " 2020      1\n",
       "Name: Founded, Length: 173, dtype: int64"
      ]
     },
     "execution_count": 26,
     "metadata": {},
     "output_type": "execute_result"
    }
   ],
   "source": [
    "ds_df['Founded'].value_counts().sort_index()"
   ]
  },
  {
   "cell_type": "markdown",
   "id": "c8c4f286",
   "metadata": {},
   "source": [
    "Cột `Founded` có khá nhiều giá trị thiếu, tác giả đã đánh dấu bằng giá trị `-1`. Ta không có cách nào để xác định năm thành lập của những công ty này. Do đó, để tiện cho việc tính toán các tác vụ về sau (tính giá trị thiếu,...), ta sẽ chuyển các giá trị `-1` về `NaN`."
   ]
  },
  {
   "cell_type": "code",
   "execution_count": 27,
   "id": "91351d28",
   "metadata": {
    "scrolled": false
   },
   "outputs": [
    {
     "data": {
      "text/plain": [
       "array([2007., 2008.,   nan, 2019., 1985., 1993., 2018., 2000., 2014.,\n",
       "       2011., 1999., 2001., 1998., 2005., 1943., 2012., 1923., 2003.,\n",
       "       2002., 2015., 2006., 2010., 1853., 1990., 1914., 2013., 2004.,\n",
       "       1799., 1935., 1995., 1994., 1988., 1917., 1947., 1981., 1940.,\n",
       "       1841., 2017., 1896., 2009., 1898., 1968., 1862., 1934., 1992.,\n",
       "       2016., 1984., 1987., 1966., 1976., 1871., 1625., 1997., 1967.,\n",
       "       1948., 1913., 1989., 1893., 1904., 1911., 1961., 1806., 1969.,\n",
       "       1945., 1784., 1857., 1971., 1852., 1922., 1851., 1956., 1906.,\n",
       "       1973., 1960., 1975., 1982., 1996., 1931., 1986., 1902., 1909.,\n",
       "       1880., 1946., 1970., 1979., 1977., 1965., 1954., 1850., 1980.,\n",
       "       1919., 1983., 1888., 1978., 1872., 1831., 1936., 1939., 1937.,\n",
       "       1928., 1991., 1929., 1944., 1901., 1974., 1925., 1817., 1963.,\n",
       "       1894., 1890., 1882., 1892., 1908., 1926., 1883., 1845., 1849.,\n",
       "       1918., 1900., 1889., 1837., 1930., 1877., 1910., 1962., 1955.,\n",
       "       1897., 1949., 1972., 1941., 1957., 1924., 1891., 1864., 1951.,\n",
       "       1847., 1775., 1843., 1855., 1740., 1792., 1830., 1887., 1682.,\n",
       "       1881., 1824., 1916., 1812., 1905., 1953., 1876., 1848., 1858.,\n",
       "       1958., 1938., 1868., 1781., 1895., 1869., 1921., 2020., 1865.,\n",
       "       1933., 1907., 1927., 1950., 1952., 1870., 1912., 1920., 1932.,\n",
       "       1803., 1866.])"
      ]
     },
     "execution_count": 27,
     "metadata": {},
     "output_type": "execute_result"
    }
   ],
   "source": [
    "ds_df['Founded'].replace(-1,np.nan,inplace = True)\n",
    "ds_df['Founded'].unique()"
   ]
  },
  {
   "cell_type": "markdown",
   "id": "90d1b50e",
   "metadata": {},
   "source": [
    "Quan sát cột `Founded` các giá trị còn lại đều đã chính xác. Kiểu dữ liệu `int64` đã phù hợp với ý nghĩa của cột là năm thành lập công ty."
   ]
  },
  {
   "cell_type": "markdown",
   "id": "bbf3bc74",
   "metadata": {},
   "source": [
    "### Tiền xử lý cột Industry "
   ]
  },
  {
   "cell_type": "code",
   "execution_count": 28,
   "id": "be823f31",
   "metadata": {
    "scrolled": true
   },
   "outputs": [
    {
     "data": {
      "text/plain": [
       "-1                              546\n",
       "IT Services                     472\n",
       "Staffing & Outsourcing          313\n",
       "Biotech & Pharmaceuticals       293\n",
       "Computer Hardware & Software    264\n",
       "                               ... \n",
       "Auto Repair & Maintenance         1\n",
       "Metals Brokers                    1\n",
       "Truck Rental & Leasing            1\n",
       "Shipping                          1\n",
       "Sporting Goods Stores             1\n",
       "Name: Industry, Length: 96, dtype: int64"
      ]
     },
     "execution_count": 28,
     "metadata": {},
     "output_type": "execute_result"
    }
   ],
   "source": [
    "ds_df['Industry'].value_counts()"
   ]
  },
  {
   "cell_type": "markdown",
   "id": "00071465",
   "metadata": {},
   "source": [
    "Tương tự cột `Founded`, cột `Industry` cũng có các giá trị thiếu được đánh dấu bằng giá trị `-1`. Ta sẽ chuyển giá trị này thành `NaN`."
   ]
  },
  {
   "cell_type": "code",
   "execution_count": 29,
   "id": "5393f994",
   "metadata": {},
   "outputs": [],
   "source": [
    "ds_df['Industry'].replace('-1',np.nan,inplace = True)"
   ]
  },
  {
   "cell_type": "markdown",
   "id": "21c46667",
   "metadata": {},
   "source": [
    "### Tiền xử lý cột Revenue "
   ]
  },
  {
   "cell_type": "code",
   "execution_count": 30,
   "id": "7022a529",
   "metadata": {},
   "outputs": [
    {
     "data": {
      "text/plain": [
       "Unknown / Non-Applicable            1163\n",
       "$10+ billion (USD)                   599\n",
       "$100 to $500 million (USD)           338\n",
       "-1                                   229\n",
       "$50 to $100 million (USD)            214\n",
       "$2 to $5 billion (USD)               211\n",
       "$10 to $25 million (USD)             191\n",
       "$1 to $2 billion (USD)               180\n",
       "$1 to $5 million (USD)               170\n",
       "$25 to $50 million (USD)             143\n",
       "$5 to $10 billion (USD)              133\n",
       "Less than $1 million (USD)           124\n",
       "$500 million to $1 billion (USD)     114\n",
       "$5 to $10 million (USD)              100\n",
       "Name: Revenue, dtype: int64"
      ]
     },
     "execution_count": 30,
     "metadata": {},
     "output_type": "execute_result"
    }
   ],
   "source": [
    "ds_df[\"Revenue\"].value_counts()"
   ]
  },
  {
   "cell_type": "markdown",
   "id": "d196e920",
   "metadata": {},
   "source": [
    "Như có thể quan sát, cột này có 3 kiểu thể hiện dữ liệu: giá trị thiếu đánh dấu bằng `-1`, giá trị `Unknown / Non-Applicable` và giá trị có định dạng là một khoảng ước lượng. Ta sẽ tiền xử lí cột này như sau:\n",
    "* Các dòng có giá trị `-1` hoặc `Unknown / Non-Applicable` sẽ chuyển thành dạng `NaN`.\n",
    "* Các dòng có giá trị là môt khoảng ước lượng sẽ chuyển thành giá trị trung bình của khoảng. Với 2 khoảng đầu cuối, ta sẽ mặc định thành giá trị phân chia của khoảng đó. Ngoài ra, các giá trị billion cũng sẽ được đổi thành million."
   ]
  },
  {
   "cell_type": "code",
   "execution_count": 31,
   "id": "b39ee458",
   "metadata": {},
   "outputs": [],
   "source": [
    "def convert_to_num(s):\n",
    "    if type(s) != str:\n",
    "        return\n",
    "    if re.compile(r'\\$\\d+\\+ billion').match(s):\n",
    "        value_range = [int(d) for d in re.findall(r'\\d+',s)]\n",
    "        return sum(value_range)/len(value_range)*1000\n",
    "    elif re.compile(r'\\$\\d+ to \\$\\d+ billion').match(s):\n",
    "        value_range = [int(d) for d in re.findall(r'\\d+',s)]\n",
    "        return sum(value_range)/len(value_range)*1000\n",
    "    elif re.compile(r'\\$\\d+ million to \\$\\d+ billion').match(s):\n",
    "        match = re.compile(r'\\$(\\d+) million to \\$(\\d+) billion').match(s)\n",
    "        return (int(match.group(1))+int(match.group(2))*1000)/2\n",
    "    else:\n",
    "        value_range = [int(d) for d in re.findall(r'\\d+',s)]\n",
    "        return sum(value_range)/len(value_range)\n",
    "# Chuyển giá trị -1 và Unknown/Non-Applicable thành nan\n",
    "ds_df['Revenue'].replace('-1',np.nan,inplace = True)\n",
    "ds_df['Revenue'].replace('Unknown / Non-Applicable',np.nan,inplace = True)\n",
    "# Chuyển các khoảng ước lượng thành giá trị số\n",
    "ds_df['Revenue'] = ds_df['Revenue'].apply(convert_to_num)"
   ]
  },
  {
   "cell_type": "markdown",
   "id": "53347d01",
   "metadata": {},
   "source": [
    "### Tiền xử lý cột Easy Apply"
   ]
  },
  {
   "cell_type": "code",
   "execution_count": 32,
   "id": "c1c0ad96",
   "metadata": {
    "scrolled": true
   },
   "outputs": [
    {
     "name": "stdout",
     "output_type": "stream",
     "text": [
      "object\n"
     ]
    },
    {
     "data": {
      "text/plain": [
       "-1      3745\n",
       "True     164\n",
       "Name: Easy Apply, dtype: int64"
      ]
     },
     "execution_count": 32,
     "metadata": {},
     "output_type": "execute_result"
    }
   ],
   "source": [
    "print(ds_df['Easy Apply'].dtype)\n",
    "ds_df[\"Easy Apply\"].value_counts()"
   ]
  },
  {
   "cell_type": "markdown",
   "id": "79303445",
   "metadata": {},
   "source": [
    "Cột `Easy Apply` hiện tại gồm 2 giá trị `-1` và `True`. Vì cung cấp thông tin công ty có dễ apply hay không, cột nên mang giá trị `True` hoặc `False`. Do đó, ta thực hiện replace `-1` bằng `False` và chuyển dtype của cột về đúng dạng `bool`."
   ]
  },
  {
   "cell_type": "code",
   "execution_count": 33,
   "id": "ee78f1c8",
   "metadata": {
    "scrolled": true
   },
   "outputs": [],
   "source": [
    "ds_df[\"Easy Apply\"] = ds_df[\"Easy Apply\"].replace('-1', False).astype(bool)"
   ]
  },
  {
   "cell_type": "markdown",
   "id": "7f167a6e",
   "metadata": {},
   "source": [
    "### Tiền xử lý các cột Type of ownership, Sector, Competitors"
   ]
  },
  {
   "cell_type": "code",
   "execution_count": 34,
   "id": "55cad6c0",
   "metadata": {},
   "outputs": [
    {
     "data": {
      "text/plain": [
       "array(['Company - Private', 'Unknown', 'Company - Public',\n",
       "       'Nonprofit Organization', '-1', 'Government', 'Hospital',\n",
       "       'Self-employed', 'Subsidiary or Business Segment', 'Contract',\n",
       "       'School / School District', 'Private Practice / Firm',\n",
       "       'College / University', 'Franchise', 'Other Organization'],\n",
       "      dtype=object)"
      ]
     },
     "execution_count": 34,
     "metadata": {},
     "output_type": "execute_result"
    }
   ],
   "source": [
    "ds_df['Type of ownership'].unique()"
   ]
  },
  {
   "cell_type": "code",
   "execution_count": 35,
   "id": "82bb1e70",
   "metadata": {},
   "outputs": [
    {
     "data": {
      "text/plain": [
       "array(['Travel & Tourism', 'Consumer Services', '-1',\n",
       "       'Information Technology', 'Business Services', 'Insurance',\n",
       "       'Finance', 'Retail', 'Media', 'Restaurants, Bars & Food Services',\n",
       "       'Agriculture & Forestry', 'Non-Profit', 'Education', 'Government',\n",
       "       'Health Care', 'Oil, Gas, Energy & Utilities',\n",
       "       'Accounting & Legal', 'Manufacturing', 'Real Estate',\n",
       "       'Biotech & Pharmaceuticals', 'Arts, Entertainment & Recreation',\n",
       "       'Aerospace & Defense', 'Construction, Repair & Maintenance',\n",
       "       'Transportation & Logistics', 'Telecommunications',\n",
       "       'Mining & Metals'], dtype=object)"
      ]
     },
     "execution_count": 35,
     "metadata": {},
     "output_type": "execute_result"
    }
   ],
   "source": [
    "ds_df['Sector'].unique()"
   ]
  },
  {
   "cell_type": "code",
   "execution_count": 36,
   "id": "1746621f",
   "metadata": {},
   "outputs": [
    {
     "data": {
      "text/plain": [
       "-1                                                                              2760\n",
       "Amazon, Accenture, Microsoft                                                      61\n",
       "Google, Microsoft, Samsung Electronics                                            60\n",
       "Google, Microsoft, Walmart                                                        47\n",
       "Google, Microsoft, Apple                                                          25\n",
       "                                                                                ... \n",
       "McKinsey & Company, Accenture, Deloitte                                            1\n",
       "NTT DATA, itelligence, Infosys                                                     1\n",
       "BAE Systems USA, CACI International, General Dynamics Information Technology       1\n",
       "SPX, Flowserve, Robbins & Myers                                                    1\n",
       "Kroger, Safeway, Trader Joe's                                                      1\n",
       "Name: Competitors, Length: 422, dtype: int64"
      ]
     },
     "execution_count": 36,
     "metadata": {},
     "output_type": "execute_result"
    }
   ],
   "source": [
    "ds_df['Competitors'].value_counts()"
   ]
  },
  {
   "cell_type": "markdown",
   "id": "21615b5d",
   "metadata": {},
   "source": [
    "Quan sát 3 cột này thì có vẻ ở bước tiền xử lý này ta chỉ cần thay thế giá trị `-1` thành giá trị `NaN`"
   ]
  },
  {
   "cell_type": "code",
   "execution_count": 37,
   "id": "f973adbf",
   "metadata": {},
   "outputs": [],
   "source": [
    "ds_df[['Type of ownership','Sector','Competitors']] = ds_df[['Type of ownership','Sector','Competitors']].replace('-1',np.nan)"
   ]
  },
  {
   "cell_type": "markdown",
   "id": "502379f2",
   "metadata": {},
   "source": [
    "## Khám phá dữ liệu (phần 2)"
   ]
  },
  {
   "cell_type": "markdown",
   "id": "25eb7a9a",
   "metadata": {},
   "source": [
    "### Tiếp theo ta kiểm tra xem `dtype` của các cột đã đúng chưa"
   ]
  },
  {
   "cell_type": "code",
   "execution_count": 38,
   "id": "38c3e6e2",
   "metadata": {},
   "outputs": [
    {
     "name": "stdout",
     "output_type": "stream",
     "text": [
      "<class 'pandas.core.frame.DataFrame'>\n",
      "RangeIndex: 3909 entries, 0 to 3908\n",
      "Data columns (total 18 columns):\n",
      " #   Column                      Non-Null Count  Dtype  \n",
      "---  ------                      --------------  -----  \n",
      " 0   Job Title                   3909 non-null   object \n",
      " 1   Job Description             3909 non-null   object \n",
      " 2   Rating                      3909 non-null   float64\n",
      " 3   Company Name                3909 non-null   object \n",
      " 4   Size                        3603 non-null   float64\n",
      " 5   Founded                     2932 non-null   float64\n",
      " 6   Type of ownership           3680 non-null   object \n",
      " 7   Industry                    3363 non-null   object \n",
      " 8   Sector                      3363 non-null   object \n",
      " 9   Revenue                     2517 non-null   float64\n",
      " 10  Competitors                 1149 non-null   object \n",
      " 11  Easy Apply                  3909 non-null   bool   \n",
      " 12  SalaryMin                   3909 non-null   int64  \n",
      " 13  SalaryMax                   3909 non-null   int64  \n",
      " 14  City                        3909 non-null   object \n",
      " 15  State                       3909 non-null   object \n",
      " 16  Headquarters_City           3669 non-null   object \n",
      " 17  Headquarters_State/Country  3669 non-null   object \n",
      "dtypes: bool(1), float64(4), int64(2), object(11)\n",
      "memory usage: 523.1+ KB\n"
     ]
    }
   ],
   "source": [
    "ds_df.info()"
   ]
  },
  {
   "cell_type": "markdown",
   "id": "b8b01c85",
   "metadata": {},
   "source": [
    "### Ta kiểm tra với các dữ liệu dạng numeric, giá trị của chúng phân bố như thế nào?"
   ]
  },
  {
   "cell_type": "code",
   "execution_count": 39,
   "id": "4bb851f3",
   "metadata": {},
   "outputs": [
    {
     "data": {
      "text/html": [
       "<div>\n",
       "<style scoped>\n",
       "    .dataframe tbody tr th:only-of-type {\n",
       "        vertical-align: middle;\n",
       "    }\n",
       "\n",
       "    .dataframe tbody tr th {\n",
       "        vertical-align: top;\n",
       "    }\n",
       "\n",
       "    .dataframe thead th {\n",
       "        text-align: right;\n",
       "    }\n",
       "</style>\n",
       "<table border=\"1\" class=\"dataframe\">\n",
       "  <thead>\n",
       "    <tr style=\"text-align: right;\">\n",
       "      <th></th>\n",
       "      <th>Rating</th>\n",
       "      <th>Size</th>\n",
       "      <th>Founded</th>\n",
       "      <th>Revenue</th>\n",
       "      <th>SalaryMin</th>\n",
       "      <th>SalaryMax</th>\n",
       "    </tr>\n",
       "  </thead>\n",
       "  <tbody>\n",
       "    <tr>\n",
       "      <th>count</th>\n",
       "      <td>3909.000</td>\n",
       "      <td>3603.000</td>\n",
       "      <td>2932.000</td>\n",
       "      <td>2517.000</td>\n",
       "      <td>3909.000</td>\n",
       "      <td>3909.000</td>\n",
       "    </tr>\n",
       "    <tr>\n",
       "      <th>mean</th>\n",
       "      <td>3.786</td>\n",
       "      <td>3800.215</td>\n",
       "      <td>1972.371</td>\n",
       "      <td>3261.438</td>\n",
       "      <td>81.910</td>\n",
       "      <td>133.825</td>\n",
       "    </tr>\n",
       "    <tr>\n",
       "      <th>std</th>\n",
       "      <td>0.582</td>\n",
       "      <td>4241.318</td>\n",
       "      <td>52.720</td>\n",
       "      <td>4167.296</td>\n",
       "      <td>34.311</td>\n",
       "      <td>45.011</td>\n",
       "    </tr>\n",
       "    <tr>\n",
       "      <th>min</th>\n",
       "      <td>1.000</td>\n",
       "      <td>25.000</td>\n",
       "      <td>1625.000</td>\n",
       "      <td>1.000</td>\n",
       "      <td>10.000</td>\n",
       "      <td>26.000</td>\n",
       "    </tr>\n",
       "    <tr>\n",
       "      <th>25%</th>\n",
       "      <td>3.500</td>\n",
       "      <td>125.000</td>\n",
       "      <td>1961.000</td>\n",
       "      <td>37.500</td>\n",
       "      <td>52.000</td>\n",
       "      <td>97.000</td>\n",
       "    </tr>\n",
       "    <tr>\n",
       "      <th>50%</th>\n",
       "      <td>3.800</td>\n",
       "      <td>750.000</td>\n",
       "      <td>1995.000</td>\n",
       "      <td>300.000</td>\n",
       "      <td>76.000</td>\n",
       "      <td>129.000</td>\n",
       "    </tr>\n",
       "    <tr>\n",
       "      <th>75%</th>\n",
       "      <td>4.100</td>\n",
       "      <td>10000.000</td>\n",
       "      <td>2006.000</td>\n",
       "      <td>7500.000</td>\n",
       "      <td>110.000</td>\n",
       "      <td>165.000</td>\n",
       "    </tr>\n",
       "    <tr>\n",
       "      <th>max</th>\n",
       "      <td>5.000</td>\n",
       "      <td>10000.000</td>\n",
       "      <td>2020.000</td>\n",
       "      <td>10000.000</td>\n",
       "      <td>200.000</td>\n",
       "      <td>254.000</td>\n",
       "    </tr>\n",
       "    <tr>\n",
       "      <th>missing_ratio</th>\n",
       "      <td>0.000</td>\n",
       "      <td>7.828</td>\n",
       "      <td>24.994</td>\n",
       "      <td>35.610</td>\n",
       "      <td>0.000</td>\n",
       "      <td>0.000</td>\n",
       "    </tr>\n",
       "  </tbody>\n",
       "</table>\n",
       "</div>"
      ],
      "text/plain": [
       "                 Rating       Size   Founded    Revenue  SalaryMin  SalaryMax\n",
       "count          3909.000   3603.000  2932.000   2517.000   3909.000   3909.000\n",
       "mean              3.786   3800.215  1972.371   3261.438     81.910    133.825\n",
       "std               0.582   4241.318    52.720   4167.296     34.311     45.011\n",
       "min               1.000     25.000  1625.000      1.000     10.000     26.000\n",
       "25%               3.500    125.000  1961.000     37.500     52.000     97.000\n",
       "50%               3.800    750.000  1995.000    300.000     76.000    129.000\n",
       "75%               4.100  10000.000  2006.000   7500.000    110.000    165.000\n",
       "max               5.000  10000.000  2020.000  10000.000    200.000    254.000\n",
       "missing_ratio     0.000      7.828    24.994     35.610      0.000      0.000"
      ]
     },
     "execution_count": 39,
     "metadata": {},
     "output_type": "execute_result"
    }
   ],
   "source": [
    "numeric_cols = ds_df.describe().columns.to_list()\n",
    "missing_ratio = ds_df[numeric_cols].agg([lambda x:x.isnull().mean()*100])\n",
    "numeric_cols_profiles = pd.concat([ds_df.describe(),missing_ratio])\n",
    "numeric_cols_profiles.rename(index={'<lambda>':'missing_ratio'},inplace=True)\n",
    "numeric_cols_profiles.round(3)"
   ]
  },
  {
   "cell_type": "markdown",
   "id": "20473da8",
   "metadata": {},
   "source": [
    "Quan sát các cột dữ liệu dạng số thì có vẻ không có gì bất thường xuất hiện."
   ]
  },
  {
   "cell_type": "markdown",
   "id": "c5424d61",
   "metadata": {},
   "source": [
    "### Ta kiểm tra với các dữ liệu dạng categorical, giá trị của chúng phân bố như thế nào?"
   ]
  },
  {
   "cell_type": "code",
   "execution_count": 40,
   "id": "cf2adcd5",
   "metadata": {},
   "outputs": [
    {
     "data": {
      "text/html": [
       "<div>\n",
       "<style scoped>\n",
       "    .dataframe tbody tr th:only-of-type {\n",
       "        vertical-align: middle;\n",
       "    }\n",
       "\n",
       "    .dataframe tbody tr th {\n",
       "        vertical-align: top;\n",
       "    }\n",
       "\n",
       "    .dataframe thead th {\n",
       "        text-align: right;\n",
       "    }\n",
       "</style>\n",
       "<table border=\"1\" class=\"dataframe\">\n",
       "  <thead>\n",
       "    <tr style=\"text-align: right;\">\n",
       "      <th></th>\n",
       "      <th>Job Title</th>\n",
       "      <th>Job Description</th>\n",
       "      <th>Company Name</th>\n",
       "      <th>Type of ownership</th>\n",
       "      <th>Industry</th>\n",
       "      <th>Sector</th>\n",
       "      <th>Competitors</th>\n",
       "      <th>Easy Apply</th>\n",
       "      <th>City</th>\n",
       "      <th>State</th>\n",
       "      <th>Headquarters_City</th>\n",
       "      <th>Headquarters_State/Country</th>\n",
       "    </tr>\n",
       "  </thead>\n",
       "  <tbody>\n",
       "    <tr>\n",
       "      <th>missing_ratio</th>\n",
       "      <td>0.0</td>\n",
       "      <td>0.0</td>\n",
       "      <td>0.0</td>\n",
       "      <td>5.858</td>\n",
       "      <td>13.968</td>\n",
       "      <td>13.968</td>\n",
       "      <td>70.606</td>\n",
       "      <td>0.0</td>\n",
       "      <td>0.0</td>\n",
       "      <td>0.0</td>\n",
       "      <td>6.14</td>\n",
       "      <td>6.14</td>\n",
       "    </tr>\n",
       "    <tr>\n",
       "      <th>number_of_unique_vals</th>\n",
       "      <td>1361</td>\n",
       "      <td>3685</td>\n",
       "      <td>2063</td>\n",
       "      <td>14</td>\n",
       "      <td>95</td>\n",
       "      <td>25</td>\n",
       "      <td>421</td>\n",
       "      <td>2</td>\n",
       "      <td>185</td>\n",
       "      <td>11</td>\n",
       "      <td>523</td>\n",
       "      <td>77</td>\n",
       "    </tr>\n",
       "    <tr>\n",
       "      <th>unique_vals</th>\n",
       "      <td>[Senior Data Scientist, Data Scientist, Data S...</td>\n",
       "      <td>[ABOUT HOPPER\\n\\nAt Hopper, we’re on a mission...</td>\n",
       "      <td>[Hopper, Noom US, Decode_M, Sapphire Digital, ...</td>\n",
       "      <td>[Company - Private, Unknown, Company - Public,...</td>\n",
       "      <td>[Travel Agencies, Health, Beauty, &amp; Fitness, I...</td>\n",
       "      <td>[Travel &amp; Tourism, Consumer Services, Informat...</td>\n",
       "      <td>[Zocdoc, Healthgrades, BBDO, Grey Group, Droga...</td>\n",
       "      <td>[False, True]</td>\n",
       "      <td>[New York, Lyndhurst, Brooklyn, Jersey City, C...</td>\n",
       "      <td>[NY, NJ, CA, IL, TX, AZ, DE, PA, United Kingdo...</td>\n",
       "      <td>[Montreal, New York, Lyndhurst, Hartford, Stam...</td>\n",
       "      <td>[Canada, NY, NJ, CT, United Kingdom, CA, IL, F...</td>\n",
       "    </tr>\n",
       "  </tbody>\n",
       "</table>\n",
       "</div>"
      ],
      "text/plain": [
       "                                                               Job Title  \\\n",
       "missing_ratio                                                        0.0   \n",
       "number_of_unique_vals                                               1361   \n",
       "unique_vals            [Senior Data Scientist, Data Scientist, Data S...   \n",
       "\n",
       "                                                         Job Description  \\\n",
       "missing_ratio                                                        0.0   \n",
       "number_of_unique_vals                                               3685   \n",
       "unique_vals            [ABOUT HOPPER\\n\\nAt Hopper, we’re on a mission...   \n",
       "\n",
       "                                                            Company Name  \\\n",
       "missing_ratio                                                        0.0   \n",
       "number_of_unique_vals                                               2063   \n",
       "unique_vals            [Hopper, Noom US, Decode_M, Sapphire Digital, ...   \n",
       "\n",
       "                                                       Type of ownership  \\\n",
       "missing_ratio                                                      5.858   \n",
       "number_of_unique_vals                                                 14   \n",
       "unique_vals            [Company - Private, Unknown, Company - Public,...   \n",
       "\n",
       "                                                                Industry  \\\n",
       "missing_ratio                                                     13.968   \n",
       "number_of_unique_vals                                                 95   \n",
       "unique_vals            [Travel Agencies, Health, Beauty, & Fitness, I...   \n",
       "\n",
       "                                                                  Sector  \\\n",
       "missing_ratio                                                     13.968   \n",
       "number_of_unique_vals                                                 25   \n",
       "unique_vals            [Travel & Tourism, Consumer Services, Informat...   \n",
       "\n",
       "                                                             Competitors  \\\n",
       "missing_ratio                                                     70.606   \n",
       "number_of_unique_vals                                                421   \n",
       "unique_vals            [Zocdoc, Healthgrades, BBDO, Grey Group, Droga...   \n",
       "\n",
       "                          Easy Apply  \\\n",
       "missing_ratio                    0.0   \n",
       "number_of_unique_vals              2   \n",
       "unique_vals            [False, True]   \n",
       "\n",
       "                                                                    City  \\\n",
       "missing_ratio                                                        0.0   \n",
       "number_of_unique_vals                                                185   \n",
       "unique_vals            [New York, Lyndhurst, Brooklyn, Jersey City, C...   \n",
       "\n",
       "                                                                   State  \\\n",
       "missing_ratio                                                        0.0   \n",
       "number_of_unique_vals                                                 11   \n",
       "unique_vals            [NY, NJ, CA, IL, TX, AZ, DE, PA, United Kingdo...   \n",
       "\n",
       "                                                       Headquarters_City  \\\n",
       "missing_ratio                                                       6.14   \n",
       "number_of_unique_vals                                                523   \n",
       "unique_vals            [Montreal, New York, Lyndhurst, Hartford, Stam...   \n",
       "\n",
       "                                              Headquarters_State/Country  \n",
       "missing_ratio                                                       6.14  \n",
       "number_of_unique_vals                                                 77  \n",
       "unique_vals            [Canada, NY, NJ, CT, United Kingdom, CA, IL, F...  "
      ]
     },
     "execution_count": 40,
     "metadata": {},
     "output_type": "execute_result"
    }
   ],
   "source": [
    "categorical_cols = ['Job Title', 'Job Description', 'Company Name', 'Type of ownership', 'Industry', 'Sector',\\\n",
    "                 'Competitors', 'Easy Apply', 'City', 'State', 'Headquarters_City', 'Headquarters_State/Country']\n",
    "def number_of_unique_vals(s):\n",
    "    return s.dropna().nunique()\n",
    "def unique_vals(s):\n",
    "    return s.dropna().unique()\n",
    "def missing_ratio(s):\n",
    "    return (s.isnull().mean()*100).round(3)\n",
    "cate_cols_profiles = ds_df[categorical_cols].agg([missing_ratio,number_of_unique_vals,unique_vals])\n",
    "cate_cols_profiles"
   ]
  },
  {
   "cell_type": "markdown",
   "id": "d9aa6cf3",
   "metadata": {},
   "source": [
    "Cột `Competitors` có tỉ lệ thiếu rất lớn, tuy nhiên ta chưa chắc chắn lí do để loại bỏ cột này nên sẽ giữ nguyên. Các cột Categorical còn lại có vẻ không có gì bất thường."
   ]
  },
  {
   "cell_type": "markdown",
   "id": "a2f87dbf",
   "metadata": {},
   "source": [
    "## Nhìn lại toàn bộ dữ liệu trước khi đặt câu hỏi"
   ]
  },
  {
   "cell_type": "code",
   "execution_count": 41,
   "id": "9a055213",
   "metadata": {},
   "outputs": [
    {
     "data": {
      "text/html": [
       "<div>\n",
       "<style scoped>\n",
       "    .dataframe tbody tr th:only-of-type {\n",
       "        vertical-align: middle;\n",
       "    }\n",
       "\n",
       "    .dataframe tbody tr th {\n",
       "        vertical-align: top;\n",
       "    }\n",
       "\n",
       "    .dataframe thead th {\n",
       "        text-align: right;\n",
       "    }\n",
       "</style>\n",
       "<table border=\"1\" class=\"dataframe\">\n",
       "  <thead>\n",
       "    <tr style=\"text-align: right;\">\n",
       "      <th></th>\n",
       "      <th>Job Title</th>\n",
       "      <th>Job Description</th>\n",
       "      <th>Rating</th>\n",
       "      <th>Company Name</th>\n",
       "      <th>Size</th>\n",
       "      <th>SalaryMin</th>\n",
       "      <th>SalaryMax</th>\n",
       "      <th>City</th>\n",
       "      <th>State</th>\n",
       "      <th>Founded</th>\n",
       "      <th>Type of ownership</th>\n",
       "      <th>Industry</th>\n",
       "      <th>Sector</th>\n",
       "      <th>Revenue</th>\n",
       "      <th>Headquarters_City</th>\n",
       "      <th>Headquarters_State/Country</th>\n",
       "      <th>Competitors</th>\n",
       "      <th>Easy Apply</th>\n",
       "    </tr>\n",
       "  </thead>\n",
       "  <tbody>\n",
       "    <tr>\n",
       "      <th>0</th>\n",
       "      <td>Senior Data Scientist</td>\n",
       "      <td>ABOUT HOPPER\\n\\nAt Hopper, we’re on a mission ...</td>\n",
       "      <td>3.5</td>\n",
       "      <td>Hopper</td>\n",
       "      <td>750.0</td>\n",
       "      <td>111</td>\n",
       "      <td>181</td>\n",
       "      <td>New York</td>\n",
       "      <td>NY</td>\n",
       "      <td>2007.0</td>\n",
       "      <td>Company - Private</td>\n",
       "      <td>Travel Agencies</td>\n",
       "      <td>Travel &amp; Tourism</td>\n",
       "      <td>NaN</td>\n",
       "      <td>Montreal</td>\n",
       "      <td>Canada</td>\n",
       "      <td>NaN</td>\n",
       "      <td>False</td>\n",
       "    </tr>\n",
       "    <tr>\n",
       "      <th>1</th>\n",
       "      <td>Data Scientist</td>\n",
       "      <td>At Noom, we use scientifically proven methods ...</td>\n",
       "      <td>4.5</td>\n",
       "      <td>Noom US</td>\n",
       "      <td>3000.0</td>\n",
       "      <td>111</td>\n",
       "      <td>181</td>\n",
       "      <td>New York</td>\n",
       "      <td>NY</td>\n",
       "      <td>2008.0</td>\n",
       "      <td>Company - Private</td>\n",
       "      <td>Health, Beauty, &amp; Fitness</td>\n",
       "      <td>Consumer Services</td>\n",
       "      <td>NaN</td>\n",
       "      <td>New York</td>\n",
       "      <td>NY</td>\n",
       "      <td>NaN</td>\n",
       "      <td>False</td>\n",
       "    </tr>\n",
       "    <tr>\n",
       "      <th>2</th>\n",
       "      <td>Data Science Manager</td>\n",
       "      <td>Decode_M\\n\\nhttps://www.decode-m.com/\\n\\nData ...</td>\n",
       "      <td>3.8</td>\n",
       "      <td>Decode_M</td>\n",
       "      <td>25.0</td>\n",
       "      <td>111</td>\n",
       "      <td>181</td>\n",
       "      <td>New York</td>\n",
       "      <td>NY</td>\n",
       "      <td>NaN</td>\n",
       "      <td>Unknown</td>\n",
       "      <td>NaN</td>\n",
       "      <td>NaN</td>\n",
       "      <td>NaN</td>\n",
       "      <td>New York</td>\n",
       "      <td>NY</td>\n",
       "      <td>NaN</td>\n",
       "      <td>True</td>\n",
       "    </tr>\n",
       "    <tr>\n",
       "      <th>3</th>\n",
       "      <td>Data Analyst</td>\n",
       "      <td>Sapphire Digital seeks a dynamic and driven mi...</td>\n",
       "      <td>3.4</td>\n",
       "      <td>Sapphire Digital</td>\n",
       "      <td>350.0</td>\n",
       "      <td>111</td>\n",
       "      <td>181</td>\n",
       "      <td>Lyndhurst</td>\n",
       "      <td>NJ</td>\n",
       "      <td>2019.0</td>\n",
       "      <td>Company - Private</td>\n",
       "      <td>Internet</td>\n",
       "      <td>Information Technology</td>\n",
       "      <td>NaN</td>\n",
       "      <td>Lyndhurst</td>\n",
       "      <td>NJ</td>\n",
       "      <td>Zocdoc, Healthgrades</td>\n",
       "      <td>False</td>\n",
       "    </tr>\n",
       "    <tr>\n",
       "      <th>4</th>\n",
       "      <td>Director</td>\n",
       "      <td>Director, Data Science - (200537)\\nDescription...</td>\n",
       "      <td>3.4</td>\n",
       "      <td>United Entertainment Group</td>\n",
       "      <td>125.0</td>\n",
       "      <td>111</td>\n",
       "      <td>181</td>\n",
       "      <td>New York</td>\n",
       "      <td>NY</td>\n",
       "      <td>2007.0</td>\n",
       "      <td>Company - Private</td>\n",
       "      <td>Advertising &amp; Marketing</td>\n",
       "      <td>Business Services</td>\n",
       "      <td>NaN</td>\n",
       "      <td>New York</td>\n",
       "      <td>NY</td>\n",
       "      <td>BBDO, Grey Group, Droga5</td>\n",
       "      <td>False</td>\n",
       "    </tr>\n",
       "  </tbody>\n",
       "</table>\n",
       "</div>"
      ],
      "text/plain": [
       "               Job Title                                    Job Description  \\\n",
       "0  Senior Data Scientist  ABOUT HOPPER\\n\\nAt Hopper, we’re on a mission ...   \n",
       "1         Data Scientist  At Noom, we use scientifically proven methods ...   \n",
       "2   Data Science Manager  Decode_M\\n\\nhttps://www.decode-m.com/\\n\\nData ...   \n",
       "3           Data Analyst  Sapphire Digital seeks a dynamic and driven mi...   \n",
       "4               Director  Director, Data Science - (200537)\\nDescription...   \n",
       "\n",
       "   Rating                Company Name    Size  SalaryMin  SalaryMax  \\\n",
       "0     3.5                      Hopper   750.0        111        181   \n",
       "1     4.5                     Noom US  3000.0        111        181   \n",
       "2     3.8                    Decode_M    25.0        111        181   \n",
       "3     3.4            Sapphire Digital   350.0        111        181   \n",
       "4     3.4  United Entertainment Group   125.0        111        181   \n",
       "\n",
       "        City State  Founded  Type of ownership                   Industry  \\\n",
       "0   New York    NY   2007.0  Company - Private            Travel Agencies   \n",
       "1   New York    NY   2008.0  Company - Private  Health, Beauty, & Fitness   \n",
       "2   New York    NY      NaN            Unknown                        NaN   \n",
       "3  Lyndhurst    NJ   2019.0  Company - Private                   Internet   \n",
       "4   New York    NY   2007.0  Company - Private    Advertising & Marketing   \n",
       "\n",
       "                   Sector  Revenue Headquarters_City  \\\n",
       "0        Travel & Tourism      NaN          Montreal   \n",
       "1       Consumer Services      NaN          New York   \n",
       "2                     NaN      NaN          New York   \n",
       "3  Information Technology      NaN         Lyndhurst   \n",
       "4       Business Services      NaN          New York   \n",
       "\n",
       "  Headquarters_State/Country               Competitors  Easy Apply  \n",
       "0                     Canada                       NaN       False  \n",
       "1                         NY                       NaN       False  \n",
       "2                         NY                       NaN        True  \n",
       "3                         NJ      Zocdoc, Healthgrades       False  \n",
       "4                         NY  BBDO, Grey Group, Droga5       False  "
      ]
     },
     "execution_count": 41,
     "metadata": {},
     "output_type": "execute_result"
    }
   ],
   "source": [
    "ds_df = ds_df[['Job Title', 'Job Description', 'Rating', 'Company Name', 'Size', 'SalaryMin', 'SalaryMax',\n",
    "               'City', 'State', 'Founded', 'Type of ownership', 'Industry', 'Sector', 'Revenue',\n",
    "               'Headquarters_City', 'Headquarters_State/Country','Competitors', 'Easy Apply']]\n",
    "ds_df.head()"
   ]
  },
  {
   "cell_type": "markdown",
   "id": "5a1d9904",
   "metadata": {},
   "source": [
    "## Đưa ra các câu hỏi cần trả lời\n",
    "\n",
    "- **Câu hỏi 1:** Liệu điểm Rating có liên hệ với sự đãi ngộ về mức lương của một công ty hay không?\n",
    "\n",
    "- **Câu hỏi 2:** Những công cụ/ngôn ngữ nào thường được các nhà tuyển dụng yêu cầu trong thông báo tuyển dụng?\n",
    "\n",
    "- **Câu hỏi 3:** Phân bố các Sector theo State như thế nào?\n",
    "\n",
    "- **Câu hỏi 4:** Vị trí Data Science mà các lĩnh vực mạnh có nhu cầu tuyển dụng cao? \n",
    "\n",
    "- **Câu hỏi 5:** Mức lương có liên quan tới size của công ty không?"
   ]
  },
  {
   "cell_type": "markdown",
   "id": "db9bcade",
   "metadata": {},
   "source": [
    "### Câu hỏi 1: Liệu điểm Rating có liên hệ với sự đãi ngộ về mức lương của một công ty hay không?\n",
    "\n",
    "Lương thưởng luôn là vấn đề ưu tiên hàng đầu của mọi người khi tìm kiếm việc làm, còn rating phản ánh chất lượng của một công ty nào đó bởi những người đã hoặc đang làm việc tại đó. Việc xem xét Rating và mức lương sẽ giúp có được cái nhìn về khía cạnh lương thưởng của các công ty trên thị trường tuyển dụng. (Những công ty có điểm Rating thấp có mức lương như thế nào, có chênh lệch nhiều so với những công ty được đánh giá cao hơn hay không? Những công ty được đánh giá cao thì mức lương đi kèm của họ có thực sự cao hơn không và cao hơn như thế nào?,...)"
   ]
  },
  {
   "cell_type": "markdown",
   "id": "17a64f41",
   "metadata": {},
   "source": [
    "Đầu tiên, ta thấy điểm `Rating` thường là các số thập phân, do đó ta sẽ thực hiện đánh giá bằng 2 bước:\n",
    "- **Bước 1:** Gom các `Rating` thành 5 nhóm `(0,1], (1,2], (2,3], (3,4], (4,5]`, sau đó tính số lượng, giá trị min, max, median và mean của các cột `SalaryMin`, `SalaryMax`.\n",
    "- **Bước 2:** Vẽ biểu đồ cột về tương quan giữa mức lương trung bình (của cột `SalaryMin` và `SalaryMax`) và điểm được đánh giá. Vẽ biểu đồ tròn để thấy được tỉ lệ điểm đánh giá giữa các nhóm."
   ]
  },
  {
   "cell_type": "markdown",
   "id": "5f90f8fd",
   "metadata": {},
   "source": [
    "**Bước 1:** Gom nhóm và tính các giá trị thống kê."
   ]
  },
  {
   "cell_type": "code",
   "execution_count": 42,
   "id": "88e47f73",
   "metadata": {},
   "outputs": [
    {
     "data": {
      "text/html": [
       "<div>\n",
       "<style scoped>\n",
       "    .dataframe tbody tr th:only-of-type {\n",
       "        vertical-align: middle;\n",
       "    }\n",
       "\n",
       "    .dataframe tbody tr th {\n",
       "        vertical-align: top;\n",
       "    }\n",
       "\n",
       "    .dataframe thead tr th {\n",
       "        text-align: left;\n",
       "    }\n",
       "</style>\n",
       "<table border=\"1\" class=\"dataframe\">\n",
       "  <thead>\n",
       "    <tr>\n",
       "      <th></th>\n",
       "      <th colspan=\"6\" halign=\"left\">Rating</th>\n",
       "      <th colspan=\"5\" halign=\"left\">SalaryMin</th>\n",
       "      <th colspan=\"5\" halign=\"left\">SalaryMax</th>\n",
       "    </tr>\n",
       "    <tr>\n",
       "      <th></th>\n",
       "      <th></th>\n",
       "      <th>count</th>\n",
       "      <th>min</th>\n",
       "      <th>max</th>\n",
       "      <th>mean</th>\n",
       "      <th>median</th>\n",
       "      <th>count</th>\n",
       "      <th>min</th>\n",
       "      <th>max</th>\n",
       "      <th>mean</th>\n",
       "      <th>median</th>\n",
       "      <th>count</th>\n",
       "      <th>min</th>\n",
       "      <th>max</th>\n",
       "      <th>mean</th>\n",
       "      <th>median</th>\n",
       "    </tr>\n",
       "  </thead>\n",
       "  <tbody>\n",
       "    <tr>\n",
       "      <th>0</th>\n",
       "      <td>(0, 1]</td>\n",
       "      <td>10</td>\n",
       "      <td>1.0</td>\n",
       "      <td>1.0</td>\n",
       "      <td>1.00</td>\n",
       "      <td>1.0</td>\n",
       "      <td>10</td>\n",
       "      <td>12</td>\n",
       "      <td>156</td>\n",
       "      <td>87.30</td>\n",
       "      <td>90</td>\n",
       "      <td>10</td>\n",
       "      <td>56</td>\n",
       "      <td>254</td>\n",
       "      <td>138.40</td>\n",
       "      <td>120.0</td>\n",
       "    </tr>\n",
       "    <tr>\n",
       "      <th>1</th>\n",
       "      <td>(1, 2]</td>\n",
       "      <td>18</td>\n",
       "      <td>1.5</td>\n",
       "      <td>2.0</td>\n",
       "      <td>1.74</td>\n",
       "      <td>1.6</td>\n",
       "      <td>18</td>\n",
       "      <td>45</td>\n",
       "      <td>138</td>\n",
       "      <td>78.67</td>\n",
       "      <td>74</td>\n",
       "      <td>18</td>\n",
       "      <td>78</td>\n",
       "      <td>217</td>\n",
       "      <td>127.94</td>\n",
       "      <td>105.5</td>\n",
       "    </tr>\n",
       "    <tr>\n",
       "      <th>2</th>\n",
       "      <td>(2, 3]</td>\n",
       "      <td>317</td>\n",
       "      <td>2.1</td>\n",
       "      <td>3.0</td>\n",
       "      <td>2.74</td>\n",
       "      <td>2.8</td>\n",
       "      <td>317</td>\n",
       "      <td>12</td>\n",
       "      <td>156</td>\n",
       "      <td>77.28</td>\n",
       "      <td>74</td>\n",
       "      <td>317</td>\n",
       "      <td>27</td>\n",
       "      <td>254</td>\n",
       "      <td>126.31</td>\n",
       "      <td>123.0</td>\n",
       "    </tr>\n",
       "    <tr>\n",
       "      <th>3</th>\n",
       "      <td>(3, 4]</td>\n",
       "      <td>2455</td>\n",
       "      <td>3.1</td>\n",
       "      <td>4.0</td>\n",
       "      <td>3.65</td>\n",
       "      <td>3.7</td>\n",
       "      <td>2455</td>\n",
       "      <td>12</td>\n",
       "      <td>200</td>\n",
       "      <td>80.26</td>\n",
       "      <td>75</td>\n",
       "      <td>2455</td>\n",
       "      <td>27</td>\n",
       "      <td>254</td>\n",
       "      <td>132.02</td>\n",
       "      <td>125.0</td>\n",
       "    </tr>\n",
       "    <tr>\n",
       "      <th>4</th>\n",
       "      <td>(4, 5]</td>\n",
       "      <td>1109</td>\n",
       "      <td>4.1</td>\n",
       "      <td>5.0</td>\n",
       "      <td>4.45</td>\n",
       "      <td>4.4</td>\n",
       "      <td>1109</td>\n",
       "      <td>10</td>\n",
       "      <td>200</td>\n",
       "      <td>86.90</td>\n",
       "      <td>84</td>\n",
       "      <td>1109</td>\n",
       "      <td>26</td>\n",
       "      <td>254</td>\n",
       "      <td>140.02</td>\n",
       "      <td>143.0</td>\n",
       "    </tr>\n",
       "  </tbody>\n",
       "</table>\n",
       "</div>"
      ],
      "text/plain": [
       "   Rating                              SalaryMin                         \\\n",
       "          count  min  max  mean median     count min  max   mean median   \n",
       "0  (0, 1]    10  1.0  1.0  1.00    1.0        10  12  156  87.30     90   \n",
       "1  (1, 2]    18  1.5  2.0  1.74    1.6        18  45  138  78.67     74   \n",
       "2  (2, 3]   317  2.1  3.0  2.74    2.8       317  12  156  77.28     74   \n",
       "3  (3, 4]  2455  3.1  4.0  3.65    3.7      2455  12  200  80.26     75   \n",
       "4  (4, 5]  1109  4.1  5.0  4.45    4.4      1109  10  200  86.90     84   \n",
       "\n",
       "  SalaryMax                          \n",
       "      count min  max    mean median  \n",
       "0        10  56  254  138.40  120.0  \n",
       "1        18  78  217  127.94  105.5  \n",
       "2       317  27  254  126.31  123.0  \n",
       "3      2455  27  254  132.02  125.0  \n",
       "4      1109  26  254  140.02  143.0  "
      ]
     },
     "execution_count": 42,
     "metadata": {},
     "output_type": "execute_result"
    }
   ],
   "source": [
    "rs_df = ds_df[['Rating','SalaryMin','SalaryMax']].groupby(pd.cut(ds_df.Rating,[0,1,2,3,4,5]))\\\n",
    "                .agg(['count','min','max','mean','median']).round(2).reset_index()\n",
    "rs_df"
   ]
  },
  {
   "cell_type": "markdown",
   "id": "fe77b8cd",
   "metadata": {},
   "source": [
    "**Bước 2:** Vẽ biểu đồ để thể hiện các mối liên hệ. Ở bước 1, ta thấy các giá trị mean và median (`SalaryMin,SalaryMax`) khá gần nhau nên ta sẽ dùng giá trị mean để vẽ biểu đồ."
   ]
  },
  {
   "cell_type": "code",
   "execution_count": 43,
   "id": "9c699468",
   "metadata": {},
   "outputs": [
    {
     "data": {
      "image/png": "[encoded data removed]",
      "text/plain": [
       "<Figure size 1080x504 with 2 Axes>"
      ]
     },
     "metadata": {
      "needs_background": "light"
     },
     "output_type": "display_data"
    }
   ],
   "source": [
    "fig, axs = plt.subplots(1, 2)\n",
    "# Vẽ biểu đồ cột\n",
    "labels = ['(0, 1]','(1, 2]','(2, 3]','(3, 4]','(4,5]']\n",
    "salary_df = pd.DataFrame()\n",
    "salary_df['MinSalary'] = rs_df['SalaryMin']['mean']\n",
    "salary_df['MaxSalary'] = rs_df['SalaryMax']['mean']\n",
    "salary_df.index = labels\n",
    "salary_df.plot(ax = axs[0], kind = 'bar', figsize=(15, 7))\n",
    "axs[0].set_title('Average salary range by ratings')\n",
    "axs[0].set_xlabel('Ratings')\n",
    "axs[0].set_ylabel('Salary (in thousand)')\n",
    "# Vẽ biểu đồ tròn\n",
    "rating_df = rs_df['Rating']['count']\n",
    "rating_df.plot(ax = axs[1], kind = 'pie',autopct = '%.2f',figsize=(15, 7),labels = None)\n",
    "axs[1].set_title('Perentage of number of companies by ratings')\n",
    "axs[1].set_ylabel('')\n",
    "plt.legend(title = 'Rating',labels = labels)\n",
    "\n",
    "fig.suptitle('Salary and percentage of number of companies by ratings')\n",
    "plt.show()"
   ]
  },
  {
   "cell_type": "markdown",
   "id": "9561577c",
   "metadata": {},
   "source": [
    "Như vậy, sau khi vẽ biểu đồ xong, ta có những đánh giá sau:\n",
    "- Phần lớn các công ty có điểm `Rating` nằm ở mức từ 3 đến 4 điểm, chiếm 62.8%. Tiếp theo là các công ty có điểm `Rating` từ 4 đến 5, chiếm 28.37%. Các công ty có điểm nằm ở các nhóm thấp hơn (dưới 3 điểm) chỉ chiếm tỉ lệ rất nhỏ, chưa tới 10%.\n",
    "- Những công ty có mức `Rating` cao hơn (trong nhóm từ 2 điểm trở lên) thường có mức đãi ngộ cao hơn về lương (cả mức thấp nhất lẫn mức cao nhất). Những công ty có điểm `Rating` thấp không có nghĩa là mức lương sẽ thấp. Tuy nhiên, chúng ta cũng nên lưu ý rằng lượng công ty có điểm `Rating` thấp chỉ chiếm 1 phần rất nhỏ, gần như không đáng kể so với phần còn lại.\n",
    "- Mức chênh lệch giữa các cột `SalaryMax` với nhau và các cột `SalaryMin` với nhau là có và khá đáng kể (VD: ở cột SalaryMax thì mức chênh lệch giữa nhóm `(3,4]` và nhóm `(4,5]` là ~8000USD/year).\n",
    "\n",
    "Ta kết luận được rằng, với các công ty trong tập dữ liệu đang xét, mức lương và `Rating` có mối liên hệ với nhau. Những công ty có điểm `Rating` càng cao thì mức lương sẽ càng cao."
   ]
  },
  {
   "cell_type": "markdown",
   "id": "8a918609",
   "metadata": {},
   "source": [
    "### Câu hỏi 2: Những công cụ/ngôn ngữ lập trình nào thường xuyên được các công ty yêu cầu trong thông báo tuyển dụng?\n",
    "\n",
    "Trong các thông tin tuyển dụng, phần yêu cầu về chuyên môn luôn là phần quan trọng, vì nó sẽ cho các ứng viên biết họ cần phải có những kĩ năng gì, trình độ nào để có thể ứng tuyển vào vị trí mà công ty đang tuyển dụng. Một trong số những yêu cầu quan trọng đối với các ngành nghề liên quan tới Data là việc sử dụng thành thạo các ngôn ngữ lập trình, các công cụ xử lí, các framework, library liên quan tới Data. Do đó, việc trả lời câu hỏi trên sẽ giúp chúng ta biết được các nhà tuyển dụng thường cần ở các ứng viên những gì, để chúng ta có thể chuẩn bị tốt nhất về mặt chuyên môn khi ứng tuyển.\n",
    "\n",
    "Để trả lời câu hỏi trên, ta sẽ thực hiện 2 bước:\n",
    "- **Bước 1:** Tính tỉ lệ mà các công cụ/ngôn ngữ được yêu cầu trên toàn bộ tập dữ liệu bằng cách tính số lần xuất hiện của công cụ/ngôn ngữ đó trong cột `Job Description` chia cho tổng số dòng. Trong danh sách này sẽ bao gồm một số ngôn ngữ/công cụ phổ biến: `python, SQL, power BI, excel, tableau, hadoop, scala, pandas, matplotlib, matlab, julia`.\n",
    "- **Bước 2:** Vẽ biểu đồ bar chart để thể hiện các tỉ lệ."
   ]
  },
  {
   "cell_type": "markdown",
   "id": "89d7a2e6",
   "metadata": {},
   "source": [
    "**Bước 1:** Tính tỉ lệ về yêu cầu của các công cụ/ngôn ngữ."
   ]
  },
  {
   "cell_type": "code",
   "execution_count": 44,
   "id": "7c89365b",
   "metadata": {},
   "outputs": [],
   "source": [
    "def split_require(s):\n",
    "    s = s.lower()\n",
    "    options = ['python', 'sql', 'power bi', 'excel', 'tableau', 'hadoop', 'scala', 'pandas', 'matplotlib', 'matlab','julia']\n",
    "    checks = [1 if o in s else 0 for o in options]\n",
    "    return dict(zip(options,checks))\n",
    "# Tính các loại ngôn ngữ được yêu cầu, lưu vào DataFrame với mỗi giá trị là 1 dict.{language1:1,language2:0,...} với giá trị 1\n",
    "# là ngôn ngữ đó được yêu cầu và 0 là ngược lại\n",
    "language_require_df = pd.DataFrame()\n",
    "language_require_df['options'] = ds_df['Job Description'].apply(split_require)\n",
    "# Tách các giá trị trong cột thành DataFrame\n",
    "language_require_df = pd.DataFrame(language_require_df['options'].values.tolist(), index = language_require_df.index)\n",
    "# Tính tỉ lệ được yêu cầu của mỗi loại ngôn ngữ và sort giảm dần\n",
    "language_require_ratio = (language_require_df.mean()*100).sort_values(ascending = False)"
   ]
  },
  {
   "cell_type": "markdown",
   "id": "38fee0f4",
   "metadata": {},
   "source": [
    "**Bước 2:** Vẽ biểu đồ tỉ lệ."
   ]
  },
  {
   "cell_type": "code",
   "execution_count": 45,
   "id": "bb5fae9c",
   "metadata": {},
   "outputs": [
    {
     "data": {
      "image/png": "[encoded data removed]",
      "text/plain": [
       "<Figure size 1080x504 with 1 Axes>"
      ]
     },
     "metadata": {
      "needs_background": "light"
     },
     "output_type": "display_data"
    }
   ],
   "source": [
    "language_require_ratio.plot.bar(figsize=(15, 7))\n",
    "plt.xlabel('Tool/Language requirement')\n",
    "plt.ylabel('Percentage')\n",
    "plt.title('Percentage of tool/language requirement')\n",
    "plt.show();"
   ]
  },
  {
   "cell_type": "markdown",
   "id": "4c5037ea",
   "metadata": {},
   "source": [
    "Như vậy ta có nhận xét:\n",
    "- Trong các ngôn ngữ được xét, Python và SQL là 2 ngôn ngữ được các nhà tuyển dụng chú trọng nhất, chiếm hơn 50% các yêu cầu tuyển dụng. Tiếp theo đó là Excel với gần 50%.\n",
    "- Các ngôn ngữ/công cụ tiếp theo là Scala, Tableau, Hadoop chiếm khoảng từ 15-30%.\n",
    "- Các ngôn ngữ/công cụ còn lại chiếm tỉ lệ khá thấp, dưới 10%. Tuy nhiên trong phần trên có pandas và matplotlib chỉ là 2 thư viện của python. Do đó, có thể nhà tuyển dụng không ghi cụ thể mà chỉ đề cập vào python nói chung.\n",
    "\n",
    "Từ dữ liệu đã phân tích, ta có thể trả lời được câu hỏi: nhóm các ngôn ngữ thường được nhà tuyển dụng yêu cầu nhiều nhất là Python, SQL, Excel. Chúng ta nên tập trung học những ngôn ngữ này để có nhiều cơ hội ứng tuyển vào các ngành nghề liên quan tới Data Science. Ngoài ra, những ngôn ngữ như Scala, Tableau, Hadoop cũng rất đáng để đầu tư thời gian."
   ]
  },
  {
   "cell_type": "markdown",
   "id": "af98443c",
   "metadata": {},
   "source": [
    "### Câu hỏi 3: Phân bố các Sector theo State như thế nào?\n",
    "\n",
    "Các công ty thường sẽ chọn những nơi đặt trụ sở mà có thể giúp họ có thể thu hút được nhiều nhân sự giỏi cũng như thuận tiện cho việc phát triển của cả công ty. Và cũng tùy ngành/lĩnh vực hoặc khả năng phát triển mà các công ty có thể tập trung ở một nơi (e.g Silicon Valley là nơi tập trung rất nhiều các công ty về công nghệ tại Mỹ). Đối với những nhà khoa học dữ liệu nói riêng và những người làm việc liên quan tới dữ liệu nói riêng, ngoài việc có kiến thức chuyên môn về dữ liệu, những kiến thức và kinh nghiệm ở các ngành khác (e.g Finance, Business Services, Biotech,...) sẽ giúp họ có lợi thế hơn khi ứng tuyển và có thể phát huy tốt nhất khả năng khi được nhận công việc đó. Vì vậy, việc biết được sự phân bố các **Sector** theo **State** sẽ giúp chúng ta biết được ở những khu vực nào thì có nhu cầu tuyển dụng cao, và công ty đang tuyển dụng đó thuộc vào ngành nào."
   ]
  },
  {
   "cell_type": "markdown",
   "id": "412a7c01",
   "metadata": {},
   "source": [
    "Xem lại các giá trị trong cột `State`."
   ]
  },
  {
   "cell_type": "code",
   "execution_count": 46,
   "id": "0ade772f",
   "metadata": {},
   "outputs": [
    {
     "data": {
      "text/plain": [
       "array(['NY', 'NJ', 'CA', 'IL', 'TX', 'AZ', 'DE', 'PA', 'United Kingdom',\n",
       "       'FL', 'OH'], dtype=object)"
      ]
     },
     "execution_count": 46,
     "metadata": {},
     "output_type": "execute_result"
    }
   ],
   "source": [
    "ds_df['State'].unique()"
   ]
  },
  {
   "cell_type": "markdown",
   "id": "7e719726",
   "metadata": {},
   "source": [
    "#### Tiền xử lí dữ liệu\n",
    "\n",
    "Ở phần trên ta đã biết được rằng cột `Sector` bị thiếu giá trị còn cột `State` thì không. Tên của các `State` cũng nằm ở dạng viết tắt, ta sẽ viết lại dưới dạng tên đầy đủ. Trường hợp ngoại lệ trong cột `State` là `United Kingdom`, giá trị này sẽ được giữ nguyên. Ta sẽ tiền xử lí theo các bước:\n",
    "- Lấy ra 2 cột dữ liệu và đưa vào DataFrame `ss_df`.\n",
    "- Với các giá trị thiếu ở cột `Sector`, ta sẽ điền bằng mode của `State` tương ứng (e.g 1 dòng có giá trị `Sector` là `nan` còn giá trị `State` là `AZ` thì ta sẽ điền `Sector` xuất hiện nhiều nhất ứng với `AZ`). Nếu `State` chỉ bao gồm các giá trị `nan` thì ta gán bằng mode trên toàn bộ `ss_df`.\n",
    "- Gán lại giá trị của các `State` dưới dạng tên đầy đủ. [Link tham khảo](https://www.scouting.org/resources/los/states/)"
   ]
  },
  {
   "cell_type": "code",
   "execution_count": 47,
   "id": "ea5cf0bc",
   "metadata": {
    "scrolled": true
   },
   "outputs": [],
   "source": [
    "# Bước 1: Lấy ra các cột cần xử lí\n",
    "ss_df = ds_df[['Sector','State']].copy()\n",
    "\n",
    "# Bước 2.1: Tính mode Sector tương ứng của các State\n",
    "def getmode(s,d):\n",
    "    if s.value_counts().empty:\n",
    "        return d\n",
    "    return s.value_counts().index[0][0]\n",
    "majority_sector_in_state = ss_df.groupby('State',dropna=False).agg(getmode,ss_df.Sector.value_counts().index[0][0])\n",
    "# Bước 2.2: Thay thế các giá trị nan trong Sector từ các mode đã tính được\n",
    "def rep(s,a):\n",
    "    if type(s.Sector)!=str:\n",
    "        if np.isnan(s.Sector):\n",
    "            return a.loc[s.State,'Sector']\n",
    "    else:\n",
    "        return s.Sector\n",
    "ss_df.loc[:,'Sector'] = ss_df.apply(rep,axis=1,args=(majority_sector_in_state,)).values\n",
    "\n",
    "# Bước 3: Gán lại giá trị các State\n",
    "ss_df.replace({'AZ':'Arizona', 'CA':'California', 'DE':'Delaware', 'FL':'Florida', 'IL':'Illinois',\\\n",
    "               'NJ':'New Jersey', 'NY':'New York', 'OH':'Ohio', 'PA':'Pennsylvania', 'TX':'Texas'},inplace=True)"
   ]
  },
  {
   "cell_type": "markdown",
   "id": "bae3ddf2",
   "metadata": {},
   "source": [
    "#### Khám phá dữ liệu và trả lời câu hỏi"
   ]
  },
  {
   "cell_type": "code",
   "execution_count": 48,
   "id": "f69e0c9e",
   "metadata": {},
   "outputs": [
    {
     "data": {
      "text/plain": [
       "Information Technology                1597\n",
       "Business Services                      716\n",
       "Biotech & Pharmaceuticals              329\n",
       "Finance                                270\n",
       "Health Care                            197\n",
       "Insurance                              109\n",
       "Education                              101\n",
       "Manufacturing                           87\n",
       "Government                              82\n",
       "Media                                   75\n",
       "Retail                                  72\n",
       "Accounting & Legal                      71\n",
       "Aerospace & Defense                     37\n",
       "Oil, Gas, Energy & Utilities            34\n",
       "Telecommunications                      21\n",
       "Consumer Services                       20\n",
       "Non-Profit                              18\n",
       "Construction, Repair & Maintenance      16\n",
       "Transportation & Logistics              16\n",
       "Real Estate                             12\n",
       "Arts, Entertainment & Recreation        10\n",
       "Restaurants, Bars & Food Services        9\n",
       "Agriculture & Forestry                   5\n",
       "Travel & Tourism                         4\n",
       "Mining & Metals                          1\n",
       "Name: Sector, dtype: int64"
      ]
     },
     "execution_count": 48,
     "metadata": {},
     "output_type": "execute_result"
    }
   ],
   "source": [
    "ss_df.Sector.value_counts()"
   ]
  },
  {
   "cell_type": "markdown",
   "id": "260dfec4",
   "metadata": {},
   "source": [
    "**Nhận xét:** có 2 ngành có lượng công ty tuyển dụng lớn là `Information Technology` và `Business Services`. Hai ngành này có lượng tuyển dụng lớn hơn rất nhiều so với các ngành còn lại. Xếp sau hai ngành trên là các ngành có lượng tuyển dụng từ khoảng 300 trở xuống. Có những ngành có số lượng tuyển dụng rất thấp, vì vậy ta sẽ gom những ngành có lượng tuyển dụng thấp thành 1 nhóm chung là `Another`. Nhóm này sẽ gồm những ngành chỉ có dưới 50 lượt tuyển dụng."
   ]
  },
  {
   "cell_type": "markdown",
   "id": "d9da3ef6",
   "metadata": {},
   "source": [
    "Để trả lời câu hỏi đã đặt ra, ta sẽ thực hiện các bước như sau:\n",
    "- **Bước 1:** Gộp những `Sector` có lượt tuyển dụng dưới 50 thành nhóm `Another`.\n",
    "- **Bước 2:** Gom nhóm theo `State` và `Sector` rồi đếm số lượng của mỗi nhóm.\n",
    "- **Bước 3:** Vẽ biểu đồ heat map để thể hiện mối liên hệ giữa `Sector` và `State`."
   ]
  },
  {
   "cell_type": "markdown",
   "id": "1bab358d",
   "metadata": {},
   "source": [
    "**Bước 1:** Gộp các `Sector` có lượt tuyển dụng dưới 50."
   ]
  },
  {
   "cell_type": "code",
   "execution_count": 49,
   "id": "a1d15fae",
   "metadata": {},
   "outputs": [],
   "source": [
    "minority_sectors = ss_df.Sector.value_counts()[ss_df.Sector.value_counts()<50].index.to_list()\n",
    "ss_df.replace(minority_sectors,'Another',inplace = True)"
   ]
  },
  {
   "cell_type": "markdown",
   "id": "c255a4b1",
   "metadata": {},
   "source": [
    "**Bước 2:** Gom nhóm theo `Sector` và `State` rồi đếm số lượng của mỗi nhóm."
   ]
  },
  {
   "cell_type": "code",
   "execution_count": 50,
   "id": "0c048b6c",
   "metadata": {},
   "outputs": [],
   "source": [
    "ss = ss_df.groupby(['State','Sector'],dropna=False).size().unstack(fill_value=0)"
   ]
  },
  {
   "cell_type": "markdown",
   "id": "1bd478d2",
   "metadata": {},
   "source": [
    "**Bước 3:** Vẽ biểu đồ heat map để thể hiện tương quan."
   ]
  },
  {
   "cell_type": "code",
   "execution_count": 51,
   "id": "af5550b9",
   "metadata": {
    "scrolled": false
   },
   "outputs": [
    {
     "data": {
      "image/png": "[encoded data removed]",
      "text/plain": [
       "<Figure size 1080x504 with 2 Axes>"
      ]
     },
     "metadata": {
      "needs_background": "light"
     },
     "output_type": "display_data"
    }
   ],
   "source": [
    "plt.figure(figsize=(15, 7))\n",
    "sns.heatmap(ss,cmap=\"YlGnBu\");"
   ]
  },
  {
   "cell_type": "markdown",
   "id": "ef501eba",
   "metadata": {},
   "source": [
    "Như vậy, ta có nhận xét:\n",
    "- Các công ty thuộc ngành ***Information technology*** là những công ty tuyển dụng vị trí liên quan đến data nhiều nhất. Những công ty này tập trung phần lớn ở ***Texas*** và ***California***. Những vùng khác tập trung với số lượng thấp hơn là ***Arizona, Illinois, New York***.\n",
    "- Ngành cần nhiều nhân lực xếp sau ***Information technology*** là ***Business Services*** và các công ty chủ yếu tập trung ở ***Texas*** và ***California***.\n",
    "- Các ngành khác cũng yêu cầu nhân sự về mảng data nhưng số lượng rất thấp.\n",
    "\n",
    "Từ dữ liệu đã phân tích, ta trả lời được câu hỏi: hầu hết các công ty cần nhân lực về Data Science nói chung và về mảng Data nói riêng là những công ty về ***Information technology***, tiếp đó là ***Business Services, Biotech & Pharmaceuticals***,... Do đó nếu có thêm những kiến thức về những ngành khác thì sẽ có lợi thế và có nhiều sự lựa chọn hơn khi tìm việc. Những vùng tập trung nhiều các công ty là ***Texas,California,Arizona, Illinois, New York***,..."
   ]
  },
  {
   "cell_type": "markdown",
   "id": "6d3952ce",
   "metadata": {},
   "source": [
    "### Câu hỏi 4: Vị trí Data Science mà các lĩnh vực mạnh có nhu cầu tuyển dụng cao? \n",
    "\n",
    "Việc xác định các vị trí Data Science có nhu cầu tuyển dụng cao sẽ giúp ta có cái nhìn về nhu cầu tuyển dụng lao động DS hiện nay cũng như các lĩnh vực mà DS có thể tham gia vào."
   ]
  },
  {
   "cell_type": "markdown",
   "id": "706d22dd",
   "metadata": {},
   "source": [
    "Đầu tiên, ta cần xác định lĩnh vực mạnh là gì? Ta sẽ xem lĩnh vực mạnh là các lĩnh vực mà có nhiều công ty thông báo tuyển dụng theo nhất (top 10 của cột `Sector`). Sau đó, dựa trên top 10 các lĩnh vực vừa xác định, ta sẽ đi tìm những vị trí Data Science mà các lĩnh vực này tuyển dụng nhiều.\n",
    "* **Bước 1:** Xác định lĩnh vực mạnh từ cột `Sector`.\n",
    "* **Bước 2:** Xử lý cột `Job Title`.\n",
    "* **Bước 3:** Trả lời câu hỏi đặt ra \" Vị trí Data Science mà các lĩnh vực mạnh có nhu cầu tuyển dụng cao? \""
   ]
  },
  {
   "cell_type": "markdown",
   "id": "78884158",
   "metadata": {},
   "source": [
    "**Bước 1:** Xác định các lĩnh vực mạnh từ cột Sector"
   ]
  },
  {
   "cell_type": "code",
   "execution_count": 52,
   "id": "735eca50",
   "metadata": {},
   "outputs": [
    {
     "name": "stdout",
     "output_type": "stream",
     "text": [
      "26\n"
     ]
    },
    {
     "data": {
      "text/plain": [
       "array(['Travel & Tourism', 'Consumer Services', nan,\n",
       "       'Information Technology', 'Business Services', 'Insurance',\n",
       "       'Finance', 'Retail', 'Media', 'Restaurants, Bars & Food Services',\n",
       "       'Agriculture & Forestry', 'Non-Profit', 'Education', 'Government',\n",
       "       'Health Care', 'Oil, Gas, Energy & Utilities',\n",
       "       'Accounting & Legal', 'Manufacturing', 'Real Estate',\n",
       "       'Biotech & Pharmaceuticals', 'Arts, Entertainment & Recreation',\n",
       "       'Aerospace & Defense', 'Construction, Repair & Maintenance',\n",
       "       'Transportation & Logistics', 'Telecommunications',\n",
       "       'Mining & Metals'], dtype=object)"
      ]
     },
     "execution_count": 52,
     "metadata": {},
     "output_type": "execute_result"
    }
   ],
   "source": [
    "print(len(ds_df['Sector'].unique()))\n",
    "ds_df['Sector'].unique()"
   ]
  },
  {
   "cell_type": "code",
   "execution_count": 53,
   "id": "26e804da",
   "metadata": {},
   "outputs": [
    {
     "data": {
      "text/plain": [
       "Information Technology                1124\n",
       "Business Services                      679\n",
       "Biotech & Pharmaceuticals              293\n",
       "Finance                                270\n",
       "Health Care                            197\n",
       "Insurance                              109\n",
       "Education                              101\n",
       "Manufacturing                           87\n",
       "Government                              82\n",
       "Media                                   75\n",
       "Retail                                  72\n",
       "Accounting & Legal                      71\n",
       "Aerospace & Defense                     37\n",
       "Oil, Gas, Energy & Utilities            34\n",
       "Telecommunications                      21\n",
       "Consumer Services                       20\n",
       "Non-Profit                              18\n",
       "Construction, Repair & Maintenance      16\n",
       "Transportation & Logistics              16\n",
       "Real Estate                             12\n",
       "Name: Sector, dtype: int64"
      ]
     },
     "execution_count": 53,
     "metadata": {},
     "output_type": "execute_result"
    }
   ],
   "source": [
    "top_10_sector = ds_df['Sector'].value_counts()[:20]\n",
    "top_10_sector"
   ]
  },
  {
   "cell_type": "code",
   "execution_count": 54,
   "id": "05d95385",
   "metadata": {},
   "outputs": [
    {
     "data": {
      "image/png": "[encoded data removed]",
      "text/plain": [
       "<Figure size 1080x504 with 1 Axes>"
      ]
     },
     "metadata": {
      "needs_background": "light"
     },
     "output_type": "display_data"
    }
   ],
   "source": [
    "top_10_sector.sort_values().plot.barh(figsize=(15, 7))\n",
    "plt.xlabel('Count')\n",
    "plt.ylabel('Sector')\n",
    "plt.title('Top 10 sector')\n",
    "plt.show();"
   ]
  },
  {
   "cell_type": "markdown",
   "id": "fc17d8d5",
   "metadata": {},
   "source": [
    "Qua biểu đồ trên, ta có thể đưa ra các nhận xét:\n",
    "* `Information Technology` là lĩnh vực có nhu cầu tuyển dụng cao nhất và lớn hơn rất nhiều so với các lĩnh vực còn lại (gần gấp đôi lĩnh vực thứ 2 là `Business Services`)\n",
    "\n",
    "* 26 lĩnh vực trong 3909 thông báo tuyển dụng đã cho thấy sự đa dạng về lĩnh vực trong Data Science. "
   ]
  },
  {
   "cell_type": "markdown",
   "id": "33bfa3de",
   "metadata": {},
   "source": [
    "**Bước 2:** Xử lý cột `Job Title`"
   ]
  },
  {
   "cell_type": "code",
   "execution_count": 55,
   "id": "93b3193e",
   "metadata": {},
   "outputs": [
    {
     "data": {
      "text/html": [
       "<div>\n",
       "<style scoped>\n",
       "    .dataframe tbody tr th:only-of-type {\n",
       "        vertical-align: middle;\n",
       "    }\n",
       "\n",
       "    .dataframe tbody tr th {\n",
       "        vertical-align: top;\n",
       "    }\n",
       "\n",
       "    .dataframe thead th {\n",
       "        text-align: right;\n",
       "    }\n",
       "</style>\n",
       "<table border=\"1\" class=\"dataframe\">\n",
       "  <thead>\n",
       "    <tr style=\"text-align: right;\">\n",
       "      <th></th>\n",
       "      <th>Job Title</th>\n",
       "      <th>Sector</th>\n",
       "    </tr>\n",
       "  </thead>\n",
       "  <tbody>\n",
       "    <tr>\n",
       "      <th>1</th>\n",
       "      <td>Data Scientist</td>\n",
       "      <td>Consumer Services</td>\n",
       "    </tr>\n",
       "    <tr>\n",
       "      <th>3</th>\n",
       "      <td>Data Analyst</td>\n",
       "      <td>Information Technology</td>\n",
       "    </tr>\n",
       "    <tr>\n",
       "      <th>4</th>\n",
       "      <td>Director</td>\n",
       "      <td>Business Services</td>\n",
       "    </tr>\n",
       "    <tr>\n",
       "      <th>5</th>\n",
       "      <td>Data Scientist</td>\n",
       "      <td>Insurance</td>\n",
       "    </tr>\n",
       "    <tr>\n",
       "      <th>6</th>\n",
       "      <td>Quantitative Researcher</td>\n",
       "      <td>Finance</td>\n",
       "    </tr>\n",
       "    <tr>\n",
       "      <th>...</th>\n",
       "      <td>...</td>\n",
       "      <td>...</td>\n",
       "    </tr>\n",
       "    <tr>\n",
       "      <th>3904</th>\n",
       "      <td>AWS Data Engineer</td>\n",
       "      <td>Information Technology</td>\n",
       "    </tr>\n",
       "    <tr>\n",
       "      <th>3905</th>\n",
       "      <td>Data Analyst â Junior</td>\n",
       "      <td>Information Technology</td>\n",
       "    </tr>\n",
       "    <tr>\n",
       "      <th>3906</th>\n",
       "      <td>Security Analytics Data Engineer</td>\n",
       "      <td>Business Services</td>\n",
       "    </tr>\n",
       "    <tr>\n",
       "      <th>3907</th>\n",
       "      <td>Security Analytics Data Engineer</td>\n",
       "      <td>Accounting &amp; Legal</td>\n",
       "    </tr>\n",
       "    <tr>\n",
       "      <th>3908</th>\n",
       "      <td>Patient Safety Physician or Safety Scientist</td>\n",
       "      <td>Biotech &amp; Pharmaceuticals</td>\n",
       "    </tr>\n",
       "  </tbody>\n",
       "</table>\n",
       "<p>3334 rows × 2 columns</p>\n",
       "</div>"
      ],
      "text/plain": [
       "                                          Job Title                     Sector\n",
       "1                                    Data Scientist          Consumer Services\n",
       "3                                      Data Analyst     Information Technology\n",
       "4                                          Director          Business Services\n",
       "5                                    Data Scientist                  Insurance\n",
       "6                           Quantitative Researcher                    Finance\n",
       "...                                             ...                        ...\n",
       "3904                              AWS Data Engineer     Information Technology\n",
       "3905                          Data Analyst â Junior     Information Technology\n",
       "3906               Security Analytics Data Engineer          Business Services\n",
       "3907               Security Analytics Data Engineer         Accounting & Legal\n",
       "3908  Patient Safety Physician or Safety Scientist   Biotech & Pharmaceuticals\n",
       "\n",
       "[3334 rows x 2 columns]"
      ]
     },
     "execution_count": 55,
     "metadata": {},
     "output_type": "execute_result"
    }
   ],
   "source": [
    "Job_Sector_top_10 = ds_df.loc[ds_df['Sector'].isin(top_10_sector.index.to_list())][['Job Title', 'Sector']]\n",
    "Job_Sector_top_10 "
   ]
  },
  {
   "cell_type": "markdown",
   "id": "fea09330",
   "metadata": {},
   "source": [
    "Xử lý cột `Sector`:\n",
    "* Ta thấy \"Senior\", \"Junior\", \"Sr\", \"Jr\" đều chỉ về kinh nghiệm của một người hơn là vị trí công việc. Vì thế, ta sẽ loại bỏ các cụm từ này trong cột `Job Title`.\n",
    "* Trong cột `Job Title` còn có giá trị số. Vì không thể xác định vị trí tuyển dụng thông qua các số này nên sẽ thực hiện loại bỏ chúng. \n",
    "* Ngoài ra, còn có một số dòng ghi các giá trị không thể hiện vị trí tuyển dụng như \"Big\", \"Wi\",... nhưng chỉ là thiểu số và ta cũng không thể tìm ra hết nên không thể xử lý tất cả dòng này."
   ]
  },
  {
   "cell_type": "code",
   "execution_count": 56,
   "id": "c65c6d33",
   "metadata": {},
   "outputs": [],
   "source": [
    "val_replace = [\"Senior \", \"Junior \", \"Sr \", \"Jr \"]\n",
    "def replace_val(x):\n",
    "    for val in val_replace:\n",
    "        if val in x:\n",
    "            x = x.replace(val, '')\n",
    "    return x.strip()\n",
    "Job_Sector_top_10['Job Title'] = Job_Sector_top_10['Job Title'].apply(lambda x: replace_val(x))"
   ]
  },
  {
   "cell_type": "code",
   "execution_count": 57,
   "id": "91067a28",
   "metadata": {},
   "outputs": [],
   "source": [
    "Job_Sector_top_10.drop(Job_Sector_top_10[Job_Sector_top_10['Job Title'].apply(lambda x: x.isnumeric())].index, inplace=True)"
   ]
  },
  {
   "cell_type": "code",
   "execution_count": 58,
   "id": "ebe54c70",
   "metadata": {},
   "outputs": [
    {
     "name": "stdout",
     "output_type": "stream",
     "text": [
      "Numbers of unique job title 1059\n"
     ]
    }
   ],
   "source": [
    "print(\"Numbers of unique job title\", len(Job_Sector_top_10['Job Title'].unique()))"
   ]
  },
  {
   "cell_type": "code",
   "execution_count": 59,
   "id": "53b84108",
   "metadata": {},
   "outputs": [
    {
     "data": {
      "image/png": "[encoded data removed]",
      "text/plain": [
       "<Figure size 432x288 with 1 Axes>"
      ]
     },
     "metadata": {
      "needs_background": "light"
     },
     "output_type": "display_data"
    }
   ],
   "source": [
    "jobTitle_top_10 = Job_Sector_top_10['Job Title'].value_counts()[:11]\n",
    "jobTitle_top_10 = {k: v for k, v in sorted(jobTitle_top_10.items(), key = lambda x: x[1])}\n",
    "plt.barh(list(jobTitle_top_10.keys()), list(jobTitle_top_10.values()))\n",
    "plt.xlabel('Count')\n",
    "plt.ylabel('Job Title')\n",
    "plt.title('Top 10 Job Title')\n",
    "plt.show();"
   ]
  },
  {
   "cell_type": "markdown",
   "id": "87eeaa5b",
   "metadata": {},
   "source": [
    "**Bước 3:** Trả lời câu hỏi và đưa ra nhận xét"
   ]
  },
  {
   "cell_type": "markdown",
   "id": "d0c3128c",
   "metadata": {},
   "source": [
    "Như vậy, ta có những đánh giá sau:\n",
    "* Các vị trí như Data Scientist, Data Analyst, Data Engineer là những vị trí đang có nhu cầu tuyển dụng rất lớn. \n",
    "* Có rất nhiều lĩnh vực cần vị trí liên quan tới Data Science từ Information Technology đến các ngành liên quan tới kinh tế như Business Services hay ngay cả các lĩnh vực như Health Care, Education, Government cũng đang có nhu cầu tuyển dụng.\n",
    "* Có hơn 1000 vị trí khác nhau trong 3334 thông báo tuyển dụng từ các công ty cho thấy vị trí mà Data Science có thể đảm nhiệm rất đa dạng."
   ]
  },
  {
   "cell_type": "markdown",
   "id": "6197ad88",
   "metadata": {},
   "source": [
    "### Câu hỏi 5: Mức lương có liên quan tới size của công ty không?\n",
    "\n",
    "Việc phân tích sự tương quan giữa mức lương với size của công ty sẽ giúp ta có cái nhìn về việc chi trả lương thưởng tại các công ty lớn, vừa và nhỏ. Qua đó, ta biết được liệu công ty càng lớn thì sự đãi ngộ với nhân viên (qua mức lương) sẽ càng cao hay không.\n",
    "\n",
    "Ta cần tiến hành một số thao tác xử lý trước khi trực quan hóa và tìm câu trả lời cho câu hỏi này.\n",
    "\n",
    "- **Bước 1:** Phân loại kích thước công ty theo lớn, vừa và nhỏ.\n",
    "\n",
    "- **Bước 2:** Xác định `mean`, `min`, `max`, `median` của `SalaryMin` và `SalaryMax` theo nhóm công ty. \n",
    "\n",
    "- **Bước 3:** Trực quan hóa dữ liệu và đưa ra kết luận."
   ]
  },
  {
   "cell_type": "code",
   "execution_count": 60,
   "id": "f306629c",
   "metadata": {},
   "outputs": [
    {
     "data": {
      "text/plain": [
       "10000.0    993\n",
       "125.0      563\n",
       "3000.0     553\n",
       "25.0       550\n",
       "350.0      418\n",
       "750.0      307\n",
       "7500.0     219\n",
       "Name: Size, dtype: int64"
      ]
     },
     "execution_count": 60,
     "metadata": {},
     "output_type": "execute_result"
    }
   ],
   "source": [
    "ds_df['Size'].value_counts()"
   ]
  },
  {
   "cell_type": "markdown",
   "id": "2414138d",
   "metadata": {},
   "source": [
    "**Bước 1:** Phân loại kích thước công ty theo lớn, vừa và nhỏ.\n"
   ]
  },
  {
   "cell_type": "markdown",
   "id": "6654f5cc",
   "metadata": {},
   "source": [
    "Khá may mắn, size của công ty không có quá nhiều giá trị khác nhau gây khó quan sát. Ta có thể dễ dàng phân loại các công ty này thành 3 nhóm: 1. Lớn (= 10000), 2. Vừa (1000<= size <10000), 3. Nhỏ (<1000)."
   ]
  },
  {
   "cell_type": "code",
   "execution_count": 61,
   "id": "6847e37b",
   "metadata": {},
   "outputs": [],
   "source": [
    "df = ds_df[[\"Size\", \"SalaryMin\", \"SalaryMax\"]].copy()\n",
    "df.loc[df.Size < 1000, 'Size'] = 3\n",
    "df.loc[(df.Size >= 1000) & (df.Size < 10000),'Size'] = 2\n",
    "df.loc[df.Size == 10000, 'Size'] = 1\n"
   ]
  },
  {
   "cell_type": "markdown",
   "id": "b4d6387b",
   "metadata": {},
   "source": [
    "**Bước 2:** Xác định `mean`, `min`, `max`, `median` của `SalaryMin` và `SalaryMax` theo nhóm công ty. \n"
   ]
  },
  {
   "cell_type": "code",
   "execution_count": 62,
   "id": "50ce9f8c",
   "metadata": {},
   "outputs": [
    {
     "data": {
      "text/html": [
       "<div>\n",
       "<style scoped>\n",
       "    .dataframe tbody tr th:only-of-type {\n",
       "        vertical-align: middle;\n",
       "    }\n",
       "\n",
       "    .dataframe tbody tr th {\n",
       "        vertical-align: top;\n",
       "    }\n",
       "\n",
       "    .dataframe thead tr th {\n",
       "        text-align: left;\n",
       "    }\n",
       "\n",
       "    .dataframe thead tr:last-of-type th {\n",
       "        text-align: right;\n",
       "    }\n",
       "</style>\n",
       "<table border=\"1\" class=\"dataframe\">\n",
       "  <thead>\n",
       "    <tr>\n",
       "      <th></th>\n",
       "      <th colspan=\"5\" halign=\"left\">SalaryMin</th>\n",
       "      <th colspan=\"5\" halign=\"left\">SalaryMax</th>\n",
       "    </tr>\n",
       "    <tr>\n",
       "      <th></th>\n",
       "      <th>count</th>\n",
       "      <th>min</th>\n",
       "      <th>max</th>\n",
       "      <th>mean</th>\n",
       "      <th>median</th>\n",
       "      <th>count</th>\n",
       "      <th>min</th>\n",
       "      <th>max</th>\n",
       "      <th>mean</th>\n",
       "      <th>median</th>\n",
       "    </tr>\n",
       "    <tr>\n",
       "      <th>Size</th>\n",
       "      <th></th>\n",
       "      <th></th>\n",
       "      <th></th>\n",
       "      <th></th>\n",
       "      <th></th>\n",
       "      <th></th>\n",
       "      <th></th>\n",
       "      <th></th>\n",
       "      <th></th>\n",
       "      <th></th>\n",
       "    </tr>\n",
       "  </thead>\n",
       "  <tbody>\n",
       "    <tr>\n",
       "      <th>1.0</th>\n",
       "      <td>993</td>\n",
       "      <td>12</td>\n",
       "      <td>200</td>\n",
       "      <td>84.80</td>\n",
       "      <td>83</td>\n",
       "      <td>993</td>\n",
       "      <td>27</td>\n",
       "      <td>254</td>\n",
       "      <td>138.75</td>\n",
       "      <td>143</td>\n",
       "    </tr>\n",
       "    <tr>\n",
       "      <th>2.0</th>\n",
       "      <td>772</td>\n",
       "      <td>12</td>\n",
       "      <td>200</td>\n",
       "      <td>80.56</td>\n",
       "      <td>76</td>\n",
       "      <td>772</td>\n",
       "      <td>27</td>\n",
       "      <td>254</td>\n",
       "      <td>130.99</td>\n",
       "      <td>124</td>\n",
       "    </tr>\n",
       "    <tr>\n",
       "      <th>3.0</th>\n",
       "      <td>1838</td>\n",
       "      <td>10</td>\n",
       "      <td>200</td>\n",
       "      <td>81.33</td>\n",
       "      <td>76</td>\n",
       "      <td>1838</td>\n",
       "      <td>26</td>\n",
       "      <td>254</td>\n",
       "      <td>132.73</td>\n",
       "      <td>129</td>\n",
       "    </tr>\n",
       "  </tbody>\n",
       "</table>\n",
       "</div>"
      ],
      "text/plain": [
       "     SalaryMin                        SalaryMax                        \n",
       "         count min  max   mean median     count min  max    mean median\n",
       "Size                                                                   \n",
       "1.0        993  12  200  84.80     83       993  27  254  138.75    143\n",
       "2.0        772  12  200  80.56     76       772  27  254  130.99    124\n",
       "3.0       1838  10  200  81.33     76      1838  26  254  132.73    129"
      ]
     },
     "execution_count": 62,
     "metadata": {},
     "output_type": "execute_result"
    }
   ],
   "source": [
    "sdf = df.groupby(by = 'Size').agg(['count','min','max','mean', 'median']).round(2)\n",
    "sdf"
   ]
  },
  {
   "cell_type": "markdown",
   "id": "1ab797a0",
   "metadata": {},
   "source": [
    "Ta có thể rút ra nhận xét như sau: \n",
    "\n",
    "* Min Salary dao động từ 10 - 200 USD, Max Salary dao động từ 26 - 254 USD.\n",
    "\n",
    "* Mức lương giữa các công ty lớn, vừa và nhỏ không có sự chênh lệch quá nhiều.\n",
    "\n",
    "* Công ty nhỏ chiếm hơn phân nửa nhu cầu tuyển dụng."
   ]
  },
  {
   "cell_type": "code",
   "execution_count": 63,
   "id": "5b54a0d5",
   "metadata": {},
   "outputs": [
    {
     "data": {
      "image/png": "[encoded data removed]",
      "text/plain": [
       "<Figure size 432x288 with 1 Axes>"
      ]
     },
     "metadata": {},
     "output_type": "display_data"
    }
   ],
   "source": [
    "fig1, ax1 = plt.subplots()\n",
    "colors = ['gold','lightcoral', 'lightskyblue']\n",
    "ax1.pie(df['Size'].value_counts().to_list(),\n",
    "        labels = ['Small', 'Medium', 'Big'], autopct = '%1.1f%%', colors = colors, shadow = True)\n",
    "plt.show()"
   ]
  },
  {
   "cell_type": "code",
   "execution_count": 64,
   "id": "46b922ef",
   "metadata": {},
   "outputs": [
    {
     "data": {
      "image/png": "[encoded data removed]",
      "text/plain": [
       "<Figure size 432x288 with 1 Axes>"
      ]
     },
     "metadata": {
      "needs_background": "light"
     },
     "output_type": "display_data"
    }
   ],
   "source": [
    "x = np.arange(3)\n",
    "y1 = [sdf['SalaryMin']['min'][1],sdf['SalaryMin']['max'][1],sdf['SalaryMin']['mean'][1]]\n",
    "y2 = [sdf['SalaryMin']['min'][2],sdf['SalaryMin']['max'][2],sdf['SalaryMin']['mean'][2]]\n",
    "y3 = [sdf['SalaryMin']['min'][3],sdf['SalaryMin']['max'][3],sdf['SalaryMin']['mean'][3]]\n",
    "width = 0.2\n",
    "  \n",
    "# plot data in grouped manner of bar type\n",
    "plt.bar(x-0.2, y1, width, color='cyan')\n",
    "plt.bar(x, y2, width, color='orange')\n",
    "plt.bar(x+0.2, y3, width, color='green')\n",
    "plt.xticks(x, ['Min', 'Max', 'Mean'])\n",
    "plt.xlabel(\"Salary\")\n",
    "plt.ylabel(\"Values\")\n",
    "plt.legend([\"Big\", \"Medium\", \"Small\"])\n",
    "plt.show()"
   ]
  },
  {
   "cell_type": "markdown",
   "id": "6713cee0",
   "metadata": {},
   "source": [
    "Ta có thể rút ra các nhận xét sau:\n",
    "* Phần lớn công ty đang có nhu cầu tuyển dụng là công ty nhỏ.\n",
    "\n",
    "* Mức lương các công ty lớn có thể chi trả có phần nhỉnh hơn so với công ty tầm trung hay công ty nhỏ.\n",
    "\n",
    "* Mức lương thấp nhất nằm vào khoảng 10-12 (USD) và mức lương cao nhất nằm vào khoảng 254 USD.\n",
    "\n",
    "* Đối với Salary Min và Salary Max, các công ty có thể đưa ra mức giá chênh lệch nhau (trong mỗi cột) đến hơn 100 USD.\n",
    "\n",
    "Ta chưa thể rút ra kết luận công ty càng lớn sẽ đưa ra mức lương cao hơn vì số liệu phản ánh không quá rõ ràng hay có sự chênh lệch đủ lớn để có thể rút ra kết luận. Đa số công ty đều đưa ra mức giá tương đương với thị trường để có thể thu hút người lao động."
   ]
  },
  {
   "cell_type": "markdown",
   "id": "7a2b7b36",
   "metadata": {},
   "source": [
    "## Tổng kết"
   ]
  },
  {
   "cell_type": "markdown",
   "id": "e4947930",
   "metadata": {},
   "source": [
    "### Võ Thành Nam\n",
    "\n",
    "1. Một số khó khăn gặp phải: \n",
    "    - Sử dụng github để làm việc nhóm (vì các đồ án trước đây chủ yếu làm cá nhân nên không dùng github).\n",
    "    - Gặp một số khó khăn khi chia việc vì tốc độ làm việc của mỗi người trong nhóm khác nhau.\n",
    "    - Phải tìm tòi một vài thư viện mới mà trên lớp chưa được dạy.\n",
    "2. Các bài học đã học được: \n",
    "    - Sử dụng thành thạo github (ở mức cơ bản).\n",
    "    - Tương đối thuần thục các thao tác tiền xử lí, khám phá dữ liệu, trả lời các câu hỏi từ dữ liệu.\n",
    "    - Nắm được những thư viện cơ bản phục vụ cho các thao tác với dữ liệu."
   ]
  },
  {
   "cell_type": "markdown",
   "id": "28b4cf38",
   "metadata": {},
   "source": [
    "### Phạm Lưu Mỹ Phúc \n",
    "\n",
    "1. Một số khó khăn gặp phải: \n",
    "    - Sử dụng github để làm việc nhóm vì chưa quen sử dụng github.\n",
    "    - Không có nhiều thời gian làm đồ án vì là thời gian cuối kì.\n",
    "    - Tìm câu hỏi tốt để đưa ra câu trả lời từ dữ liệu.\n",
    "2. Các bài học đã học được: \n",
    "    - Biết dùng github ở mức cơ bản.\n",
    "    - Tương đối thuần thục các thao tác tiền xử lí, khám phá dữ liệu, trả lời các câu hỏi từ dữ liệu.\n",
    "    - Nắm được những thư viện cơ bản phục vụ cho các thao tác với dữ liệu.\n",
    "    - Học hỏi thêm thao tác tiền xử lý, khám phá dữ liệu và đặt câu hỏi từ các tài liệu tham khảo."
   ]
  },
  {
   "cell_type": "markdown",
   "id": "cf5608f8",
   "metadata": {},
   "source": [
    "### Với cả nhóm\n",
    "\n",
    "Nếu có thêm thời gian, nhóm sẽ:\n",
    "- Cố gắng khai thác thêm những thuộc tính trong dataset mà chưa được sử dụng trong các câu hỏi đã đề cập ở trên.\n",
    "- Có thể cố gắng xây dựng một mô hình Machine Learning đơn giản để gợi ý công ty cho những người cần tìm kiếm công việc dựa trên nhu cầu của họ."
   ]
  },
  {
   "cell_type": "markdown",
   "id": "4fa81af9",
   "metadata": {},
   "source": [
    "## Tài liệu tham khảo"
   ]
  },
  {
   "cell_type": "markdown",
   "id": "8131a6cf",
   "metadata": {},
   "source": [
    "1. [Một số thao tác tiền xử lí của các thành viên trên Kaggle](https://www.kaggle.com/andrewmvd/data-scientist-jobs/code).\n",
    "2. [Bảng chuyển đổi mã vùng USA](https://www.scouting.org/resources/los/states/).\n",
    "3. Slide và video bài giảng của giảng viên."
   ]
  }
 ],
 "metadata": {
  "kernelspec": {
   "display_name": "Python 3 (ipykernel)",
   "language": "python",
   "name": "python3"
  },
  "language_info": {
   "codemirror_mode": {
    "name": "ipython",
    "version": 3
   },
   "file_extension": ".py",
   "mimetype": "text/x-python",
   "name": "python",
   "nbconvert_exporter": "python",
   "pygments_lexer": "ipython3",
   "version": "3.8.8"
  }
 },
 "nbformat": 4,
 "nbformat_minor": 5
}

{
 "cells": [
  {
   "cell_type": "markdown",
   "id": "5a042a36",
   "metadata": {},
   "source": [
    "# Đồ án cuối kì Lập trình cho khoa học dữ liệu\n"
   ]
  },
  {
   "cell_type": "markdown",
   "id": "b2409499",
   "metadata": {},
   "source": [
    "## Thành viên nhóm"
   ]
  },
  {
   "cell_type": "markdown",
   "id": "c5ac6e19",
   "metadata": {},
   "source": [
    "\n",
    "| |Họ và tên|MSSV|\n",
    "|:--:|:--|:--:|\n",
    "|1|Võ Thành Nam|19120301|\n",
    "|2|Phạm Lưu Mỹ Phúc|19120331|"
   ]
  },
  {
   "cell_type": "markdown",
   "id": "f0104328",
   "metadata": {},
   "source": [
    "## Môi trường code"
   ]
  },
  {
   "cell_type": "code",
   "execution_count": null,
   "id": "04412bd4",
   "metadata": {},
   "outputs": [],
   "source": [
    "import sys\n",
    "sys.executable"
   ]
  },
  {
   "cell_type": "markdown",
   "id": "cbedd2a7",
   "metadata": {},
   "source": [
    "## Tổng quan về dữ liệu sẽ được dùng để phân tích\n",
    "\n",
    "Bộ dữ liệu được sử dụng là file `DataScientist.csv`. Đây là dữ liệu nằm trong một bộ dữ liệu gồm nhiều file khác về thông tin tuyển dụng của những ngành nghề liên quan đến Data. \n",
    "- Bộ dữ liệu được tác giả *picklesueat* lấy từ trang web https://www.glassdoor.com/ (một trang web tìm kiếm việc làm), sử dụng công cụ `selenium`. \n",
    "- Bộ dữ liệu đã được tác giả public tại [Github](https://github.com/picklesueat/data_jobs_data) và được reup tại [Kaggle](https://www.kaggle.com/andrewmvd/data-scientist-jobs).\n",
    "- Về license của dữ liệu, tác giả không đề cập cụ thể mà cho phép mọi người có thể tải xuống tùy ý.\n",
    "- File dữ liệu `DataScientist.csv` là file dữ liệu về thông tin tuyển dụng của nghề Data Scientist bao gồm tên vị trí tuyển dụng, mức lương, tên công ty,..."
   ]
  },
  {
   "cell_type": "markdown",
   "id": "e1cf1f2b",
   "metadata": {},
   "source": [
    "## Import các thư viện cần thiết"
   ]
  },
  {
   "cell_type": "code",
   "execution_count": null,
   "id": "387a3692",
   "metadata": {},
   "outputs": [],
   "source": [
    "import pandas as pd\n",
    "import numpy as np\n",
    "import re\n",
    "import matplotlib as plt"
   ]
  },
  {
   "cell_type": "markdown",
   "id": "1585c084",
   "metadata": {},
   "source": [
    "## Khám phá dữ liệu"
   ]
  },
  {
   "cell_type": "markdown",
   "id": "e0d809c3",
   "metadata": {},
   "source": [
    "### Đọc dữ liệu vào từ file csv vào dataframe"
   ]
  },
  {
   "cell_type": "code",
   "execution_count": null,
   "id": "0180dbbe",
   "metadata": {},
   "outputs": [],
   "source": [
    "ds_df = pd.read_csv('DataScientist.csv')\n",
    "ds_df.head()"
   ]
  },
  {
   "cell_type": "markdown",
   "id": "b2f74463",
   "metadata": {},
   "source": [
    "Đầu tiên, ta thấy dữ liệu có đến 2 cột index, ta sẽ không sử dụng 2 cột này, do đó sẽ loại bỏ 2 cột này đi."
   ]
  },
  {
   "cell_type": "code",
   "execution_count": null,
   "id": "fc22b220",
   "metadata": {},
   "outputs": [],
   "source": [
    "ds_df.drop(columns = ['Unnamed: 0','index'],inplace = True)\n",
    "ds_df.head()"
   ]
  },
  {
   "cell_type": "markdown",
   "id": "2d47b4af",
   "metadata": {},
   "source": [
    "### Số lượng dòng và cột của dữ liệu"
   ]
  },
  {
   "cell_type": "code",
   "execution_count": null,
   "id": "53fa7d1d",
   "metadata": {},
   "outputs": [],
   "source": [
    "n_rows = ds_df.shape[0]\n",
    "n_cols = ds_df.shape[1]\n",
    "print(f'Number of rows: {n_rows}')\n",
    "print(f'Number of columns: {n_cols}')"
   ]
  },
  {
   "cell_type": "markdown",
   "id": "4b2a20b4",
   "metadata": {},
   "source": [
    "### Xét xem các dữ liệu có trùng nhau hay không"
   ]
  },
  {
   "cell_type": "code",
   "execution_count": null,
   "id": "15808744",
   "metadata": {},
   "outputs": [],
   "source": [
    "print(f'Number of duplicated rows: {sum(ds_df.duplicated())}')"
   ]
  },
  {
   "cell_type": "markdown",
   "id": "70191e56",
   "metadata": {},
   "source": [
    "### Ý nghĩa của các cột trong dataframe\n",
    "(Dựa theo mô tả tại trang web [Kaggle](https://www.kaggle.com/andrewmvd/data-scientist-jobs))\n",
    "\n",
    "- Job Title: tên vị trí tuyển dụng.\n",
    "- Salary Estimate: mức lương dự kiến.\n",
    "- Job Description: mô tả công việc.\n",
    "- Rating: điểm đánh giá.\n",
    "- Company Name: tên công ty.\n",
    "- Location: địa điểm làm việc.\n",
    "- Headquarters: trụ sở công ty.\n",
    "- Size: kích thước công ty (số lượng nhân viên).\n",
    "- Founded: năm thành lập công ty.\n",
    "- Type of ownership: loại hình sở hữu của công ty.\n",
    "- Industry: phân loại ngành của công ty.\n",
    "- Sector: lĩnh vực của công ty.\n",
    "- Revenue: doanh thu của công ty (theo năm).\n",
    "- Competitors: công ty đối thủ.\n",
    "- Easy Apply: công ty có dễ apply hay không."
   ]
  },
  {
   "cell_type": "markdown",
   "id": "c02c0086",
   "metadata": {},
   "source": [
    "### Sơ lược về dữ liệu trong các cột"
   ]
  },
  {
   "cell_type": "code",
   "execution_count": null,
   "id": "48123959",
   "metadata": {},
   "outputs": [],
   "source": [
    "ds_df.info()"
   ]
  },
  {
   "cell_type": "markdown",
   "id": "a2554c54",
   "metadata": {},
   "source": [
    "### Nhận xét chung\n",
    "\n",
    "- Như ta có thể thấy, dữ liệu không có bất kì dòng nào thiếu hay trùng lắp. Tuy nhiên, khi quan sát bảng dữ liệu ở phía trên, có thế thấy tác giả đã thay thế các dữ liệu (có thể là bị thiếu) bằng giá trị -1.\n",
    "- Những cột đáng lẽ cần phải ở kiểu dữ liệu là số như `Salary Estimate`, `Size` thì lại có kiểu dữ liệu là object, ta cần phải xử lí những cột này.\n",
    "- Cột `Company Name` có vẻ bị lỗi khi thu thập dữ liệu (tên công ty gắn liền với rating).\n",
    "- Cột `Easy Apply` chỉ nên có giá trị `True` hoặc `False`.\n",
    "- ...\n",
    "\n",
    "Ta không quan sát được toàn bộ dữ liệu, do đó, ta sẽ phân tích và tiền xử lí cho từng cột trong phần tiền xử lí dữ liệu."
   ]
  },
  {
   "cell_type": "markdown",
   "id": "af4f1ee4",
   "metadata": {},
   "source": [
    "## Tiền xử lí dữ liệu"
   ]
  },
  {
   "cell_type": "code",
   "execution_count": null,
   "id": "2347d1bd",
   "metadata": {},
   "outputs": [],
   "source": [
    "ds_df.head()"
   ]
  },
  {
   "cell_type": "markdown",
   "id": "3f6782d8",
   "metadata": {},
   "source": [
    "### Các giá trị của Job title liệu đã đúng hay chưa?\n",
    "\n",
    "Quan sát các dòng đầu tiên, ta thấy `Job Title` không chỉ bao gồm một vị trí mà có thế có nhiều vị trí, ta sẽ xem xét các giá trị trong cột này."
   ]
  },
  {
   "cell_type": "code",
   "execution_count": null,
   "id": "300b5bc2",
   "metadata": {},
   "outputs": [],
   "source": [
    "ds_df['Job Title'].nunique()"
   ]
  },
  {
   "cell_type": "markdown",
   "id": "03eb8e60",
   "metadata": {},
   "source": [
    "Số lượng các `Job Title` khác nhau là rất lớn, do đó ta sẽ xem qua 20 giá trị xuất hiện nhiều nhất và 20 giá trị xuất hiện ít nhất."
   ]
  },
  {
   "cell_type": "code",
   "execution_count": null,
   "id": "4495a874",
   "metadata": {},
   "outputs": [],
   "source": [
    "job_title_first_20 = ds_df['Job Title'].value_counts()[:20].reset_index()\n",
    "job_title_last_20 = ds_df['Job Title'].value_counts()[-20:].reset_index()\n",
    "pd.concat([job_title_first_20,job_title_last_20],axis=1).rename(columns = {'Job Title':'count','index':'Job Title'})"
   ]
  },
  {
   "cell_type": "markdown",
   "id": "16a3ae6c",
   "metadata": {},
   "source": [
    "Ta có nhận xét: mỗi công ty khi đăng tin tuyển dụng sẽ có một cách thông tin về **Job title** riêng (có thể là tuyển dụng cho nhiều vị trí cùng lúc, ghi tên vị trí cùng với thời gian làm việc,...) nên số lượng giá trị là rất lớn. Tuy nhiên cũng có nhiều vị trí trùng nhau nhưng lại có cách viết khác nhau (Sr., Senior), ta sẽ xử lí những giá trị này."
   ]
  },
  {
   "cell_type": "code",
   "execution_count": null,
   "id": "5d55007e",
   "metadata": {},
   "outputs": [],
   "source": [
    "ds_df['Job Title'] = ds_df['Job Title'].str.replace('Sr.','Senior',regex=False)\n",
    "ds_df['Job Title'] = ds_df['Job Title'].str.replace('Jr.','Junior',regex=False)"
   ]
  },
  {
   "cell_type": "markdown",
   "id": "bee125b7",
   "metadata": {},
   "source": [
    "### Loại bỏ rating trong Company name"
   ]
  },
  {
   "cell_type": "code",
   "execution_count": null,
   "id": "dd4862e6",
   "metadata": {},
   "outputs": [],
   "source": [
    "ds_df['Company Name'] = ds_df['Company Name'].str.split('\\n').str[0]"
   ]
  },
  {
   "cell_type": "markdown",
   "id": "3a689880",
   "metadata": {},
   "source": [
    "### Tách tên thành phố trong cột Headquarters và xử lí missing value"
   ]
  },
  {
   "cell_type": "code",
   "execution_count": null,
   "id": "26b8e787",
   "metadata": {},
   "outputs": [],
   "source": [
    "ds_df['Headquarters'].replace('-1',np.nan,inplace = True)"
   ]
  },
  {
   "cell_type": "code",
   "execution_count": null,
   "id": "67edb142",
   "metadata": {},
   "outputs": [],
   "source": [
    "headquarters_splited = ds_df['Headquarters'].str.split(',',expand=True)\n",
    "headquarters_splited"
   ]
  },
  {
   "cell_type": "markdown",
   "id": "23cf39ac",
   "metadata": {},
   "source": [
    "Một số tên công ty có định dạng thông tin `Headquarters` khác với các công ty còn lại, ta sẽ xem xét và giải quyết những giá trị đặc biệt này."
   ]
  },
  {
   "cell_type": "code",
   "execution_count": null,
   "id": "24044cd5",
   "metadata": {},
   "outputs": [],
   "source": [
    "headquarters_splited[~headquarters_splited[2].isnull()]"
   ]
  },
  {
   "cell_type": "markdown",
   "id": "8934125b",
   "metadata": {},
   "source": [
    "Như vậy, các định dạng khác thường là do một số công ty có ghi thêm quốc gia, ta sẽ loại bỏ các giá trị này."
   ]
  },
  {
   "cell_type": "code",
   "execution_count": null,
   "id": "7e8786df",
   "metadata": {},
   "outputs": [],
   "source": [
    "headquarters_splited[1] = headquarters_splited[1].str.replace('\\(\\w*\\)','',regex=True) \n",
    "headquarters_splited.drop(columns=[2],inplace=True)"
   ]
  },
  {
   "cell_type": "code",
   "execution_count": null,
   "id": "17d8b6d8",
   "metadata": {},
   "outputs": [],
   "source": [
    "ds_df[['Headquarters_City','Headquarters_State/Country']] = headquarters_splited\n",
    "ds_df.drop(columns=['Headquarters'],inplace = True)"
   ]
  },
  {
   "cell_type": "code",
   "execution_count": null,
   "id": "a8992060",
   "metadata": {},
   "outputs": [],
   "source": [
    "ds_df"
   ]
  },
  {
   "cell_type": "markdown",
   "id": "90bc440a",
   "metadata": {},
   "source": [
    "### Tiền xử lí các cột Founded, Industry, Revenue"
   ]
  },
  {
   "cell_type": "code",
   "execution_count": null,
   "id": "3a164e06",
   "metadata": {},
   "outputs": [],
   "source": [
    "fir_df = ds_df[['Founded','Industry','Revenue']]\n",
    "fir_df"
   ]
  },
  {
   "cell_type": "markdown",
   "id": "5a1d9904",
   "metadata": {},
   "source": [
    "## Đưa ra các câu hỏi cần trả lời\n",
    "\n",
    "Câu 1\n",
    "\n",
    "Câu 2\n",
    "\n",
    "Câu 3"
   ]
  },
  {
   "cell_type": "markdown",
   "id": "db9bcade",
   "metadata": {},
   "source": [
    "### Câu hỏi 1:"
   ]
  },
  {
   "cell_type": "code",
   "execution_count": null,
   "id": "fdccacd3",
   "metadata": {},
   "outputs": [],
   "source": []
  },
  {
   "cell_type": "markdown",
   "id": "8a918609",
   "metadata": {},
   "source": [
    "### Câu hỏi 2:"
   ]
  },
  {
   "cell_type": "code",
   "execution_count": null,
   "id": "bb07aa7c",
   "metadata": {},
   "outputs": [],
   "source": []
  },
  {
   "cell_type": "markdown",
   "id": "af98443c",
   "metadata": {},
   "source": [
    "### Câu hỏi 3:"
   ]
  },
  {
   "cell_type": "code",
   "execution_count": null,
   "id": "62038b43",
   "metadata": {},
   "outputs": [],
   "source": []
  },
  {
   "cell_type": "markdown",
   "id": "7a2b7b36",
   "metadata": {},
   "source": [
    "## Tổng kết"
   ]
  },
  {
   "cell_type": "code",
   "execution_count": null,
   "id": "0d862a46",
   "metadata": {},
   "outputs": [],
   "source": []
  },
  {
   "cell_type": "markdown",
   "id": "4fa81af9",
   "metadata": {},
   "source": [
    "## Tài liệu tham khảo"
   ]
  },
  {
   "cell_type": "code",
   "execution_count": null,
   "id": "c08c19a6",
   "metadata": {},
   "outputs": [],
   "source": []
  }
 ],
 "metadata": {
  "kernelspec": {
   "display_name": "Python 3 (ipykernel)",
   "language": "python",
   "name": "python3"
  },
  "language_info": {
   "codemirror_mode": {
    "name": "ipython",
    "version": 3
   },
   "file_extension": ".py",
   "mimetype": "text/x-python",
   "name": "python",
   "nbconvert_exporter": "python",
   "pygments_lexer": "ipython3",
   "version": "3.8.8"
  }
 },
 "nbformat": 4,
 "nbformat_minor": 5
}

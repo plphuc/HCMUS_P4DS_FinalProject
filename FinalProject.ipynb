{
 "cells": [
  {
   "cell_type": "markdown",
   "id": "5a042a36",
   "metadata": {},
   "source": [
    "# Đồ án cuối kì Lập trình cho khoa học dữ liệu\n"
   ]
  },
  {
   "cell_type": "markdown",
   "id": "a1a29963",
   "metadata": {},
   "source": [
    "## Link đến github repo\n",
    "\n",
    "https://github.com/plphuc/HCMUS_P4DS_FinalProject.git"
   ]
  },
  {
   "cell_type": "markdown",
   "id": "b2409499",
   "metadata": {},
   "source": [
    "## Thành viên nhóm"
   ]
  },
  {
   "cell_type": "markdown",
   "id": "c5ac6e19",
   "metadata": {},
   "source": [
    "\n",
    "| |Họ và tên|MSSV|Github account|\n",
    "|:--:|:--|:--:|:--|\n",
    "|1|Võ Thành Nam|19120301|[thanhnam001](https://github.com/thanhnam001)|\n",
    "|2|Phạm Lưu Mỹ Phúc|19120331|[plphuc](https://github.com/plphuc)|"
   ]
  },
  {
   "cell_type": "markdown",
   "id": "f0104328",
   "metadata": {},
   "source": [
    "## Môi trường code"
   ]
  },
  {
   "cell_type": "code",
   "execution_count": 1,
   "id": "04412bd4",
   "metadata": {},
   "outputs": [
    {
     "data": {
      "text/plain": [
       "'C:\\\\Users\\\\Nam\\\\anaconda3\\\\envs\\\\min_ds-env\\\\python.exe'"
      ]
     },
     "execution_count": 1,
     "metadata": {},
     "output_type": "execute_result"
    }
   ],
   "source": [
    "import sys\n",
    "sys.executable"
   ]
  },
  {
   "cell_type": "markdown",
   "id": "cbedd2a7",
   "metadata": {},
   "source": [
    "## Tổng quan về dữ liệu sẽ được dùng để phân tích\n",
    "\n",
    "Bộ dữ liệu được sử dụng là file `DataScientist.csv`. Đây là dữ liệu nằm trong một bộ dữ liệu gồm nhiều file khác về thông tin tuyển dụng của những ngành nghề liên quan đến Data. \n",
    "- Bộ dữ liệu được tác giả *picklesueat* lấy từ trang web https://www.glassdoor.com/ (một trang web tìm kiếm việc làm), sử dụng công cụ `selenium`. \n",
    "- Bộ dữ liệu đã được tác giả public tại [Github](https://github.com/picklesueat/data_jobs_data) và được reup tại [Kaggle](https://www.kaggle.com/andrewmvd/data-scientist-jobs).\n",
    "- Về license của dữ liệu, chỉ có [MIT License](https://github.com/harshibar/5-python-projects/blob/master/LICENSE), tác giả cho phép mọi người có thể tải xuống tùy ý.\n",
    "- File dữ liệu `DataScientist.csv` là file dữ liệu về thông tin tuyển dụng của nghề Data Scientist bao gồm tên vị trí tuyển dụng, mức lương, tên công ty,..."
   ]
  },
  {
   "cell_type": "markdown",
   "id": "e1cf1f2b",
   "metadata": {},
   "source": [
    "## Import các thư viện cần thiết"
   ]
  },
  {
   "cell_type": "code",
   "execution_count": 2,
   "id": "387a3692",
   "metadata": {},
   "outputs": [],
   "source": [
    "import pandas as pd\n",
    "import numpy as np\n",
    "import re\n",
    "import matplotlib.pyplot as plt\n",
    "import math \n",
    "import seaborn as sns"
   ]
  },
  {
   "cell_type": "markdown",
   "id": "1585c084",
   "metadata": {},
   "source": [
    "## Khám phá dữ liệu (phần 1)"
   ]
  },
  {
   "cell_type": "markdown",
   "id": "e0d809c3",
   "metadata": {},
   "source": [
    "### Đọc dữ liệu vào từ file csv vào dataframe"
   ]
  },
  {
   "cell_type": "code",
   "execution_count": 3,
   "id": "0180dbbe",
   "metadata": {},
   "outputs": [
    {
     "data": {
      "text/html": [
       "<div>\n",
       "<style scoped>\n",
       "    .dataframe tbody tr th:only-of-type {\n",
       "        vertical-align: middle;\n",
       "    }\n",
       "\n",
       "    .dataframe tbody tr th {\n",
       "        vertical-align: top;\n",
       "    }\n",
       "\n",
       "    .dataframe thead th {\n",
       "        text-align: right;\n",
       "    }\n",
       "</style>\n",
       "<table border=\"1\" class=\"dataframe\">\n",
       "  <thead>\n",
       "    <tr style=\"text-align: right;\">\n",
       "      <th></th>\n",
       "      <th>Unnamed: 0</th>\n",
       "      <th>index</th>\n",
       "      <th>Job Title</th>\n",
       "      <th>Salary Estimate</th>\n",
       "      <th>Job Description</th>\n",
       "      <th>Rating</th>\n",
       "      <th>Company Name</th>\n",
       "      <th>Location</th>\n",
       "      <th>Headquarters</th>\n",
       "      <th>Size</th>\n",
       "      <th>Founded</th>\n",
       "      <th>Type of ownership</th>\n",
       "      <th>Industry</th>\n",
       "      <th>Sector</th>\n",
       "      <th>Revenue</th>\n",
       "      <th>Competitors</th>\n",
       "      <th>Easy Apply</th>\n",
       "    </tr>\n",
       "  </thead>\n",
       "  <tbody>\n",
       "    <tr>\n",
       "      <th>0</th>\n",
       "      <td>0</td>\n",
       "      <td>0</td>\n",
       "      <td>Senior Data Scientist</td>\n",
       "      <td>$111K-$181K (Glassdoor est.)</td>\n",
       "      <td>ABOUT HOPPER\\n\\nAt Hopper, we’re on a mission ...</td>\n",
       "      <td>3.5</td>\n",
       "      <td>Hopper\\n3.5</td>\n",
       "      <td>New York, NY</td>\n",
       "      <td>Montreal, Canada</td>\n",
       "      <td>501 to 1000 employees</td>\n",
       "      <td>2007</td>\n",
       "      <td>Company - Private</td>\n",
       "      <td>Travel Agencies</td>\n",
       "      <td>Travel &amp; Tourism</td>\n",
       "      <td>Unknown / Non-Applicable</td>\n",
       "      <td>-1</td>\n",
       "      <td>-1</td>\n",
       "    </tr>\n",
       "    <tr>\n",
       "      <th>1</th>\n",
       "      <td>1</td>\n",
       "      <td>1</td>\n",
       "      <td>Data Scientist, Product Analytics</td>\n",
       "      <td>$111K-$181K (Glassdoor est.)</td>\n",
       "      <td>At Noom, we use scientifically proven methods ...</td>\n",
       "      <td>4.5</td>\n",
       "      <td>Noom US\\n4.5</td>\n",
       "      <td>New York, NY</td>\n",
       "      <td>New York, NY</td>\n",
       "      <td>1001 to 5000 employees</td>\n",
       "      <td>2008</td>\n",
       "      <td>Company - Private</td>\n",
       "      <td>Health, Beauty, &amp; Fitness</td>\n",
       "      <td>Consumer Services</td>\n",
       "      <td>Unknown / Non-Applicable</td>\n",
       "      <td>-1</td>\n",
       "      <td>-1</td>\n",
       "    </tr>\n",
       "    <tr>\n",
       "      <th>2</th>\n",
       "      <td>2</td>\n",
       "      <td>2</td>\n",
       "      <td>Data Science Manager</td>\n",
       "      <td>$111K-$181K (Glassdoor est.)</td>\n",
       "      <td>Decode_M\\n\\nhttps://www.decode-m.com/\\n\\nData ...</td>\n",
       "      <td>-1.0</td>\n",
       "      <td>Decode_M</td>\n",
       "      <td>New York, NY</td>\n",
       "      <td>New York, NY</td>\n",
       "      <td>1 to 50 employees</td>\n",
       "      <td>-1</td>\n",
       "      <td>Unknown</td>\n",
       "      <td>-1</td>\n",
       "      <td>-1</td>\n",
       "      <td>Unknown / Non-Applicable</td>\n",
       "      <td>-1</td>\n",
       "      <td>True</td>\n",
       "    </tr>\n",
       "    <tr>\n",
       "      <th>3</th>\n",
       "      <td>3</td>\n",
       "      <td>3</td>\n",
       "      <td>Data Analyst</td>\n",
       "      <td>$111K-$181K (Glassdoor est.)</td>\n",
       "      <td>Sapphire Digital seeks a dynamic and driven mi...</td>\n",
       "      <td>3.4</td>\n",
       "      <td>Sapphire Digital\\n3.4</td>\n",
       "      <td>Lyndhurst, NJ</td>\n",
       "      <td>Lyndhurst, NJ</td>\n",
       "      <td>201 to 500 employees</td>\n",
       "      <td>2019</td>\n",
       "      <td>Company - Private</td>\n",
       "      <td>Internet</td>\n",
       "      <td>Information Technology</td>\n",
       "      <td>Unknown / Non-Applicable</td>\n",
       "      <td>Zocdoc, Healthgrades</td>\n",
       "      <td>-1</td>\n",
       "    </tr>\n",
       "    <tr>\n",
       "      <th>4</th>\n",
       "      <td>4</td>\n",
       "      <td>4</td>\n",
       "      <td>Director, Data Science</td>\n",
       "      <td>$111K-$181K (Glassdoor est.)</td>\n",
       "      <td>Director, Data Science - (200537)\\nDescription...</td>\n",
       "      <td>3.4</td>\n",
       "      <td>United Entertainment Group\\n3.4</td>\n",
       "      <td>New York, NY</td>\n",
       "      <td>New York, NY</td>\n",
       "      <td>51 to 200 employees</td>\n",
       "      <td>2007</td>\n",
       "      <td>Company - Private</td>\n",
       "      <td>Advertising &amp; Marketing</td>\n",
       "      <td>Business Services</td>\n",
       "      <td>Unknown / Non-Applicable</td>\n",
       "      <td>BBDO, Grey Group, Droga5</td>\n",
       "      <td>-1</td>\n",
       "    </tr>\n",
       "    <tr>\n",
       "      <th>...</th>\n",
       "      <td>...</td>\n",
       "      <td>...</td>\n",
       "      <td>...</td>\n",
       "      <td>...</td>\n",
       "      <td>...</td>\n",
       "      <td>...</td>\n",
       "      <td>...</td>\n",
       "      <td>...</td>\n",
       "      <td>...</td>\n",
       "      <td>...</td>\n",
       "      <td>...</td>\n",
       "      <td>...</td>\n",
       "      <td>...</td>\n",
       "      <td>...</td>\n",
       "      <td>...</td>\n",
       "      <td>...</td>\n",
       "      <td>...</td>\n",
       "    </tr>\n",
       "    <tr>\n",
       "      <th>3904</th>\n",
       "      <td>3904</td>\n",
       "      <td>4375</td>\n",
       "      <td>AWS Data Engineer</td>\n",
       "      <td>$55K-$112K (Glassdoor est.)</td>\n",
       "      <td>About Us\\n\\nTachyon Technologies is a Digital ...</td>\n",
       "      <td>4.4</td>\n",
       "      <td>Tachyon Technologies\\n4.4</td>\n",
       "      <td>Dublin, OH</td>\n",
       "      <td>Irving, TX</td>\n",
       "      <td>201 to 500 employees</td>\n",
       "      <td>2011</td>\n",
       "      <td>Company - Private</td>\n",
       "      <td>IT Services</td>\n",
       "      <td>Information Technology</td>\n",
       "      <td>$10 to $25 million (USD)</td>\n",
       "      <td>-1</td>\n",
       "      <td>-1</td>\n",
       "    </tr>\n",
       "    <tr>\n",
       "      <th>3905</th>\n",
       "      <td>3905</td>\n",
       "      <td>4376</td>\n",
       "      <td>Data Analyst â Junior</td>\n",
       "      <td>$55K-$112K (Glassdoor est.)</td>\n",
       "      <td>Job description\\nInterpret data, analyze resul...</td>\n",
       "      <td>5.0</td>\n",
       "      <td>Staffigo Technical Services, LLC\\n5.0</td>\n",
       "      <td>Columbus, OH</td>\n",
       "      <td>Woodridge, IL</td>\n",
       "      <td>51 to 200 employees</td>\n",
       "      <td>2008</td>\n",
       "      <td>Company - Private</td>\n",
       "      <td>IT Services</td>\n",
       "      <td>Information Technology</td>\n",
       "      <td>$50 to $100 million (USD)</td>\n",
       "      <td>-1</td>\n",
       "      <td>-1</td>\n",
       "    </tr>\n",
       "    <tr>\n",
       "      <th>3906</th>\n",
       "      <td>3906</td>\n",
       "      <td>4377</td>\n",
       "      <td>Security Analytics Data Engineer</td>\n",
       "      <td>$55K-$112K (Glassdoor est.)</td>\n",
       "      <td>Job DescriptionThe Security Analytics Data Eng...</td>\n",
       "      <td>3.8</td>\n",
       "      <td>PDS Tech, Inc.\\n3.8</td>\n",
       "      <td>Dublin, OH</td>\n",
       "      <td>Irving, TX</td>\n",
       "      <td>5001 to 10000 employees</td>\n",
       "      <td>1977</td>\n",
       "      <td>Company - Private</td>\n",
       "      <td>Staffing &amp; Outsourcing</td>\n",
       "      <td>Business Services</td>\n",
       "      <td>$100 to $500 million (USD)</td>\n",
       "      <td>-1</td>\n",
       "      <td>-1</td>\n",
       "    </tr>\n",
       "    <tr>\n",
       "      <th>3907</th>\n",
       "      <td>3907</td>\n",
       "      <td>4378</td>\n",
       "      <td>Security Analytics Data Engineer</td>\n",
       "      <td>$55K-$112K (Glassdoor est.)</td>\n",
       "      <td>The Security Analytics Data Engineer will inte...</td>\n",
       "      <td>4.0</td>\n",
       "      <td>Data Resource Technologies\\n4.0</td>\n",
       "      <td>Dublin, OH</td>\n",
       "      <td>Omaha, NE</td>\n",
       "      <td>1 to 50 employees</td>\n",
       "      <td>-1</td>\n",
       "      <td>Company - Private</td>\n",
       "      <td>Accounting</td>\n",
       "      <td>Accounting &amp; Legal</td>\n",
       "      <td>Less than $1 million (USD)</td>\n",
       "      <td>-1</td>\n",
       "      <td>-1</td>\n",
       "    </tr>\n",
       "    <tr>\n",
       "      <th>3908</th>\n",
       "      <td>3908</td>\n",
       "      <td>4379</td>\n",
       "      <td>Patient Safety Physician or Safety Scientist -...</td>\n",
       "      <td>$55K-$112K (Glassdoor est.)</td>\n",
       "      <td>Help us transform patients' lives.\\nAt UCB, we...</td>\n",
       "      <td>3.7</td>\n",
       "      <td>UCB\\n3.7</td>\n",
       "      <td>Slough, OH</td>\n",
       "      <td>Brussel, Belgium</td>\n",
       "      <td>5001 to 10000 employees</td>\n",
       "      <td>-1</td>\n",
       "      <td>Company - Public</td>\n",
       "      <td>Biotech &amp; Pharmaceuticals</td>\n",
       "      <td>Biotech &amp; Pharmaceuticals</td>\n",
       "      <td>$2 to $5 billion (USD)</td>\n",
       "      <td>AbbVie</td>\n",
       "      <td>-1</td>\n",
       "    </tr>\n",
       "  </tbody>\n",
       "</table>\n",
       "<p>3909 rows × 17 columns</p>\n",
       "</div>"
      ],
      "text/plain": [
       "      Unnamed: 0  index                                          Job Title  \\\n",
       "0              0      0                              Senior Data Scientist   \n",
       "1              1      1                  Data Scientist, Product Analytics   \n",
       "2              2      2                               Data Science Manager   \n",
       "3              3      3                                       Data Analyst   \n",
       "4              4      4                             Director, Data Science   \n",
       "...          ...    ...                                                ...   \n",
       "3904        3904   4375                                  AWS Data Engineer   \n",
       "3905        3905   4376                              Data Analyst â Junior   \n",
       "3906        3906   4377                   Security Analytics Data Engineer   \n",
       "3907        3907   4378                   Security Analytics Data Engineer   \n",
       "3908        3908   4379  Patient Safety Physician or Safety Scientist -...   \n",
       "\n",
       "                   Salary Estimate  \\\n",
       "0     $111K-$181K (Glassdoor est.)   \n",
       "1     $111K-$181K (Glassdoor est.)   \n",
       "2     $111K-$181K (Glassdoor est.)   \n",
       "3     $111K-$181K (Glassdoor est.)   \n",
       "4     $111K-$181K (Glassdoor est.)   \n",
       "...                            ...   \n",
       "3904   $55K-$112K (Glassdoor est.)   \n",
       "3905   $55K-$112K (Glassdoor est.)   \n",
       "3906   $55K-$112K (Glassdoor est.)   \n",
       "3907   $55K-$112K (Glassdoor est.)   \n",
       "3908   $55K-$112K (Glassdoor est.)   \n",
       "\n",
       "                                        Job Description  Rating  \\\n",
       "0     ABOUT HOPPER\\n\\nAt Hopper, we’re on a mission ...     3.5   \n",
       "1     At Noom, we use scientifically proven methods ...     4.5   \n",
       "2     Decode_M\\n\\nhttps://www.decode-m.com/\\n\\nData ...    -1.0   \n",
       "3     Sapphire Digital seeks a dynamic and driven mi...     3.4   \n",
       "4     Director, Data Science - (200537)\\nDescription...     3.4   \n",
       "...                                                 ...     ...   \n",
       "3904  About Us\\n\\nTachyon Technologies is a Digital ...     4.4   \n",
       "3905  Job description\\nInterpret data, analyze resul...     5.0   \n",
       "3906  Job DescriptionThe Security Analytics Data Eng...     3.8   \n",
       "3907  The Security Analytics Data Engineer will inte...     4.0   \n",
       "3908  Help us transform patients' lives.\\nAt UCB, we...     3.7   \n",
       "\n",
       "                               Company Name       Location      Headquarters  \\\n",
       "0                               Hopper\\n3.5   New York, NY  Montreal, Canada   \n",
       "1                              Noom US\\n4.5   New York, NY      New York, NY   \n",
       "2                                  Decode_M   New York, NY      New York, NY   \n",
       "3                     Sapphire Digital\\n3.4  Lyndhurst, NJ     Lyndhurst, NJ   \n",
       "4           United Entertainment Group\\n3.4   New York, NY      New York, NY   \n",
       "...                                     ...            ...               ...   \n",
       "3904              Tachyon Technologies\\n4.4     Dublin, OH        Irving, TX   \n",
       "3905  Staffigo Technical Services, LLC\\n5.0   Columbus, OH     Woodridge, IL   \n",
       "3906                    PDS Tech, Inc.\\n3.8     Dublin, OH        Irving, TX   \n",
       "3907        Data Resource Technologies\\n4.0     Dublin, OH         Omaha, NE   \n",
       "3908                               UCB\\n3.7     Slough, OH  Brussel, Belgium   \n",
       "\n",
       "                         Size  Founded  Type of ownership  \\\n",
       "0       501 to 1000 employees     2007  Company - Private   \n",
       "1      1001 to 5000 employees     2008  Company - Private   \n",
       "2           1 to 50 employees       -1            Unknown   \n",
       "3        201 to 500 employees     2019  Company - Private   \n",
       "4         51 to 200 employees     2007  Company - Private   \n",
       "...                       ...      ...                ...   \n",
       "3904     201 to 500 employees     2011  Company - Private   \n",
       "3905      51 to 200 employees     2008  Company - Private   \n",
       "3906  5001 to 10000 employees     1977  Company - Private   \n",
       "3907        1 to 50 employees       -1  Company - Private   \n",
       "3908  5001 to 10000 employees       -1   Company - Public   \n",
       "\n",
       "                       Industry                     Sector  \\\n",
       "0               Travel Agencies           Travel & Tourism   \n",
       "1     Health, Beauty, & Fitness          Consumer Services   \n",
       "2                            -1                         -1   \n",
       "3                      Internet     Information Technology   \n",
       "4       Advertising & Marketing          Business Services   \n",
       "...                         ...                        ...   \n",
       "3904                IT Services     Information Technology   \n",
       "3905                IT Services     Information Technology   \n",
       "3906     Staffing & Outsourcing          Business Services   \n",
       "3907                 Accounting         Accounting & Legal   \n",
       "3908  Biotech & Pharmaceuticals  Biotech & Pharmaceuticals   \n",
       "\n",
       "                         Revenue               Competitors Easy Apply  \n",
       "0       Unknown / Non-Applicable                        -1         -1  \n",
       "1       Unknown / Non-Applicable                        -1         -1  \n",
       "2       Unknown / Non-Applicable                        -1       True  \n",
       "3       Unknown / Non-Applicable      Zocdoc, Healthgrades         -1  \n",
       "4       Unknown / Non-Applicable  BBDO, Grey Group, Droga5         -1  \n",
       "...                          ...                       ...        ...  \n",
       "3904    $10 to $25 million (USD)                        -1         -1  \n",
       "3905   $50 to $100 million (USD)                        -1         -1  \n",
       "3906  $100 to $500 million (USD)                        -1         -1  \n",
       "3907  Less than $1 million (USD)                        -1         -1  \n",
       "3908      $2 to $5 billion (USD)                    AbbVie         -1  \n",
       "\n",
       "[3909 rows x 17 columns]"
      ]
     },
     "execution_count": 3,
     "metadata": {},
     "output_type": "execute_result"
    }
   ],
   "source": [
    "ds_df = pd.read_csv('DataScientist.csv')\n",
    "ds_df"
   ]
  },
  {
   "cell_type": "markdown",
   "id": "b2f74463",
   "metadata": {},
   "source": [
    "Đầu tiên, ta thấy dữ liệu có đến 2 cột index, ta sẽ không sử dụng 2 cột này, do đó sẽ loại bỏ 2 cột này đi."
   ]
  },
  {
   "cell_type": "code",
   "execution_count": 4,
   "id": "fc22b220",
   "metadata": {},
   "outputs": [],
   "source": [
    "ds_df.drop(columns = ['Unnamed: 0','index'],inplace = True)"
   ]
  },
  {
   "cell_type": "markdown",
   "id": "2d47b4af",
   "metadata": {},
   "source": [
    "### Số lượng dòng và cột của dữ liệu"
   ]
  },
  {
   "cell_type": "code",
   "execution_count": 5,
   "id": "53fa7d1d",
   "metadata": {},
   "outputs": [
    {
     "name": "stdout",
     "output_type": "stream",
     "text": [
      "Number of rows: 3909\n",
      "Number of columns: 15\n"
     ]
    }
   ],
   "source": [
    "n_rows, n_cols = ds_df.shape\n",
    "print(f'Number of rows: {n_rows}')\n",
    "print(f'Number of columns: {n_cols}')"
   ]
  },
  {
   "cell_type": "markdown",
   "id": "4b2a20b4",
   "metadata": {},
   "source": [
    "### Xét xem các dữ liệu có trùng nhau hay không"
   ]
  },
  {
   "cell_type": "code",
   "execution_count": 6,
   "id": "15808744",
   "metadata": {},
   "outputs": [
    {
     "name": "stdout",
     "output_type": "stream",
     "text": [
      "Number of duplicated rows: 0\n"
     ]
    }
   ],
   "source": [
    "print(f'Number of duplicated rows: {sum(ds_df.duplicated())}')"
   ]
  },
  {
   "cell_type": "markdown",
   "id": "70191e56",
   "metadata": {},
   "source": [
    "### Ý nghĩa của các cột trong dataframe\n",
    "(Dựa theo mô tả tại trang web [Kaggle](https://www.kaggle.com/andrewmvd/data-scientist-jobs))\n",
    "\n",
    "- **Job Title:** tên vị trí tuyển dụng.\n",
    "- **Salary Estimate:** mức lương dự kiến.\n",
    "- **Job Description:** mô tả công việc.\n",
    "- **Rating:** điểm đánh giá của công ty.\n",
    "- **Company Name:** tên công ty.\n",
    "- **Location:** địa điểm làm việc.\n",
    "- **Headquarters:** trụ sở chính của công ty.\n",
    "- **Size:** kích thước công ty (số lượng nhân viên).\n",
    "- **Founded:** năm thành lập công ty.\n",
    "- **Type of ownership:** loại hình sở hữu của công ty.\n",
    "- **Industry:** phân loại công nghiệp của công ty.\n",
    "- **Sector:** phân loại ngành của công ty.\n",
    "- **Revenue:** doanh thu của công ty (theo năm).\n",
    "- **Competitors:** công ty đối thủ.\n",
    "- **Easy Apply:** công ty có dễ apply hay không."
   ]
  },
  {
   "cell_type": "markdown",
   "id": "c02c0086",
   "metadata": {},
   "source": [
    "### Sơ lược về dữ liệu trong các cột"
   ]
  },
  {
   "cell_type": "code",
   "execution_count": 7,
   "id": "48123959",
   "metadata": {},
   "outputs": [
    {
     "name": "stdout",
     "output_type": "stream",
     "text": [
      "<class 'pandas.core.frame.DataFrame'>\n",
      "RangeIndex: 3909 entries, 0 to 3908\n",
      "Data columns (total 15 columns):\n",
      " #   Column             Non-Null Count  Dtype  \n",
      "---  ------             --------------  -----  \n",
      " 0   Job Title          3909 non-null   object \n",
      " 1   Salary Estimate    3909 non-null   object \n",
      " 2   Job Description    3909 non-null   object \n",
      " 3   Rating             3909 non-null   float64\n",
      " 4   Company Name       3909 non-null   object \n",
      " 5   Location           3909 non-null   object \n",
      " 6   Headquarters       3909 non-null   object \n",
      " 7   Size               3909 non-null   object \n",
      " 8   Founded            3909 non-null   int64  \n",
      " 9   Type of ownership  3909 non-null   object \n",
      " 10  Industry           3909 non-null   object \n",
      " 11  Sector             3909 non-null   object \n",
      " 12  Revenue            3909 non-null   object \n",
      " 13  Competitors        3909 non-null   object \n",
      " 14  Easy Apply         3909 non-null   object \n",
      "dtypes: float64(1), int64(1), object(13)\n",
      "memory usage: 458.2+ KB\n"
     ]
    }
   ],
   "source": [
    "ds_df.info()"
   ]
  },
  {
   "cell_type": "markdown",
   "id": "a2554c54",
   "metadata": {},
   "source": [
    "### Nhận xét chung\n",
    "\n",
    "- Mỗi dòng dữ liệu là một thể hiện về các thông tin tuyển dụng của các công ty và không có dòng nào có dấu hiệu bất thường.\n",
    "- Như ta có thể thấy, dữ liệu không có bất kì dòng nào thiếu hay trùng lắp. Tuy nhiên, khi quan sát bảng dữ liệu ở phía trên, dễ nhận ra tác giả đã thay thế các dữ liệu (có thể là bị thiếu) bằng giá trị `-1`.\n",
    "- Những cột đáng lẽ cần phải ở kiểu dữ liệu là số như `Salary Estimate`, `Size` thì lại có kiểu dữ liệu là object, ta cần phải xử lí những cột này.\n",
    "- Cột `Company Name` có vẻ bị lỗi khi thu thập dữ liệu (tên công ty gắn liền với rating).\n",
    "- Cột `Easy Apply` chỉ nên có giá trị `True` hoặc `False`.\n",
    "- ...\n",
    "\n",
    "Ta không quan sát được toàn bộ dữ liệu, do đó ta sẽ phân tích và tiền xử lí cho từng cột trong phần tiền xử lí dữ liệu."
   ]
  },
  {
   "cell_type": "markdown",
   "id": "af4f1ee4",
   "metadata": {},
   "source": [
    "## Tiền xử lí dữ liệu"
   ]
  },
  {
   "cell_type": "markdown",
   "id": "203d5dbb",
   "metadata": {},
   "source": [
    "### Các giá trị của cột Job Title liệu đã đúng hay chưa?"
   ]
  },
  {
   "cell_type": "markdown",
   "id": "eadfd0c7",
   "metadata": {},
   "source": [
    "Trước tiên, ta quan sát 20 giá trị xuất hiện nhiều nhất và ít nhất."
   ]
  },
  {
   "cell_type": "code",
   "execution_count": 8,
   "id": "5fc91c47",
   "metadata": {},
   "outputs": [
    {
     "data": {
      "text/html": [
       "<div>\n",
       "<style scoped>\n",
       "    .dataframe tbody tr th:only-of-type {\n",
       "        vertical-align: middle;\n",
       "    }\n",
       "\n",
       "    .dataframe tbody tr th {\n",
       "        vertical-align: top;\n",
       "    }\n",
       "\n",
       "    .dataframe thead th {\n",
       "        text-align: right;\n",
       "    }\n",
       "</style>\n",
       "<table border=\"1\" class=\"dataframe\">\n",
       "  <thead>\n",
       "    <tr style=\"text-align: right;\">\n",
       "      <th></th>\n",
       "      <th>Job Title</th>\n",
       "      <th>count</th>\n",
       "      <th>Job Title</th>\n",
       "      <th>count</th>\n",
       "    </tr>\n",
       "  </thead>\n",
       "  <tbody>\n",
       "    <tr>\n",
       "      <th>0</th>\n",
       "      <td>Data Scientist</td>\n",
       "      <td>274</td>\n",
       "      <td>R&amp;D Scientist, Cellular Manufacturing</td>\n",
       "      <td>1</td>\n",
       "    </tr>\n",
       "    <tr>\n",
       "      <th>1</th>\n",
       "      <td>Data Engineer</td>\n",
       "      <td>260</td>\n",
       "      <td>Field Medical Scientist, LHN/GBM/Breast</td>\n",
       "      <td>1</td>\n",
       "    </tr>\n",
       "    <tr>\n",
       "      <th>2</th>\n",
       "      <td>Data Analyst</td>\n",
       "      <td>246</td>\n",
       "      <td>Principal Data Scientist / Sr. Principal Data ...</td>\n",
       "      <td>1</td>\n",
       "    </tr>\n",
       "    <tr>\n",
       "      <th>3</th>\n",
       "      <td>Senior Data Scientist</td>\n",
       "      <td>91</td>\n",
       "      <td>REMOTE Data Analyst</td>\n",
       "      <td>1</td>\n",
       "    </tr>\n",
       "    <tr>\n",
       "      <th>4</th>\n",
       "      <td>Senior Data Analyst</td>\n",
       "      <td>47</td>\n",
       "      <td>Research Scientist, Vector Engineering</td>\n",
       "      <td>1</td>\n",
       "    </tr>\n",
       "    <tr>\n",
       "      <th>5</th>\n",
       "      <td>Machine Learning Engineer</td>\n",
       "      <td>47</td>\n",
       "      <td>BIG DATA ENGINEER</td>\n",
       "      <td>1</td>\n",
       "    </tr>\n",
       "    <tr>\n",
       "      <th>6</th>\n",
       "      <td>Big Data Engineer</td>\n",
       "      <td>41</td>\n",
       "      <td>Senior Data Engineer (ASE5) Asset and Liabilit...</td>\n",
       "      <td>1</td>\n",
       "    </tr>\n",
       "    <tr>\n",
       "      <th>7</th>\n",
       "      <td>Business Intelligence Analyst</td>\n",
       "      <td>39</td>\n",
       "      <td>Lead Data Scientist/ Statistician</td>\n",
       "      <td>1</td>\n",
       "    </tr>\n",
       "    <tr>\n",
       "      <th>8</th>\n",
       "      <td>Senior Data Engineer</td>\n",
       "      <td>37</td>\n",
       "      <td>COMPUTER SCIENTIST- ENGINEER - RESEARCH ENGINE...</td>\n",
       "      <td>1</td>\n",
       "    </tr>\n",
       "    <tr>\n",
       "      <th>9</th>\n",
       "      <td>Lead Data Scientist</td>\n",
       "      <td>23</td>\n",
       "      <td>Product Manager - Data Science</td>\n",
       "      <td>1</td>\n",
       "    </tr>\n",
       "    <tr>\n",
       "      <th>10</th>\n",
       "      <td>Sr. Data Scientist</td>\n",
       "      <td>23</td>\n",
       "      <td>Downstream Sr. Scientist</td>\n",
       "      <td>1</td>\n",
       "    </tr>\n",
       "    <tr>\n",
       "      <th>11</th>\n",
       "      <td>Research Scientist</td>\n",
       "      <td>22</td>\n",
       "      <td>Marketing &amp; Data Analyst</td>\n",
       "      <td>1</td>\n",
       "    </tr>\n",
       "    <tr>\n",
       "      <th>12</th>\n",
       "      <td>Data Modeler</td>\n",
       "      <td>17</td>\n",
       "      <td>Point72 Data Scientist</td>\n",
       "      <td>1</td>\n",
       "    </tr>\n",
       "    <tr>\n",
       "      <th>13</th>\n",
       "      <td>Principal Data Scientist</td>\n",
       "      <td>15</td>\n",
       "      <td>Data Scientist/Lead Data Scientist - LA</td>\n",
       "      <td>1</td>\n",
       "    </tr>\n",
       "    <tr>\n",
       "      <th>14</th>\n",
       "      <td>Junior Data Analyst</td>\n",
       "      <td>15</td>\n",
       "      <td>Health Analytics Data Scientist</td>\n",
       "      <td>1</td>\n",
       "    </tr>\n",
       "    <tr>\n",
       "      <th>15</th>\n",
       "      <td>Statistician (Data Scientist) *12 month Roster...</td>\n",
       "      <td>14</td>\n",
       "      <td>Autonomous Driving Data Engineer/Scientist</td>\n",
       "      <td>1</td>\n",
       "    </tr>\n",
       "    <tr>\n",
       "      <th>16</th>\n",
       "      <td>Sr. Data Engineer</td>\n",
       "      <td>13</td>\n",
       "      <td>Six Flags Corporate Data Scientist</td>\n",
       "      <td>1</td>\n",
       "    </tr>\n",
       "    <tr>\n",
       "      <th>17</th>\n",
       "      <td>Scientist</td>\n",
       "      <td>13</td>\n",
       "      <td>COMPUTER SCIENTIST - ENGINEER - RESEARCH COMPU...</td>\n",
       "      <td>1</td>\n",
       "    </tr>\n",
       "    <tr>\n",
       "      <th>18</th>\n",
       "      <td>Federal - Data Scientist</td>\n",
       "      <td>13</td>\n",
       "      <td>Accounting/Data Analyst Associate</td>\n",
       "      <td>1</td>\n",
       "    </tr>\n",
       "    <tr>\n",
       "      <th>19</th>\n",
       "      <td>Sr. Data Analyst</td>\n",
       "      <td>11</td>\n",
       "      <td>Graphics (GPU) Performance Modeling Engineer</td>\n",
       "      <td>1</td>\n",
       "    </tr>\n",
       "  </tbody>\n",
       "</table>\n",
       "</div>"
      ],
      "text/plain": [
       "                                            Job Title  count  \\\n",
       "0                                      Data Scientist    274   \n",
       "1                                       Data Engineer    260   \n",
       "2                                        Data Analyst    246   \n",
       "3                               Senior Data Scientist     91   \n",
       "4                                 Senior Data Analyst     47   \n",
       "5                           Machine Learning Engineer     47   \n",
       "6                                   Big Data Engineer     41   \n",
       "7                       Business Intelligence Analyst     39   \n",
       "8                                Senior Data Engineer     37   \n",
       "9                                 Lead Data Scientist     23   \n",
       "10                                 Sr. Data Scientist     23   \n",
       "11                                 Research Scientist     22   \n",
       "12                                       Data Modeler     17   \n",
       "13                           Principal Data Scientist     15   \n",
       "14                                Junior Data Analyst     15   \n",
       "15  Statistician (Data Scientist) *12 month Roster...     14   \n",
       "16                                  Sr. Data Engineer     13   \n",
       "17                                          Scientist     13   \n",
       "18                           Federal - Data Scientist     13   \n",
       "19                                   Sr. Data Analyst     11   \n",
       "\n",
       "                                            Job Title  count  \n",
       "0               R&D Scientist, Cellular Manufacturing      1  \n",
       "1             Field Medical Scientist, LHN/GBM/Breast      1  \n",
       "2   Principal Data Scientist / Sr. Principal Data ...      1  \n",
       "3                                 REMOTE Data Analyst      1  \n",
       "4              Research Scientist, Vector Engineering      1  \n",
       "5                                   BIG DATA ENGINEER      1  \n",
       "6   Senior Data Engineer (ASE5) Asset and Liabilit...      1  \n",
       "7                   Lead Data Scientist/ Statistician      1  \n",
       "8   COMPUTER SCIENTIST- ENGINEER - RESEARCH ENGINE...      1  \n",
       "9                      Product Manager - Data Science      1  \n",
       "10                           Downstream Sr. Scientist      1  \n",
       "11                           Marketing & Data Analyst      1  \n",
       "12                             Point72 Data Scientist      1  \n",
       "13            Data Scientist/Lead Data Scientist - LA      1  \n",
       "14                    Health Analytics Data Scientist      1  \n",
       "15         Autonomous Driving Data Engineer/Scientist      1  \n",
       "16                 Six Flags Corporate Data Scientist      1  \n",
       "17  COMPUTER SCIENTIST - ENGINEER - RESEARCH COMPU...      1  \n",
       "18                  Accounting/Data Analyst Associate      1  \n",
       "19       Graphics (GPU) Performance Modeling Engineer      1  "
      ]
     },
     "execution_count": 8,
     "metadata": {},
     "output_type": "execute_result"
    }
   ],
   "source": [
    "job_title_first_20 = ds_df['Job Title'].value_counts()[:20].reset_index()\n",
    "job_title_last_20 = ds_df['Job Title'].value_counts()[-20:].reset_index()\n",
    "pd.concat([job_title_first_20,job_title_last_20],axis=1).rename(columns = {'Job Title':'count','index':'Job Title'})"
   ]
  },
  {
   "cell_type": "markdown",
   "id": "8217a782",
   "metadata": {},
   "source": [
    "Có thể thấy, thông tin `Job Title` được miêu tả khá \"lộn xộn\" có thể là: tuyển nhiều vị trí cùng lúc, ghi tên vị trí cùng thời gian làm việc. Do đó, ta sẽ xử lý để cột chỉ thể hiện một công việc chính (xem việc được nhắc đến đầu tiên là công việc chính). Ngoài ra, có vài vị trí là như nhau nhưng sử dụng thuật ngữ khác nhau (Sr., Senior) ta sẽ xử lý những giá trị này để chúng thể hiện cùng từ ngữ."
   ]
  },
  {
   "cell_type": "code",
   "execution_count": 9,
   "id": "1371de58",
   "metadata": {},
   "outputs": [
    {
     "data": {
      "text/plain": [
       "Data Scientist                                           357\n",
       "Data Engineer                                            290\n",
       "Data Analyst                                             278\n",
       "Senior Data Scientist                                    105\n",
       "Data Scientist                                            70\n",
       "                                                        ... \n",
       "Internship                                                 1\n",
       "Associate Scientist In vivo Pharmacology                   1\n",
       "Manufacturing Science and Technology (MS&T) Scientist      1\n",
       "SQL Data Engineer                                          1\n",
       "Graphics (GPU) Performance Modeling Engineer               1\n",
       "Name: Job Title, Length: 1378, dtype: int64"
      ]
     },
     "execution_count": 9,
     "metadata": {},
     "output_type": "execute_result"
    }
   ],
   "source": [
    "ds_df['Job Title'] = ds_df['Job Title'].apply(lambda x:''.join(re.compile(\"[,\\/-]\").split(x)[:1]))\n",
    "ds_df['Job Title'].value_counts()"
   ]
  },
  {
   "cell_type": "code",
   "execution_count": 10,
   "id": "5dc1b87f",
   "metadata": {},
   "outputs": [],
   "source": [
    "ds_df['Job Title'] = ds_df['Job Title'].str.replace('Sr.','Senior',regex=False)\n",
    "ds_df['Job Title'] = ds_df['Job Title'].str.replace('Jr.','Junior',regex=False)"
   ]
  },
  {
   "cell_type": "markdown",
   "id": "5c97879b",
   "metadata": {},
   "source": [
    "### Tiền xử lý cột Salary Estimate\n"
   ]
  },
  {
   "cell_type": "markdown",
   "id": "6eb1fe90",
   "metadata": {},
   "source": [
    "Cột này bao gồm các giá trị là khoảng ước tính, do đó ta sẽ tách thành 2 cột min và max, sau đó loại bỏ cột ban đầu."
   ]
  },
  {
   "cell_type": "code",
   "execution_count": 11,
   "id": "682e2b39",
   "metadata": {},
   "outputs": [],
   "source": [
    "def split_to_minmax(s):\n",
    "    value_range = [int(d) for d in re.findall(r'\\d+',s)]\n",
    "    return value_range\n",
    "ds_df[['SalaryMin','SalaryMax']] = pd.DataFrame(ds_df['Salary Estimate'].apply(split_to_minmax).to_list())\n",
    "ds_df.drop(columns=['Salary Estimate'],inplace = True)"
   ]
  },
  {
   "cell_type": "markdown",
   "id": "87ae77e0",
   "metadata": {},
   "source": [
    "### Tiền xử lý cột Rating"
   ]
  },
  {
   "cell_type": "code",
   "execution_count": 12,
   "id": "472aa6ff",
   "metadata": {
    "scrolled": true
   },
   "outputs": [
    {
     "data": {
      "text/plain": [
       "array([ 3.5,  4.5, -1. ,  3.4,  2.9,  4.4,  5. ,  4.8,  3.9,  4.3,  3. ,\n",
       "        3.6,  3.3,  4. ,  4.1,  3.8,  3.7,  4.2,  4.6,  4.7,  3.2,  2.8,\n",
       "        2.7,  4.9,  2.5,  1. ,  1.9,  3.1,  1.6,  2.6,  2.1,  2.3,  2.4,\n",
       "        2. ,  2.2,  1.5,  1.7])"
      ]
     },
     "execution_count": 12,
     "metadata": {},
     "output_type": "execute_result"
    }
   ],
   "source": [
    "ds_df['Rating'].unique()"
   ]
  },
  {
   "cell_type": "markdown",
   "id": "3b36ceed",
   "metadata": {},
   "source": [
    "Cột `Rating` có khá nhiều giá trị thiếu được đánh dấu bằng giá trị `-1`. Ta sẽ thay thế các giá trị này bằng trung bình của các giá trị còn lại."
   ]
  },
  {
   "cell_type": "code",
   "execution_count": 13,
   "id": "1e6d02c0",
   "metadata": {},
   "outputs": [],
   "source": [
    "# Thay giá trị -1 thành nan\n",
    "ds_df['Rating'].replace(-1,np.nan,inplace = True)\n",
    "# Tính mean của các giá trị khác nan\n",
    "mean = ds_df['Rating'].mean(skipna = True).round(1)\n",
    "# Thay thế các giá trị nan bằng mean\n",
    "ds_df['Rating'].replace(np.nan,mean,inplace = True)"
   ]
  },
  {
   "cell_type": "markdown",
   "id": "7fb01039",
   "metadata": {},
   "source": [
    "### Loại bỏ rating trong Company name"
   ]
  },
  {
   "cell_type": "markdown",
   "id": "86e3b2e4",
   "metadata": {},
   "source": [
    "Như đã nói ở phần Khám phá dữ liệu, cột `Company Name` đã bị lỗi khi thu thập dữ liệu (tên công ty gắn liền với rating). Vì đã có cột `Rating` nên ta sẽ thực hiện xóa phần rating bị thừa trong cột này."
   ]
  },
  {
   "cell_type": "code",
   "execution_count": 14,
   "id": "01912a9b",
   "metadata": {},
   "outputs": [],
   "source": [
    "ds_df['Company Name'] = ds_df['Company Name'].str.split('\\n').str[0]"
   ]
  },
  {
   "cell_type": "markdown",
   "id": "66f8c03d",
   "metadata": {},
   "source": [
    "### Tiền xử lý cột Location và loại bỏ missing value"
   ]
  },
  {
   "cell_type": "code",
   "execution_count": 15,
   "id": "64cd9efa",
   "metadata": {},
   "outputs": [],
   "source": [
    "ds_df['Location'].replace('-1',np.nan,inplace = True)"
   ]
  },
  {
   "cell_type": "code",
   "execution_count": 16,
   "id": "4dbd86be",
   "metadata": {},
   "outputs": [
    {
     "data": {
      "text/plain": [
       "Austin, TX            345\n",
       "Chicago, IL           330\n",
       "San Diego, CA         304\n",
       "New York, NY          303\n",
       "Houston, TX           219\n",
       "                     ... \n",
       "Summit, NJ              1\n",
       "Berwyn, PA              1\n",
       "Allegheny West, PA      1\n",
       "West Orange, NJ         1\n",
       "Cedar Park, TX          1\n",
       "Name: Location, Length: 191, dtype: int64"
      ]
     },
     "execution_count": 16,
     "metadata": {},
     "output_type": "execute_result"
    }
   ],
   "source": [
    "ds_df['Location'].value_counts()"
   ]
  },
  {
   "cell_type": "markdown",
   "id": "ee2c59e8",
   "metadata": {},
   "source": [
    "Trong cột `Location`, mỗi giá trị bao gồm tên thành phố và tên bang cách nhau bởi dấu `,`. Ta sẽ tách các giá trị này thành 2 cột là `City` và `State`."
   ]
  },
  {
   "cell_type": "code",
   "execution_count": 17,
   "id": "09ddb7e8",
   "metadata": {},
   "outputs": [],
   "source": [
    "ds_df[['City','State']] = ds_df['Location'].str.split(', ',expand=True)\n",
    "ds_df.drop(columns = ['Location'], inplace = True)"
   ]
  },
  {
   "cell_type": "markdown",
   "id": "df9043c5",
   "metadata": {},
   "source": [
    "### Tách tên thành phố trong cột Headquarters và xử lý missing value"
   ]
  },
  {
   "cell_type": "code",
   "execution_count": 18,
   "id": "96d72ecb",
   "metadata": {},
   "outputs": [],
   "source": [
    "ds_df['Headquarters'].replace('-1',np.nan,inplace = True)"
   ]
  },
  {
   "cell_type": "code",
   "execution_count": 19,
   "id": "20a92fa7",
   "metadata": {},
   "outputs": [
    {
     "data": {
      "text/html": [
       "<div>\n",
       "<style scoped>\n",
       "    .dataframe tbody tr th:only-of-type {\n",
       "        vertical-align: middle;\n",
       "    }\n",
       "\n",
       "    .dataframe tbody tr th {\n",
       "        vertical-align: top;\n",
       "    }\n",
       "\n",
       "    .dataframe thead th {\n",
       "        text-align: right;\n",
       "    }\n",
       "</style>\n",
       "<table border=\"1\" class=\"dataframe\">\n",
       "  <thead>\n",
       "    <tr style=\"text-align: right;\">\n",
       "      <th></th>\n",
       "      <th>0</th>\n",
       "      <th>1</th>\n",
       "      <th>2</th>\n",
       "    </tr>\n",
       "  </thead>\n",
       "  <tbody>\n",
       "    <tr>\n",
       "      <th>0</th>\n",
       "      <td>Montreal</td>\n",
       "      <td>Canada</td>\n",
       "      <td>None</td>\n",
       "    </tr>\n",
       "    <tr>\n",
       "      <th>1</th>\n",
       "      <td>New York</td>\n",
       "      <td>NY</td>\n",
       "      <td>None</td>\n",
       "    </tr>\n",
       "    <tr>\n",
       "      <th>2</th>\n",
       "      <td>New York</td>\n",
       "      <td>NY</td>\n",
       "      <td>None</td>\n",
       "    </tr>\n",
       "    <tr>\n",
       "      <th>3</th>\n",
       "      <td>Lyndhurst</td>\n",
       "      <td>NJ</td>\n",
       "      <td>None</td>\n",
       "    </tr>\n",
       "    <tr>\n",
       "      <th>4</th>\n",
       "      <td>New York</td>\n",
       "      <td>NY</td>\n",
       "      <td>None</td>\n",
       "    </tr>\n",
       "    <tr>\n",
       "      <th>...</th>\n",
       "      <td>...</td>\n",
       "      <td>...</td>\n",
       "      <td>...</td>\n",
       "    </tr>\n",
       "    <tr>\n",
       "      <th>3904</th>\n",
       "      <td>Irving</td>\n",
       "      <td>TX</td>\n",
       "      <td>None</td>\n",
       "    </tr>\n",
       "    <tr>\n",
       "      <th>3905</th>\n",
       "      <td>Woodridge</td>\n",
       "      <td>IL</td>\n",
       "      <td>None</td>\n",
       "    </tr>\n",
       "    <tr>\n",
       "      <th>3906</th>\n",
       "      <td>Irving</td>\n",
       "      <td>TX</td>\n",
       "      <td>None</td>\n",
       "    </tr>\n",
       "    <tr>\n",
       "      <th>3907</th>\n",
       "      <td>Omaha</td>\n",
       "      <td>NE</td>\n",
       "      <td>None</td>\n",
       "    </tr>\n",
       "    <tr>\n",
       "      <th>3908</th>\n",
       "      <td>Brussel</td>\n",
       "      <td>Belgium</td>\n",
       "      <td>None</td>\n",
       "    </tr>\n",
       "  </tbody>\n",
       "</table>\n",
       "<p>3909 rows × 3 columns</p>\n",
       "</div>"
      ],
      "text/plain": [
       "              0         1     2\n",
       "0      Montreal    Canada  None\n",
       "1      New York        NY  None\n",
       "2      New York        NY  None\n",
       "3     Lyndhurst        NJ  None\n",
       "4      New York        NY  None\n",
       "...         ...       ...   ...\n",
       "3904     Irving        TX  None\n",
       "3905  Woodridge        IL  None\n",
       "3906     Irving        TX  None\n",
       "3907      Omaha        NE  None\n",
       "3908    Brussel   Belgium  None\n",
       "\n",
       "[3909 rows x 3 columns]"
      ]
     },
     "execution_count": 19,
     "metadata": {},
     "output_type": "execute_result"
    }
   ],
   "source": [
    "headquarters_splited = ds_df['Headquarters'].str.split(',',expand=True)\n",
    "headquarters_splited"
   ]
  },
  {
   "cell_type": "markdown",
   "id": "64b86e3b",
   "metadata": {},
   "source": [
    "Một số công ty có định dạng `Headquarters` khác với công ty còn lại, ta sẽ xem xét và giải quyết các giá trị đặc biệt này."
   ]
  },
  {
   "cell_type": "code",
   "execution_count": 20,
   "id": "02e18ce6",
   "metadata": {},
   "outputs": [
    {
     "data": {
      "text/html": [
       "<div>\n",
       "<style scoped>\n",
       "    .dataframe tbody tr th:only-of-type {\n",
       "        vertical-align: middle;\n",
       "    }\n",
       "\n",
       "    .dataframe tbody tr th {\n",
       "        vertical-align: top;\n",
       "    }\n",
       "\n",
       "    .dataframe thead th {\n",
       "        text-align: right;\n",
       "    }\n",
       "</style>\n",
       "<table border=\"1\" class=\"dataframe\">\n",
       "  <thead>\n",
       "    <tr style=\"text-align: right;\">\n",
       "      <th></th>\n",
       "      <th>0</th>\n",
       "      <th>1</th>\n",
       "      <th>2</th>\n",
       "    </tr>\n",
       "  </thead>\n",
       "  <tbody>\n",
       "    <tr>\n",
       "      <th>142</th>\n",
       "      <td>New York</td>\n",
       "      <td>NY (US)</td>\n",
       "      <td>NY</td>\n",
       "    </tr>\n",
       "    <tr>\n",
       "      <th>303</th>\n",
       "      <td>New York</td>\n",
       "      <td>NY (US)</td>\n",
       "      <td>NY</td>\n",
       "    </tr>\n",
       "    <tr>\n",
       "      <th>1686</th>\n",
       "      <td>Philadelphia</td>\n",
       "      <td>PA (US)</td>\n",
       "      <td>PA</td>\n",
       "    </tr>\n",
       "    <tr>\n",
       "      <th>1751</th>\n",
       "      <td>Philadelphia</td>\n",
       "      <td>PA (US)</td>\n",
       "      <td>PA</td>\n",
       "    </tr>\n",
       "    <tr>\n",
       "      <th>1816</th>\n",
       "      <td>New York</td>\n",
       "      <td>NY (US)</td>\n",
       "      <td>NY</td>\n",
       "    </tr>\n",
       "    <tr>\n",
       "      <th>2118</th>\n",
       "      <td>San Marcos</td>\n",
       "      <td>CA (US)</td>\n",
       "      <td>CA</td>\n",
       "    </tr>\n",
       "  </tbody>\n",
       "</table>\n",
       "</div>"
      ],
      "text/plain": [
       "                 0         1    2\n",
       "142       New York   NY (US)   NY\n",
       "303       New York   NY (US)   NY\n",
       "1686  Philadelphia   PA (US)   PA\n",
       "1751  Philadelphia   PA (US)   PA\n",
       "1816      New York   NY (US)   NY\n",
       "2118    San Marcos   CA (US)   CA"
      ]
     },
     "execution_count": 20,
     "metadata": {},
     "output_type": "execute_result"
    }
   ],
   "source": [
    "headquarters_splited[~headquarters_splited[2].isnull()]"
   ]
  },
  {
   "cell_type": "markdown",
   "id": "0c45c4e0",
   "metadata": {},
   "source": [
    "Như vậy, các định dạng khác thường là do một số công ty ghi thêm quốc gia, ta sẽ loại bỏ các giá trị này, sau đó loại bỏ cột 2."
   ]
  },
  {
   "cell_type": "code",
   "execution_count": 21,
   "id": "c66c5617",
   "metadata": {},
   "outputs": [],
   "source": [
    "headquarters_splited[1] = headquarters_splited[1].str.replace('\\(\\w*\\)','',regex=True)\n",
    "headquarters_splited[1] = headquarters_splited[1].str.strip()\n",
    "headquarters_splited.drop(columns=[2],inplace=True)"
   ]
  },
  {
   "cell_type": "markdown",
   "id": "3a937901",
   "metadata": {},
   "source": [
    "Sau khi đã phân tách thành 2 cột, ta tạo ra 2 cột mới tương ứng là `Headquarters_City` và `Headquarters_State/Country` trong `ds_df` và loại bỏ đi cột `Headquarters`."
   ]
  },
  {
   "cell_type": "code",
   "execution_count": 22,
   "id": "5856d3be",
   "metadata": {
    "scrolled": true
   },
   "outputs": [],
   "source": [
    "ds_df[['Headquarters_City','Headquarters_State/Country']] = headquarters_splited\n",
    "ds_df.drop(columns=['Headquarters'],inplace = True)"
   ]
  },
  {
   "cell_type": "markdown",
   "id": "84ef87b5",
   "metadata": {},
   "source": [
    "### Tiền xử lý cột Size"
   ]
  },
  {
   "cell_type": "code",
   "execution_count": 23,
   "id": "e31302e9",
   "metadata": {},
   "outputs": [
    {
     "data": {
      "text/plain": [
       "10000+ employees           993\n",
       "51 to 200 employees        563\n",
       "1001 to 5000 employees     553\n",
       "1 to 50 employees          550\n",
       "201 to 500 employees       418\n",
       "501 to 1000 employees      307\n",
       "-1                         229\n",
       "5001 to 10000 employees    219\n",
       "Unknown                     77\n",
       "Name: Size, dtype: int64"
      ]
     },
     "execution_count": 23,
     "metadata": {},
     "output_type": "execute_result"
    }
   ],
   "source": [
    "ds_df['Size'].value_counts()"
   ]
  },
  {
   "cell_type": "markdown",
   "id": "a2cbc278",
   "metadata": {},
   "source": [
    "Cột `Size` gồm 3 kiểu thể hiện dữ liệu: gồm `-1` cho các giá trị thiếu, `Unknown` là các giá trị mà công ty không cung cấp và còn lại là các khoảng. Ta sẽ tiền xử lí cột này như sau:\n",
    "* Các giá trị `-1` và `Unknown` sẽ thay thế bằng giá trị `NaN`.\n",
    "* Các giá trị là các khoảng, ta sẽ chuyển thành giá trị trung bình, riêng khoảng lớn nhất sẽ dùng giá trị phân chia (e.g `10000+ employees` sẽ thay bằng giá trị `10000`)."
   ]
  },
  {
   "cell_type": "code",
   "execution_count": 24,
   "id": "c675d7ff",
   "metadata": {},
   "outputs": [],
   "source": [
    "def convert_to_mean(s):\n",
    "    if type(s) != str:\n",
    "        return\n",
    "    value_range = [int(d) for d in re.findall(r'\\d+',s)]\n",
    "    return math.floor(sum(value_range)/len(value_range))\n",
    "# Chuyển giá trị -1 và Unknown thành nan\n",
    "ds_df['Size'].replace('-1',np.nan,inplace = True)\n",
    "ds_df['Size'].replace('Unknown',np.nan,inplace = True)\n",
    "# Biến đổi các khoảng thành giá trị trung bình\n",
    "ds_df['Size']=ds_df['Size'].apply(convert_to_mean)"
   ]
  },
  {
   "cell_type": "markdown",
   "id": "59862b25",
   "metadata": {},
   "source": [
    "### Tiền xử lý cột Founded "
   ]
  },
  {
   "cell_type": "code",
   "execution_count": 25,
   "id": "fae750d5",
   "metadata": {},
   "outputs": [
    {
     "data": {
      "text/plain": [
       "-1       977\n",
       " 1625      2\n",
       " 1682      1\n",
       " 1740      9\n",
       " 1775     13\n",
       "        ... \n",
       " 2016     49\n",
       " 2017     40\n",
       " 2018     27\n",
       " 2019     14\n",
       " 2020      1\n",
       "Name: Founded, Length: 173, dtype: int64"
      ]
     },
     "execution_count": 25,
     "metadata": {},
     "output_type": "execute_result"
    }
   ],
   "source": [
    "ds_df['Founded'].value_counts().sort_index()"
   ]
  },
  {
   "cell_type": "markdown",
   "id": "c8c4f286",
   "metadata": {},
   "source": [
    "Cột `Founded` có khá nhiều giá trị thiếu, tác giả đã đánh dấu bằng giá trị `-1`. Ta không có cách nào để xác định năm thành lập của những công ty này. Do đó, để tiện cho việc tính toán các tác vụ về sau (tính giá trị thiếu,...), ta sẽ chuyển các giá trị `-1` về `NaN`."
   ]
  },
  {
   "cell_type": "code",
   "execution_count": 26,
   "id": "91351d28",
   "metadata": {
    "scrolled": false
   },
   "outputs": [
    {
     "data": {
      "text/plain": [
       "array([2007., 2008.,   nan, 2019., 1985., 1993., 2018., 2000., 2014.,\n",
       "       2011., 1999., 2001., 1998., 2005., 1943., 2012., 1923., 2003.,\n",
       "       2002., 2015., 2006., 2010., 1853., 1990., 1914., 2013., 2004.,\n",
       "       1799., 1935., 1995., 1994., 1988., 1917., 1947., 1981., 1940.,\n",
       "       1841., 2017., 1896., 2009., 1898., 1968., 1862., 1934., 1992.,\n",
       "       2016., 1984., 1987., 1966., 1976., 1871., 1625., 1997., 1967.,\n",
       "       1948., 1913., 1989., 1893., 1904., 1911., 1961., 1806., 1969.,\n",
       "       1945., 1784., 1857., 1971., 1852., 1922., 1851., 1956., 1906.,\n",
       "       1973., 1960., 1975., 1982., 1996., 1931., 1986., 1902., 1909.,\n",
       "       1880., 1946., 1970., 1979., 1977., 1965., 1954., 1850., 1980.,\n",
       "       1919., 1983., 1888., 1978., 1872., 1831., 1936., 1939., 1937.,\n",
       "       1928., 1991., 1929., 1944., 1901., 1974., 1925., 1817., 1963.,\n",
       "       1894., 1890., 1882., 1892., 1908., 1926., 1883., 1845., 1849.,\n",
       "       1918., 1900., 1889., 1837., 1930., 1877., 1910., 1962., 1955.,\n",
       "       1897., 1949., 1972., 1941., 1957., 1924., 1891., 1864., 1951.,\n",
       "       1847., 1775., 1843., 1855., 1740., 1792., 1830., 1887., 1682.,\n",
       "       1881., 1824., 1916., 1812., 1905., 1953., 1876., 1848., 1858.,\n",
       "       1958., 1938., 1868., 1781., 1895., 1869., 1921., 2020., 1865.,\n",
       "       1933., 1907., 1927., 1950., 1952., 1870., 1912., 1920., 1932.,\n",
       "       1803., 1866.])"
      ]
     },
     "execution_count": 26,
     "metadata": {},
     "output_type": "execute_result"
    }
   ],
   "source": [
    "ds_df['Founded'].replace(-1,np.nan,inplace = True)\n",
    "ds_df['Founded'].unique()"
   ]
  },
  {
   "cell_type": "markdown",
   "id": "90d1b50e",
   "metadata": {},
   "source": [
    "Quan sát cột `Founded` các giá trị còn lại đều đã chính xác. Kiểu dữ liệu `int64` đã phù hợp với ý nghĩa của cột là năm thành lập công ty."
   ]
  },
  {
   "cell_type": "markdown",
   "id": "bbf3bc74",
   "metadata": {},
   "source": [
    "### Tiền xử lý cột Industry "
   ]
  },
  {
   "cell_type": "code",
   "execution_count": 27,
   "id": "be823f31",
   "metadata": {
    "scrolled": true
   },
   "outputs": [
    {
     "data": {
      "text/plain": [
       "-1                                  546\n",
       "IT Services                         472\n",
       "Staffing & Outsourcing              313\n",
       "Biotech & Pharmaceuticals           293\n",
       "Computer Hardware & Software        264\n",
       "                                   ... \n",
       "Sporting Goods Stores                 1\n",
       "Health Fundraising Organizations      1\n",
       "Shipping                              1\n",
       "Self-Storage Services                 1\n",
       "Truck Rental & Leasing                1\n",
       "Name: Industry, Length: 96, dtype: int64"
      ]
     },
     "execution_count": 27,
     "metadata": {},
     "output_type": "execute_result"
    }
   ],
   "source": [
    "ds_df['Industry'].value_counts()"
   ]
  },
  {
   "cell_type": "markdown",
   "id": "00071465",
   "metadata": {},
   "source": [
    "Tương tự cột `Founded`, cột `Industry` cũng có các giá trị thiếu được đánh dấu bằng giá trị `-1`. Ta sẽ chuyển giá trị này thành `NaN`."
   ]
  },
  {
   "cell_type": "code",
   "execution_count": 28,
   "id": "5393f994",
   "metadata": {},
   "outputs": [],
   "source": [
    "ds_df['Industry'].replace('-1',np.nan,inplace = True)"
   ]
  },
  {
   "cell_type": "markdown",
   "id": "21c46667",
   "metadata": {},
   "source": [
    "### Tiền xử lý cột Revenue "
   ]
  },
  {
   "cell_type": "code",
   "execution_count": 29,
   "id": "7022a529",
   "metadata": {},
   "outputs": [
    {
     "data": {
      "text/plain": [
       "Unknown / Non-Applicable            1163\n",
       "$10+ billion (USD)                   599\n",
       "$100 to $500 million (USD)           338\n",
       "-1                                   229\n",
       "$50 to $100 million (USD)            214\n",
       "$2 to $5 billion (USD)               211\n",
       "$10 to $25 million (USD)             191\n",
       "$1 to $2 billion (USD)               180\n",
       "$1 to $5 million (USD)               170\n",
       "$25 to $50 million (USD)             143\n",
       "$5 to $10 billion (USD)              133\n",
       "Less than $1 million (USD)           124\n",
       "$500 million to $1 billion (USD)     114\n",
       "$5 to $10 million (USD)              100\n",
       "Name: Revenue, dtype: int64"
      ]
     },
     "execution_count": 29,
     "metadata": {},
     "output_type": "execute_result"
    }
   ],
   "source": [
    "ds_df[\"Revenue\"].value_counts()"
   ]
  },
  {
   "cell_type": "markdown",
   "id": "d196e920",
   "metadata": {},
   "source": [
    "Như có thể quan sát, cột này có 3 kiểu thể hiện dữ liệu: giá trị thiếu đánh dấu bằng `-1`, giá trị `Unknown / Non-Applicable` và giá trị có định dạng là một khoảng ước lượng. Ta sẽ tiền xử lí cột này như sau:\n",
    "* Các dòng có giá trị `-1` hoặc `Unknown / Non-Applicable` sẽ chuyển thành dạng `NaN`.\n",
    "* Các dòng có giá trị là môt khoảng ước lượng sẽ chuyển thành giá trị trung bình của khoảng. Với 2 khoảng đầu cuối, ta sẽ mặc định thành giá trị phân chia của khoảng đó. Ngoài ra, các giá trị billion cũng sẽ được đổi thành million."
   ]
  },
  {
   "cell_type": "code",
   "execution_count": 30,
   "id": "b39ee458",
   "metadata": {},
   "outputs": [],
   "source": [
    "def convert_to_num(s):\n",
    "    if type(s) != str:\n",
    "        return\n",
    "    if re.compile(r'\\$\\d+\\+ billion').match(s):\n",
    "        value_range = [int(d) for d in re.findall(r'\\d+',s)]\n",
    "        return sum(value_range)/len(value_range)*1000\n",
    "    elif re.compile(r'\\$\\d+ to \\$\\d+ billion').match(s):\n",
    "        value_range = [int(d) for d in re.findall(r'\\d+',s)]\n",
    "        return sum(value_range)/len(value_range)*1000\n",
    "    elif re.compile(r'\\$\\d+ million to \\$\\d+ billion').match(s):\n",
    "        match = re.compile(r'\\$(\\d+) million to \\$(\\d+) billion').match(s)\n",
    "        return (int(match.group(1))+int(match.group(2))*1000)/2\n",
    "    else:\n",
    "        value_range = [int(d) for d in re.findall(r'\\d+',s)]\n",
    "        return sum(value_range)/len(value_range)\n",
    "# Chuyển giá trị -1 và Unknown/Non-Applicable thành nan\n",
    "ds_df['Revenue'].replace('-1',np.nan,inplace = True)\n",
    "ds_df['Revenue'].replace('Unknown / Non-Applicable',np.nan,inplace = True)\n",
    "# Chuyển các khoảng ước lượng thành giá trị số\n",
    "ds_df['Revenue'] = ds_df['Revenue'].apply(convert_to_num)"
   ]
  },
  {
   "cell_type": "markdown",
   "id": "53347d01",
   "metadata": {},
   "source": [
    "### Tiền xử lý cột Easy Apply"
   ]
  },
  {
   "cell_type": "code",
   "execution_count": 31,
   "id": "c1c0ad96",
   "metadata": {
    "scrolled": true
   },
   "outputs": [
    {
     "name": "stdout",
     "output_type": "stream",
     "text": [
      "object\n"
     ]
    },
    {
     "data": {
      "text/plain": [
       "-1      3745\n",
       "True     164\n",
       "Name: Easy Apply, dtype: int64"
      ]
     },
     "execution_count": 31,
     "metadata": {},
     "output_type": "execute_result"
    }
   ],
   "source": [
    "print(ds_df['Easy Apply'].dtype)\n",
    "ds_df[\"Easy Apply\"].value_counts()"
   ]
  },
  {
   "cell_type": "markdown",
   "id": "79303445",
   "metadata": {},
   "source": [
    "Cột `Easy Apply` hiện tại gồm 2 giá trị `-1` và `True`. Vì cung cấp thông tin công ty có dễ apply hay không, cột nên mang giá trị `True` hoặc `False`. Do đó, ta thực hiện replace `-1` bằng `False` và chuyển dtype của cột về đúng dạng `bool`."
   ]
  },
  {
   "cell_type": "code",
   "execution_count": 32,
   "id": "ee78f1c8",
   "metadata": {
    "scrolled": true
   },
   "outputs": [],
   "source": [
    "ds_df[\"Easy Apply\"] = ds_df[\"Easy Apply\"].replace('-1', False).astype(bool)"
   ]
  },
  {
   "cell_type": "markdown",
   "id": "7f167a6e",
   "metadata": {},
   "source": [
    "### Tiền xử lý các cột Type of ownership, Sector, Competitors"
   ]
  },
  {
   "cell_type": "code",
   "execution_count": 33,
   "id": "55cad6c0",
   "metadata": {},
   "outputs": [
    {
     "data": {
      "text/plain": [
       "array(['Company - Private', 'Unknown', 'Company - Public',\n",
       "       'Nonprofit Organization', '-1', 'Government', 'Hospital',\n",
       "       'Self-employed', 'Subsidiary or Business Segment', 'Contract',\n",
       "       'School / School District', 'Private Practice / Firm',\n",
       "       'College / University', 'Franchise', 'Other Organization'],\n",
       "      dtype=object)"
      ]
     },
     "execution_count": 33,
     "metadata": {},
     "output_type": "execute_result"
    }
   ],
   "source": [
    "ds_df['Type of ownership'].unique()"
   ]
  },
  {
   "cell_type": "code",
   "execution_count": 34,
   "id": "82bb1e70",
   "metadata": {},
   "outputs": [
    {
     "data": {
      "text/plain": [
       "array(['Travel & Tourism', 'Consumer Services', '-1',\n",
       "       'Information Technology', 'Business Services', 'Insurance',\n",
       "       'Finance', 'Retail', 'Media', 'Restaurants, Bars & Food Services',\n",
       "       'Agriculture & Forestry', 'Non-Profit', 'Education', 'Government',\n",
       "       'Health Care', 'Oil, Gas, Energy & Utilities',\n",
       "       'Accounting & Legal', 'Manufacturing', 'Real Estate',\n",
       "       'Biotech & Pharmaceuticals', 'Arts, Entertainment & Recreation',\n",
       "       'Aerospace & Defense', 'Construction, Repair & Maintenance',\n",
       "       'Transportation & Logistics', 'Telecommunications',\n",
       "       'Mining & Metals'], dtype=object)"
      ]
     },
     "execution_count": 34,
     "metadata": {},
     "output_type": "execute_result"
    }
   ],
   "source": [
    "ds_df['Sector'].unique()"
   ]
  },
  {
   "cell_type": "code",
   "execution_count": 35,
   "id": "1746621f",
   "metadata": {},
   "outputs": [
    {
     "data": {
      "text/plain": [
       "-1                                        2760\n",
       "Amazon, Accenture, Microsoft                61\n",
       "Google, Microsoft, Samsung Electronics      60\n",
       "Google, Microsoft, Walmart                  47\n",
       "Google, Microsoft, Apple                    25\n",
       "                                          ... \n",
       "SpotX, FreeWheel, TubeMogul                  1\n",
       "Accenture, West Monroe, Slalom               1\n",
       "Agilent Technologies                         1\n",
       "TEKsystems, CGI, SDLC Partners               1\n",
       "IBM, Apple, HP Inc.                          1\n",
       "Name: Competitors, Length: 422, dtype: int64"
      ]
     },
     "execution_count": 35,
     "metadata": {},
     "output_type": "execute_result"
    }
   ],
   "source": [
    "ds_df['Competitors'].value_counts()"
   ]
  },
  {
   "cell_type": "markdown",
   "id": "21615b5d",
   "metadata": {},
   "source": [
    "Quan sát 3 cột này thì có vẻ ở bước tiền xử lý này ta chỉ cần thay thế giá trị `-1` thành giá trị `NaN`"
   ]
  },
  {
   "cell_type": "code",
   "execution_count": 36,
   "id": "f973adbf",
   "metadata": {},
   "outputs": [],
   "source": [
    "ds_df[['Type of ownership','Sector','Competitors']] = ds_df[['Type of ownership','Sector','Competitors']].replace('-1',np.nan)"
   ]
  },
  {
   "cell_type": "markdown",
   "id": "502379f2",
   "metadata": {},
   "source": [
    "## Khám phá dữ liệu (phần 2)"
   ]
  },
  {
   "cell_type": "markdown",
   "id": "25eb7a9a",
   "metadata": {},
   "source": [
    "### Tiếp theo ta kiểm tra xem `dtype` của các cột đã đúng chưa"
   ]
  },
  {
   "cell_type": "code",
   "execution_count": 37,
   "id": "38c3e6e2",
   "metadata": {},
   "outputs": [
    {
     "name": "stdout",
     "output_type": "stream",
     "text": [
      "<class 'pandas.core.frame.DataFrame'>\n",
      "RangeIndex: 3909 entries, 0 to 3908\n",
      "Data columns (total 18 columns):\n",
      " #   Column                      Non-Null Count  Dtype  \n",
      "---  ------                      --------------  -----  \n",
      " 0   Job Title                   3909 non-null   object \n",
      " 1   Job Description             3909 non-null   object \n",
      " 2   Rating                      3909 non-null   float64\n",
      " 3   Company Name                3909 non-null   object \n",
      " 4   Size                        3603 non-null   float64\n",
      " 5   Founded                     2932 non-null   float64\n",
      " 6   Type of ownership           3680 non-null   object \n",
      " 7   Industry                    3363 non-null   object \n",
      " 8   Sector                      3363 non-null   object \n",
      " 9   Revenue                     2517 non-null   float64\n",
      " 10  Competitors                 1149 non-null   object \n",
      " 11  Easy Apply                  3909 non-null   bool   \n",
      " 12  SalaryMin                   3909 non-null   int64  \n",
      " 13  SalaryMax                   3909 non-null   int64  \n",
      " 14  City                        3909 non-null   object \n",
      " 15  State                       3909 non-null   object \n",
      " 16  Headquarters_City           3669 non-null   object \n",
      " 17  Headquarters_State/Country  3669 non-null   object \n",
      "dtypes: bool(1), float64(4), int64(2), object(11)\n",
      "memory usage: 523.1+ KB\n"
     ]
    }
   ],
   "source": [
    "ds_df.info()"
   ]
  },
  {
   "cell_type": "markdown",
   "id": "46882e59",
   "metadata": {},
   "source": [
    "Nhìn chung thì các cột dữ liệu đã ở đúng định dạng cần thiết."
   ]
  },
  {
   "cell_type": "markdown",
   "id": "b8b01c85",
   "metadata": {},
   "source": [
    "### Ta kiểm tra với các dữ liệu dạng numeric, giá trị của chúng phân bố như thế nào?"
   ]
  },
  {
   "cell_type": "code",
   "execution_count": 38,
   "id": "4bb851f3",
   "metadata": {},
   "outputs": [
    {
     "data": {
      "text/html": [
       "<div>\n",
       "<style scoped>\n",
       "    .dataframe tbody tr th:only-of-type {\n",
       "        vertical-align: middle;\n",
       "    }\n",
       "\n",
       "    .dataframe tbody tr th {\n",
       "        vertical-align: top;\n",
       "    }\n",
       "\n",
       "    .dataframe thead th {\n",
       "        text-align: right;\n",
       "    }\n",
       "</style>\n",
       "<table border=\"1\" class=\"dataframe\">\n",
       "  <thead>\n",
       "    <tr style=\"text-align: right;\">\n",
       "      <th></th>\n",
       "      <th>Rating</th>\n",
       "      <th>Size</th>\n",
       "      <th>Founded</th>\n",
       "      <th>Revenue</th>\n",
       "      <th>SalaryMin</th>\n",
       "      <th>SalaryMax</th>\n",
       "    </tr>\n",
       "  </thead>\n",
       "  <tbody>\n",
       "    <tr>\n",
       "      <th>count</th>\n",
       "      <td>3909.000</td>\n",
       "      <td>3603.000</td>\n",
       "      <td>2932.000</td>\n",
       "      <td>2517.000</td>\n",
       "      <td>3909.000</td>\n",
       "      <td>3909.000</td>\n",
       "    </tr>\n",
       "    <tr>\n",
       "      <th>mean</th>\n",
       "      <td>3.786</td>\n",
       "      <td>3800.215</td>\n",
       "      <td>1972.371</td>\n",
       "      <td>3261.438</td>\n",
       "      <td>81.910</td>\n",
       "      <td>133.825</td>\n",
       "    </tr>\n",
       "    <tr>\n",
       "      <th>std</th>\n",
       "      <td>0.582</td>\n",
       "      <td>4241.318</td>\n",
       "      <td>52.720</td>\n",
       "      <td>4167.296</td>\n",
       "      <td>34.311</td>\n",
       "      <td>45.011</td>\n",
       "    </tr>\n",
       "    <tr>\n",
       "      <th>min</th>\n",
       "      <td>1.000</td>\n",
       "      <td>25.000</td>\n",
       "      <td>1625.000</td>\n",
       "      <td>1.000</td>\n",
       "      <td>10.000</td>\n",
       "      <td>26.000</td>\n",
       "    </tr>\n",
       "    <tr>\n",
       "      <th>25%</th>\n",
       "      <td>3.500</td>\n",
       "      <td>125.000</td>\n",
       "      <td>1961.000</td>\n",
       "      <td>37.500</td>\n",
       "      <td>52.000</td>\n",
       "      <td>97.000</td>\n",
       "    </tr>\n",
       "    <tr>\n",
       "      <th>50%</th>\n",
       "      <td>3.800</td>\n",
       "      <td>750.000</td>\n",
       "      <td>1995.000</td>\n",
       "      <td>300.000</td>\n",
       "      <td>76.000</td>\n",
       "      <td>129.000</td>\n",
       "    </tr>\n",
       "    <tr>\n",
       "      <th>75%</th>\n",
       "      <td>4.100</td>\n",
       "      <td>10000.000</td>\n",
       "      <td>2006.000</td>\n",
       "      <td>7500.000</td>\n",
       "      <td>110.000</td>\n",
       "      <td>165.000</td>\n",
       "    </tr>\n",
       "    <tr>\n",
       "      <th>max</th>\n",
       "      <td>5.000</td>\n",
       "      <td>10000.000</td>\n",
       "      <td>2020.000</td>\n",
       "      <td>10000.000</td>\n",
       "      <td>200.000</td>\n",
       "      <td>254.000</td>\n",
       "    </tr>\n",
       "    <tr>\n",
       "      <th>missing_ratio</th>\n",
       "      <td>0.000</td>\n",
       "      <td>7.828</td>\n",
       "      <td>24.994</td>\n",
       "      <td>35.610</td>\n",
       "      <td>0.000</td>\n",
       "      <td>0.000</td>\n",
       "    </tr>\n",
       "  </tbody>\n",
       "</table>\n",
       "</div>"
      ],
      "text/plain": [
       "                 Rating       Size   Founded    Revenue  SalaryMin  SalaryMax\n",
       "count          3909.000   3603.000  2932.000   2517.000   3909.000   3909.000\n",
       "mean              3.786   3800.215  1972.371   3261.438     81.910    133.825\n",
       "std               0.582   4241.318    52.720   4167.296     34.311     45.011\n",
       "min               1.000     25.000  1625.000      1.000     10.000     26.000\n",
       "25%               3.500    125.000  1961.000     37.500     52.000     97.000\n",
       "50%               3.800    750.000  1995.000    300.000     76.000    129.000\n",
       "75%               4.100  10000.000  2006.000   7500.000    110.000    165.000\n",
       "max               5.000  10000.000  2020.000  10000.000    200.000    254.000\n",
       "missing_ratio     0.000      7.828    24.994     35.610      0.000      0.000"
      ]
     },
     "execution_count": 38,
     "metadata": {},
     "output_type": "execute_result"
    }
   ],
   "source": [
    "numeric_cols = ds_df.describe().columns.to_list()\n",
    "missing_ratio = ds_df[numeric_cols].agg([lambda x:x.isnull().mean()*100])\n",
    "numeric_cols_profiles = pd.concat([ds_df.describe(),missing_ratio])\n",
    "numeric_cols_profiles.rename(index={'<lambda>':'missing_ratio'},inplace=True)\n",
    "numeric_cols_profiles.round(3)"
   ]
  },
  {
   "cell_type": "markdown",
   "id": "20473da8",
   "metadata": {},
   "source": [
    "Quan sát các cột dữ liệu dạng số thì không có gì bất thường xuất hiện."
   ]
  },
  {
   "cell_type": "markdown",
   "id": "c5424d61",
   "metadata": {},
   "source": [
    "### Ta kiểm tra với các dữ liệu dạng categorical, giá trị của chúng phân bố như thế nào?"
   ]
  },
  {
   "cell_type": "code",
   "execution_count": 39,
   "id": "cf2adcd5",
   "metadata": {},
   "outputs": [
    {
     "data": {
      "text/html": [
       "<div>\n",
       "<style scoped>\n",
       "    .dataframe tbody tr th:only-of-type {\n",
       "        vertical-align: middle;\n",
       "    }\n",
       "\n",
       "    .dataframe tbody tr th {\n",
       "        vertical-align: top;\n",
       "    }\n",
       "\n",
       "    .dataframe thead th {\n",
       "        text-align: right;\n",
       "    }\n",
       "</style>\n",
       "<table border=\"1\" class=\"dataframe\">\n",
       "  <thead>\n",
       "    <tr style=\"text-align: right;\">\n",
       "      <th></th>\n",
       "      <th>Job Title</th>\n",
       "      <th>Job Description</th>\n",
       "      <th>Company Name</th>\n",
       "      <th>Type of ownership</th>\n",
       "      <th>Industry</th>\n",
       "      <th>Sector</th>\n",
       "      <th>Competitors</th>\n",
       "      <th>Easy Apply</th>\n",
       "      <th>City</th>\n",
       "      <th>State</th>\n",
       "      <th>Headquarters_City</th>\n",
       "      <th>Headquarters_State/Country</th>\n",
       "    </tr>\n",
       "  </thead>\n",
       "  <tbody>\n",
       "    <tr>\n",
       "      <th>missing_ratio</th>\n",
       "      <td>0.0</td>\n",
       "      <td>0.0</td>\n",
       "      <td>0.0</td>\n",
       "      <td>5.858</td>\n",
       "      <td>13.968</td>\n",
       "      <td>13.968</td>\n",
       "      <td>70.606</td>\n",
       "      <td>0.0</td>\n",
       "      <td>0.0</td>\n",
       "      <td>0.0</td>\n",
       "      <td>6.14</td>\n",
       "      <td>6.14</td>\n",
       "    </tr>\n",
       "    <tr>\n",
       "      <th>number_of_unique_vals</th>\n",
       "      <td>1361</td>\n",
       "      <td>3685</td>\n",
       "      <td>2063</td>\n",
       "      <td>14</td>\n",
       "      <td>95</td>\n",
       "      <td>25</td>\n",
       "      <td>421</td>\n",
       "      <td>2</td>\n",
       "      <td>185</td>\n",
       "      <td>11</td>\n",
       "      <td>523</td>\n",
       "      <td>77</td>\n",
       "    </tr>\n",
       "    <tr>\n",
       "      <th>unique_vals</th>\n",
       "      <td>[Senior Data Scientist, Data Scientist, Data S...</td>\n",
       "      <td>[ABOUT HOPPER\\n\\nAt Hopper, we’re on a mission...</td>\n",
       "      <td>[Hopper, Noom US, Decode_M, Sapphire Digital, ...</td>\n",
       "      <td>[Company - Private, Unknown, Company - Public,...</td>\n",
       "      <td>[Travel Agencies, Health, Beauty, &amp; Fitness, I...</td>\n",
       "      <td>[Travel &amp; Tourism, Consumer Services, Informat...</td>\n",
       "      <td>[Zocdoc, Healthgrades, BBDO, Grey Group, Droga...</td>\n",
       "      <td>[False, True]</td>\n",
       "      <td>[New York, Lyndhurst, Brooklyn, Jersey City, C...</td>\n",
       "      <td>[NY, NJ, CA, IL, TX, AZ, DE, PA, United Kingdo...</td>\n",
       "      <td>[Montreal, New York, Lyndhurst, Hartford, Stam...</td>\n",
       "      <td>[Canada, NY, NJ, CT, United Kingdom, CA, IL, F...</td>\n",
       "    </tr>\n",
       "  </tbody>\n",
       "</table>\n",
       "</div>"
      ],
      "text/plain": [
       "                                                               Job Title  \\\n",
       "missing_ratio                                                        0.0   \n",
       "number_of_unique_vals                                               1361   \n",
       "unique_vals            [Senior Data Scientist, Data Scientist, Data S...   \n",
       "\n",
       "                                                         Job Description  \\\n",
       "missing_ratio                                                        0.0   \n",
       "number_of_unique_vals                                               3685   \n",
       "unique_vals            [ABOUT HOPPER\\n\\nAt Hopper, we’re on a mission...   \n",
       "\n",
       "                                                            Company Name  \\\n",
       "missing_ratio                                                        0.0   \n",
       "number_of_unique_vals                                               2063   \n",
       "unique_vals            [Hopper, Noom US, Decode_M, Sapphire Digital, ...   \n",
       "\n",
       "                                                       Type of ownership  \\\n",
       "missing_ratio                                                      5.858   \n",
       "number_of_unique_vals                                                 14   \n",
       "unique_vals            [Company - Private, Unknown, Company - Public,...   \n",
       "\n",
       "                                                                Industry  \\\n",
       "missing_ratio                                                     13.968   \n",
       "number_of_unique_vals                                                 95   \n",
       "unique_vals            [Travel Agencies, Health, Beauty, & Fitness, I...   \n",
       "\n",
       "                                                                  Sector  \\\n",
       "missing_ratio                                                     13.968   \n",
       "number_of_unique_vals                                                 25   \n",
       "unique_vals            [Travel & Tourism, Consumer Services, Informat...   \n",
       "\n",
       "                                                             Competitors  \\\n",
       "missing_ratio                                                     70.606   \n",
       "number_of_unique_vals                                                421   \n",
       "unique_vals            [Zocdoc, Healthgrades, BBDO, Grey Group, Droga...   \n",
       "\n",
       "                          Easy Apply  \\\n",
       "missing_ratio                    0.0   \n",
       "number_of_unique_vals              2   \n",
       "unique_vals            [False, True]   \n",
       "\n",
       "                                                                    City  \\\n",
       "missing_ratio                                                        0.0   \n",
       "number_of_unique_vals                                                185   \n",
       "unique_vals            [New York, Lyndhurst, Brooklyn, Jersey City, C...   \n",
       "\n",
       "                                                                   State  \\\n",
       "missing_ratio                                                        0.0   \n",
       "number_of_unique_vals                                                 11   \n",
       "unique_vals            [NY, NJ, CA, IL, TX, AZ, DE, PA, United Kingdo...   \n",
       "\n",
       "                                                       Headquarters_City  \\\n",
       "missing_ratio                                                       6.14   \n",
       "number_of_unique_vals                                                523   \n",
       "unique_vals            [Montreal, New York, Lyndhurst, Hartford, Stam...   \n",
       "\n",
       "                                              Headquarters_State/Country  \n",
       "missing_ratio                                                       6.14  \n",
       "number_of_unique_vals                                                 77  \n",
       "unique_vals            [Canada, NY, NJ, CT, United Kingdom, CA, IL, F...  "
      ]
     },
     "execution_count": 39,
     "metadata": {},
     "output_type": "execute_result"
    }
   ],
   "source": [
    "categorical_cols = ['Job Title', 'Job Description', 'Company Name', 'Type of ownership', 'Industry', 'Sector',\\\n",
    "                 'Competitors', 'Easy Apply', 'City', 'State', 'Headquarters_City', 'Headquarters_State/Country']\n",
    "def number_of_unique_vals(s):\n",
    "    return s.dropna().nunique()\n",
    "def unique_vals(s):\n",
    "    return s.dropna().unique()\n",
    "def missing_ratio(s):\n",
    "    return (s.isnull().mean()*100).round(3)\n",
    "cate_cols_profiles = ds_df[categorical_cols].agg([missing_ratio,number_of_unique_vals,unique_vals])\n",
    "cate_cols_profiles"
   ]
  },
  {
   "cell_type": "markdown",
   "id": "4c73b5d6",
   "metadata": {},
   "source": [
    "Cột `Competitors` có tỉ lệ thiếu rất lớn, tuy nhiên ta chưa chắc chắn lí do để loại bỏ cột này nên sẽ giữ nguyên. Các cột Categorical còn lại không có gì bất thường."
   ]
  },
  {
   "cell_type": "markdown",
   "id": "363c3692",
   "metadata": {},
   "source": [
    "## Nhìn lại toàn bộ dữ liệu trước khi đặt câu hỏi"
   ]
  },
  {
   "cell_type": "code",
   "execution_count": 40,
   "id": "9a055213",
   "metadata": {},
   "outputs": [
    {
     "data": {
      "text/html": [
       "<div>\n",
       "<style scoped>\n",
       "    .dataframe tbody tr th:only-of-type {\n",
       "        vertical-align: middle;\n",
       "    }\n",
       "\n",
       "    .dataframe tbody tr th {\n",
       "        vertical-align: top;\n",
       "    }\n",
       "\n",
       "    .dataframe thead th {\n",
       "        text-align: right;\n",
       "    }\n",
       "</style>\n",
       "<table border=\"1\" class=\"dataframe\">\n",
       "  <thead>\n",
       "    <tr style=\"text-align: right;\">\n",
       "      <th></th>\n",
       "      <th>Job Title</th>\n",
       "      <th>Job Description</th>\n",
       "      <th>Rating</th>\n",
       "      <th>Company Name</th>\n",
       "      <th>Size</th>\n",
       "      <th>SalaryMin</th>\n",
       "      <th>SalaryMax</th>\n",
       "      <th>City</th>\n",
       "      <th>State</th>\n",
       "      <th>Founded</th>\n",
       "      <th>Type of ownership</th>\n",
       "      <th>Industry</th>\n",
       "      <th>Sector</th>\n",
       "      <th>Revenue</th>\n",
       "      <th>Headquarters_City</th>\n",
       "      <th>Headquarters_State/Country</th>\n",
       "      <th>Competitors</th>\n",
       "      <th>Easy Apply</th>\n",
       "    </tr>\n",
       "  </thead>\n",
       "  <tbody>\n",
       "    <tr>\n",
       "      <th>0</th>\n",
       "      <td>Senior Data Scientist</td>\n",
       "      <td>ABOUT HOPPER\\n\\nAt Hopper, we’re on a mission ...</td>\n",
       "      <td>3.5</td>\n",
       "      <td>Hopper</td>\n",
       "      <td>750.0</td>\n",
       "      <td>111</td>\n",
       "      <td>181</td>\n",
       "      <td>New York</td>\n",
       "      <td>NY</td>\n",
       "      <td>2007.0</td>\n",
       "      <td>Company - Private</td>\n",
       "      <td>Travel Agencies</td>\n",
       "      <td>Travel &amp; Tourism</td>\n",
       "      <td>NaN</td>\n",
       "      <td>Montreal</td>\n",
       "      <td>Canada</td>\n",
       "      <td>NaN</td>\n",
       "      <td>False</td>\n",
       "    </tr>\n",
       "    <tr>\n",
       "      <th>1</th>\n",
       "      <td>Data Scientist</td>\n",
       "      <td>At Noom, we use scientifically proven methods ...</td>\n",
       "      <td>4.5</td>\n",
       "      <td>Noom US</td>\n",
       "      <td>3000.0</td>\n",
       "      <td>111</td>\n",
       "      <td>181</td>\n",
       "      <td>New York</td>\n",
       "      <td>NY</td>\n",
       "      <td>2008.0</td>\n",
       "      <td>Company - Private</td>\n",
       "      <td>Health, Beauty, &amp; Fitness</td>\n",
       "      <td>Consumer Services</td>\n",
       "      <td>NaN</td>\n",
       "      <td>New York</td>\n",
       "      <td>NY</td>\n",
       "      <td>NaN</td>\n",
       "      <td>False</td>\n",
       "    </tr>\n",
       "    <tr>\n",
       "      <th>2</th>\n",
       "      <td>Data Science Manager</td>\n",
       "      <td>Decode_M\\n\\nhttps://www.decode-m.com/\\n\\nData ...</td>\n",
       "      <td>3.8</td>\n",
       "      <td>Decode_M</td>\n",
       "      <td>25.0</td>\n",
       "      <td>111</td>\n",
       "      <td>181</td>\n",
       "      <td>New York</td>\n",
       "      <td>NY</td>\n",
       "      <td>NaN</td>\n",
       "      <td>Unknown</td>\n",
       "      <td>NaN</td>\n",
       "      <td>NaN</td>\n",
       "      <td>NaN</td>\n",
       "      <td>New York</td>\n",
       "      <td>NY</td>\n",
       "      <td>NaN</td>\n",
       "      <td>True</td>\n",
       "    </tr>\n",
       "    <tr>\n",
       "      <th>3</th>\n",
       "      <td>Data Analyst</td>\n",
       "      <td>Sapphire Digital seeks a dynamic and driven mi...</td>\n",
       "      <td>3.4</td>\n",
       "      <td>Sapphire Digital</td>\n",
       "      <td>350.0</td>\n",
       "      <td>111</td>\n",
       "      <td>181</td>\n",
       "      <td>Lyndhurst</td>\n",
       "      <td>NJ</td>\n",
       "      <td>2019.0</td>\n",
       "      <td>Company - Private</td>\n",
       "      <td>Internet</td>\n",
       "      <td>Information Technology</td>\n",
       "      <td>NaN</td>\n",
       "      <td>Lyndhurst</td>\n",
       "      <td>NJ</td>\n",
       "      <td>Zocdoc, Healthgrades</td>\n",
       "      <td>False</td>\n",
       "    </tr>\n",
       "    <tr>\n",
       "      <th>4</th>\n",
       "      <td>Director</td>\n",
       "      <td>Director, Data Science - (200537)\\nDescription...</td>\n",
       "      <td>3.4</td>\n",
       "      <td>United Entertainment Group</td>\n",
       "      <td>125.0</td>\n",
       "      <td>111</td>\n",
       "      <td>181</td>\n",
       "      <td>New York</td>\n",
       "      <td>NY</td>\n",
       "      <td>2007.0</td>\n",
       "      <td>Company - Private</td>\n",
       "      <td>Advertising &amp; Marketing</td>\n",
       "      <td>Business Services</td>\n",
       "      <td>NaN</td>\n",
       "      <td>New York</td>\n",
       "      <td>NY</td>\n",
       "      <td>BBDO, Grey Group, Droga5</td>\n",
       "      <td>False</td>\n",
       "    </tr>\n",
       "  </tbody>\n",
       "</table>\n",
       "</div>"
      ],
      "text/plain": [
       "               Job Title                                    Job Description  \\\n",
       "0  Senior Data Scientist  ABOUT HOPPER\\n\\nAt Hopper, we’re on a mission ...   \n",
       "1         Data Scientist  At Noom, we use scientifically proven methods ...   \n",
       "2   Data Science Manager  Decode_M\\n\\nhttps://www.decode-m.com/\\n\\nData ...   \n",
       "3           Data Analyst  Sapphire Digital seeks a dynamic and driven mi...   \n",
       "4               Director  Director, Data Science - (200537)\\nDescription...   \n",
       "\n",
       "   Rating                Company Name    Size  SalaryMin  SalaryMax  \\\n",
       "0     3.5                      Hopper   750.0        111        181   \n",
       "1     4.5                     Noom US  3000.0        111        181   \n",
       "2     3.8                    Decode_M    25.0        111        181   \n",
       "3     3.4            Sapphire Digital   350.0        111        181   \n",
       "4     3.4  United Entertainment Group   125.0        111        181   \n",
       "\n",
       "        City State  Founded  Type of ownership                   Industry  \\\n",
       "0   New York    NY   2007.0  Company - Private            Travel Agencies   \n",
       "1   New York    NY   2008.0  Company - Private  Health, Beauty, & Fitness   \n",
       "2   New York    NY      NaN            Unknown                        NaN   \n",
       "3  Lyndhurst    NJ   2019.0  Company - Private                   Internet   \n",
       "4   New York    NY   2007.0  Company - Private    Advertising & Marketing   \n",
       "\n",
       "                   Sector  Revenue Headquarters_City  \\\n",
       "0        Travel & Tourism      NaN          Montreal   \n",
       "1       Consumer Services      NaN          New York   \n",
       "2                     NaN      NaN          New York   \n",
       "3  Information Technology      NaN         Lyndhurst   \n",
       "4       Business Services      NaN          New York   \n",
       "\n",
       "  Headquarters_State/Country               Competitors  Easy Apply  \n",
       "0                     Canada                       NaN       False  \n",
       "1                         NY                       NaN       False  \n",
       "2                         NY                       NaN        True  \n",
       "3                         NJ      Zocdoc, Healthgrades       False  \n",
       "4                         NY  BBDO, Grey Group, Droga5       False  "
      ]
     },
     "execution_count": 40,
     "metadata": {},
     "output_type": "execute_result"
    }
   ],
   "source": [
    "ds_df = ds_df[['Job Title', 'Job Description', 'Rating', 'Company Name', 'Size', 'SalaryMin', 'SalaryMax',\n",
    "               'City', 'State', 'Founded', 'Type of ownership', 'Industry', 'Sector', 'Revenue',\n",
    "               'Headquarters_City', 'Headquarters_State/Country','Competitors', 'Easy Apply']]\n",
    "ds_df.head()"
   ]
  },
  {
   "cell_type": "markdown",
   "id": "5a1d9904",
   "metadata": {},
   "source": [
    "## Đưa ra các câu hỏi cần trả lời\n",
    "\n",
    "(Chi tiết về mục đích, lợi ích, ... các câu hỏi sẽ được đề cập cụ thể ở mỗi câu)\n",
    "\n",
    "- **Câu hỏi 1:** Liệu điểm Rating có liên hệ với sự đãi ngộ về mức lương của một công ty hay không?\n",
    "\n",
    "- **Câu hỏi 2:** Những công cụ/ngôn ngữ nào thường được các nhà tuyển dụng yêu cầu trong thông báo tuyển dụng?\n",
    "\n",
    "- **Câu hỏi 3:** Phân bố các Sector theo State như thế nào?\n",
    "\n",
    "- **Câu hỏi 4:** Vị trí Data Science mà các lĩnh vực mạnh có nhu cầu tuyển dụng cao? \n",
    "\n",
    "- **Câu hỏi 5:** Mức lương có liên quan tới size của công ty không?"
   ]
  },
  {
   "cell_type": "markdown",
   "id": "db9bcade",
   "metadata": {},
   "source": [
    "### Câu hỏi 1: Liệu điểm Rating có liên hệ với sự đãi ngộ về mức lương của một công ty hay không?\n",
    "\n",
    "Lương thưởng luôn là vấn đề ưu tiên hàng đầu của mọi người khi tìm kiếm việc làm, còn rating phản ánh chất lượng của một công ty nào đó bởi những người đã hoặc đang làm việc tại đó. Việc xem xét Rating và mức lương sẽ giúp có được cái nhìn về khía cạnh lương thưởng của các công ty trên thị trường tuyển dụng. (Những công ty có điểm Rating thấp có mức lương như thế nào, có chênh lệch nhiều so với những công ty được đánh giá cao hơn hay không? Những công ty được đánh giá cao thì mức lương đi kèm của họ có thực sự cao hơn không và cao hơn như thế nào?,...)"
   ]
  },
  {
   "cell_type": "markdown",
   "id": "17a64f41",
   "metadata": {},
   "source": [
    "Đầu tiên, ta thấy điểm `Rating` thường là các số thập phân với min là 1 và max là 5, do đó ta sẽ thực hiện đánh giá bằng 2 bước:\n",
    "- **Bước 1:** Gom các `Rating` thành 5 nhóm `(0,1], (1,2], (2,3], (3,4], (4,5]`, sau đó tính số lượng, giá trị min, max, median và mean của các cột `SalaryMin`, `SalaryMax`.\n",
    "- **Bước 2:** Vẽ biểu đồ cột về tương quan giữa mức lương trung bình (của cột `SalaryMin` và `SalaryMax`) và điểm được đánh giá. Vẽ biểu đồ tròn để thấy được tỉ lệ điểm đánh giá giữa các nhóm."
   ]
  },
  {
   "cell_type": "markdown",
   "id": "5f90f8fd",
   "metadata": {},
   "source": [
    "**Bước 1:** Gom nhóm và tính các giá trị thống kê."
   ]
  },
  {
   "cell_type": "code",
   "execution_count": 41,
   "id": "88e47f73",
   "metadata": {},
   "outputs": [
    {
     "data": {
      "text/html": [
       "<div>\n",
       "<style scoped>\n",
       "    .dataframe tbody tr th:only-of-type {\n",
       "        vertical-align: middle;\n",
       "    }\n",
       "\n",
       "    .dataframe tbody tr th {\n",
       "        vertical-align: top;\n",
       "    }\n",
       "\n",
       "    .dataframe thead tr th {\n",
       "        text-align: left;\n",
       "    }\n",
       "</style>\n",
       "<table border=\"1\" class=\"dataframe\">\n",
       "  <thead>\n",
       "    <tr>\n",
       "      <th></th>\n",
       "      <th colspan=\"6\" halign=\"left\">Rating</th>\n",
       "      <th colspan=\"5\" halign=\"left\">SalaryMin</th>\n",
       "      <th colspan=\"5\" halign=\"left\">SalaryMax</th>\n",
       "    </tr>\n",
       "    <tr>\n",
       "      <th></th>\n",
       "      <th></th>\n",
       "      <th>count</th>\n",
       "      <th>min</th>\n",
       "      <th>max</th>\n",
       "      <th>mean</th>\n",
       "      <th>median</th>\n",
       "      <th>count</th>\n",
       "      <th>min</th>\n",
       "      <th>max</th>\n",
       "      <th>mean</th>\n",
       "      <th>median</th>\n",
       "      <th>count</th>\n",
       "      <th>min</th>\n",
       "      <th>max</th>\n",
       "      <th>mean</th>\n",
       "      <th>median</th>\n",
       "    </tr>\n",
       "  </thead>\n",
       "  <tbody>\n",
       "    <tr>\n",
       "      <th>0</th>\n",
       "      <td>(0, 1]</td>\n",
       "      <td>10</td>\n",
       "      <td>1.0</td>\n",
       "      <td>1.0</td>\n",
       "      <td>1.00</td>\n",
       "      <td>1.0</td>\n",
       "      <td>10</td>\n",
       "      <td>12</td>\n",
       "      <td>156</td>\n",
       "      <td>87.30</td>\n",
       "      <td>90</td>\n",
       "      <td>10</td>\n",
       "      <td>56</td>\n",
       "      <td>254</td>\n",
       "      <td>138.40</td>\n",
       "      <td>120.0</td>\n",
       "    </tr>\n",
       "    <tr>\n",
       "      <th>1</th>\n",
       "      <td>(1, 2]</td>\n",
       "      <td>18</td>\n",
       "      <td>1.5</td>\n",
       "      <td>2.0</td>\n",
       "      <td>1.74</td>\n",
       "      <td>1.6</td>\n",
       "      <td>18</td>\n",
       "      <td>45</td>\n",
       "      <td>138</td>\n",
       "      <td>78.67</td>\n",
       "      <td>74</td>\n",
       "      <td>18</td>\n",
       "      <td>78</td>\n",
       "      <td>217</td>\n",
       "      <td>127.94</td>\n",
       "      <td>105.5</td>\n",
       "    </tr>\n",
       "    <tr>\n",
       "      <th>2</th>\n",
       "      <td>(2, 3]</td>\n",
       "      <td>317</td>\n",
       "      <td>2.1</td>\n",
       "      <td>3.0</td>\n",
       "      <td>2.74</td>\n",
       "      <td>2.8</td>\n",
       "      <td>317</td>\n",
       "      <td>12</td>\n",
       "      <td>156</td>\n",
       "      <td>77.28</td>\n",
       "      <td>74</td>\n",
       "      <td>317</td>\n",
       "      <td>27</td>\n",
       "      <td>254</td>\n",
       "      <td>126.31</td>\n",
       "      <td>123.0</td>\n",
       "    </tr>\n",
       "    <tr>\n",
       "      <th>3</th>\n",
       "      <td>(3, 4]</td>\n",
       "      <td>2455</td>\n",
       "      <td>3.1</td>\n",
       "      <td>4.0</td>\n",
       "      <td>3.65</td>\n",
       "      <td>3.7</td>\n",
       "      <td>2455</td>\n",
       "      <td>12</td>\n",
       "      <td>200</td>\n",
       "      <td>80.26</td>\n",
       "      <td>75</td>\n",
       "      <td>2455</td>\n",
       "      <td>27</td>\n",
       "      <td>254</td>\n",
       "      <td>132.02</td>\n",
       "      <td>125.0</td>\n",
       "    </tr>\n",
       "    <tr>\n",
       "      <th>4</th>\n",
       "      <td>(4, 5]</td>\n",
       "      <td>1109</td>\n",
       "      <td>4.1</td>\n",
       "      <td>5.0</td>\n",
       "      <td>4.45</td>\n",
       "      <td>4.4</td>\n",
       "      <td>1109</td>\n",
       "      <td>10</td>\n",
       "      <td>200</td>\n",
       "      <td>86.90</td>\n",
       "      <td>84</td>\n",
       "      <td>1109</td>\n",
       "      <td>26</td>\n",
       "      <td>254</td>\n",
       "      <td>140.02</td>\n",
       "      <td>143.0</td>\n",
       "    </tr>\n",
       "  </tbody>\n",
       "</table>\n",
       "</div>"
      ],
      "text/plain": [
       "   Rating                              SalaryMin                         \\\n",
       "          count  min  max  mean median     count min  max   mean median   \n",
       "0  (0, 1]    10  1.0  1.0  1.00    1.0        10  12  156  87.30     90   \n",
       "1  (1, 2]    18  1.5  2.0  1.74    1.6        18  45  138  78.67     74   \n",
       "2  (2, 3]   317  2.1  3.0  2.74    2.8       317  12  156  77.28     74   \n",
       "3  (3, 4]  2455  3.1  4.0  3.65    3.7      2455  12  200  80.26     75   \n",
       "4  (4, 5]  1109  4.1  5.0  4.45    4.4      1109  10  200  86.90     84   \n",
       "\n",
       "  SalaryMax                          \n",
       "      count min  max    mean median  \n",
       "0        10  56  254  138.40  120.0  \n",
       "1        18  78  217  127.94  105.5  \n",
       "2       317  27  254  126.31  123.0  \n",
       "3      2455  27  254  132.02  125.0  \n",
       "4      1109  26  254  140.02  143.0  "
      ]
     },
     "execution_count": 41,
     "metadata": {},
     "output_type": "execute_result"
    }
   ],
   "source": [
    "rs_df = ds_df[['Rating','SalaryMin','SalaryMax']].groupby(pd.cut(ds_df.Rating,[0,1,2,3,4,5]))\\\n",
    "                .agg(['count','min','max','mean','median']).round(2).reset_index()\n",
    "rs_df"
   ]
  },
  {
   "cell_type": "markdown",
   "id": "fe77b8cd",
   "metadata": {},
   "source": [
    "**Bước 2:** Vẽ biểu đồ để thể hiện các mối liên hệ. Ở bước 1, ta thấy các giá trị mean và median (`SalaryMin,SalaryMax`) khá gần nhau nên ta sẽ dùng giá trị mean để vẽ biểu đồ."
   ]
  },
  {
   "cell_type": "code",
   "execution_count": 42,
   "id": "9c699468",
   "metadata": {},
   "outputs": [
    {
     "data": {
      "image/png": "[encoded data removed]",
      "text/plain": [
       "<Figure size 1080x504 with 2 Axes>"
      ]
     },
     "metadata": {
      "needs_background": "light"
     },
     "output_type": "display_data"
    }
   ],
   "source": [
    "fig, axs = plt.subplots(1, 2)\n",
    "# Vẽ biểu đồ cột\n",
    "labels = ['(0, 1]','(1, 2]','(2, 3]','(3, 4]','(4, 5]']\n",
    "salary_df = pd.DataFrame()\n",
    "salary_df['MinSalary'] = rs_df['SalaryMin']['mean']\n",
    "salary_df['MaxSalary'] = rs_df['SalaryMax']['mean']\n",
    "salary_df.index = labels\n",
    "salary_df.plot(ax = axs[0], kind = 'bar', figsize=(15, 7))\n",
    "axs[0].set_title('Average salary range by ratings')\n",
    "axs[0].set_xlabel('Ratings')\n",
    "axs[0].set_ylabel('Salary (in thousand)')\n",
    "# Vẽ biểu đồ tròn\n",
    "rating_df = rs_df['Rating']['count']\n",
    "rating_df.plot(ax = axs[1], kind = 'pie', autopct = '%.2f', figsize = (15, 7),labels = None)\n",
    "axs[1].set_title('Perentage of number of companies by ratings')\n",
    "axs[1].set_ylabel('')\n",
    "plt.legend(title = 'Rating',labels = labels)\n",
    "\n",
    "fig.suptitle('Salary and percentage of number of companies by ratings')\n",
    "plt.show()"
   ]
  },
  {
   "cell_type": "markdown",
   "id": "9561577c",
   "metadata": {},
   "source": [
    "Như vậy, sau khi vẽ biểu đồ xong, ta có những đánh giá sau:\n",
    "- Phần lớn các công ty có điểm `Rating` nằm ở mức từ 3 đến 4 điểm, chiếm 62.8%. Tiếp theo là các công ty có điểm `Rating` từ 4 đến 5, chiếm 28.37%. Các công ty có điểm nằm ở các nhóm thấp hơn (dưới 3 điểm) chỉ chiếm tỉ lệ rất nhỏ, chưa tới 10%.\n",
    "- Những công ty có mức `Rating` cao hơn (trong nhóm từ 2 điểm trở lên) thường có mức đãi ngộ cao hơn về lương (cả mức thấp nhất lẫn mức cao nhất). Những công ty có điểm `Rating` thấp không có nghĩa là mức lương sẽ thấp. Tuy nhiên, chúng ta cũng nên lưu ý rằng lượng công ty có điểm `Rating` thấp chỉ chiếm 1 phần rất nhỏ, gần như không đáng kể so với phần còn lại.\n",
    "- Mức chênh lệch giữa các cột `SalaryMax` với nhau và các cột `SalaryMin` với nhau là có và khá đáng kể (VD: ở cột SalaryMax thì mức chênh lệch giữa nhóm `(3,4]` và nhóm `(4,5]` là ~8000USD/year).\n",
    "\n",
    "Ta kết luận được rằng, với các công ty trong tập dữ liệu đang xét, mức lương và `Rating` có mối liên hệ với nhau. Những công ty có điểm `Rating` càng cao thì mức lương sẽ càng cao."
   ]
  },
  {
   "cell_type": "markdown",
   "id": "8a918609",
   "metadata": {},
   "source": [
    "### Câu hỏi 2: Những công cụ/ngôn ngữ lập trình nào thường xuyên được các công ty yêu cầu trong thông báo tuyển dụng?\n",
    "\n",
    "Trong các thông tin tuyển dụng, phần yêu cầu về chuyên môn luôn là phần quan trọng, vì nó sẽ cho các ứng viên biết họ cần phải có những kĩ năng gì, trình độ nào để có thể ứng tuyển vào vị trí mà công ty đang tuyển dụng. Một trong số những yêu cầu quan trọng đối với các ngành nghề liên quan tới Data là việc sử dụng thành thạo các ngôn ngữ lập trình, các công cụ xử lí, các framework, library liên quan tới Data. Do đó, việc trả lời câu hỏi trên sẽ giúp chúng ta biết được các nhà tuyển dụng thường cần ở các ứng viên những gì, để chúng ta có thể chuẩn bị tốt nhất về mặt chuyên môn khi ứng tuyển.\n",
    "\n",
    "Tham khảo một số công cụ/ngôn ngữ phổ biến: [Link 1](https://medium.com/javarevisited/best-11-data-science-programming-languages-in-2020-122a7ea2bb63), [Link 2](https://www.analyticsinsight.net/10-best-data-science-programming-languages-for-data-aspirants-in-2021/)\n",
    "\n",
    "Để trả lời câu hỏi trên, ta sẽ thực hiện 2 bước:\n",
    "- **Bước 1:** Tính tỉ lệ mà các công cụ/ngôn ngữ được yêu cầu trên toàn bộ tập dữ liệu bằng cách tính số lần xuất hiện của công cụ/ngôn ngữ đó trong cột `Job Description` chia cho tổng số dòng. Trong danh sách này sẽ bao gồm một số ngôn ngữ/công cụ phổ biến: `python, SQL, power BI, excel, tableau, hadoop, scala, pandas, matplotlib, matlab, julia, java`. (vì hạn chế về các thao tác xử lí nên những ngôn ngữ như R, SAS,... sẽ không được đề cập ở đây)\n",
    "- **Bước 2:** Vẽ biểu đồ bar chart để thể hiện các tỉ lệ."
   ]
  },
  {
   "cell_type": "markdown",
   "id": "89d7a2e6",
   "metadata": {},
   "source": [
    "**Bước 1:** Tính tỉ lệ về yêu cầu của các công cụ/ngôn ngữ."
   ]
  },
  {
   "cell_type": "code",
   "execution_count": 43,
   "id": "7c89365b",
   "metadata": {},
   "outputs": [],
   "source": [
    "def split_require(s):\n",
    "    s = s.lower()\n",
    "    options = ['python', 'sql', 'power bi', 'excel', 'tableau', 'hadoop', 'scala', 'pandas',\\\n",
    "               'matplotlib', 'matlab','julia', 'java']\n",
    "    checks = [1 if o in s else 0 for o in options]\n",
    "    return dict(zip(options,checks))\n",
    "# Tính các loại ngôn ngữ được yêu cầu, lưu vào DataFrame với mỗi giá trị là 1 dict.{language1:1,language2:0,...} với giá trị 1\n",
    "# là ngôn ngữ đó được yêu cầu và 0 là ngược lại\n",
    "language_require_df = pd.DataFrame()\n",
    "language_require_df['options'] = ds_df['Job Description'].apply(split_require)\n",
    "# Tách các giá trị trong cột thành DataFrame\n",
    "language_require_df = pd.DataFrame(language_require_df['options'].values.tolist(), index = language_require_df.index)\n",
    "# Tính tỉ lệ được yêu cầu của mỗi loại ngôn ngữ và sort giảm dần\n",
    "language_require_ratio = (language_require_df.mean()*100).sort_values(ascending = False)"
   ]
  },
  {
   "cell_type": "markdown",
   "id": "38fee0f4",
   "metadata": {},
   "source": [
    "**Bước 2:** Vẽ biểu đồ tỉ lệ."
   ]
  },
  {
   "cell_type": "code",
   "execution_count": 44,
   "id": "bb5fae9c",
   "metadata": {},
   "outputs": [
    {
     "data": {
      "image/png": "[encoded data removed]",
      "text/plain": [
       "<Figure size 1080x504 with 1 Axes>"
      ]
     },
     "metadata": {
      "needs_background": "light"
     },
     "output_type": "display_data"
    }
   ],
   "source": [
    "language_require_ratio.plot.bar(figsize=(15, 7))\n",
    "plt.xlabel('Tool/Language requirement')\n",
    "plt.ylabel('Percentage')\n",
    "plt.title('Percentage of tool/language requirement')\n",
    "plt.show();"
   ]
  },
  {
   "cell_type": "markdown",
   "id": "4c5037ea",
   "metadata": {},
   "source": [
    "Như vậy ta có nhận xét:\n",
    "- Trong các ngôn ngữ được xét, Python và SQL là 2 ngôn ngữ được các nhà tuyển dụng chú trọng nhất, chiếm hơn 50% các yêu cầu tuyển dụng. Tiếp theo đó là Excel với gần 50%.\n",
    "- Các ngôn ngữ/công cụ tiếp theo là Scala, Java, Tableau, Hadoop chiếm khoảng từ 15-30%.\n",
    "- Các ngôn ngữ/công cụ còn lại chiếm tỉ lệ khá thấp, dưới 10%. Tuy nhiên trong phần trên có pandas và matplotlib chỉ là 2 thư viện của python. Do đó, có thể nhà tuyển dụng không ghi cụ thể mà chỉ đề cập vào python nói chung.\n",
    "\n",
    "Từ dữ liệu đã phân tích, ta có thể trả lời được câu hỏi: nhóm các ngôn ngữ thường được nhà tuyển dụng yêu cầu nhiều nhất là Python, SQL, Excel. Chúng ta nên tập trung học những ngôn ngữ này để có nhiều cơ hội ứng tuyển vào các ngành nghề liên quan tới Data Science. Ngoài ra, những ngôn ngữ như Scala, Java, Tableau, Hadoop cũng rất đáng để đầu tư thời gian."
   ]
  },
  {
   "cell_type": "markdown",
   "id": "af98443c",
   "metadata": {},
   "source": [
    "### Câu hỏi 3: Phân bố các Sector theo State như thế nào?\n",
    "\n",
    "Các công ty thường sẽ chọn những nơi đặt trụ sở mà có thể giúp họ có thể thu hút được nhiều nhân sự giỏi cũng như thuận tiện cho việc phát triển của cả công ty. Và cũng tùy ngành/lĩnh vực hoặc khả năng phát triển mà các công ty có thể tập trung ở một nơi (e.g Silicon Valley là nơi tập trung rất nhiều các công ty về công nghệ tại Mỹ). Đối với những nhà khoa học dữ liệu nói riêng và những người làm việc liên quan tới dữ liệu nói riêng, ngoài việc có kiến thức chuyên môn về dữ liệu, những kiến thức và kinh nghiệm ở các ngành khác (e.g Finance, Business Services, Biotech,...) sẽ giúp họ có lợi thế hơn khi ứng tuyển và có thể phát huy tốt nhất khả năng khi được nhận công việc đó. Vì vậy, việc biết được sự phân bố các **Sector** theo **State** sẽ giúp chúng ta biết được ở những khu vực nào thì có nhu cầu tuyển dụng cao, và công ty đang tuyển dụng đó thuộc vào ngành nào."
   ]
  },
  {
   "cell_type": "markdown",
   "id": "412a7c01",
   "metadata": {},
   "source": [
    "Xem lại các giá trị trong cột `State`."
   ]
  },
  {
   "cell_type": "code",
   "execution_count": 45,
   "id": "0ade772f",
   "metadata": {},
   "outputs": [
    {
     "data": {
      "text/plain": [
       "array(['NY', 'NJ', 'CA', 'IL', 'TX', 'AZ', 'DE', 'PA', 'United Kingdom',\n",
       "       'FL', 'OH'], dtype=object)"
      ]
     },
     "execution_count": 45,
     "metadata": {},
     "output_type": "execute_result"
    }
   ],
   "source": [
    "ds_df['State'].unique()"
   ]
  },
  {
   "cell_type": "markdown",
   "id": "7e719726",
   "metadata": {},
   "source": [
    "#### Tiền xử lí dữ liệu\n",
    "\n",
    "Ở phần trên ta đã biết được rằng cột `Sector` bị thiếu giá trị còn cột `State` thì không. Tên của các `State` cũng nằm ở dạng viết tắt, ta sẽ viết lại dưới dạng tên đầy đủ. Trường hợp ngoại lệ trong cột `State` là `United Kingdom`, giá trị này sẽ được giữ nguyên. Ta sẽ tiền xử lí theo các bước:\n",
    "- Lấy ra 2 cột dữ liệu và đưa vào DataFrame `ss_df`.\n",
    "- Với các giá trị thiếu ở cột `Sector`, ta sẽ điền bằng mode của `State` tương ứng (e.g 1 dòng có giá trị `Sector` là `nan` còn giá trị `State` là `AZ` thì ta sẽ điền `Sector` xuất hiện nhiều nhất ứng với `AZ`). Nếu `State` chỉ bao gồm các giá trị `nan` thì ta gán bằng mode trên toàn bộ `ss_df`.\n",
    "- Gán lại giá trị của các `State` dưới dạng tên đầy đủ. [Link tham khảo](https://www.scouting.org/resources/los/states/)"
   ]
  },
  {
   "cell_type": "code",
   "execution_count": 46,
   "id": "ea5cf0bc",
   "metadata": {
    "scrolled": true
   },
   "outputs": [],
   "source": [
    "# Bước 1: Lấy ra các cột cần xử lí\n",
    "ss_df = ds_df[['Sector','State']].copy()\n",
    "\n",
    "# Bước 2.1: Tính mode Sector tương ứng của các State\n",
    "def getmode(s,d):\n",
    "    if s.value_counts().empty:\n",
    "        return d\n",
    "    return s.value_counts().index[0][0]\n",
    "majority_sector_in_state = ss_df.groupby('State',dropna=False).agg(getmode,ss_df.Sector.value_counts().index[0][0])\n",
    "# Bước 2.2: Thay thế các giá trị nan trong Sector từ các mode đã tính được\n",
    "def rep(s,a):\n",
    "    if type(s.Sector)!=str:\n",
    "        if np.isnan(s.Sector):\n",
    "            return a.loc[s.State,'Sector']\n",
    "    else:\n",
    "        return s.Sector\n",
    "ss_df.loc[:,'Sector'] = ss_df.apply(rep, axis = 1, args = (majority_sector_in_state,)).values\n",
    "\n",
    "# Bước 3: Gán lại giá trị các State\n",
    "ss_df.replace({'AZ':'Arizona', 'CA':'California', 'DE':'Delaware', 'FL':'Florida', 'IL':'Illinois',\\\n",
    "               'NJ':'New Jersey', 'NY':'New York', 'OH':'Ohio', 'PA':'Pennsylvania', 'TX':'Texas'}, inplace = True)"
   ]
  },
  {
   "cell_type": "markdown",
   "id": "bae3ddf2",
   "metadata": {},
   "source": [
    "#### Khám phá dữ liệu và trả lời câu hỏi"
   ]
  },
  {
   "cell_type": "code",
   "execution_count": 47,
   "id": "f69e0c9e",
   "metadata": {},
   "outputs": [
    {
     "data": {
      "text/plain": [
       "Information Technology                1597\n",
       "Business Services                      716\n",
       "Biotech & Pharmaceuticals              329\n",
       "Finance                                270\n",
       "Health Care                            197\n",
       "Insurance                              109\n",
       "Education                              101\n",
       "Manufacturing                           87\n",
       "Government                              82\n",
       "Media                                   75\n",
       "Retail                                  72\n",
       "Accounting & Legal                      71\n",
       "Aerospace & Defense                     37\n",
       "Oil, Gas, Energy & Utilities            34\n",
       "Telecommunications                      21\n",
       "Consumer Services                       20\n",
       "Non-Profit                              18\n",
       "Construction, Repair & Maintenance      16\n",
       "Transportation & Logistics              16\n",
       "Real Estate                             12\n",
       "Arts, Entertainment & Recreation        10\n",
       "Restaurants, Bars & Food Services        9\n",
       "Agriculture & Forestry                   5\n",
       "Travel & Tourism                         4\n",
       "Mining & Metals                          1\n",
       "Name: Sector, dtype: int64"
      ]
     },
     "execution_count": 47,
     "metadata": {},
     "output_type": "execute_result"
    }
   ],
   "source": [
    "ss_df.Sector.value_counts()"
   ]
  },
  {
   "cell_type": "markdown",
   "id": "260dfec4",
   "metadata": {},
   "source": [
    "**Nhận xét:** có 2 ngành có lượng công ty tuyển dụng lớn là `Information Technology` và `Business Services`. Hai ngành này có lượng tuyển dụng lớn hơn rất nhiều so với các ngành còn lại. Xếp sau hai ngành trên là các ngành có lượng tuyển dụng từ khoảng 300 trở xuống. Có những ngành có số lượng tuyển dụng rất thấp, vì vậy ta sẽ gom những ngành có lượng tuyển dụng thấp thành 1 nhóm chung là `Another`. Nhóm này sẽ gồm những ngành chỉ có dưới 50 lượt tuyển dụng."
   ]
  },
  {
   "cell_type": "markdown",
   "id": "d9da3ef6",
   "metadata": {},
   "source": [
    "Để trả lời câu hỏi đã đặt ra, ta sẽ thực hiện các bước như sau:\n",
    "- **Bước 1:** Gộp những `Sector` có lượt tuyển dụng dưới 50 thành nhóm `Another`.\n",
    "- **Bước 2:** Gom nhóm theo `State` và `Sector` rồi đếm số lượng của mỗi nhóm.\n",
    "- **Bước 3:** Vẽ biểu đồ heat map để thể hiện mối liên hệ giữa `Sector` và `State`."
   ]
  },
  {
   "cell_type": "markdown",
   "id": "1bab358d",
   "metadata": {},
   "source": [
    "**Bước 1:** Gộp các `Sector` có lượt tuyển dụng dưới 50."
   ]
  },
  {
   "cell_type": "code",
   "execution_count": 48,
   "id": "a1d15fae",
   "metadata": {},
   "outputs": [],
   "source": [
    "minority_sectors = ss_df.Sector.value_counts()[ss_df.Sector.value_counts()<50].index.to_list()\n",
    "ss_df.replace(minority_sectors,'Another',inplace = True)"
   ]
  },
  {
   "cell_type": "markdown",
   "id": "c255a4b1",
   "metadata": {},
   "source": [
    "**Bước 2:** Gom nhóm theo `Sector` và `State` rồi đếm số lượng của mỗi nhóm."
   ]
  },
  {
   "cell_type": "code",
   "execution_count": 49,
   "id": "0c048b6c",
   "metadata": {},
   "outputs": [],
   "source": [
    "ss = ss_df.groupby(['State','Sector'],dropna=False).size().unstack(fill_value=0)"
   ]
  },
  {
   "cell_type": "markdown",
   "id": "1bd478d2",
   "metadata": {},
   "source": [
    "**Bước 3:** Vẽ biểu đồ heat map để thể hiện tương quan."
   ]
  },
  {
   "cell_type": "code",
   "execution_count": 50,
   "id": "af5550b9",
   "metadata": {
    "scrolled": false
   },
   "outputs": [
    {
     "data": {
      "image/png": "[encoded data removed]",
      "text/plain": [
       "<Figure size 1080x504 with 2 Axes>"
      ]
     },
     "metadata": {
      "needs_background": "light"
     },
     "output_type": "display_data"
    }
   ],
   "source": [
    "plt.figure(figsize=(15, 7))\n",
    "sns.heatmap(ss,cmap=\"YlGnBu\");"
   ]
  },
  {
   "cell_type": "markdown",
   "id": "ef501eba",
   "metadata": {},
   "source": [
    "Như vậy, ta có nhận xét:\n",
    "- Các công ty thuộc ngành ***Information technology*** là những công ty tuyển dụng vị trí liên quan đến data nhiều nhất. Những công ty này tập trung phần lớn ở ***Texas*** và ***California***. Những vùng khác tập trung với số lượng thấp hơn là ***Arizona, Illinois, New York***.\n",
    "- Ngành cần nhiều nhân lực xếp sau ***Information technology*** là ***Business Services*** và các công ty chủ yếu tập trung ở ***Texas*** và ***California***.\n",
    "- Các ngành khác cũng yêu cầu nhân sự về mảng data nhưng số lượng rất thấp.\n",
    "\n",
    "Từ dữ liệu đã phân tích, ta trả lời được câu hỏi: hầu hết các công ty cần nhân lực về Data Science nói chung và về mảng Data nói riêng là những công ty về ***Information technology***, tiếp đó là ***Business Services, Biotech & Pharmaceuticals***,... Do đó nếu có thêm những kiến thức về những ngành này thì sẽ có lợi thế và có nhiều sự lựa chọn hơn khi tìm việc. Những vùng tập trung nhiều các công ty là ***Texas,California,Arizona, Illinois, New York***,..."
   ]
  },
  {
   "cell_type": "markdown",
   "id": "6d3952ce",
   "metadata": {},
   "source": [
    "### Câu hỏi 4: Vị trí Data Science mà các lĩnh vực mạnh có nhu cầu tuyển dụng cao? \n",
    "\n",
    "Việc xác định các vị trí Data Science có nhu cầu tuyển dụng cao sẽ giúp ta có cái nhìn về nhu cầu tuyển dụng lao động DS hiện nay cũng như các lĩnh vực mà DS có thể tham gia vào."
   ]
  },
  {
   "cell_type": "markdown",
   "id": "706d22dd",
   "metadata": {},
   "source": [
    "Đầu tiên, ta cần xác định lĩnh vực mạnh là gì? Ta sẽ xem lĩnh vực mạnh là các lĩnh vực mà có nhiều công ty thông báo tuyển dụng theo nhất (top 10 của cột `Sector`). Sau đó, dựa trên top 10 các lĩnh vực vừa xác định, ta sẽ đi tìm những vị trí Data Science mà các lĩnh vực này tuyển dụng nhiều.\n",
    "* **Bước 1:** Xác định lĩnh vực mạnh từ cột `Sector`.\n",
    "* **Bước 2:** Xử lý cột `Job Title`.\n",
    "* **Bước 3:** Trả lời câu hỏi đặt ra \" Vị trí Data Science mà các lĩnh vực mạnh có nhu cầu tuyển dụng cao? \""
   ]
  },
  {
   "cell_type": "markdown",
   "id": "78884158",
   "metadata": {},
   "source": [
    "**Bước 1:** Xác định các lĩnh vực mạnh từ cột Sector"
   ]
  },
  {
   "cell_type": "code",
   "execution_count": 51,
   "id": "735eca50",
   "metadata": {},
   "outputs": [
    {
     "name": "stdout",
     "output_type": "stream",
     "text": [
      "Number of sectors: 26\n"
     ]
    },
    {
     "data": {
      "text/plain": [
       "array(['Travel & Tourism', 'Consumer Services', nan,\n",
       "       'Information Technology', 'Business Services', 'Insurance',\n",
       "       'Finance', 'Retail', 'Media', 'Restaurants, Bars & Food Services',\n",
       "       'Agriculture & Forestry', 'Non-Profit', 'Education', 'Government',\n",
       "       'Health Care', 'Oil, Gas, Energy & Utilities',\n",
       "       'Accounting & Legal', 'Manufacturing', 'Real Estate',\n",
       "       'Biotech & Pharmaceuticals', 'Arts, Entertainment & Recreation',\n",
       "       'Aerospace & Defense', 'Construction, Repair & Maintenance',\n",
       "       'Transportation & Logistics', 'Telecommunications',\n",
       "       'Mining & Metals'], dtype=object)"
      ]
     },
     "execution_count": 51,
     "metadata": {},
     "output_type": "execute_result"
    }
   ],
   "source": [
    "print('Number of sectors:',len(ds_df['Sector'].unique()))\n",
    "ds_df['Sector'].unique()"
   ]
  },
  {
   "cell_type": "markdown",
   "id": "95629220",
   "metadata": {},
   "source": [
    "Trong cột `Sector` có xuất hiện giá trị thiếu nhưng các bước phân tích phía dưới sẽ không xét đến giá trị này nên không cần thực hiện xóa hay thay thế dòng có giá trị `nan`."
   ]
  },
  {
   "cell_type": "code",
   "execution_count": 52,
   "id": "26e804da",
   "metadata": {},
   "outputs": [
    {
     "data": {
      "text/plain": [
       "Information Technology       1124\n",
       "Business Services             679\n",
       "Biotech & Pharmaceuticals     293\n",
       "Finance                       270\n",
       "Health Care                   197\n",
       "Insurance                     109\n",
       "Education                     101\n",
       "Manufacturing                  87\n",
       "Government                     82\n",
       "Media                          75\n",
       "Name: Sector, dtype: int64"
      ]
     },
     "execution_count": 52,
     "metadata": {},
     "output_type": "execute_result"
    }
   ],
   "source": [
    "top_10_sector = ds_df['Sector'].value_counts()[:10]\n",
    "top_10_sector"
   ]
  },
  {
   "cell_type": "code",
   "execution_count": 53,
   "id": "05d95385",
   "metadata": {},
   "outputs": [
    {
     "data": {
      "image/png": "[encoded data removed]",
      "text/plain": [
       "<Figure size 1080x504 with 1 Axes>"
      ]
     },
     "metadata": {
      "needs_background": "light"
     },
     "output_type": "display_data"
    }
   ],
   "source": [
    "# Trực quan hóa top 10 sector\n",
    "top_10_sector.sort_values().plot.barh(figsize=(15, 7))\n",
    "plt.xlabel('Count')\n",
    "plt.ylabel('Sector')\n",
    "plt.title('Top 10 sector')\n",
    "plt.show();"
   ]
  },
  {
   "cell_type": "markdown",
   "id": "fc17d8d5",
   "metadata": {},
   "source": [
    "Qua biểu đồ trên, ta có thể đưa ra các nhận xét:\n",
    "* `Information Technology` là lĩnh vực có nhu cầu tuyển dụng cao nhất và lớn hơn rất nhiều so với các lĩnh vực còn lại (gần gấp đôi lĩnh vực thứ 2 là `Business Services`)\n",
    "\n",
    "* 26 lĩnh vực trong 3909 thông báo tuyển dụng đã cho thấy sự đa dạng về lĩnh vực trong Data Science. "
   ]
  },
  {
   "cell_type": "markdown",
   "id": "33bfa3de",
   "metadata": {},
   "source": [
    "**Bước 2:** Xử lý cột `Job Title`"
   ]
  },
  {
   "cell_type": "code",
   "execution_count": 54,
   "id": "93b3193e",
   "metadata": {},
   "outputs": [
    {
     "name": "stdout",
     "output_type": "stream",
     "text": [
      "Data Scientist\n",
      "Data Engineer\n",
      "Data Analyst\n",
      "Senior Data Scientist\n",
      "Data Scientist \n",
      "Senior Data Analyst\n",
      "Senior Data Engineer\n",
      "Machine Learning Engineer\n",
      "Senior Scientist\n",
      "Scientist\n",
      "Big Data Engineer\n",
      "Business Intelligence Analyst\n",
      "Lead Data Scientist\n",
      "Principal Data Scientist\n",
      "Federal \n",
      "Data Analyst \n",
      "Research Scientist\n",
      "Data Engineer \n",
      "Quantum Principal Data Scientist (Industrial\n",
      "Research Scientist \n",
      "Principal Scientist\n",
      "Senior Data Scientist \n",
      "Statistician (Data Scientist) *12 month Roster* *Direct Hire*\n",
      "AI\n",
      "Quantitative Researcher\n",
      "Junior Data Analyst\n",
      "Data Modeler\n",
      "Medical Laboratory Scientist \n",
      "Quantum Data Scientist (Industrial\n",
      "Microsoft Analytics Consultant\n",
      "COMPUTER SCIENTIST \n",
      "Microsoft Dynamics CRM Data Analyst\n",
      "Associate Scientist\n",
      "Scientist \n",
      "Sr Data Scientist\n",
      "Quantitative Analyst\n",
      "Senior Big Data Engineer\n",
      "Business Data Analyst\n",
      "COMPUTER SCIENTIST\n",
      "Scientist I\n",
      "Manager\n",
      "Machine Learning Engineer \n",
      "Lead Data Engineer\n",
      "Data Scientist II\n",
      "JPSC\n",
      "Director\n",
      "Principal Data Engineer\n",
      "Senior Machine Learning Engineer\n",
      "Data Analyst III\n",
      "Physical Scientist\n",
      "Senior Data Analyst \n",
      "Cloud Data Engineer\n",
      "Data Analyst I\n",
      "Quantitative Researcher \n",
      "Senior Business Intelligence Analyst\n",
      "Senior Scientist \n",
      "Scientist III (Molecular Biology)\n",
      "Data Architect II\n",
      "Sr Data Analyst\n",
      "Data Engineer II\n",
      "Data Analyst Junior\n",
      "Clinical Scientist\n",
      "Sr Data Engineer\n",
      "Senior Data Engineer \n",
      "Junior Data Engineer\n",
      "Software Engineer \n",
      "Environmental Scientist\n",
      "Quantitative Research Analyst\n",
      "Data Engineer III\n",
      "Bioinformatics Scientist\n",
      "Post Doctoral Scientist \n",
      "GENERAL PHYSICAL SCIENTIST\n",
      "Lead Data Analyst\n",
      "RESEARCH COMPUTER SCIENTIST \n",
      "Clinical Laboratory Scientist \n",
      "Project Scientist\n",
      "Data Architect\n",
      "Analytics Manager\n",
      "Azure Data Engineer\n",
      "Associate Data Scientist\n",
      "Data Engineer (remote)\n",
      "Junior Data Scientist\n",
      "Big Data\n",
      "Data Analyst II\n",
      "Data Scientist (remote)\n",
      "Business Analytics Manager\n",
      "Scientist II\n",
      "Data Science Architect\n",
      "Data Scientist 2\n",
      "Assistant\n",
      "Computer Scientist\n",
      "Machine Learning Scientist\n",
      "Applied Scientist\n",
      "Lead Data Scientist \n",
      "Director of Data Science\n",
      "Data Analyst (Supply Chain) \n",
      "Senior Research Scientist\n",
      "Operation Analytics Manager\n",
      "ENGINEER \n",
      "CCB F&BM \n",
      "Machine Learning Engineer (Imaging)\n",
      "Marketing Data Analyst\n",
      "Business Intelligence Analyst \n",
      "Epidemiology Data Analyst\n",
      "Data Modeler \n",
      "Data & Analytics Consultant\n",
      "Staff Software Scientist\n",
      "Principal Research Scientist\n",
      "Associate Data Engineer\n",
      "Data Scientist III\n",
      "Data Science\n",
      "Postdoctoral Scientist \n",
      "Data Science Engineer\n",
      "Quantum Principal Data Scientist\n",
      "Business\n",
      "Machine Learning\n",
      "Data Science Developer\n",
      "Product Development Scientist \n",
      "Senior Decision Scientist\n",
      "Senior Data Scientist II\n",
      "DATA ENGINEER \n",
      "Clinical Laboratory Scientist\n",
      "Applied Data Scientist\n",
      "Data Analyst â Junior\n",
      "Research Data Analyst\n",
      "Product Development Scientist\n",
      "AWS Data Engineer\n",
      "Scientist 2\n",
      "Human Factors Scientist\n",
      "Clinical Laboratory Scientist II\n",
      "Senior SW Engineer\n",
      "Data Science Manager\n",
      "Data Management & Analytics \n",
      "HR Data Analyst II\n",
      "Staff Scientist\n",
      "Principal Data Scientist \n",
      "Director Data Scientist \n",
      "Senior Manager\n",
      "Medical Lab Scientist \n",
      "IGM \n",
      "Product Data Analyst\n",
      "Data & Analytics Consultant |\n",
      "Data Engineer I\n",
      "Clinical Safety Scientist I\n",
      "Process Development Scientist\n",
      "Big Data Consultant\n",
      "Simulation Engineering Scientist\n",
      "Pre\n",
      "Wealth Management\n",
      "Big Data Machine Learning Engineer\n",
      "Data analyst\n",
      "Epidemiology\n",
      "Hadoop Developer \n",
      "AI \n",
      "Data Scientist Technical Lead\n",
      "Application Vulnerability Governance Lead Data Analyst\n",
      "Head of Data Science\n",
      "Business Analyst\n",
      "Product Manager\n",
      "Senior Cloud Data Engineer\n",
      "Director \n",
      "Data Engineer SQL\n",
      "Lead of Cybersecurity Data Protection & Analytics\n",
      "Dev\n",
      "Research Scientist I\n",
      "Senior Data & Machine Learning Scientist\n",
      "Client Data Analyst\n",
      "Post Doctoral Scientist Year 1\n",
      "Staff Big Data Engineer\n",
      "Data Analyst Intern\n",
      "Junior Imaging Scientist\n",
      "AI Scientist\n",
      "Senior HFT Futures Quantitative Research Scientist\n",
      "Data Science Team Lead\n",
      "Geospatial Software Developer and Data Scientist\n",
      "Senior \n",
      "Search Data Scientist\n",
      "Quantitative Researcher – Intern (US)\n",
      "Data Scientist Consultant\n",
      "System\n",
      "Medical Lab Scientist Specialist (Days) \n",
      "People Analytics Data Scientist\n",
      "Epidemiologist Data Analyst\n",
      "Business Intelligence Analyst I \n",
      "Data scientist\n",
      "Financial Data Analyst\n",
      "Senior Claims Data Analyst\n",
      "AVP\n",
      "Full Stack Data Engineer Irving AVP\n",
      "Deep Learning Research Scientist \n",
      "Exciting Video Ecommerce Startup | Data Scientist w\n",
      "Reporting and Data Analyst \n",
      "Data Architect \n",
      "Python Data Engineer\n",
      "Electronics Engineering Scientist\n",
      "VP\n",
      "Provider Analytics Data Analyst\n",
      "Production Scientist\n",
      "Data Analytics Manager\n",
      "Environmental Data Analyst \n",
      "AWS\n",
      "Senior Data Architect\n",
      "Data Scientist with Security Clearance\n",
      "Business Intelligence Analyst Senior\n",
      "SQL Data Analyst\n",
      "Technical Data Analyst\n",
      "Sr Advanced Data Architect\n",
      "BI Data Analyst \n",
      "Business Intelligence Analyst I\n",
      "Senior\n",
      "Data Science Resident \n",
      "Configuration Data Analyst\n",
      "Research Engineering\n",
      "Data Engineer with Security Clearance\n",
      "Digital Signal Processing Scientist\n",
      "Associate Food Scientist \n",
      "Medical Lab Scientist (MLS)\n",
      "Full Stack Data Scientist Intern \n",
      "Analytical Consultant\n",
      "Molecular Researcher and Data Analyst\n",
      "Algorithm Design and Analysis Engineering Scientist\n",
      "Director of Health Data Science\n",
      "Workday Data Consultant\n",
      "Senior Computational Biologist\n",
      "Sr Data\n",
      "Project Scientist \n",
      "Staff Software Engineer \n",
      "Senior Analytical Scientist\n",
      "Python\n",
      "Analytic Consultant 5 Quality Control Lead\n",
      "Applied Research Scientist \n",
      "System Test Engineering Scientist\n",
      "Cyber Security Research Scientist 3 \n",
      "Senior Associate Scientist\n",
      "Research Scientist III\n",
      "Systems Analyst \n",
      "Content Data Scientist\n",
      "Data & Machine Learning Scientist\n",
      "Data Scientist I\n",
      "Clinical Data Scientist\n",
      "Web Analytics Manager\n",
      "Senior Enterprise BI Data Analyst\n",
      "Downstream Scientist\n",
      "Kafka Data Engineer (remote)\n",
      "Analytic Consultant 5 \n",
      "Medical Lab Scientist\n",
      "Information Systems Engineering Specialist (Engineering Scientist)\n",
      "Analytics Consultant\n",
      "DATA ANALYST\n",
      "Data Engineer 3\n",
      "Senior Quantitative Analyst\n",
      "Signal Processing and Automation Engineering Scientist\n",
      "CLINICAL LABORATORY SCIENTIST\n",
      "Business Analyst \n",
      "BI Data Analyst\n",
      "US|Prod Dev Scientist\n",
      "Clinical Lab Scientist\n",
      "Associate Scientist \n",
      "Data Engineer (Python)\n",
      "Data Science Analyst\n",
      "Senior Principal Scientist\n",
      "ANALYST \n",
      "Diagnostic Research Scientist\n",
      "Post\n",
      "Remote Sensing Data Scientist\n",
      "Scientist III\n",
      "VP \n",
      "DATA ENGINEER\n",
      "ML\n",
      "Managing Consultant \n",
      "Principal Associate\n",
      "Principal\n",
      "Survey Data Analyst\n",
      "Pricing Data Analyst\n",
      "Senior Data Engineer (ATX)\n",
      "Senior Data Science Consultant\n",
      "Epidemiologist \n",
      "Associate Scientist I \n",
      "Point72 Data Scientist\n",
      "Quantum Data Scientist\n",
      "Security Analytics Data Engineer\n",
      "Senior Research Scientist I\n",
      "Chief Architect \n",
      "CLINICAL DATA ANALYST\n",
      "Senior Scientist R&D \n",
      "Senior Analyst\n",
      "Machine Learning Engineer (OH)\n",
      "Machine Learning Engineer – Maps Search\n",
      "Arlington Data Science Tutor Jobs\n",
      "Data Science with Python\n",
      "Digital SW Eng Lead\n",
      "Business Intelligence Analyst III \n",
      "Strategic Data Analyst III \n",
      "Patient Safety Physician or Safety Scientist \n",
      "Sr Scientist \n",
      "Data Science Specialist\n",
      "Data Operations Engineer\n",
      "Bench Scientist\n",
      "Scientist Biopharm \n",
      "Principal data engineer\n",
      "Senior Data Scientist (San Jose OR Austin)\n",
      "Computer Research Scientist\n",
      "Compensation & HR Data Analyst\n",
      "Clinical Data Reporter's\n",
      "In Vivo Senior Principal Scientist\n",
      "Two Postdoctoral Fellow Positions in Data Science at MD Anderson Cancer Center\n",
      "Clinical Data Scientists\n",
      "San Antonio Data Science Tutor Jobs\n",
      "Sr Data Modeler\n",
      "Data Scientist (Remote)\n",
      "Associate Scientist ( Immuno\n",
      "Technical Data Analyst Accounting\n",
      "Senior Social Scientist\n",
      "MDM Data Analyst\n",
      "Business Intelligence \n",
      "Senior Data Engineer (Austin\n",
      "Biotransformation Scientist and DMPK Design Lead\n",
      "Enterprise Architecture & Data Analytics Manager\n",
      "CIB QR\n",
      "Senior Bioinformatics Scientist\n",
      "SAS Data Analyst III(With SOL & Tableau)\n",
      "Business Intelligence and Data Analyst\n",
      "Computer Vision \n",
      "Senior Big data Ebgineer\n",
      "Associate Director\n",
      "Data Scientist Applied Machine Learning\n",
      "UX Quantitative Researcher\n",
      "Sr BI Data Engineer\n",
      "Claims Data Analyst\n",
      "Senior Data Engineer (St. Louis\n",
      "Salesforce Business Intelligence Analyst II\n",
      "(Senior) Human Scientist\n",
      "Product Development Scientist (Entry Level) (Food science Degree Must)\n",
      "Sr Medical Data Scientist\n",
      "Lead Clinical Laboratory Scientist (CLS)\n",
      "R&D Scientist\n",
      "Data Engineer with NiFi\n",
      "Research Scientist Assistant I\n",
      "Senior Data Analyst w\n",
      "Cinical Laboratory Scientist II\n",
      "People Research Scientist\n",
      "Data Analyst Supporting the FBI #20\n",
      "Data Visualization Engineer\n",
      "Gilbert Data Science Tutor Jobs\n",
      "Dell Data Scientist\n",
      "Network Data Engineer\n",
      "Data Analyst (MPI)\n",
      "Lead Healthcare\n",
      "Quantitative Researcher Extern \n",
      "Data Scientist (Telecommunications)\n",
      "Data Engineer (Big Data Hadoop)\n",
      "Data Science \n",
      "Phoenix Data Science Tutor Jobs\n",
      "Sr Data Engineer (AWS)\n",
      "Senior Applied Data Scientist\n",
      "SAP Data Analyst\n",
      "Staff\n",
      "Quantum Research Scientist\n",
      "Reporting Data Architect\n",
      "Data Science & Analytics Manager\n",
      "Database\n",
      "Test Data Engineer\n",
      "Senior Data Scientist with experience in life sciences data specifically in commercial\n",
      "Data Scientist (Research & Development)\n",
      "NLP Machine Learning Engineer\n",
      "Accounting Data Analyst\n",
      "Senior Data Engineer with Kafka\n",
      "(Risk Data Analyst)\n",
      "Instructor\n",
      "Senior Java Visualization Data Engineer\n",
      "eDiscovery Data Analyst\n",
      "Senior AWS Big Data Engineer\n",
      "Advanced Python Data Engineer\n",
      "Data Scientist Consultant \n",
      "Systems Verification Scientist III\n",
      "Product Manager \n",
      "MS Data Scientist\n",
      "Azure Data Engineer@Houston\n",
      "Performance Assurance Engineer (Data Science Background)\n",
      "Data Analyst III (Population Health \n",
      "Nurse Scientist \n",
      "Sr Quantitative Analyst\n",
      "Senior Contract Data Analyst\n",
      "Data Scientist 3 (Tableau Statistics (Fleet Readiness)\n",
      "Pricing Strategy and Analytics Manager\n",
      "Web Analytics Consultant\n",
      "Chief Data\n",
      "Senior Data Engineer (Remote US)\n",
      "Senior Data Engineer with Strong Python\n",
      "Manufacturing Science and Technology Senior Scientist (Viral Vector)\n",
      "RESEARCH SCIENTIST\n",
      "Senior Strategy Data Analyst\n",
      "CSI Data Analyst\n",
      "Data Scientist (ML and Image Processing)\n",
      "Recruiting Manager\n",
      "Quantitative Research Analyst \n",
      "Data Scientist (Senior)\n",
      "Splunk Data Analyst\n",
      "Data Scientist 3 (Tableau \n",
      "Data Analyst BHJOB11946_\n",
      "Big Data Engineer (TX)\n",
      "Scientist III \n",
      "Downstream Senior Scientist\n",
      "Scientist Data Analytics\n",
      "Lead Scientist\n",
      "CBO Data Analyst\n",
      "Data Analyst III (Healthcare Analytics)\n",
      "Data Engineer (Enterprise Content Management with FileNet)\n",
      "Data Science Instructor\n",
      "Community Data Manager\n",
      "Genomics Field Applications Scientist\n",
      "Part\n",
      "Med Lab Scientist \n",
      "BIG DATA ENGINEER\n",
      "Medical Lab Scientist II\n",
      "Data Engineer role(SQL\n",
      "Translational Bioinformatics Scientist\n",
      "Quantitative Analyst Intern\n",
      "Data Analyst with Food Science Product Development\n",
      "Epic BI & Analytics Manager\n",
      "Big Data Engineer with Java\n",
      "Senior Principal\n",
      "Formulation Scientist\n",
      "Data & Analytics Manager\n",
      "Return to Work \n",
      "Software Engineer (Data Scientist\n",
      "Machine Learning Scientist \n",
      "Data Analytics Consultant\n",
      "Data Engineer –\n",
      "CIMD Technology \n",
      "Analytical\n",
      "Assistant Scientist\n",
      "Data Engineer with SQL\n",
      "Junior Data Engineer with Security Clearance\n",
      "Data Engineer (Big Data)\n",
      "Clinical Laboratory Scientist Team Lead\n",
      "Quantitative Research Associate\n",
      "Senior Research Scientist II (AD)\n",
      "Intern\n",
      "Data Scientist(s)\n",
      "Stafford Data Science Tutor Jobs\n",
      "Clinical Research Data Manager\n",
      "RWD Healthcare Data Scientist\n",
      "Enterprise Cloud Data Architect\n",
      "Risk Data Analyst\n",
      "Library Data Scientist\n",
      "Data Scientist Senior \n",
      "Biological Scientist IV\n",
      "Clinical Data Analyst\n",
      "Data Analyst Assistant\n",
      "Assay Development Scientist\n",
      "Architect\n",
      "Environmental Scientists\n",
      "Point72 Healthcare Data Scientist\n",
      "Machine Learning Scientist I\n",
      "Data Scientist needed \n",
      "Data Scientist (Fintech)\n",
      "Data Analyst 4\n",
      "Data and Software Engineer\n",
      "IS Data Engineer I\n",
      "3rd Shift Environmental Monitoring Scientist\n",
      "Electronics Engineer\n",
      "Senior Business Intelligence Data Analyst\n",
      "Senior Customer Data Analyst : 20\n",
      "Data Scientist (FULLY REMOTE. REQUIRED: Spark\n",
      "MDM\n",
      "Data Science Specialist USA\n",
      "Data Engineer Enterprise Content Management\n",
      "Bioinformatician Research Scientist\n",
      "#104733 HPC Systems and Data Engineer\n",
      "Video Coding & Machine Learning Engineer\n",
      "Senior BI Data Engineer and Analyst\n",
      "Sr Predictive Analytics Manager\n",
      "Sr Research Scientist\n",
      "Environmental Senior Research Scientist\n",
      "Network Data consultant\n",
      "System Performance Modeling Engineer\n",
      "TSDS Data QA Analyst (Data Analyst IV)\n",
      "Job Role : Data Engineer\n",
      "Master Architect \n",
      "Software Design Engineering Scientist\n",
      "Job Opening : Data Engineer (Python) @ Chandler\n",
      "Data Engineer and Visualization Developer\n",
      "Research Scientist Sr\n",
      "Advanced Analytics Consultant\n",
      "Associate Scientist II \n",
      "Quantitative Research Internship\n",
      "Lead Process Development Scientist \n",
      "Data Scientist with SQL\n",
      "Data Engineer (Mid\n",
      "Senior IoT Data Scientist \n",
      "Data Engineer (Azure Delta Lake and Databricks)\n",
      "Senior Data Visualization Developer\n",
      "Data Analyst BI Engineer\n",
      "Data Analyst: II (Intermediate)\n",
      "Data Engineer Intern (Remote)\n",
      "Senior Data Software Engineer\n",
      "Staff Data Infrastructure Engineer\n",
      "Point72 Quantitative Researcher\n",
      "Big Data Engineer (Kafka)\n",
      "Remote \n",
      "Senior Big Data Consultant\n",
      "Data Analyst (Philadelphia\n",
      "Research Scientist Associate IV\n",
      "Senior Business Intelligence Data Engineer\n",
      "Digital Analytics and Data Science Manager\n",
      "Data Scientist II \n",
      "Lead Data Engineer (ASE6) \n",
      "AppleCare Business Insight Data Scientist\n",
      "Big Data Engineer Internship\n",
      "Medical Laboratory Scientist\n",
      "SOC Architecture Modeling Engineer\n",
      "Sr Snowflake Data Engineer\n",
      "RAPD Risk Platforms & Data \n",
      "Live Operations Data Analyst\n",
      "ETL\n",
      "IT Storage Data Analyst \n",
      "Data Analyst D\n",
      "DATA SCIENCE CONSULTANT\n",
      "Senior Data Scientist (Multiple Openings)\n",
      "AI Engineering: Data Scientist\n",
      "Senior Data Scientist 8+ Yrs Experience \n",
      "Senior Data Scientist (Columbus\n",
      "Associate Research Scientist (Senior Scientist)\n",
      "Lead\n",
      "Director of Data Analytics\n",
      "Senior Consulting Data Analyst\n",
      "Post Doctoral Scientist Yr 1\n",
      "Data Scientist I Seller Development\n",
      "Data Modeler (Healthcare Claims)\n",
      "Neuroimaging Data Analyst Junior\n",
      "Scientist (Translational Development)\n",
      "Research Scientist — Machine Learning\n",
      "Data Scientist with python\n",
      "Medical Lab Scientist (MLS) Evenings\n",
      "Data Scientist (DoD Secret Security Clearance)\n",
      "Technical Applications Scientist\n",
      "Sonar Systems Software Engineering Scientist\n",
      "Assistant Research Scientist\n",
      "Intellectual Property Scientist\n",
      "Data Analyst IV\n",
      "Senior Digital Analytics Consultant\n",
      "Supervisory Research Health Scientist\n",
      "Engineering Team Lead \n",
      "Business Intelligence Analyst Senior (Chief Financial Office)\n",
      "Data Science Internship\n",
      "Chief Data Scientist\n",
      "Principal Scientist \n",
      "Marketing Analytics Manager\n",
      "Business Intelligence Analyst with Insurance\n",
      "Lead Quality Data Analyst\n",
      "Data Analyst in Jacksonville\n",
      "Technology Data Engineer\n",
      "Field Applications Scientist\n",
      "Director Translational Scientist Liaisons (Dallas\n",
      "Senior Thermal Modeling Engineer(Relocation to Phoenix\n",
      "Big Data Engineer w\n",
      "Data Analyst (Remote)\n",
      "Data Scientists\n",
      "Data Analyst (LiDar\n",
      "Senior Scientist – Immunotherapeutic Design\n",
      "Scientist (Chemistry)\n",
      "Data Engineer (Snowflake Production)\n",
      "Senior Data Engineer (ASE5) Asset and Liability Technology Wells Fargo Corporate Treasury\n",
      "Midlevel Data Scientist\n",
      "Contract Data Analyst\n",
      "Sr Data Engineer (DBA)\n",
      "Program Manager (TTI Associate Research Scientist)\n",
      "Data engineer\n",
      "Health Analytics Data Scientist\n",
      "DBA \n",
      "Senior Quantitative Researcher\n",
      "Principal Scientist Product Formulation\n",
      "Machine Learning Engineer Chicago\n",
      "Director of Quantitative Research\n",
      "Healthcare Data Analyst\n",
      "Visiting Undergraduate Affairs Data Analyst \n",
      "Adjunct Faculty \n",
      "Chandler Data Science Tutor Jobs\n",
      "Manufacturing Science and Technology Scientist\n",
      "Staff or Senior Scientist Pharm R&D\n",
      "Food Scientist\n",
      "Data Scientist (Analytics)\n",
      "Big Data Engineer II\n",
      "Tempe Data Science Tutor Jobs\n",
      "Data Labelling\n",
      "Mesa Data Science Tutor Jobs\n",
      "Data Analyst: II \n",
      "Analytics Manager (Web \n",
      "Senior Deep Learning Data Scientist\n",
      "Value Based Analytics \n",
      "Field Scientist\n",
      "(CLS) Clinical Lab Scientist \n",
      "Crop Protection Research Scientist\n",
      "Risk Analytics Manager\n",
      "Computational Biologist\n",
      "Network Data Analyst\n",
      "JC2002: Research Scientist: Coronavirus research and development\n",
      "Data Engineer(Phyton)\n",
      "Data Scientist (Java)\n",
      "Scientist 1 \n",
      "Supervisor\n",
      "Data Analytics Manager in Jacksonville\n",
      "Healthcare Data Analyst \n",
      "Business Systems & Data Analyst\n",
      "Greenplum \n",
      "Only W2\n",
      "Irving Data Science Tutor Jobs\n",
      "Marketing Data Analyst \n",
      "Public Policy Data Analyst\n",
      "Business Data Analyst III\n",
      "Data Science and Analytics\n",
      "Machine Learning & Data Engineer (Remote)\n",
      "Analytical Scientist I\n",
      "Associate Scientist (2nd shift)\n",
      "Big Data Machine Learning Engineer in Chicago\n",
      "IT Data Science Analyst\n",
      "Customer Service Supervisor (Medical Lab Scientist)\n",
      "People Data Scientist\n",
      "Research scientist\n",
      "Autonomous Driving Data Engineer\n",
      "Lead Real World Analytics Data Scientist\n",
      "Staff Data Scientist \n",
      "+ Data Engineer\n",
      "Data Visualization and Analytics Consultant\n",
      "People Analytics Data Engineer\n",
      "Wi\n",
      "TECAN Automation Scientist\n",
      "Data Curator\n",
      "LEAD ENGINEER \n",
      "Performance Data Analyst\n",
      "Proteomics Applications Scientist\n",
      "Senior Principal Metrics Analyst\n",
      "Data Analyst (Product Analytics)\n",
      "Java with big data engineer\n",
      "Senior Big Data Analyst\n",
      "Senior Director of Data Science\n",
      "Lead Data Science Instructor\n",
      "Data Analytics Architect\n",
      "Food Scientist \n",
      "Financial and Data Analyst\n",
      "Data Science Team Developer\n",
      "9\n",
      "Ad Integrity Data Analyst\n",
      "Data Engineer *\n",
      "Market Data Analyst\n",
      "7232 Data Engineer (Analyst\n",
      "Card Data Analyst\n",
      "Enterprise Data Analyst\n",
      "Senior Global Data Analyst \n",
      "Data Analyst 3 (San Diego or Atlanta\n",
      "In Process Analytical Scientist\n",
      "Data Analyst ( SAS\n",
      "Credit Analytics Manager\n",
      "Medical Lab Scientist (MLS) AM\n",
      "Data Scientist with Python\n",
      "Global Big Data Scientist\n",
      "Behavioral Data Science Manager\n",
      "Environmental Scientist \n",
      "Power & Performance Data Engineer\n",
      "EUV Staff Systems Scientist\n",
      "Associate Scientist R&D\n",
      "Federal\n",
      "Senior Data Science Engineer\n",
      "Clinical Research Data Specialist II\n",
      "Big Data Administrator\n",
      "Principal Data Engineer \n",
      "NLP Data Scientist\n",
      "Quantitative Developer\n",
      "Senior Fraud Risk Quantitative Analyst\n",
      "Associate or Scientist\n",
      "Performance Improvement Data Analyst\n",
      "Head of Data\n",
      "Environmental Scientist Supervisor\n",
      "Senior Machine Learning Engineer \n",
      "HT Downstream Sr Scientist\n",
      "Senior Data Analytics consultant\n",
      "Laboratory Scientist 3\n",
      "Product Data Engineer \n",
      "Medical Lab Scientist Specialist \n",
      "SMART Platform Lab Data Scientist\n",
      "HCC Data Analyst\n",
      "Data Scientist – Product Analytics\n",
      "Marketing Data Scientist\n",
      "SQL\n",
      "MRI Associate Principal Scientist\n",
      "Machine Learning \n",
      "Workforce & Data Analytics Manager (Call Center Experience Required)\n",
      "SR Data Scientist\n",
      "Pharmaceutical Upstream Processing Scientist \n",
      "Data Integration Architect\n",
      "HPC Systems and Data Engineer\n",
      "Senior Thermal Modeling Engineer\n",
      "Lead Data Engineer \n",
      "Strategic Business Analytics Manager\n",
      "Clinical Laboratory Scientist Data Review\n",
      "Spice Modeling Engineer\n",
      "Senior Research Data Analyst\n",
      "Cloud Data Engineer Internship (Remote)\n",
      "Translational Scientist Liaison\n",
      "Vector Optimization Senior Research Scientist\n",
      "Data Consultant\n",
      "First Data Hire for IoT Startup: Manager level Data Scientist\n",
      "Energetics Engineer (Research Scientist)\n",
      "Tenured\n",
      "Senior Behavioral Scientist \n",
      "Sr Staff Scientist\n",
      "Business Intelligence Analyst Tableau From Scratch & Performance Bonuses\n",
      "Talent Acquisition Vendor & Analytics Manager \n",
      "Staff Environmental Scientist New\n",
      "In Vivo Principal Scientist\n",
      "Data Analyst (Ryan White)\n",
      "Business Intelligence Analyst II \n",
      "Data Engineer (AI\n",
      "Data Scientist — Risk\n",
      "Scientist in Data\n",
      "AMS Verification and Modeling Engineer\n",
      "VBA Software developer \n",
      "Investment & Data Science Intern\n",
      "Computational Scientist\n",
      "Data Science Consultant\n",
      "Hadoop Data Engineer\n",
      "Research Scientist CNS\n",
      "Senior Principal Data Scientist (Python\n",
      "Clinical Data (Data Entry) Operator I Swing Shift\n",
      "Analytic Consultant 4\n",
      "Data Engineer ETL Developer\n",
      "DPS \n",
      "+ Global Process Data Analyst\n",
      "Civil Engineer\n",
      "Associate\n",
      "Sr Professional\n",
      "Big Data Engineer with Cloudera\n",
      "Data Scientist (Individual Contributors and Team Leads)\n",
      "Siri \n",
      "Clinical Lab Scientist (CLS)\n",
      "Analytical Development Associate Scientist\n",
      "Product Analyst\n",
      "Senior Data Scientist *\n",
      "Applied Machine Learning Scientist\n",
      "Data Engineer (Python\n",
      "Data Scientist Lead \n",
      "Data Analyst II \n",
      "PRINCIPAL SCIENTIST\n",
      "Drug Product Scientist\n",
      "Natural Catastrophe Research Scientist\n",
      "Cyber Security Data Engineer\n",
      "Data Scientist (Entry Level)\n",
      "Quantitative Research Analyst Internship\n",
      "Data & Reporting Analyst\n",
      "Associate Product Development Scientist \n",
      "Senior Data & Applied Scientist\n",
      "Airflow Data Engineer\n",
      "Pharmacovgilance Scientist\n",
      "Senior Environmental Scientist Part Time\n",
      "Scientist Medical Laboratory II\n",
      "Corporate Senior Business Intelligence Analyst\n",
      "Upstream Scientist \n",
      "Business Intelligence Analyst II (6 Month Contract)\n",
      "Remote work \n",
      "Demand Planning and Analytics\n",
      "Field Application Scientist BioTherapeutics\n",
      "Data Scientist 2 (Tableau Statistics (IT Portfolio)\n",
      "Senior Business Data Analyst \n",
      "Data Integration and Standardization Specialist\n",
      "Design Quality Scientist\n",
      "Data Scientist Machine Learning at Google\n",
      "Staff Data Engineer\n",
      "IoT Data Scientist \n",
      "Senior. Data Engineer \n",
      "Senior Environmental Soil Scientist\n",
      "Investigational Computational Biologist\n",
      "Financial Crimes Technology and Data Analytics Manager\n",
      "Virology Data Analysts\n",
      "NLP Data Scientist { PhD. }\n",
      "Splunk SME \n",
      "Unpaid Internship for Data Driven Sports Consulting Position\n",
      "Data Analyst Senior\n",
      "Data Scientist Lead\n",
      "Planetary Data Engineer\n",
      "CIB \n",
      "Chief Medical Laboratory Scientist\n",
      "SR. COMPUTER SCIENTIST \n",
      "SR BUSINESS DATA ANALYST PRN\n",
      "Austin Data Science Tutor Jobs\n",
      "Chief Medical Lab Scientist \n",
      "Clinical Scientist Associate Director\n",
      "Data Analyst & Healthcare Analytics\n",
      "Healthcare Data Scientist\n",
      "Business Data Analyst (SQL \n",
      "Field Application Scientist (Sales Engineer) Process Management Informatics\n",
      "Lead Consultant \n",
      "SystemC Modeling Engineer\n",
      "Practice Area Lead \n",
      "Data Science Program Coordinator\n",
      "Business Data Analyst \n",
      "Senior Healthcare Data Analyst \n",
      "AI Scientist \n",
      "Analytical Scientist\n",
      "Associate Research Scientist\n",
      "Computer Science Instructor and Course Developer \n",
      "Sample Management Scientist\n",
      "Principal Data Scientist Artificial Intelligence Machine Learning Scientist \n",
      "Sr Applied Scientist\n",
      "Software Engineer\n",
      "Data Analytics Insights Analyst\n",
      "Marine Biologist Research Scientist\n",
      "IS Data Engineer II\n",
      "Data Modeler ( SAAS )\n",
      "Cost Data Analyst\n",
      "Senior Big Data Engineer & Data Scientist (Apps Systems Engineer 6)\n",
      "Molecular Engineering Senior Research Scientist\n",
      "Field Appl Scientist I\n",
      "Columbus Data Science Tutor Jobs\n",
      "Sr Marketing Analytics Manager (Individual Contributor)\n",
      "SoC Power Modeling Engineer\n",
      "Future Opportunity\n",
      "Publicis Media \n",
      "LEAD COMPUTER SCIENTIST \n",
      "Senior Research Scientist CNS\n",
      "QC Associate Scientist\n",
      "Senior Staff Scientist\n",
      "Retention Data Scientist\n",
      "Forensic Genomics Research Scientist\n",
      "VP of Data Science & Analytics\n",
      "Data Engineer with Pyspark\n",
      "Real World Science\n",
      "Environmental Scientist 7\n",
      "Imaging Data Scientist III\n",
      "Clinical Laboratory Scientist (Per Diem\n",
      "Cybersecurity Engineer \n",
      "Sr Data Analyst (DW)\n",
      "Research and Development Bioprocessing Scientist (Upstream)\n",
      "Payment Integrity Data Analyst Job posting in #Philadelphia #ITjobs\n",
      "Senior Data Scientist Customer Experience\n",
      "Mid\n",
      "Junior Business Intelligence Analyst\n",
      "Finance Data Analyst\n",
      "Quantitative Research Scientist\n",
      "IGNITE Graduate Development Program \n",
      "Senior Software Engineer (Data Platform)\n",
      "Supply Chain\n",
      "Data Sceintist\n",
      "Senior Research Scientist \n",
      "Data Scientist 2 (Tableau \n",
      "Exploratory Data Analysis Instructor\n",
      "Advanced Analytics Consulting Lead\n",
      "Senior Healthcare Data Analyst\n",
      "Immunoassay Data Scientist\n",
      "Missouri City Data Science Tutor Jobs\n",
      "Tableau Data Engineer 20\n",
      "Genomic Data Scientist\n",
      "Pharmaceutical Customer Data Analyst\n",
      "Senior Scientist Analytical Method Development\n",
      "Grand Prairie Data Science Tutor Jobs\n",
      "DALLAS Campus Recruiting 2018 \n",
      "Quant Analytics Manager (DAQA07) SALES SCIENCE\n",
      "Senior or Staff Data Scientist\n",
      "Senior Data Modeler\n",
      "Applied Scientist III\n",
      "Computer Vision Scientist\n",
      "DATA Scientist\n",
      "Learning and Development Business Intelligence Analyst\n",
      "Senior Environmental Research Scientist\n",
      "(Data Analyst) BA\n",
      "Data Science Intern\n",
      "Data Engineer Sr\n",
      "Jacksonville Data Science Tutor Jobs\n",
      "Director Data Science\n",
      "Informatica IDQ \n",
      "Informatica Data Modeler\n",
      "Data Modeler Architect\n",
      "Global Reporting and Analytics Consultant\n",
      "Medical Laboratory Scientist (MLS)\n",
      "Data Analyst (Python)\n",
      "Clinical Safety and Risk Management CSRM Medical Associate \n",
      "Business Intelligence & Analytics Manager\n",
      "Field Application Scientist\n",
      "Spark\n",
      "Data Scientist Senior Associate \n",
      "SAP Data Analyst (Contract)\n",
      "Senior Google Analytics Manager\n",
      "Managed Care Data Analyst\n",
      "SRO BI & Analytics Manager\n",
      "Automotive eCommerce Data Analyst \n",
      "Research Data Scientist\n",
      "Maps Search Machine Learning Engineer\n",
      "Modeling and Simulation \n",
      "Senior Business Data Analyst Enterprise Risk\n",
      "Data Analytics\n",
      "QC Analytical Scientist or Senior QC Analytical Scientist\n",
      "Data Production Analyst\n",
      "Development Scientist I\n",
      "Program Data Analyst\n",
      "Sr Big Data Engineer\n",
      "Remote Senior Data Scientist (Healthcare \n",
      "Signal Processing Engineer\n",
      "Ergonomics Scientist\n",
      "Operations Research Scientist\n",
      "Data Engineer (Contract)\n",
      "Analytical Consultant #2020\n",
      "Informatics Scientist \n",
      "AI Insights Data Analyst\n",
      "Sr Associate Scientist\n",
      "Manufacturing Science and Technology (MS&T) Scientist\n",
      "Quantitative Researcher – Full Time (US)\n",
      "Senior User Experience Research Scientist\n",
      "Data Scientist (Top Secret\n",
      "Sugar Land Data Science Tutor Jobs\n",
      "Developer \n",
      "Business Intelligence Analyst II\n",
      "Automatic Benchmark Research Scientist \n",
      "Bioanalytical Scientist\n",
      "#105054 (CLS) Clinical Lab Scientist \n",
      "Business Strategy and Planning Director \n",
      "QC Scientist\n",
      "Healthcare Data Analytics PhD \n",
      "NLP Engineer \n",
      "Cyber Security Senior Data Scientist\n",
      "Network Security System\n",
      "Machine Learning Engineer (TX)\n",
      "Process Development Downstream Senior Scientist\n",
      "Adobe Analytics Consultant\n",
      "Senior Data Scientist in Chicago\n",
      "Financial Data Analyst \n",
      "Cloud\n",
      "Sr Decision Scientist\n",
      "Senior Marketing Data Scientist II\n",
      "Digital Analytics Manager\n",
      "Artificial Intelligence\n",
      "Senior Big Data Engineer \n",
      "Bellaire Data Science Tutor Jobs\n",
      "ASW Systems and MBSE Engineering Scientist Associate\n",
      "Senior Software\n",
      "Senior BI Data Engineer III\n",
      "Senior Developer \n",
      "Project Scientist II\n",
      "Attribute Data Analyst \n",
      "Senior AWS Data Engineer\n",
      "Data Scientist; Acurian (A PPD Company)\n",
      "Biological Scientist\n",
      "Data Science Team Developers with Security Clearance\n",
      "Temporary Lecture \n",
      "VRL \n",
      "Senior Principal Software Cloud Streaming Data Engineer\n",
      "Data Integration Analyst\n",
      "Data Engineer(Java \n",
      "Senior GMP Analytical Scientist\n",
      "Data Science Practitioner\n",
      "Lead Data Engineer (St. Louis\n",
      "Senior Data Analyst — US Safety\n",
      "Temporary Research Scientist\n",
      "Analytical Scientist II\n",
      "Scientist Web Developer\n",
      "Data Engineer Lead\n",
      "Scottsdale Data Science Tutor Jobs\n",
      "Principal Data Scientist II (Statistical Modeling)\n",
      "Data Science with Strong Python Knowledge\n",
      "SAP Materials Master Data Analyst \n",
      "CPU Performance –Sr Principal Modeling Engineer\n",
      "IS Data Architect\n",
      "Staff Data Custodian \n",
      "East Field Application Scientist Bio\n",
      "Business Intelligence Analytics Manager\n",
      "(Senior) Data Engineer\n",
      "Fall 2020 Supply Chain Data Analyst Intern\n",
      "PhD or Senior Data Scientist \n",
      "SCIENTIST \n",
      "Quantitative Analytics Consultant\n",
      "Sr Scientist\n",
      "Business Intelligence Analyst Senior \n",
      "Marketing Return Analytics Manager\n",
      "Principal Data ScientistFoundational Algorithm CRM Email\n",
      "Data Engineer III (E3)\n",
      "Associate Product Development Scientist\n",
      "Associate Principal Scientist\n",
      "Simulation Research Scientist Associate\n",
      "Data Engineer 4\n",
      "Principal Machine Learning Engineer\n",
      "Health Data Analyst IV\n",
      "Data Science & Machine Learning\n",
      "Administrative Assistant \n",
      "Director of Engineering\n",
      "Medical Laboratory Scientist Micro Lab Days\n",
      "Director of Data Science \n",
      "Principal Data Engineering Architect \n",
      "Remote Senior Software Engineer\n",
      "Project Regulatory\n",
      "Research Scientist II\n",
      "Associate Clinical Scientist\n",
      "Staff Machine Learning Engineer \n",
      "Soil Scientist (Direct Hire)\n",
      "Role : Data Engineer\n",
      "Clinical Laboratory Scientist | 2nd shift\n",
      "Data Engineering Manager\n",
      "Digital Marketing Analytics Manager\n",
      "Risk Analyst\n",
      "Spring Data Science Tutor Jobs\n",
      "Senior Applied Machine Learning Engineer\n",
      "Principal Data Scientist with over 10 years experience\n",
      "Senior Staff Data Engineer\n",
      "Data Analyst (Charlotte\n",
      "Data Scientist_\n",
      "IT Data Engineer\n",
      "Senior Cloud Data Analyst\n",
      "Lead Senior Data Scientist\n",
      "Associate Scientist: Microbiology\n",
      "Staff Business Intelligence Analyst\n",
      "Cybersecurity Data Scientist\n",
      "Data Analyst Healthcare \n",
      "Senior Data Modeler (Open API)\n",
      "Deep Learning Engineer\n",
      "SAS Data Analyst\n",
      "19\n",
      "Operations Scientist 1\n",
      "Data Science – Analyst\n",
      "Principal Device Modeling Engineer\n",
      "Senior Tech Svc Scientist (I)\n",
      "Quantitative Research Intern \n",
      "IT Data Analyst\n",
      "Data Scientist Associate Sr (DADS06) CCB ML & AI\n",
      "Senior Environmental Scientist \n",
      "Senior Consultant Data Engineer\n",
      "Data Science & Analytics Intern\n",
      "Data Scientist (Databricks\n",
      "Senior Applied Scientist\n",
      "Big Data Engineer \n",
      "PhD. NLP Data Scientist\n",
      "Senior Scientist (Process Development Downstream)\n",
      "Medical Lab Scientist (MLS) 2:00pm\n",
      "Glendale Data Science Tutor Jobs\n",
      "Staff Reliability Data Scientist\n",
      "Quantitative Analyst \n",
      "Process Development Scientist |PR\n",
      "Senior Data Engineer (OPT EAD\n",
      "Lead Big Data Engineer \n",
      "Biopharmaceutical Drug Product\n",
      "Medical Laboratory Scientist Core Lab Weekend Nights\n",
      "Lead Business Intelligence Analyst \n",
      "Big\n",
      "Video Codec Scientist\n",
      "Data Engineer AWS\n",
      "Data Analyst V\n",
      "Data Analyst (Apex Legends)\n",
      "Technical Service Scientist\n",
      "Field Medical Scientist\n",
      "Staff BI and Data Engineer\n",
      "Azure Data Engineer with Full Stack Developer\n",
      "Urgent Need \n",
      "BioAnalytical Scientist II\n",
      "20\n",
      "BUSINESS INTELLIGENCE ANALYST\n",
      "Quantitative Research Developer\n",
      "Quantitative Researcher – PhD Hire\n",
      "Houston Data Science Tutor Jobs\n",
      "Data Scientist *\n",
      "Biomedical Laboratory Scientist\n",
      "Data Scientist (ML Evaluation in Health Sensing)\n",
      "Chief Data Engineer \n",
      "Senior Data Scientist (Experimentation)\n",
      "PD Downstream Sr Scientist\n",
      "Video Business Data Scientist\n",
      "Associate Integration Scientist 1\n",
      "Data Scientist (2 Year Fixed Term)\n",
      "Research Engineering Scientist\n",
      "Healthcare Information and Data Analyst II\n",
      "Operations Data Analyst\n",
      "Senior Principal Scientist \n",
      "Technical Data Consultant\n",
      "Small Business Lending Data Scientist\n",
      "Junior Data Analyst \n",
      "Data science researcher\n",
      "Information Security Data Analyst\n",
      "Statistical Scientist\n",
      "Big Data \n",
      "Big Data Engineer (OH)\n",
      "Research Scientist — Video Coding Standards\n",
      "Data Scientist III \n",
      "Senior Data Manager (Senior Associate)\n",
      "Machine Learning Research Scientist\n",
      "Senior HR Data Analyst\n",
      "Information Systems Officer (Data Analyst)\n",
      "Senior Analytics Consultant\n",
      "HPLC Prep Scientist\n",
      "EDI Data Analyst\n",
      "Senior Data & ML Engineer\n",
      "Cyber Security Data Scientist.\n",
      "Guidewire Data Analyst\n",
      "+ Data Scientist\n",
      "Data Scientist Manager\n"
     ]
    },
    {
     "name": "stdout",
     "output_type": "stream",
     "text": [
      "Associate Research Scientist I\n",
      "Automotive eCommerce Data Analyst\n",
      "Data Analyst (Asset Management \n",
      "Air Compliance Engineer\n",
      "Senior Data Engineer (Healthcare Domain experience required)\n",
      "Geologist or Environmental Scientist \n",
      "Data Scientist (Engineering)\n",
      "Senior Data Engineer (TS\n",
      "(Data Risk Analyst: Data Modeler)\n",
      "Laboratory Technician\n",
      "Bioprocess Scientist\n",
      "West University Place Data Science Tutor Jobs\n",
      "Data Analyst Lead \n",
      "Data Analyst Alteryx Experience MUST\n",
      "Data Analyst with Security Clearance\n",
      "Future Opportunity: Data Engineer\n",
      "Post Doctoral Scientist Year 1 3 Research C\n",
      "CLINICAL LABORATORY SCIENTIST I\n",
      "Data Scientist SR\n",
      "Forensic Scientist IV \n",
      "Business Data Modeler\n",
      "RD Scientist\n",
      "Laboratory Scientist II\n",
      "Sr Principal Scientist\n",
      "Formulation development Sr Scientist\n",
      "JC2001: Research Scientist: Protein chemistry\n",
      "Sr Data Engineer Hadoop\n",
      "Internship \n",
      "Payment Integrity Data Analyst\n",
      "Graphics (GPU) Performance Modeling Engineer\n"
     ]
    }
   ],
   "source": [
    "# Rút ra các dòng có Sector nằm trong top 10 sector\n",
    "Job_Sector_top_10 = ds_df.loc[ds_df['Sector'].isin(top_10_sector.index.to_list())][['Job Title', 'Sector']]\n",
    "print(*Job_Sector_top_10['Job Title'].value_counts().index, sep = '\\n')"
   ]
  },
  {
   "cell_type": "markdown",
   "id": "fea09330",
   "metadata": {},
   "source": [
    "Quan sát qua các giá trị xuất hiện, ta thấy cột `Job Title` cần xử lý các vấn đề sau:\n",
    "* Do \"Senior\", \"Junior\", \"Sr\", \"Jr\" đều chỉ về kinh nghiệm của một người hơn là vị trí công việc. Vì thế, ta sẽ loại bỏ các cụm từ này trong cột `Job Title` để việc xác định và gom nhóm tên công việc chính xác hơn.\n",
    "* Trong cột `Job Title` còn có giá trị số. Vì không thể xác định vị trí tuyển dụng thông qua các số này nên sẽ thực hiện loại bỏ chúng. \n",
    "* Ngoài ra, còn có một số dòng ghi các giá trị không thể hiện vị trí tuyển dụng như \"Big\", \"Wi\",... nhưng chỉ là thiểu số và ta cũng không thể tìm ra hết nên không thể xử lý tất cả dòng này."
   ]
  },
  {
   "cell_type": "code",
   "execution_count": 55,
   "id": "c65c6d33",
   "metadata": {},
   "outputs": [],
   "source": [
    "# Xóa các từ không cần thiết \n",
    "val_replace = [\"Senior \", \"Junior \", \"Sr \", \"Jr \"]\n",
    "def replace_val(x):\n",
    "    for val in val_replace:\n",
    "        if val in x:\n",
    "            x = x.replace(val, '')\n",
    "    return x.strip()\n",
    "Job_Sector_top_10['Job Title'] = Job_Sector_top_10['Job Title'].apply(lambda x: replace_val(x))"
   ]
  },
  {
   "cell_type": "markdown",
   "id": "fac5afca",
   "metadata": {},
   "source": [
    "Xóa các dòng chứa số trong cột `Job Title`."
   ]
  },
  {
   "cell_type": "code",
   "execution_count": 56,
   "id": "91067a28",
   "metadata": {},
   "outputs": [],
   "source": [
    "# Xóa các dòng số trong cột Job Title \n",
    "Job_Sector_top_10.drop(Job_Sector_top_10[Job_Sector_top_10['Job Title'].apply(\n",
    "    lambda x: x.isnumeric())].index, inplace=True)"
   ]
  },
  {
   "cell_type": "code",
   "execution_count": 57,
   "id": "53b84108",
   "metadata": {},
   "outputs": [
    {
     "data": {
      "image/png": "[encoded data removed]",
      "text/plain": [
       "<Figure size 432x288 with 1 Axes>"
      ]
     },
     "metadata": {
      "needs_background": "light"
     },
     "output_type": "display_data"
    }
   ],
   "source": [
    "# Trực quan hóa top 10 job title \n",
    "jobTitle_top_10 = Job_Sector_top_10['Job Title'].value_counts()[:10]\n",
    "jobTitle_top_10 = {k: v for k, v in sorted(jobTitle_top_10.items(), key = lambda x: x[1])}\n",
    "plt.barh(list(jobTitle_top_10.keys()), list(jobTitle_top_10.values()))\n",
    "plt.xlabel('Count')\n",
    "plt.ylabel('Job Title')\n",
    "plt.title('Top 10 Job Title')\n",
    "plt.show();"
   ]
  },
  {
   "cell_type": "code",
   "execution_count": 58,
   "id": "8f279fe2",
   "metadata": {},
   "outputs": [
    {
     "name": "stdout",
     "output_type": "stream",
     "text": [
      "Numbers of unique job title: 983\n"
     ]
    }
   ],
   "source": [
    "print(\"Numbers of unique job title:\", len(Job_Sector_top_10['Job Title'].unique()))"
   ]
  },
  {
   "cell_type": "markdown",
   "id": "87eeaa5b",
   "metadata": {},
   "source": [
    "**Bước 3:** Trả lời câu hỏi và đưa ra nhận xét"
   ]
  },
  {
   "cell_type": "markdown",
   "id": "d0c3128c",
   "metadata": {},
   "source": [
    "Như vậy, ta có những đánh giá sau:\n",
    "* Các vị trí như Data Scientist, Data Analyst, Data Engineer là những vị trí đang có nhu cầu tuyển dụng rất lớn. \n",
    "* Có rất nhiều lĩnh vực cần vị trí liên quan tới Data Science từ Information Technology đến các ngành liên quan tới kinh tế như Business Services hay ngay cả các lĩnh vực như Health Care, Education, Government cũng đang có nhu cầu tuyển dụng.\n",
    "* Có gần 1000 vị trí khác nhau trong 3334 thông báo tuyển dụng từ các công ty cho thấy vị trí mà Data Science có thể đảm nhiệm rất đa dạng."
   ]
  },
  {
   "cell_type": "markdown",
   "id": "6197ad88",
   "metadata": {},
   "source": [
    "### Câu hỏi 5: Mức lương có liên quan tới size của công ty không?\n",
    "\n",
    "Ta cần tiến hành một số thao tác xử lý trước khi trực quan hóa và tìm câu trả lời cho câu hỏi này.\n",
    "\n",
    "- **Bước 1:** Phân loại kích thước công ty theo lớn, vừa và nhỏ.\n",
    "\n",
    "- **Bước 2:** Xác định `mean`, `min`, `max`, `median` của `SalaryMin` và `SalaryMax` theo nhóm công ty. \n",
    "\n",
    "- **Bước 3:** Trực quan hóa dữ liệu và đưa ra kết luận.\n",
    "\n",
    "Việc phân tích sự tương quan giữa mức lương với size của công ty sẽ giúp ta có cái nhìn về việc chi trả lương thưởng tại các công ty lớn, vừa và nhỏ. Qua đó, ta biết được liệu công ty càng lớn thì sự đãi ngộ với nhân viên (qua mức lương) sẽ càng cao hay không."
   ]
  },
  {
   "cell_type": "markdown",
   "id": "2414138d",
   "metadata": {},
   "source": [
    "**Bước 1:** Phân loại kích thước công ty theo lớn, vừa và nhỏ.\n"
   ]
  },
  {
   "cell_type": "code",
   "execution_count": 59,
   "id": "f306629c",
   "metadata": {},
   "outputs": [
    {
     "data": {
      "text/plain": [
       "10000.0    993\n",
       "125.0      563\n",
       "3000.0     553\n",
       "25.0       550\n",
       "350.0      418\n",
       "750.0      307\n",
       "7500.0     219\n",
       "Name: Size, dtype: int64"
      ]
     },
     "execution_count": 59,
     "metadata": {},
     "output_type": "execute_result"
    }
   ],
   "source": [
    "ds_df['Size'].value_counts()"
   ]
  },
  {
   "cell_type": "markdown",
   "id": "6654f5cc",
   "metadata": {},
   "source": [
    "Size của công ty không có quá nhiều giá trị khác nhau gây khó quan sát. Ta có thể dễ dàng phân loại các công ty này thành 3 nhóm: 1. Lớn (= 10000), 2. Vừa (1000<= size <10000), 3. Nhỏ (<1000)."
   ]
  },
  {
   "cell_type": "code",
   "execution_count": 60,
   "id": "6847e37b",
   "metadata": {},
   "outputs": [],
   "source": [
    "df = ds_df[[\"Size\", \"SalaryMin\", \"SalaryMax\"]].copy()\n",
    "df.loc[df.Size < 1000, 'Size'] = 3\n",
    "df.loc[(df.Size >= 1000) & (df.Size < 10000),'Size'] = 2\n",
    "df.loc[df.Size == 10000, 'Size'] = 1\n"
   ]
  },
  {
   "cell_type": "markdown",
   "id": "b4d6387b",
   "metadata": {},
   "source": [
    "**Bước 2:** Xác định `count`, `mean`, `min`, `max`, `median` của `SalaryMin` và `SalaryMax` theo nhóm công ty. \n"
   ]
  },
  {
   "cell_type": "code",
   "execution_count": 61,
   "id": "50ce9f8c",
   "metadata": {},
   "outputs": [
    {
     "data": {
      "text/html": [
       "<div>\n",
       "<style scoped>\n",
       "    .dataframe tbody tr th:only-of-type {\n",
       "        vertical-align: middle;\n",
       "    }\n",
       "\n",
       "    .dataframe tbody tr th {\n",
       "        vertical-align: top;\n",
       "    }\n",
       "\n",
       "    .dataframe thead tr th {\n",
       "        text-align: left;\n",
       "    }\n",
       "\n",
       "    .dataframe thead tr:last-of-type th {\n",
       "        text-align: right;\n",
       "    }\n",
       "</style>\n",
       "<table border=\"1\" class=\"dataframe\">\n",
       "  <thead>\n",
       "    <tr>\n",
       "      <th></th>\n",
       "      <th colspan=\"5\" halign=\"left\">SalaryMin</th>\n",
       "      <th colspan=\"5\" halign=\"left\">SalaryMax</th>\n",
       "    </tr>\n",
       "    <tr>\n",
       "      <th></th>\n",
       "      <th>count</th>\n",
       "      <th>min</th>\n",
       "      <th>max</th>\n",
       "      <th>mean</th>\n",
       "      <th>median</th>\n",
       "      <th>count</th>\n",
       "      <th>min</th>\n",
       "      <th>max</th>\n",
       "      <th>mean</th>\n",
       "      <th>median</th>\n",
       "    </tr>\n",
       "    <tr>\n",
       "      <th>Size</th>\n",
       "      <th></th>\n",
       "      <th></th>\n",
       "      <th></th>\n",
       "      <th></th>\n",
       "      <th></th>\n",
       "      <th></th>\n",
       "      <th></th>\n",
       "      <th></th>\n",
       "      <th></th>\n",
       "      <th></th>\n",
       "    </tr>\n",
       "  </thead>\n",
       "  <tbody>\n",
       "    <tr>\n",
       "      <th>1.0</th>\n",
       "      <td>993</td>\n",
       "      <td>12</td>\n",
       "      <td>200</td>\n",
       "      <td>84.80</td>\n",
       "      <td>83</td>\n",
       "      <td>993</td>\n",
       "      <td>27</td>\n",
       "      <td>254</td>\n",
       "      <td>138.75</td>\n",
       "      <td>143</td>\n",
       "    </tr>\n",
       "    <tr>\n",
       "      <th>2.0</th>\n",
       "      <td>772</td>\n",
       "      <td>12</td>\n",
       "      <td>200</td>\n",
       "      <td>80.56</td>\n",
       "      <td>76</td>\n",
       "      <td>772</td>\n",
       "      <td>27</td>\n",
       "      <td>254</td>\n",
       "      <td>130.99</td>\n",
       "      <td>124</td>\n",
       "    </tr>\n",
       "    <tr>\n",
       "      <th>3.0</th>\n",
       "      <td>1838</td>\n",
       "      <td>10</td>\n",
       "      <td>200</td>\n",
       "      <td>81.33</td>\n",
       "      <td>76</td>\n",
       "      <td>1838</td>\n",
       "      <td>26</td>\n",
       "      <td>254</td>\n",
       "      <td>132.73</td>\n",
       "      <td>129</td>\n",
       "    </tr>\n",
       "  </tbody>\n",
       "</table>\n",
       "</div>"
      ],
      "text/plain": [
       "     SalaryMin                        SalaryMax                        \n",
       "         count min  max   mean median     count min  max    mean median\n",
       "Size                                                                   \n",
       "1.0        993  12  200  84.80     83       993  27  254  138.75    143\n",
       "2.0        772  12  200  80.56     76       772  27  254  130.99    124\n",
       "3.0       1838  10  200  81.33     76      1838  26  254  132.73    129"
      ]
     },
     "execution_count": 61,
     "metadata": {},
     "output_type": "execute_result"
    }
   ],
   "source": [
    "sdf = df.groupby(by = 'Size').agg(['count','min','max','mean', 'median']).round(2)\n",
    "sdf"
   ]
  },
  {
   "cell_type": "markdown",
   "id": "1ab797a0",
   "metadata": {},
   "source": [
    "Ta có thể rút ra nhận xét như sau: \n",
    "\n",
    "* Min Salary dao động từ 10k - 200k USD, Max Salary dao động từ 26k - 254k USD.\n",
    "\n",
    "* Mức lương giữa các công ty lớn, vừa và nhỏ không có sự chênh lệch quá nhiều.\n",
    "\n",
    "* Công ty nhỏ chiếm hơn phân nửa nhu cầu tuyển dụng."
   ]
  },
  {
   "cell_type": "markdown",
   "id": "2de39ba1",
   "metadata": {},
   "source": [
    "Trực quan hóa size các công ty và min, max, mean mức lương."
   ]
  },
  {
   "cell_type": "code",
   "execution_count": 62,
   "id": "5b54a0d5",
   "metadata": {},
   "outputs": [
    {
     "data": {
      "image/png": "[encoded data removed]",
      "text/plain": [
       "<Figure size 432x288 with 1 Axes>"
      ]
     },
     "metadata": {},
     "output_type": "display_data"
    }
   ],
   "source": [
    "fig1, ax1 = plt.subplots()\n",
    "colors = ['gold','lightcoral', 'lightskyblue']\n",
    "ax1.pie(df['Size'].value_counts().to_list(),\n",
    "        labels = ['Small', 'Medium', 'Big'], autopct = '%1.1f%%', colors = colors, shadow = True)\n",
    "plt.show()"
   ]
  },
  {
   "cell_type": "code",
   "execution_count": 63,
   "id": "46b922ef",
   "metadata": {},
   "outputs": [
    {
     "data": {
      "image/png": "[encoded data removed]",
      "text/plain": [
       "<Figure size 432x288 with 1 Axes>"
      ]
     },
     "metadata": {
      "needs_background": "light"
     },
     "output_type": "display_data"
    }
   ],
   "source": [
    "x = np.arange(3)\n",
    "y1 = [sdf['SalaryMin']['min'][1],sdf['SalaryMin']['max'][1],sdf['SalaryMin']['mean'][1]]\n",
    "y2 = [sdf['SalaryMin']['min'][2],sdf['SalaryMin']['max'][2],sdf['SalaryMin']['mean'][2]]\n",
    "y3 = [sdf['SalaryMin']['min'][3],sdf['SalaryMin']['max'][3],sdf['SalaryMin']['mean'][3]]\n",
    "width = 0.2\n",
    "  \n",
    "# plot data in grouped manner of bar type\n",
    "plt.bar(x-0.2, y1, width, color='cyan')\n",
    "plt.bar(x, y2, width, color='orange')\n",
    "plt.bar(x+0.2, y3, width, color='green')\n",
    "plt.xticks(x, ['Min', 'Max', 'Mean'])\n",
    "plt.xlabel(\"Salary\")\n",
    "plt.ylabel(\"Values\")\n",
    "plt.legend([\"Big\", \"Medium\", \"Small\"])\n",
    "plt.show()"
   ]
  },
  {
   "cell_type": "markdown",
   "id": "6713cee0",
   "metadata": {},
   "source": [
    "Ta có thể rút ra các nhận xét sau:\n",
    "* Phần lớn công ty đang có nhu cầu tuyển dụng là công ty nhỏ.\n",
    "\n",
    "* Mức lương các công ty lớn chi trả có phần nhỉnh hơn so với công ty tầm trung hay công ty nhỏ.\n",
    "\n",
    "* Mức lương thấp nhất nằm vào khoảng 10k-12k (USD) và mức lương cao nhất nằm vào khoảng 254k USD.\n",
    "\n",
    "* Đối với Salary Min và Salary Max, các công ty có thể đưa ra mức giá chênh lệch nhau (trong mỗi cột) đến hơn 100k USD.\n",
    "\n",
    "Ta chưa thể rút ra kết luận công ty càng lớn sẽ đưa ra mức lương càng cao vì số liệu phản ánh không quá rõ ràng và sự chênh lệch chưa đủ lớn. Tuy nhiên, đa số công ty đều đưa ra mức giá tương đương với thị trường để có thể thu hút người lao động."
   ]
  },
  {
   "cell_type": "markdown",
   "id": "7a2b7b36",
   "metadata": {},
   "source": [
    "## Tổng kết"
   ]
  },
  {
   "cell_type": "markdown",
   "id": "e4947930",
   "metadata": {},
   "source": [
    "### Võ Thành Nam\n",
    "\n",
    "1. Một số khó khăn gặp phải: \n",
    "    - Sử dụng github để làm việc nhóm (vì các đồ án trước đây chủ yếu làm cá nhân nên không dùng github).\n",
    "    - Gặp một số khó khăn khi chia việc vì tốc độ làm việc của mỗi người trong nhóm khác nhau.\n",
    "    - Phải tìm tòi một vài thư viện mới mà trên lớp chưa được dạy.\n",
    "2. Các bài học đã học được: \n",
    "    - Sử dụng thành thạo github (ở mức cơ bản).\n",
    "    - Tương đối thuần thục các thao tác tiền xử lí, khám phá dữ liệu, trả lời các câu hỏi từ dữ liệu.\n",
    "    - Nắm được những thư viện cơ bản phục vụ cho các thao tác với dữ liệu."
   ]
  },
  {
   "cell_type": "markdown",
   "id": "28b4cf38",
   "metadata": {},
   "source": [
    "### Phạm Lưu Mỹ Phúc \n",
    "\n",
    "1. Một số khó khăn gặp phải: \n",
    "    - Sử dụng github để làm việc nhóm vì chưa quen sử dụng github.\n",
    "    - Không dành nhiều thời gian cho đồ án vì là thời gian thi cuối kì.\n",
    "    - Tìm câu hỏi tốt để đưa ra câu trả lời từ dữ liệu.\n",
    "2. Các bài học đã học được: \n",
    "    - Biết dùng github ở mức cơ bản.\n",
    "    - Tương đối thuần thục các thao tác tiền xử lí, khám phá dữ liệu, trả lời các câu hỏi từ dữ liệu.\n",
    "    - Nắm được những thư viện cơ bản phục vụ cho các thao tác với dữ liệu.\n",
    "    - Học hỏi thêm thao tác tiền xử lý, khám phá dữ liệu và đặt câu hỏi từ các tài liệu tham khảo."
   ]
  },
  {
   "cell_type": "markdown",
   "id": "19bd52a3",
   "metadata": {},
   "source": [
    "### Với cả nhóm\n",
    "\n",
    "Nếu có thêm thời gian, nhóm sẽ:\n",
    "- Cố gắng khai thác thêm những thuộc tính trong dataset mà chưa được sử dụng trong các câu hỏi đã đề cập ở trên.\n",
    "- Khai thác các tập ngôn ngữ phổ biến thường được yêu cầu.\n",
    "- Có thể cố gắng xây dựng một mô hình Machine Learning đơn giản để gợi ý công ty cho những người cần tìm kiếm công việc dựa trên nhu cầu của họ."
   ]
  },
  {
   "cell_type": "markdown",
   "id": "4fa81af9",
   "metadata": {},
   "source": [
    "## Tài liệu tham khảo"
   ]
  },
  {
   "cell_type": "markdown",
   "id": "8131a6cf",
   "metadata": {},
   "source": [
    "1. [Một số thao tác tiền xử lí của các thành viên trên Kaggle](https://www.kaggle.com/andrewmvd/data-scientist-jobs/code).\n",
    "2. [Bảng chuyển đổi mã vùng USA](https://www.scouting.org/resources/los/states/).\n",
    "3. Slide và video bài giảng của giảng viên.\n",
    "4. Tham khảo một số công cụ/ngôn ngữ phổ biến: [Link 1](https://medium.com/javarevisited/best-11-data-science-programming-languages-in-2020-122a7ea2bb63), [Link 2](https://www.analyticsinsight.net/10-best-data-science-programming-languages-for-data-aspirants-in-2021/)\n"
   ]
  }
 ],
 "metadata": {
  "kernelspec": {
   "display_name": "Python 3 (ipykernel)",
   "language": "python",
   "name": "python3"
  },
  "language_info": {
   "codemirror_mode": {
    "name": "ipython",
    "version": 3
   },
   "file_extension": ".py",
   "mimetype": "text/x-python",
   "name": "python",
   "nbconvert_exporter": "python",
   "pygments_lexer": "ipython3",
   "version": "3.8.8"
  },
  "toc": {
   "base_numbering": 1,
   "nav_menu": {
    "height": "88px",
    "width": "160px"
   },
   "number_sections": true,
   "sideBar": true,
   "skip_h1_title": true,
   "title_cell": "Table of Contents",
   "title_sidebar": "Contents",
   "toc_cell": false,
   "toc_position": {
    "height": "calc(100% - 180px)",
    "left": "10px",
    "top": "150px",
    "width": "355.817px"
   },
   "toc_section_display": true,
   "toc_window_display": false
  }
 },
 "nbformat": 4,
 "nbformat_minor": 5
}

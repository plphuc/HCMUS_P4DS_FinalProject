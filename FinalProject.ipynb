{
 "cells": [
  {
   "cell_type": "markdown",
   "id": "5a042a36",
   "metadata": {},
   "source": [
    "# Đồ án cuối kì Lập trình cho khoa học dữ liệu\n"
   ]
  },
  {
   "cell_type": "markdown",
   "id": "b2409499",
   "metadata": {},
   "source": [
    "## Thành viên nhóm"
   ]
  },
  {
   "cell_type": "markdown",
   "id": "c5ac6e19",
   "metadata": {},
   "source": [
    "\n",
    "| |Họ và tên|MSSV|\n",
    "|:--:|:--|:--:|\n",
    "|1|Võ Thành Nam|19120301|\n",
    "|2|Phạm Lưu Mỹ Phúc|19120331|"
   ]
  },
  {
   "cell_type": "markdown",
   "id": "f0104328",
   "metadata": {},
   "source": [
    "## Môi trường code"
   ]
  },
  {
   "cell_type": "code",
   "execution_count": 1,
   "id": "04412bd4",
   "metadata": {},
   "outputs": [
    {
     "data": {
      "text/plain": [
       "'/home/poreooo/anaconda3/envs/min_ds-env/bin/python'"
      ]
     },
     "execution_count": 1,
     "metadata": {},
     "output_type": "execute_result"
    }
   ],
   "source": [
    "import sys\n",
    "sys.executable"
   ]
  },
  {
   "cell_type": "markdown",
   "id": "cbedd2a7",
   "metadata": {},
   "source": [
    "## Tổng quan về dữ liệu sẽ được dùng để phân tích\n",
    "\n",
    "Bộ dữ liệu được sử dụng là file `DataScientist.csv`. Đây là dữ liệu nằm trong một bộ dữ liệu gồm nhiều file khác về thông tin tuyển dụng của những ngành nghề liên quan đến Data. \n",
    "- Bộ dữ liệu được tác giả *picklesueat* lấy từ trang web https://www.glassdoor.com/ (một trang web tìm kiếm việc làm), sử dụng công cụ `selenium`. \n",
    "- Bộ dữ liệu đã được tác giả public tại [Github](https://github.com/picklesueat/data_jobs_data) và được reup tại [Kaggle](https://www.kaggle.com/andrewmvd/data-scientist-jobs).\n",
    "- Về license của dữ liệu, tác giả không đề cập cụ thể mà cho phép mọi người có thể tải xuống tùy ý.\n",
    "- File dữ liệu `DataScientist.csv` là file dữ liệu về thông tin tuyển dụng của nghề Data Scientist bao gồm tên vị trí tuyển dụng, mức lương, tên công ty,..."
   ]
  },
  {
   "cell_type": "markdown",
   "id": "e1cf1f2b",
   "metadata": {},
   "source": [
    "## Import các thư viện cần thiết"
   ]
  },
  {
   "cell_type": "code",
   "execution_count": 2,
   "id": "387a3692",
   "metadata": {},
   "outputs": [],
   "source": [
    "import pandas as pd\n",
    "import numpy as np\n",
    "import re\n",
    "import matplotlib.pyplot as plt\n",
    "import math "
   ]
  },
  {
   "cell_type": "markdown",
   "id": "1585c084",
   "metadata": {},
   "source": [
    "## Khám phá dữ liệu"
   ]
  },
  {
   "cell_type": "markdown",
   "id": "e0d809c3",
   "metadata": {},
   "source": [
    "### Đọc dữ liệu vào từ file csv vào dataframe"
   ]
  },
  {
   "cell_type": "code",
   "execution_count": 3,
   "id": "0180dbbe",
   "metadata": {},
   "outputs": [
    {
     "data": {
      "text/html": [
       "<div>\n",
       "<style scoped>\n",
       "    .dataframe tbody tr th:only-of-type {\n",
       "        vertical-align: middle;\n",
       "    }\n",
       "\n",
       "    .dataframe tbody tr th {\n",
       "        vertical-align: top;\n",
       "    }\n",
       "\n",
       "    .dataframe thead th {\n",
       "        text-align: right;\n",
       "    }\n",
       "</style>\n",
       "<table border=\"1\" class=\"dataframe\">\n",
       "  <thead>\n",
       "    <tr style=\"text-align: right;\">\n",
       "      <th></th>\n",
       "      <th>Unnamed: 0</th>\n",
       "      <th>index</th>\n",
       "      <th>Job Title</th>\n",
       "      <th>Salary Estimate</th>\n",
       "      <th>Job Description</th>\n",
       "      <th>Rating</th>\n",
       "      <th>Company Name</th>\n",
       "      <th>Location</th>\n",
       "      <th>Headquarters</th>\n",
       "      <th>Size</th>\n",
       "      <th>Founded</th>\n",
       "      <th>Type of ownership</th>\n",
       "      <th>Industry</th>\n",
       "      <th>Sector</th>\n",
       "      <th>Revenue</th>\n",
       "      <th>Competitors</th>\n",
       "      <th>Easy Apply</th>\n",
       "    </tr>\n",
       "  </thead>\n",
       "  <tbody>\n",
       "    <tr>\n",
       "      <th>0</th>\n",
       "      <td>0</td>\n",
       "      <td>0</td>\n",
       "      <td>Senior Data Scientist</td>\n",
       "      <td>$111K-$181K (Glassdoor est.)</td>\n",
       "      <td>ABOUT HOPPER\\n\\nAt Hopper, we’re on a mission ...</td>\n",
       "      <td>3.5</td>\n",
       "      <td>Hopper\\n3.5</td>\n",
       "      <td>New York, NY</td>\n",
       "      <td>Montreal, Canada</td>\n",
       "      <td>501 to 1000 employees</td>\n",
       "      <td>2007</td>\n",
       "      <td>Company - Private</td>\n",
       "      <td>Travel Agencies</td>\n",
       "      <td>Travel &amp; Tourism</td>\n",
       "      <td>Unknown / Non-Applicable</td>\n",
       "      <td>-1</td>\n",
       "      <td>-1</td>\n",
       "    </tr>\n",
       "    <tr>\n",
       "      <th>1</th>\n",
       "      <td>1</td>\n",
       "      <td>1</td>\n",
       "      <td>Data Scientist, Product Analytics</td>\n",
       "      <td>$111K-$181K (Glassdoor est.)</td>\n",
       "      <td>At Noom, we use scientifically proven methods ...</td>\n",
       "      <td>4.5</td>\n",
       "      <td>Noom US\\n4.5</td>\n",
       "      <td>New York, NY</td>\n",
       "      <td>New York, NY</td>\n",
       "      <td>1001 to 5000 employees</td>\n",
       "      <td>2008</td>\n",
       "      <td>Company - Private</td>\n",
       "      <td>Health, Beauty, &amp; Fitness</td>\n",
       "      <td>Consumer Services</td>\n",
       "      <td>Unknown / Non-Applicable</td>\n",
       "      <td>-1</td>\n",
       "      <td>-1</td>\n",
       "    </tr>\n",
       "    <tr>\n",
       "      <th>2</th>\n",
       "      <td>2</td>\n",
       "      <td>2</td>\n",
       "      <td>Data Science Manager</td>\n",
       "      <td>$111K-$181K (Glassdoor est.)</td>\n",
       "      <td>Decode_M\\n\\nhttps://www.decode-m.com/\\n\\nData ...</td>\n",
       "      <td>-1.0</td>\n",
       "      <td>Decode_M</td>\n",
       "      <td>New York, NY</td>\n",
       "      <td>New York, NY</td>\n",
       "      <td>1 to 50 employees</td>\n",
       "      <td>-1</td>\n",
       "      <td>Unknown</td>\n",
       "      <td>-1</td>\n",
       "      <td>-1</td>\n",
       "      <td>Unknown / Non-Applicable</td>\n",
       "      <td>-1</td>\n",
       "      <td>True</td>\n",
       "    </tr>\n",
       "    <tr>\n",
       "      <th>3</th>\n",
       "      <td>3</td>\n",
       "      <td>3</td>\n",
       "      <td>Data Analyst</td>\n",
       "      <td>$111K-$181K (Glassdoor est.)</td>\n",
       "      <td>Sapphire Digital seeks a dynamic and driven mi...</td>\n",
       "      <td>3.4</td>\n",
       "      <td>Sapphire Digital\\n3.4</td>\n",
       "      <td>Lyndhurst, NJ</td>\n",
       "      <td>Lyndhurst, NJ</td>\n",
       "      <td>201 to 500 employees</td>\n",
       "      <td>2019</td>\n",
       "      <td>Company - Private</td>\n",
       "      <td>Internet</td>\n",
       "      <td>Information Technology</td>\n",
       "      <td>Unknown / Non-Applicable</td>\n",
       "      <td>Zocdoc, Healthgrades</td>\n",
       "      <td>-1</td>\n",
       "    </tr>\n",
       "    <tr>\n",
       "      <th>4</th>\n",
       "      <td>4</td>\n",
       "      <td>4</td>\n",
       "      <td>Director, Data Science</td>\n",
       "      <td>$111K-$181K (Glassdoor est.)</td>\n",
       "      <td>Director, Data Science - (200537)\\nDescription...</td>\n",
       "      <td>3.4</td>\n",
       "      <td>United Entertainment Group\\n3.4</td>\n",
       "      <td>New York, NY</td>\n",
       "      <td>New York, NY</td>\n",
       "      <td>51 to 200 employees</td>\n",
       "      <td>2007</td>\n",
       "      <td>Company - Private</td>\n",
       "      <td>Advertising &amp; Marketing</td>\n",
       "      <td>Business Services</td>\n",
       "      <td>Unknown / Non-Applicable</td>\n",
       "      <td>BBDO, Grey Group, Droga5</td>\n",
       "      <td>-1</td>\n",
       "    </tr>\n",
       "  </tbody>\n",
       "</table>\n",
       "</div>"
      ],
      "text/plain": [
       "   Unnamed: 0  index                          Job Title  \\\n",
       "0           0      0              Senior Data Scientist   \n",
       "1           1      1  Data Scientist, Product Analytics   \n",
       "2           2      2               Data Science Manager   \n",
       "3           3      3                       Data Analyst   \n",
       "4           4      4             Director, Data Science   \n",
       "\n",
       "                Salary Estimate  \\\n",
       "0  $111K-$181K (Glassdoor est.)   \n",
       "1  $111K-$181K (Glassdoor est.)   \n",
       "2  $111K-$181K (Glassdoor est.)   \n",
       "3  $111K-$181K (Glassdoor est.)   \n",
       "4  $111K-$181K (Glassdoor est.)   \n",
       "\n",
       "                                     Job Description  Rating  \\\n",
       "0  ABOUT HOPPER\\n\\nAt Hopper, we’re on a mission ...     3.5   \n",
       "1  At Noom, we use scientifically proven methods ...     4.5   \n",
       "2  Decode_M\\n\\nhttps://www.decode-m.com/\\n\\nData ...    -1.0   \n",
       "3  Sapphire Digital seeks a dynamic and driven mi...     3.4   \n",
       "4  Director, Data Science - (200537)\\nDescription...     3.4   \n",
       "\n",
       "                      Company Name       Location      Headquarters  \\\n",
       "0                      Hopper\\n3.5   New York, NY  Montreal, Canada   \n",
       "1                     Noom US\\n4.5   New York, NY      New York, NY   \n",
       "2                         Decode_M   New York, NY      New York, NY   \n",
       "3            Sapphire Digital\\n3.4  Lyndhurst, NJ     Lyndhurst, NJ   \n",
       "4  United Entertainment Group\\n3.4   New York, NY      New York, NY   \n",
       "\n",
       "                     Size  Founded  Type of ownership  \\\n",
       "0   501 to 1000 employees     2007  Company - Private   \n",
       "1  1001 to 5000 employees     2008  Company - Private   \n",
       "2       1 to 50 employees       -1            Unknown   \n",
       "3    201 to 500 employees     2019  Company - Private   \n",
       "4     51 to 200 employees     2007  Company - Private   \n",
       "\n",
       "                    Industry                  Sector  \\\n",
       "0            Travel Agencies        Travel & Tourism   \n",
       "1  Health, Beauty, & Fitness       Consumer Services   \n",
       "2                         -1                      -1   \n",
       "3                   Internet  Information Technology   \n",
       "4    Advertising & Marketing       Business Services   \n",
       "\n",
       "                    Revenue               Competitors Easy Apply  \n",
       "0  Unknown / Non-Applicable                        -1         -1  \n",
       "1  Unknown / Non-Applicable                        -1         -1  \n",
       "2  Unknown / Non-Applicable                        -1       True  \n",
       "3  Unknown / Non-Applicable      Zocdoc, Healthgrades         -1  \n",
       "4  Unknown / Non-Applicable  BBDO, Grey Group, Droga5         -1  "
      ]
     },
     "execution_count": 3,
     "metadata": {},
     "output_type": "execute_result"
    }
   ],
   "source": [
    "ds_df = pd.read_csv('DataScientist.csv')\n",
    "ds_df.head()"
   ]
  },
  {
   "cell_type": "markdown",
   "id": "b2f74463",
   "metadata": {},
   "source": [
    "Đầu tiên, ta thấy dữ liệu có đến 2 cột index, ta sẽ không sử dụng 2 cột này, do đó sẽ loại bỏ 2 cột này đi."
   ]
  },
  {
   "cell_type": "code",
   "execution_count": 4,
   "id": "fc22b220",
   "metadata": {},
   "outputs": [
    {
     "data": {
      "text/html": [
       "<div>\n",
       "<style scoped>\n",
       "    .dataframe tbody tr th:only-of-type {\n",
       "        vertical-align: middle;\n",
       "    }\n",
       "\n",
       "    .dataframe tbody tr th {\n",
       "        vertical-align: top;\n",
       "    }\n",
       "\n",
       "    .dataframe thead th {\n",
       "        text-align: right;\n",
       "    }\n",
       "</style>\n",
       "<table border=\"1\" class=\"dataframe\">\n",
       "  <thead>\n",
       "    <tr style=\"text-align: right;\">\n",
       "      <th></th>\n",
       "      <th>Job Title</th>\n",
       "      <th>Salary Estimate</th>\n",
       "      <th>Job Description</th>\n",
       "      <th>Rating</th>\n",
       "      <th>Company Name</th>\n",
       "      <th>Location</th>\n",
       "      <th>Headquarters</th>\n",
       "      <th>Size</th>\n",
       "      <th>Founded</th>\n",
       "      <th>Type of ownership</th>\n",
       "      <th>Industry</th>\n",
       "      <th>Sector</th>\n",
       "      <th>Revenue</th>\n",
       "      <th>Competitors</th>\n",
       "      <th>Easy Apply</th>\n",
       "    </tr>\n",
       "  </thead>\n",
       "  <tbody>\n",
       "    <tr>\n",
       "      <th>0</th>\n",
       "      <td>Senior Data Scientist</td>\n",
       "      <td>$111K-$181K (Glassdoor est.)</td>\n",
       "      <td>ABOUT HOPPER\\n\\nAt Hopper, we’re on a mission ...</td>\n",
       "      <td>3.5</td>\n",
       "      <td>Hopper\\n3.5</td>\n",
       "      <td>New York, NY</td>\n",
       "      <td>Montreal, Canada</td>\n",
       "      <td>501 to 1000 employees</td>\n",
       "      <td>2007</td>\n",
       "      <td>Company - Private</td>\n",
       "      <td>Travel Agencies</td>\n",
       "      <td>Travel &amp; Tourism</td>\n",
       "      <td>Unknown / Non-Applicable</td>\n",
       "      <td>-1</td>\n",
       "      <td>-1</td>\n",
       "    </tr>\n",
       "    <tr>\n",
       "      <th>1</th>\n",
       "      <td>Data Scientist, Product Analytics</td>\n",
       "      <td>$111K-$181K (Glassdoor est.)</td>\n",
       "      <td>At Noom, we use scientifically proven methods ...</td>\n",
       "      <td>4.5</td>\n",
       "      <td>Noom US\\n4.5</td>\n",
       "      <td>New York, NY</td>\n",
       "      <td>New York, NY</td>\n",
       "      <td>1001 to 5000 employees</td>\n",
       "      <td>2008</td>\n",
       "      <td>Company - Private</td>\n",
       "      <td>Health, Beauty, &amp; Fitness</td>\n",
       "      <td>Consumer Services</td>\n",
       "      <td>Unknown / Non-Applicable</td>\n",
       "      <td>-1</td>\n",
       "      <td>-1</td>\n",
       "    </tr>\n",
       "    <tr>\n",
       "      <th>2</th>\n",
       "      <td>Data Science Manager</td>\n",
       "      <td>$111K-$181K (Glassdoor est.)</td>\n",
       "      <td>Decode_M\\n\\nhttps://www.decode-m.com/\\n\\nData ...</td>\n",
       "      <td>-1.0</td>\n",
       "      <td>Decode_M</td>\n",
       "      <td>New York, NY</td>\n",
       "      <td>New York, NY</td>\n",
       "      <td>1 to 50 employees</td>\n",
       "      <td>-1</td>\n",
       "      <td>Unknown</td>\n",
       "      <td>-1</td>\n",
       "      <td>-1</td>\n",
       "      <td>Unknown / Non-Applicable</td>\n",
       "      <td>-1</td>\n",
       "      <td>True</td>\n",
       "    </tr>\n",
       "    <tr>\n",
       "      <th>3</th>\n",
       "      <td>Data Analyst</td>\n",
       "      <td>$111K-$181K (Glassdoor est.)</td>\n",
       "      <td>Sapphire Digital seeks a dynamic and driven mi...</td>\n",
       "      <td>3.4</td>\n",
       "      <td>Sapphire Digital\\n3.4</td>\n",
       "      <td>Lyndhurst, NJ</td>\n",
       "      <td>Lyndhurst, NJ</td>\n",
       "      <td>201 to 500 employees</td>\n",
       "      <td>2019</td>\n",
       "      <td>Company - Private</td>\n",
       "      <td>Internet</td>\n",
       "      <td>Information Technology</td>\n",
       "      <td>Unknown / Non-Applicable</td>\n",
       "      <td>Zocdoc, Healthgrades</td>\n",
       "      <td>-1</td>\n",
       "    </tr>\n",
       "    <tr>\n",
       "      <th>4</th>\n",
       "      <td>Director, Data Science</td>\n",
       "      <td>$111K-$181K (Glassdoor est.)</td>\n",
       "      <td>Director, Data Science - (200537)\\nDescription...</td>\n",
       "      <td>3.4</td>\n",
       "      <td>United Entertainment Group\\n3.4</td>\n",
       "      <td>New York, NY</td>\n",
       "      <td>New York, NY</td>\n",
       "      <td>51 to 200 employees</td>\n",
       "      <td>2007</td>\n",
       "      <td>Company - Private</td>\n",
       "      <td>Advertising &amp; Marketing</td>\n",
       "      <td>Business Services</td>\n",
       "      <td>Unknown / Non-Applicable</td>\n",
       "      <td>BBDO, Grey Group, Droga5</td>\n",
       "      <td>-1</td>\n",
       "    </tr>\n",
       "  </tbody>\n",
       "</table>\n",
       "</div>"
      ],
      "text/plain": [
       "                           Job Title               Salary Estimate  \\\n",
       "0              Senior Data Scientist  $111K-$181K (Glassdoor est.)   \n",
       "1  Data Scientist, Product Analytics  $111K-$181K (Glassdoor est.)   \n",
       "2               Data Science Manager  $111K-$181K (Glassdoor est.)   \n",
       "3                       Data Analyst  $111K-$181K (Glassdoor est.)   \n",
       "4             Director, Data Science  $111K-$181K (Glassdoor est.)   \n",
       "\n",
       "                                     Job Description  Rating  \\\n",
       "0  ABOUT HOPPER\\n\\nAt Hopper, we’re on a mission ...     3.5   \n",
       "1  At Noom, we use scientifically proven methods ...     4.5   \n",
       "2  Decode_M\\n\\nhttps://www.decode-m.com/\\n\\nData ...    -1.0   \n",
       "3  Sapphire Digital seeks a dynamic and driven mi...     3.4   \n",
       "4  Director, Data Science - (200537)\\nDescription...     3.4   \n",
       "\n",
       "                      Company Name       Location      Headquarters  \\\n",
       "0                      Hopper\\n3.5   New York, NY  Montreal, Canada   \n",
       "1                     Noom US\\n4.5   New York, NY      New York, NY   \n",
       "2                         Decode_M   New York, NY      New York, NY   \n",
       "3            Sapphire Digital\\n3.4  Lyndhurst, NJ     Lyndhurst, NJ   \n",
       "4  United Entertainment Group\\n3.4   New York, NY      New York, NY   \n",
       "\n",
       "                     Size  Founded  Type of ownership  \\\n",
       "0   501 to 1000 employees     2007  Company - Private   \n",
       "1  1001 to 5000 employees     2008  Company - Private   \n",
       "2       1 to 50 employees       -1            Unknown   \n",
       "3    201 to 500 employees     2019  Company - Private   \n",
       "4     51 to 200 employees     2007  Company - Private   \n",
       "\n",
       "                    Industry                  Sector  \\\n",
       "0            Travel Agencies        Travel & Tourism   \n",
       "1  Health, Beauty, & Fitness       Consumer Services   \n",
       "2                         -1                      -1   \n",
       "3                   Internet  Information Technology   \n",
       "4    Advertising & Marketing       Business Services   \n",
       "\n",
       "                    Revenue               Competitors Easy Apply  \n",
       "0  Unknown / Non-Applicable                        -1         -1  \n",
       "1  Unknown / Non-Applicable                        -1         -1  \n",
       "2  Unknown / Non-Applicable                        -1       True  \n",
       "3  Unknown / Non-Applicable      Zocdoc, Healthgrades         -1  \n",
       "4  Unknown / Non-Applicable  BBDO, Grey Group, Droga5         -1  "
      ]
     },
     "execution_count": 4,
     "metadata": {},
     "output_type": "execute_result"
    }
   ],
   "source": [
    "ds_df.drop(columns = ['Unnamed: 0','index'],inplace = True)\n",
    "ds_df.head()"
   ]
  },
  {
   "cell_type": "markdown",
   "id": "2d47b4af",
   "metadata": {},
   "source": [
    "### Số lượng dòng và cột của dữ liệu"
   ]
  },
  {
   "cell_type": "code",
   "execution_count": 5,
   "id": "53fa7d1d",
   "metadata": {},
   "outputs": [
    {
     "name": "stdout",
     "output_type": "stream",
     "text": [
      "Number of rows: 3909\n",
      "Number of columns: 15\n"
     ]
    }
   ],
   "source": [
    "n_rows = ds_df.shape[0]\n",
    "n_cols = ds_df.shape[1]\n",
    "print(f'Number of rows: {n_rows}')\n",
    "print(f'Number of columns: {n_cols}')"
   ]
  },
  {
   "cell_type": "markdown",
   "id": "4b2a20b4",
   "metadata": {},
   "source": [
    "### Xét xem các dữ liệu có trùng nhau hay không"
   ]
  },
  {
   "cell_type": "code",
   "execution_count": 6,
   "id": "15808744",
   "metadata": {
    "scrolled": true
   },
   "outputs": [
    {
     "name": "stdout",
     "output_type": "stream",
     "text": [
      "Number of duplicated rows: 0\n"
     ]
    }
   ],
   "source": [
    "print(f'Number of duplicated rows: {sum(ds_df.duplicated())}')"
   ]
  },
  {
   "cell_type": "code",
   "execution_count": 7,
   "id": "db03993d",
   "metadata": {
    "scrolled": true
   },
   "outputs": [
    {
     "data": {
      "text/plain": [
       "Index(['Job Title', 'Salary Estimate', 'Job Description', 'Rating',\n",
       "       'Company Name', 'Location', 'Headquarters', 'Size', 'Founded',\n",
       "       'Type of ownership', 'Industry', 'Sector', 'Revenue', 'Competitors',\n",
       "       'Easy Apply'],\n",
       "      dtype='object')"
      ]
     },
     "execution_count": 7,
     "metadata": {},
     "output_type": "execute_result"
    }
   ],
   "source": [
    "ds_df.columns"
   ]
  },
  {
   "cell_type": "markdown",
   "id": "70191e56",
   "metadata": {},
   "source": [
    "### Ý nghĩa của các cột trong dataframe\n",
    "(Dựa theo mô tả tại trang web [Kaggle](https://www.kaggle.com/andrewmvd/data-scientist-jobs))\n",
    "\n",
    "- Job Title: tên vị trí tuyển dụng.\n",
    "- Salary Estimate: mức lương dự kiến.\n",
    "- Job Description: mô tả công việc.\n",
    "- Rating: điểm đánh giá.\n",
    "- Company Name: tên công ty.\n",
    "- Location: địa điểm làm việc.\n",
    "- Headquarters: trụ sở công ty.\n",
    "- Size: kích thước công ty (số lượng nhân viên).\n",
    "- Founded: năm thành lập công ty.\n",
    "- Type of ownership: loại hình sở hữu của công ty.\n",
    "- Industry: phân loại ngành của công ty.\n",
    "- Sector: lĩnh vực của công ty.\n",
    "- Revenue: doanh thu của công ty (theo năm).\n",
    "- Competitors: công ty đối thủ.\n",
    "- Easy Apply: công ty có dễ apply hay không."
   ]
  },
  {
   "cell_type": "markdown",
   "id": "c02c0086",
   "metadata": {},
   "source": [
    "### Sơ lược về dữ liệu trong các cột"
   ]
  },
  {
   "cell_type": "code",
   "execution_count": 8,
   "id": "48123959",
   "metadata": {},
   "outputs": [
    {
     "name": "stdout",
     "output_type": "stream",
     "text": [
      "<class 'pandas.core.frame.DataFrame'>\n",
      "RangeIndex: 3909 entries, 0 to 3908\n",
      "Data columns (total 15 columns):\n",
      " #   Column             Non-Null Count  Dtype  \n",
      "---  ------             --------------  -----  \n",
      " 0   Job Title          3909 non-null   object \n",
      " 1   Salary Estimate    3909 non-null   object \n",
      " 2   Job Description    3909 non-null   object \n",
      " 3   Rating             3909 non-null   float64\n",
      " 4   Company Name       3909 non-null   object \n",
      " 5   Location           3909 non-null   object \n",
      " 6   Headquarters       3909 non-null   object \n",
      " 7   Size               3909 non-null   object \n",
      " 8   Founded            3909 non-null   int64  \n",
      " 9   Type of ownership  3909 non-null   object \n",
      " 10  Industry           3909 non-null   object \n",
      " 11  Sector             3909 non-null   object \n",
      " 12  Revenue            3909 non-null   object \n",
      " 13  Competitors        3909 non-null   object \n",
      " 14  Easy Apply         3909 non-null   object \n",
      "dtypes: float64(1), int64(1), object(13)\n",
      "memory usage: 458.2+ KB\n"
     ]
    }
   ],
   "source": [
    "ds_df.info()"
   ]
  },
  {
   "cell_type": "markdown",
   "id": "a2554c54",
   "metadata": {},
   "source": [
    "### Nhận xét chung\n",
    "\n",
    "- Như ta có thể thấy, dữ liệu không có bất kì dòng nào thiếu hay trùng lắp. Tuy nhiên, khi quan sát bảng dữ liệu ở phía trên, có thế thấy tác giả đã thay thế các dữ liệu (có thể là bị thiếu) bằng giá trị -1.\n",
    "- Những cột đáng lẽ cần phải ở kiểu dữ liệu là số như `Salary Estimate`, `Size` thì lại có kiểu dữ liệu là object, ta cần phải xử lí những cột này.\n",
    "- Cột `Company Name` có vẻ bị lỗi khi thu thập dữ liệu (tên công ty gắn liền với rating)\n",
    "- Cột `Easy Apply` chỉ nên có giá trị `True` hoặc `False`.\n",
    "- ...\n",
    "Ta không quan sát được toàn bộ dữ liệu, do đó, ta sẽ phân tích và tiền xử lí cho từng cột trong phần tiền xử lí dữ liệu."
   ]
  },
  {
   "cell_type": "markdown",
   "id": "af4f1ee4",
   "metadata": {},
   "source": [
    "## Tiền xử lí dữ liệu"
   ]
  },
  {
   "cell_type": "markdown",
   "id": "203d5dbb",
   "metadata": {},
   "source": [
    "### Các giá trị của cột Job Title liệu đã đúng hay chưa?"
   ]
  },
  {
   "cell_type": "markdown",
   "id": "eadfd0c7",
   "metadata": {},
   "source": [
    "Trước tiên, ta quan sát 20 giá trị xuất hiện nhiều nhất và ít nhất "
   ]
  },
  {
   "cell_type": "code",
   "execution_count": 9,
   "id": "5fc91c47",
   "metadata": {},
   "outputs": [
    {
     "data": {
      "text/html": [
       "<div>\n",
       "<style scoped>\n",
       "    .dataframe tbody tr th:only-of-type {\n",
       "        vertical-align: middle;\n",
       "    }\n",
       "\n",
       "    .dataframe tbody tr th {\n",
       "        vertical-align: top;\n",
       "    }\n",
       "\n",
       "    .dataframe thead th {\n",
       "        text-align: right;\n",
       "    }\n",
       "</style>\n",
       "<table border=\"1\" class=\"dataframe\">\n",
       "  <thead>\n",
       "    <tr style=\"text-align: right;\">\n",
       "      <th></th>\n",
       "      <th>Job Title</th>\n",
       "      <th>count</th>\n",
       "      <th>Job Title</th>\n",
       "      <th>count</th>\n",
       "    </tr>\n",
       "  </thead>\n",
       "  <tbody>\n",
       "    <tr>\n",
       "      <th>0</th>\n",
       "      <td>Data Scientist</td>\n",
       "      <td>274</td>\n",
       "      <td>Lead Healthcare/Claims Data Scientist</td>\n",
       "      <td>1</td>\n",
       "    </tr>\n",
       "    <tr>\n",
       "      <th>1</th>\n",
       "      <td>Data Engineer</td>\n",
       "      <td>260</td>\n",
       "      <td>Applied Machine Learning Scientist</td>\n",
       "      <td>1</td>\n",
       "    </tr>\n",
       "    <tr>\n",
       "      <th>2</th>\n",
       "      <td>Data Analyst</td>\n",
       "      <td>246</td>\n",
       "      <td>Scientist III - IVD Product Development</td>\n",
       "      <td>1</td>\n",
       "    </tr>\n",
       "    <tr>\n",
       "      <th>3</th>\n",
       "      <td>Senior Data Scientist</td>\n",
       "      <td>91</td>\n",
       "      <td>Scientist II - Geologist</td>\n",
       "      <td>1</td>\n",
       "    </tr>\n",
       "    <tr>\n",
       "      <th>4</th>\n",
       "      <td>Senior Data Analyst</td>\n",
       "      <td>47</td>\n",
       "      <td>Data Analyst/Business Analyst with SQL</td>\n",
       "      <td>1</td>\n",
       "    </tr>\n",
       "    <tr>\n",
       "      <th>5</th>\n",
       "      <td>Machine Learning Engineer</td>\n",
       "      <td>47</td>\n",
       "      <td>IGNITE Graduate Development Program Applicatio...</td>\n",
       "      <td>1</td>\n",
       "    </tr>\n",
       "    <tr>\n",
       "      <th>6</th>\n",
       "      <td>Big Data Engineer</td>\n",
       "      <td>41</td>\n",
       "      <td>Data and Software Engineer</td>\n",
       "      <td>1</td>\n",
       "    </tr>\n",
       "    <tr>\n",
       "      <th>7</th>\n",
       "      <td>Business Intelligence Analyst</td>\n",
       "      <td>39</td>\n",
       "      <td>CIMD Technology - Data Engineer</td>\n",
       "      <td>1</td>\n",
       "    </tr>\n",
       "    <tr>\n",
       "      <th>8</th>\n",
       "      <td>Senior Data Engineer</td>\n",
       "      <td>37</td>\n",
       "      <td>Developer, Data Engineer Big Data</td>\n",
       "      <td>1</td>\n",
       "    </tr>\n",
       "    <tr>\n",
       "      <th>9</th>\n",
       "      <td>Sr. Data Scientist</td>\n",
       "      <td>23</td>\n",
       "      <td>Data Scientist, Disney+ Personalization</td>\n",
       "      <td>1</td>\n",
       "    </tr>\n",
       "    <tr>\n",
       "      <th>10</th>\n",
       "      <td>Lead Data Scientist</td>\n",
       "      <td>23</td>\n",
       "      <td>AI Insights Data Analyst</td>\n",
       "      <td>1</td>\n",
       "    </tr>\n",
       "    <tr>\n",
       "      <th>11</th>\n",
       "      <td>Research Scientist</td>\n",
       "      <td>22</td>\n",
       "      <td>Spark AWS Data Engineer</td>\n",
       "      <td>1</td>\n",
       "    </tr>\n",
       "    <tr>\n",
       "      <th>12</th>\n",
       "      <td>Data Modeler</td>\n",
       "      <td>17</td>\n",
       "      <td>Configuration Data Analyst, (Secret Clearance ...</td>\n",
       "      <td>1</td>\n",
       "    </tr>\n",
       "    <tr>\n",
       "      <th>13</th>\n",
       "      <td>Principal Data Scientist</td>\n",
       "      <td>15</td>\n",
       "      <td>Marketing Data Analyst Coordinator</td>\n",
       "      <td>1</td>\n",
       "    </tr>\n",
       "    <tr>\n",
       "      <th>14</th>\n",
       "      <td>Junior Data Analyst</td>\n",
       "      <td>15</td>\n",
       "      <td>Staff Environmental Scientist New</td>\n",
       "      <td>1</td>\n",
       "    </tr>\n",
       "    <tr>\n",
       "      <th>15</th>\n",
       "      <td>Statistician (Data Scientist) *12 month Roster...</td>\n",
       "      <td>14</td>\n",
       "      <td>Technology Data Engineer</td>\n",
       "      <td>1</td>\n",
       "    </tr>\n",
       "    <tr>\n",
       "      <th>16</th>\n",
       "      <td>Federal - Data Scientist</td>\n",
       "      <td>13</td>\n",
       "      <td>Data Scientist - Telecommute</td>\n",
       "      <td>1</td>\n",
       "    </tr>\n",
       "    <tr>\n",
       "      <th>17</th>\n",
       "      <td>Sr. Data Engineer</td>\n",
       "      <td>13</td>\n",
       "      <td>Data Analyst, Law Enforcement Response Team</td>\n",
       "      <td>1</td>\n",
       "    </tr>\n",
       "    <tr>\n",
       "      <th>18</th>\n",
       "      <td>Scientist</td>\n",
       "      <td>13</td>\n",
       "      <td>Associate Research Scientist</td>\n",
       "      <td>1</td>\n",
       "    </tr>\n",
       "    <tr>\n",
       "      <th>19</th>\n",
       "      <td>Sr. Data Analyst</td>\n",
       "      <td>11</td>\n",
       "      <td>DATA ENGINEER - DALLAS</td>\n",
       "      <td>1</td>\n",
       "    </tr>\n",
       "  </tbody>\n",
       "</table>\n",
       "</div>"
      ],
      "text/plain": [
       "                                            Job Title  count  \\\n",
       "0                                      Data Scientist    274   \n",
       "1                                       Data Engineer    260   \n",
       "2                                        Data Analyst    246   \n",
       "3                               Senior Data Scientist     91   \n",
       "4                                 Senior Data Analyst     47   \n",
       "5                           Machine Learning Engineer     47   \n",
       "6                                   Big Data Engineer     41   \n",
       "7                       Business Intelligence Analyst     39   \n",
       "8                                Senior Data Engineer     37   \n",
       "9                                  Sr. Data Scientist     23   \n",
       "10                                Lead Data Scientist     23   \n",
       "11                                 Research Scientist     22   \n",
       "12                                       Data Modeler     17   \n",
       "13                           Principal Data Scientist     15   \n",
       "14                                Junior Data Analyst     15   \n",
       "15  Statistician (Data Scientist) *12 month Roster...     14   \n",
       "16                           Federal - Data Scientist     13   \n",
       "17                                  Sr. Data Engineer     13   \n",
       "18                                          Scientist     13   \n",
       "19                                   Sr. Data Analyst     11   \n",
       "\n",
       "                                            Job Title  count  \n",
       "0               Lead Healthcare/Claims Data Scientist      1  \n",
       "1                  Applied Machine Learning Scientist      1  \n",
       "2             Scientist III - IVD Product Development      1  \n",
       "3                            Scientist II - Geologist      1  \n",
       "4              Data Analyst/Business Analyst with SQL      1  \n",
       "5   IGNITE Graduate Development Program Applicatio...      1  \n",
       "6                          Data and Software Engineer      1  \n",
       "7                     CIMD Technology - Data Engineer      1  \n",
       "8                   Developer, Data Engineer Big Data      1  \n",
       "9             Data Scientist, Disney+ Personalization      1  \n",
       "10                           AI Insights Data Analyst      1  \n",
       "11                            Spark AWS Data Engineer      1  \n",
       "12  Configuration Data Analyst, (Secret Clearance ...      1  \n",
       "13                 Marketing Data Analyst Coordinator      1  \n",
       "14                  Staff Environmental Scientist New      1  \n",
       "15                           Technology Data Engineer      1  \n",
       "16                       Data Scientist - Telecommute      1  \n",
       "17        Data Analyst, Law Enforcement Response Team      1  \n",
       "18                       Associate Research Scientist      1  \n",
       "19                             DATA ENGINEER - DALLAS      1  "
      ]
     },
     "execution_count": 9,
     "metadata": {},
     "output_type": "execute_result"
    }
   ],
   "source": [
    "job_title_first_20 = ds_df['Job Title'].value_counts()[:20].reset_index()\n",
    "job_title_last_20 = ds_df['Job Title'].value_counts()[-20:].reset_index()\n",
    "pd.concat([job_title_first_20,job_title_last_20],axis=1).rename(columns = {'Job Title':'count','index':'Job Title'})"
   ]
  },
  {
   "cell_type": "markdown",
   "id": "8217a782",
   "metadata": {},
   "source": [
    "Có thể thấy, thông tin Job Title được miêu tả khá \"lộn xộn\" có thể là: tuyển nhiều vị trí cùng lúc, ghi tên vị trí cùng thời gian làm việc. Do đó, ta sẽ xử lý để cột chỉ thể hiện một công việc chính (xem việc được nhắc đến đầu tiên là công việc chính). Ngoài ra, có vài vị trí là như nhau nhưng sử dụng thuật ngữ khác nhau (Sr., Senior) ta sẽ xử lý những giá trị này để chúng thể hiện cùng từ ngữ"
   ]
  },
  {
   "cell_type": "code",
   "execution_count": 10,
   "id": "1371de58",
   "metadata": {},
   "outputs": [
    {
     "data": {
      "text/plain": [
       "Data Scientist                                     357\n",
       "Data Engineer                                      290\n",
       "Data Analyst                                       278\n",
       "Senior Data Scientist                              105\n",
       "Data Scientist                                      71\n",
       "                                                  ... \n",
       "DALLAS Campus Recruiting 2018                        1\n",
       "Job Opening : Data Engineer (Python) @ Chandler      1\n",
       "Data Engineer Sr                                     1\n",
       "Big Data Machine Learning Engineer in Chicago        1\n",
       "Marketing Return Analytics Manager                   1\n",
       "Name: Job Title, Length: 1375, dtype: int64"
      ]
     },
     "execution_count": 10,
     "metadata": {},
     "output_type": "execute_result"
    }
   ],
   "source": [
    "ds_df['Job Title'] = ds_df['Job Title'].apply(lambda x:''.join(re.compile(\"[,*\\/-]\").split(x)[:1]))\n",
    "ds_df['Job Title'].value_counts()"
   ]
  },
  {
   "cell_type": "code",
   "execution_count": 11,
   "id": "5dc1b87f",
   "metadata": {},
   "outputs": [],
   "source": [
    "ds_df['Job Title'] = ds_df['Job Title'].str.replace('Sr.','Senior',regex=False)\n",
    "ds_df['Job Title'] = ds_df['Job Title'].str.replace('Jr.','Junior',regex=False)"
   ]
  },
  {
   "cell_type": "markdown",
   "id": "5c97879b",
   "metadata": {},
   "source": [
    "### Tiền xử lý cột Salary Estimate\n"
   ]
  },
  {
   "cell_type": "markdown",
   "id": "6eb1fe90",
   "metadata": {},
   "source": [
    "Cột này bao gồm các giá trị là khoảng ước tính, do đó ta sẽ tách thành 2 cột min và max."
   ]
  },
  {
   "cell_type": "code",
   "execution_count": 12,
   "id": "682e2b39",
   "metadata": {},
   "outputs": [],
   "source": [
    "def split_to_minmax(s):\n",
    "    value_range = [int(d) for d in re.findall(r'\\d+',s)]\n",
    "    return value_range\n",
    "ds_df[['SalaryMin','SalaryMax']] = pd.DataFrame(ds_df['Salary Estimate'].apply(split_to_minmax).to_list())\n",
    "ds_df.drop(columns=['Salary Estimate'],inplace = True)"
   ]
  },
  {
   "cell_type": "markdown",
   "id": "87ae77e0",
   "metadata": {},
   "source": [
    "### Tiền xử lý cột Rating"
   ]
  },
  {
   "cell_type": "code",
   "execution_count": 13,
   "id": "472aa6ff",
   "metadata": {
    "scrolled": true
   },
   "outputs": [
    {
     "data": {
      "text/plain": [
       "-1.0    409\n",
       " 3.9    302\n",
       " 3.7    290\n",
       " 4.1    272\n",
       " 3.6    252\n",
       " 3.8    238\n",
       " 4.0    200\n",
       " 3.4    185\n",
       " 3.5    176\n",
       " 5.0    160\n",
       " 3.3    154\n",
       " 4.2    154\n",
       " 3.2    136\n",
       " 4.3    119\n",
       " 3.1    113\n",
       " 4.5    108\n",
       " 4.4     76\n",
       " 4.6     74\n",
       " 3.0     65\n",
       " 2.9     63\n",
       " 4.7     59\n",
       " 2.8     58\n",
       " 4.9     45\n",
       " 4.8     42\n",
       " 2.5     33\n",
       " 2.7     29\n",
       " 2.6     27\n",
       " 2.4     20\n",
       " 1.0     10\n",
       " 2.3     10\n",
       " 2.2      9\n",
       " 1.6      9\n",
       " 2.0      4\n",
       " 2.1      3\n",
       " 1.9      3\n",
       " 1.7      1\n",
       " 1.5      1\n",
       "Name: Rating, dtype: int64"
      ]
     },
     "execution_count": 13,
     "metadata": {},
     "output_type": "execute_result"
    }
   ],
   "source": [
    "ds_df['Rating'].value_counts()"
   ]
  },
  {
   "cell_type": "markdown",
   "id": "3b36ceed",
   "metadata": {},
   "source": [
    "Cột `Rating` có khá nhiều giá trị thiếu được đánh dấu bằng giá trị `-1`. Ta sẽ thay thế các giá trị này bằng trung bình của các giá trị còn lại."
   ]
  },
  {
   "cell_type": "code",
   "execution_count": 14,
   "id": "1e6d02c0",
   "metadata": {},
   "outputs": [],
   "source": [
    "ds_df['Rating'].replace(-1,np.nan,inplace = True)\n",
    "mean = ds_df['Rating'].mean(skipna = True).round(1)\n",
    "ds_df['Rating'].replace(np.nan,mean,inplace = True)"
   ]
  },
  {
   "cell_type": "markdown",
   "id": "7fb01039",
   "metadata": {},
   "source": [
    "### Loại bỏ rating trong Company name"
   ]
  },
  {
   "cell_type": "markdown",
   "id": "86e3b2e4",
   "metadata": {},
   "source": [
    "Như đã nói ở phần Khám phá dữ liệu, cột `Company Name` đã bị lỗi khi thu thập dữ liệu (tên công ty gắn liền với rating). Vì đã có cột `Rating` nên ta sẽ thực hiện xóa phần rating bị thừa trong cột này."
   ]
  },
  {
   "cell_type": "code",
   "execution_count": 15,
   "id": "01912a9b",
   "metadata": {},
   "outputs": [],
   "source": [
    "ds_df['Company Name'] = ds_df['Company Name'].apply(lambda x:x.split('\\n')[0])"
   ]
  },
  {
   "cell_type": "markdown",
   "id": "66f8c03d",
   "metadata": {},
   "source": [
    "### Tiền xử lý cột Location và loại bỏ missing value"
   ]
  },
  {
   "cell_type": "code",
   "execution_count": 16,
   "id": "64cd9efa",
   "metadata": {},
   "outputs": [],
   "source": [
    "ds_df['Location'].replace('-1',np.nan,inplace = True)"
   ]
  },
  {
   "cell_type": "code",
   "execution_count": 17,
   "id": "4dbd86be",
   "metadata": {},
   "outputs": [
    {
     "data": {
      "text/plain": [
       "Austin, TX        345\n",
       "Chicago, IL       330\n",
       "San Diego, CA     304\n",
       "New York, NY      303\n",
       "Houston, TX       219\n",
       "                 ... \n",
       "Maywood, IL         1\n",
       "Fort Lee, NJ        1\n",
       "Cedar Park, TX      1\n",
       "Norristown, PA      1\n",
       "Lockbourne, OH      1\n",
       "Name: Location, Length: 191, dtype: int64"
      ]
     },
     "execution_count": 17,
     "metadata": {},
     "output_type": "execute_result"
    }
   ],
   "source": [
    "ds_df['Location'].value_counts()"
   ]
  },
  {
   "cell_type": "markdown",
   "id": "ee2c59e8",
   "metadata": {},
   "source": [
    "Trong cột `Location`, mỗi giá trị bao gồm tên thành phố và tên bang cách nhau bởi dấu `,`. Ta sẽ tách các giá trị này thành 2 cột là `City` và `State`."
   ]
  },
  {
   "cell_type": "code",
   "execution_count": 18,
   "id": "09ddb7e8",
   "metadata": {},
   "outputs": [],
   "source": [
    "ds_df[['City','State']] = ds_df['Location'].str.split(',',expand=True)\n",
    "ds_df.drop(columns = ['Location'], inplace = True)"
   ]
  },
  {
   "cell_type": "markdown",
   "id": "df9043c5",
   "metadata": {},
   "source": [
    "### Tách tên thành phố trong cột Headquarters và xử lý missing value"
   ]
  },
  {
   "cell_type": "code",
   "execution_count": 19,
   "id": "96d72ecb",
   "metadata": {},
   "outputs": [],
   "source": [
    "ds_df['Headquarters'].replace('-1',np.nan,inplace = True)\n"
   ]
  },
  {
   "cell_type": "code",
   "execution_count": 20,
   "id": "20a92fa7",
   "metadata": {},
   "outputs": [
    {
     "data": {
      "text/html": [
       "<div>\n",
       "<style scoped>\n",
       "    .dataframe tbody tr th:only-of-type {\n",
       "        vertical-align: middle;\n",
       "    }\n",
       "\n",
       "    .dataframe tbody tr th {\n",
       "        vertical-align: top;\n",
       "    }\n",
       "\n",
       "    .dataframe thead th {\n",
       "        text-align: right;\n",
       "    }\n",
       "</style>\n",
       "<table border=\"1\" class=\"dataframe\">\n",
       "  <thead>\n",
       "    <tr style=\"text-align: right;\">\n",
       "      <th></th>\n",
       "      <th>0</th>\n",
       "      <th>1</th>\n",
       "      <th>2</th>\n",
       "    </tr>\n",
       "  </thead>\n",
       "  <tbody>\n",
       "    <tr>\n",
       "      <th>0</th>\n",
       "      <td>Montreal</td>\n",
       "      <td>Canada</td>\n",
       "      <td>None</td>\n",
       "    </tr>\n",
       "    <tr>\n",
       "      <th>1</th>\n",
       "      <td>New York</td>\n",
       "      <td>NY</td>\n",
       "      <td>None</td>\n",
       "    </tr>\n",
       "    <tr>\n",
       "      <th>2</th>\n",
       "      <td>New York</td>\n",
       "      <td>NY</td>\n",
       "      <td>None</td>\n",
       "    </tr>\n",
       "    <tr>\n",
       "      <th>3</th>\n",
       "      <td>Lyndhurst</td>\n",
       "      <td>NJ</td>\n",
       "      <td>None</td>\n",
       "    </tr>\n",
       "    <tr>\n",
       "      <th>4</th>\n",
       "      <td>New York</td>\n",
       "      <td>NY</td>\n",
       "      <td>None</td>\n",
       "    </tr>\n",
       "    <tr>\n",
       "      <th>...</th>\n",
       "      <td>...</td>\n",
       "      <td>...</td>\n",
       "      <td>...</td>\n",
       "    </tr>\n",
       "    <tr>\n",
       "      <th>3904</th>\n",
       "      <td>Irving</td>\n",
       "      <td>TX</td>\n",
       "      <td>None</td>\n",
       "    </tr>\n",
       "    <tr>\n",
       "      <th>3905</th>\n",
       "      <td>Woodridge</td>\n",
       "      <td>IL</td>\n",
       "      <td>None</td>\n",
       "    </tr>\n",
       "    <tr>\n",
       "      <th>3906</th>\n",
       "      <td>Irving</td>\n",
       "      <td>TX</td>\n",
       "      <td>None</td>\n",
       "    </tr>\n",
       "    <tr>\n",
       "      <th>3907</th>\n",
       "      <td>Omaha</td>\n",
       "      <td>NE</td>\n",
       "      <td>None</td>\n",
       "    </tr>\n",
       "    <tr>\n",
       "      <th>3908</th>\n",
       "      <td>Brussel</td>\n",
       "      <td>Belgium</td>\n",
       "      <td>None</td>\n",
       "    </tr>\n",
       "  </tbody>\n",
       "</table>\n",
       "<p>3909 rows × 3 columns</p>\n",
       "</div>"
      ],
      "text/plain": [
       "              0         1     2\n",
       "0      Montreal    Canada  None\n",
       "1      New York        NY  None\n",
       "2      New York        NY  None\n",
       "3     Lyndhurst        NJ  None\n",
       "4      New York        NY  None\n",
       "...         ...       ...   ...\n",
       "3904     Irving        TX  None\n",
       "3905  Woodridge        IL  None\n",
       "3906     Irving        TX  None\n",
       "3907      Omaha        NE  None\n",
       "3908    Brussel   Belgium  None\n",
       "\n",
       "[3909 rows x 3 columns]"
      ]
     },
     "execution_count": 20,
     "metadata": {},
     "output_type": "execute_result"
    }
   ],
   "source": [
    "headquarters_splited = ds_df['Headquarters'].str.split(',',expand=True)\n",
    "headquarters_splited"
   ]
  },
  {
   "cell_type": "markdown",
   "id": "64b86e3b",
   "metadata": {},
   "source": [
    "Một số công ty có định dạng `Headquarters` khác với công ty còn lại, ta sẽ xem xét và giải quyết các gái trị đặc biệt này."
   ]
  },
  {
   "cell_type": "code",
   "execution_count": 21,
   "id": "02e18ce6",
   "metadata": {},
   "outputs": [
    {
     "data": {
      "text/html": [
       "<div>\n",
       "<style scoped>\n",
       "    .dataframe tbody tr th:only-of-type {\n",
       "        vertical-align: middle;\n",
       "    }\n",
       "\n",
       "    .dataframe tbody tr th {\n",
       "        vertical-align: top;\n",
       "    }\n",
       "\n",
       "    .dataframe thead th {\n",
       "        text-align: right;\n",
       "    }\n",
       "</style>\n",
       "<table border=\"1\" class=\"dataframe\">\n",
       "  <thead>\n",
       "    <tr style=\"text-align: right;\">\n",
       "      <th></th>\n",
       "      <th>0</th>\n",
       "      <th>1</th>\n",
       "      <th>2</th>\n",
       "    </tr>\n",
       "  </thead>\n",
       "  <tbody>\n",
       "    <tr>\n",
       "      <th>142</th>\n",
       "      <td>New York</td>\n",
       "      <td>NY (US)</td>\n",
       "      <td>NY</td>\n",
       "    </tr>\n",
       "    <tr>\n",
       "      <th>303</th>\n",
       "      <td>New York</td>\n",
       "      <td>NY (US)</td>\n",
       "      <td>NY</td>\n",
       "    </tr>\n",
       "    <tr>\n",
       "      <th>1686</th>\n",
       "      <td>Philadelphia</td>\n",
       "      <td>PA (US)</td>\n",
       "      <td>PA</td>\n",
       "    </tr>\n",
       "    <tr>\n",
       "      <th>1751</th>\n",
       "      <td>Philadelphia</td>\n",
       "      <td>PA (US)</td>\n",
       "      <td>PA</td>\n",
       "    </tr>\n",
       "    <tr>\n",
       "      <th>1816</th>\n",
       "      <td>New York</td>\n",
       "      <td>NY (US)</td>\n",
       "      <td>NY</td>\n",
       "    </tr>\n",
       "    <tr>\n",
       "      <th>2118</th>\n",
       "      <td>San Marcos</td>\n",
       "      <td>CA (US)</td>\n",
       "      <td>CA</td>\n",
       "    </tr>\n",
       "  </tbody>\n",
       "</table>\n",
       "</div>"
      ],
      "text/plain": [
       "                 0         1    2\n",
       "142       New York   NY (US)   NY\n",
       "303       New York   NY (US)   NY\n",
       "1686  Philadelphia   PA (US)   PA\n",
       "1751  Philadelphia   PA (US)   PA\n",
       "1816      New York   NY (US)   NY\n",
       "2118    San Marcos   CA (US)   CA"
      ]
     },
     "execution_count": 21,
     "metadata": {},
     "output_type": "execute_result"
    }
   ],
   "source": [
    "headquarters_splited[~headquarters_splited[2].isnull()]"
   ]
  },
  {
   "cell_type": "markdown",
   "id": "0c45c4e0",
   "metadata": {},
   "source": [
    "Như vậy, các định dạng khác thường là do một số công ty ghi thêm quốc gia, ta sẽ loại bỏ các giá trị này."
   ]
  },
  {
   "cell_type": "code",
   "execution_count": 22,
   "id": "c66c5617",
   "metadata": {},
   "outputs": [],
   "source": [
    "headquarters_splited[1] = headquarters_splited[1].str.replace('\\(\\w*\\)','',regex=True) \n",
    "headquarters_splited.drop(columns=[2],inplace=True)"
   ]
  },
  {
   "cell_type": "code",
   "execution_count": 23,
   "id": "5856d3be",
   "metadata": {
    "scrolled": true
   },
   "outputs": [
    {
     "data": {
      "text/html": [
       "<div>\n",
       "<style scoped>\n",
       "    .dataframe tbody tr th:only-of-type {\n",
       "        vertical-align: middle;\n",
       "    }\n",
       "\n",
       "    .dataframe tbody tr th {\n",
       "        vertical-align: top;\n",
       "    }\n",
       "\n",
       "    .dataframe thead th {\n",
       "        text-align: right;\n",
       "    }\n",
       "</style>\n",
       "<table border=\"1\" class=\"dataframe\">\n",
       "  <thead>\n",
       "    <tr style=\"text-align: right;\">\n",
       "      <th></th>\n",
       "      <th>Job Title</th>\n",
       "      <th>Job Description</th>\n",
       "      <th>Rating</th>\n",
       "      <th>Company Name</th>\n",
       "      <th>Size</th>\n",
       "      <th>Founded</th>\n",
       "      <th>Type of ownership</th>\n",
       "      <th>Industry</th>\n",
       "      <th>Sector</th>\n",
       "      <th>Revenue</th>\n",
       "      <th>Competitors</th>\n",
       "      <th>Easy Apply</th>\n",
       "      <th>SalaryMin</th>\n",
       "      <th>SalaryMax</th>\n",
       "      <th>City</th>\n",
       "      <th>State</th>\n",
       "      <th>Headquarters_City</th>\n",
       "      <th>Headquarters_State/Country</th>\n",
       "    </tr>\n",
       "  </thead>\n",
       "  <tbody>\n",
       "    <tr>\n",
       "      <th>0</th>\n",
       "      <td>Senior Data Scientist</td>\n",
       "      <td>ABOUT HOPPER\\n\\nAt Hopper, we’re on a mission ...</td>\n",
       "      <td>3.5</td>\n",
       "      <td>Hopper</td>\n",
       "      <td>501 to 1000 employees</td>\n",
       "      <td>2007</td>\n",
       "      <td>Company - Private</td>\n",
       "      <td>Travel Agencies</td>\n",
       "      <td>Travel &amp; Tourism</td>\n",
       "      <td>Unknown / Non-Applicable</td>\n",
       "      <td>-1</td>\n",
       "      <td>-1</td>\n",
       "      <td>111</td>\n",
       "      <td>181</td>\n",
       "      <td>New York</td>\n",
       "      <td>NY</td>\n",
       "      <td>Montreal</td>\n",
       "      <td>Canada</td>\n",
       "    </tr>\n",
       "    <tr>\n",
       "      <th>1</th>\n",
       "      <td>Data Scientist</td>\n",
       "      <td>At Noom, we use scientifically proven methods ...</td>\n",
       "      <td>4.5</td>\n",
       "      <td>Noom US</td>\n",
       "      <td>1001 to 5000 employees</td>\n",
       "      <td>2008</td>\n",
       "      <td>Company - Private</td>\n",
       "      <td>Health, Beauty, &amp; Fitness</td>\n",
       "      <td>Consumer Services</td>\n",
       "      <td>Unknown / Non-Applicable</td>\n",
       "      <td>-1</td>\n",
       "      <td>-1</td>\n",
       "      <td>111</td>\n",
       "      <td>181</td>\n",
       "      <td>New York</td>\n",
       "      <td>NY</td>\n",
       "      <td>New York</td>\n",
       "      <td>NY</td>\n",
       "    </tr>\n",
       "    <tr>\n",
       "      <th>2</th>\n",
       "      <td>Data Science Manager</td>\n",
       "      <td>Decode_M\\n\\nhttps://www.decode-m.com/\\n\\nData ...</td>\n",
       "      <td>3.8</td>\n",
       "      <td>Decode_M</td>\n",
       "      <td>1 to 50 employees</td>\n",
       "      <td>-1</td>\n",
       "      <td>Unknown</td>\n",
       "      <td>-1</td>\n",
       "      <td>-1</td>\n",
       "      <td>Unknown / Non-Applicable</td>\n",
       "      <td>-1</td>\n",
       "      <td>True</td>\n",
       "      <td>111</td>\n",
       "      <td>181</td>\n",
       "      <td>New York</td>\n",
       "      <td>NY</td>\n",
       "      <td>New York</td>\n",
       "      <td>NY</td>\n",
       "    </tr>\n",
       "    <tr>\n",
       "      <th>3</th>\n",
       "      <td>Data Analyst</td>\n",
       "      <td>Sapphire Digital seeks a dynamic and driven mi...</td>\n",
       "      <td>3.4</td>\n",
       "      <td>Sapphire Digital</td>\n",
       "      <td>201 to 500 employees</td>\n",
       "      <td>2019</td>\n",
       "      <td>Company - Private</td>\n",
       "      <td>Internet</td>\n",
       "      <td>Information Technology</td>\n",
       "      <td>Unknown / Non-Applicable</td>\n",
       "      <td>Zocdoc, Healthgrades</td>\n",
       "      <td>-1</td>\n",
       "      <td>111</td>\n",
       "      <td>181</td>\n",
       "      <td>Lyndhurst</td>\n",
       "      <td>NJ</td>\n",
       "      <td>Lyndhurst</td>\n",
       "      <td>NJ</td>\n",
       "    </tr>\n",
       "    <tr>\n",
       "      <th>4</th>\n",
       "      <td>Director</td>\n",
       "      <td>Director, Data Science - (200537)\\nDescription...</td>\n",
       "      <td>3.4</td>\n",
       "      <td>United Entertainment Group</td>\n",
       "      <td>51 to 200 employees</td>\n",
       "      <td>2007</td>\n",
       "      <td>Company - Private</td>\n",
       "      <td>Advertising &amp; Marketing</td>\n",
       "      <td>Business Services</td>\n",
       "      <td>Unknown / Non-Applicable</td>\n",
       "      <td>BBDO, Grey Group, Droga5</td>\n",
       "      <td>-1</td>\n",
       "      <td>111</td>\n",
       "      <td>181</td>\n",
       "      <td>New York</td>\n",
       "      <td>NY</td>\n",
       "      <td>New York</td>\n",
       "      <td>NY</td>\n",
       "    </tr>\n",
       "    <tr>\n",
       "      <th>...</th>\n",
       "      <td>...</td>\n",
       "      <td>...</td>\n",
       "      <td>...</td>\n",
       "      <td>...</td>\n",
       "      <td>...</td>\n",
       "      <td>...</td>\n",
       "      <td>...</td>\n",
       "      <td>...</td>\n",
       "      <td>...</td>\n",
       "      <td>...</td>\n",
       "      <td>...</td>\n",
       "      <td>...</td>\n",
       "      <td>...</td>\n",
       "      <td>...</td>\n",
       "      <td>...</td>\n",
       "      <td>...</td>\n",
       "      <td>...</td>\n",
       "      <td>...</td>\n",
       "    </tr>\n",
       "    <tr>\n",
       "      <th>3904</th>\n",
       "      <td>AWS Data Engineer</td>\n",
       "      <td>About Us\\n\\nTachyon Technologies is a Digital ...</td>\n",
       "      <td>4.4</td>\n",
       "      <td>Tachyon Technologies</td>\n",
       "      <td>201 to 500 employees</td>\n",
       "      <td>2011</td>\n",
       "      <td>Company - Private</td>\n",
       "      <td>IT Services</td>\n",
       "      <td>Information Technology</td>\n",
       "      <td>$10 to $25 million (USD)</td>\n",
       "      <td>-1</td>\n",
       "      <td>-1</td>\n",
       "      <td>55</td>\n",
       "      <td>112</td>\n",
       "      <td>Dublin</td>\n",
       "      <td>OH</td>\n",
       "      <td>Irving</td>\n",
       "      <td>TX</td>\n",
       "    </tr>\n",
       "    <tr>\n",
       "      <th>3905</th>\n",
       "      <td>Data Analyst â Junior</td>\n",
       "      <td>Job description\\nInterpret data, analyze resul...</td>\n",
       "      <td>5.0</td>\n",
       "      <td>Staffigo Technical Services, LLC</td>\n",
       "      <td>51 to 200 employees</td>\n",
       "      <td>2008</td>\n",
       "      <td>Company - Private</td>\n",
       "      <td>IT Services</td>\n",
       "      <td>Information Technology</td>\n",
       "      <td>$50 to $100 million (USD)</td>\n",
       "      <td>-1</td>\n",
       "      <td>-1</td>\n",
       "      <td>55</td>\n",
       "      <td>112</td>\n",
       "      <td>Columbus</td>\n",
       "      <td>OH</td>\n",
       "      <td>Woodridge</td>\n",
       "      <td>IL</td>\n",
       "    </tr>\n",
       "    <tr>\n",
       "      <th>3906</th>\n",
       "      <td>Security Analytics Data Engineer</td>\n",
       "      <td>Job DescriptionThe Security Analytics Data Eng...</td>\n",
       "      <td>3.8</td>\n",
       "      <td>PDS Tech, Inc.</td>\n",
       "      <td>5001 to 10000 employees</td>\n",
       "      <td>1977</td>\n",
       "      <td>Company - Private</td>\n",
       "      <td>Staffing &amp; Outsourcing</td>\n",
       "      <td>Business Services</td>\n",
       "      <td>$100 to $500 million (USD)</td>\n",
       "      <td>-1</td>\n",
       "      <td>-1</td>\n",
       "      <td>55</td>\n",
       "      <td>112</td>\n",
       "      <td>Dublin</td>\n",
       "      <td>OH</td>\n",
       "      <td>Irving</td>\n",
       "      <td>TX</td>\n",
       "    </tr>\n",
       "    <tr>\n",
       "      <th>3907</th>\n",
       "      <td>Security Analytics Data Engineer</td>\n",
       "      <td>The Security Analytics Data Engineer will inte...</td>\n",
       "      <td>4.0</td>\n",
       "      <td>Data Resource Technologies</td>\n",
       "      <td>1 to 50 employees</td>\n",
       "      <td>-1</td>\n",
       "      <td>Company - Private</td>\n",
       "      <td>Accounting</td>\n",
       "      <td>Accounting &amp; Legal</td>\n",
       "      <td>Less than $1 million (USD)</td>\n",
       "      <td>-1</td>\n",
       "      <td>-1</td>\n",
       "      <td>55</td>\n",
       "      <td>112</td>\n",
       "      <td>Dublin</td>\n",
       "      <td>OH</td>\n",
       "      <td>Omaha</td>\n",
       "      <td>NE</td>\n",
       "    </tr>\n",
       "    <tr>\n",
       "      <th>3908</th>\n",
       "      <td>Patient Safety Physician or Safety Scientist</td>\n",
       "      <td>Help us transform patients' lives.\\nAt UCB, we...</td>\n",
       "      <td>3.7</td>\n",
       "      <td>UCB</td>\n",
       "      <td>5001 to 10000 employees</td>\n",
       "      <td>-1</td>\n",
       "      <td>Company - Public</td>\n",
       "      <td>Biotech &amp; Pharmaceuticals</td>\n",
       "      <td>Biotech &amp; Pharmaceuticals</td>\n",
       "      <td>$2 to $5 billion (USD)</td>\n",
       "      <td>AbbVie</td>\n",
       "      <td>-1</td>\n",
       "      <td>55</td>\n",
       "      <td>112</td>\n",
       "      <td>Slough</td>\n",
       "      <td>OH</td>\n",
       "      <td>Brussel</td>\n",
       "      <td>Belgium</td>\n",
       "    </tr>\n",
       "  </tbody>\n",
       "</table>\n",
       "<p>3909 rows × 18 columns</p>\n",
       "</div>"
      ],
      "text/plain": [
       "                                          Job Title  \\\n",
       "0                             Senior Data Scientist   \n",
       "1                                    Data Scientist   \n",
       "2                              Data Science Manager   \n",
       "3                                      Data Analyst   \n",
       "4                                          Director   \n",
       "...                                             ...   \n",
       "3904                              AWS Data Engineer   \n",
       "3905                          Data Analyst â Junior   \n",
       "3906               Security Analytics Data Engineer   \n",
       "3907               Security Analytics Data Engineer   \n",
       "3908  Patient Safety Physician or Safety Scientist    \n",
       "\n",
       "                                        Job Description  Rating  \\\n",
       "0     ABOUT HOPPER\\n\\nAt Hopper, we’re on a mission ...     3.5   \n",
       "1     At Noom, we use scientifically proven methods ...     4.5   \n",
       "2     Decode_M\\n\\nhttps://www.decode-m.com/\\n\\nData ...     3.8   \n",
       "3     Sapphire Digital seeks a dynamic and driven mi...     3.4   \n",
       "4     Director, Data Science - (200537)\\nDescription...     3.4   \n",
       "...                                                 ...     ...   \n",
       "3904  About Us\\n\\nTachyon Technologies is a Digital ...     4.4   \n",
       "3905  Job description\\nInterpret data, analyze resul...     5.0   \n",
       "3906  Job DescriptionThe Security Analytics Data Eng...     3.8   \n",
       "3907  The Security Analytics Data Engineer will inte...     4.0   \n",
       "3908  Help us transform patients' lives.\\nAt UCB, we...     3.7   \n",
       "\n",
       "                          Company Name                     Size  Founded  \\\n",
       "0                               Hopper    501 to 1000 employees     2007   \n",
       "1                              Noom US   1001 to 5000 employees     2008   \n",
       "2                             Decode_M        1 to 50 employees       -1   \n",
       "3                     Sapphire Digital     201 to 500 employees     2019   \n",
       "4           United Entertainment Group      51 to 200 employees     2007   \n",
       "...                                ...                      ...      ...   \n",
       "3904              Tachyon Technologies     201 to 500 employees     2011   \n",
       "3905  Staffigo Technical Services, LLC      51 to 200 employees     2008   \n",
       "3906                    PDS Tech, Inc.  5001 to 10000 employees     1977   \n",
       "3907        Data Resource Technologies        1 to 50 employees       -1   \n",
       "3908                               UCB  5001 to 10000 employees       -1   \n",
       "\n",
       "      Type of ownership                   Industry                     Sector  \\\n",
       "0     Company - Private            Travel Agencies           Travel & Tourism   \n",
       "1     Company - Private  Health, Beauty, & Fitness          Consumer Services   \n",
       "2               Unknown                         -1                         -1   \n",
       "3     Company - Private                   Internet     Information Technology   \n",
       "4     Company - Private    Advertising & Marketing          Business Services   \n",
       "...                 ...                        ...                        ...   \n",
       "3904  Company - Private                IT Services     Information Technology   \n",
       "3905  Company - Private                IT Services     Information Technology   \n",
       "3906  Company - Private     Staffing & Outsourcing          Business Services   \n",
       "3907  Company - Private                 Accounting         Accounting & Legal   \n",
       "3908   Company - Public  Biotech & Pharmaceuticals  Biotech & Pharmaceuticals   \n",
       "\n",
       "                         Revenue               Competitors Easy Apply  \\\n",
       "0       Unknown / Non-Applicable                        -1         -1   \n",
       "1       Unknown / Non-Applicable                        -1         -1   \n",
       "2       Unknown / Non-Applicable                        -1       True   \n",
       "3       Unknown / Non-Applicable      Zocdoc, Healthgrades         -1   \n",
       "4       Unknown / Non-Applicable  BBDO, Grey Group, Droga5         -1   \n",
       "...                          ...                       ...        ...   \n",
       "3904    $10 to $25 million (USD)                        -1         -1   \n",
       "3905   $50 to $100 million (USD)                        -1         -1   \n",
       "3906  $100 to $500 million (USD)                        -1         -1   \n",
       "3907  Less than $1 million (USD)                        -1         -1   \n",
       "3908      $2 to $5 billion (USD)                    AbbVie         -1   \n",
       "\n",
       "      SalaryMin  SalaryMax       City State Headquarters_City  \\\n",
       "0           111        181   New York    NY          Montreal   \n",
       "1           111        181   New York    NY          New York   \n",
       "2           111        181   New York    NY          New York   \n",
       "3           111        181  Lyndhurst    NJ         Lyndhurst   \n",
       "4           111        181   New York    NY          New York   \n",
       "...         ...        ...        ...   ...               ...   \n",
       "3904         55        112     Dublin    OH            Irving   \n",
       "3905         55        112   Columbus    OH         Woodridge   \n",
       "3906         55        112     Dublin    OH            Irving   \n",
       "3907         55        112     Dublin    OH             Omaha   \n",
       "3908         55        112     Slough    OH           Brussel   \n",
       "\n",
       "     Headquarters_State/Country  \n",
       "0                        Canada  \n",
       "1                            NY  \n",
       "2                            NY  \n",
       "3                            NJ  \n",
       "4                            NY  \n",
       "...                         ...  \n",
       "3904                         TX  \n",
       "3905                         IL  \n",
       "3906                         TX  \n",
       "3907                         NE  \n",
       "3908                    Belgium  \n",
       "\n",
       "[3909 rows x 18 columns]"
      ]
     },
     "execution_count": 23,
     "metadata": {},
     "output_type": "execute_result"
    }
   ],
   "source": [
    "ds_df[['Headquarters_City','Headquarters_State/Country']] = headquarters_splited\n",
    "ds_df.drop(columns=['Headquarters'],inplace = True)\n",
    "ds_df"
   ]
  },
  {
   "cell_type": "markdown",
   "id": "84ef87b5",
   "metadata": {},
   "source": [
    "### Tiền xử lý cột Size"
   ]
  },
  {
   "cell_type": "code",
   "execution_count": 24,
   "id": "e31302e9",
   "metadata": {},
   "outputs": [
    {
     "data": {
      "text/plain": [
       "10000+ employees           993\n",
       "51 to 200 employees        563\n",
       "1001 to 5000 employees     553\n",
       "1 to 50 employees          550\n",
       "201 to 500 employees       418\n",
       "501 to 1000 employees      307\n",
       "-1                         229\n",
       "5001 to 10000 employees    219\n",
       "Unknown                     77\n",
       "Name: Size, dtype: int64"
      ]
     },
     "execution_count": 24,
     "metadata": {},
     "output_type": "execute_result"
    }
   ],
   "source": [
    "ds_df['Size'].value_counts()\n"
   ]
  },
  {
   "cell_type": "markdown",
   "id": "a2cbc278",
   "metadata": {},
   "source": [
    "Cột `Size` gồm 3 kiểu thể hiện dữ liệu: gồm `-1` cho các giá trị thiếu, `Unknown` là các giá trị mà công ty không cung cấp và còn lại là các khoảng. Ta sẽ tiền xử lí cột này như sau:\n",
    "* Các giá trị `-1` và `Unknown` sẽ thay thế bằng giá trị `NaN`.\n",
    "* Các giá trị là các khoảng, ta sẽ chuyển thành giá trị trung bình, riêng khoảng lớn nhất sẽ dùng giá trị phân chia."
   ]
  },
  {
   "cell_type": "code",
   "execution_count": 25,
   "id": "c675d7ff",
   "metadata": {},
   "outputs": [
    {
     "data": {
      "text/plain": [
       "10000.0    993\n",
       "125.0      563\n",
       "3000.0     553\n",
       "25.0       550\n",
       "350.0      418\n",
       "750.0      307\n",
       "7500.0     219\n",
       "Name: Size, dtype: int64"
      ]
     },
     "execution_count": 25,
     "metadata": {},
     "output_type": "execute_result"
    }
   ],
   "source": [
    "def convert_to_mean(s):\n",
    "    if type(s) != str:\n",
    "        return\n",
    "    value_range = [int(d) for d in re.findall(r'\\d+',s)]\n",
    "    return math.floor(sum(value_range)/len(value_range))\n",
    "ds_df['Size'].replace('-1',np.nan,inplace = True)\n",
    "ds_df['Size'].replace('Unknown',np.nan,inplace = True)\n",
    "ds_df['Size']=ds_df['Size'].apply(convert_to_mean)\n",
    "ds_df['Size'].value_counts()"
   ]
  },
  {
   "cell_type": "markdown",
   "id": "59862b25",
   "metadata": {},
   "source": [
    "### Tiền xử lý cột Founded "
   ]
  },
  {
   "cell_type": "code",
   "execution_count": 26,
   "id": "fae750d5",
   "metadata": {},
   "outputs": [
    {
     "data": {
      "text/plain": [
       "-1       977\n",
       " 1625      2\n",
       " 1682      1\n",
       " 1740      9\n",
       " 1775     13\n",
       "        ... \n",
       " 2016     49\n",
       " 2017     40\n",
       " 2018     27\n",
       " 2019     14\n",
       " 2020      1\n",
       "Name: Founded, Length: 173, dtype: int64"
      ]
     },
     "execution_count": 26,
     "metadata": {},
     "output_type": "execute_result"
    }
   ],
   "source": [
    "ds_df['Founded'].value_counts().sort_index()"
   ]
  },
  {
   "cell_type": "markdown",
   "id": "c8c4f286",
   "metadata": {},
   "source": [
    "Cột `Founded` có khá nhiều giá trị thiếu, tác giả đã đánh dấu bằng giá trị `-1`. Ta không có cách nào để xác định năm thành lập của những công ty này. Do đó, để tiện cho việc tính toán các tác vụ về sau (tính giá trị thiếu,...), ta sẽ chuyển các giá trị `-1` về `NaN`."
   ]
  },
  {
   "cell_type": "code",
   "execution_count": 27,
   "id": "91351d28",
   "metadata": {
    "scrolled": false
   },
   "outputs": [
    {
     "data": {
      "text/plain": [
       "array([2007., 2008.,   nan, 2019., 1985., 1993., 2018., 2000., 2014.,\n",
       "       2011., 1999., 2001., 1998., 2005., 1943., 2012., 1923., 2003.,\n",
       "       2002., 2015., 2006., 2010., 1853., 1990., 1914., 2013., 2004.,\n",
       "       1799., 1935., 1995., 1994., 1988., 1917., 1947., 1981., 1940.,\n",
       "       1841., 2017., 1896., 2009., 1898., 1968., 1862., 1934., 1992.,\n",
       "       2016., 1984., 1987., 1966., 1976., 1871., 1625., 1997., 1967.,\n",
       "       1948., 1913., 1989., 1893., 1904., 1911., 1961., 1806., 1969.,\n",
       "       1945., 1784., 1857., 1971., 1852., 1922., 1851., 1956., 1906.,\n",
       "       1973., 1960., 1975., 1982., 1996., 1931., 1986., 1902., 1909.,\n",
       "       1880., 1946., 1970., 1979., 1977., 1965., 1954., 1850., 1980.,\n",
       "       1919., 1983., 1888., 1978., 1872., 1831., 1936., 1939., 1937.,\n",
       "       1928., 1991., 1929., 1944., 1901., 1974., 1925., 1817., 1963.,\n",
       "       1894., 1890., 1882., 1892., 1908., 1926., 1883., 1845., 1849.,\n",
       "       1918., 1900., 1889., 1837., 1930., 1877., 1910., 1962., 1955.,\n",
       "       1897., 1949., 1972., 1941., 1957., 1924., 1891., 1864., 1951.,\n",
       "       1847., 1775., 1843., 1855., 1740., 1792., 1830., 1887., 1682.,\n",
       "       1881., 1824., 1916., 1812., 1905., 1953., 1876., 1848., 1858.,\n",
       "       1958., 1938., 1868., 1781., 1895., 1869., 1921., 2020., 1865.,\n",
       "       1933., 1907., 1927., 1950., 1952., 1870., 1912., 1920., 1932.,\n",
       "       1803., 1866.])"
      ]
     },
     "execution_count": 27,
     "metadata": {},
     "output_type": "execute_result"
    }
   ],
   "source": [
    "ds_df['Founded'].replace(-1,np.nan,inplace = True)\n",
    "ds_df['Founded'].unique()"
   ]
  },
  {
   "cell_type": "markdown",
   "id": "90d1b50e",
   "metadata": {},
   "source": [
    "Quan sát cột `Founded` các giá trị còn lại đều đã chính xác. Kiểu dữ liệu `int64` đã phù hợp với ý nghĩa của cột là năm thành lập công ty."
   ]
  },
  {
   "cell_type": "markdown",
   "id": "bbf3bc74",
   "metadata": {},
   "source": [
    "### Tiền xử lý cột Industry "
   ]
  },
  {
   "cell_type": "code",
   "execution_count": 28,
   "id": "be823f31",
   "metadata": {
    "scrolled": true
   },
   "outputs": [
    {
     "data": {
      "text/plain": [
       "-1                                      546\n",
       "IT Services                             472\n",
       "Staffing & Outsourcing                  313\n",
       "Biotech & Pharmaceuticals               293\n",
       "Computer Hardware & Software            264\n",
       "                                       ... \n",
       "Beauty & Personal Accessories Stores      1\n",
       "Consumer Product Rental                   1\n",
       "Self-Storage Services                     1\n",
       "Home Furniture & Housewares Stores        1\n",
       "Museums, Zoos & Amusement Parks           1\n",
       "Name: Industry, Length: 96, dtype: int64"
      ]
     },
     "execution_count": 28,
     "metadata": {},
     "output_type": "execute_result"
    }
   ],
   "source": [
    "ds_df['Industry'].value_counts()"
   ]
  },
  {
   "cell_type": "markdown",
   "id": "00071465",
   "metadata": {},
   "source": [
    "Tương tự cột `Founded`, cột `Industry` cũng có các giá trị thiếu được đánh dấu bằng giá trị `-1`. Ta sẽ chuyển giá trị này thành `NaN`."
   ]
  },
  {
   "cell_type": "code",
   "execution_count": 29,
   "id": "9d8e46b8",
   "metadata": {},
   "outputs": [],
   "source": [
    "ds_df['Industry'].replace('-1',np.nan,inplace = True)"
   ]
  },
  {
   "cell_type": "markdown",
   "id": "21c46667",
   "metadata": {},
   "source": [
    "### Tiền xử lý cột Revenue "
   ]
  },
  {
   "cell_type": "code",
   "execution_count": 30,
   "id": "7022a529",
   "metadata": {},
   "outputs": [
    {
     "data": {
      "text/plain": [
       "Unknown / Non-Applicable            1163\n",
       "$10+ billion (USD)                   599\n",
       "$100 to $500 million (USD)           338\n",
       "-1                                   229\n",
       "$50 to $100 million (USD)            214\n",
       "$2 to $5 billion (USD)               211\n",
       "$10 to $25 million (USD)             191\n",
       "$1 to $2 billion (USD)               180\n",
       "$1 to $5 million (USD)               170\n",
       "$25 to $50 million (USD)             143\n",
       "$5 to $10 billion (USD)              133\n",
       "Less than $1 million (USD)           124\n",
       "$500 million to $1 billion (USD)     114\n",
       "$5 to $10 million (USD)              100\n",
       "Name: Revenue, dtype: int64"
      ]
     },
     "execution_count": 30,
     "metadata": {},
     "output_type": "execute_result"
    }
   ],
   "source": [
    "ds_df[\"Revenue\"].value_counts()"
   ]
  },
  {
   "cell_type": "markdown",
   "id": "d196e920",
   "metadata": {},
   "source": [
    "Như có thể quan sát, cột này có 3 kiểu thể hiện dữ liệu: giá trị thiếu đánh dấu bằng `-1`, giá trị `Unknown / Non-Applicable` và giá trị có định dạng là một khoảng ước lượng. Ta sẽ tiền xử lí cột này như sau:\n",
    "* Các dòng có giá trị `-1` hoặc `Unknown / Non-Applicable` sẽ chuyển thành dạng `NaN`.\n",
    "* Các dòng có giá trị là môt khoảng ước lượng sẽ chuyển thành giá trị trung bình của khoảng. Với 2 khoảng đầu cuối, ta sẽ mặc định thành giá trị phân chia của khoảng đó. Ngoài ra, các giá trị billion cũng sẽ được đổi thành million."
   ]
  },
  {
   "cell_type": "code",
   "execution_count": 31,
   "id": "b39ee458",
   "metadata": {},
   "outputs": [
    {
     "data": {
      "text/plain": [
       "0          NaN\n",
       "1          NaN\n",
       "2          NaN\n",
       "3          NaN\n",
       "4          NaN\n",
       "         ...  \n",
       "3904      17.5\n",
       "3905      75.0\n",
       "3906     300.0\n",
       "3907       1.0\n",
       "3908    3500.0\n",
       "Name: Revenue, Length: 3909, dtype: float64"
      ]
     },
     "execution_count": 31,
     "metadata": {},
     "output_type": "execute_result"
    }
   ],
   "source": [
    "def convert_to_num(s):\n",
    "    if type(s) != str:\n",
    "        return\n",
    "    if re.compile(r'\\$\\d+\\+ billion').match(s):\n",
    "        value_range = [int(d) for d in re.findall(r'\\d+',s)]\n",
    "        return sum(value_range)/len(value_range)*1000\n",
    "    elif re.compile(r'\\$\\d+ to \\$\\d+ billion').match(s):\n",
    "        value_range = [int(d) for d in re.findall(r'\\d+',s)]\n",
    "        return sum(value_range)/len(value_range)*1000\n",
    "    elif re.compile(r'\\$\\d+ million to \\$\\d+ billion').match(s):\n",
    "        match = re.compile(r'\\$(\\d+) million to \\$(\\d+) billion').match(s)\n",
    "        return (int(match.group(1))+int(match.group(2))*1000)/2\n",
    "    else:\n",
    "        value_range = [int(d) for d in re.findall(r'\\d+',s)]\n",
    "        return sum(value_range)/len(value_range)\n",
    "ds_df['Revenue'].replace('-1',np.nan,inplace = True)\n",
    "ds_df['Revenue'].replace('Unknown / Non-Applicable',np.nan,inplace = True)\n",
    "ds_df['Revenue'] = ds_df['Revenue'].apply(convert_to_num)\n",
    "ds_df['Revenue']"
   ]
  },
  {
   "cell_type": "markdown",
   "id": "53347d01",
   "metadata": {},
   "source": [
    "### Tiền xử lý cột Easy Apply"
   ]
  },
  {
   "cell_type": "code",
   "execution_count": 32,
   "id": "c1c0ad96",
   "metadata": {
    "scrolled": true
   },
   "outputs": [
    {
     "name": "stdout",
     "output_type": "stream",
     "text": [
      "object\n"
     ]
    },
    {
     "data": {
      "text/plain": [
       "-1      3745\n",
       "True     164\n",
       "Name: Easy Apply, dtype: int64"
      ]
     },
     "execution_count": 32,
     "metadata": {},
     "output_type": "execute_result"
    }
   ],
   "source": [
    "print(ds_df['Easy Apply'].dtype)\n",
    "ds_df[\"Easy Apply\"].value_counts()"
   ]
  },
  {
   "cell_type": "markdown",
   "id": "79303445",
   "metadata": {},
   "source": [
    "Cột `Easy Apply` hiện tại gồm 2 giá trị -1 và True. Vì cung cấp thông tin công ty có dễ apply hay không, cột nên mang giá trị `True` hoặc `False`. Do đó, ta thực hiện replace -1 bằng `False` và chuyển dtype của cột về đúng dạng `bool`"
   ]
  },
  {
   "cell_type": "code",
   "execution_count": 33,
   "id": "ee78f1c8",
   "metadata": {
    "scrolled": true
   },
   "outputs": [],
   "source": [
    "ds_df[\"Easy Apply\"] = ds_df[\"Easy Apply\"].replace('-1', False).astype(bool)"
   ]
  },
  {
   "cell_type": "markdown",
   "id": "7f167a6e",
   "metadata": {},
   "source": [
    "### Tiền xử lý các cột Type of ownership, Sector, Competitors"
   ]
  },
  {
   "cell_type": "code",
   "execution_count": 34,
   "id": "55cad6c0",
   "metadata": {},
   "outputs": [
    {
     "data": {
      "text/plain": [
       "array(['Company - Private', 'Unknown', 'Company - Public',\n",
       "       'Nonprofit Organization', '-1', 'Government', 'Hospital',\n",
       "       'Self-employed', 'Subsidiary or Business Segment', 'Contract',\n",
       "       'School / School District', 'Private Practice / Firm',\n",
       "       'College / University', 'Franchise', 'Other Organization'],\n",
       "      dtype=object)"
      ]
     },
     "execution_count": 34,
     "metadata": {},
     "output_type": "execute_result"
    }
   ],
   "source": [
    "ds_df['Type of ownership'].unique()"
   ]
  },
  {
   "cell_type": "code",
   "execution_count": 35,
   "id": "82bb1e70",
   "metadata": {},
   "outputs": [
    {
     "data": {
      "text/plain": [
       "array(['Travel & Tourism', 'Consumer Services', '-1',\n",
       "       'Information Technology', 'Business Services', 'Insurance',\n",
       "       'Finance', 'Retail', 'Media', 'Restaurants, Bars & Food Services',\n",
       "       'Agriculture & Forestry', 'Non-Profit', 'Education', 'Government',\n",
       "       'Health Care', 'Oil, Gas, Energy & Utilities',\n",
       "       'Accounting & Legal', 'Manufacturing', 'Real Estate',\n",
       "       'Biotech & Pharmaceuticals', 'Arts, Entertainment & Recreation',\n",
       "       'Aerospace & Defense', 'Construction, Repair & Maintenance',\n",
       "       'Transportation & Logistics', 'Telecommunications',\n",
       "       'Mining & Metals'], dtype=object)"
      ]
     },
     "execution_count": 35,
     "metadata": {},
     "output_type": "execute_result"
    }
   ],
   "source": [
    "ds_df['Sector'].unique()\n"
   ]
  },
  {
   "cell_type": "code",
   "execution_count": 36,
   "id": "1746621f",
   "metadata": {},
   "outputs": [
    {
     "data": {
      "text/plain": [
       "-1                                                                     2760\n",
       "Amazon, Accenture, Microsoft                                             61\n",
       "Google, Microsoft, Samsung Electronics                                   60\n",
       "Google, Microsoft, Walmart                                               47\n",
       "Google, Microsoft, Apple                                                 25\n",
       "                                                                       ... \n",
       "Raymond James Financial                                                   1\n",
       "CSC, OpSec Security Group                                                 1\n",
       "Flagship Cruises & Events, New York Water Taxi, Red and White Fleet       1\n",
       "NBCUniversal                                                              1\n",
       "Oracle, Salesforce, 24/7 Real Media                                       1\n",
       "Name: Competitors, Length: 422, dtype: int64"
      ]
     },
     "execution_count": 36,
     "metadata": {},
     "output_type": "execute_result"
    }
   ],
   "source": [
    "ds_df['Competitors'].value_counts()"
   ]
  },
  {
   "cell_type": "markdown",
   "id": "21615b5d",
   "metadata": {},
   "source": [
    "Quan sát 3 cột này thì có vẻ ở bước tiền xử lý này ta chỉ cần thay thế giá trị `-1` thành giá trị `NaN`"
   ]
  },
  {
   "cell_type": "code",
   "execution_count": 37,
   "id": "f973adbf",
   "metadata": {},
   "outputs": [],
   "source": [
    "ds_df[['Type of ownership','Sector','Competitors']] = ds_df[['Type of ownership','Sector','Competitors']].replace('-1',np.nan)"
   ]
  },
  {
   "cell_type": "markdown",
   "id": "b8b01c85",
   "metadata": {},
   "source": [
    "### Sau khi thực hiện xử lý các cột, ta kiểm tra lại xem dữ liệu đã có dạng thích hợp hay chưa"
   ]
  },
  {
   "cell_type": "code",
   "execution_count": 38,
   "id": "4bb851f3",
   "metadata": {},
   "outputs": [
    {
     "data": {
      "text/html": [
       "<div>\n",
       "<style scoped>\n",
       "    .dataframe tbody tr th:only-of-type {\n",
       "        vertical-align: middle;\n",
       "    }\n",
       "\n",
       "    .dataframe tbody tr th {\n",
       "        vertical-align: top;\n",
       "    }\n",
       "\n",
       "    .dataframe thead th {\n",
       "        text-align: right;\n",
       "    }\n",
       "</style>\n",
       "<table border=\"1\" class=\"dataframe\">\n",
       "  <thead>\n",
       "    <tr style=\"text-align: right;\">\n",
       "      <th></th>\n",
       "      <th>Rating</th>\n",
       "      <th>Size</th>\n",
       "      <th>Founded</th>\n",
       "      <th>Revenue</th>\n",
       "      <th>SalaryMin</th>\n",
       "      <th>SalaryMax</th>\n",
       "    </tr>\n",
       "  </thead>\n",
       "  <tbody>\n",
       "    <tr>\n",
       "      <th>count</th>\n",
       "      <td>3909.000000</td>\n",
       "      <td>3603.000000</td>\n",
       "      <td>2932.000000</td>\n",
       "      <td>2517.000000</td>\n",
       "      <td>3909.000000</td>\n",
       "      <td>3909.000000</td>\n",
       "    </tr>\n",
       "    <tr>\n",
       "      <th>mean</th>\n",
       "      <td>3.785802</td>\n",
       "      <td>3800.215099</td>\n",
       "      <td>1972.371419</td>\n",
       "      <td>3261.437823</td>\n",
       "      <td>81.910463</td>\n",
       "      <td>133.825019</td>\n",
       "    </tr>\n",
       "    <tr>\n",
       "      <th>std</th>\n",
       "      <td>0.581588</td>\n",
       "      <td>4241.317779</td>\n",
       "      <td>52.719618</td>\n",
       "      <td>4167.295702</td>\n",
       "      <td>34.310710</td>\n",
       "      <td>45.011236</td>\n",
       "    </tr>\n",
       "    <tr>\n",
       "      <th>min</th>\n",
       "      <td>1.000000</td>\n",
       "      <td>25.000000</td>\n",
       "      <td>1625.000000</td>\n",
       "      <td>1.000000</td>\n",
       "      <td>10.000000</td>\n",
       "      <td>26.000000</td>\n",
       "    </tr>\n",
       "    <tr>\n",
       "      <th>25%</th>\n",
       "      <td>3.500000</td>\n",
       "      <td>125.000000</td>\n",
       "      <td>1961.000000</td>\n",
       "      <td>37.500000</td>\n",
       "      <td>52.000000</td>\n",
       "      <td>97.000000</td>\n",
       "    </tr>\n",
       "    <tr>\n",
       "      <th>50%</th>\n",
       "      <td>3.800000</td>\n",
       "      <td>750.000000</td>\n",
       "      <td>1995.000000</td>\n",
       "      <td>300.000000</td>\n",
       "      <td>76.000000</td>\n",
       "      <td>129.000000</td>\n",
       "    </tr>\n",
       "    <tr>\n",
       "      <th>75%</th>\n",
       "      <td>4.100000</td>\n",
       "      <td>10000.000000</td>\n",
       "      <td>2006.000000</td>\n",
       "      <td>7500.000000</td>\n",
       "      <td>110.000000</td>\n",
       "      <td>165.000000</td>\n",
       "    </tr>\n",
       "    <tr>\n",
       "      <th>max</th>\n",
       "      <td>5.000000</td>\n",
       "      <td>10000.000000</td>\n",
       "      <td>2020.000000</td>\n",
       "      <td>10000.000000</td>\n",
       "      <td>200.000000</td>\n",
       "      <td>254.000000</td>\n",
       "    </tr>\n",
       "  </tbody>\n",
       "</table>\n",
       "</div>"
      ],
      "text/plain": [
       "            Rating          Size      Founded       Revenue    SalaryMin  \\\n",
       "count  3909.000000   3603.000000  2932.000000   2517.000000  3909.000000   \n",
       "mean      3.785802   3800.215099  1972.371419   3261.437823    81.910463   \n",
       "std       0.581588   4241.317779    52.719618   4167.295702    34.310710   \n",
       "min       1.000000     25.000000  1625.000000      1.000000    10.000000   \n",
       "25%       3.500000    125.000000  1961.000000     37.500000    52.000000   \n",
       "50%       3.800000    750.000000  1995.000000    300.000000    76.000000   \n",
       "75%       4.100000  10000.000000  2006.000000   7500.000000   110.000000   \n",
       "max       5.000000  10000.000000  2020.000000  10000.000000   200.000000   \n",
       "\n",
       "         SalaryMax  \n",
       "count  3909.000000  \n",
       "mean    133.825019  \n",
       "std      45.011236  \n",
       "min      26.000000  \n",
       "25%      97.000000  \n",
       "50%     129.000000  \n",
       "75%     165.000000  \n",
       "max     254.000000  "
      ]
     },
     "execution_count": 38,
     "metadata": {},
     "output_type": "execute_result"
    }
   ],
   "source": [
    "ds_df.describe()"
   ]
  },
  {
   "cell_type": "markdown",
   "id": "20473da8",
   "metadata": {},
   "source": [
    "Quan sát các cột dữ liệu dạng số thì có vẻ không có gì bất thường xuất hiện."
   ]
  },
  {
   "cell_type": "markdown",
   "id": "25eb7a9a",
   "metadata": {},
   "source": [
    "#### Tiếp theo ta kiểm tra xem `dtype` của các cột đã đúng chưa"
   ]
  },
  {
   "cell_type": "code",
   "execution_count": 39,
   "id": "38c3e6e2",
   "metadata": {},
   "outputs": [
    {
     "name": "stdout",
     "output_type": "stream",
     "text": [
      "<class 'pandas.core.frame.DataFrame'>\n",
      "RangeIndex: 3909 entries, 0 to 3908\n",
      "Data columns (total 18 columns):\n",
      " #   Column                      Non-Null Count  Dtype  \n",
      "---  ------                      --------------  -----  \n",
      " 0   Job Title                   3909 non-null   object \n",
      " 1   Job Description             3909 non-null   object \n",
      " 2   Rating                      3909 non-null   float64\n",
      " 3   Company Name                3909 non-null   object \n",
      " 4   Size                        3603 non-null   float64\n",
      " 5   Founded                     2932 non-null   float64\n",
      " 6   Type of ownership           3680 non-null   object \n",
      " 7   Industry                    3363 non-null   object \n",
      " 8   Sector                      3363 non-null   object \n",
      " 9   Revenue                     2517 non-null   float64\n",
      " 10  Competitors                 1149 non-null   object \n",
      " 11  Easy Apply                  3909 non-null   bool   \n",
      " 12  SalaryMin                   3909 non-null   int64  \n",
      " 13  SalaryMax                   3909 non-null   int64  \n",
      " 14  City                        3909 non-null   object \n",
      " 15  State                       3909 non-null   object \n",
      " 16  Headquarters_City           3669 non-null   object \n",
      " 17  Headquarters_State/Country  3669 non-null   object \n",
      "dtypes: bool(1), float64(4), int64(2), object(11)\n",
      "memory usage: 523.1+ KB\n"
     ]
    }
   ],
   "source": [
    "ds_df.info()"
   ]
  },
  {
   "cell_type": "markdown",
   "id": "5a1d9904",
   "metadata": {},
   "source": [
    "## Đưa ra các câu hỏi cần trả lời\n",
    "\n",
    "Câu 1\n",
    "\n",
    "Câu 2\n",
    "\n",
    "Câu 3"
   ]
  },
  {
   "cell_type": "markdown",
   "id": "db9bcade",
   "metadata": {},
   "source": [
    "### Câu hỏi 1:"
   ]
  },
  {
   "cell_type": "markdown",
   "id": "8a918609",
   "metadata": {},
   "source": [
    "### Câu hỏi 2: Vị trí Data Science mà các lĩnh vực mạnh có nhu cầu tuyển dụng cao? \n",
    "\n",
    "Việc xác định các vị trí Data Science có nhu cầu tuyển dụng cao sẽ giúp ta có cái nhìn về nhu cầu tuyển dụng lao động hiện nay. "
   ]
  },
  {
   "cell_type": "markdown",
   "id": "50f74a28",
   "metadata": {},
   "source": [
    "Đầu tiên, ta cần xác định lĩnh vực mạnh là gì? Ta sẽ xem lĩnh vực mạnh là các lĩnh vực mà có nhiều công ty thông báo tuyển dụng theo nhất (top 10 của cột `Sector`). Sau đó, dựa trên top 10 các lĩnh vực vừa xác định, ta sẽ đi tìm những vị trí Data Science mà các lĩnh vực này tuyển dụng nhiều.\n",
    "* Bước 1: Xác định lĩnh vực mạnh từ cột `Sector`.\n",
    "* Bước 2: Xử lý cột `Job Title`.\n",
    "* Bước 3: Trả lời câu hỏi đặt ra \" Vị trí Data Science mà các lĩnh vực mạnh có nhu cầu tuyển dụng cao? \""
   ]
  },
  {
   "cell_type": "markdown",
   "id": "3ffaa934",
   "metadata": {},
   "source": [
    "**Bước 1:** Xác định các lĩnh vực mạnh từ cột Sector"
   ]
  },
  {
   "cell_type": "code",
   "execution_count": 40,
   "id": "e9533f20",
   "metadata": {},
   "outputs": [
    {
     "name": "stdout",
     "output_type": "stream",
     "text": [
      "26\n"
     ]
    },
    {
     "data": {
      "text/plain": [
       "array(['Travel & Tourism', 'Consumer Services', nan,\n",
       "       'Information Technology', 'Business Services', 'Insurance',\n",
       "       'Finance', 'Retail', 'Media', 'Restaurants, Bars & Food Services',\n",
       "       'Agriculture & Forestry', 'Non-Profit', 'Education', 'Government',\n",
       "       'Health Care', 'Oil, Gas, Energy & Utilities',\n",
       "       'Accounting & Legal', 'Manufacturing', 'Real Estate',\n",
       "       'Biotech & Pharmaceuticals', 'Arts, Entertainment & Recreation',\n",
       "       'Aerospace & Defense', 'Construction, Repair & Maintenance',\n",
       "       'Transportation & Logistics', 'Telecommunications',\n",
       "       'Mining & Metals'], dtype=object)"
      ]
     },
     "execution_count": 40,
     "metadata": {},
     "output_type": "execute_result"
    }
   ],
   "source": [
    "print(len(ds_df['Sector'].unique()))\n",
    "ds_df['Sector'].unique()"
   ]
  },
  {
   "cell_type": "code",
   "execution_count": 41,
   "id": "88d1ba92",
   "metadata": {},
   "outputs": [
    {
     "data": {
      "text/plain": [
       "Information Technology                1124\n",
       "Business Services                      679\n",
       "Biotech & Pharmaceuticals              293\n",
       "Finance                                270\n",
       "Health Care                            197\n",
       "Insurance                              109\n",
       "Education                              101\n",
       "Manufacturing                           87\n",
       "Government                              82\n",
       "Media                                   75\n",
       "Retail                                  72\n",
       "Accounting & Legal                      71\n",
       "Aerospace & Defense                     37\n",
       "Oil, Gas, Energy & Utilities            34\n",
       "Telecommunications                      21\n",
       "Consumer Services                       20\n",
       "Non-Profit                              18\n",
       "Transportation & Logistics              16\n",
       "Construction, Repair & Maintenance      16\n",
       "Real Estate                             12\n",
       "Name: Sector, dtype: int64"
      ]
     },
     "execution_count": 41,
     "metadata": {},
     "output_type": "execute_result"
    }
   ],
   "source": [
    "top_10_sector = ds_df['Sector'].value_counts()[:20]\n",
    "top_10_sector"
   ]
  },
  {
   "cell_type": "code",
   "execution_count": 42,
   "id": "836241c4",
   "metadata": {},
   "outputs": [
    {
     "data": {
      "image/png": "[encoded data removed]",
      "text/plain": [
       "<Figure size 1080x504 with 1 Axes>"
      ]
     },
     "metadata": {
      "needs_background": "light"
     },
     "output_type": "display_data"
    }
   ],
   "source": [
    "top_10_sector.sort_values().plot.barh(figsize=(15, 7))\n",
    "plt.xlabel('Count')\n",
    "plt.ylabel('Sector')\n",
    "plt.title('Top 10 sector')\n",
    "plt.show();"
   ]
  },
  {
   "cell_type": "markdown",
   "id": "f80f9ef7",
   "metadata": {},
   "source": [
    "Qua biểu đồ trên, ta có thể đưa ra các nhận xét:\n",
    "* `Information Technology` là lĩnh vực có nhu cầu tuyển dụng cao nhất và lớn hơn rất nhiều so với các lĩnh vực còn lại (gần gấp đôi lĩnh vực thứ 2 là `Business Services`)\n",
    "\n",
    "* 26 lĩnh vực trong 3909 thông báo tuyển dụng đã cho thấy sự đa dạng về lĩnh vực trong Data Science. "
   ]
  },
  {
   "cell_type": "markdown",
   "id": "3b3e0486",
   "metadata": {},
   "source": [
    "**Bước 2:** Xử lý cột `Job Title`"
   ]
  },
  {
   "cell_type": "code",
   "execution_count": 43,
   "id": "cc3f59db",
   "metadata": {},
   "outputs": [
    {
     "data": {
      "text/html": [
       "<div>\n",
       "<style scoped>\n",
       "    .dataframe tbody tr th:only-of-type {\n",
       "        vertical-align: middle;\n",
       "    }\n",
       "\n",
       "    .dataframe tbody tr th {\n",
       "        vertical-align: top;\n",
       "    }\n",
       "\n",
       "    .dataframe thead th {\n",
       "        text-align: right;\n",
       "    }\n",
       "</style>\n",
       "<table border=\"1\" class=\"dataframe\">\n",
       "  <thead>\n",
       "    <tr style=\"text-align: right;\">\n",
       "      <th></th>\n",
       "      <th>Job Title</th>\n",
       "      <th>Sector</th>\n",
       "    </tr>\n",
       "  </thead>\n",
       "  <tbody>\n",
       "    <tr>\n",
       "      <th>1</th>\n",
       "      <td>Data Scientist</td>\n",
       "      <td>Consumer Services</td>\n",
       "    </tr>\n",
       "    <tr>\n",
       "      <th>3</th>\n",
       "      <td>Data Analyst</td>\n",
       "      <td>Information Technology</td>\n",
       "    </tr>\n",
       "    <tr>\n",
       "      <th>4</th>\n",
       "      <td>Director</td>\n",
       "      <td>Business Services</td>\n",
       "    </tr>\n",
       "    <tr>\n",
       "      <th>5</th>\n",
       "      <td>Data Scientist</td>\n",
       "      <td>Insurance</td>\n",
       "    </tr>\n",
       "    <tr>\n",
       "      <th>6</th>\n",
       "      <td>Quantitative Researcher</td>\n",
       "      <td>Finance</td>\n",
       "    </tr>\n",
       "    <tr>\n",
       "      <th>...</th>\n",
       "      <td>...</td>\n",
       "      <td>...</td>\n",
       "    </tr>\n",
       "    <tr>\n",
       "      <th>3904</th>\n",
       "      <td>AWS Data Engineer</td>\n",
       "      <td>Information Technology</td>\n",
       "    </tr>\n",
       "    <tr>\n",
       "      <th>3905</th>\n",
       "      <td>Data Analyst â Junior</td>\n",
       "      <td>Information Technology</td>\n",
       "    </tr>\n",
       "    <tr>\n",
       "      <th>3906</th>\n",
       "      <td>Security Analytics Data Engineer</td>\n",
       "      <td>Business Services</td>\n",
       "    </tr>\n",
       "    <tr>\n",
       "      <th>3907</th>\n",
       "      <td>Security Analytics Data Engineer</td>\n",
       "      <td>Accounting &amp; Legal</td>\n",
       "    </tr>\n",
       "    <tr>\n",
       "      <th>3908</th>\n",
       "      <td>Patient Safety Physician or Safety Scientist</td>\n",
       "      <td>Biotech &amp; Pharmaceuticals</td>\n",
       "    </tr>\n",
       "  </tbody>\n",
       "</table>\n",
       "<p>3334 rows × 2 columns</p>\n",
       "</div>"
      ],
      "text/plain": [
       "                                          Job Title                     Sector\n",
       "1                                    Data Scientist          Consumer Services\n",
       "3                                      Data Analyst     Information Technology\n",
       "4                                          Director          Business Services\n",
       "5                                    Data Scientist                  Insurance\n",
       "6                           Quantitative Researcher                    Finance\n",
       "...                                             ...                        ...\n",
       "3904                              AWS Data Engineer     Information Technology\n",
       "3905                          Data Analyst â Junior     Information Technology\n",
       "3906               Security Analytics Data Engineer          Business Services\n",
       "3907               Security Analytics Data Engineer         Accounting & Legal\n",
       "3908  Patient Safety Physician or Safety Scientist   Biotech & Pharmaceuticals\n",
       "\n",
       "[3334 rows x 2 columns]"
      ]
     },
     "execution_count": 43,
     "metadata": {},
     "output_type": "execute_result"
    }
   ],
   "source": [
    "Job_Sector_top_10 = ds_df.loc[ds_df['Sector'].isin(top_10_sector.index.to_list())][['Job Title', 'Sector']]\n",
    "Job_Sector_top_10 "
   ]
  },
  {
   "cell_type": "markdown",
   "id": "307fbf19",
   "metadata": {},
   "source": [
    "Xử lý cột `Sector`:\n",
    "* Ta thấy \"Senior\", \"Junior\", \"Sr\", \"Jr\" đều chỉ về kinh nghiệm của một người hơn là vị trí công việc. Vì thế, ta sẽ loại bỏ các cụm từ này trong cột `Job Title`.\n",
    "* Trong cột `Job Title` còn có giá trị số. Vì không thể xác định vị trí tuyển dụng thông qua các số này nên sẽ thực hiện loại bỏ chúng. \n",
    "* Ngoài ra, còn có một số dòng ghi các giá trị không thể hiện vị trí tuyển dụng như \"Big\", \"Wi\",... nhưng chỉ là thiểu số và ta cũng không thể tìm ra hết nên không thể xử lý tất cả dòng này."
   ]
  },
  {
   "cell_type": "code",
   "execution_count": 45,
   "id": "b3756159",
   "metadata": {},
   "outputs": [],
   "source": [
    "val_replace = [\"Senior \", \"Junior \", \"Sr \", \"Jr \"]\n",
    "def replace_val(x):\n",
    "    for val in val_replace:\n",
    "        if val in x:\n",
    "            x = x.replace(val, '')\n",
    "    return x.strip()\n",
    "Job_Sector_top_10['Job Title'] = Job_Sector_top_10['Job Title'].apply(lambda x: replace_val(x))"
   ]
  },
  {
   "cell_type": "code",
   "execution_count": 46,
   "id": "8552a39e",
   "metadata": {},
   "outputs": [],
   "source": [
    "Job_Sector_top_10.drop(Job_Sector_top_10[Job_Sector_top_10['Job Title'].apply(lambda x: x.isnumeric())].index, inplace=True)"
   ]
  },
  {
   "cell_type": "code",
   "execution_count": 47,
   "id": "d79eaf4f",
   "metadata": {
    "scrolled": true
   },
   "outputs": [
    {
     "data": {
      "text/plain": [
       "1057"
      ]
     },
     "execution_count": 47,
     "metadata": {},
     "output_type": "execute_result"
    }
   ],
   "source": [
    "len(Job_Sector_top_10['Job Title'].unique())"
   ]
  },
  {
   "cell_type": "code",
   "execution_count": 48,
   "id": "c85c3be2",
   "metadata": {
    "scrolled": false
   },
   "outputs": [
    {
     "data": {
      "image/png": "[encoded data removed]",
      "text/plain": [
       "<Figure size 432x288 with 1 Axes>"
      ]
     },
     "metadata": {
      "needs_background": "light"
     },
     "output_type": "display_data"
    }
   ],
   "source": [
    "jobTitle_top_10 = Job_Sector_top_10['Job Title'].value_counts()[:11]\n",
    "jobTitle_top_10 = {k: v for k, v in sorted(jobTitle_top_10.items(), key = lambda x: x[1])}\n",
    "plt.barh(list(jobTitle_top_10.keys()), list(jobTitle_top_10.values()))\n",
    "plt.xlabel('Count')\n",
    "plt.ylabel('Job Title')\n",
    "plt.title('Top 10 Job Title')\n",
    "plt.show();"
   ]
  },
  {
   "cell_type": "markdown",
   "id": "c2bc6efb",
   "metadata": {},
   "source": [
    "**Bước 3:** Trả lời câu hỏi và đưa ra nhận xét"
   ]
  },
  {
   "cell_type": "markdown",
   "id": "ce78ef59",
   "metadata": {},
   "source": [
    "Như vậy, ta có những đánh giá sau:\n",
    "* Các vị trí như Data Scientist, Data Analyst, Data Engineer là những vị trí đang có nhu cầu tuyển dụng rất lớn. \n",
    "* Có rất nhiều lĩnh vực cần vị trí liên quan tới Data Science từ Information Technology đến các ngành liên quan tới kinh tế như Business Services hay ngay cả các lĩnh vực như Health Care, Education, Government cũng đang có nhu cầu tuyển dụng.\n",
    "* Có hơn 1000 vị trí khác nhau trong 3334 thông báo tuyển dụng từ các công ty cho thấy vị trí mà Data Science có thể đảm nhiệm rất đa dạng."
   ]
  },
  {
   "cell_type": "markdown",
   "id": "af98443c",
   "metadata": {},
   "source": [
    "### Câu hỏi 3: Mức lương có liên quan tới size của công ty không?"
   ]
  },
  {
   "cell_type": "markdown",
   "id": "d1a13a91",
   "metadata": {},
   "source": [
    "Việc phân tích sự tương quan giữa mức lương với size của công ty sẽ giúp ta có cái nhìn về việc chi trả lương thưởng tại các công ty lớn, vừa và nhỏ. Qua đó, ta biết được liệu công ty càng lớn thì sự đãi ngộ với nhân viên (qua mức lương) sẽ càng cao hay không."
   ]
  },
  {
   "cell_type": "markdown",
   "id": "5d2d1391",
   "metadata": {},
   "source": [
    "Ta cần tiến hành một số thao tác xử lý trước khi trực quan hóa và tìm câu trả lời cho câu hỏi này.\n",
    "\n",
    "**Bước 1:** Phân loại kích thước công ty theo lớn, vừa và nhỏ.\n",
    "\n",
    "**Bước 2:** Xác định `mean`, `min`, `max`, `median` của `SalaryMin` và `SalaryMax` theo nhóm công ty. \n",
    "\n",
    "**Bước 3:** Trực quan hóa dữ liệu và đưa ra kết luận."
   ]
  },
  {
   "cell_type": "code",
   "execution_count": 54,
   "id": "1084644e",
   "metadata": {},
   "outputs": [
    {
     "data": {
      "text/plain": [
       "10000.0    993\n",
       "125.0      563\n",
       "3000.0     553\n",
       "25.0       550\n",
       "350.0      418\n",
       "750.0      307\n",
       "7500.0     219\n",
       "Name: Size, dtype: int64"
      ]
     },
     "execution_count": 54,
     "metadata": {},
     "output_type": "execute_result"
    }
   ],
   "source": [
    "ds_df['Size'].value_counts()"
   ]
  },
  {
   "cell_type": "markdown",
   "id": "c060b419",
   "metadata": {},
   "source": [
    "**Bước 1:** Phân loại kích thước công ty theo lớn, vừa và nhỏ.\n"
   ]
  },
  {
   "cell_type": "markdown",
   "id": "953a111a",
   "metadata": {},
   "source": [
    "Khá may mắn, size của công ty không có quá nhiều giá trị khác nhau gây khó quan sát. Ta có thể dễ dàng phân loại các công ty này thành 3 nhóm: 1. Lớn (= 10000), 2. Vừa (1000<= size <10000), 3. Nhỏ (<1000)."
   ]
  },
  {
   "cell_type": "code",
   "execution_count": 150,
   "id": "2623b61f",
   "metadata": {
    "scrolled": true
   },
   "outputs": [],
   "source": [
    "df = ds_df[[\"Size\", \"SalaryMin\", \"SalaryMax\"]].copy()\n",
    "df.loc[df.Size < 1000, 'Size'] = 3\n",
    "df.loc[(df.Size >= 1000) & (df.Size < 10000),'Size'] = 2\n",
    "df.loc[df.Size == 10000, 'Size'] = 1\n"
   ]
  },
  {
   "cell_type": "markdown",
   "id": "10accb57",
   "metadata": {},
   "source": [
    "**Bước 2:** Xác định `mean`, `min`, `max`, `median` của `SalaryMin` và `SalaryMax` theo nhóm công ty. \n"
   ]
  },
  {
   "cell_type": "code",
   "execution_count": 149,
   "id": "ee5754ee",
   "metadata": {},
   "outputs": [
    {
     "data": {
      "text/html": [
       "<div>\n",
       "<style scoped>\n",
       "    .dataframe tbody tr th:only-of-type {\n",
       "        vertical-align: middle;\n",
       "    }\n",
       "\n",
       "    .dataframe tbody tr th {\n",
       "        vertical-align: top;\n",
       "    }\n",
       "\n",
       "    .dataframe thead tr th {\n",
       "        text-align: left;\n",
       "    }\n",
       "\n",
       "    .dataframe thead tr:last-of-type th {\n",
       "        text-align: right;\n",
       "    }\n",
       "</style>\n",
       "<table border=\"1\" class=\"dataframe\">\n",
       "  <thead>\n",
       "    <tr>\n",
       "      <th></th>\n",
       "      <th colspan=\"5\" halign=\"left\">SalaryMin</th>\n",
       "      <th colspan=\"5\" halign=\"left\">SalaryMax</th>\n",
       "    </tr>\n",
       "    <tr>\n",
       "      <th></th>\n",
       "      <th>count</th>\n",
       "      <th>min</th>\n",
       "      <th>max</th>\n",
       "      <th>mean</th>\n",
       "      <th>median</th>\n",
       "      <th>count</th>\n",
       "      <th>min</th>\n",
       "      <th>max</th>\n",
       "      <th>mean</th>\n",
       "      <th>median</th>\n",
       "    </tr>\n",
       "    <tr>\n",
       "      <th>Size</th>\n",
       "      <th></th>\n",
       "      <th></th>\n",
       "      <th></th>\n",
       "      <th></th>\n",
       "      <th></th>\n",
       "      <th></th>\n",
       "      <th></th>\n",
       "      <th></th>\n",
       "      <th></th>\n",
       "      <th></th>\n",
       "    </tr>\n",
       "  </thead>\n",
       "  <tbody>\n",
       "    <tr>\n",
       "      <th>1.0</th>\n",
       "      <td>993</td>\n",
       "      <td>12</td>\n",
       "      <td>200</td>\n",
       "      <td>84.80</td>\n",
       "      <td>83</td>\n",
       "      <td>993</td>\n",
       "      <td>27</td>\n",
       "      <td>254</td>\n",
       "      <td>138.75</td>\n",
       "      <td>143</td>\n",
       "    </tr>\n",
       "    <tr>\n",
       "      <th>2.0</th>\n",
       "      <td>772</td>\n",
       "      <td>12</td>\n",
       "      <td>200</td>\n",
       "      <td>80.56</td>\n",
       "      <td>76</td>\n",
       "      <td>772</td>\n",
       "      <td>27</td>\n",
       "      <td>254</td>\n",
       "      <td>130.99</td>\n",
       "      <td>124</td>\n",
       "    </tr>\n",
       "    <tr>\n",
       "      <th>3.0</th>\n",
       "      <td>1838</td>\n",
       "      <td>10</td>\n",
       "      <td>200</td>\n",
       "      <td>81.33</td>\n",
       "      <td>76</td>\n",
       "      <td>1838</td>\n",
       "      <td>26</td>\n",
       "      <td>254</td>\n",
       "      <td>132.73</td>\n",
       "      <td>129</td>\n",
       "    </tr>\n",
       "  </tbody>\n",
       "</table>\n",
       "</div>"
      ],
      "text/plain": [
       "     SalaryMin                        SalaryMax                        \n",
       "         count min  max   mean median     count min  max    mean median\n",
       "Size                                                                   \n",
       "1.0        993  12  200  84.80     83       993  27  254  138.75    143\n",
       "2.0        772  12  200  80.56     76       772  27  254  130.99    124\n",
       "3.0       1838  10  200  81.33     76      1838  26  254  132.73    129"
      ]
     },
     "execution_count": 149,
     "metadata": {},
     "output_type": "execute_result"
    }
   ],
   "source": [
    "sdf = df.groupby(by = 'Size').agg(['count','min','max','mean', 'median']).round(2)\n",
    "sdf"
   ]
  },
  {
   "cell_type": "markdown",
   "id": "9cb58f99",
   "metadata": {},
   "source": [
    "Ta có thể rút ra nhận xét như sau: \n",
    "\n",
    "* Min Salary dao động từ 10 - 200 USD, Max Salary dao động từ 26 - 254 USD.\n",
    "\n",
    "* Mức lương giữa các công ty lớn, vừa và nhỏ không có sự chênh lệch quá nhiều.\n",
    "\n",
    "* Công ty nhỏ chiếm hơn phân nửa nhu cầu tuyển dụng."
   ]
  },
  {
   "cell_type": "code",
   "execution_count": 131,
   "id": "ad0fe075",
   "metadata": {},
   "outputs": [
    {
     "data": {
      "image/png": "[encoded data removed]",
      "text/plain": [
       "<Figure size 432x288 with 1 Axes>"
      ]
     },
     "metadata": {},
     "output_type": "display_data"
    }
   ],
   "source": [
    "fig1, ax1 = plt.subplots()\n",
    "colors = ['gold','lightcoral', 'lightskyblue']\n",
    "ax1.pie(df['Size'].value_counts().to_list(),\n",
    "        labels = ['Small', 'Medium', 'Big'], autopct = '%1.1f%%', colors = colors, shadow = True)\n",
    "plt.show()"
   ]
  },
  {
   "cell_type": "code",
   "execution_count": 148,
   "id": "af91fe0f",
   "metadata": {},
   "outputs": [
    {
     "data": {
      "image/png": "[encoded data removed]",
      "text/plain": [
       "<Figure size 432x288 with 1 Axes>"
      ]
     },
     "metadata": {
      "needs_background": "light"
     },
     "output_type": "display_data"
    }
   ],
   "source": [
    "x = np.arange(3)\n",
    "y1 = [sdf['SalaryMin']['min'][1],sdf['SalaryMin']['max'][1],sdf['SalaryMin']['mean'][1]]\n",
    "y2 = [sdf['SalaryMin']['min'][2],sdf['SalaryMin']['max'][2],sdf['SalaryMin']['mean'][2]]\n",
    "y3 = [sdf['SalaryMin']['min'][3],sdf['SalaryMin']['max'][3],sdf['SalaryMin']['mean'][3]]\n",
    "width = 0.2\n",
    "  \n",
    "# plot data in grouped manner of bar type\n",
    "plt.bar(x-0.2, y1, width, color='cyan')\n",
    "plt.bar(x, y2, width, color='orange')\n",
    "plt.bar(x+0.2, y3, width, color='green')\n",
    "plt.xticks(x, ['Min', 'Max', 'Mean'])\n",
    "plt.xlabel(\"Salary\")\n",
    "plt.ylabel(\"Values\")\n",
    "plt.legend([\"Big\", \"Medium\", \"Small\"])\n",
    "plt.show()"
   ]
  },
  {
   "cell_type": "markdown",
   "id": "49c52ced",
   "metadata": {},
   "source": [
    "Ta có thể rút ra các nhận xét sau:\n",
    "* Phần lớn công ty đang có nhu cầu tuyển dụng là công ty nhỏ.\n",
    "\n",
    "* Mức lương các công ty lớn có thể chi trả có phần nhỉnh hơn so với công ty tầm trung hay công ty nhỏ.\n",
    "\n",
    "* Mức lương thấp nhất nằm vào khoảng 10-12 (USD) và mức lương cao nhất nằm vào khoảng 254 USD.\n",
    "\n",
    "* Đối với Salary Min và Salary Max, các công ty có thể đưa ra mức giá chênh lệch nhau (trong mỗi cột) đến hơn 100 USD.\n",
    "\n",
    "Ta chưa thể rút ra kết luận công ty càng lớn sẽ đưa ra mức lương cao hơn vì số liệu phản ánh không quá rõ ràng hay có sự chênh lệch đủ lớn để có thể rút ra kết luận. Đa số công ty đều đưa ra mức giá tương đương với thị trường để có thể thu hút người lao động."
   ]
  },
  {
   "cell_type": "markdown",
   "id": "7a2b7b36",
   "metadata": {},
   "source": [
    "## Tổng kết"
   ]
  },
  {
   "cell_type": "markdown",
   "id": "4fa81af9",
   "metadata": {},
   "source": [
    "## Tài liệu tham khảo"
   ]
  }
 ],
 "metadata": {
  "kernelspec": {
   "display_name": "Python 3 (ipykernel)",
   "language": "python",
   "name": "python3"
  },
  "language_info": {
   "codemirror_mode": {
    "name": "ipython",
    "version": 3
   },
   "file_extension": ".py",
   "mimetype": "text/x-python",
   "name": "python",
   "nbconvert_exporter": "python",
   "pygments_lexer": "ipython3",
   "version": "3.8.8"
  }
 },
 "nbformat": 4,
 "nbformat_minor": 5
}

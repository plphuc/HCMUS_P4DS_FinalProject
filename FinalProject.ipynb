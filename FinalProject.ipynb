{
 "cells": [
  {
   "cell_type": "markdown",
   "id": "5a042a36",
   "metadata": {},
   "source": [
    "# Đồ án cuối kì Lập trình cho khoa học dữ liệu\n"
   ]
  },
  {
   "cell_type": "markdown",
   "id": "a1a29963",
   "metadata": {},
   "source": [
    "## Link đến github repo\n",
    "\n",
    "https://github.com/plphuc/HCMUS_P4DS_FinalProject.git"
   ]
  },
  {
   "cell_type": "markdown",
   "id": "b2409499",
   "metadata": {},
   "source": [
    "## Thành viên nhóm"
   ]
  },
  {
   "cell_type": "markdown",
   "id": "c5ac6e19",
   "metadata": {},
   "source": [
    "\n",
    "| |Họ và tên|MSSV|Github account|\n",
    "|:--:|:--|:--:|:--|\n",
    "|1|Võ Thành Nam|19120301|[thanhnam001](https://github.com/thanhnam001)|\n",
    "|2|Phạm Lưu Mỹ Phúc|19120331|[plphuc](https://github.com/plphuc)|"
   ]
  },
  {
   "cell_type": "markdown",
   "id": "f0104328",
   "metadata": {},
   "source": [
    "## Môi trường code"
   ]
  },
  {
   "cell_type": "code",
   "execution_count": 71,
   "id": "04412bd4",
   "metadata": {},
   "outputs": [
    {
     "data": {
      "text/plain": [
       "'/home/poreooo/anaconda3/envs/min_ds-env/bin/python'"
      ]
     },
     "execution_count": 71,
     "metadata": {},
     "output_type": "execute_result"
    }
   ],
   "source": [
    "import sys\n",
    "sys.executable"
   ]
  },
  {
   "cell_type": "markdown",
   "id": "cbedd2a7",
   "metadata": {},
   "source": [
    "## Tổng quan về dữ liệu sẽ được dùng để phân tích\n",
    "\n",
    "Bộ dữ liệu được sử dụng là file `DataScientist.csv`. Đây là dữ liệu nằm trong một bộ dữ liệu gồm nhiều file khác về thông tin tuyển dụng của những ngành nghề liên quan đến Data. \n",
    "- Bộ dữ liệu được tác giả *picklesueat* lấy từ trang web https://www.glassdoor.com/ (một trang web tìm kiếm việc làm), sử dụng công cụ `selenium`. \n",
    "- Bộ dữ liệu đã được tác giả public tại [Github](https://github.com/picklesueat/data_jobs_data) và được reup tại [Kaggle](https://www.kaggle.com/andrewmvd/data-scientist-jobs).\n",
    "- Về license của dữ liệu, chỉ có [MIT License](https://github.com/harshibar/5-python-projects/blob/master/LICENSE), tác giả cho phép mọi người có thể tải xuống tùy ý.\n",
    "- File dữ liệu `DataScientist.csv` là file dữ liệu về thông tin tuyển dụng của nghề Data Scientist bao gồm tên vị trí tuyển dụng, mức lương, tên công ty,..."
   ]
  },
  {
   "cell_type": "markdown",
   "id": "e1cf1f2b",
   "metadata": {},
   "source": [
    "## Import các thư viện cần thiết"
   ]
  },
  {
   "cell_type": "code",
   "execution_count": 72,
   "id": "387a3692",
   "metadata": {},
   "outputs": [],
   "source": [
    "import pandas as pd\n",
    "import numpy as np\n",
    "import re\n",
    "import matplotlib.pyplot as plt\n",
    "import math \n",
    "import seaborn as sns"
   ]
  },
  {
   "cell_type": "markdown",
   "id": "1585c084",
   "metadata": {},
   "source": [
    "## Khám phá dữ liệu (phần 1)"
   ]
  },
  {
   "cell_type": "markdown",
   "id": "e0d809c3",
   "metadata": {},
   "source": [
    "### Đọc dữ liệu vào từ file csv vào dataframe"
   ]
  },
  {
   "cell_type": "code",
   "execution_count": 73,
   "id": "0180dbbe",
   "metadata": {},
   "outputs": [
    {
     "data": {
      "text/html": [
       "<div>\n",
       "<style scoped>\n",
       "    .dataframe tbody tr th:only-of-type {\n",
       "        vertical-align: middle;\n",
       "    }\n",
       "\n",
       "    .dataframe tbody tr th {\n",
       "        vertical-align: top;\n",
       "    }\n",
       "\n",
       "    .dataframe thead th {\n",
       "        text-align: right;\n",
       "    }\n",
       "</style>\n",
       "<table border=\"1\" class=\"dataframe\">\n",
       "  <thead>\n",
       "    <tr style=\"text-align: right;\">\n",
       "      <th></th>\n",
       "      <th>Unnamed: 0</th>\n",
       "      <th>index</th>\n",
       "      <th>Job Title</th>\n",
       "      <th>Salary Estimate</th>\n",
       "      <th>Job Description</th>\n",
       "      <th>Rating</th>\n",
       "      <th>Company Name</th>\n",
       "      <th>Location</th>\n",
       "      <th>Headquarters</th>\n",
       "      <th>Size</th>\n",
       "      <th>Founded</th>\n",
       "      <th>Type of ownership</th>\n",
       "      <th>Industry</th>\n",
       "      <th>Sector</th>\n",
       "      <th>Revenue</th>\n",
       "      <th>Competitors</th>\n",
       "      <th>Easy Apply</th>\n",
       "    </tr>\n",
       "  </thead>\n",
       "  <tbody>\n",
       "    <tr>\n",
       "      <th>0</th>\n",
       "      <td>0</td>\n",
       "      <td>0</td>\n",
       "      <td>Senior Data Scientist</td>\n",
       "      <td>$111K-$181K (Glassdoor est.)</td>\n",
       "      <td>ABOUT HOPPER\\n\\nAt Hopper, we’re on a mission ...</td>\n",
       "      <td>3.5</td>\n",
       "      <td>Hopper\\n3.5</td>\n",
       "      <td>New York, NY</td>\n",
       "      <td>Montreal, Canada</td>\n",
       "      <td>501 to 1000 employees</td>\n",
       "      <td>2007</td>\n",
       "      <td>Company - Private</td>\n",
       "      <td>Travel Agencies</td>\n",
       "      <td>Travel &amp; Tourism</td>\n",
       "      <td>Unknown / Non-Applicable</td>\n",
       "      <td>-1</td>\n",
       "      <td>-1</td>\n",
       "    </tr>\n",
       "    <tr>\n",
       "      <th>1</th>\n",
       "      <td>1</td>\n",
       "      <td>1</td>\n",
       "      <td>Data Scientist, Product Analytics</td>\n",
       "      <td>$111K-$181K (Glassdoor est.)</td>\n",
       "      <td>At Noom, we use scientifically proven methods ...</td>\n",
       "      <td>4.5</td>\n",
       "      <td>Noom US\\n4.5</td>\n",
       "      <td>New York, NY</td>\n",
       "      <td>New York, NY</td>\n",
       "      <td>1001 to 5000 employees</td>\n",
       "      <td>2008</td>\n",
       "      <td>Company - Private</td>\n",
       "      <td>Health, Beauty, &amp; Fitness</td>\n",
       "      <td>Consumer Services</td>\n",
       "      <td>Unknown / Non-Applicable</td>\n",
       "      <td>-1</td>\n",
       "      <td>-1</td>\n",
       "    </tr>\n",
       "    <tr>\n",
       "      <th>2</th>\n",
       "      <td>2</td>\n",
       "      <td>2</td>\n",
       "      <td>Data Science Manager</td>\n",
       "      <td>$111K-$181K (Glassdoor est.)</td>\n",
       "      <td>Decode_M\\n\\nhttps://www.decode-m.com/\\n\\nData ...</td>\n",
       "      <td>-1.0</td>\n",
       "      <td>Decode_M</td>\n",
       "      <td>New York, NY</td>\n",
       "      <td>New York, NY</td>\n",
       "      <td>1 to 50 employees</td>\n",
       "      <td>-1</td>\n",
       "      <td>Unknown</td>\n",
       "      <td>-1</td>\n",
       "      <td>-1</td>\n",
       "      <td>Unknown / Non-Applicable</td>\n",
       "      <td>-1</td>\n",
       "      <td>True</td>\n",
       "    </tr>\n",
       "    <tr>\n",
       "      <th>3</th>\n",
       "      <td>3</td>\n",
       "      <td>3</td>\n",
       "      <td>Data Analyst</td>\n",
       "      <td>$111K-$181K (Glassdoor est.)</td>\n",
       "      <td>Sapphire Digital seeks a dynamic and driven mi...</td>\n",
       "      <td>3.4</td>\n",
       "      <td>Sapphire Digital\\n3.4</td>\n",
       "      <td>Lyndhurst, NJ</td>\n",
       "      <td>Lyndhurst, NJ</td>\n",
       "      <td>201 to 500 employees</td>\n",
       "      <td>2019</td>\n",
       "      <td>Company - Private</td>\n",
       "      <td>Internet</td>\n",
       "      <td>Information Technology</td>\n",
       "      <td>Unknown / Non-Applicable</td>\n",
       "      <td>Zocdoc, Healthgrades</td>\n",
       "      <td>-1</td>\n",
       "    </tr>\n",
       "    <tr>\n",
       "      <th>4</th>\n",
       "      <td>4</td>\n",
       "      <td>4</td>\n",
       "      <td>Director, Data Science</td>\n",
       "      <td>$111K-$181K (Glassdoor est.)</td>\n",
       "      <td>Director, Data Science - (200537)\\nDescription...</td>\n",
       "      <td>3.4</td>\n",
       "      <td>United Entertainment Group\\n3.4</td>\n",
       "      <td>New York, NY</td>\n",
       "      <td>New York, NY</td>\n",
       "      <td>51 to 200 employees</td>\n",
       "      <td>2007</td>\n",
       "      <td>Company - Private</td>\n",
       "      <td>Advertising &amp; Marketing</td>\n",
       "      <td>Business Services</td>\n",
       "      <td>Unknown / Non-Applicable</td>\n",
       "      <td>BBDO, Grey Group, Droga5</td>\n",
       "      <td>-1</td>\n",
       "    </tr>\n",
       "  </tbody>\n",
       "</table>\n",
       "</div>"
      ],
      "text/plain": [
       "   Unnamed: 0  index                          Job Title  \\\n",
       "0           0      0              Senior Data Scientist   \n",
       "1           1      1  Data Scientist, Product Analytics   \n",
       "2           2      2               Data Science Manager   \n",
       "3           3      3                       Data Analyst   \n",
       "4           4      4             Director, Data Science   \n",
       "\n",
       "                Salary Estimate  \\\n",
       "0  $111K-$181K (Glassdoor est.)   \n",
       "1  $111K-$181K (Glassdoor est.)   \n",
       "2  $111K-$181K (Glassdoor est.)   \n",
       "3  $111K-$181K (Glassdoor est.)   \n",
       "4  $111K-$181K (Glassdoor est.)   \n",
       "\n",
       "                                     Job Description  Rating  \\\n",
       "0  ABOUT HOPPER\\n\\nAt Hopper, we’re on a mission ...     3.5   \n",
       "1  At Noom, we use scientifically proven methods ...     4.5   \n",
       "2  Decode_M\\n\\nhttps://www.decode-m.com/\\n\\nData ...    -1.0   \n",
       "3  Sapphire Digital seeks a dynamic and driven mi...     3.4   \n",
       "4  Director, Data Science - (200537)\\nDescription...     3.4   \n",
       "\n",
       "                      Company Name       Location      Headquarters  \\\n",
       "0                      Hopper\\n3.5   New York, NY  Montreal, Canada   \n",
       "1                     Noom US\\n4.5   New York, NY      New York, NY   \n",
       "2                         Decode_M   New York, NY      New York, NY   \n",
       "3            Sapphire Digital\\n3.4  Lyndhurst, NJ     Lyndhurst, NJ   \n",
       "4  United Entertainment Group\\n3.4   New York, NY      New York, NY   \n",
       "\n",
       "                     Size  Founded  Type of ownership  \\\n",
       "0   501 to 1000 employees     2007  Company - Private   \n",
       "1  1001 to 5000 employees     2008  Company - Private   \n",
       "2       1 to 50 employees       -1            Unknown   \n",
       "3    201 to 500 employees     2019  Company - Private   \n",
       "4     51 to 200 employees     2007  Company - Private   \n",
       "\n",
       "                    Industry                  Sector  \\\n",
       "0            Travel Agencies        Travel & Tourism   \n",
       "1  Health, Beauty, & Fitness       Consumer Services   \n",
       "2                         -1                      -1   \n",
       "3                   Internet  Information Technology   \n",
       "4    Advertising & Marketing       Business Services   \n",
       "\n",
       "                    Revenue               Competitors Easy Apply  \n",
       "0  Unknown / Non-Applicable                        -1         -1  \n",
       "1  Unknown / Non-Applicable                        -1         -1  \n",
       "2  Unknown / Non-Applicable                        -1       True  \n",
       "3  Unknown / Non-Applicable      Zocdoc, Healthgrades         -1  \n",
       "4  Unknown / Non-Applicable  BBDO, Grey Group, Droga5         -1  "
      ]
     },
     "execution_count": 73,
     "metadata": {},
     "output_type": "execute_result"
    }
   ],
   "source": [
    "ds_df = pd.read_csv('DataScientist.csv')\n",
    "ds_df.head()"
   ]
  },
  {
   "cell_type": "markdown",
   "id": "b2f74463",
   "metadata": {},
   "source": [
    "Đầu tiên, ta thấy dữ liệu có đến 2 cột index, ta sẽ không sử dụng 2 cột này, do đó sẽ loại bỏ 2 cột này đi."
   ]
  },
  {
   "cell_type": "code",
   "execution_count": 74,
   "id": "fc22b220",
   "metadata": {},
   "outputs": [],
   "source": [
    "ds_df.drop(columns = ['Unnamed: 0','index'],inplace = True)"
   ]
  },
  {
   "cell_type": "markdown",
   "id": "2d47b4af",
   "metadata": {},
   "source": [
    "### Số lượng dòng và cột của dữ liệu"
   ]
  },
  {
   "cell_type": "code",
   "execution_count": 75,
   "id": "53fa7d1d",
   "metadata": {},
   "outputs": [
    {
     "name": "stdout",
     "output_type": "stream",
     "text": [
      "Number of rows: 3909\n",
      "Number of columns: 15\n"
     ]
    }
   ],
   "source": [
    "n_rows, n_cols = ds_df.shape\n",
    "print(f'Number of rows: {n_rows}')\n",
    "print(f'Number of columns: {n_cols}')"
   ]
  },
  {
   "cell_type": "markdown",
   "id": "4b2a20b4",
   "metadata": {},
   "source": [
    "### Xét xem các dữ liệu có trùng nhau hay không"
   ]
  },
  {
   "cell_type": "code",
   "execution_count": 76,
   "id": "15808744",
   "metadata": {},
   "outputs": [
    {
     "name": "stdout",
     "output_type": "stream",
     "text": [
      "Number of duplicated rows: 0\n"
     ]
    }
   ],
   "source": [
    "print(f'Number of duplicated rows: {sum(ds_df.duplicated())}')"
   ]
  },
  {
   "cell_type": "markdown",
   "id": "70191e56",
   "metadata": {},
   "source": [
    "### Ý nghĩa của các cột trong dataframe\n",
    "(Dựa theo mô tả tại trang web [Kaggle](https://www.kaggle.com/andrewmvd/data-scientist-jobs))\n",
    "\n",
    "- **Job Title:** tên vị trí tuyển dụng.\n",
    "- **Salary Estimate:** mức lương dự kiến.\n",
    "- **Job Description:** mô tả công việc.\n",
    "- **Rating:** điểm đánh giá của công ty.\n",
    "- **Company Name:** tên công ty.\n",
    "- **Location:** địa điểm làm việc.\n",
    "- **Headquarters:** trụ sở chính của công ty.\n",
    "- **Size:** kích thước công ty (số lượng nhân viên).\n",
    "- **Founded:** năm thành lập công ty.\n",
    "- **Type of ownership:** loại hình sở hữu của công ty.\n",
    "- **Industry:** phân loại công nghiệp của công ty.\n",
    "- **Sector:** phân loại ngành của công ty.\n",
    "- **Revenue:** doanh thu của công ty (theo năm).\n",
    "- **Competitors:** công ty đối thủ.\n",
    "- **Easy Apply:** công ty có dễ apply hay không."
   ]
  },
  {
   "cell_type": "markdown",
   "id": "c02c0086",
   "metadata": {},
   "source": [
    "### Sơ lược về dữ liệu trong các cột"
   ]
  },
  {
   "cell_type": "code",
   "execution_count": 77,
   "id": "48123959",
   "metadata": {},
   "outputs": [
    {
     "name": "stdout",
     "output_type": "stream",
     "text": [
      "<class 'pandas.core.frame.DataFrame'>\n",
      "RangeIndex: 3909 entries, 0 to 3908\n",
      "Data columns (total 15 columns):\n",
      " #   Column             Non-Null Count  Dtype  \n",
      "---  ------             --------------  -----  \n",
      " 0   Job Title          3909 non-null   object \n",
      " 1   Salary Estimate    3909 non-null   object \n",
      " 2   Job Description    3909 non-null   object \n",
      " 3   Rating             3909 non-null   float64\n",
      " 4   Company Name       3909 non-null   object \n",
      " 5   Location           3909 non-null   object \n",
      " 6   Headquarters       3909 non-null   object \n",
      " 7   Size               3909 non-null   object \n",
      " 8   Founded            3909 non-null   int64  \n",
      " 9   Type of ownership  3909 non-null   object \n",
      " 10  Industry           3909 non-null   object \n",
      " 11  Sector             3909 non-null   object \n",
      " 12  Revenue            3909 non-null   object \n",
      " 13  Competitors        3909 non-null   object \n",
      " 14  Easy Apply         3909 non-null   object \n",
      "dtypes: float64(1), int64(1), object(13)\n",
      "memory usage: 458.2+ KB\n"
     ]
    }
   ],
   "source": [
    "ds_df.info()"
   ]
  },
  {
   "cell_type": "markdown",
   "id": "a2554c54",
   "metadata": {},
   "source": [
    "### Nhận xét chung\n",
    "\n",
    "- Như ta có thể thấy, dữ liệu không có bất kì dòng nào thiếu hay trùng lắp. Tuy nhiên, khi quan sát bảng dữ liệu ở phía trên, dễ nhận ra tác giả đã thay thế các dữ liệu (có thể là bị thiếu) bằng giá trị `-1`.\n",
    "- Những cột đáng lẽ cần phải ở kiểu dữ liệu là số như `Salary Estimate`, `Size` thì lại có kiểu dữ liệu là object, ta cần phải xử lí những cột này.\n",
    "- Cột `Company Name` có vẻ bị lỗi khi thu thập dữ liệu (tên công ty gắn liền với rating).\n",
    "- Cột `Easy Apply` chỉ nên có giá trị `True` hoặc `False`.\n",
    "- ...\n",
    "\n",
    "Ta không quan sát được toàn bộ dữ liệu, do đó, ta sẽ phân tích và tiền xử lí cho từng cột trong phần tiền xử lí dữ liệu."
   ]
  },
  {
   "cell_type": "markdown",
   "id": "af4f1ee4",
   "metadata": {},
   "source": [
    "## Tiền xử lí dữ liệu"
   ]
  },
  {
   "cell_type": "markdown",
   "id": "203d5dbb",
   "metadata": {},
   "source": [
    "### Các giá trị của cột Job Title liệu đã đúng hay chưa?"
   ]
  },
  {
   "cell_type": "markdown",
   "id": "eadfd0c7",
   "metadata": {},
   "source": [
    "Trước tiên, ta quan sát 20 giá trị xuất hiện nhiều nhất và ít nhất."
   ]
  },
  {
   "cell_type": "code",
   "execution_count": 78,
   "id": "5fc91c47",
   "metadata": {},
   "outputs": [
    {
     "data": {
      "text/html": [
       "<div>\n",
       "<style scoped>\n",
       "    .dataframe tbody tr th:only-of-type {\n",
       "        vertical-align: middle;\n",
       "    }\n",
       "\n",
       "    .dataframe tbody tr th {\n",
       "        vertical-align: top;\n",
       "    }\n",
       "\n",
       "    .dataframe thead th {\n",
       "        text-align: right;\n",
       "    }\n",
       "</style>\n",
       "<table border=\"1\" class=\"dataframe\">\n",
       "  <thead>\n",
       "    <tr style=\"text-align: right;\">\n",
       "      <th></th>\n",
       "      <th>Job Title</th>\n",
       "      <th>count</th>\n",
       "      <th>Job Title</th>\n",
       "      <th>count</th>\n",
       "    </tr>\n",
       "  </thead>\n",
       "  <tbody>\n",
       "    <tr>\n",
       "      <th>0</th>\n",
       "      <td>Data Scientist</td>\n",
       "      <td>274</td>\n",
       "      <td>Fleet Optimization Data Analyst (Solar + Storage)</td>\n",
       "      <td>1</td>\n",
       "    </tr>\n",
       "    <tr>\n",
       "      <th>1</th>\n",
       "      <td>Data Engineer</td>\n",
       "      <td>260</td>\n",
       "      <td>Data Analyst with Food Science Product Develop...</td>\n",
       "      <td>1</td>\n",
       "    </tr>\n",
       "    <tr>\n",
       "      <th>2</th>\n",
       "      <td>Data Analyst</td>\n",
       "      <td>246</td>\n",
       "      <td>Senior Scientist (Molecular Dx Dermatology</td>\n",
       "      <td>1</td>\n",
       "    </tr>\n",
       "    <tr>\n",
       "      <th>3</th>\n",
       "      <td>Senior Data Scientist</td>\n",
       "      <td>91</td>\n",
       "      <td>Data Scientist - CloudOps</td>\n",
       "      <td>1</td>\n",
       "    </tr>\n",
       "    <tr>\n",
       "      <th>4</th>\n",
       "      <td>Senior Data Analyst</td>\n",
       "      <td>47</td>\n",
       "      <td>Data Scientist, Senior</td>\n",
       "      <td>1</td>\n",
       "    </tr>\n",
       "    <tr>\n",
       "      <th>5</th>\n",
       "      <td>Machine Learning Engineer</td>\n",
       "      <td>47</td>\n",
       "      <td>Data Analyst/Engineer</td>\n",
       "      <td>1</td>\n",
       "    </tr>\n",
       "    <tr>\n",
       "      <th>6</th>\n",
       "      <td>Big Data Engineer</td>\n",
       "      <td>41</td>\n",
       "      <td>Data Engineer -- Austin, TX -- 6 Months+ Contract</td>\n",
       "      <td>1</td>\n",
       "    </tr>\n",
       "    <tr>\n",
       "      <th>7</th>\n",
       "      <td>Business Intelligence Analyst</td>\n",
       "      <td>39</td>\n",
       "      <td>Quantitative Research Intern - Summer</td>\n",
       "      <td>1</td>\n",
       "    </tr>\n",
       "    <tr>\n",
       "      <th>8</th>\n",
       "      <td>Senior Data Engineer</td>\n",
       "      <td>37</td>\n",
       "      <td>Senior Scientist, Immunology</td>\n",
       "      <td>1</td>\n",
       "    </tr>\n",
       "    <tr>\n",
       "      <th>9</th>\n",
       "      <td>Sr. Data Scientist</td>\n",
       "      <td>23</td>\n",
       "      <td>Data Analyst: II / QA Analyst</td>\n",
       "      <td>1</td>\n",
       "    </tr>\n",
       "    <tr>\n",
       "      <th>10</th>\n",
       "      <td>Lead Data Scientist</td>\n",
       "      <td>23</td>\n",
       "      <td>Big Data Engineer Internship</td>\n",
       "      <td>1</td>\n",
       "    </tr>\n",
       "    <tr>\n",
       "      <th>11</th>\n",
       "      <td>Research Scientist</td>\n",
       "      <td>22</td>\n",
       "      <td>Manager of Data Science</td>\n",
       "      <td>1</td>\n",
       "    </tr>\n",
       "    <tr>\n",
       "      <th>12</th>\n",
       "      <td>Data Modeler</td>\n",
       "      <td>17</td>\n",
       "      <td>Data Scientist, SBG</td>\n",
       "      <td>1</td>\n",
       "    </tr>\n",
       "    <tr>\n",
       "      <th>13</th>\n",
       "      <td>Junior Data Analyst</td>\n",
       "      <td>15</td>\n",
       "      <td>Scientist, CAR-T</td>\n",
       "      <td>1</td>\n",
       "    </tr>\n",
       "    <tr>\n",
       "      <th>14</th>\n",
       "      <td>Principal Data Scientist</td>\n",
       "      <td>15</td>\n",
       "      <td>Data Analyst- San Antonio, Des Moines</td>\n",
       "      <td>1</td>\n",
       "    </tr>\n",
       "    <tr>\n",
       "      <th>15</th>\n",
       "      <td>Statistician (Data Scientist) *12 month Roster...</td>\n",
       "      <td>14</td>\n",
       "      <td>Scientist - Nutrition - Columbus, OH</td>\n",
       "      <td>1</td>\n",
       "    </tr>\n",
       "    <tr>\n",
       "      <th>16</th>\n",
       "      <td>Sr. Data Engineer</td>\n",
       "      <td>13</td>\n",
       "      <td>Sugar Land Data Science Tutor Jobs</td>\n",
       "      <td>1</td>\n",
       "    </tr>\n",
       "    <tr>\n",
       "      <th>17</th>\n",
       "      <td>Scientist</td>\n",
       "      <td>13</td>\n",
       "      <td>Data Engineer - Cognitive Computing</td>\n",
       "      <td>1</td>\n",
       "    </tr>\n",
       "    <tr>\n",
       "      <th>18</th>\n",
       "      <td>Federal - Data Scientist</td>\n",
       "      <td>13</td>\n",
       "      <td>Senior Data Scientist - Ads Analytics / Machin...</td>\n",
       "      <td>1</td>\n",
       "    </tr>\n",
       "    <tr>\n",
       "      <th>19</th>\n",
       "      <td>Data Scientist - Nationwide Opportunities</td>\n",
       "      <td>11</td>\n",
       "      <td>Remote -Data Engineer</td>\n",
       "      <td>1</td>\n",
       "    </tr>\n",
       "  </tbody>\n",
       "</table>\n",
       "</div>"
      ],
      "text/plain": [
       "                                            Job Title  count  \\\n",
       "0                                      Data Scientist    274   \n",
       "1                                       Data Engineer    260   \n",
       "2                                        Data Analyst    246   \n",
       "3                               Senior Data Scientist     91   \n",
       "4                                 Senior Data Analyst     47   \n",
       "5                           Machine Learning Engineer     47   \n",
       "6                                   Big Data Engineer     41   \n",
       "7                       Business Intelligence Analyst     39   \n",
       "8                                Senior Data Engineer     37   \n",
       "9                                  Sr. Data Scientist     23   \n",
       "10                                Lead Data Scientist     23   \n",
       "11                                 Research Scientist     22   \n",
       "12                                       Data Modeler     17   \n",
       "13                                Junior Data Analyst     15   \n",
       "14                           Principal Data Scientist     15   \n",
       "15  Statistician (Data Scientist) *12 month Roster...     14   \n",
       "16                                  Sr. Data Engineer     13   \n",
       "17                                          Scientist     13   \n",
       "18                           Federal - Data Scientist     13   \n",
       "19          Data Scientist - Nationwide Opportunities     11   \n",
       "\n",
       "                                            Job Title  count  \n",
       "0   Fleet Optimization Data Analyst (Solar + Storage)      1  \n",
       "1   Data Analyst with Food Science Product Develop...      1  \n",
       "2          Senior Scientist (Molecular Dx Dermatology      1  \n",
       "3                           Data Scientist - CloudOps      1  \n",
       "4                              Data Scientist, Senior      1  \n",
       "5                               Data Analyst/Engineer      1  \n",
       "6   Data Engineer -- Austin, TX -- 6 Months+ Contract      1  \n",
       "7               Quantitative Research Intern - Summer      1  \n",
       "8                        Senior Scientist, Immunology      1  \n",
       "9                       Data Analyst: II / QA Analyst      1  \n",
       "10                       Big Data Engineer Internship      1  \n",
       "11                            Manager of Data Science      1  \n",
       "12                                Data Scientist, SBG      1  \n",
       "13                                   Scientist, CAR-T      1  \n",
       "14              Data Analyst- San Antonio, Des Moines      1  \n",
       "15               Scientist - Nutrition - Columbus, OH      1  \n",
       "16                 Sugar Land Data Science Tutor Jobs      1  \n",
       "17                Data Engineer - Cognitive Computing      1  \n",
       "18  Senior Data Scientist - Ads Analytics / Machin...      1  \n",
       "19                              Remote -Data Engineer      1  "
      ]
     },
     "execution_count": 78,
     "metadata": {},
     "output_type": "execute_result"
    }
   ],
   "source": [
    "job_title_first_20 = ds_df['Job Title'].value_counts()[:20].reset_index()\n",
    "job_title_last_20 = ds_df['Job Title'].value_counts()[-20:].reset_index()\n",
    "pd.concat([job_title_first_20,job_title_last_20],axis=1).rename(columns = {'Job Title':'count','index':'Job Title'})"
   ]
  },
  {
   "cell_type": "markdown",
   "id": "8217a782",
   "metadata": {},
   "source": [
    "Có thể thấy, thông tin `Job Title` được miêu tả khá \"lộn xộn\" có thể là: tuyển nhiều vị trí cùng lúc, ghi tên vị trí cùng thời gian làm việc. Do đó, ta sẽ xử lý để cột chỉ thể hiện một công việc chính (xem việc được nhắc đến đầu tiên là công việc chính). Ngoài ra, có vài vị trí là như nhau nhưng sử dụng thuật ngữ khác nhau (Sr., Senior) ta sẽ xử lý những giá trị này để chúng thể hiện cùng từ ngữ."
   ]
  },
  {
   "cell_type": "code",
   "execution_count": 79,
   "id": "1371de58",
   "metadata": {},
   "outputs": [
    {
     "data": {
      "text/plain": [
       "Data Scientist                      357\n",
       "Data Engineer                       290\n",
       "Data Analyst                        278\n",
       "Senior Data Scientist               105\n",
       "Data Scientist                       70\n",
       "                                   ... \n",
       "Data Analyst (Product Analytics)      1\n",
       "DALLAS Campus Recruiting 2018         1\n",
       "BI Data Analyst and Specialist        1\n",
       "Automotive Data Analyst               1\n",
       "Medical Laboratory Scientist          1\n",
       "Name: Job Title, Length: 1378, dtype: int64"
      ]
     },
     "execution_count": 79,
     "metadata": {},
     "output_type": "execute_result"
    }
   ],
   "source": [
    "ds_df['Job Title'] = ds_df['Job Title'].apply(lambda x:''.join(re.compile(\"[,\\/-]\").split(x)[:1]))\n",
    "ds_df['Job Title'].value_counts()"
   ]
  },
  {
   "cell_type": "code",
   "execution_count": 80,
   "id": "5dc1b87f",
   "metadata": {},
   "outputs": [],
   "source": [
    "ds_df['Job Title'] = ds_df['Job Title'].str.replace('Sr.','Senior',regex=False)\n",
    "ds_df['Job Title'] = ds_df['Job Title'].str.replace('Jr.','Junior',regex=False)"
   ]
  },
  {
   "cell_type": "markdown",
   "id": "5c97879b",
   "metadata": {},
   "source": [
    "### Tiền xử lý cột Salary Estimate\n"
   ]
  },
  {
   "cell_type": "markdown",
   "id": "6eb1fe90",
   "metadata": {},
   "source": [
    "Cột này bao gồm các giá trị là khoảng ước tính, do đó ta sẽ tách thành 2 cột min và max, sau đó loại bỏ cột ban đầu."
   ]
  },
  {
   "cell_type": "code",
   "execution_count": 81,
   "id": "682e2b39",
   "metadata": {},
   "outputs": [],
   "source": [
    "def split_to_minmax(s):\n",
    "    value_range = [int(d) for d in re.findall(r'\\d+',s)]\n",
    "    return value_range\n",
    "ds_df[['SalaryMin','SalaryMax']] = pd.DataFrame(ds_df['Salary Estimate'].apply(split_to_minmax).to_list())\n",
    "ds_df.drop(columns=['Salary Estimate'],inplace = True)"
   ]
  },
  {
   "cell_type": "markdown",
   "id": "87ae77e0",
   "metadata": {},
   "source": [
    "### Tiền xử lý cột Rating"
   ]
  },
  {
   "cell_type": "code",
   "execution_count": 82,
   "id": "472aa6ff",
   "metadata": {
    "scrolled": true
   },
   "outputs": [
    {
     "data": {
      "text/plain": [
       "array([ 3.5,  4.5, -1. ,  3.4,  2.9,  4.4,  5. ,  4.8,  3.9,  4.3,  3. ,\n",
       "        3.6,  3.3,  4. ,  4.1,  3.8,  3.7,  4.2,  4.6,  4.7,  3.2,  2.8,\n",
       "        2.7,  4.9,  2.5,  1. ,  1.9,  3.1,  1.6,  2.6,  2.1,  2.3,  2.4,\n",
       "        2. ,  2.2,  1.5,  1.7])"
      ]
     },
     "execution_count": 82,
     "metadata": {},
     "output_type": "execute_result"
    }
   ],
   "source": [
    "ds_df['Rating'].unique()"
   ]
  },
  {
   "cell_type": "markdown",
   "id": "3b36ceed",
   "metadata": {},
   "source": [
    "Cột `Rating` có khá nhiều giá trị thiếu được đánh dấu bằng giá trị `-1`. Ta sẽ thay thế các giá trị này bằng trung bình của các giá trị còn lại."
   ]
  },
  {
   "cell_type": "code",
   "execution_count": 83,
   "id": "1e6d02c0",
   "metadata": {},
   "outputs": [],
   "source": [
    "# Thay giá trị -1 thành nan\n",
    "ds_df['Rating'].replace(-1,np.nan,inplace = True)\n",
    "# Tính mean của các giá trị khác nan\n",
    "mean = ds_df['Rating'].mean(skipna = True).round(1)\n",
    "# Thay thế các giá trị nan bằng mean\n",
    "ds_df['Rating'].replace(np.nan,mean,inplace = True)"
   ]
  },
  {
   "cell_type": "markdown",
   "id": "7fb01039",
   "metadata": {},
   "source": [
    "### Loại bỏ rating trong Company name"
   ]
  },
  {
   "cell_type": "markdown",
   "id": "86e3b2e4",
   "metadata": {},
   "source": [
    "Như đã nói ở phần Khám phá dữ liệu, cột `Company Name` đã bị lỗi khi thu thập dữ liệu (tên công ty gắn liền với rating). Vì đã có cột `Rating` nên ta sẽ thực hiện xóa phần rating bị thừa trong cột này."
   ]
  },
  {
   "cell_type": "code",
   "execution_count": 84,
   "id": "01912a9b",
   "metadata": {},
   "outputs": [],
   "source": [
    "ds_df['Company Name'] = ds_df['Company Name'].str.split('\\n').str[0]"
   ]
  },
  {
   "cell_type": "markdown",
   "id": "66f8c03d",
   "metadata": {},
   "source": [
    "### Tiền xử lý cột Location và loại bỏ missing value"
   ]
  },
  {
   "cell_type": "code",
   "execution_count": 85,
   "id": "64cd9efa",
   "metadata": {},
   "outputs": [],
   "source": [
    "ds_df['Location'].replace('-1',np.nan,inplace = True)"
   ]
  },
  {
   "cell_type": "code",
   "execution_count": 86,
   "id": "4dbd86be",
   "metadata": {},
   "outputs": [
    {
     "data": {
      "text/plain": [
       "Austin, TX                            345\n",
       "Chicago, IL                           330\n",
       "San Diego, CA                         304\n",
       "New York, NY                          303\n",
       "Houston, TX                           219\n",
       "                                     ... \n",
       "Seal Beach, CA                          1\n",
       "Springhouse Branch Post Office, PA      1\n",
       "Alvin, TX                               1\n",
       "Duarte, CA                              1\n",
       "Valley Forge, PA                        1\n",
       "Name: Location, Length: 191, dtype: int64"
      ]
     },
     "execution_count": 86,
     "metadata": {},
     "output_type": "execute_result"
    }
   ],
   "source": [
    "ds_df['Location'].value_counts()"
   ]
  },
  {
   "cell_type": "markdown",
   "id": "ee2c59e8",
   "metadata": {},
   "source": [
    "Trong cột `Location`, mỗi giá trị bao gồm tên thành phố và tên bang cách nhau bởi dấu `,`. Ta sẽ tách các giá trị này thành 2 cột là `City` và `State`."
   ]
  },
  {
   "cell_type": "code",
   "execution_count": 87,
   "id": "09ddb7e8",
   "metadata": {},
   "outputs": [],
   "source": [
    "ds_df[['City','State']] = ds_df['Location'].str.split(', ',expand=True)\n",
    "ds_df.drop(columns = ['Location'], inplace = True)"
   ]
  },
  {
   "cell_type": "markdown",
   "id": "df9043c5",
   "metadata": {},
   "source": [
    "### Tách tên thành phố trong cột Headquarters và xử lý missing value"
   ]
  },
  {
   "cell_type": "code",
   "execution_count": 88,
   "id": "96d72ecb",
   "metadata": {},
   "outputs": [],
   "source": [
    "ds_df['Headquarters'].replace('-1',np.nan,inplace = True)"
   ]
  },
  {
   "cell_type": "code",
   "execution_count": 89,
   "id": "20a92fa7",
   "metadata": {},
   "outputs": [
    {
     "data": {
      "text/html": [
       "<div>\n",
       "<style scoped>\n",
       "    .dataframe tbody tr th:only-of-type {\n",
       "        vertical-align: middle;\n",
       "    }\n",
       "\n",
       "    .dataframe tbody tr th {\n",
       "        vertical-align: top;\n",
       "    }\n",
       "\n",
       "    .dataframe thead th {\n",
       "        text-align: right;\n",
       "    }\n",
       "</style>\n",
       "<table border=\"1\" class=\"dataframe\">\n",
       "  <thead>\n",
       "    <tr style=\"text-align: right;\">\n",
       "      <th></th>\n",
       "      <th>0</th>\n",
       "      <th>1</th>\n",
       "      <th>2</th>\n",
       "    </tr>\n",
       "  </thead>\n",
       "  <tbody>\n",
       "    <tr>\n",
       "      <th>0</th>\n",
       "      <td>Montreal</td>\n",
       "      <td>Canada</td>\n",
       "      <td>None</td>\n",
       "    </tr>\n",
       "    <tr>\n",
       "      <th>1</th>\n",
       "      <td>New York</td>\n",
       "      <td>NY</td>\n",
       "      <td>None</td>\n",
       "    </tr>\n",
       "    <tr>\n",
       "      <th>2</th>\n",
       "      <td>New York</td>\n",
       "      <td>NY</td>\n",
       "      <td>None</td>\n",
       "    </tr>\n",
       "    <tr>\n",
       "      <th>3</th>\n",
       "      <td>Lyndhurst</td>\n",
       "      <td>NJ</td>\n",
       "      <td>None</td>\n",
       "    </tr>\n",
       "    <tr>\n",
       "      <th>4</th>\n",
       "      <td>New York</td>\n",
       "      <td>NY</td>\n",
       "      <td>None</td>\n",
       "    </tr>\n",
       "    <tr>\n",
       "      <th>...</th>\n",
       "      <td>...</td>\n",
       "      <td>...</td>\n",
       "      <td>...</td>\n",
       "    </tr>\n",
       "    <tr>\n",
       "      <th>3904</th>\n",
       "      <td>Irving</td>\n",
       "      <td>TX</td>\n",
       "      <td>None</td>\n",
       "    </tr>\n",
       "    <tr>\n",
       "      <th>3905</th>\n",
       "      <td>Woodridge</td>\n",
       "      <td>IL</td>\n",
       "      <td>None</td>\n",
       "    </tr>\n",
       "    <tr>\n",
       "      <th>3906</th>\n",
       "      <td>Irving</td>\n",
       "      <td>TX</td>\n",
       "      <td>None</td>\n",
       "    </tr>\n",
       "    <tr>\n",
       "      <th>3907</th>\n",
       "      <td>Omaha</td>\n",
       "      <td>NE</td>\n",
       "      <td>None</td>\n",
       "    </tr>\n",
       "    <tr>\n",
       "      <th>3908</th>\n",
       "      <td>Brussel</td>\n",
       "      <td>Belgium</td>\n",
       "      <td>None</td>\n",
       "    </tr>\n",
       "  </tbody>\n",
       "</table>\n",
       "<p>3909 rows × 3 columns</p>\n",
       "</div>"
      ],
      "text/plain": [
       "              0         1     2\n",
       "0      Montreal    Canada  None\n",
       "1      New York        NY  None\n",
       "2      New York        NY  None\n",
       "3     Lyndhurst        NJ  None\n",
       "4      New York        NY  None\n",
       "...         ...       ...   ...\n",
       "3904     Irving        TX  None\n",
       "3905  Woodridge        IL  None\n",
       "3906     Irving        TX  None\n",
       "3907      Omaha        NE  None\n",
       "3908    Brussel   Belgium  None\n",
       "\n",
       "[3909 rows x 3 columns]"
      ]
     },
     "execution_count": 89,
     "metadata": {},
     "output_type": "execute_result"
    }
   ],
   "source": [
    "headquarters_splited = ds_df['Headquarters'].str.split(',',expand=True)\n",
    "headquarters_splited"
   ]
  },
  {
   "cell_type": "markdown",
   "id": "64b86e3b",
   "metadata": {},
   "source": [
    "Một số công ty có định dạng `Headquarters` khác với công ty còn lại, ta sẽ xem xét và giải quyết các giá trị đặc biệt này."
   ]
  },
  {
   "cell_type": "code",
   "execution_count": 90,
   "id": "02e18ce6",
   "metadata": {},
   "outputs": [
    {
     "data": {
      "text/html": [
       "<div>\n",
       "<style scoped>\n",
       "    .dataframe tbody tr th:only-of-type {\n",
       "        vertical-align: middle;\n",
       "    }\n",
       "\n",
       "    .dataframe tbody tr th {\n",
       "        vertical-align: top;\n",
       "    }\n",
       "\n",
       "    .dataframe thead th {\n",
       "        text-align: right;\n",
       "    }\n",
       "</style>\n",
       "<table border=\"1\" class=\"dataframe\">\n",
       "  <thead>\n",
       "    <tr style=\"text-align: right;\">\n",
       "      <th></th>\n",
       "      <th>0</th>\n",
       "      <th>1</th>\n",
       "      <th>2</th>\n",
       "    </tr>\n",
       "  </thead>\n",
       "  <tbody>\n",
       "    <tr>\n",
       "      <th>142</th>\n",
       "      <td>New York</td>\n",
       "      <td>NY (US)</td>\n",
       "      <td>NY</td>\n",
       "    </tr>\n",
       "    <tr>\n",
       "      <th>303</th>\n",
       "      <td>New York</td>\n",
       "      <td>NY (US)</td>\n",
       "      <td>NY</td>\n",
       "    </tr>\n",
       "    <tr>\n",
       "      <th>1686</th>\n",
       "      <td>Philadelphia</td>\n",
       "      <td>PA (US)</td>\n",
       "      <td>PA</td>\n",
       "    </tr>\n",
       "    <tr>\n",
       "      <th>1751</th>\n",
       "      <td>Philadelphia</td>\n",
       "      <td>PA (US)</td>\n",
       "      <td>PA</td>\n",
       "    </tr>\n",
       "    <tr>\n",
       "      <th>1816</th>\n",
       "      <td>New York</td>\n",
       "      <td>NY (US)</td>\n",
       "      <td>NY</td>\n",
       "    </tr>\n",
       "    <tr>\n",
       "      <th>2118</th>\n",
       "      <td>San Marcos</td>\n",
       "      <td>CA (US)</td>\n",
       "      <td>CA</td>\n",
       "    </tr>\n",
       "  </tbody>\n",
       "</table>\n",
       "</div>"
      ],
      "text/plain": [
       "                 0         1    2\n",
       "142       New York   NY (US)   NY\n",
       "303       New York   NY (US)   NY\n",
       "1686  Philadelphia   PA (US)   PA\n",
       "1751  Philadelphia   PA (US)   PA\n",
       "1816      New York   NY (US)   NY\n",
       "2118    San Marcos   CA (US)   CA"
      ]
     },
     "execution_count": 90,
     "metadata": {},
     "output_type": "execute_result"
    }
   ],
   "source": [
    "headquarters_splited[~headquarters_splited[2].isnull()]"
   ]
  },
  {
   "cell_type": "markdown",
   "id": "0c45c4e0",
   "metadata": {},
   "source": [
    "Như vậy, các định dạng khác thường là do một số công ty ghi thêm quốc gia, ta sẽ loại bỏ các giá trị này, sau đó loại bỏ cột 2."
   ]
  },
  {
   "cell_type": "code",
   "execution_count": 91,
   "id": "c66c5617",
   "metadata": {},
   "outputs": [],
   "source": [
    "headquarters_splited[1] = headquarters_splited[1].str.replace('\\(\\w*\\)','',regex=True)\n",
    "headquarters_splited[1] = headquarters_splited[1].str.strip()\n",
    "headquarters_splited.drop(columns=[2],inplace=True)"
   ]
  },
  {
   "cell_type": "markdown",
   "id": "3a937901",
   "metadata": {},
   "source": [
    "Sau khi đã phân tách thành 2 cột, ta tạo ra 2 cột mới tương ứng là `Headquarters_City` và `Headquarters_State/Country` trong `ds_df` và loại bỏ đi cột `Headquarters`."
   ]
  },
  {
   "cell_type": "code",
   "execution_count": 92,
   "id": "5856d3be",
   "metadata": {
    "scrolled": true
   },
   "outputs": [],
   "source": [
    "ds_df[['Headquarters_City','Headquarters_State/Country']] = headquarters_splited\n",
    "ds_df.drop(columns=['Headquarters'],inplace = True)"
   ]
  },
  {
   "cell_type": "markdown",
   "id": "84ef87b5",
   "metadata": {},
   "source": [
    "### Tiền xử lý cột Size"
   ]
  },
  {
   "cell_type": "code",
   "execution_count": 93,
   "id": "e31302e9",
   "metadata": {},
   "outputs": [
    {
     "data": {
      "text/plain": [
       "10000+ employees           993\n",
       "51 to 200 employees        563\n",
       "1001 to 5000 employees     553\n",
       "1 to 50 employees          550\n",
       "201 to 500 employees       418\n",
       "501 to 1000 employees      307\n",
       "-1                         229\n",
       "5001 to 10000 employees    219\n",
       "Unknown                     77\n",
       "Name: Size, dtype: int64"
      ]
     },
     "execution_count": 93,
     "metadata": {},
     "output_type": "execute_result"
    }
   ],
   "source": [
    "ds_df['Size'].value_counts()"
   ]
  },
  {
   "cell_type": "markdown",
   "id": "a2cbc278",
   "metadata": {},
   "source": [
    "Cột `Size` gồm 3 kiểu thể hiện dữ liệu: gồm `-1` cho các giá trị thiếu, `Unknown` là các giá trị mà công ty không cung cấp và còn lại là các khoảng. Ta sẽ tiền xử lí cột này như sau:\n",
    "* Các giá trị `-1` và `Unknown` sẽ thay thế bằng giá trị `NaN`.\n",
    "* Các giá trị là các khoảng, ta sẽ chuyển thành giá trị trung bình, riêng khoảng lớn nhất sẽ dùng giá trị phân chia (e.g `10000+ employees` sẽ thay bằng giá trị `10000`)."
   ]
  },
  {
   "cell_type": "code",
   "execution_count": 94,
   "id": "c675d7ff",
   "metadata": {},
   "outputs": [],
   "source": [
    "def convert_to_mean(s):\n",
    "    if type(s) != str:\n",
    "        return\n",
    "    value_range = [int(d) for d in re.findall(r'\\d+',s)]\n",
    "    return math.floor(sum(value_range)/len(value_range))\n",
    "# Chuyển giá trị -1 và Unknown thành nan\n",
    "ds_df['Size'].replace('-1',np.nan,inplace = True)\n",
    "ds_df['Size'].replace('Unknown',np.nan,inplace = True)\n",
    "# Biến đổi các khoảng thành giá trị trung bình\n",
    "ds_df['Size']=ds_df['Size'].apply(convert_to_mean)"
   ]
  },
  {
   "cell_type": "markdown",
   "id": "59862b25",
   "metadata": {},
   "source": [
    "### Tiền xử lý cột Founded "
   ]
  },
  {
   "cell_type": "code",
   "execution_count": 95,
   "id": "fae750d5",
   "metadata": {},
   "outputs": [
    {
     "data": {
      "text/plain": [
       "-1       977\n",
       " 1625      2\n",
       " 1682      1\n",
       " 1740      9\n",
       " 1775     13\n",
       "        ... \n",
       " 2016     49\n",
       " 2017     40\n",
       " 2018     27\n",
       " 2019     14\n",
       " 2020      1\n",
       "Name: Founded, Length: 173, dtype: int64"
      ]
     },
     "execution_count": 95,
     "metadata": {},
     "output_type": "execute_result"
    }
   ],
   "source": [
    "ds_df['Founded'].value_counts().sort_index()"
   ]
  },
  {
   "cell_type": "markdown",
   "id": "c8c4f286",
   "metadata": {},
   "source": [
    "Cột `Founded` có khá nhiều giá trị thiếu, tác giả đã đánh dấu bằng giá trị `-1`. Ta không có cách nào để xác định năm thành lập của những công ty này. Do đó, để tiện cho việc tính toán các tác vụ về sau (tính giá trị thiếu,...), ta sẽ chuyển các giá trị `-1` về `NaN`."
   ]
  },
  {
   "cell_type": "code",
   "execution_count": 96,
   "id": "91351d28",
   "metadata": {
    "scrolled": false
   },
   "outputs": [
    {
     "data": {
      "text/plain": [
       "array([2007., 2008.,   nan, 2019., 1985., 1993., 2018., 2000., 2014.,\n",
       "       2011., 1999., 2001., 1998., 2005., 1943., 2012., 1923., 2003.,\n",
       "       2002., 2015., 2006., 2010., 1853., 1990., 1914., 2013., 2004.,\n",
       "       1799., 1935., 1995., 1994., 1988., 1917., 1947., 1981., 1940.,\n",
       "       1841., 2017., 1896., 2009., 1898., 1968., 1862., 1934., 1992.,\n",
       "       2016., 1984., 1987., 1966., 1976., 1871., 1625., 1997., 1967.,\n",
       "       1948., 1913., 1989., 1893., 1904., 1911., 1961., 1806., 1969.,\n",
       "       1945., 1784., 1857., 1971., 1852., 1922., 1851., 1956., 1906.,\n",
       "       1973., 1960., 1975., 1982., 1996., 1931., 1986., 1902., 1909.,\n",
       "       1880., 1946., 1970., 1979., 1977., 1965., 1954., 1850., 1980.,\n",
       "       1919., 1983., 1888., 1978., 1872., 1831., 1936., 1939., 1937.,\n",
       "       1928., 1991., 1929., 1944., 1901., 1974., 1925., 1817., 1963.,\n",
       "       1894., 1890., 1882., 1892., 1908., 1926., 1883., 1845., 1849.,\n",
       "       1918., 1900., 1889., 1837., 1930., 1877., 1910., 1962., 1955.,\n",
       "       1897., 1949., 1972., 1941., 1957., 1924., 1891., 1864., 1951.,\n",
       "       1847., 1775., 1843., 1855., 1740., 1792., 1830., 1887., 1682.,\n",
       "       1881., 1824., 1916., 1812., 1905., 1953., 1876., 1848., 1858.,\n",
       "       1958., 1938., 1868., 1781., 1895., 1869., 1921., 2020., 1865.,\n",
       "       1933., 1907., 1927., 1950., 1952., 1870., 1912., 1920., 1932.,\n",
       "       1803., 1866.])"
      ]
     },
     "execution_count": 96,
     "metadata": {},
     "output_type": "execute_result"
    }
   ],
   "source": [
    "ds_df['Founded'].replace(-1,np.nan,inplace = True)\n",
    "ds_df['Founded'].unique()"
   ]
  },
  {
   "cell_type": "markdown",
   "id": "90d1b50e",
   "metadata": {},
   "source": [
    "Quan sát cột `Founded` các giá trị còn lại đều đã chính xác. Kiểu dữ liệu `int64` đã phù hợp với ý nghĩa của cột là năm thành lập công ty."
   ]
  },
  {
   "cell_type": "markdown",
   "id": "bbf3bc74",
   "metadata": {},
   "source": [
    "### Tiền xử lý cột Industry "
   ]
  },
  {
   "cell_type": "code",
   "execution_count": 97,
   "id": "be823f31",
   "metadata": {
    "scrolled": true
   },
   "outputs": [
    {
     "data": {
      "text/plain": [
       "-1                                  546\n",
       "IT Services                         472\n",
       "Staffing & Outsourcing              313\n",
       "Biotech & Pharmaceuticals           293\n",
       "Computer Hardware & Software        264\n",
       "                                   ... \n",
       "Telecommunications Manufacturing      1\n",
       "Metals Brokers                        1\n",
       "Shipping                              1\n",
       "Health Fundraising Organizations      1\n",
       "Sporting Goods Stores                 1\n",
       "Name: Industry, Length: 96, dtype: int64"
      ]
     },
     "execution_count": 97,
     "metadata": {},
     "output_type": "execute_result"
    }
   ],
   "source": [
    "ds_df['Industry'].value_counts()"
   ]
  },
  {
   "cell_type": "markdown",
   "id": "00071465",
   "metadata": {},
   "source": [
    "Tương tự cột `Founded`, cột `Industry` cũng có các giá trị thiếu được đánh dấu bằng giá trị `-1`. Ta sẽ chuyển giá trị này thành `NaN`."
   ]
  },
  {
   "cell_type": "code",
   "execution_count": 98,
   "id": "5393f994",
   "metadata": {},
   "outputs": [],
   "source": [
    "ds_df['Industry'].replace('-1',np.nan,inplace = True)"
   ]
  },
  {
   "cell_type": "markdown",
   "id": "21c46667",
   "metadata": {},
   "source": [
    "### Tiền xử lý cột Revenue "
   ]
  },
  {
   "cell_type": "code",
   "execution_count": 99,
   "id": "7022a529",
   "metadata": {},
   "outputs": [
    {
     "data": {
      "text/plain": [
       "Unknown / Non-Applicable            1163\n",
       "$10+ billion (USD)                   599\n",
       "$100 to $500 million (USD)           338\n",
       "-1                                   229\n",
       "$50 to $100 million (USD)            214\n",
       "$2 to $5 billion (USD)               211\n",
       "$10 to $25 million (USD)             191\n",
       "$1 to $2 billion (USD)               180\n",
       "$1 to $5 million (USD)               170\n",
       "$25 to $50 million (USD)             143\n",
       "$5 to $10 billion (USD)              133\n",
       "Less than $1 million (USD)           124\n",
       "$500 million to $1 billion (USD)     114\n",
       "$5 to $10 million (USD)              100\n",
       "Name: Revenue, dtype: int64"
      ]
     },
     "execution_count": 99,
     "metadata": {},
     "output_type": "execute_result"
    }
   ],
   "source": [
    "ds_df[\"Revenue\"].value_counts()"
   ]
  },
  {
   "cell_type": "markdown",
   "id": "d196e920",
   "metadata": {},
   "source": [
    "Như có thể quan sát, cột này có 3 kiểu thể hiện dữ liệu: giá trị thiếu đánh dấu bằng `-1`, giá trị `Unknown / Non-Applicable` và giá trị có định dạng là một khoảng ước lượng. Ta sẽ tiền xử lí cột này như sau:\n",
    "* Các dòng có giá trị `-1` hoặc `Unknown / Non-Applicable` sẽ chuyển thành dạng `NaN`.\n",
    "* Các dòng có giá trị là môt khoảng ước lượng sẽ chuyển thành giá trị trung bình của khoảng. Với 2 khoảng đầu cuối, ta sẽ mặc định thành giá trị phân chia của khoảng đó. Ngoài ra, các giá trị billion cũng sẽ được đổi thành million."
   ]
  },
  {
   "cell_type": "code",
   "execution_count": 100,
   "id": "b39ee458",
   "metadata": {},
   "outputs": [],
   "source": [
    "def convert_to_num(s):\n",
    "    if type(s) != str:\n",
    "        return\n",
    "    if re.compile(r'\\$\\d+\\+ billion').match(s):\n",
    "        value_range = [int(d) for d in re.findall(r'\\d+',s)]\n",
    "        return sum(value_range)/len(value_range)*1000\n",
    "    elif re.compile(r'\\$\\d+ to \\$\\d+ billion').match(s):\n",
    "        value_range = [int(d) for d in re.findall(r'\\d+',s)]\n",
    "        return sum(value_range)/len(value_range)*1000\n",
    "    elif re.compile(r'\\$\\d+ million to \\$\\d+ billion').match(s):\n",
    "        match = re.compile(r'\\$(\\d+) million to \\$(\\d+) billion').match(s)\n",
    "        return (int(match.group(1))+int(match.group(2))*1000)/2\n",
    "    else:\n",
    "        value_range = [int(d) for d in re.findall(r'\\d+',s)]\n",
    "        return sum(value_range)/len(value_range)\n",
    "# Chuyển giá trị -1 và Unknown/Non-Applicable thành nan\n",
    "ds_df['Revenue'].replace('-1',np.nan,inplace = True)\n",
    "ds_df['Revenue'].replace('Unknown / Non-Applicable',np.nan,inplace = True)\n",
    "# Chuyển các khoảng ước lượng thành giá trị số\n",
    "ds_df['Revenue'] = ds_df['Revenue'].apply(convert_to_num)"
   ]
  },
  {
   "cell_type": "markdown",
   "id": "53347d01",
   "metadata": {},
   "source": [
    "### Tiền xử lý cột Easy Apply"
   ]
  },
  {
   "cell_type": "code",
   "execution_count": 101,
   "id": "c1c0ad96",
   "metadata": {
    "scrolled": true
   },
   "outputs": [
    {
     "name": "stdout",
     "output_type": "stream",
     "text": [
      "object\n"
     ]
    },
    {
     "data": {
      "text/plain": [
       "-1      3745\n",
       "True     164\n",
       "Name: Easy Apply, dtype: int64"
      ]
     },
     "execution_count": 101,
     "metadata": {},
     "output_type": "execute_result"
    }
   ],
   "source": [
    "print(ds_df['Easy Apply'].dtype)\n",
    "ds_df[\"Easy Apply\"].value_counts()"
   ]
  },
  {
   "cell_type": "markdown",
   "id": "79303445",
   "metadata": {},
   "source": [
    "Cột `Easy Apply` hiện tại gồm 2 giá trị `-1` và `True`. Vì cung cấp thông tin công ty có dễ apply hay không, cột nên mang giá trị `True` hoặc `False`. Do đó, ta thực hiện replace `-1` bằng `False` và chuyển dtype của cột về đúng dạng `bool`."
   ]
  },
  {
   "cell_type": "code",
   "execution_count": 102,
   "id": "ee78f1c8",
   "metadata": {
    "scrolled": true
   },
   "outputs": [],
   "source": [
    "ds_df[\"Easy Apply\"] = ds_df[\"Easy Apply\"].replace('-1', False).astype(bool)"
   ]
  },
  {
   "cell_type": "markdown",
   "id": "7f167a6e",
   "metadata": {},
   "source": [
    "### Tiền xử lý các cột Type of ownership, Sector, Competitors"
   ]
  },
  {
   "cell_type": "code",
   "execution_count": 103,
   "id": "55cad6c0",
   "metadata": {},
   "outputs": [
    {
     "data": {
      "text/plain": [
       "array(['Company - Private', 'Unknown', 'Company - Public',\n",
       "       'Nonprofit Organization', '-1', 'Government', 'Hospital',\n",
       "       'Self-employed', 'Subsidiary or Business Segment', 'Contract',\n",
       "       'School / School District', 'Private Practice / Firm',\n",
       "       'College / University', 'Franchise', 'Other Organization'],\n",
       "      dtype=object)"
      ]
     },
     "execution_count": 103,
     "metadata": {},
     "output_type": "execute_result"
    }
   ],
   "source": [
    "ds_df['Type of ownership'].unique()"
   ]
  },
  {
   "cell_type": "code",
   "execution_count": 104,
   "id": "82bb1e70",
   "metadata": {},
   "outputs": [
    {
     "data": {
      "text/plain": [
       "array(['Travel & Tourism', 'Consumer Services', '-1',\n",
       "       'Information Technology', 'Business Services', 'Insurance',\n",
       "       'Finance', 'Retail', 'Media', 'Restaurants, Bars & Food Services',\n",
       "       'Agriculture & Forestry', 'Non-Profit', 'Education', 'Government',\n",
       "       'Health Care', 'Oil, Gas, Energy & Utilities',\n",
       "       'Accounting & Legal', 'Manufacturing', 'Real Estate',\n",
       "       'Biotech & Pharmaceuticals', 'Arts, Entertainment & Recreation',\n",
       "       'Aerospace & Defense', 'Construction, Repair & Maintenance',\n",
       "       'Transportation & Logistics', 'Telecommunications',\n",
       "       'Mining & Metals'], dtype=object)"
      ]
     },
     "execution_count": 104,
     "metadata": {},
     "output_type": "execute_result"
    }
   ],
   "source": [
    "ds_df['Sector'].unique()"
   ]
  },
  {
   "cell_type": "code",
   "execution_count": 105,
   "id": "1746621f",
   "metadata": {},
   "outputs": [
    {
     "data": {
      "text/plain": [
       "-1                                                            2760\n",
       "Amazon, Accenture, Microsoft                                    61\n",
       "Google, Microsoft, Samsung Electronics                          60\n",
       "Google, Microsoft, Walmart                                      47\n",
       "Google, Microsoft, Apple                                        25\n",
       "                                                              ... \n",
       "TEKsystems, CGI, SDLC Partners                                   1\n",
       "Blizzard Entertainment, Valve Corporation, Electronic Arts       1\n",
       "Waymo                                                            1\n",
       "CH2M, AECOM, Gannett Fleming                                     1\n",
       "Facebook, Snap, TikTok                                           1\n",
       "Name: Competitors, Length: 422, dtype: int64"
      ]
     },
     "execution_count": 105,
     "metadata": {},
     "output_type": "execute_result"
    }
   ],
   "source": [
    "ds_df['Competitors'].value_counts()"
   ]
  },
  {
   "cell_type": "markdown",
   "id": "21615b5d",
   "metadata": {},
   "source": [
    "Quan sát 3 cột này thì có vẻ ở bước tiền xử lý này ta chỉ cần thay thế giá trị `-1` thành giá trị `NaN`"
   ]
  },
  {
   "cell_type": "code",
   "execution_count": 106,
   "id": "f973adbf",
   "metadata": {},
   "outputs": [],
   "source": [
    "ds_df[['Type of ownership','Sector','Competitors']] = ds_df[['Type of ownership','Sector','Competitors']].replace('-1',np.nan)"
   ]
  },
  {
   "cell_type": "markdown",
   "id": "502379f2",
   "metadata": {},
   "source": [
    "## Khám phá dữ liệu (phần 2)"
   ]
  },
  {
   "cell_type": "markdown",
   "id": "25eb7a9a",
   "metadata": {},
   "source": [
    "### Tiếp theo ta kiểm tra xem `dtype` của các cột đã đúng chưa"
   ]
  },
  {
   "cell_type": "code",
   "execution_count": 107,
   "id": "38c3e6e2",
   "metadata": {},
   "outputs": [
    {
     "name": "stdout",
     "output_type": "stream",
     "text": [
      "<class 'pandas.core.frame.DataFrame'>\n",
      "RangeIndex: 3909 entries, 0 to 3908\n",
      "Data columns (total 18 columns):\n",
      " #   Column                      Non-Null Count  Dtype  \n",
      "---  ------                      --------------  -----  \n",
      " 0   Job Title                   3909 non-null   object \n",
      " 1   Job Description             3909 non-null   object \n",
      " 2   Rating                      3909 non-null   float64\n",
      " 3   Company Name                3909 non-null   object \n",
      " 4   Size                        3603 non-null   float64\n",
      " 5   Founded                     2932 non-null   float64\n",
      " 6   Type of ownership           3680 non-null   object \n",
      " 7   Industry                    3363 non-null   object \n",
      " 8   Sector                      3363 non-null   object \n",
      " 9   Revenue                     2517 non-null   float64\n",
      " 10  Competitors                 1149 non-null   object \n",
      " 11  Easy Apply                  3909 non-null   bool   \n",
      " 12  SalaryMin                   3909 non-null   int64  \n",
      " 13  SalaryMax                   3909 non-null   int64  \n",
      " 14  City                        3909 non-null   object \n",
      " 15  State                       3909 non-null   object \n",
      " 16  Headquarters_City           3669 non-null   object \n",
      " 17  Headquarters_State/Country  3669 non-null   object \n",
      "dtypes: bool(1), float64(4), int64(2), object(11)\n",
      "memory usage: 523.1+ KB\n"
     ]
    }
   ],
   "source": [
    "ds_df.info()"
   ]
  },
  {
   "cell_type": "markdown",
   "id": "b8b01c85",
   "metadata": {},
   "source": [
    "### Ta kiểm tra với các dữ liệu dạng numeric, giá trị của chúng phân bố như thế nào?"
   ]
  },
  {
   "cell_type": "code",
   "execution_count": 108,
   "id": "4bb851f3",
   "metadata": {},
   "outputs": [
    {
     "data": {
      "text/html": [
       "<div>\n",
       "<style scoped>\n",
       "    .dataframe tbody tr th:only-of-type {\n",
       "        vertical-align: middle;\n",
       "    }\n",
       "\n",
       "    .dataframe tbody tr th {\n",
       "        vertical-align: top;\n",
       "    }\n",
       "\n",
       "    .dataframe thead th {\n",
       "        text-align: right;\n",
       "    }\n",
       "</style>\n",
       "<table border=\"1\" class=\"dataframe\">\n",
       "  <thead>\n",
       "    <tr style=\"text-align: right;\">\n",
       "      <th></th>\n",
       "      <th>Rating</th>\n",
       "      <th>Size</th>\n",
       "      <th>Founded</th>\n",
       "      <th>Revenue</th>\n",
       "      <th>SalaryMin</th>\n",
       "      <th>SalaryMax</th>\n",
       "    </tr>\n",
       "  </thead>\n",
       "  <tbody>\n",
       "    <tr>\n",
       "      <th>count</th>\n",
       "      <td>3909.000</td>\n",
       "      <td>3603.000</td>\n",
       "      <td>2932.000</td>\n",
       "      <td>2517.000</td>\n",
       "      <td>3909.000</td>\n",
       "      <td>3909.000</td>\n",
       "    </tr>\n",
       "    <tr>\n",
       "      <th>mean</th>\n",
       "      <td>3.786</td>\n",
       "      <td>3800.215</td>\n",
       "      <td>1972.371</td>\n",
       "      <td>3261.438</td>\n",
       "      <td>81.910</td>\n",
       "      <td>133.825</td>\n",
       "    </tr>\n",
       "    <tr>\n",
       "      <th>std</th>\n",
       "      <td>0.582</td>\n",
       "      <td>4241.318</td>\n",
       "      <td>52.720</td>\n",
       "      <td>4167.296</td>\n",
       "      <td>34.311</td>\n",
       "      <td>45.011</td>\n",
       "    </tr>\n",
       "    <tr>\n",
       "      <th>min</th>\n",
       "      <td>1.000</td>\n",
       "      <td>25.000</td>\n",
       "      <td>1625.000</td>\n",
       "      <td>1.000</td>\n",
       "      <td>10.000</td>\n",
       "      <td>26.000</td>\n",
       "    </tr>\n",
       "    <tr>\n",
       "      <th>25%</th>\n",
       "      <td>3.500</td>\n",
       "      <td>125.000</td>\n",
       "      <td>1961.000</td>\n",
       "      <td>37.500</td>\n",
       "      <td>52.000</td>\n",
       "      <td>97.000</td>\n",
       "    </tr>\n",
       "    <tr>\n",
       "      <th>50%</th>\n",
       "      <td>3.800</td>\n",
       "      <td>750.000</td>\n",
       "      <td>1995.000</td>\n",
       "      <td>300.000</td>\n",
       "      <td>76.000</td>\n",
       "      <td>129.000</td>\n",
       "    </tr>\n",
       "    <tr>\n",
       "      <th>75%</th>\n",
       "      <td>4.100</td>\n",
       "      <td>10000.000</td>\n",
       "      <td>2006.000</td>\n",
       "      <td>7500.000</td>\n",
       "      <td>110.000</td>\n",
       "      <td>165.000</td>\n",
       "    </tr>\n",
       "    <tr>\n",
       "      <th>max</th>\n",
       "      <td>5.000</td>\n",
       "      <td>10000.000</td>\n",
       "      <td>2020.000</td>\n",
       "      <td>10000.000</td>\n",
       "      <td>200.000</td>\n",
       "      <td>254.000</td>\n",
       "    </tr>\n",
       "    <tr>\n",
       "      <th>missing_ratio</th>\n",
       "      <td>0.000</td>\n",
       "      <td>7.828</td>\n",
       "      <td>24.994</td>\n",
       "      <td>35.610</td>\n",
       "      <td>0.000</td>\n",
       "      <td>0.000</td>\n",
       "    </tr>\n",
       "  </tbody>\n",
       "</table>\n",
       "</div>"
      ],
      "text/plain": [
       "                 Rating       Size   Founded    Revenue  SalaryMin  SalaryMax\n",
       "count          3909.000   3603.000  2932.000   2517.000   3909.000   3909.000\n",
       "mean              3.786   3800.215  1972.371   3261.438     81.910    133.825\n",
       "std               0.582   4241.318    52.720   4167.296     34.311     45.011\n",
       "min               1.000     25.000  1625.000      1.000     10.000     26.000\n",
       "25%               3.500    125.000  1961.000     37.500     52.000     97.000\n",
       "50%               3.800    750.000  1995.000    300.000     76.000    129.000\n",
       "75%               4.100  10000.000  2006.000   7500.000    110.000    165.000\n",
       "max               5.000  10000.000  2020.000  10000.000    200.000    254.000\n",
       "missing_ratio     0.000      7.828    24.994     35.610      0.000      0.000"
      ]
     },
     "execution_count": 108,
     "metadata": {},
     "output_type": "execute_result"
    }
   ],
   "source": [
    "numeric_cols = ds_df.describe().columns.to_list()\n",
    "missing_ratio = ds_df[numeric_cols].agg([lambda x:x.isnull().mean()*100])\n",
    "numeric_cols_profiles = pd.concat([ds_df.describe(),missing_ratio])\n",
    "numeric_cols_profiles.rename(index={'<lambda>':'missing_ratio'},inplace=True)\n",
    "numeric_cols_profiles.round(3)"
   ]
  },
  {
   "cell_type": "markdown",
   "id": "20473da8",
   "metadata": {},
   "source": [
    "Quan sát các cột dữ liệu dạng số thì có vẻ không có gì bất thường xuất hiện."
   ]
  },
  {
   "cell_type": "markdown",
   "id": "c5424d61",
   "metadata": {},
   "source": [
    "### Ta kiểm tra với các dữ liệu dạng categorical, giá trị của chúng phân bố như thế nào?"
   ]
  },
  {
   "cell_type": "code",
   "execution_count": 109,
   "id": "cf2adcd5",
   "metadata": {},
   "outputs": [
    {
     "data": {
      "text/html": [
       "<div>\n",
       "<style scoped>\n",
       "    .dataframe tbody tr th:only-of-type {\n",
       "        vertical-align: middle;\n",
       "    }\n",
       "\n",
       "    .dataframe tbody tr th {\n",
       "        vertical-align: top;\n",
       "    }\n",
       "\n",
       "    .dataframe thead th {\n",
       "        text-align: right;\n",
       "    }\n",
       "</style>\n",
       "<table border=\"1\" class=\"dataframe\">\n",
       "  <thead>\n",
       "    <tr style=\"text-align: right;\">\n",
       "      <th></th>\n",
       "      <th>Job Title</th>\n",
       "      <th>Job Description</th>\n",
       "      <th>Company Name</th>\n",
       "      <th>Type of ownership</th>\n",
       "      <th>Industry</th>\n",
       "      <th>Sector</th>\n",
       "      <th>Competitors</th>\n",
       "      <th>Easy Apply</th>\n",
       "      <th>City</th>\n",
       "      <th>State</th>\n",
       "      <th>Headquarters_City</th>\n",
       "      <th>Headquarters_State/Country</th>\n",
       "    </tr>\n",
       "  </thead>\n",
       "  <tbody>\n",
       "    <tr>\n",
       "      <th>missing_ratio</th>\n",
       "      <td>0.0</td>\n",
       "      <td>0.0</td>\n",
       "      <td>0.0</td>\n",
       "      <td>5.858</td>\n",
       "      <td>13.968</td>\n",
       "      <td>13.968</td>\n",
       "      <td>70.606</td>\n",
       "      <td>0.0</td>\n",
       "      <td>0.0</td>\n",
       "      <td>0.0</td>\n",
       "      <td>6.14</td>\n",
       "      <td>6.14</td>\n",
       "    </tr>\n",
       "    <tr>\n",
       "      <th>number_of_unique_vals</th>\n",
       "      <td>1361</td>\n",
       "      <td>3685</td>\n",
       "      <td>2063</td>\n",
       "      <td>14</td>\n",
       "      <td>95</td>\n",
       "      <td>25</td>\n",
       "      <td>421</td>\n",
       "      <td>2</td>\n",
       "      <td>185</td>\n",
       "      <td>11</td>\n",
       "      <td>523</td>\n",
       "      <td>77</td>\n",
       "    </tr>\n",
       "    <tr>\n",
       "      <th>unique_vals</th>\n",
       "      <td>[Senior Data Scientist, Data Scientist, Data S...</td>\n",
       "      <td>[ABOUT HOPPER\\n\\nAt Hopper, we’re on a mission...</td>\n",
       "      <td>[Hopper, Noom US, Decode_M, Sapphire Digital, ...</td>\n",
       "      <td>[Company - Private, Unknown, Company - Public,...</td>\n",
       "      <td>[Travel Agencies, Health, Beauty, &amp; Fitness, I...</td>\n",
       "      <td>[Travel &amp; Tourism, Consumer Services, Informat...</td>\n",
       "      <td>[Zocdoc, Healthgrades, BBDO, Grey Group, Droga...</td>\n",
       "      <td>[False, True]</td>\n",
       "      <td>[New York, Lyndhurst, Brooklyn, Jersey City, C...</td>\n",
       "      <td>[NY, NJ, CA, IL, TX, AZ, DE, PA, United Kingdo...</td>\n",
       "      <td>[Montreal, New York, Lyndhurst, Hartford, Stam...</td>\n",
       "      <td>[Canada, NY, NJ, CT, United Kingdom, CA, IL, F...</td>\n",
       "    </tr>\n",
       "  </tbody>\n",
       "</table>\n",
       "</div>"
      ],
      "text/plain": [
       "                                                               Job Title  \\\n",
       "missing_ratio                                                        0.0   \n",
       "number_of_unique_vals                                               1361   \n",
       "unique_vals            [Senior Data Scientist, Data Scientist, Data S...   \n",
       "\n",
       "                                                         Job Description  \\\n",
       "missing_ratio                                                        0.0   \n",
       "number_of_unique_vals                                               3685   \n",
       "unique_vals            [ABOUT HOPPER\\n\\nAt Hopper, we’re on a mission...   \n",
       "\n",
       "                                                            Company Name  \\\n",
       "missing_ratio                                                        0.0   \n",
       "number_of_unique_vals                                               2063   \n",
       "unique_vals            [Hopper, Noom US, Decode_M, Sapphire Digital, ...   \n",
       "\n",
       "                                                       Type of ownership  \\\n",
       "missing_ratio                                                      5.858   \n",
       "number_of_unique_vals                                                 14   \n",
       "unique_vals            [Company - Private, Unknown, Company - Public,...   \n",
       "\n",
       "                                                                Industry  \\\n",
       "missing_ratio                                                     13.968   \n",
       "number_of_unique_vals                                                 95   \n",
       "unique_vals            [Travel Agencies, Health, Beauty, & Fitness, I...   \n",
       "\n",
       "                                                                  Sector  \\\n",
       "missing_ratio                                                     13.968   \n",
       "number_of_unique_vals                                                 25   \n",
       "unique_vals            [Travel & Tourism, Consumer Services, Informat...   \n",
       "\n",
       "                                                             Competitors  \\\n",
       "missing_ratio                                                     70.606   \n",
       "number_of_unique_vals                                                421   \n",
       "unique_vals            [Zocdoc, Healthgrades, BBDO, Grey Group, Droga...   \n",
       "\n",
       "                          Easy Apply  \\\n",
       "missing_ratio                    0.0   \n",
       "number_of_unique_vals              2   \n",
       "unique_vals            [False, True]   \n",
       "\n",
       "                                                                    City  \\\n",
       "missing_ratio                                                        0.0   \n",
       "number_of_unique_vals                                                185   \n",
       "unique_vals            [New York, Lyndhurst, Brooklyn, Jersey City, C...   \n",
       "\n",
       "                                                                   State  \\\n",
       "missing_ratio                                                        0.0   \n",
       "number_of_unique_vals                                                 11   \n",
       "unique_vals            [NY, NJ, CA, IL, TX, AZ, DE, PA, United Kingdo...   \n",
       "\n",
       "                                                       Headquarters_City  \\\n",
       "missing_ratio                                                       6.14   \n",
       "number_of_unique_vals                                                523   \n",
       "unique_vals            [Montreal, New York, Lyndhurst, Hartford, Stam...   \n",
       "\n",
       "                                              Headquarters_State/Country  \n",
       "missing_ratio                                                       6.14  \n",
       "number_of_unique_vals                                                 77  \n",
       "unique_vals            [Canada, NY, NJ, CT, United Kingdom, CA, IL, F...  "
      ]
     },
     "execution_count": 109,
     "metadata": {},
     "output_type": "execute_result"
    }
   ],
   "source": [
    "categorical_cols = ['Job Title', 'Job Description', 'Company Name', 'Type of ownership', 'Industry', 'Sector',\\\n",
    "                 'Competitors', 'Easy Apply', 'City', 'State', 'Headquarters_City', 'Headquarters_State/Country']\n",
    "def number_of_unique_vals(s):\n",
    "    return s.dropna().nunique()\n",
    "def unique_vals(s):\n",
    "    return s.dropna().unique()\n",
    "def missing_ratio(s):\n",
    "    return (s.isnull().mean()*100).round(3)\n",
    "cate_cols_profiles = ds_df[categorical_cols].agg([missing_ratio,number_of_unique_vals,unique_vals])\n",
    "cate_cols_profiles"
   ]
  },
  {
   "cell_type": "markdown",
   "id": "4c73b5d6",
   "metadata": {},
   "source": [
    "Cột `Competitors` có tỉ lệ thiếu rất lớn, tuy nhiên ta chưa chắc chắn lí do để loại bỏ cột này nên sẽ giữ nguyên. Các cột Categorical còn lại có vẻ không có gì bất thường."
   ]
  },
  {
   "cell_type": "markdown",
   "id": "363c3692",
   "metadata": {},
   "source": [
    "## Nhìn lại toàn bộ dữ liệu trước khi đặt câu hỏi"
   ]
  },
  {
   "cell_type": "code",
   "execution_count": 110,
   "id": "9a055213",
   "metadata": {},
   "outputs": [
    {
     "data": {
      "text/html": [
       "<div>\n",
       "<style scoped>\n",
       "    .dataframe tbody tr th:only-of-type {\n",
       "        vertical-align: middle;\n",
       "    }\n",
       "\n",
       "    .dataframe tbody tr th {\n",
       "        vertical-align: top;\n",
       "    }\n",
       "\n",
       "    .dataframe thead th {\n",
       "        text-align: right;\n",
       "    }\n",
       "</style>\n",
       "<table border=\"1\" class=\"dataframe\">\n",
       "  <thead>\n",
       "    <tr style=\"text-align: right;\">\n",
       "      <th></th>\n",
       "      <th>Job Title</th>\n",
       "      <th>Job Description</th>\n",
       "      <th>Rating</th>\n",
       "      <th>Company Name</th>\n",
       "      <th>Size</th>\n",
       "      <th>SalaryMin</th>\n",
       "      <th>SalaryMax</th>\n",
       "      <th>City</th>\n",
       "      <th>State</th>\n",
       "      <th>Founded</th>\n",
       "      <th>Type of ownership</th>\n",
       "      <th>Industry</th>\n",
       "      <th>Sector</th>\n",
       "      <th>Revenue</th>\n",
       "      <th>Headquarters_City</th>\n",
       "      <th>Headquarters_State/Country</th>\n",
       "      <th>Competitors</th>\n",
       "      <th>Easy Apply</th>\n",
       "    </tr>\n",
       "  </thead>\n",
       "  <tbody>\n",
       "    <tr>\n",
       "      <th>0</th>\n",
       "      <td>Senior Data Scientist</td>\n",
       "      <td>ABOUT HOPPER\\n\\nAt Hopper, we’re on a mission ...</td>\n",
       "      <td>3.5</td>\n",
       "      <td>Hopper</td>\n",
       "      <td>750.0</td>\n",
       "      <td>111</td>\n",
       "      <td>181</td>\n",
       "      <td>New York</td>\n",
       "      <td>NY</td>\n",
       "      <td>2007.0</td>\n",
       "      <td>Company - Private</td>\n",
       "      <td>Travel Agencies</td>\n",
       "      <td>Travel &amp; Tourism</td>\n",
       "      <td>NaN</td>\n",
       "      <td>Montreal</td>\n",
       "      <td>Canada</td>\n",
       "      <td>NaN</td>\n",
       "      <td>False</td>\n",
       "    </tr>\n",
       "    <tr>\n",
       "      <th>1</th>\n",
       "      <td>Data Scientist</td>\n",
       "      <td>At Noom, we use scientifically proven methods ...</td>\n",
       "      <td>4.5</td>\n",
       "      <td>Noom US</td>\n",
       "      <td>3000.0</td>\n",
       "      <td>111</td>\n",
       "      <td>181</td>\n",
       "      <td>New York</td>\n",
       "      <td>NY</td>\n",
       "      <td>2008.0</td>\n",
       "      <td>Company - Private</td>\n",
       "      <td>Health, Beauty, &amp; Fitness</td>\n",
       "      <td>Consumer Services</td>\n",
       "      <td>NaN</td>\n",
       "      <td>New York</td>\n",
       "      <td>NY</td>\n",
       "      <td>NaN</td>\n",
       "      <td>False</td>\n",
       "    </tr>\n",
       "    <tr>\n",
       "      <th>2</th>\n",
       "      <td>Data Science Manager</td>\n",
       "      <td>Decode_M\\n\\nhttps://www.decode-m.com/\\n\\nData ...</td>\n",
       "      <td>3.8</td>\n",
       "      <td>Decode_M</td>\n",
       "      <td>25.0</td>\n",
       "      <td>111</td>\n",
       "      <td>181</td>\n",
       "      <td>New York</td>\n",
       "      <td>NY</td>\n",
       "      <td>NaN</td>\n",
       "      <td>Unknown</td>\n",
       "      <td>NaN</td>\n",
       "      <td>NaN</td>\n",
       "      <td>NaN</td>\n",
       "      <td>New York</td>\n",
       "      <td>NY</td>\n",
       "      <td>NaN</td>\n",
       "      <td>True</td>\n",
       "    </tr>\n",
       "    <tr>\n",
       "      <th>3</th>\n",
       "      <td>Data Analyst</td>\n",
       "      <td>Sapphire Digital seeks a dynamic and driven mi...</td>\n",
       "      <td>3.4</td>\n",
       "      <td>Sapphire Digital</td>\n",
       "      <td>350.0</td>\n",
       "      <td>111</td>\n",
       "      <td>181</td>\n",
       "      <td>Lyndhurst</td>\n",
       "      <td>NJ</td>\n",
       "      <td>2019.0</td>\n",
       "      <td>Company - Private</td>\n",
       "      <td>Internet</td>\n",
       "      <td>Information Technology</td>\n",
       "      <td>NaN</td>\n",
       "      <td>Lyndhurst</td>\n",
       "      <td>NJ</td>\n",
       "      <td>Zocdoc, Healthgrades</td>\n",
       "      <td>False</td>\n",
       "    </tr>\n",
       "    <tr>\n",
       "      <th>4</th>\n",
       "      <td>Director</td>\n",
       "      <td>Director, Data Science - (200537)\\nDescription...</td>\n",
       "      <td>3.4</td>\n",
       "      <td>United Entertainment Group</td>\n",
       "      <td>125.0</td>\n",
       "      <td>111</td>\n",
       "      <td>181</td>\n",
       "      <td>New York</td>\n",
       "      <td>NY</td>\n",
       "      <td>2007.0</td>\n",
       "      <td>Company - Private</td>\n",
       "      <td>Advertising &amp; Marketing</td>\n",
       "      <td>Business Services</td>\n",
       "      <td>NaN</td>\n",
       "      <td>New York</td>\n",
       "      <td>NY</td>\n",
       "      <td>BBDO, Grey Group, Droga5</td>\n",
       "      <td>False</td>\n",
       "    </tr>\n",
       "  </tbody>\n",
       "</table>\n",
       "</div>"
      ],
      "text/plain": [
       "               Job Title                                    Job Description  \\\n",
       "0  Senior Data Scientist  ABOUT HOPPER\\n\\nAt Hopper, we’re on a mission ...   \n",
       "1         Data Scientist  At Noom, we use scientifically proven methods ...   \n",
       "2   Data Science Manager  Decode_M\\n\\nhttps://www.decode-m.com/\\n\\nData ...   \n",
       "3           Data Analyst  Sapphire Digital seeks a dynamic and driven mi...   \n",
       "4               Director  Director, Data Science - (200537)\\nDescription...   \n",
       "\n",
       "   Rating                Company Name    Size  SalaryMin  SalaryMax  \\\n",
       "0     3.5                      Hopper   750.0        111        181   \n",
       "1     4.5                     Noom US  3000.0        111        181   \n",
       "2     3.8                    Decode_M    25.0        111        181   \n",
       "3     3.4            Sapphire Digital   350.0        111        181   \n",
       "4     3.4  United Entertainment Group   125.0        111        181   \n",
       "\n",
       "        City State  Founded  Type of ownership                   Industry  \\\n",
       "0   New York    NY   2007.0  Company - Private            Travel Agencies   \n",
       "1   New York    NY   2008.0  Company - Private  Health, Beauty, & Fitness   \n",
       "2   New York    NY      NaN            Unknown                        NaN   \n",
       "3  Lyndhurst    NJ   2019.0  Company - Private                   Internet   \n",
       "4   New York    NY   2007.0  Company - Private    Advertising & Marketing   \n",
       "\n",
       "                   Sector  Revenue Headquarters_City  \\\n",
       "0        Travel & Tourism      NaN          Montreal   \n",
       "1       Consumer Services      NaN          New York   \n",
       "2                     NaN      NaN          New York   \n",
       "3  Information Technology      NaN         Lyndhurst   \n",
       "4       Business Services      NaN          New York   \n",
       "\n",
       "  Headquarters_State/Country               Competitors  Easy Apply  \n",
       "0                     Canada                       NaN       False  \n",
       "1                         NY                       NaN       False  \n",
       "2                         NY                       NaN        True  \n",
       "3                         NJ      Zocdoc, Healthgrades       False  \n",
       "4                         NY  BBDO, Grey Group, Droga5       False  "
      ]
     },
     "execution_count": 110,
     "metadata": {},
     "output_type": "execute_result"
    }
   ],
   "source": [
    "ds_df = ds_df[['Job Title', 'Job Description', 'Rating', 'Company Name', 'Size', 'SalaryMin', 'SalaryMax',\n",
    "               'City', 'State', 'Founded', 'Type of ownership', 'Industry', 'Sector', 'Revenue',\n",
    "               'Headquarters_City', 'Headquarters_State/Country','Competitors', 'Easy Apply']]\n",
    "ds_df.head()"
   ]
  },
  {
   "cell_type": "markdown",
   "id": "5a1d9904",
   "metadata": {},
   "source": [
    "## Đưa ra các câu hỏi cần trả lời\n",
    "\n",
    "(Chi tiết về mục đích, lợi ích, ... các câu hỏi sẽ được đề cập cụ thể ở mỗi câu)\n",
    "\n",
    "- **Câu hỏi 1:** Liệu điểm Rating có liên hệ với sự đãi ngộ về mức lương của một công ty hay không?\n",
    "\n",
    "- **Câu hỏi 2:** Những công cụ/ngôn ngữ nào thường được các nhà tuyển dụng yêu cầu trong thông báo tuyển dụng?\n",
    "\n",
    "- **Câu hỏi 3:** Phân bố các Sector theo State như thế nào?\n",
    "\n",
    "- **Câu hỏi 4:** Vị trí Data Science mà các lĩnh vực mạnh có nhu cầu tuyển dụng cao? \n",
    "\n",
    "- **Câu hỏi 5:** Mức lương có liên quan tới size của công ty không?"
   ]
  },
  {
   "cell_type": "markdown",
   "id": "db9bcade",
   "metadata": {},
   "source": [
    "### Câu hỏi 1: Liệu điểm Rating có liên hệ với sự đãi ngộ về mức lương của một công ty hay không?\n",
    "\n",
    "Lương thưởng luôn là vấn đề ưu tiên hàng đầu của mọi người khi tìm kiếm việc làm, còn rating phản ánh chất lượng của một công ty nào đó bởi những người đã hoặc đang làm việc tại đó. Việc xem xét Rating và mức lương sẽ giúp có được cái nhìn về khía cạnh lương thưởng của các công ty trên thị trường tuyển dụng. (Những công ty có điểm Rating thấp có mức lương như thế nào, có chênh lệch nhiều so với những công ty được đánh giá cao hơn hay không? Những công ty được đánh giá cao thì mức lương đi kèm của họ có thực sự cao hơn không và cao hơn như thế nào?,...)"
   ]
  },
  {
   "cell_type": "markdown",
   "id": "17a64f41",
   "metadata": {},
   "source": [
    "Đầu tiên, ta thấy điểm `Rating` thường là các số thập phân, do đó ta sẽ thực hiện đánh giá bằng 2 bước:\n",
    "- **Bước 1:** Gom các `Rating` thành 5 nhóm `(0,1], (1,2], (2,3], (3,4], (4,5]`, sau đó tính số lượng, giá trị min, max, median và mean của các cột `SalaryMin`, `SalaryMax`.\n",
    "- **Bước 2:** Vẽ biểu đồ cột về tương quan giữa mức lương trung bình (của cột `SalaryMin` và `SalaryMax`) và điểm được đánh giá. Vẽ biểu đồ tròn để thấy được tỉ lệ điểm đánh giá giữa các nhóm."
   ]
  },
  {
   "cell_type": "markdown",
   "id": "5f90f8fd",
   "metadata": {},
   "source": [
    "**Bước 1:** Gom nhóm và tính các giá trị thống kê."
   ]
  },
  {
   "cell_type": "code",
   "execution_count": 111,
   "id": "88e47f73",
   "metadata": {},
   "outputs": [
    {
     "data": {
      "text/html": [
       "<div>\n",
       "<style scoped>\n",
       "    .dataframe tbody tr th:only-of-type {\n",
       "        vertical-align: middle;\n",
       "    }\n",
       "\n",
       "    .dataframe tbody tr th {\n",
       "        vertical-align: top;\n",
       "    }\n",
       "\n",
       "    .dataframe thead tr th {\n",
       "        text-align: left;\n",
       "    }\n",
       "</style>\n",
       "<table border=\"1\" class=\"dataframe\">\n",
       "  <thead>\n",
       "    <tr>\n",
       "      <th></th>\n",
       "      <th colspan=\"6\" halign=\"left\">Rating</th>\n",
       "      <th colspan=\"5\" halign=\"left\">SalaryMin</th>\n",
       "      <th colspan=\"5\" halign=\"left\">SalaryMax</th>\n",
       "    </tr>\n",
       "    <tr>\n",
       "      <th></th>\n",
       "      <th></th>\n",
       "      <th>count</th>\n",
       "      <th>min</th>\n",
       "      <th>max</th>\n",
       "      <th>mean</th>\n",
       "      <th>median</th>\n",
       "      <th>count</th>\n",
       "      <th>min</th>\n",
       "      <th>max</th>\n",
       "      <th>mean</th>\n",
       "      <th>median</th>\n",
       "      <th>count</th>\n",
       "      <th>min</th>\n",
       "      <th>max</th>\n",
       "      <th>mean</th>\n",
       "      <th>median</th>\n",
       "    </tr>\n",
       "  </thead>\n",
       "  <tbody>\n",
       "    <tr>\n",
       "      <th>0</th>\n",
       "      <td>(0, 1]</td>\n",
       "      <td>10</td>\n",
       "      <td>1.0</td>\n",
       "      <td>1.0</td>\n",
       "      <td>1.00</td>\n",
       "      <td>1.0</td>\n",
       "      <td>10</td>\n",
       "      <td>12</td>\n",
       "      <td>156</td>\n",
       "      <td>87.30</td>\n",
       "      <td>90</td>\n",
       "      <td>10</td>\n",
       "      <td>56</td>\n",
       "      <td>254</td>\n",
       "      <td>138.40</td>\n",
       "      <td>120.0</td>\n",
       "    </tr>\n",
       "    <tr>\n",
       "      <th>1</th>\n",
       "      <td>(1, 2]</td>\n",
       "      <td>18</td>\n",
       "      <td>1.5</td>\n",
       "      <td>2.0</td>\n",
       "      <td>1.74</td>\n",
       "      <td>1.6</td>\n",
       "      <td>18</td>\n",
       "      <td>45</td>\n",
       "      <td>138</td>\n",
       "      <td>78.67</td>\n",
       "      <td>74</td>\n",
       "      <td>18</td>\n",
       "      <td>78</td>\n",
       "      <td>217</td>\n",
       "      <td>127.94</td>\n",
       "      <td>105.5</td>\n",
       "    </tr>\n",
       "    <tr>\n",
       "      <th>2</th>\n",
       "      <td>(2, 3]</td>\n",
       "      <td>317</td>\n",
       "      <td>2.1</td>\n",
       "      <td>3.0</td>\n",
       "      <td>2.74</td>\n",
       "      <td>2.8</td>\n",
       "      <td>317</td>\n",
       "      <td>12</td>\n",
       "      <td>156</td>\n",
       "      <td>77.28</td>\n",
       "      <td>74</td>\n",
       "      <td>317</td>\n",
       "      <td>27</td>\n",
       "      <td>254</td>\n",
       "      <td>126.31</td>\n",
       "      <td>123.0</td>\n",
       "    </tr>\n",
       "    <tr>\n",
       "      <th>3</th>\n",
       "      <td>(3, 4]</td>\n",
       "      <td>2455</td>\n",
       "      <td>3.1</td>\n",
       "      <td>4.0</td>\n",
       "      <td>3.65</td>\n",
       "      <td>3.7</td>\n",
       "      <td>2455</td>\n",
       "      <td>12</td>\n",
       "      <td>200</td>\n",
       "      <td>80.26</td>\n",
       "      <td>75</td>\n",
       "      <td>2455</td>\n",
       "      <td>27</td>\n",
       "      <td>254</td>\n",
       "      <td>132.02</td>\n",
       "      <td>125.0</td>\n",
       "    </tr>\n",
       "    <tr>\n",
       "      <th>4</th>\n",
       "      <td>(4, 5]</td>\n",
       "      <td>1109</td>\n",
       "      <td>4.1</td>\n",
       "      <td>5.0</td>\n",
       "      <td>4.45</td>\n",
       "      <td>4.4</td>\n",
       "      <td>1109</td>\n",
       "      <td>10</td>\n",
       "      <td>200</td>\n",
       "      <td>86.90</td>\n",
       "      <td>84</td>\n",
       "      <td>1109</td>\n",
       "      <td>26</td>\n",
       "      <td>254</td>\n",
       "      <td>140.02</td>\n",
       "      <td>143.0</td>\n",
       "    </tr>\n",
       "  </tbody>\n",
       "</table>\n",
       "</div>"
      ],
      "text/plain": [
       "   Rating                              SalaryMin                         \\\n",
       "          count  min  max  mean median     count min  max   mean median   \n",
       "0  (0, 1]    10  1.0  1.0  1.00    1.0        10  12  156  87.30     90   \n",
       "1  (1, 2]    18  1.5  2.0  1.74    1.6        18  45  138  78.67     74   \n",
       "2  (2, 3]   317  2.1  3.0  2.74    2.8       317  12  156  77.28     74   \n",
       "3  (3, 4]  2455  3.1  4.0  3.65    3.7      2455  12  200  80.26     75   \n",
       "4  (4, 5]  1109  4.1  5.0  4.45    4.4      1109  10  200  86.90     84   \n",
       "\n",
       "  SalaryMax                          \n",
       "      count min  max    mean median  \n",
       "0        10  56  254  138.40  120.0  \n",
       "1        18  78  217  127.94  105.5  \n",
       "2       317  27  254  126.31  123.0  \n",
       "3      2455  27  254  132.02  125.0  \n",
       "4      1109  26  254  140.02  143.0  "
      ]
     },
     "execution_count": 111,
     "metadata": {},
     "output_type": "execute_result"
    }
   ],
   "source": [
    "rs_df = ds_df[['Rating','SalaryMin','SalaryMax']].groupby(pd.cut(ds_df.Rating,[0,1,2,3,4,5]))\\\n",
    "                .agg(['count','min','max','mean','median']).round(2).reset_index()\n",
    "rs_df"
   ]
  },
  {
   "cell_type": "markdown",
   "id": "fe77b8cd",
   "metadata": {},
   "source": [
    "**Bước 2:** Vẽ biểu đồ để thể hiện các mối liên hệ. Ở bước 1, ta thấy các giá trị mean và median (`SalaryMin,SalaryMax`) khá gần nhau nên ta sẽ dùng giá trị mean để vẽ biểu đồ."
   ]
  },
  {
   "cell_type": "code",
   "execution_count": 112,
   "id": "9c699468",
   "metadata": {},
   "outputs": [
    {
     "data": {
      "image/png": "[encoded data removed]",
      "text/plain": [
       "<Figure size 1080x504 with 2 Axes>"
      ]
     },
     "metadata": {
      "needs_background": "light"
     },
     "output_type": "display_data"
    }
   ],
   "source": [
    "fig, axs = plt.subplots(1, 2)\n",
    "# Vẽ biểu đồ cột\n",
    "labels = ['(0, 1]','(1, 2]','(2, 3]','(3, 4]','(4,5]']\n",
    "salary_df = pd.DataFrame()\n",
    "salary_df['MinSalary'] = rs_df['SalaryMin']['mean']\n",
    "salary_df['MaxSalary'] = rs_df['SalaryMax']['mean']\n",
    "salary_df.index = labels\n",
    "salary_df.plot(ax = axs[0], kind = 'bar', figsize=(15, 7))\n",
    "axs[0].set_title('Average salary range by ratings')\n",
    "axs[0].set_xlabel('Ratings')\n",
    "axs[0].set_ylabel('Salary (in thousand)')\n",
    "# Vẽ biểu đồ tròn\n",
    "rating_df = rs_df['Rating']['count']\n",
    "rating_df.plot(ax = axs[1], kind = 'pie',autopct = '%.2f',figsize=(15, 7),labels = None)\n",
    "axs[1].set_title('Perentage of number of companies by ratings')\n",
    "axs[1].set_ylabel('')\n",
    "plt.legend(title = 'Rating',labels = labels)\n",
    "\n",
    "fig.suptitle('Salary and percentage of number of companies by ratings')\n",
    "plt.show()"
   ]
  },
  {
   "cell_type": "markdown",
   "id": "9561577c",
   "metadata": {},
   "source": [
    "Như vậy, sau khi vẽ biểu đồ xong, ta có những đánh giá sau:\n",
    "- Phần lớn các công ty có điểm `Rating` nằm ở mức từ 3 đến 4 điểm, chiếm 62.8%. Tiếp theo là các công ty có điểm `Rating` từ 4 đến 5, chiếm 28.37%. Các công ty có điểm nằm ở các nhóm thấp hơn (dưới 3 điểm) chỉ chiếm tỉ lệ rất nhỏ, chưa tới 10%.\n",
    "- Những công ty có mức `Rating` cao hơn (trong nhóm từ 2 điểm trở lên) thường có mức đãi ngộ cao hơn về lương (cả mức thấp nhất lẫn mức cao nhất). Những công ty có điểm `Rating` thấp không có nghĩa là mức lương sẽ thấp. Tuy nhiên, chúng ta cũng nên lưu ý rằng lượng công ty có điểm `Rating` thấp chỉ chiếm 1 phần rất nhỏ, gần như không đáng kể so với phần còn lại.\n",
    "- Mức chênh lệch giữa các cột `SalaryMax` với nhau và các cột `SalaryMin` với nhau là có và khá đáng kể (VD: ở cột SalaryMax thì mức chênh lệch giữa nhóm `(3,4]` và nhóm `(4,5]` là ~8000USD/year).\n",
    "\n",
    "Ta kết luận được rằng, với các công ty trong tập dữ liệu đang xét, mức lương và `Rating` có mối liên hệ với nhau. Những công ty có điểm `Rating` càng cao thì mức lương sẽ càng cao."
   ]
  },
  {
   "cell_type": "markdown",
   "id": "8a918609",
   "metadata": {},
   "source": [
    "### Câu hỏi 2: Những công cụ/ngôn ngữ lập trình nào thường xuyên được các công ty yêu cầu trong thông báo tuyển dụng?\n",
    "\n",
    "Trong các thông tin tuyển dụng, phần yêu cầu về chuyên môn luôn là phần quan trọng, vì nó sẽ cho các ứng viên biết họ cần phải có những kĩ năng gì, trình độ nào để có thể ứng tuyển vào vị trí mà công ty đang tuyển dụng. Một trong số những yêu cầu quan trọng đối với các ngành nghề liên quan tới Data là việc sử dụng thành thạo các ngôn ngữ lập trình, các công cụ xử lí, các framework, library liên quan tới Data. Do đó, việc trả lời câu hỏi trên sẽ giúp chúng ta biết được các nhà tuyển dụng thường cần ở các ứng viên những gì, để chúng ta có thể chuẩn bị tốt nhất về mặt chuyên môn khi ứng tuyển.\n",
    "\n",
    "Tham khảo một số công cụ/ngôn ngữ phổ biến: [Link 1](https://medium.com/javarevisited/best-11-data-science-programming-languages-in-2020-122a7ea2bb63), [Link 2](https://www.analyticsinsight.net/10-best-data-science-programming-languages-for-data-aspirants-in-2021/)\n",
    "\n",
    "Để trả lời câu hỏi trên, ta sẽ thực hiện 2 bước:\n",
    "- **Bước 1:** Tính tỉ lệ mà các công cụ/ngôn ngữ được yêu cầu trên toàn bộ tập dữ liệu bằng cách tính số lần xuất hiện của công cụ/ngôn ngữ đó trong cột `Job Description` chia cho tổng số dòng. Trong danh sách này sẽ bao gồm một số ngôn ngữ/công cụ phổ biến: `python, SQL, power BI, excel, tableau, hadoop, scala, pandas, matplotlib, matlab, julia, java`. (vì hạn chế về các thao tác xử lí nên những ngôn ngữ như R, SAS,... sẽ không được đề cập ở đây)\n",
    "- **Bước 2:** Vẽ biểu đồ bar chart để thể hiện các tỉ lệ."
   ]
  },
  {
   "cell_type": "markdown",
   "id": "89d7a2e6",
   "metadata": {},
   "source": [
    "**Bước 1:** Tính tỉ lệ về yêu cầu của các công cụ/ngôn ngữ."
   ]
  },
  {
   "cell_type": "code",
   "execution_count": 113,
   "id": "7c89365b",
   "metadata": {},
   "outputs": [],
   "source": [
    "def split_require(s):\n",
    "    s = s.lower()\n",
    "    options = ['python', 'sql', 'power bi', 'excel', 'tableau', 'hadoop', 'scala', 'pandas',\\\n",
    "               'matplotlib', 'matlab','julia', 'java']\n",
    "    checks = [1 if o in s else 0 for o in options]\n",
    "    return dict(zip(options,checks))\n",
    "# Tính các loại ngôn ngữ được yêu cầu, lưu vào DataFrame với mỗi giá trị là 1 dict.{language1:1,language2:0,...} với giá trị 1\n",
    "# là ngôn ngữ đó được yêu cầu và 0 là ngược lại\n",
    "language_require_df = pd.DataFrame()\n",
    "language_require_df['options'] = ds_df['Job Description'].apply(split_require)\n",
    "# Tách các giá trị trong cột thành DataFrame\n",
    "language_require_df = pd.DataFrame(language_require_df['options'].values.tolist(), index = language_require_df.index)\n",
    "# Tính tỉ lệ được yêu cầu của mỗi loại ngôn ngữ và sort giảm dần\n",
    "language_require_ratio = (language_require_df.mean()*100).sort_values(ascending = False)"
   ]
  },
  {
   "cell_type": "markdown",
   "id": "38fee0f4",
   "metadata": {},
   "source": [
    "**Bước 2:** Vẽ biểu đồ tỉ lệ."
   ]
  },
  {
   "cell_type": "code",
   "execution_count": 114,
   "id": "bb5fae9c",
   "metadata": {},
   "outputs": [
    {
     "data": {
      "image/png": "[encoded data removed]",
      "text/plain": [
       "<Figure size 1080x504 with 1 Axes>"
      ]
     },
     "metadata": {
      "needs_background": "light"
     },
     "output_type": "display_data"
    }
   ],
   "source": [
    "language_require_ratio.plot.bar(figsize=(15, 7))\n",
    "plt.xlabel('Tool/Language requirement')\n",
    "plt.ylabel('Percentage')\n",
    "plt.title('Percentage of tool/language requirement')\n",
    "plt.show();"
   ]
  },
  {
   "cell_type": "markdown",
   "id": "4c5037ea",
   "metadata": {},
   "source": [
    "Như vậy ta có nhận xét:\n",
    "- Trong các ngôn ngữ được xét, Python và SQL là 2 ngôn ngữ được các nhà tuyển dụng chú trọng nhất, chiếm hơn 50% các yêu cầu tuyển dụng. Tiếp theo đó là Excel với gần 50%.\n",
    "- Các ngôn ngữ/công cụ tiếp theo là Scala, Java, Tableau, Hadoop chiếm khoảng từ 15-30%.\n",
    "- Các ngôn ngữ/công cụ còn lại chiếm tỉ lệ khá thấp, dưới 10%. Tuy nhiên trong phần trên có pandas và matplotlib chỉ là 2 thư viện của python. Do đó, có thể nhà tuyển dụng không ghi cụ thể mà chỉ đề cập vào python nói chung.\n",
    "\n",
    "Từ dữ liệu đã phân tích, ta có thể trả lời được câu hỏi: nhóm các ngôn ngữ thường được nhà tuyển dụng yêu cầu nhiều nhất là Python, SQL, Excel. Chúng ta nên tập trung học những ngôn ngữ này để có nhiều cơ hội ứng tuyển vào các ngành nghề liên quan tới Data Science. Ngoài ra, những ngôn ngữ như Scala, Java, Tableau, Hadoop cũng rất đáng để đầu tư thời gian."
   ]
  },
  {
   "cell_type": "markdown",
   "id": "af98443c",
   "metadata": {},
   "source": [
    "### Câu hỏi 3: Phân bố các Sector theo State như thế nào?\n",
    "\n",
    "Các công ty thường sẽ chọn những nơi đặt trụ sở mà có thể giúp họ có thể thu hút được nhiều nhân sự giỏi cũng như thuận tiện cho việc phát triển của cả công ty. Và cũng tùy ngành/lĩnh vực hoặc khả năng phát triển mà các công ty có thể tập trung ở một nơi (e.g Silicon Valley là nơi tập trung rất nhiều các công ty về công nghệ tại Mỹ). Đối với những nhà khoa học dữ liệu nói riêng và những người làm việc liên quan tới dữ liệu nói riêng, ngoài việc có kiến thức chuyên môn về dữ liệu, những kiến thức và kinh nghiệm ở các ngành khác (e.g Finance, Business Services, Biotech,...) sẽ giúp họ có lợi thế hơn khi ứng tuyển và có thể phát huy tốt nhất khả năng khi được nhận công việc đó. Vì vậy, việc biết được sự phân bố các **Sector** theo **State** sẽ giúp chúng ta biết được ở những khu vực nào thì có nhu cầu tuyển dụng cao, và công ty đang tuyển dụng đó thuộc vào ngành nào."
   ]
  },
  {
   "cell_type": "markdown",
   "id": "412a7c01",
   "metadata": {},
   "source": [
    "Xem lại các giá trị trong cột `State`."
   ]
  },
  {
   "cell_type": "code",
   "execution_count": 115,
   "id": "0ade772f",
   "metadata": {},
   "outputs": [
    {
     "data": {
      "text/plain": [
       "array(['NY', 'NJ', 'CA', 'IL', 'TX', 'AZ', 'DE', 'PA', 'United Kingdom',\n",
       "       'FL', 'OH'], dtype=object)"
      ]
     },
     "execution_count": 115,
     "metadata": {},
     "output_type": "execute_result"
    }
   ],
   "source": [
    "ds_df['State'].unique()"
   ]
  },
  {
   "cell_type": "markdown",
   "id": "7e719726",
   "metadata": {},
   "source": [
    "#### Tiền xử lí dữ liệu\n",
    "\n",
    "Ở phần trên ta đã biết được rằng cột `Sector` bị thiếu giá trị còn cột `State` thì không. Tên của các `State` cũng nằm ở dạng viết tắt, ta sẽ viết lại dưới dạng tên đầy đủ. Trường hợp ngoại lệ trong cột `State` là `United Kingdom`, giá trị này sẽ được giữ nguyên. Ta sẽ tiền xử lí theo các bước:\n",
    "- Lấy ra 2 cột dữ liệu và đưa vào DataFrame `ss_df`.\n",
    "- Với các giá trị thiếu ở cột `Sector`, ta sẽ điền bằng mode của `State` tương ứng (e.g 1 dòng có giá trị `Sector` là `nan` còn giá trị `State` là `AZ` thì ta sẽ điền `Sector` xuất hiện nhiều nhất ứng với `AZ`). Nếu `State` chỉ bao gồm các giá trị `nan` thì ta gán bằng mode trên toàn bộ `ss_df`.\n",
    "- Gán lại giá trị của các `State` dưới dạng tên đầy đủ. [Link tham khảo](https://www.scouting.org/resources/los/states/)"
   ]
  },
  {
   "cell_type": "code",
   "execution_count": 116,
   "id": "ea5cf0bc",
   "metadata": {
    "scrolled": true
   },
   "outputs": [],
   "source": [
    "# Bước 1: Lấy ra các cột cần xử lí\n",
    "ss_df = ds_df[['Sector','State']].copy()\n",
    "\n",
    "# Bước 2.1: Tính mode Sector tương ứng của các State\n",
    "def getmode(s,d):\n",
    "    if s.value_counts().empty:\n",
    "        return d\n",
    "    return s.value_counts().index[0][0]\n",
    "majority_sector_in_state = ss_df.groupby('State',dropna=False).agg(getmode,ss_df.Sector.value_counts().index[0][0])\n",
    "# Bước 2.2: Thay thế các giá trị nan trong Sector từ các mode đã tính được\n",
    "def rep(s,a):\n",
    "    if type(s.Sector)!=str:\n",
    "        if np.isnan(s.Sector):\n",
    "            return a.loc[s.State,'Sector']\n",
    "    else:\n",
    "        return s.Sector\n",
    "ss_df.loc[:,'Sector'] = ss_df.apply(rep,axis=1,args=(majority_sector_in_state,)).values\n",
    "\n",
    "# Bước 3: Gán lại giá trị các State\n",
    "ss_df.replace({'AZ':'Arizona', 'CA':'California', 'DE':'Delaware', 'FL':'Florida', 'IL':'Illinois',\\\n",
    "               'NJ':'New Jersey', 'NY':'New York', 'OH':'Ohio', 'PA':'Pennsylvania', 'TX':'Texas'},inplace=True)"
   ]
  },
  {
   "cell_type": "markdown",
   "id": "bae3ddf2",
   "metadata": {},
   "source": [
    "#### Khám phá dữ liệu và trả lời câu hỏi"
   ]
  },
  {
   "cell_type": "code",
   "execution_count": 117,
   "id": "f69e0c9e",
   "metadata": {},
   "outputs": [
    {
     "data": {
      "text/plain": [
       "Information Technology                1597\n",
       "Business Services                      716\n",
       "Biotech & Pharmaceuticals              329\n",
       "Finance                                270\n",
       "Health Care                            197\n",
       "Insurance                              109\n",
       "Education                              101\n",
       "Manufacturing                           87\n",
       "Government                              82\n",
       "Media                                   75\n",
       "Retail                                  72\n",
       "Accounting & Legal                      71\n",
       "Aerospace & Defense                     37\n",
       "Oil, Gas, Energy & Utilities            34\n",
       "Telecommunications                      21\n",
       "Consumer Services                       20\n",
       "Non-Profit                              18\n",
       "Transportation & Logistics              16\n",
       "Construction, Repair & Maintenance      16\n",
       "Real Estate                             12\n",
       "Arts, Entertainment & Recreation        10\n",
       "Restaurants, Bars & Food Services        9\n",
       "Agriculture & Forestry                   5\n",
       "Travel & Tourism                         4\n",
       "Mining & Metals                          1\n",
       "Name: Sector, dtype: int64"
      ]
     },
     "execution_count": 117,
     "metadata": {},
     "output_type": "execute_result"
    }
   ],
   "source": [
    "ss_df.Sector.value_counts()"
   ]
  },
  {
   "cell_type": "markdown",
   "id": "260dfec4",
   "metadata": {},
   "source": [
    "**Nhận xét:** có 2 ngành có lượng công ty tuyển dụng lớn là `Information Technology` và `Business Services`. Hai ngành này có lượng tuyển dụng lớn hơn rất nhiều so với các ngành còn lại. Xếp sau hai ngành trên là các ngành có lượng tuyển dụng từ khoảng 300 trở xuống. Có những ngành có số lượng tuyển dụng rất thấp, vì vậy ta sẽ gom những ngành có lượng tuyển dụng thấp thành 1 nhóm chung là `Another`. Nhóm này sẽ gồm những ngành chỉ có dưới 50 lượt tuyển dụng."
   ]
  },
  {
   "cell_type": "markdown",
   "id": "d9da3ef6",
   "metadata": {},
   "source": [
    "Để trả lời câu hỏi đã đặt ra, ta sẽ thực hiện các bước như sau:\n",
    "- **Bước 1:** Gộp những `Sector` có lượt tuyển dụng dưới 50 thành nhóm `Another`.\n",
    "- **Bước 2:** Gom nhóm theo `State` và `Sector` rồi đếm số lượng của mỗi nhóm.\n",
    "- **Bước 3:** Vẽ biểu đồ heat map để thể hiện mối liên hệ giữa `Sector` và `State`."
   ]
  },
  {
   "cell_type": "markdown",
   "id": "1bab358d",
   "metadata": {},
   "source": [
    "**Bước 1:** Gộp các `Sector` có lượt tuyển dụng dưới 50."
   ]
  },
  {
   "cell_type": "code",
   "execution_count": 118,
   "id": "a1d15fae",
   "metadata": {},
   "outputs": [],
   "source": [
    "minority_sectors = ss_df.Sector.value_counts()[ss_df.Sector.value_counts()<50].index.to_list()\n",
    "ss_df.replace(minority_sectors,'Another',inplace = True)"
   ]
  },
  {
   "cell_type": "markdown",
   "id": "c255a4b1",
   "metadata": {},
   "source": [
    "**Bước 2:** Gom nhóm theo `Sector` và `State` rồi đếm số lượng của mỗi nhóm."
   ]
  },
  {
   "cell_type": "code",
   "execution_count": 119,
   "id": "0c048b6c",
   "metadata": {},
   "outputs": [],
   "source": [
    "ss = ss_df.groupby(['State','Sector'],dropna=False).size().unstack(fill_value=0)"
   ]
  },
  {
   "cell_type": "markdown",
   "id": "1bd478d2",
   "metadata": {},
   "source": [
    "**Bước 3:** Vẽ biểu đồ heat map để thể hiện tương quan."
   ]
  },
  {
   "cell_type": "code",
   "execution_count": 120,
   "id": "af5550b9",
   "metadata": {
    "scrolled": false
   },
   "outputs": [
    {
     "data": {
      "image/png": "[encoded data removed]",
      "text/plain": [
       "<Figure size 1080x504 with 2 Axes>"
      ]
     },
     "metadata": {
      "needs_background": "light"
     },
     "output_type": "display_data"
    }
   ],
   "source": [
    "plt.figure(figsize=(15, 7))\n",
    "sns.heatmap(ss,cmap=\"YlGnBu\");"
   ]
  },
  {
   "cell_type": "markdown",
   "id": "ef501eba",
   "metadata": {},
   "source": [
    "Như vậy, ta có nhận xét:\n",
    "- Các công ty thuộc ngành ***Information technology*** là những công ty tuyển dụng vị trí liên quan đến data nhiều nhất. Những công ty này tập trung phần lớn ở ***Texas*** và ***California***. Những vùng khác tập trung với số lượng thấp hơn là ***Arizona, Illinois, New York***.\n",
    "- Ngành cần nhiều nhân lực xếp sau ***Information technology*** là ***Business Services*** và các công ty chủ yếu tập trung ở ***Texas*** và ***California***.\n",
    "- Các ngành khác cũng yêu cầu nhân sự về mảng data nhưng số lượng rất thấp.\n",
    "\n",
    "Từ dữ liệu đã phân tích, ta trả lời được câu hỏi: hầu hết các công ty cần nhân lực về Data Science nói chung và về mảng Data nói riêng là những công ty về ***Information technology***, tiếp đó là ***Business Services, Biotech & Pharmaceuticals***,... Do đó nếu có thêm những kiến thức về những ngành khác thì sẽ có lợi thế và có nhiều sự lựa chọn hơn khi tìm việc. Những vùng tập trung nhiều các công ty là ***Texas,California,Arizona, Illinois, New York***,..."
   ]
  },
  {
   "cell_type": "markdown",
   "id": "6d3952ce",
   "metadata": {},
   "source": [
    "### Câu hỏi 4: Vị trí Data Science mà các lĩnh vực mạnh có nhu cầu tuyển dụng cao? \n",
    "\n",
    "Việc xác định các vị trí Data Science có nhu cầu tuyển dụng cao sẽ giúp ta có cái nhìn về nhu cầu tuyển dụng lao động DS hiện nay cũng như các lĩnh vực mà DS có thể tham gia vào."
   ]
  },
  {
   "cell_type": "markdown",
   "id": "706d22dd",
   "metadata": {},
   "source": [
    "Đầu tiên, ta cần xác định lĩnh vực mạnh là gì? Ta sẽ xem lĩnh vực mạnh là các lĩnh vực mà có nhiều công ty thông báo tuyển dụng theo nhất (top 10 của cột `Sector`). Sau đó, dựa trên top 10 các lĩnh vực vừa xác định, ta sẽ đi tìm những vị trí Data Science mà các lĩnh vực này tuyển dụng nhiều.\n",
    "* **Bước 1:** Xác định lĩnh vực mạnh từ cột `Sector`.\n",
    "* **Bước 2:** Xử lý cột `Job Title`.\n",
    "* **Bước 3:** Trả lời câu hỏi đặt ra \" Vị trí Data Science mà các lĩnh vực mạnh có nhu cầu tuyển dụng cao? \""
   ]
  },
  {
   "cell_type": "markdown",
   "id": "78884158",
   "metadata": {},
   "source": [
    "**Bước 1:** Xác định các lĩnh vực mạnh từ cột Sector"
   ]
  },
  {
   "cell_type": "code",
   "execution_count": 136,
   "id": "735eca50",
   "metadata": {},
   "outputs": [
    {
     "name": "stdout",
     "output_type": "stream",
     "text": [
      "1361\n"
     ]
    },
    {
     "data": {
      "text/plain": [
       "array(['Travel & Tourism', 'Consumer Services', nan,\n",
       "       'Information Technology', 'Business Services', 'Insurance',\n",
       "       'Finance', 'Retail', 'Media', 'Restaurants, Bars & Food Services',\n",
       "       'Agriculture & Forestry', 'Non-Profit', 'Education', 'Government',\n",
       "       'Health Care', 'Oil, Gas, Energy & Utilities',\n",
       "       'Accounting & Legal', 'Manufacturing', 'Real Estate',\n",
       "       'Biotech & Pharmaceuticals', 'Arts, Entertainment & Recreation',\n",
       "       'Aerospace & Defense', 'Construction, Repair & Maintenance',\n",
       "       'Transportation & Logistics', 'Telecommunications',\n",
       "       'Mining & Metals'], dtype=object)"
      ]
     },
     "execution_count": 136,
     "metadata": {},
     "output_type": "execute_result"
    }
   ],
   "source": [
    "print(len(ds_df[''].unique()))\n",
    "ds_df['Sector'].unique()"
   ]
  },
  {
   "cell_type": "markdown",
   "id": "95629220",
   "metadata": {},
   "source": [
    "Trong cột `Sector` có xuất hiện giá trị thiếu nhưng các bước phân tích phía dưới sẽ không xét đến giá trị này nên không cần thực hiện xóa hay thay thế dòng có giá trị `nan`."
   ]
  },
  {
   "cell_type": "code",
   "execution_count": 53,
   "id": "26e804da",
   "metadata": {},
   "outputs": [
    {
     "data": {
      "text/plain": [
       "Information Technology       1124\n",
       "Business Services             679\n",
       "Biotech & Pharmaceuticals     293\n",
       "Finance                       270\n",
       "Health Care                   197\n",
       "Insurance                     109\n",
       "Education                     101\n",
       "Manufacturing                  87\n",
       "Government                     82\n",
       "Media                          75\n",
       "Name: Sector, dtype: int64"
      ]
     },
     "execution_count": 53,
     "metadata": {},
     "output_type": "execute_result"
    }
   ],
   "source": [
    "top_10_sector = ds_df['Sector'].value_counts()[:10]\n",
    "top_10_sector"
   ]
  },
  {
   "cell_type": "code",
   "execution_count": 61,
   "id": "05d95385",
   "metadata": {},
   "outputs": [
    {
     "data": {
      "image/png": "[encoded data removed]",
      "text/plain": [
       "<Figure size 1080x504 with 1 Axes>"
      ]
     },
     "metadata": {
      "needs_background": "light"
     },
     "output_type": "display_data"
    }
   ],
   "source": [
    "# Trực quan hóa top 10 sector\n",
    "top_10_sector.sort_values().plot.barh(figsize=(15, 7))\n",
    "plt.xlabel('Count')\n",
    "plt.ylabel('Sector')\n",
    "plt.title('Top 10 sector')\n",
    "plt.show();"
   ]
  },
  {
   "cell_type": "markdown",
   "id": "fc17d8d5",
   "metadata": {},
   "source": [
    "Qua biểu đồ trên, ta có thể đưa ra các nhận xét:\n",
    "* `Information Technology` là lĩnh vực có nhu cầu tuyển dụng cao nhất và lớn hơn rất nhiều so với các lĩnh vực còn lại (gần gấp đôi lĩnh vực thứ 2 là `Business Services`)\n",
    "\n",
    "* 26 lĩnh vực trong 3909 thông báo tuyển dụng đã cho thấy sự đa dạng về lĩnh vực trong Data Science. "
   ]
  },
  {
   "cell_type": "markdown",
   "id": "33bfa3de",
   "metadata": {},
   "source": [
    "**Bước 2:** Xử lý cột `Job Title`"
   ]
  },
  {
   "cell_type": "code",
   "execution_count": 123,
   "id": "93b3193e",
   "metadata": {},
   "outputs": [
    {
     "name": "stdout",
     "output_type": "stream",
     "text": [
      "Data Scientist\n",
      "Data Engineer\n",
      "Data Analyst\n",
      "Senior Data Scientist\n",
      "Data Scientist \n",
      "Senior Data Analyst\n",
      "Senior Data Engineer\n",
      "Machine Learning Engineer\n",
      "Senior Scientist\n",
      "Scientist\n",
      "Big Data Engineer\n",
      "Lead Data Scientist\n",
      "Business Intelligence Analyst\n",
      "Principal Data Scientist\n",
      "Federal \n",
      "Research Scientist\n",
      "Data Analyst \n",
      "Data Engineer \n",
      "Quantum Principal Data Scientist (Industrial\n",
      "Research Scientist \n",
      "Principal Scientist\n",
      "Senior Data Scientist \n",
      "Statistician (Data Scientist) *12 month Roster* *Direct Hire*\n",
      "AI\n",
      "Quantitative Researcher\n",
      "Data Modeler\n",
      "Junior Data Analyst\n",
      "Medical Laboratory Scientist \n",
      "Quantum Data Scientist (Industrial\n",
      "Microsoft Analytics Consultant\n",
      "Microsoft Dynamics CRM Data Analyst\n",
      "Associate Scientist\n",
      "COMPUTER SCIENTIST \n",
      "Scientist \n",
      "Business Data Analyst\n",
      "Sr Data Scientist\n",
      "Senior Big Data Engineer\n",
      "Quantitative Analyst\n",
      "Machine Learning Engineer \n",
      "Lead Data Engineer\n",
      "Scientist I\n",
      "COMPUTER SCIENTIST\n",
      "Manager\n",
      "Data Scientist II\n",
      "Director\n",
      "Data Analyst I\n",
      "Senior Scientist \n",
      "Senior Data Analyst \n",
      "Data Analyst III\n",
      "Scientist III (Molecular Biology)\n",
      "Data Architect II\n",
      "Senior Business Intelligence Analyst\n",
      "Sr Data Analyst\n",
      "JPSC\n",
      "Quantitative Researcher \n",
      "Physical Scientist\n",
      "Senior Machine Learning Engineer\n",
      "Cloud Data Engineer\n",
      "Principal Data Engineer\n",
      "Sr Data Engineer\n",
      "Quantitative Research Analyst\n",
      "Environmental Scientist\n",
      "GENERAL PHYSICAL SCIENTIST\n",
      "Data Engineer II\n",
      "Software Engineer \n",
      "Clinical Scientist\n",
      "Bioinformatics Scientist\n",
      "Data Analyst Junior\n",
      "Data Engineer III\n",
      "Lead Data Analyst\n",
      "Senior Data Engineer \n",
      "Post Doctoral Scientist \n",
      "Junior Data Engineer\n",
      "RESEARCH COMPUTER SCIENTIST \n",
      "Data Science Architect\n",
      "Lead Data Scientist \n",
      "Data Scientist (remote)\n",
      "Data Scientist 2\n",
      "Scientist II\n",
      "Data Engineer (remote)\n",
      "Applied Scientist\n",
      "Azure Data Engineer\n",
      "Clinical Laboratory Scientist \n",
      "Assistant\n",
      "Big Data\n",
      "Machine Learning Scientist\n",
      "Data Architect\n",
      "Associate Data Scientist\n",
      "Computer Scientist\n",
      "Analytics Manager\n",
      "Junior Data Scientist\n",
      "Business Analytics Manager\n",
      "Project Scientist\n",
      "Data Analyst II\n",
      "Principal Research Scientist\n",
      "Data & Analytics Consultant\n",
      "Data Management & Analytics \n",
      "Research Data Analyst\n",
      "Business\n",
      "Staff Scientist\n",
      "Senior Manager\n",
      "Product Development Scientist \n",
      "Clinical Laboratory Scientist II\n",
      "Clinical Laboratory Scientist\n",
      "Machine Learning\n",
      "Product Development Scientist\n",
      "Senior Decision Scientist\n",
      "Senior SW Engineer\n",
      "Human Factors Scientist\n",
      "DATA ENGINEER \n",
      "Principal Data Scientist \n",
      "Clinical Safety Scientist I\n",
      "Medical Lab Scientist \n",
      "Data Science Manager\n",
      "AWS Data Engineer\n",
      "CCB F&BM \n",
      "Staff Software Scientist\n",
      "Senior Research Scientist\n",
      "Epidemiology Data Analyst\n",
      "Operation Analytics Manager\n",
      "Data Analyst (Supply Chain) \n",
      "Data Engineer I\n",
      "Director Data Scientist \n",
      "Business Intelligence Analyst \n",
      "Scientist 2\n",
      "Process Development Scientist\n",
      "Machine Learning Engineer (Imaging)\n",
      "Applied Data Scientist\n",
      "Data Science Developer\n",
      "ENGINEER \n",
      "Data Science Engineer\n",
      "Director of Data Science\n",
      "Data Science\n",
      "Data Scientist III\n",
      "Data & Analytics Consultant |\n",
      "Marketing Data Analyst\n",
      "HR Data Analyst II\n",
      "Postdoctoral Scientist \n",
      "IGM \n",
      "Senior Data Scientist II\n",
      "Quantum Principal Data Scientist\n",
      "Associate Data Engineer\n",
      "Data Modeler \n",
      "Product Data Analyst\n",
      "Data Analyst â Junior\n",
      "Senior Analytical Scientist\n",
      "Deep Learning Research Scientist \n",
      "Senior Data & Machine Learning Scientist\n",
      "Data Scientist I\n",
      "Wealth Management\n",
      "Principal Associate\n",
      "Director \n",
      "AI \n",
      "Systems Analyst \n",
      "Business Intelligence Analyst Senior\n",
      "Research Scientist III\n",
      "Data & Machine Learning Scientist\n",
      "Data Science Resident \n",
      "Senior Enterprise BI Data Analyst\n",
      "Sr Advanced Data Architect\n",
      "Full Stack Data Engineer Irving AVP\n",
      "Senior Principal Scientist\n",
      "Molecular Researcher and Data Analyst\n",
      "Senior\n",
      "Quantitative Researcher – Intern (US)\n",
      "Associate Scientist \n",
      "Research Scientist I\n",
      "Downstream Scientist\n",
      "Pre\n",
      "People Analytics Data Scientist\n",
      "BI Data Analyst \n",
      "Analytics Consultant\n",
      "Principal\n",
      "Staff Big Data Engineer\n",
      "Senior Associate Scientist\n",
      "Product Manager\n",
      "Research Engineering\n",
      "SQL Data Analyst\n",
      "Financial Data Analyst\n",
      "Data Engineer (Python)\n",
      "Senior Data Architect\n",
      "Data Architect \n",
      "Exciting Video Ecommerce Startup | Data Scientist w\n",
      "CLINICAL LABORATORY SCIENTIST\n",
      "Signal Processing and Automation Engineering Scientist\n",
      "Cyber Security Research Scientist 3 \n",
      "Workday Data Consultant\n",
      "VP\n",
      "Data Scientist Consultant\n",
      "Epidemiologist Data Analyst\n",
      "Senior Quantitative Analyst\n",
      "Kafka Data Engineer (remote)\n",
      "Dev\n",
      "Data Analytics Manager\n",
      "Junior Imaging Scientist\n",
      "Clinical Data Scientist\n",
      "DATA ANALYST\n",
      "Data Engineer 3\n",
      "Web Analytics Manager\n",
      "Director of Health Data Science\n",
      "Diagnostic Research Scientist\n",
      "Managing Consultant \n",
      "Content Data Scientist\n",
      "Senior Computational Biologist\n",
      "Remote Sensing Data Scientist\n",
      "Data analyst\n",
      "Environmental Data Analyst \n",
      "Electronics Engineering Scientist\n",
      "DATA ENGINEER\n",
      "Pricing Data Analyst\n",
      "Application Vulnerability Governance Lead Data Analyst\n",
      "Sr Data\n",
      "Hadoop Developer \n",
      "Staff Software Engineer \n",
      "VP \n",
      "Full Stack Data Scientist Intern \n",
      "Head of Data Science\n",
      "Senior Data Science Consultant\n",
      "Search Data Scientist\n",
      "ANALYST \n",
      "Business Analyst\n",
      "ML\n",
      "Analytical Consultant\n",
      "Data scientist\n",
      "Business Intelligence Analyst I\n",
      "Analytic Consultant 5 Quality Control Lead\n",
      "Senior Claims Data Analyst\n",
      "Data Scientist Technical Lead\n",
      "Data Engineer SQL\n",
      "Post Doctoral Scientist Year 1\n",
      "Survey Data Analyst\n",
      "Medical Lab Scientist (MLS)\n",
      "Epidemiology\n",
      "Post\n",
      "Medical Lab Scientist\n",
      "Geospatial Software Developer and Data Scientist\n",
      "Big Data Machine Learning Engineer\n",
      "BI Data Analyst\n",
      "Algorithm Design and Analysis Engineering Scientist\n",
      "Data Analyst Intern\n",
      "Scientist III\n",
      "AWS\n",
      "Digital Signal Processing Scientist\n",
      "System\n",
      "Senior Cloud Data Engineer\n",
      "Applied Research Scientist \n",
      "Reporting and Data Analyst \n",
      "Senior HFT Futures Quantitative Research Scientist\n",
      "Simulation Engineering Scientist\n",
      "Data Science Team Lead\n",
      "Senior Data Engineer (ATX)\n",
      "Data Engineer with Security Clearance\n",
      "US|Prod Dev Scientist\n",
      "AI Scientist\n",
      "Business Intelligence Analyst I \n",
      "Python\n",
      "Business Analyst \n",
      "Client Data Analyst\n",
      "Medical Lab Scientist Specialist (Days) \n",
      "Production Scientist\n",
      "Associate Food Scientist \n",
      "Information Systems Engineering Specialist (Engineering Scientist)\n",
      "Data Science Analyst\n",
      "Senior \n",
      "Lead of Cybersecurity Data Protection & Analytics\n",
      "Technical Data Analyst\n",
      "Clinical Lab Scientist\n",
      "Data Scientist with Security Clearance\n",
      "System Test Engineering Scientist\n",
      "Python Data Engineer\n",
      "Big Data Consultant\n",
      "Configuration Data Analyst\n",
      "AVP\n",
      "Provider Analytics Data Analyst\n",
      "Project Scientist \n",
      "Analytic Consultant 5 \n",
      "Performance Data Analyst\n",
      "Senior Data Scientist 8+ Yrs Experience \n",
      "Data Scientist (DoD Secret Security Clearance)\n",
      "Information Systems Officer (Data Analyst)\n",
      "Senior Healthcare Data Analyst \n",
      "Power & Performance Data Engineer\n",
      "Data Analyst D\n",
      "Learning and Development Business Intelligence Analyst\n",
      "Data Science with Python\n",
      "Director of Data Science \n",
      "Data Scientist with SQL\n",
      "Wi\n",
      "Senior Data Engineer (Austin\n",
      "Business Intelligence & Analytics Manager\n",
      "Research scientist\n",
      "Senior Deep Learning Data Scientist\n",
      "AI Scientist \n",
      "Sugar Land Data Science Tutor Jobs\n",
      "Data Analytics Architect\n",
      "CBO Data Analyst\n",
      "Quantitative Research Internship\n",
      "ASW Systems and MBSE Engineering Scientist Associate\n",
      "Biotransformation Scientist and DMPK Design Lead\n",
      "Chief Architect \n",
      "Senior Data Engineer (OPT EAD\n",
      "Sr Staff Scientist\n",
      "Health Data Analyst IV\n",
      "Data Analytics Insights Analyst\n",
      "Data Engineer role(SQL\n",
      "TSDS Data QA Analyst (Data Analyst IV)\n",
      "Field Scientist\n",
      "Sr BI Data Engineer\n",
      "Senior Developer \n",
      "Corporate Senior Business Intelligence Analyst\n",
      "Computational Scientist\n",
      "Healthcare Data Scientist\n",
      "Biological Scientist\n",
      "Quantitative Developer\n",
      "Finance Data Analyst\n",
      "Quantitative Analyst Intern\n",
      "AMS Verification and Modeling Engineer\n",
      "Columbus Data Science Tutor Jobs\n",
      "Lead Clinical Laboratory Scientist (CLS)\n",
      "Artificial Intelligence\n",
      "Research and Development Bioprocessing Scientist (Upstream)\n",
      "VP of Data Science & Analytics\n",
      "Neuroimaging Data Analyst Junior\n",
      "Principal Data ScientistFoundational Algorithm CRM Email\n",
      "Quantum Data Scientist\n",
      "Principal Device Modeling Engineer\n",
      "Senior Machine Learning Engineer \n",
      "Big Data Engineer (TX)\n",
      "Data Scientist SR\n",
      "Data Analyst Senior\n",
      "RESEARCH SCIENTIST\n",
      "Visiting Undergraduate Affairs Data Analyst \n",
      "Geologist or Environmental Scientist \n",
      "Laboratory Technician\n",
      "Enterprise Data Analyst\n",
      "Senior Data Analyst — US Safety\n",
      "Computer Vision Scientist\n",
      "Big Data Engineer Internship\n",
      "R&D Scientist\n",
      "Operations Research Scientist\n",
      "Behavioral Data Science Manager\n",
      "Director Data Science\n",
      "Research Scientist — Machine Learning\n",
      "Autonomous Driving Data Engineer\n",
      "Scientist Data Analytics\n",
      "Principal Scientist \n",
      "Scientist 1 \n",
      "Financial and Data Analyst\n",
      "Data & Reporting Analyst\n",
      "Analytical Scientist\n",
      "Associate Scientist I \n",
      "Clinical Data Scientists\n",
      "Data Science & Machine Learning\n",
      "Senior Data Scientist Customer Experience\n",
      "Senior Consultant Data Engineer\n",
      "Senior Scientist – Immunotherapeutic Design\n",
      "LEAD COMPUTER SCIENTIST \n",
      "Quantum Research Scientist\n",
      "SRO BI & Analytics Manager\n",
      "Healthcare Information and Data Analyst II\n",
      "Scientist (Chemistry)\n",
      "Intern\n",
      "Data engineer\n",
      "Sr Data Engineer Hadoop\n",
      "Lead\n",
      "Imaging Data Scientist III\n",
      "Architect\n",
      "Business Intelligence Analyst II (6 Month Contract)\n",
      "Principal Data Scientist II (Statistical Modeling)\n",
      "Maps Search Machine Learning Engineer\n",
      "Data Engineer *\n",
      "IoT Data Scientist \n",
      "East Field Application Scientist Bio\n",
      "Digital Analytics Manager\n",
      "Data Operations Engineer\n",
      "Data Science Specialist USA\n",
      "Data Engineer 4\n",
      "Siri \n",
      "Senior Fraud Risk Quantitative Analyst\n",
      "Data Engineer and Visualization Developer\n",
      "Federal\n",
      "3rd Shift Environmental Monitoring Scientist\n",
      "Associate Principal Scientist\n",
      "Stafford Data Science Tutor Jobs\n",
      "Data Scientist needed \n",
      "Data Integration and Standardization Specialist\n",
      "Irving Data Science Tutor Jobs\n",
      "Data Analyst III (Healthcare Analytics)\n",
      "Lead Healthcare\n",
      "Data Engineer (Big Data Hadoop)\n",
      "VRL \n",
      "Data Scientist (Databricks\n",
      "Point72 Healthcare Data Scientist\n",
      "Data Engineer (AI\n",
      "Staff Reliability Data Scientist\n",
      "Soil Scientist (Direct Hire)\n",
      "Forensic Genomics Research Scientist\n",
      "Java with big data engineer\n",
      "Virology Data Analysts\n",
      "BIG DATA ENGINEER\n",
      "Translational Scientist Liaison\n",
      "Risk Analyst\n",
      "Cybersecurity Engineer \n",
      "Senior HR Data Analyst\n",
      "People Data Scientist\n",
      "Senior Scientist R&D \n",
      "Data Science Team Developer\n",
      "Environmental Scientist Supervisor\n",
      "Clinical Data Analyst\n",
      "Senior Social Scientist\n",
      "Data Scientist 3 (Tableau \n",
      "Data Consultant\n",
      "Lead Real World Analytics Data Scientist\n",
      "Data Analyst (Product Analytics)\n",
      "Informatics Scientist \n",
      "Senior Strategy Data Analyst\n",
      "Principal Data Scientist with over 10 years experience\n",
      "Principal Scientist Product Formulation\n",
      "In Vivo Principal Scientist\n",
      "Sr Scientist\n",
      "Sr Research Scientist\n",
      "In Vivo Senior Principal Scientist\n",
      "Biopharmaceutical Drug Product\n",
      "IS Data Engineer II\n",
      "Accounting Data Analyst\n",
      "Data Engineer (Contract)\n",
      "Sr Principal Scientist\n",
      "Big Data Machine Learning Engineer in Chicago\n",
      "+ Data Scientist\n",
      "Senior AWS Data Engineer\n",
      "Associate Integration Scientist 1\n",
      "Data Scientist (FULLY REMOTE. REQUIRED: Spark\n",
      "Chief Data Engineer \n",
      "Field Application Scientist (Sales Engineer) Process Management Informatics\n",
      "IS Data Architect\n",
      "Design Quality Scientist\n",
      "Senior Big Data Engineer & Data Scientist (Apps Systems Engineer 6)\n",
      "SoC Power Modeling Engineer\n",
      "Dell Data Scientist\n",
      "Point72 Quantitative Researcher\n",
      "Operations Data Analyst\n",
      "Public Policy Data Analyst\n",
      "Senior Data Software Engineer\n",
      "Laboratory Scientist II\n",
      "SOC Architecture Modeling Engineer\n",
      "CIMD Technology \n",
      "Operations Scientist 1\n",
      "Field Medical Scientist\n",
      "Field Applications Scientist\n",
      "Senior Data Modeler (Open API)\n",
      "(Data Risk Analyst: Data Modeler)\n",
      "Senior Data Engineer with Strong Python\n",
      "Engineering Team Lead \n",
      "Clinical Research Data Manager\n",
      "Advanced Analytics Consultant\n",
      "Business Systems & Data Analyst\n",
      "Post Doctoral Scientist Yr 1\n",
      "Role : Data Engineer\n",
      "Publicis Media \n",
      "Senior Contract Data Analyst\n",
      "RAPD Risk Platforms & Data \n",
      "Translational Bioinformatics Scientist\n",
      "Data Engineer (Snowflake Production)\n",
      "Sr Quantitative Analyst\n",
      "Data Engineer Enterprise Content Management\n",
      "Research Scientist Assistant I\n",
      "Drug Product Scientist\n",
      "Chief Medical Lab Scientist \n",
      "IT Data Science Analyst\n",
      "Director of Engineering\n",
      "CIB QR\n",
      "Data Engineer Lead\n",
      "SAS Data Analyst\n",
      "Senior Applied Scientist\n",
      "Quantitative Research Analyst \n",
      "eDiscovery Data Analyst\n",
      "EUV Staff Systems Scientist\n",
      "Scientist (Translational Development)\n",
      "Data Analyst: II (Intermediate)\n",
      "Medical Lab Scientist (MLS) AM\n",
      "Data Scientist I Seller Development\n",
      "MRI Associate Principal Scientist\n",
      "Associate Scientist (2nd shift)\n",
      "Azure Data Engineer@Houston\n",
      "DPS \n",
      "Sr Big Data Engineer\n",
      "Marketing Analytics Manager\n",
      "Sr Decision Scientist\n",
      "Program Data Analyst\n",
      "Health Analytics Data Scientist\n",
      "Scientist Web Developer\n",
      "Data Science and Analytics\n",
      "HCC Data Analyst\n",
      "Data Science Practitioner\n",
      "Senior Software Engineer (Data Platform)\n",
      "Associate Clinical Scientist\n",
      "Claims Data Analyst\n",
      "Data Engineer with Pyspark\n",
      "Environmental Scientists\n",
      "Network Data consultant\n",
      "Data Engineer (Mid\n",
      "Informatica Data Modeler\n",
      "Community Data Manager\n",
      "Immunoassay Data Scientist\n",
      "Manufacturing Science and Technology Scientist\n",
      "Data Science Instructor\n",
      "Statistical Scientist\n",
      "Machine Learning Scientist \n",
      "Data Analytics Consultant\n",
      "Enterprise Architecture & Data Analytics Manager\n",
      "Air Compliance Engineer\n",
      "Retention Data Scientist\n",
      "Senior Global Data Analyst \n",
      "Clinical Lab Scientist (CLS)\n",
      "Strategic Data Analyst III \n",
      "PRINCIPAL SCIENTIST\n",
      "Marketing Data Analyst \n",
      "JC2002: Research Scientist: Coronavirus research and development\n",
      "Data Analyst Lead \n",
      "Data science researcher\n",
      "Data Scientist (Telecommunications)\n",
      "Big Data Engineer w\n",
      "Big Data Engineer \n",
      "RWD Healthcare Data Scientist\n",
      "Staff Data Scientist \n",
      "Ergonomics Scientist\n",
      "Investment & Data Science Intern\n",
      "Master Architect \n",
      "Marketing Return Analytics Manager\n",
      "Applied Scientist III\n",
      "Machine Learning Engineer – Maps Search\n",
      "NLP Engineer \n",
      "Civil Engineer\n",
      "Missouri City Data Science Tutor Jobs\n",
      "SR BUSINESS DATA ANALYST PRN\n",
      "Data Analyst with Food Science Product Development\n",
      "Analytical Development Associate Scientist\n",
      "Scientist in Data\n",
      "Data Science & Analytics Intern\n",
      "SystemC Modeling Engineer\n",
      "Senior Data Engineer (TS\n",
      "Quantitative Research Developer\n",
      "Senior Big Data Engineer \n",
      "Internship \n",
      "Energetics Engineer (Research Scientist)\n",
      "Data Engineer (Enterprise Content Management with FileNet)\n",
      "SMART Platform Lab Data Scientist\n",
      "Business Data Analyst \n",
      "Payment Integrity Data Analyst Job posting in #Philadelphia #ITjobs\n",
      "Senior Data Manager (Senior Associate)\n",
      "7232 Data Engineer (Analyst\n",
      "Data Scientist (Research & Development)\n",
      "Data Scientist; Acurian (A PPD Company)\n",
      "MDM\n",
      "Senior Data Visualization Developer\n",
      "Medical Lab Scientist II\n",
      "Senior Data & Applied Scientist\n",
      "Lead Process Development Scientist \n",
      "Lead Big Data Engineer \n",
      "Cost Data Analyst\n",
      "Senior Research Scientist CNS\n",
      "Video Business Data Scientist\n",
      "NLP Data Scientist\n",
      "Data Analyst (Philadelphia\n",
      "Data Scientist Senior \n",
      "Data Scientist (Analytics)\n",
      "Spice Modeling Engineer\n",
      "Data Analytics\n",
      "IS Data Engineer I\n",
      "Modeling and Simulation \n",
      "Data Scientist (Top Secret\n",
      "Adobe Analytics Consultant\n",
      "Biological Scientist IV\n",
      "Data Engineer –\n",
      "Staff Data Infrastructure Engineer\n",
      "Data Sceintist\n",
      "Cloud Data Engineer Internship (Remote)\n",
      "EDI Data Analyst\n",
      "Head of Data\n",
      "(CLS) Clinical Lab Scientist \n",
      "Big\n",
      "Senior Environmental Research Scientist\n",
      "QC Analytical Scientist or Senior QC Analytical Scientist\n",
      "Data Scientist *\n",
      "Talent Acquisition Vendor & Analytics Manager \n",
      "Cyber Security Data Engineer\n",
      "Data Engineer with SQL\n",
      "Marketing Data Scientist\n",
      "Big Data Administrator\n",
      "+ Global Process Data Analyst\n",
      "Data Analyst Assistant\n",
      "Job Role : Data Engineer\n",
      "Data Scientist (Fintech)\n",
      "Clinical Research Data Specialist II\n",
      "Demand Planning and Analytics\n",
      "Software Engineer\n",
      "Research Engineering Scientist\n",
      "Big Data Engineer with Cloudera\n",
      "Senior Healthcare Data Analyst\n",
      "IGNITE Graduate Development Program \n",
      "Senior Data Modeler\n",
      "Only W2\n",
      "Senior Applied Data Scientist\n",
      "Senior Data Analyst w\n",
      "Senior Scientist (Process Development Downstream)\n",
      "Data Engineer with NiFi\n",
      "Data Scientist (Senior)\n",
      "Sr Data Modeler\n",
      "Laboratory Scientist 3\n",
      "Risk Data Analyst\n",
      "Data Scientist Applied Machine Learning\n",
      "CLINICAL LABORATORY SCIENTIST I\n",
      "Data Analyst: II \n",
      "Medical Lab Scientist Specialist \n",
      "Quantitative Research Scientist\n",
      "Research Scientist Associate IV\n",
      "SQL\n",
      "Data & Analytics Manager\n",
      "Clinical Laboratory Scientist Data Review\n",
      "Business Intelligence Analyst with Insurance\n",
      "Card Data Analyst\n",
      "Lead Scientist\n",
      "CPU Performance –Sr Principal Modeling Engineer\n",
      "Grand Prairie Data Science Tutor Jobs\n",
      "Genomic Data Scientist\n",
      "Senior Staff Data Engineer\n",
      "Splunk Data Analyst\n",
      "Data Analyst V\n",
      "Sr Predictive Analytics Manager\n",
      "Data Analyst III (Population Health \n",
      "Senior Analytics Consultant\n",
      "Scientist Biopharm \n",
      "Business Intelligence Analyst Tableau From Scratch & Performance Bonuses\n",
      "Cloud\n",
      "Senior Thermal Modeling Engineer(Relocation to Phoenix\n",
      "Data Analyst (Ryan White)\n",
      "Sr Professional\n",
      "Deep Learning Engineer\n",
      "Data Scientist with python\n",
      "Senior Data Scientist (San Jose OR Austin)\n",
      "Sr Applied Scientist\n",
      "Data Analyst ( SAS\n",
      "DBA \n",
      "Clinical Scientist Associate Director\n",
      "Lead Quality Data Analyst\n",
      "Staff BI and Data Engineer\n",
      "Associate Scientist: Microbiology\n",
      "Analytical\n",
      "Signal Processing Engineer\n",
      "Senior or Staff Data Scientist\n",
      "Quantitative Research Associate\n",
      "Exploratory Data Analysis Instructor\n",
      "Food Scientist \n",
      "Senior Research Scientist I\n",
      "Recruiting Manager\n",
      "Data Engineer(Java \n",
      "Manufacturing Science and Technology Senior Scientist (Viral Vector)\n",
      "Data Scientist Lead \n",
      "Phoenix Data Science Tutor Jobs\n",
      "Fall 2020 Supply Chain Data Analyst Intern\n",
      "Project Regulatory\n",
      "Data Integration Architect\n",
      "Manufacturing Science and Technology (MS&T) Scientist\n",
      "Staff Machine Learning Engineer \n",
      "Senior Data Engineer (ASE5) Asset and Liability Technology Wells Fargo Corporate Treasury\n",
      "Molecular Engineering Senior Research Scientist\n",
      "Data Scientist with Python\n",
      "Research Scientist Sr\n",
      "Workforce & Data Analytics Manager (Call Center Experience Required)\n",
      "Data Science Specialist\n",
      "TECAN Automation Scientist\n",
      "Senior Data Scientist with experience in life sciences data specifically in commercial\n",
      "Product Development Scientist (Entry Level) (Food science Degree Must)\n",
      "Information Security Data Analyst\n",
      "San Antonio Data Science Tutor Jobs\n",
      "Splunk SME \n",
      "Research Scientist CNS\n",
      "Data Scientist 2 (Tableau \n",
      "Data Modeler ( SAAS )\n",
      "Clinical Safety and Risk Management CSRM Medical Associate \n",
      "Technology Data Engineer\n",
      "Performance Improvement Data Analyst\n",
      "CLINICAL DATA ANALYST\n",
      "Upstream Scientist \n",
      "Environmental Scientist 7\n",
      "Data Analyst (Asset Management \n",
      "Machine Learning Engineer (OH)\n",
      "Network Data Analyst\n",
      "Mid\n",
      "SR. COMPUTER SCIENTIST \n",
      "Bioinformatician Research Scientist\n",
      "Scientist Medical Laboratory II\n",
      "Data Analyst 3 (San Diego or Atlanta\n",
      "Quantitative Researcher – Full Time (US)\n",
      "SAP Data Analyst\n",
      "Senior Data Scientist (Experimentation)\n",
      "Digital Analytics and Data Science Manager\n",
      "Product Data Engineer \n",
      "9\n",
      "Data Analyst (Python)\n",
      "Video Coding & Machine Learning Engineer\n",
      "Data Scientist Associate Sr (DADS06) CCB ML & AI\n",
      "Supervisor\n",
      "Senior Big Data Consultant\n",
      "Data Analyst (Charlotte\n",
      "Data Science Internship\n",
      "Assistant Research Scientist\n",
      "Senior Business Intelligence Data Engineer\n",
      "Senior Data Engineer (Healthcare Domain experience required)\n",
      "Business Intelligence Analyst Senior \n",
      "Senior Data Scientist (Multiple Openings)\n",
      "Data Engineer (Python\n",
      "Senior Software\n",
      "Epic BI & Analytics Manager\n",
      "Cyber Security Senior Data Scientist\n",
      "Associate Research Scientist (Senior Scientist)\n",
      "Big Data Engineer (OH)\n",
      "Business Intelligence Analyst III \n",
      "Business Strategy and Planning Director \n",
      "Medical Laboratory Scientist (MLS)\n",
      "Global Reporting and Analytics Consultant\n",
      "Epidemiologist \n",
      "Program Manager (TTI Associate Research Scientist)\n",
      "Data Visualization Engineer\n",
      "Data Engineer (Big Data)\n",
      "Ad Integrity Data Analyst\n",
      "Library Data Scientist\n",
      "Pharmaceutical Upstream Processing Scientist \n",
      "Guidewire Data Analyst\n",
      "Data Engineer III (E3)\n",
      "Environmental Senior Research Scientist\n",
      "Machine Learning & Data Engineer (Remote)\n",
      "Big Data \n",
      "Lead Data Engineer (St. Louis\n",
      "Senior Data & ML Engineer\n",
      "Development Scientist I\n",
      "Quantitative Researcher – PhD Hire\n",
      "Director of Data Analytics\n",
      "Senior Principal Data Scientist (Python\n",
      "Vector Optimization Senior Research Scientist\n",
      "Senior Environmental Scientist \n",
      "Research Data Scientist\n",
      "Azure Data Engineer with Full Stack Developer\n",
      "Data Scientist(s)\n",
      "Data Analyst BI Engineer\n",
      "Senior Data Engineer with Kafka\n",
      "First Data Hire for IoT Startup: Manager level Data Scientist\n",
      "Mesa Data Science Tutor Jobs\n",
      "Senior Digital Analytics Consultant\n",
      "Pharmaceutical Customer Data Analyst\n",
      "Senior Principal\n",
      "Machine Learning \n",
      "Junior Data Engineer with Security Clearance\n",
      "Clinical Laboratory Scientist | 2nd shift\n",
      "Staff Environmental Scientist New\n",
      "Proteomics Applications Scientist\n",
      "People Analytics Data Engineer\n",
      "NLP Data Scientist { PhD. }\n",
      "DATA Scientist\n",
      "PD Downstream Sr Scientist\n",
      "Data Analyst in Jacksonville\n",
      "Sr Data Engineer (AWS)\n",
      "Data Science \n",
      "SAS Data Analyst III(With SOL & Tableau)\n",
      "Data Integration Analyst\n",
      "Digital Marketing Analytics Manager\n",
      "QC Associate Scientist\n",
      "Test Data Engineer\n",
      "Pharmacovgilance Scientist\n",
      "Hadoop Data Engineer\n",
      "Senior Customer Data Analyst : 20\n",
      "Sr Data Analyst (DW)\n",
      "Marine Biologist Research Scientist\n",
      "Senior Quantitative Researcher\n",
      "Compensation & HR Data Analyst\n",
      "Spring Data Science Tutor Jobs\n",
      "Data Engineer Intern (Remote)\n",
      "Cyber Security Data Scientist.\n",
      "Data Scientist (Individual Contributors and Team Leads)\n",
      "Senior Data Analytics consultant\n",
      "Future Opportunity: Data Engineer\n",
      "Staff\n",
      "Credit Analytics Manager\n",
      "Data Analyst BHJOB11946_\n",
      "Product Manager \n",
      "Senior Data Scientist in Chicago\n",
      "Data Scientist Consultant \n",
      "AppleCare Business Insight Data Scientist\n",
      "Associate Scientist ( Immuno\n",
      "Remote \n",
      "Global Big Data Scientist\n",
      "Clinical Data (Data Entry) Operator I Swing Shift\n",
      "19\n",
      "ETL\n",
      "Database\n",
      "Data Science Intern\n",
      "Data Scientist Senior Associate \n",
      "Senior Principal Metrics Analyst\n",
      "Director of Quantitative Research\n",
      "Natural Catastrophe Research Scientist\n",
      "Practice Area Lead \n",
      "Data Engineering Manager\n",
      "In Process Analytical Scientist\n",
      "Data Curator\n",
      "Data Engineer Sr\n",
      "Data Modeler (Healthcare Claims)\n",
      "Sr Medical Data Scientist\n",
      "Senior Business Intelligence Data Analyst\n",
      "Senior Research Scientist \n",
      "Planetary Data Engineer\n",
      "Analytical Consultant #2020\n",
      "Sr Marketing Analytics Manager (Individual Contributor)\n",
      "HPLC Prep Scientist\n",
      "Senior Research Scientist II (AD)\n",
      "Applied Machine Learning Scientist\n",
      "Arlington Data Science Tutor Jobs\n",
      "Data Analyst Supporting the FBI #20\n",
      "Senior Big Data Analyst\n",
      "Medical Lab Scientist (MLS) 2:00pm\n",
      "Senior Data Scientist *\n",
      "Temporary Research Scientist\n",
      "Data and Software Engineer\n",
      "Payment Integrity Data Analyst\n",
      "Data Analyst 4\n",
      "Senior Google Analytics Manager\n",
      "Greenplum \n",
      "SR Data Scientist\n",
      "PhD. NLP Data Scientist\n",
      "Live Operations Data Analyst\n",
      "Medical Laboratory Scientist Core Lab Weekend Nights\n",
      "Remote Senior Software Engineer\n",
      "IT Storage Data Analyst \n",
      "Bellaire Data Science Tutor Jobs\n",
      "Spark\n",
      "Senior Business Data Analyst Enterprise Risk\n",
      "Data Scientist Lead\n",
      "Principal Data Engineering Architect \n",
      "(Senior) Human Scientist\n",
      "Data Analyst Alteryx Experience MUST\n",
      "Machine Learning Research Scientist\n",
      "Simulation Research Scientist Associate\n",
      "Tenured\n",
      "System Performance Modeling Engineer\n",
      "Bench Scientist\n",
      "People Research Scientist\n",
      "Advanced Python Data Engineer\n",
      "Associate\n",
      "Data Analyst IV\n",
      "Business Data Modeler\n",
      "Junior Data Analyst \n",
      "Unpaid Internship for Data Driven Sports Consulting Position\n",
      "Quantitative Research Intern \n",
      "#105054 (CLS) Clinical Lab Scientist \n",
      "Enterprise Cloud Data Architect\n",
      "Pricing Strategy and Analytics Manager\n",
      "Data Scientist 2 (Tableau Statistics (IT Portfolio)\n",
      "Data Modeler Architect\n",
      "IT Data Analyst\n",
      "Instructor\n",
      "Computational Biologist\n",
      "Lead Data Engineer (ASE6) \n",
      "Business Data Analyst III\n",
      "Chief Data\n",
      "Field Appl Scientist I\n",
      "Nurse Scientist \n",
      "Data Scientist (ML and Image Processing)\n",
      "Contract Data Analyst\n",
      "Senior Analyst\n",
      "Data Scientists\n",
      "Post Doctoral Scientist Year 1 3 Research C\n",
      "Airflow Data Engineer\n",
      "Senior Environmental Soil Scientist\n",
      "Principal data engineer\n",
      "Business Intelligence Analyst II\n",
      "Quantitative Researcher Extern \n",
      "Lead Consultant \n",
      "Quantitative Research Analyst Internship\n",
      "Return to Work \n",
      "Data Engineer (Azure Delta Lake and Databricks)\n",
      "(Senior) Data Engineer\n",
      "Quantitative Analytics Consultant\n",
      "Data Scientist — Risk\n",
      "Data Analytics Manager in Jacksonville\n",
      "Clinical Laboratory Scientist Team Lead\n",
      "Senior Tech Svc Scientist (I)\n",
      "(Risk Data Analyst)\n",
      "Informatica IDQ \n",
      "Analytical Scientist II\n",
      "Computer Science Instructor and Course Developer \n",
      "Part\n",
      "Systems Verification Scientist III\n",
      "Chandler Data Science Tutor Jobs\n",
      "Performance Assurance Engineer (Data Science Background)\n",
      "Lead Business Intelligence Analyst \n",
      "Crop Protection Research Scientist\n",
      "Environmental Scientist \n",
      "Senior Staff Scientist\n",
      "Computer Research Scientist\n",
      "Data Science & Analytics Manager\n",
      "Data Analyst Healthcare \n",
      "Customer Service Supervisor (Medical Lab Scientist)\n",
      "SCIENTIST \n",
      "Data Analyst with Security Clearance\n",
      "Graphics (GPU) Performance Modeling Engineer\n",
      "Director Translational Scientist Liaisons (Dallas\n",
      "SAP Materials Master Data Analyst \n",
      "Bioprocess Scientist\n",
      "QC Scientist\n",
      "Big Data Engineer II\n",
      "Principal Data Engineer \n",
      "West University Place Data Science Tutor Jobs\n",
      "Sonar Systems Software Engineering Scientist\n",
      "Machine Learning Engineer Chicago\n",
      "Austin Data Science Tutor Jobs\n",
      "(Data Analyst) BA\n",
      "Analytics Manager (Web \n",
      "Process Development Scientist |PR\n",
      "Research Scientist II\n",
      "Financial Crimes Technology and Data Analytics Manager\n",
      "Point72 Data Scientist\n",
      "Gilbert Data Science Tutor Jobs\n",
      "Data Scientist (Engineering)\n",
      "Quantitative Analyst \n",
      "Advanced Analytics Consulting Lead\n",
      "HPC Systems and Data Engineer\n",
      "Genomics Field Applications Scientist\n",
      "AI Insights Data Analyst\n",
      "Associate Product Development Scientist\n",
      "Process Development Downstream Senior Scientist\n",
      "Formulation development Sr Scientist\n",
      "Software Design Engineering Scientist\n",
      "Technical Applications Scientist\n",
      "Senior User Experience Research Scientist\n",
      "Staff or Senior Scientist Pharm R&D\n",
      "Data Scientist (Entry Level)\n",
      "Developer \n",
      "Software Engineer (Data Scientist\n",
      "Senior Director of Data Science\n",
      "LEAD ENGINEER \n",
      "Midlevel Data Scientist\n",
      "Business Intelligence Analytics Manager\n",
      "Chief Medical Laboratory Scientist\n",
      "Scientist III \n",
      "Data Scientist Manager\n",
      "Managed Care Data Analyst\n",
      "Data Scientist II \n",
      "Big Data Engineer (Kafka)\n",
      "Cinical Laboratory Scientist II\n",
      "Data Science Team Developers with Security Clearance\n",
      "Digital SW Eng Lead\n",
      "Houston Data Science Tutor Jobs\n",
      "Security Analytics Data Engineer\n",
      "Remote work \n",
      "Real World Science\n",
      "Clinical Laboratory Scientist (Per Diem\n",
      "Associate or Scientist\n",
      "SAP Data Analyst (Contract)\n",
      "JC2001: Research Scientist: Protein chemistry\n",
      "Assistant Scientist\n",
      "Automatic Benchmark Research Scientist \n",
      "Sample Management Scientist\n",
      "Data Scientist 3 (Tableau Statistics (Fleet Readiness)\n",
      "Field Application Scientist BioTherapeutics\n",
      "Machine Learning Engineer (TX)\n",
      "Senior Behavioral Scientist \n",
      "Data Visualization and Analytics Consultant\n",
      "Data Analyst & Healthcare Analytics\n",
      "DATA SCIENCE CONSULTANT\n",
      "Reporting Data Architect\n",
      "#104733 HPC Systems and Data Engineer\n",
      "Senior IoT Data Scientist \n",
      "Senior Research Data Analyst\n",
      "Senior Consulting Data Analyst\n",
      "Business Intelligence \n",
      "Data Scientist Machine Learning at Google\n",
      "Cybersecurity Data Scientist\n",
      "Junior Business Intelligence Analyst\n",
      "Associate Research Scientist\n",
      "MS Data Scientist\n",
      "Data Scientist (ML Evaluation in Health Sensing)\n",
      "Urgent Need \n",
      "Sr Scientist \n",
      "Data Analyst (LiDar\n",
      "Analytic Consultant 4\n",
      "Downstream Senior Scientist\n",
      "Senior Applied Machine Learning Engineer\n",
      "Data Engineer ETL Developer\n",
      "NLP Machine Learning Engineer\n",
      "Supply Chain\n",
      "Senior. Data Engineer \n",
      "MDM Data Analyst\n",
      "Data Scientist (2 Year Fixed Term)\n",
      "Senior Principal Software Cloud Streaming Data Engineer\n",
      "Senior Environmental Scientist Part Time\n",
      "Future Opportunity\n",
      "Senior Java Visualization Data Engineer\n",
      "BioAnalytical Scientist II\n",
      "Technical Data Consultant\n",
      "Value Based Analytics \n",
      "Senior Principal Scientist \n",
      "Lead Senior Data Scientist\n",
      "Associate Research Scientist I\n",
      "Patient Safety Physician or Safety Scientist \n",
      "Job Opening : Data Engineer (Python) @ Chandler\n",
      "Data Labelling\n",
      "Data Science – Analyst\n",
      "PhD or Senior Data Scientist \n",
      "Data Science with Strong Python Knowledge\n",
      "Video Codec Scientist\n",
      "Web Analytics Consultant\n",
      "Remote Senior Data Scientist (Healthcare \n",
      "Big Data Engineer with Java\n",
      "Data Engineer(Phyton)\n",
      "Data Scientist (Remote)\n",
      "Associate Scientist II \n",
      "Adjunct Faculty \n",
      "Healthcare Data Analyst \n",
      "Tempe Data Science Tutor Jobs\n",
      "Business Intelligence and Data Analyst\n",
      "Supervisory Research Health Scientist\n",
      "Assay Development Scientist\n",
      "Senior Data Engineer (St. Louis\n",
      "Med Lab Scientist \n",
      "Staff Business Intelligence Analyst\n",
      "20\n",
      "Senior Data Science Engineer\n",
      "Medical Lab Scientist (MLS) Evenings\n",
      "HT Downstream Sr Scientist\n",
      "Electronics Engineer\n",
      "Data Science Consultant\n",
      "Biomedical Laboratory Scientist\n",
      "Machine Learning Scientist I\n",
      "Technical Service Scientist\n",
      "Sr Data Engineer (DBA)\n",
      "Senior Data Scientist (Columbus\n",
      "Senior GMP Analytical Scientist\n",
      "Senior Scientist Analytical Method Development\n",
      "CSI Data Analyst\n",
      "Sr Snowflake Data Engineer\n",
      "Computer Vision \n",
      "+ Data Engineer\n",
      "Associate Director\n",
      "Data Scientist (Java)\n",
      "Attribute Data Analyst \n",
      "Quant Analytics Manager (DAQA07) SALES SCIENCE\n",
      "Analytical Scientist I\n",
      "Healthcare Data Analytics PhD \n",
      "Bioanalytical Scientist\n",
      "Intellectual Property Scientist\n",
      "Business Data Analyst (SQL \n",
      "Senior Thermal Modeling Engineer\n",
      "Data Engineer AWS\n",
      "Medical Laboratory Scientist Micro Lab Days\n",
      "Forensic Scientist IV \n",
      "Salesforce Business Intelligence Analyst II\n",
      "Automotive eCommerce Data Analyst\n",
      "Senior Data Engineer (Remote US)\n",
      "Scottsdale Data Science Tutor Jobs\n",
      "Staff Data Custodian \n",
      "Clinical Data Reporter's\n",
      "Strategic Business Analytics Manager\n",
      "BUSINESS INTELLIGENCE ANALYST\n",
      "RD Scientist\n",
      "Data Scientist III \n",
      "Research Scientist — Video Coding Standards\n",
      "Market Data Analyst\n",
      "Field Application Scientist\n",
      "Product Analyst\n",
      "Data Production Analyst\n",
      "Staff Data Engineer\n",
      "CIB \n",
      "Automotive eCommerce Data Analyst \n",
      "Glendale Data Science Tutor Jobs\n",
      "Principal Data Scientist Artificial Intelligence Machine Learning Scientist \n",
      "Senior Big data Ebgineer\n",
      "Business Intelligence Analyst Senior (Chief Financial Office)\n",
      "Financial Data Analyst \n",
      "Formulation Scientist\n",
      "IT Data Engineer\n",
      "Senior BI Data Engineer III\n",
      "Data Analyst (Remote)\n",
      "Sr Associate Scientist\n",
      "Healthcare Data Analyst\n",
      "Senior BI Data Engineer and Analyst\n",
      "Network Security System\n",
      "Two Postdoctoral Fellow Positions in Data Science at MD Anderson Cancer Center\n",
      "Tableau Data Engineer 20\n",
      "Temporary Lecture \n",
      "Associate Scientist R&D\n",
      "Data Scientist_\n",
      "VBA Software developer \n",
      "Investigational Computational Biologist\n",
      "Data Analyst (Apex Legends)\n",
      "DALLAS Campus Recruiting 2018 \n",
      "Principal Machine Learning Engineer\n",
      "Data Science Program Coordinator\n",
      "Lead Data Science Instructor\n",
      "Senior Business Data Analyst \n",
      "Small Business Lending Data Scientist\n",
      "Data Scientist – Product Analytics\n",
      "Senior Cloud Data Analyst\n",
      "AI Engineering: Data Scientist\n",
      "Senior Marketing Data Scientist II\n",
      "Associate Product Development Scientist \n",
      "Jacksonville Data Science Tutor Jobs\n",
      "Administrative Assistant \n",
      "Technical Data Analyst Accounting\n",
      "Business Intelligence Analyst II \n",
      "Data Analyst II \n",
      "Risk Analytics Manager\n",
      "Data Analyst (MPI)\n",
      "UX Quantitative Researcher\n",
      "Network Data Engineer\n",
      "Senior AWS Big Data Engineer\n",
      "Lead Data Engineer \n",
      "Chief Data Scientist\n",
      "Project Scientist II\n",
      "Food Scientist\n",
      "Senior Bioinformatics Scientist\n",
      "Medical Laboratory Scientist\n"
     ]
    }
   ],
   "source": [
    "# Rút ra các dòng có Sector nằm trong top 10 sector\n",
    "Job_Sector_top_10 = ds_df.loc[ds_df['Sector'].isin(top_10_sector.index.to_list())][['Job Title', 'Sector']]\n",
    "print(*Job_Sector_top_10['Job Title'].value_counts().index, sep = '\\n')"
   ]
  },
  {
   "cell_type": "markdown",
   "id": "fea09330",
   "metadata": {},
   "source": [
    "Quan sát qua các giá trị xuất hiện, ta thấy cột `Job Title` cần xử lý các vấn đề sau:\n",
    "* Do \"Senior\", \"Junior\", \"Sr\", \"Jr\" đều chỉ về kinh nghiệm của một người hơn là vị trí công việc. Vì thế, ta sẽ loại bỏ các cụm từ này trong cột `Job Title` để việc xác định và gom nhóm tên công việc chính xác hơn.\n",
    "* Trong cột `Job Title` còn có giá trị số. Vì không thể xác định vị trí tuyển dụng thông qua các số này nên sẽ thực hiện loại bỏ chúng. \n",
    "* Ngoài ra, còn có một số dòng ghi các giá trị không thể hiện vị trí tuyển dụng như \"Big\", \"Wi\",... nhưng chỉ là thiểu số và ta cũng không thể tìm ra hết nên không thể xử lý tất cả dòng này."
   ]
  },
  {
   "cell_type": "code",
   "execution_count": 57,
   "id": "c65c6d33",
   "metadata": {},
   "outputs": [],
   "source": [
    "# Xóa các từ không cần thiết \n",
    "val_replace = [\"Senior \", \"Junior \", \"Sr \", \"Jr \"]\n",
    "def replace_val(x):\n",
    "    for val in val_replace:\n",
    "        if val in x:\n",
    "            x = x.replace(val, '')\n",
    "    return x.strip()\n",
    "Job_Sector_top_10['Job Title'] = Job_Sector_top_10['Job Title'].apply(lambda x: replace_val(x))"
   ]
  },
  {
   "cell_type": "markdown",
   "id": "fac5afca",
   "metadata": {},
   "source": [
    "Xóa các dòng chứa số trong cột `Job Title`"
   ]
  },
  {
   "cell_type": "code",
   "execution_count": 143,
   "id": "91067a28",
   "metadata": {},
   "outputs": [],
   "source": [
    "# Xóa các dòng số trong cột Job Title \n",
    "Job_Sector_top_10.drop(Job_Sector_top_10[Job_Sector_top_10['Job Title'].apply(\n",
    "    lambda x: x.isnumeric())].index, inplace=True)"
   ]
  },
  {
   "cell_type": "code",
   "execution_count": 60,
   "id": "53b84108",
   "metadata": {},
   "outputs": [
    {
     "data": {
      "image/png": "[encoded data removed]",
      "text/plain": [
       "<Figure size 432x288 with 1 Axes>"
      ]
     },
     "metadata": {
      "needs_background": "light"
     },
     "output_type": "display_data"
    }
   ],
   "source": [
    "# Trực quan hóa top 10 job title \n",
    "jobTitle_top_10 = Job_Sector_top_10['Job Title'].value_counts()[:10]\n",
    "jobTitle_top_10 = {k: v for k, v in sorted(jobTitle_top_10.items(), key = lambda x: x[1])}\n",
    "plt.barh(list(jobTitle_top_10.keys()), list(jobTitle_top_10.values()))\n",
    "plt.xlabel('Count')\n",
    "plt.ylabel('Job Title')\n",
    "plt.title('Top 10 Job Title')\n",
    "plt.show();"
   ]
  },
  {
   "cell_type": "code",
   "execution_count": 70,
   "id": "8f279fe2",
   "metadata": {},
   "outputs": [
    {
     "name": "stdout",
     "output_type": "stream",
     "text": [
      "Numbers of unique job title 983\n"
     ]
    }
   ],
   "source": [
    "print(\"Numbers of unique job title\", len(Job_Sector_top_10['Job Title'].unique()))"
   ]
  },
  {
   "cell_type": "markdown",
   "id": "87eeaa5b",
   "metadata": {},
   "source": [
    "**Bước 3:** Trả lời câu hỏi và đưa ra nhận xét"
   ]
  },
  {
   "cell_type": "markdown",
   "id": "d0c3128c",
   "metadata": {},
   "source": [
    "Như vậy, ta có những đánh giá sau:\n",
    "* Các vị trí như Data Scientist, Data Analyst, Data Engineer là những vị trí đang có nhu cầu tuyển dụng rất lớn. \n",
    "* Có rất nhiều lĩnh vực cần vị trí liên quan tới Data Science từ Information Technology đến các ngành liên quan tới kinh tế như Business Services hay ngay cả các lĩnh vực như Health Care, Education, Government cũng đang có nhu cầu tuyển dụng.\n",
    "* Có gần 1000 vị trí khác nhau trong 3334 thông báo tuyển dụng từ các công ty cho thấy vị trí mà Data Science có thể đảm nhiệm rất đa dạng."
   ]
  },
  {
   "cell_type": "markdown",
   "id": "6197ad88",
   "metadata": {},
   "source": [
    "### Câu hỏi 5: Mức lương có liên quan tới size của công ty không?\n",
    "\n",
    "Ta cần tiến hành một số thao tác xử lý trước khi trực quan hóa và tìm câu trả lời cho câu hỏi này.\n",
    "\n",
    "- **Bước 1:** Phân loại kích thước công ty theo lớn, vừa và nhỏ.\n",
    "\n",
    "- **Bước 2:** Xác định `mean`, `min`, `max`, `median` của `SalaryMin` và `SalaryMax` theo nhóm công ty. \n",
    "\n",
    "- **Bước 3:** Trực quan hóa dữ liệu và đưa ra kết luận.\n",
    "\n",
    "Việc phân tích sự tương quan giữa mức lương với size của công ty sẽ giúp ta có cái nhìn về việc chi trả lương thưởng tại các công ty lớn, vừa và nhỏ. Qua đó, ta biết được liệu công ty càng lớn thì sự đãi ngộ với nhân viên (qua mức lương) sẽ càng cao hay không."
   ]
  },
  {
   "cell_type": "markdown",
   "id": "2414138d",
   "metadata": {},
   "source": [
    "**Bước 1:** Phân loại kích thước công ty theo lớn, vừa và nhỏ.\n"
   ]
  },
  {
   "cell_type": "code",
   "execution_count": 59,
   "id": "f306629c",
   "metadata": {},
   "outputs": [
    {
     "data": {
      "text/plain": [
       "10000.0    993\n",
       "125.0      563\n",
       "3000.0     553\n",
       "25.0       550\n",
       "350.0      418\n",
       "750.0      307\n",
       "7500.0     219\n",
       "Name: Size, dtype: int64"
      ]
     },
     "execution_count": 59,
     "metadata": {},
     "output_type": "execute_result"
    }
   ],
   "source": [
    "ds_df['Size'].value_counts()"
   ]
  },
  {
   "cell_type": "markdown",
   "id": "6654f5cc",
   "metadata": {},
   "source": [
    "Size của công ty không có quá nhiều giá trị khác nhau gây khó quan sát. Ta có thể dễ dàng phân loại các công ty này thành 3 nhóm: 1. Lớn (= 10000), 2. Vừa (1000<= size <10000), 3. Nhỏ (<1000)."
   ]
  },
  {
   "cell_type": "code",
   "execution_count": 60,
   "id": "6847e37b",
   "metadata": {},
   "outputs": [],
   "source": [
    "df = ds_df[[\"Size\", \"SalaryMin\", \"SalaryMax\"]].copy()\n",
    "df.loc[df.Size < 1000, 'Size'] = 3\n",
    "df.loc[(df.Size >= 1000) & (df.Size < 10000),'Size'] = 2\n",
    "df.loc[df.Size == 10000, 'Size'] = 1\n"
   ]
  },
  {
   "cell_type": "markdown",
   "id": "b4d6387b",
   "metadata": {},
   "source": [
    "**Bước 2:** Xác định `count`, `mean`, `min`, `max`, `median` của `SalaryMin` và `SalaryMax` theo nhóm công ty. \n"
   ]
  },
  {
   "cell_type": "code",
   "execution_count": 61,
   "id": "50ce9f8c",
   "metadata": {},
   "outputs": [
    {
     "data": {
      "text/html": [
       "<div>\n",
       "<style scoped>\n",
       "    .dataframe tbody tr th:only-of-type {\n",
       "        vertical-align: middle;\n",
       "    }\n",
       "\n",
       "    .dataframe tbody tr th {\n",
       "        vertical-align: top;\n",
       "    }\n",
       "\n",
       "    .dataframe thead tr th {\n",
       "        text-align: left;\n",
       "    }\n",
       "\n",
       "    .dataframe thead tr:last-of-type th {\n",
       "        text-align: right;\n",
       "    }\n",
       "</style>\n",
       "<table border=\"1\" class=\"dataframe\">\n",
       "  <thead>\n",
       "    <tr>\n",
       "      <th></th>\n",
       "      <th colspan=\"5\" halign=\"left\">SalaryMin</th>\n",
       "      <th colspan=\"5\" halign=\"left\">SalaryMax</th>\n",
       "    </tr>\n",
       "    <tr>\n",
       "      <th></th>\n",
       "      <th>count</th>\n",
       "      <th>min</th>\n",
       "      <th>max</th>\n",
       "      <th>mean</th>\n",
       "      <th>median</th>\n",
       "      <th>count</th>\n",
       "      <th>min</th>\n",
       "      <th>max</th>\n",
       "      <th>mean</th>\n",
       "      <th>median</th>\n",
       "    </tr>\n",
       "    <tr>\n",
       "      <th>Size</th>\n",
       "      <th></th>\n",
       "      <th></th>\n",
       "      <th></th>\n",
       "      <th></th>\n",
       "      <th></th>\n",
       "      <th></th>\n",
       "      <th></th>\n",
       "      <th></th>\n",
       "      <th></th>\n",
       "      <th></th>\n",
       "    </tr>\n",
       "  </thead>\n",
       "  <tbody>\n",
       "    <tr>\n",
       "      <th>1.0</th>\n",
       "      <td>993</td>\n",
       "      <td>12</td>\n",
       "      <td>200</td>\n",
       "      <td>84.80</td>\n",
       "      <td>83</td>\n",
       "      <td>993</td>\n",
       "      <td>27</td>\n",
       "      <td>254</td>\n",
       "      <td>138.75</td>\n",
       "      <td>143</td>\n",
       "    </tr>\n",
       "    <tr>\n",
       "      <th>2.0</th>\n",
       "      <td>772</td>\n",
       "      <td>12</td>\n",
       "      <td>200</td>\n",
       "      <td>80.56</td>\n",
       "      <td>76</td>\n",
       "      <td>772</td>\n",
       "      <td>27</td>\n",
       "      <td>254</td>\n",
       "      <td>130.99</td>\n",
       "      <td>124</td>\n",
       "    </tr>\n",
       "    <tr>\n",
       "      <th>3.0</th>\n",
       "      <td>1838</td>\n",
       "      <td>10</td>\n",
       "      <td>200</td>\n",
       "      <td>81.33</td>\n",
       "      <td>76</td>\n",
       "      <td>1838</td>\n",
       "      <td>26</td>\n",
       "      <td>254</td>\n",
       "      <td>132.73</td>\n",
       "      <td>129</td>\n",
       "    </tr>\n",
       "  </tbody>\n",
       "</table>\n",
       "</div>"
      ],
      "text/plain": [
       "     SalaryMin                        SalaryMax                        \n",
       "         count min  max   mean median     count min  max    mean median\n",
       "Size                                                                   \n",
       "1.0        993  12  200  84.80     83       993  27  254  138.75    143\n",
       "2.0        772  12  200  80.56     76       772  27  254  130.99    124\n",
       "3.0       1838  10  200  81.33     76      1838  26  254  132.73    129"
      ]
     },
     "execution_count": 61,
     "metadata": {},
     "output_type": "execute_result"
    }
   ],
   "source": [
    "sdf = df.groupby(by = 'Size').agg(['count','min','max','mean', 'median']).round(2)\n",
    "sdf"
   ]
  },
  {
   "cell_type": "markdown",
   "id": "1ab797a0",
   "metadata": {},
   "source": [
    "Ta có thể rút ra nhận xét như sau: \n",
    "\n",
    "* Min Salary dao động từ 10k - 200k USD, Max Salary dao động từ 26k - 254k USD.\n",
    "\n",
    "* Mức lương giữa các công ty lớn, vừa và nhỏ không có sự chênh lệch quá nhiều.\n",
    "\n",
    "* Công ty nhỏ chiếm hơn phân nửa nhu cầu tuyển dụng."
   ]
  },
  {
   "cell_type": "markdown",
   "id": "2de39ba1",
   "metadata": {},
   "source": [
    "Trực quan hóa size các công ty và min, max, mean mức lương."
   ]
  },
  {
   "cell_type": "code",
   "execution_count": 62,
   "id": "5b54a0d5",
   "metadata": {},
   "outputs": [
    {
     "data": {
      "image/png": "[encoded data removed]",
      "text/plain": [
       "<Figure size 432x288 with 1 Axes>"
      ]
     },
     "metadata": {},
     "output_type": "display_data"
    }
   ],
   "source": [
    "fig1, ax1 = plt.subplots()\n",
    "colors = ['gold','lightcoral', 'lightskyblue']\n",
    "ax1.pie(df['Size'].value_counts().to_list(),\n",
    "        labels = ['Small', 'Medium', 'Big'], autopct = '%1.1f%%', colors = colors, shadow = True)\n",
    "plt.show()"
   ]
  },
  {
   "cell_type": "code",
   "execution_count": 63,
   "id": "46b922ef",
   "metadata": {},
   "outputs": [
    {
     "data": {
      "image/png": "[encoded data removed]",
      "text/plain": [
       "<Figure size 432x288 with 1 Axes>"
      ]
     },
     "metadata": {
      "needs_background": "light"
     },
     "output_type": "display_data"
    }
   ],
   "source": [
    "x = np.arange(3)\n",
    "y1 = [sdf['SalaryMin']['min'][1],sdf['SalaryMin']['max'][1],sdf['SalaryMin']['mean'][1]]\n",
    "y2 = [sdf['SalaryMin']['min'][2],sdf['SalaryMin']['max'][2],sdf['SalaryMin']['mean'][2]]\n",
    "y3 = [sdf['SalaryMin']['min'][3],sdf['SalaryMin']['max'][3],sdf['SalaryMin']['mean'][3]]\n",
    "width = 0.2\n",
    "  \n",
    "# plot data in grouped manner of bar type\n",
    "plt.bar(x-0.2, y1, width, color='cyan')\n",
    "plt.bar(x, y2, width, color='orange')\n",
    "plt.bar(x+0.2, y3, width, color='green')\n",
    "plt.xticks(x, ['Min', 'Max', 'Mean'])\n",
    "plt.xlabel(\"Salary\")\n",
    "plt.ylabel(\"Values\")\n",
    "plt.legend([\"Big\", \"Medium\", \"Small\"])\n",
    "plt.show()"
   ]
  },
  {
   "cell_type": "markdown",
   "id": "6713cee0",
   "metadata": {},
   "source": [
    "Ta có thể rút ra các nhận xét sau:\n",
    "* Phần lớn công ty đang có nhu cầu tuyển dụng là công ty nhỏ.\n",
    "\n",
    "* Mức lương các công ty lớn chi trả có phần nhỉnh hơn so với công ty tầm trung hay công ty nhỏ.\n",
    "\n",
    "* Mức lương thấp nhất nằm vào khoảng 10k-12k (USD) và mức lương cao nhất nằm vào khoảng 254k USD.\n",
    "\n",
    "* Đối với Salary Min và Salary Max, các công ty có thể đưa ra mức giá chênh lệch nhau (trong mỗi cột) đến hơn 100k USD.\n",
    "\n",
    "Ta chưa thể rút ra kết luận công ty càng lớn sẽ đưa ra mức lương càng cao vì số liệu phản ánh không quá rõ ràng và sự chênh lệch chưa đủ lớn. Tuy nhiên, đa số công ty đều đưa ra mức giá tương đương với thị trường để có thể thu hút người lao động."
   ]
  },
  {
   "cell_type": "markdown",
   "id": "7a2b7b36",
   "metadata": {},
   "source": [
    "## Tổng kết"
   ]
  },
  {
   "cell_type": "markdown",
   "id": "e4947930",
   "metadata": {},
   "source": [
    "### Võ Thành Nam\n",
    "\n",
    "1. Một số khó khăn gặp phải: \n",
    "    - Sử dụng github để làm việc nhóm (vì các đồ án trước đây chủ yếu làm cá nhân nên không dùng github).\n",
    "    - Gặp một số khó khăn khi chia việc vì tốc độ làm việc của mỗi người trong nhóm khác nhau.\n",
    "    - Phải tìm tòi một vài thư viện mới mà trên lớp chưa được dạy.\n",
    "2. Các bài học đã học được: \n",
    "    - Sử dụng thành thạo github (ở mức cơ bản).\n",
    "    - Tương đối thuần thục các thao tác tiền xử lí, khám phá dữ liệu, trả lời các câu hỏi từ dữ liệu.\n",
    "    - Nắm được những thư viện cơ bản phục vụ cho các thao tác với dữ liệu."
   ]
  },
  {
   "cell_type": "markdown",
   "id": "28b4cf38",
   "metadata": {},
   "source": [
    "### Phạm Lưu Mỹ Phúc \n",
    "\n",
    "1. Một số khó khăn gặp phải: \n",
    "    - Sử dụng github để làm việc nhóm vì chưa quen sử dụng github.\n",
    "    - Không dành nhiều thời gian cho đồ án vì là thời gian thi cuối kì.\n",
    "    - Tìm câu hỏi tốt để đưa ra câu trả lời từ dữ liệu.\n",
    "2. Các bài học đã học được: \n",
    "    - Biết dùng github ở mức cơ bản.\n",
    "    - Tương đối thuần thục các thao tác tiền xử lí, khám phá dữ liệu, trả lời các câu hỏi từ dữ liệu.\n",
    "    - Nắm được những thư viện cơ bản phục vụ cho các thao tác với dữ liệu.\n",
    "    - Học hỏi thêm thao tác tiền xử lý, khám phá dữ liệu và đặt câu hỏi từ các tài liệu tham khảo."
   ]
  },
  {
   "cell_type": "markdown",
   "id": "19bd52a3",
   "metadata": {},
   "source": [
    "### Với cả nhóm\n",
    "\n",
    "Nếu có thêm thời gian, nhóm sẽ:\n",
    "- Cố gắng khai thác thêm những thuộc tính trong dataset mà chưa được sử dụng trong các câu hỏi đã đề cập ở trên.\n",
    "- Có thể cố gắng xây dựng một mô hình Machine Learning đơn giản để gợi ý công ty cho những người cần tìm kiếm công việc dựa trên nhu cầu của họ."
   ]
  },
  {
   "cell_type": "markdown",
   "id": "4fa81af9",
   "metadata": {},
   "source": [
    "## Tài liệu tham khảo"
   ]
  },
  {
   "cell_type": "markdown",
   "id": "8131a6cf",
   "metadata": {},
   "source": [
    "1. [Một số thao tác tiền xử lí của các thành viên trên Kaggle](https://www.kaggle.com/andrewmvd/data-scientist-jobs/code).\n",
    "2. [Bảng chuyển đổi mã vùng USA](https://www.scouting.org/resources/los/states/).\n",
    "3. Slide và video bài giảng của giảng viên.\n",
    "4. Tham khảo một số công cụ/ngôn ngữ phổ biến: [Link 1](https://medium.com/javarevisited/best-11-data-science-programming-languages-in-2020-122a7ea2bb63), [Link 2](https://www.analyticsinsight.net/10-best-data-science-programming-languages-for-data-aspirants-in-2021/)\n"
   ]
  }
 ],
 "metadata": {
  "kernelspec": {
   "display_name": "Python 3 (ipykernel)",
   "language": "python",
   "name": "python3"
  },
  "language_info": {
   "codemirror_mode": {
    "name": "ipython",
    "version": 3
   },
   "file_extension": ".py",
   "mimetype": "text/x-python",
   "name": "python",
   "nbconvert_exporter": "python",
   "pygments_lexer": "ipython3",
   "version": "3.8.8"
  },
  "toc": {
   "base_numbering": 1,
   "nav_menu": {},
   "number_sections": true,
   "sideBar": true,
   "skip_h1_title": false,
   "title_cell": "Table of Contents",
   "title_sidebar": "Contents",
   "toc_cell": false,
   "toc_position": {
    "height": "calc(100% - 180px)",
    "left": "10px",
    "top": "150px",
    "width": "355.817px"
   },
   "toc_section_display": true,
   "toc_window_display": false
  }
 },
 "nbformat": 4,
 "nbformat_minor": 5
}

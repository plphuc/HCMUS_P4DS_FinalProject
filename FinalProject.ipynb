{
 "cells": [
  {
   "cell_type": "markdown",
   "id": "5a042a36",
   "metadata": {},
   "source": [
    "# Đồ án cuối kì Lập trình cho khoa học dữ liệu\n"
   ]
  },
  {
   "cell_type": "markdown",
   "id": "b2409499",
   "metadata": {},
   "source": [
    "## Thành viên nhóm"
   ]
  },
  {
   "cell_type": "markdown",
   "id": "c5ac6e19",
   "metadata": {},
   "source": [
    "\n",
    "| |Họ và tên|MSSV|\n",
    "|:--:|:--|:--:|\n",
    "|1|Võ Thành Nam|19120301|\n",
    "|2|Phạm Lưu Mỹ Phúc|19120331|"
   ]
  },
  {
   "cell_type": "markdown",
   "id": "f0104328",
   "metadata": {},
   "source": [
    "## Môi trường code"
   ]
  },
  {
   "cell_type": "code",
   "execution_count": 1,
   "id": "04412bd4",
   "metadata": {},
   "outputs": [
    {
     "data": {
      "text/plain": [
       "'C:\\\\Users\\\\Nam\\\\anaconda3\\\\envs\\\\min_ds-env\\\\python.exe'"
      ]
     },
     "execution_count": 1,
     "metadata": {},
     "output_type": "execute_result"
    }
   ],
   "source": [
    "import sys\n",
    "sys.executable"
   ]
  },
  {
   "cell_type": "markdown",
   "id": "cbedd2a7",
   "metadata": {},
   "source": [
    "## Tổng quan về dữ liệu sẽ được dùng để phân tích\n",
    "\n",
    "Bộ dữ liệu được sử dụng là file `DataScientist.csv`. Đây là dữ liệu nằm trong một bộ dữ liệu gồm nhiều file khác về thông tin tuyển dụng của những ngành nghề liên quan đến Data. \n",
    "- Bộ dữ liệu được tác giả *picklesueat* lấy từ trang web https://www.glassdoor.com/ (một trang web tìm kiếm việc làm), sử dụng công cụ `selenium`. \n",
    "- Bộ dữ liệu đã được tác giả public tại [Github](https://github.com/picklesueat/data_jobs_data) và được reup tại [Kaggle](https://www.kaggle.com/andrewmvd/data-scientist-jobs).\n",
    "- Về license của dữ liệu, tác giả không đề cập cụ thể mà cho phép mọi người có thể tải xuống tùy ý.\n",
    "- File dữ liệu `DataScientist.csv` là file dữ liệu về thông tin tuyển dụng của nghề Data Scientist bao gồm tên vị trí tuyển dụng, mức lương, tên công ty,..."
   ]
  },
  {
   "cell_type": "markdown",
   "id": "e1cf1f2b",
   "metadata": {},
   "source": [
    "## Import các thư viện cần thiết"
   ]
  },
  {
   "cell_type": "code",
   "execution_count": 2,
   "id": "387a3692",
   "metadata": {},
   "outputs": [],
   "source": [
    "import pandas as pd\n",
    "import numpy as np\n",
    "import re\n",
    "import matplotlib.pyplot as plt\n",
    "import math "
   ]
  },
  {
   "cell_type": "markdown",
   "id": "1585c084",
   "metadata": {},
   "source": [
    "## Khám phá dữ liệu"
   ]
  },
  {
   "cell_type": "markdown",
   "id": "e0d809c3",
   "metadata": {},
   "source": [
    "### Đọc dữ liệu vào từ file csv vào dataframe"
   ]
  },
  {
   "cell_type": "code",
   "execution_count": 3,
   "id": "0180dbbe",
   "metadata": {},
   "outputs": [
    {
     "data": {
      "text/html": [
       "<div>\n",
       "<style scoped>\n",
       "    .dataframe tbody tr th:only-of-type {\n",
       "        vertical-align: middle;\n",
       "    }\n",
       "\n",
       "    .dataframe tbody tr th {\n",
       "        vertical-align: top;\n",
       "    }\n",
       "\n",
       "    .dataframe thead th {\n",
       "        text-align: right;\n",
       "    }\n",
       "</style>\n",
       "<table border=\"1\" class=\"dataframe\">\n",
       "  <thead>\n",
       "    <tr style=\"text-align: right;\">\n",
       "      <th></th>\n",
       "      <th>Unnamed: 0</th>\n",
       "      <th>index</th>\n",
       "      <th>Job Title</th>\n",
       "      <th>Salary Estimate</th>\n",
       "      <th>Job Description</th>\n",
       "      <th>Rating</th>\n",
       "      <th>Company Name</th>\n",
       "      <th>Location</th>\n",
       "      <th>Headquarters</th>\n",
       "      <th>Size</th>\n",
       "      <th>Founded</th>\n",
       "      <th>Type of ownership</th>\n",
       "      <th>Industry</th>\n",
       "      <th>Sector</th>\n",
       "      <th>Revenue</th>\n",
       "      <th>Competitors</th>\n",
       "      <th>Easy Apply</th>\n",
       "    </tr>\n",
       "  </thead>\n",
       "  <tbody>\n",
       "    <tr>\n",
       "      <th>0</th>\n",
       "      <td>0</td>\n",
       "      <td>0</td>\n",
       "      <td>Senior Data Scientist</td>\n",
       "      <td>$111K-$181K (Glassdoor est.)</td>\n",
       "      <td>ABOUT HOPPER\\n\\nAt Hopper, we’re on a mission ...</td>\n",
       "      <td>3.5</td>\n",
       "      <td>Hopper\\n3.5</td>\n",
       "      <td>New York, NY</td>\n",
       "      <td>Montreal, Canada</td>\n",
       "      <td>501 to 1000 employees</td>\n",
       "      <td>2007</td>\n",
       "      <td>Company - Private</td>\n",
       "      <td>Travel Agencies</td>\n",
       "      <td>Travel &amp; Tourism</td>\n",
       "      <td>Unknown / Non-Applicable</td>\n",
       "      <td>-1</td>\n",
       "      <td>-1</td>\n",
       "    </tr>\n",
       "    <tr>\n",
       "      <th>1</th>\n",
       "      <td>1</td>\n",
       "      <td>1</td>\n",
       "      <td>Data Scientist, Product Analytics</td>\n",
       "      <td>$111K-$181K (Glassdoor est.)</td>\n",
       "      <td>At Noom, we use scientifically proven methods ...</td>\n",
       "      <td>4.5</td>\n",
       "      <td>Noom US\\n4.5</td>\n",
       "      <td>New York, NY</td>\n",
       "      <td>New York, NY</td>\n",
       "      <td>1001 to 5000 employees</td>\n",
       "      <td>2008</td>\n",
       "      <td>Company - Private</td>\n",
       "      <td>Health, Beauty, &amp; Fitness</td>\n",
       "      <td>Consumer Services</td>\n",
       "      <td>Unknown / Non-Applicable</td>\n",
       "      <td>-1</td>\n",
       "      <td>-1</td>\n",
       "    </tr>\n",
       "    <tr>\n",
       "      <th>2</th>\n",
       "      <td>2</td>\n",
       "      <td>2</td>\n",
       "      <td>Data Science Manager</td>\n",
       "      <td>$111K-$181K (Glassdoor est.)</td>\n",
       "      <td>Decode_M\\n\\nhttps://www.decode-m.com/\\n\\nData ...</td>\n",
       "      <td>-1.0</td>\n",
       "      <td>Decode_M</td>\n",
       "      <td>New York, NY</td>\n",
       "      <td>New York, NY</td>\n",
       "      <td>1 to 50 employees</td>\n",
       "      <td>-1</td>\n",
       "      <td>Unknown</td>\n",
       "      <td>-1</td>\n",
       "      <td>-1</td>\n",
       "      <td>Unknown / Non-Applicable</td>\n",
       "      <td>-1</td>\n",
       "      <td>True</td>\n",
       "    </tr>\n",
       "    <tr>\n",
       "      <th>3</th>\n",
       "      <td>3</td>\n",
       "      <td>3</td>\n",
       "      <td>Data Analyst</td>\n",
       "      <td>$111K-$181K (Glassdoor est.)</td>\n",
       "      <td>Sapphire Digital seeks a dynamic and driven mi...</td>\n",
       "      <td>3.4</td>\n",
       "      <td>Sapphire Digital\\n3.4</td>\n",
       "      <td>Lyndhurst, NJ</td>\n",
       "      <td>Lyndhurst, NJ</td>\n",
       "      <td>201 to 500 employees</td>\n",
       "      <td>2019</td>\n",
       "      <td>Company - Private</td>\n",
       "      <td>Internet</td>\n",
       "      <td>Information Technology</td>\n",
       "      <td>Unknown / Non-Applicable</td>\n",
       "      <td>Zocdoc, Healthgrades</td>\n",
       "      <td>-1</td>\n",
       "    </tr>\n",
       "    <tr>\n",
       "      <th>4</th>\n",
       "      <td>4</td>\n",
       "      <td>4</td>\n",
       "      <td>Director, Data Science</td>\n",
       "      <td>$111K-$181K (Glassdoor est.)</td>\n",
       "      <td>Director, Data Science - (200537)\\nDescription...</td>\n",
       "      <td>3.4</td>\n",
       "      <td>United Entertainment Group\\n3.4</td>\n",
       "      <td>New York, NY</td>\n",
       "      <td>New York, NY</td>\n",
       "      <td>51 to 200 employees</td>\n",
       "      <td>2007</td>\n",
       "      <td>Company - Private</td>\n",
       "      <td>Advertising &amp; Marketing</td>\n",
       "      <td>Business Services</td>\n",
       "      <td>Unknown / Non-Applicable</td>\n",
       "      <td>BBDO, Grey Group, Droga5</td>\n",
       "      <td>-1</td>\n",
       "    </tr>\n",
       "  </tbody>\n",
       "</table>\n",
       "</div>"
      ],
      "text/plain": [
       "   Unnamed: 0  index                          Job Title  \\\n",
       "0           0      0              Senior Data Scientist   \n",
       "1           1      1  Data Scientist, Product Analytics   \n",
       "2           2      2               Data Science Manager   \n",
       "3           3      3                       Data Analyst   \n",
       "4           4      4             Director, Data Science   \n",
       "\n",
       "                Salary Estimate  \\\n",
       "0  $111K-$181K (Glassdoor est.)   \n",
       "1  $111K-$181K (Glassdoor est.)   \n",
       "2  $111K-$181K (Glassdoor est.)   \n",
       "3  $111K-$181K (Glassdoor est.)   \n",
       "4  $111K-$181K (Glassdoor est.)   \n",
       "\n",
       "                                     Job Description  Rating  \\\n",
       "0  ABOUT HOPPER\\n\\nAt Hopper, we’re on a mission ...     3.5   \n",
       "1  At Noom, we use scientifically proven methods ...     4.5   \n",
       "2  Decode_M\\n\\nhttps://www.decode-m.com/\\n\\nData ...    -1.0   \n",
       "3  Sapphire Digital seeks a dynamic and driven mi...     3.4   \n",
       "4  Director, Data Science - (200537)\\nDescription...     3.4   \n",
       "\n",
       "                      Company Name       Location      Headquarters  \\\n",
       "0                      Hopper\\n3.5   New York, NY  Montreal, Canada   \n",
       "1                     Noom US\\n4.5   New York, NY      New York, NY   \n",
       "2                         Decode_M   New York, NY      New York, NY   \n",
       "3            Sapphire Digital\\n3.4  Lyndhurst, NJ     Lyndhurst, NJ   \n",
       "4  United Entertainment Group\\n3.4   New York, NY      New York, NY   \n",
       "\n",
       "                     Size  Founded  Type of ownership  \\\n",
       "0   501 to 1000 employees     2007  Company - Private   \n",
       "1  1001 to 5000 employees     2008  Company - Private   \n",
       "2       1 to 50 employees       -1            Unknown   \n",
       "3    201 to 500 employees     2019  Company - Private   \n",
       "4     51 to 200 employees     2007  Company - Private   \n",
       "\n",
       "                    Industry                  Sector  \\\n",
       "0            Travel Agencies        Travel & Tourism   \n",
       "1  Health, Beauty, & Fitness       Consumer Services   \n",
       "2                         -1                      -1   \n",
       "3                   Internet  Information Technology   \n",
       "4    Advertising & Marketing       Business Services   \n",
       "\n",
       "                    Revenue               Competitors Easy Apply  \n",
       "0  Unknown / Non-Applicable                        -1         -1  \n",
       "1  Unknown / Non-Applicable                        -1         -1  \n",
       "2  Unknown / Non-Applicable                        -1       True  \n",
       "3  Unknown / Non-Applicable      Zocdoc, Healthgrades         -1  \n",
       "4  Unknown / Non-Applicable  BBDO, Grey Group, Droga5         -1  "
      ]
     },
     "execution_count": 3,
     "metadata": {},
     "output_type": "execute_result"
    }
   ],
   "source": [
    "ds_df = pd.read_csv('DataScientist.csv')\n",
    "ds_df.head()"
   ]
  },
  {
   "cell_type": "markdown",
   "id": "b2f74463",
   "metadata": {},
   "source": [
    "Đầu tiên, ta thấy dữ liệu có đến 2 cột index, ta sẽ không sử dụng 2 cột này, do đó sẽ loại bỏ 2 cột này đi."
   ]
  },
  {
   "cell_type": "code",
   "execution_count": 4,
   "id": "fc22b220",
   "metadata": {},
   "outputs": [
    {
     "data": {
      "text/html": [
       "<div>\n",
       "<style scoped>\n",
       "    .dataframe tbody tr th:only-of-type {\n",
       "        vertical-align: middle;\n",
       "    }\n",
       "\n",
       "    .dataframe tbody tr th {\n",
       "        vertical-align: top;\n",
       "    }\n",
       "\n",
       "    .dataframe thead th {\n",
       "        text-align: right;\n",
       "    }\n",
       "</style>\n",
       "<table border=\"1\" class=\"dataframe\">\n",
       "  <thead>\n",
       "    <tr style=\"text-align: right;\">\n",
       "      <th></th>\n",
       "      <th>Job Title</th>\n",
       "      <th>Salary Estimate</th>\n",
       "      <th>Job Description</th>\n",
       "      <th>Rating</th>\n",
       "      <th>Company Name</th>\n",
       "      <th>Location</th>\n",
       "      <th>Headquarters</th>\n",
       "      <th>Size</th>\n",
       "      <th>Founded</th>\n",
       "      <th>Type of ownership</th>\n",
       "      <th>Industry</th>\n",
       "      <th>Sector</th>\n",
       "      <th>Revenue</th>\n",
       "      <th>Competitors</th>\n",
       "      <th>Easy Apply</th>\n",
       "    </tr>\n",
       "  </thead>\n",
       "  <tbody>\n",
       "    <tr>\n",
       "      <th>0</th>\n",
       "      <td>Senior Data Scientist</td>\n",
       "      <td>$111K-$181K (Glassdoor est.)</td>\n",
       "      <td>ABOUT HOPPER\\n\\nAt Hopper, we’re on a mission ...</td>\n",
       "      <td>3.5</td>\n",
       "      <td>Hopper\\n3.5</td>\n",
       "      <td>New York, NY</td>\n",
       "      <td>Montreal, Canada</td>\n",
       "      <td>501 to 1000 employees</td>\n",
       "      <td>2007</td>\n",
       "      <td>Company - Private</td>\n",
       "      <td>Travel Agencies</td>\n",
       "      <td>Travel &amp; Tourism</td>\n",
       "      <td>Unknown / Non-Applicable</td>\n",
       "      <td>-1</td>\n",
       "      <td>-1</td>\n",
       "    </tr>\n",
       "    <tr>\n",
       "      <th>1</th>\n",
       "      <td>Data Scientist, Product Analytics</td>\n",
       "      <td>$111K-$181K (Glassdoor est.)</td>\n",
       "      <td>At Noom, we use scientifically proven methods ...</td>\n",
       "      <td>4.5</td>\n",
       "      <td>Noom US\\n4.5</td>\n",
       "      <td>New York, NY</td>\n",
       "      <td>New York, NY</td>\n",
       "      <td>1001 to 5000 employees</td>\n",
       "      <td>2008</td>\n",
       "      <td>Company - Private</td>\n",
       "      <td>Health, Beauty, &amp; Fitness</td>\n",
       "      <td>Consumer Services</td>\n",
       "      <td>Unknown / Non-Applicable</td>\n",
       "      <td>-1</td>\n",
       "      <td>-1</td>\n",
       "    </tr>\n",
       "    <tr>\n",
       "      <th>2</th>\n",
       "      <td>Data Science Manager</td>\n",
       "      <td>$111K-$181K (Glassdoor est.)</td>\n",
       "      <td>Decode_M\\n\\nhttps://www.decode-m.com/\\n\\nData ...</td>\n",
       "      <td>-1.0</td>\n",
       "      <td>Decode_M</td>\n",
       "      <td>New York, NY</td>\n",
       "      <td>New York, NY</td>\n",
       "      <td>1 to 50 employees</td>\n",
       "      <td>-1</td>\n",
       "      <td>Unknown</td>\n",
       "      <td>-1</td>\n",
       "      <td>-1</td>\n",
       "      <td>Unknown / Non-Applicable</td>\n",
       "      <td>-1</td>\n",
       "      <td>True</td>\n",
       "    </tr>\n",
       "    <tr>\n",
       "      <th>3</th>\n",
       "      <td>Data Analyst</td>\n",
       "      <td>$111K-$181K (Glassdoor est.)</td>\n",
       "      <td>Sapphire Digital seeks a dynamic and driven mi...</td>\n",
       "      <td>3.4</td>\n",
       "      <td>Sapphire Digital\\n3.4</td>\n",
       "      <td>Lyndhurst, NJ</td>\n",
       "      <td>Lyndhurst, NJ</td>\n",
       "      <td>201 to 500 employees</td>\n",
       "      <td>2019</td>\n",
       "      <td>Company - Private</td>\n",
       "      <td>Internet</td>\n",
       "      <td>Information Technology</td>\n",
       "      <td>Unknown / Non-Applicable</td>\n",
       "      <td>Zocdoc, Healthgrades</td>\n",
       "      <td>-1</td>\n",
       "    </tr>\n",
       "    <tr>\n",
       "      <th>4</th>\n",
       "      <td>Director, Data Science</td>\n",
       "      <td>$111K-$181K (Glassdoor est.)</td>\n",
       "      <td>Director, Data Science - (200537)\\nDescription...</td>\n",
       "      <td>3.4</td>\n",
       "      <td>United Entertainment Group\\n3.4</td>\n",
       "      <td>New York, NY</td>\n",
       "      <td>New York, NY</td>\n",
       "      <td>51 to 200 employees</td>\n",
       "      <td>2007</td>\n",
       "      <td>Company - Private</td>\n",
       "      <td>Advertising &amp; Marketing</td>\n",
       "      <td>Business Services</td>\n",
       "      <td>Unknown / Non-Applicable</td>\n",
       "      <td>BBDO, Grey Group, Droga5</td>\n",
       "      <td>-1</td>\n",
       "    </tr>\n",
       "  </tbody>\n",
       "</table>\n",
       "</div>"
      ],
      "text/plain": [
       "                           Job Title               Salary Estimate  \\\n",
       "0              Senior Data Scientist  $111K-$181K (Glassdoor est.)   \n",
       "1  Data Scientist, Product Analytics  $111K-$181K (Glassdoor est.)   \n",
       "2               Data Science Manager  $111K-$181K (Glassdoor est.)   \n",
       "3                       Data Analyst  $111K-$181K (Glassdoor est.)   \n",
       "4             Director, Data Science  $111K-$181K (Glassdoor est.)   \n",
       "\n",
       "                                     Job Description  Rating  \\\n",
       "0  ABOUT HOPPER\\n\\nAt Hopper, we’re on a mission ...     3.5   \n",
       "1  At Noom, we use scientifically proven methods ...     4.5   \n",
       "2  Decode_M\\n\\nhttps://www.decode-m.com/\\n\\nData ...    -1.0   \n",
       "3  Sapphire Digital seeks a dynamic and driven mi...     3.4   \n",
       "4  Director, Data Science - (200537)\\nDescription...     3.4   \n",
       "\n",
       "                      Company Name       Location      Headquarters  \\\n",
       "0                      Hopper\\n3.5   New York, NY  Montreal, Canada   \n",
       "1                     Noom US\\n4.5   New York, NY      New York, NY   \n",
       "2                         Decode_M   New York, NY      New York, NY   \n",
       "3            Sapphire Digital\\n3.4  Lyndhurst, NJ     Lyndhurst, NJ   \n",
       "4  United Entertainment Group\\n3.4   New York, NY      New York, NY   \n",
       "\n",
       "                     Size  Founded  Type of ownership  \\\n",
       "0   501 to 1000 employees     2007  Company - Private   \n",
       "1  1001 to 5000 employees     2008  Company - Private   \n",
       "2       1 to 50 employees       -1            Unknown   \n",
       "3    201 to 500 employees     2019  Company - Private   \n",
       "4     51 to 200 employees     2007  Company - Private   \n",
       "\n",
       "                    Industry                  Sector  \\\n",
       "0            Travel Agencies        Travel & Tourism   \n",
       "1  Health, Beauty, & Fitness       Consumer Services   \n",
       "2                         -1                      -1   \n",
       "3                   Internet  Information Technology   \n",
       "4    Advertising & Marketing       Business Services   \n",
       "\n",
       "                    Revenue               Competitors Easy Apply  \n",
       "0  Unknown / Non-Applicable                        -1         -1  \n",
       "1  Unknown / Non-Applicable                        -1         -1  \n",
       "2  Unknown / Non-Applicable                        -1       True  \n",
       "3  Unknown / Non-Applicable      Zocdoc, Healthgrades         -1  \n",
       "4  Unknown / Non-Applicable  BBDO, Grey Group, Droga5         -1  "
      ]
     },
     "execution_count": 4,
     "metadata": {},
     "output_type": "execute_result"
    }
   ],
   "source": [
    "ds_df.drop(columns = ['Unnamed: 0','index'],inplace = True)\n",
    "ds_df.head()"
   ]
  },
  {
   "cell_type": "markdown",
   "id": "2d47b4af",
   "metadata": {},
   "source": [
    "### Số lượng dòng và cột của dữ liệu"
   ]
  },
  {
   "cell_type": "code",
   "execution_count": 5,
   "id": "53fa7d1d",
   "metadata": {},
   "outputs": [
    {
     "name": "stdout",
     "output_type": "stream",
     "text": [
      "Number of rows: 3909\n",
      "Number of columns: 15\n"
     ]
    }
   ],
   "source": [
    "n_rows = ds_df.shape[0]\n",
    "n_cols = ds_df.shape[1]\n",
    "print(f'Number of rows: {n_rows}')\n",
    "print(f'Number of columns: {n_cols}')"
   ]
  },
  {
   "cell_type": "markdown",
   "id": "4b2a20b4",
   "metadata": {},
   "source": [
    "### Xét xem các dữ liệu có trùng nhau hay không"
   ]
  },
  {
   "cell_type": "code",
   "execution_count": 6,
   "id": "15808744",
   "metadata": {},
   "outputs": [
    {
     "name": "stdout",
     "output_type": "stream",
     "text": [
      "Number of duplicated rows: 0\n"
     ]
    }
   ],
   "source": [
    "print(f'Number of duplicated rows: {sum(ds_df.duplicated())}')"
   ]
  },
  {
   "cell_type": "markdown",
   "id": "70191e56",
   "metadata": {},
   "source": [
    "### Ý nghĩa của các cột trong dataframe\n",
    "(Dựa theo mô tả tại trang web [Kaggle](https://www.kaggle.com/andrewmvd/data-scientist-jobs))\n",
    "\n",
    "- Job Title: tên vị trí tuyển dụng.\n",
    "- Salary Estimate: mức lương dự kiến.\n",
    "- Job Description: mô tả công việc.\n",
    "- Rating: điểm đánh giá.\n",
    "- Company Name: tên công ty.\n",
    "- Location: địa điểm làm việc.\n",
    "- Headquarters: trụ sở công ty.\n",
    "- Size: kích thước công ty (số lượng nhân viên).\n",
    "- Founded: năm thành lập công ty.\n",
    "- Type of ownership: loại hình sở hữu của công ty.\n",
    "- Industry: phân loại ngành của công ty.\n",
    "- Sector: lĩnh vực của công ty.\n",
    "- Revenue: doanh thu của công ty (theo năm).\n",
    "- Competitors: công ty đối thủ.\n",
    "- Easy Apply: công ty có dễ apply hay không."
   ]
  },
  {
   "cell_type": "markdown",
   "id": "c02c0086",
   "metadata": {},
   "source": [
    "### Sơ lược về dữ liệu trong các cột"
   ]
  },
  {
   "cell_type": "code",
   "execution_count": 7,
   "id": "48123959",
   "metadata": {},
   "outputs": [
    {
     "name": "stdout",
     "output_type": "stream",
     "text": [
      "<class 'pandas.core.frame.DataFrame'>\n",
      "RangeIndex: 3909 entries, 0 to 3908\n",
      "Data columns (total 15 columns):\n",
      " #   Column             Non-Null Count  Dtype  \n",
      "---  ------             --------------  -----  \n",
      " 0   Job Title          3909 non-null   object \n",
      " 1   Salary Estimate    3909 non-null   object \n",
      " 2   Job Description    3909 non-null   object \n",
      " 3   Rating             3909 non-null   float64\n",
      " 4   Company Name       3909 non-null   object \n",
      " 5   Location           3909 non-null   object \n",
      " 6   Headquarters       3909 non-null   object \n",
      " 7   Size               3909 non-null   object \n",
      " 8   Founded            3909 non-null   int64  \n",
      " 9   Type of ownership  3909 non-null   object \n",
      " 10  Industry           3909 non-null   object \n",
      " 11  Sector             3909 non-null   object \n",
      " 12  Revenue            3909 non-null   object \n",
      " 13  Competitors        3909 non-null   object \n",
      " 14  Easy Apply         3909 non-null   object \n",
      "dtypes: float64(1), int64(1), object(13)\n",
      "memory usage: 458.2+ KB\n"
     ]
    }
   ],
   "source": [
    "ds_df.info()"
   ]
  },
  {
   "cell_type": "markdown",
   "id": "a2554c54",
   "metadata": {},
   "source": [
    "### Nhận xét chung\n",
    "\n",
    "- Như ta có thể thấy, dữ liệu không có bất kì dòng nào thiếu hay trùng lắp. Tuy nhiên, khi quan sát bảng dữ liệu ở phía trên, có thế thấy tác giả đã thay thế các dữ liệu (có thể là bị thiếu) bằng giá trị -1.\n",
    "- Những cột đáng lẽ cần phải ở kiểu dữ liệu là số như `Salary Estimate`, `Size` thì lại có kiểu dữ liệu là object, ta cần phải xử lí những cột này.\n",
    "- Cột `Company Name` có vẻ bị lỗi khi thu thập dữ liệu (tên công ty gắn liền với rating)\n",
    "- Cột `Easy Apply` chỉ nên có giá trị `True` hoặc `False`.\n",
    "- ...\n",
    "Ta không quan sát được toàn bộ dữ liệu, do đó, ta sẽ phân tích và tiền xử lí cho từng cột trong phần tiền xử lí dữ liệu."
   ]
  },
  {
   "cell_type": "markdown",
   "id": "af4f1ee4",
   "metadata": {},
   "source": [
    "## Tiền xử lí dữ liệu"
   ]
  },
  {
   "cell_type": "markdown",
   "id": "203d5dbb",
   "metadata": {},
   "source": [
    "### Các giá trị của cột Job Title liệu đã đúng hay chưa?"
   ]
  },
  {
   "cell_type": "markdown",
   "id": "eadfd0c7",
   "metadata": {},
   "source": [
    "Trước tiên, ta quan sát 20 giá trị xuất hiện nhiều nhất và ít nhất "
   ]
  },
  {
   "cell_type": "code",
   "execution_count": 8,
   "id": "5fc91c47",
   "metadata": {},
   "outputs": [
    {
     "data": {
      "text/html": [
       "<div>\n",
       "<style scoped>\n",
       "    .dataframe tbody tr th:only-of-type {\n",
       "        vertical-align: middle;\n",
       "    }\n",
       "\n",
       "    .dataframe tbody tr th {\n",
       "        vertical-align: top;\n",
       "    }\n",
       "\n",
       "    .dataframe thead th {\n",
       "        text-align: right;\n",
       "    }\n",
       "</style>\n",
       "<table border=\"1\" class=\"dataframe\">\n",
       "  <thead>\n",
       "    <tr style=\"text-align: right;\">\n",
       "      <th></th>\n",
       "      <th>Job Title</th>\n",
       "      <th>count</th>\n",
       "      <th>Job Title</th>\n",
       "      <th>count</th>\n",
       "    </tr>\n",
       "  </thead>\n",
       "  <tbody>\n",
       "    <tr>\n",
       "      <th>0</th>\n",
       "      <td>Data Scientist</td>\n",
       "      <td>274</td>\n",
       "      <td>Sr Applied Scientist</td>\n",
       "      <td>1</td>\n",
       "    </tr>\n",
       "    <tr>\n",
       "      <th>1</th>\n",
       "      <td>Data Engineer</td>\n",
       "      <td>260</td>\n",
       "      <td>Guidewire Data Analyst</td>\n",
       "      <td>1</td>\n",
       "    </tr>\n",
       "    <tr>\n",
       "      <th>2</th>\n",
       "      <td>Data Analyst</td>\n",
       "      <td>246</td>\n",
       "      <td>Research Scientist - Data Science (Earth &amp; Atm...</td>\n",
       "      <td>1</td>\n",
       "    </tr>\n",
       "    <tr>\n",
       "      <th>3</th>\n",
       "      <td>Senior Data Scientist</td>\n",
       "      <td>91</td>\n",
       "      <td>Strategic Data Scientist, Data &amp; Technology</td>\n",
       "      <td>1</td>\n",
       "    </tr>\n",
       "    <tr>\n",
       "      <th>4</th>\n",
       "      <td>Machine Learning Engineer</td>\n",
       "      <td>47</td>\n",
       "      <td>Lead Process Development Scientist - Upstream</td>\n",
       "      <td>1</td>\n",
       "    </tr>\n",
       "    <tr>\n",
       "      <th>5</th>\n",
       "      <td>Senior Data Analyst</td>\n",
       "      <td>47</td>\n",
       "      <td>Big Data Engineer/Lead/Architect - Austin, TX</td>\n",
       "      <td>1</td>\n",
       "    </tr>\n",
       "    <tr>\n",
       "      <th>6</th>\n",
       "      <td>Big Data Engineer</td>\n",
       "      <td>41</td>\n",
       "      <td>Senior Data Analyst, Sales</td>\n",
       "      <td>1</td>\n",
       "    </tr>\n",
       "    <tr>\n",
       "      <th>7</th>\n",
       "      <td>Business Intelligence Analyst</td>\n",
       "      <td>39</td>\n",
       "      <td>Data Science Software Engineer</td>\n",
       "      <td>1</td>\n",
       "    </tr>\n",
       "    <tr>\n",
       "      <th>8</th>\n",
       "      <td>Senior Data Engineer</td>\n",
       "      <td>37</td>\n",
       "      <td>Associate Scientist ( Immuno-Oncology)</td>\n",
       "      <td>1</td>\n",
       "    </tr>\n",
       "    <tr>\n",
       "      <th>9</th>\n",
       "      <td>Sr. Data Scientist</td>\n",
       "      <td>23</td>\n",
       "      <td>Senior Scientist, Molecular Diagnostics</td>\n",
       "      <td>1</td>\n",
       "    </tr>\n",
       "    <tr>\n",
       "      <th>10</th>\n",
       "      <td>Lead Data Scientist</td>\n",
       "      <td>23</td>\n",
       "      <td>Quantum Principal Data Scientist- Industrial D...</td>\n",
       "      <td>1</td>\n",
       "    </tr>\n",
       "    <tr>\n",
       "      <th>11</th>\n",
       "      <td>Research Scientist</td>\n",
       "      <td>22</td>\n",
       "      <td>Field Appl Scientist I</td>\n",
       "      <td>1</td>\n",
       "    </tr>\n",
       "    <tr>\n",
       "      <th>12</th>\n",
       "      <td>Data Modeler</td>\n",
       "      <td>17</td>\n",
       "      <td>Internship - Analytics and Data Science (Healt...</td>\n",
       "      <td>1</td>\n",
       "    </tr>\n",
       "    <tr>\n",
       "      <th>13</th>\n",
       "      <td>Principal Data Scientist</td>\n",
       "      <td>15</td>\n",
       "      <td>Quantitative Researcher – Full Time (US)</td>\n",
       "      <td>1</td>\n",
       "    </tr>\n",
       "    <tr>\n",
       "      <th>14</th>\n",
       "      <td>Junior Data Analyst</td>\n",
       "      <td>15</td>\n",
       "      <td>Epidemiology/Data Analyst, San Antonio, TX, US...</td>\n",
       "      <td>1</td>\n",
       "    </tr>\n",
       "    <tr>\n",
       "      <th>15</th>\n",
       "      <td>Statistician (Data Scientist) *12 month Roster...</td>\n",
       "      <td>14</td>\n",
       "      <td>Scientist in Data, Methods, &amp; Analytics</td>\n",
       "      <td>1</td>\n",
       "    </tr>\n",
       "    <tr>\n",
       "      <th>16</th>\n",
       "      <td>Scientist</td>\n",
       "      <td>13</td>\n",
       "      <td>Cost Data Analyst</td>\n",
       "      <td>1</td>\n",
       "    </tr>\n",
       "    <tr>\n",
       "      <th>17</th>\n",
       "      <td>Federal - Data Scientist</td>\n",
       "      <td>13</td>\n",
       "      <td>Lead/Principal Data Engineer</td>\n",
       "      <td>1</td>\n",
       "    </tr>\n",
       "    <tr>\n",
       "      <th>18</th>\n",
       "      <td>Sr. Data Engineer</td>\n",
       "      <td>13</td>\n",
       "      <td>Data Engineer/ Big Data Engineer</td>\n",
       "      <td>1</td>\n",
       "    </tr>\n",
       "    <tr>\n",
       "      <th>19</th>\n",
       "      <td>Data Scientist - Nationwide Opportunities</td>\n",
       "      <td>11</td>\n",
       "      <td>Digital Analytics Manager</td>\n",
       "      <td>1</td>\n",
       "    </tr>\n",
       "  </tbody>\n",
       "</table>\n",
       "</div>"
      ],
      "text/plain": [
       "                                            Job Title  count  \\\n",
       "0                                      Data Scientist    274   \n",
       "1                                       Data Engineer    260   \n",
       "2                                        Data Analyst    246   \n",
       "3                               Senior Data Scientist     91   \n",
       "4                           Machine Learning Engineer     47   \n",
       "5                                 Senior Data Analyst     47   \n",
       "6                                   Big Data Engineer     41   \n",
       "7                       Business Intelligence Analyst     39   \n",
       "8                                Senior Data Engineer     37   \n",
       "9                                  Sr. Data Scientist     23   \n",
       "10                                Lead Data Scientist     23   \n",
       "11                                 Research Scientist     22   \n",
       "12                                       Data Modeler     17   \n",
       "13                           Principal Data Scientist     15   \n",
       "14                                Junior Data Analyst     15   \n",
       "15  Statistician (Data Scientist) *12 month Roster...     14   \n",
       "16                                          Scientist     13   \n",
       "17                           Federal - Data Scientist     13   \n",
       "18                                  Sr. Data Engineer     13   \n",
       "19          Data Scientist - Nationwide Opportunities     11   \n",
       "\n",
       "                                            Job Title  count  \n",
       "0                                Sr Applied Scientist      1  \n",
       "1                              Guidewire Data Analyst      1  \n",
       "2   Research Scientist - Data Science (Earth & Atm...      1  \n",
       "3         Strategic Data Scientist, Data & Technology      1  \n",
       "4       Lead Process Development Scientist - Upstream      1  \n",
       "5       Big Data Engineer/Lead/Architect - Austin, TX      1  \n",
       "6                          Senior Data Analyst, Sales      1  \n",
       "7                      Data Science Software Engineer      1  \n",
       "8              Associate Scientist ( Immuno-Oncology)      1  \n",
       "9             Senior Scientist, Molecular Diagnostics      1  \n",
       "10  Quantum Principal Data Scientist- Industrial D...      1  \n",
       "11                             Field Appl Scientist I      1  \n",
       "12  Internship - Analytics and Data Science (Healt...      1  \n",
       "13           Quantitative Researcher – Full Time (US)      1  \n",
       "14  Epidemiology/Data Analyst, San Antonio, TX, US...      1  \n",
       "15            Scientist in Data, Methods, & Analytics      1  \n",
       "16                                  Cost Data Analyst      1  \n",
       "17                       Lead/Principal Data Engineer      1  \n",
       "18                   Data Engineer/ Big Data Engineer      1  \n",
       "19                          Digital Analytics Manager      1  "
      ]
     },
     "execution_count": 8,
     "metadata": {},
     "output_type": "execute_result"
    }
   ],
   "source": [
    "job_title_first_20 = ds_df['Job Title'].value_counts()[:20].reset_index()\n",
    "job_title_last_20 = ds_df['Job Title'].value_counts()[-20:].reset_index()\n",
    "pd.concat([job_title_first_20,job_title_last_20],axis=1).rename(columns = {'Job Title':'count','index':'Job Title'})"
   ]
  },
  {
   "cell_type": "markdown",
   "id": "8217a782",
   "metadata": {},
   "source": [
    "Có thể thấy, thông tin Job Title được miêu tả khá \"lộn xộn\" có thể là: tuyển nhiều vị trí cùng lúc, ghi tên vị trí cùng thời gian làm việc. Do đó, ta sẽ xử lý để cột chỉ thể hiện một công việc chính (xem việc được nhắc đến đầu tiên là công việc chính). Ngoài ra, có vài vị trí là như nhau nhưng sử dụng thuật ngữ khác nhau (Sr., Senior) ta sẽ xử lý những giá trị này để chúng thể hiện cùng từ ngữ"
   ]
  },
  {
   "cell_type": "code",
   "execution_count": 9,
   "id": "1371de58",
   "metadata": {},
   "outputs": [
    {
     "data": {
      "text/plain": [
       "Data Scientist                                                357\n",
       "Data Engineer                                                 290\n",
       "Data Analyst                                                  278\n",
       "Senior Data Scientist                                         105\n",
       "Data Scientist                                                 70\n",
       "                                                             ... \n",
       "Data Scientist — Risk                                           1\n",
       "Senior Business Intelligence Data Analyst                       1\n",
       "Senior Research Scientist Specializing in Machine Learning      1\n",
       "San Antonio Data Science Tutor Jobs                             1\n",
       "Machine Learning Engineer (OH)                                  1\n",
       "Name: Job Title, Length: 1378, dtype: int64"
      ]
     },
     "execution_count": 9,
     "metadata": {},
     "output_type": "execute_result"
    }
   ],
   "source": [
    "ds_df['Job Title'] = ds_df['Job Title'].apply(lambda x:''.join(re.compile(\"[,\\/-]\").split(x)[:1]))\n",
    "ds_df['Job Title'].value_counts()"
   ]
  },
  {
   "cell_type": "code",
   "execution_count": 10,
   "id": "5dc1b87f",
   "metadata": {},
   "outputs": [],
   "source": [
    "ds_df['Job Title'] = ds_df['Job Title'].str.replace('Sr.','Senior',regex=False)\n",
    "ds_df['Job Title'] = ds_df['Job Title'].str.replace('Jr.','Junior',regex=False)"
   ]
  },
  {
   "cell_type": "markdown",
   "id": "5c97879b",
   "metadata": {},
   "source": [
    "### Tiền xử lý cột Salary Estimate\n"
   ]
  },
  {
   "cell_type": "markdown",
   "id": "6eb1fe90",
   "metadata": {},
   "source": [
    "Cột này bao gồm các giá trị là khoảng ước tính, do đó ta sẽ tách thành 2 cột min và max."
   ]
  },
  {
   "cell_type": "code",
   "execution_count": 11,
   "id": "682e2b39",
   "metadata": {},
   "outputs": [],
   "source": [
    "def split_to_minmax(s):\n",
    "    value_range = [int(d) for d in re.findall(r'\\d+',s)]\n",
    "    return value_range\n",
    "ds_df[['SalaryMin','SalaryMax']] = pd.DataFrame(ds_df['Salary Estimate'].apply(split_to_minmax).to_list())\n",
    "ds_df.drop(columns=['Salary Estimate'],inplace = True)"
   ]
  },
  {
   "cell_type": "markdown",
   "id": "87ae77e0",
   "metadata": {},
   "source": [
    "### Tiền xử lý cột Rating"
   ]
  },
  {
   "cell_type": "code",
   "execution_count": 12,
   "id": "472aa6ff",
   "metadata": {
    "scrolled": true
   },
   "outputs": [
    {
     "data": {
      "text/plain": [
       "-1.0    409\n",
       " 3.9    302\n",
       " 3.7    290\n",
       " 4.1    272\n",
       " 3.6    252\n",
       " 3.8    238\n",
       " 4.0    200\n",
       " 3.4    185\n",
       " 3.5    176\n",
       " 5.0    160\n",
       " 3.3    154\n",
       " 4.2    154\n",
       " 3.2    136\n",
       " 4.3    119\n",
       " 3.1    113\n",
       " 4.5    108\n",
       " 4.4     76\n",
       " 4.6     74\n",
       " 3.0     65\n",
       " 2.9     63\n",
       " 4.7     59\n",
       " 2.8     58\n",
       " 4.9     45\n",
       " 4.8     42\n",
       " 2.5     33\n",
       " 2.7     29\n",
       " 2.6     27\n",
       " 2.4     20\n",
       " 1.0     10\n",
       " 2.3     10\n",
       " 2.2      9\n",
       " 1.6      9\n",
       " 2.0      4\n",
       " 2.1      3\n",
       " 1.9      3\n",
       " 1.7      1\n",
       " 1.5      1\n",
       "Name: Rating, dtype: int64"
      ]
     },
     "execution_count": 12,
     "metadata": {},
     "output_type": "execute_result"
    }
   ],
   "source": [
    "ds_df['Rating'].value_counts()"
   ]
  },
  {
   "cell_type": "markdown",
   "id": "3b36ceed",
   "metadata": {},
   "source": [
    "Cột `Rating` có khá nhiều giá trị thiếu được đánh dấu bằng giá trị `-1`. Ta sẽ thay thế các giá trị này bằng trung bình của các giá trị còn lại."
   ]
  },
  {
   "cell_type": "code",
   "execution_count": 13,
   "id": "1e6d02c0",
   "metadata": {},
   "outputs": [],
   "source": [
    "ds_df['Rating'].replace(-1,np.nan,inplace = True)\n",
    "mean = ds_df['Rating'].mean(skipna = True).round(1)\n",
    "ds_df['Rating'].replace(np.nan,mean,inplace = True)"
   ]
  },
  {
   "cell_type": "markdown",
   "id": "7fb01039",
   "metadata": {},
   "source": [
    "### Loại bỏ rating trong Company name"
   ]
  },
  {
   "cell_type": "markdown",
   "id": "86e3b2e4",
   "metadata": {},
   "source": [
    "Như đã nói ở phần Khám phá dữ liệu, cột `Company Name` đã bị lỗi khi thu thập dữ liệu (tên công ty gắn liền với rating). Vì đã có cột `Rating` nên ta sẽ thực hiện xóa phần rating bị thừa trong cột này."
   ]
  },
  {
   "cell_type": "code",
   "execution_count": 14,
   "id": "01912a9b",
   "metadata": {},
   "outputs": [],
   "source": [
    "ds_df['Company Name'] = ds_df['Company Name'].apply(lambda x:x.split('\\n')[0])"
   ]
  },
  {
   "cell_type": "markdown",
   "id": "66f8c03d",
   "metadata": {},
   "source": [
    "### Tiền xử lý cột Location và loại bỏ missing value"
   ]
  },
  {
   "cell_type": "code",
   "execution_count": 15,
   "id": "64cd9efa",
   "metadata": {},
   "outputs": [],
   "source": [
    "ds_df['Location'].replace('-1',np.nan,inplace = True)"
   ]
  },
  {
   "cell_type": "code",
   "execution_count": 16,
   "id": "4dbd86be",
   "metadata": {},
   "outputs": [
    {
     "data": {
      "text/plain": [
       "Austin, TX             345\n",
       "Chicago, IL            330\n",
       "San Diego, CA          304\n",
       "New York, NY           303\n",
       "Houston, TX            219\n",
       "                      ... \n",
       "Lyndhurst, NJ            1\n",
       "Summit, NJ               1\n",
       "Gloucester City, NJ      1\n",
       "Hines, IL                1\n",
       "Hilliard, OH             1\n",
       "Name: Location, Length: 191, dtype: int64"
      ]
     },
     "execution_count": 16,
     "metadata": {},
     "output_type": "execute_result"
    }
   ],
   "source": [
    "ds_df['Location'].value_counts()"
   ]
  },
  {
   "cell_type": "markdown",
   "id": "ee2c59e8",
   "metadata": {},
   "source": [
    "Trong cột `Location`, mỗi giá trị bao gồm tên thành phố và tên bang cách nhau bởi dấu `,`. Ta sẽ tách các giá trị này thành 2 cột là `City` và `State`."
   ]
  },
  {
   "cell_type": "code",
   "execution_count": 17,
   "id": "09ddb7e8",
   "metadata": {},
   "outputs": [],
   "source": [
    "ds_df[['City','State']] = ds_df['Location'].str.split(', ',expand=True)\n",
    "ds_df.drop(columns = ['Location'], inplace = True)"
   ]
  },
  {
   "cell_type": "markdown",
   "id": "df9043c5",
   "metadata": {},
   "source": [
    "### Tách tên thành phố trong cột Headquarters và xử lý missing value"
   ]
  },
  {
   "cell_type": "code",
   "execution_count": 18,
   "id": "96d72ecb",
   "metadata": {},
   "outputs": [],
   "source": [
    "ds_df['Headquarters'].replace('-1',np.nan,inplace = True)\n"
   ]
  },
  {
   "cell_type": "code",
   "execution_count": 19,
   "id": "20a92fa7",
   "metadata": {},
   "outputs": [
    {
     "data": {
      "text/html": [
       "<div>\n",
       "<style scoped>\n",
       "    .dataframe tbody tr th:only-of-type {\n",
       "        vertical-align: middle;\n",
       "    }\n",
       "\n",
       "    .dataframe tbody tr th {\n",
       "        vertical-align: top;\n",
       "    }\n",
       "\n",
       "    .dataframe thead th {\n",
       "        text-align: right;\n",
       "    }\n",
       "</style>\n",
       "<table border=\"1\" class=\"dataframe\">\n",
       "  <thead>\n",
       "    <tr style=\"text-align: right;\">\n",
       "      <th></th>\n",
       "      <th>0</th>\n",
       "      <th>1</th>\n",
       "      <th>2</th>\n",
       "    </tr>\n",
       "  </thead>\n",
       "  <tbody>\n",
       "    <tr>\n",
       "      <th>0</th>\n",
       "      <td>Montreal</td>\n",
       "      <td>Canada</td>\n",
       "      <td>None</td>\n",
       "    </tr>\n",
       "    <tr>\n",
       "      <th>1</th>\n",
       "      <td>New York</td>\n",
       "      <td>NY</td>\n",
       "      <td>None</td>\n",
       "    </tr>\n",
       "    <tr>\n",
       "      <th>2</th>\n",
       "      <td>New York</td>\n",
       "      <td>NY</td>\n",
       "      <td>None</td>\n",
       "    </tr>\n",
       "    <tr>\n",
       "      <th>3</th>\n",
       "      <td>Lyndhurst</td>\n",
       "      <td>NJ</td>\n",
       "      <td>None</td>\n",
       "    </tr>\n",
       "    <tr>\n",
       "      <th>4</th>\n",
       "      <td>New York</td>\n",
       "      <td>NY</td>\n",
       "      <td>None</td>\n",
       "    </tr>\n",
       "    <tr>\n",
       "      <th>...</th>\n",
       "      <td>...</td>\n",
       "      <td>...</td>\n",
       "      <td>...</td>\n",
       "    </tr>\n",
       "    <tr>\n",
       "      <th>3904</th>\n",
       "      <td>Irving</td>\n",
       "      <td>TX</td>\n",
       "      <td>None</td>\n",
       "    </tr>\n",
       "    <tr>\n",
       "      <th>3905</th>\n",
       "      <td>Woodridge</td>\n",
       "      <td>IL</td>\n",
       "      <td>None</td>\n",
       "    </tr>\n",
       "    <tr>\n",
       "      <th>3906</th>\n",
       "      <td>Irving</td>\n",
       "      <td>TX</td>\n",
       "      <td>None</td>\n",
       "    </tr>\n",
       "    <tr>\n",
       "      <th>3907</th>\n",
       "      <td>Omaha</td>\n",
       "      <td>NE</td>\n",
       "      <td>None</td>\n",
       "    </tr>\n",
       "    <tr>\n",
       "      <th>3908</th>\n",
       "      <td>Brussel</td>\n",
       "      <td>Belgium</td>\n",
       "      <td>None</td>\n",
       "    </tr>\n",
       "  </tbody>\n",
       "</table>\n",
       "<p>3909 rows × 3 columns</p>\n",
       "</div>"
      ],
      "text/plain": [
       "              0         1     2\n",
       "0      Montreal    Canada  None\n",
       "1      New York        NY  None\n",
       "2      New York        NY  None\n",
       "3     Lyndhurst        NJ  None\n",
       "4      New York        NY  None\n",
       "...         ...       ...   ...\n",
       "3904     Irving        TX  None\n",
       "3905  Woodridge        IL  None\n",
       "3906     Irving        TX  None\n",
       "3907      Omaha        NE  None\n",
       "3908    Brussel   Belgium  None\n",
       "\n",
       "[3909 rows x 3 columns]"
      ]
     },
     "execution_count": 19,
     "metadata": {},
     "output_type": "execute_result"
    }
   ],
   "source": [
    "headquarters_splited = ds_df['Headquarters'].str.split(',',expand=True)\n",
    "headquarters_splited"
   ]
  },
  {
   "cell_type": "markdown",
   "id": "64b86e3b",
   "metadata": {},
   "source": [
    "Một số công ty có định dạng `Headquarters` khác với công ty còn lại, ta sẽ xem xét và giải quyết các gái trị đặc biệt này."
   ]
  },
  {
   "cell_type": "code",
   "execution_count": 20,
   "id": "02e18ce6",
   "metadata": {},
   "outputs": [
    {
     "data": {
      "text/html": [
       "<div>\n",
       "<style scoped>\n",
       "    .dataframe tbody tr th:only-of-type {\n",
       "        vertical-align: middle;\n",
       "    }\n",
       "\n",
       "    .dataframe tbody tr th {\n",
       "        vertical-align: top;\n",
       "    }\n",
       "\n",
       "    .dataframe thead th {\n",
       "        text-align: right;\n",
       "    }\n",
       "</style>\n",
       "<table border=\"1\" class=\"dataframe\">\n",
       "  <thead>\n",
       "    <tr style=\"text-align: right;\">\n",
       "      <th></th>\n",
       "      <th>0</th>\n",
       "      <th>1</th>\n",
       "      <th>2</th>\n",
       "    </tr>\n",
       "  </thead>\n",
       "  <tbody>\n",
       "    <tr>\n",
       "      <th>142</th>\n",
       "      <td>New York</td>\n",
       "      <td>NY (US)</td>\n",
       "      <td>NY</td>\n",
       "    </tr>\n",
       "    <tr>\n",
       "      <th>303</th>\n",
       "      <td>New York</td>\n",
       "      <td>NY (US)</td>\n",
       "      <td>NY</td>\n",
       "    </tr>\n",
       "    <tr>\n",
       "      <th>1686</th>\n",
       "      <td>Philadelphia</td>\n",
       "      <td>PA (US)</td>\n",
       "      <td>PA</td>\n",
       "    </tr>\n",
       "    <tr>\n",
       "      <th>1751</th>\n",
       "      <td>Philadelphia</td>\n",
       "      <td>PA (US)</td>\n",
       "      <td>PA</td>\n",
       "    </tr>\n",
       "    <tr>\n",
       "      <th>1816</th>\n",
       "      <td>New York</td>\n",
       "      <td>NY (US)</td>\n",
       "      <td>NY</td>\n",
       "    </tr>\n",
       "    <tr>\n",
       "      <th>2118</th>\n",
       "      <td>San Marcos</td>\n",
       "      <td>CA (US)</td>\n",
       "      <td>CA</td>\n",
       "    </tr>\n",
       "  </tbody>\n",
       "</table>\n",
       "</div>"
      ],
      "text/plain": [
       "                 0         1    2\n",
       "142       New York   NY (US)   NY\n",
       "303       New York   NY (US)   NY\n",
       "1686  Philadelphia   PA (US)   PA\n",
       "1751  Philadelphia   PA (US)   PA\n",
       "1816      New York   NY (US)   NY\n",
       "2118    San Marcos   CA (US)   CA"
      ]
     },
     "execution_count": 20,
     "metadata": {},
     "output_type": "execute_result"
    }
   ],
   "source": [
    "headquarters_splited[~headquarters_splited[2].isnull()]"
   ]
  },
  {
   "cell_type": "markdown",
   "id": "0c45c4e0",
   "metadata": {},
   "source": [
    "Như vậy, các định dạng khác thường là do một số công ty ghi thêm quốc gia, ta sẽ loại bỏ các giá trị này."
   ]
  },
  {
   "cell_type": "code",
   "execution_count": 21,
   "id": "c66c5617",
   "metadata": {},
   "outputs": [],
   "source": [
    "headquarters_splited[1] = headquarters_splited[1].str.replace('\\(\\w*\\)','',regex=True)\n",
    "headquarters_splited[1] = headquarters_splited[1].str.strip()\n",
    "headquarters_splited.drop(columns=[2],inplace=True)"
   ]
  },
  {
   "cell_type": "code",
   "execution_count": 22,
   "id": "5856d3be",
   "metadata": {
    "scrolled": true
   },
   "outputs": [],
   "source": [
    "ds_df[['Headquarters_City','Headquarters_State/Country']] = headquarters_splited\n",
    "ds_df.drop(columns=['Headquarters'],inplace = True)"
   ]
  },
  {
   "cell_type": "markdown",
   "id": "84ef87b5",
   "metadata": {},
   "source": [
    "### Tiền xử lý cột Size"
   ]
  },
  {
   "cell_type": "code",
   "execution_count": 23,
   "id": "e31302e9",
   "metadata": {},
   "outputs": [
    {
     "data": {
      "text/plain": [
       "10000+ employees           993\n",
       "51 to 200 employees        563\n",
       "1001 to 5000 employees     553\n",
       "1 to 50 employees          550\n",
       "201 to 500 employees       418\n",
       "501 to 1000 employees      307\n",
       "-1                         229\n",
       "5001 to 10000 employees    219\n",
       "Unknown                     77\n",
       "Name: Size, dtype: int64"
      ]
     },
     "execution_count": 23,
     "metadata": {},
     "output_type": "execute_result"
    }
   ],
   "source": [
    "ds_df['Size'].value_counts()"
   ]
  },
  {
   "cell_type": "markdown",
   "id": "a2cbc278",
   "metadata": {},
   "source": [
    "Cột `Size` gồm 3 kiểu thể hiện dữ liệu: gồm `-1` cho các giá trị thiếu, `Unknown` là các giá trị mà công ty không cung cấp và còn lại là các khoảng. Ta sẽ tiền xử lí cột này như sau:\n",
    "* Các giá trị `-1` và `Unknown` sẽ thay thế bằng giá trị `NaN`.\n",
    "* Các giá trị là các khoảng, ta sẽ chuyển thành giá trị trung bình, riêng khoảng lớn nhất sẽ dùng giá trị phân chia."
   ]
  },
  {
   "cell_type": "code",
   "execution_count": 24,
   "id": "c675d7ff",
   "metadata": {},
   "outputs": [
    {
     "data": {
      "text/plain": [
       "10000.0    993\n",
       "125.0      563\n",
       "3000.0     553\n",
       "25.0       550\n",
       "350.0      418\n",
       "750.0      307\n",
       "7500.0     219\n",
       "Name: Size, dtype: int64"
      ]
     },
     "execution_count": 24,
     "metadata": {},
     "output_type": "execute_result"
    }
   ],
   "source": [
    "def convert_to_mean(s):\n",
    "    if type(s) != str:\n",
    "        return\n",
    "    value_range = [int(d) for d in re.findall(r'\\d+',s)]\n",
    "    return math.floor(sum(value_range)/len(value_range))\n",
    "ds_df['Size'].replace('-1',np.nan,inplace = True)\n",
    "ds_df['Size'].replace('Unknown',np.nan,inplace = True)\n",
    "ds_df['Size']=ds_df['Size'].apply(convert_to_mean)\n",
    "ds_df['Size'].value_counts()"
   ]
  },
  {
   "cell_type": "markdown",
   "id": "59862b25",
   "metadata": {},
   "source": [
    "### Tiền xử lý cột Founded "
   ]
  },
  {
   "cell_type": "code",
   "execution_count": 25,
   "id": "fae750d5",
   "metadata": {},
   "outputs": [
    {
     "data": {
      "text/plain": [
       "-1       977\n",
       " 1625      2\n",
       " 1682      1\n",
       " 1740      9\n",
       " 1775     13\n",
       "        ... \n",
       " 2016     49\n",
       " 2017     40\n",
       " 2018     27\n",
       " 2019     14\n",
       " 2020      1\n",
       "Name: Founded, Length: 173, dtype: int64"
      ]
     },
     "execution_count": 25,
     "metadata": {},
     "output_type": "execute_result"
    }
   ],
   "source": [
    "ds_df['Founded'].value_counts().sort_index()"
   ]
  },
  {
   "cell_type": "markdown",
   "id": "c8c4f286",
   "metadata": {},
   "source": [
    "Cột `Founded` có khá nhiều giá trị thiếu, tác giả đã đánh dấu bằng giá trị `-1`. Ta không có cách nào để xác định năm thành lập của những công ty này. Do đó, để tiện cho việc tính toán các tác vụ về sau (tính giá trị thiếu,...), ta sẽ chuyển các giá trị `-1` về `NaN`."
   ]
  },
  {
   "cell_type": "code",
   "execution_count": 26,
   "id": "91351d28",
   "metadata": {
    "scrolled": false
   },
   "outputs": [
    {
     "data": {
      "text/plain": [
       "array([2007., 2008.,   nan, 2019., 1985., 1993., 2018., 2000., 2014.,\n",
       "       2011., 1999., 2001., 1998., 2005., 1943., 2012., 1923., 2003.,\n",
       "       2002., 2015., 2006., 2010., 1853., 1990., 1914., 2013., 2004.,\n",
       "       1799., 1935., 1995., 1994., 1988., 1917., 1947., 1981., 1940.,\n",
       "       1841., 2017., 1896., 2009., 1898., 1968., 1862., 1934., 1992.,\n",
       "       2016., 1984., 1987., 1966., 1976., 1871., 1625., 1997., 1967.,\n",
       "       1948., 1913., 1989., 1893., 1904., 1911., 1961., 1806., 1969.,\n",
       "       1945., 1784., 1857., 1971., 1852., 1922., 1851., 1956., 1906.,\n",
       "       1973., 1960., 1975., 1982., 1996., 1931., 1986., 1902., 1909.,\n",
       "       1880., 1946., 1970., 1979., 1977., 1965., 1954., 1850., 1980.,\n",
       "       1919., 1983., 1888., 1978., 1872., 1831., 1936., 1939., 1937.,\n",
       "       1928., 1991., 1929., 1944., 1901., 1974., 1925., 1817., 1963.,\n",
       "       1894., 1890., 1882., 1892., 1908., 1926., 1883., 1845., 1849.,\n",
       "       1918., 1900., 1889., 1837., 1930., 1877., 1910., 1962., 1955.,\n",
       "       1897., 1949., 1972., 1941., 1957., 1924., 1891., 1864., 1951.,\n",
       "       1847., 1775., 1843., 1855., 1740., 1792., 1830., 1887., 1682.,\n",
       "       1881., 1824., 1916., 1812., 1905., 1953., 1876., 1848., 1858.,\n",
       "       1958., 1938., 1868., 1781., 1895., 1869., 1921., 2020., 1865.,\n",
       "       1933., 1907., 1927., 1950., 1952., 1870., 1912., 1920., 1932.,\n",
       "       1803., 1866.])"
      ]
     },
     "execution_count": 26,
     "metadata": {},
     "output_type": "execute_result"
    }
   ],
   "source": [
    "ds_df['Founded'].replace(-1,np.nan,inplace = True)\n",
    "ds_df['Founded'].unique()"
   ]
  },
  {
   "cell_type": "markdown",
   "id": "90d1b50e",
   "metadata": {},
   "source": [
    "Quan sát cột `Founded` các giá trị còn lại đều đã chính xác. Kiểu dữ liệu `int64` đã phù hợp với ý nghĩa của cột là năm thành lập công ty."
   ]
  },
  {
   "cell_type": "markdown",
   "id": "bbf3bc74",
   "metadata": {},
   "source": [
    "### Tiền xử lý cột Industry "
   ]
  },
  {
   "cell_type": "code",
   "execution_count": 27,
   "id": "be823f31",
   "metadata": {
    "scrolled": true
   },
   "outputs": [
    {
     "data": {
      "text/plain": [
       "-1                                      546\n",
       "IT Services                             472\n",
       "Staffing & Outsourcing                  313\n",
       "Biotech & Pharmaceuticals               293\n",
       "Computer Hardware & Software            264\n",
       "                                       ... \n",
       "Beauty & Personal Accessories Stores      1\n",
       "Truck Rental & Leasing                    1\n",
       "Metals Brokers                            1\n",
       "Religious Organizations                   1\n",
       "Auto Repair & Maintenance                 1\n",
       "Name: Industry, Length: 96, dtype: int64"
      ]
     },
     "execution_count": 27,
     "metadata": {},
     "output_type": "execute_result"
    }
   ],
   "source": [
    "ds_df['Industry'].value_counts()"
   ]
  },
  {
   "cell_type": "markdown",
   "id": "00071465",
   "metadata": {},
   "source": [
    "Tương tự cột `Founded`, cột `Industry` cũng có các giá trị thiếu được đánh dấu bằng giá trị `-1`. Ta sẽ chuyển giá trị này thành `NaN`."
   ]
  },
  {
   "cell_type": "code",
   "execution_count": 28,
   "id": "5393f994",
   "metadata": {},
   "outputs": [],
   "source": [
    "ds_df['Industry'].replace('-1',np.nan,inplace = True)"
   ]
  },
  {
   "cell_type": "markdown",
   "id": "21c46667",
   "metadata": {},
   "source": [
    "### Tiền xử lý cột Revenue "
   ]
  },
  {
   "cell_type": "code",
   "execution_count": 29,
   "id": "7022a529",
   "metadata": {},
   "outputs": [
    {
     "data": {
      "text/plain": [
       "Unknown / Non-Applicable            1163\n",
       "$10+ billion (USD)                   599\n",
       "$100 to $500 million (USD)           338\n",
       "-1                                   229\n",
       "$50 to $100 million (USD)            214\n",
       "$2 to $5 billion (USD)               211\n",
       "$10 to $25 million (USD)             191\n",
       "$1 to $2 billion (USD)               180\n",
       "$1 to $5 million (USD)               170\n",
       "$25 to $50 million (USD)             143\n",
       "$5 to $10 billion (USD)              133\n",
       "Less than $1 million (USD)           124\n",
       "$500 million to $1 billion (USD)     114\n",
       "$5 to $10 million (USD)              100\n",
       "Name: Revenue, dtype: int64"
      ]
     },
     "execution_count": 29,
     "metadata": {},
     "output_type": "execute_result"
    }
   ],
   "source": [
    "ds_df[\"Revenue\"].value_counts()"
   ]
  },
  {
   "cell_type": "markdown",
   "id": "d196e920",
   "metadata": {},
   "source": [
    "Như có thể quan sát, cột này có 3 kiểu thể hiện dữ liệu: giá trị thiếu đánh dấu bằng `-1`, giá trị `Unknown / Non-Applicable` và giá trị có định dạng là một khoảng ước lượng. Ta sẽ tiền xử lí cột này như sau:\n",
    "* Các dòng có giá trị `-1` hoặc `Unknown / Non-Applicable` sẽ chuyển thành dạng `NaN`.\n",
    "* Các dòng có giá trị là môt khoảng ước lượng sẽ chuyển thành giá trị trung bình của khoảng. Với 2 khoảng đầu cuối, ta sẽ mặc định thành giá trị phân chia của khoảng đó. Ngoài ra, các giá trị billion cũng sẽ được đổi thành million."
   ]
  },
  {
   "cell_type": "code",
   "execution_count": 30,
   "id": "b39ee458",
   "metadata": {},
   "outputs": [],
   "source": [
    "def convert_to_num(s):\n",
    "    if type(s) != str:\n",
    "        return\n",
    "    if re.compile(r'\\$\\d+\\+ billion').match(s):\n",
    "        value_range = [int(d) for d in re.findall(r'\\d+',s)]\n",
    "        return sum(value_range)/len(value_range)*1000\n",
    "    elif re.compile(r'\\$\\d+ to \\$\\d+ billion').match(s):\n",
    "        value_range = [int(d) for d in re.findall(r'\\d+',s)]\n",
    "        return sum(value_range)/len(value_range)*1000\n",
    "    elif re.compile(r'\\$\\d+ million to \\$\\d+ billion').match(s):\n",
    "        match = re.compile(r'\\$(\\d+) million to \\$(\\d+) billion').match(s)\n",
    "        return (int(match.group(1))+int(match.group(2))*1000)/2\n",
    "    else:\n",
    "        value_range = [int(d) for d in re.findall(r'\\d+',s)]\n",
    "        return sum(value_range)/len(value_range)\n",
    "ds_df['Revenue'].replace('-1',np.nan,inplace = True)\n",
    "ds_df['Revenue'].replace('Unknown / Non-Applicable',np.nan,inplace = True)\n",
    "ds_df['Revenue'] = ds_df['Revenue'].apply(convert_to_num)"
   ]
  },
  {
   "cell_type": "markdown",
   "id": "53347d01",
   "metadata": {},
   "source": [
    "### Tiền xử lý cột Easy Apply"
   ]
  },
  {
   "cell_type": "code",
   "execution_count": 31,
   "id": "c1c0ad96",
   "metadata": {
    "scrolled": true
   },
   "outputs": [
    {
     "name": "stdout",
     "output_type": "stream",
     "text": [
      "object\n"
     ]
    },
    {
     "data": {
      "text/plain": [
       "-1      3745\n",
       "True     164\n",
       "Name: Easy Apply, dtype: int64"
      ]
     },
     "execution_count": 31,
     "metadata": {},
     "output_type": "execute_result"
    }
   ],
   "source": [
    "print(ds_df['Easy Apply'].dtype)\n",
    "ds_df[\"Easy Apply\"].value_counts()"
   ]
  },
  {
   "cell_type": "markdown",
   "id": "79303445",
   "metadata": {},
   "source": [
    "Cột `Easy Apply` hiện tại gồm 2 giá trị -1 và True. Vì cung cấp thông tin công ty có dễ apply hay không, cột nên mang giá trị `True` hoặc `False`. Do đó, ta thực hiện replace -1 bằng `False` và chuyển dtype của cột về đúng dạng `bool`"
   ]
  },
  {
   "cell_type": "code",
   "execution_count": 32,
   "id": "ee78f1c8",
   "metadata": {
    "scrolled": true
   },
   "outputs": [],
   "source": [
    "ds_df[\"Easy Apply\"] = ds_df[\"Easy Apply\"].replace('-1', False).astype(bool)"
   ]
  },
  {
   "cell_type": "markdown",
   "id": "7f167a6e",
   "metadata": {},
   "source": [
    "### Tiền xử lý các cột Type of ownership, Sector, Competitors"
   ]
  },
  {
   "cell_type": "code",
   "execution_count": 33,
   "id": "55cad6c0",
   "metadata": {},
   "outputs": [
    {
     "data": {
      "text/plain": [
       "array(['Company - Private', 'Unknown', 'Company - Public',\n",
       "       'Nonprofit Organization', '-1', 'Government', 'Hospital',\n",
       "       'Self-employed', 'Subsidiary or Business Segment', 'Contract',\n",
       "       'School / School District', 'Private Practice / Firm',\n",
       "       'College / University', 'Franchise', 'Other Organization'],\n",
       "      dtype=object)"
      ]
     },
     "execution_count": 33,
     "metadata": {},
     "output_type": "execute_result"
    }
   ],
   "source": [
    "ds_df['Type of ownership'].unique()"
   ]
  },
  {
   "cell_type": "code",
   "execution_count": 34,
   "id": "82bb1e70",
   "metadata": {},
   "outputs": [
    {
     "data": {
      "text/plain": [
       "array(['Travel & Tourism', 'Consumer Services', '-1',\n",
       "       'Information Technology', 'Business Services', 'Insurance',\n",
       "       'Finance', 'Retail', 'Media', 'Restaurants, Bars & Food Services',\n",
       "       'Agriculture & Forestry', 'Non-Profit', 'Education', 'Government',\n",
       "       'Health Care', 'Oil, Gas, Energy & Utilities',\n",
       "       'Accounting & Legal', 'Manufacturing', 'Real Estate',\n",
       "       'Biotech & Pharmaceuticals', 'Arts, Entertainment & Recreation',\n",
       "       'Aerospace & Defense', 'Construction, Repair & Maintenance',\n",
       "       'Transportation & Logistics', 'Telecommunications',\n",
       "       'Mining & Metals'], dtype=object)"
      ]
     },
     "execution_count": 34,
     "metadata": {},
     "output_type": "execute_result"
    }
   ],
   "source": [
    "ds_df['Sector'].unique()"
   ]
  },
  {
   "cell_type": "code",
   "execution_count": 35,
   "id": "1746621f",
   "metadata": {},
   "outputs": [
    {
     "data": {
      "text/plain": [
       "-1                                                          2760\n",
       "Amazon, Accenture, Microsoft                                  61\n",
       "Google, Microsoft, Samsung Electronics                        60\n",
       "Google, Microsoft, Walmart                                    47\n",
       "Google, Microsoft, Apple                                      25\n",
       "                                                            ... \n",
       "ID Business Solutions, Tripos LP                               1\n",
       "NBCUniversal                                                   1\n",
       "Northrop Grumman, Raytheon Technologies, Lockheed Martin       1\n",
       "Birchbox, ipsy, Stitch Fix                                     1\n",
       "Thomson Reuters, FactSet, Bloomberg L.P.                       1\n",
       "Name: Competitors, Length: 422, dtype: int64"
      ]
     },
     "execution_count": 35,
     "metadata": {},
     "output_type": "execute_result"
    }
   ],
   "source": [
    "ds_df['Competitors'].value_counts()"
   ]
  },
  {
   "cell_type": "markdown",
   "id": "21615b5d",
   "metadata": {},
   "source": [
    "Quan sát 3 cột này thì có vẻ ở bước tiền xử lý này ta chỉ cần thay thế giá trị `-1` thành giá trị `NaN`"
   ]
  },
  {
   "cell_type": "code",
   "execution_count": 36,
   "id": "f973adbf",
   "metadata": {},
   "outputs": [],
   "source": [
    "ds_df[['Type of ownership','Sector','Competitors']] = ds_df[['Type of ownership','Sector','Competitors']].replace('-1',np.nan)"
   ]
  },
  {
   "cell_type": "markdown",
   "id": "b8b01c85",
   "metadata": {},
   "source": [
    "### Sau khi thực hiện xử lý các cột, ta kiểm tra lại xem dữ liệu đã có dạng thích hợp hay chưa"
   ]
  },
  {
   "cell_type": "code",
   "execution_count": 37,
   "id": "4bb851f3",
   "metadata": {},
   "outputs": [
    {
     "data": {
      "text/html": [
       "<div>\n",
       "<style scoped>\n",
       "    .dataframe tbody tr th:only-of-type {\n",
       "        vertical-align: middle;\n",
       "    }\n",
       "\n",
       "    .dataframe tbody tr th {\n",
       "        vertical-align: top;\n",
       "    }\n",
       "\n",
       "    .dataframe thead th {\n",
       "        text-align: right;\n",
       "    }\n",
       "</style>\n",
       "<table border=\"1\" class=\"dataframe\">\n",
       "  <thead>\n",
       "    <tr style=\"text-align: right;\">\n",
       "      <th></th>\n",
       "      <th>Rating</th>\n",
       "      <th>Size</th>\n",
       "      <th>Founded</th>\n",
       "      <th>Revenue</th>\n",
       "      <th>SalaryMin</th>\n",
       "      <th>SalaryMax</th>\n",
       "    </tr>\n",
       "  </thead>\n",
       "  <tbody>\n",
       "    <tr>\n",
       "      <th>count</th>\n",
       "      <td>3909.000000</td>\n",
       "      <td>3603.000000</td>\n",
       "      <td>2932.000000</td>\n",
       "      <td>2517.000000</td>\n",
       "      <td>3909.000000</td>\n",
       "      <td>3909.000000</td>\n",
       "    </tr>\n",
       "    <tr>\n",
       "      <th>mean</th>\n",
       "      <td>3.785802</td>\n",
       "      <td>3800.215099</td>\n",
       "      <td>1972.371419</td>\n",
       "      <td>3261.437823</td>\n",
       "      <td>81.910463</td>\n",
       "      <td>133.825019</td>\n",
       "    </tr>\n",
       "    <tr>\n",
       "      <th>std</th>\n",
       "      <td>0.581588</td>\n",
       "      <td>4241.317779</td>\n",
       "      <td>52.719618</td>\n",
       "      <td>4167.295702</td>\n",
       "      <td>34.310710</td>\n",
       "      <td>45.011236</td>\n",
       "    </tr>\n",
       "    <tr>\n",
       "      <th>min</th>\n",
       "      <td>1.000000</td>\n",
       "      <td>25.000000</td>\n",
       "      <td>1625.000000</td>\n",
       "      <td>1.000000</td>\n",
       "      <td>10.000000</td>\n",
       "      <td>26.000000</td>\n",
       "    </tr>\n",
       "    <tr>\n",
       "      <th>25%</th>\n",
       "      <td>3.500000</td>\n",
       "      <td>125.000000</td>\n",
       "      <td>1961.000000</td>\n",
       "      <td>37.500000</td>\n",
       "      <td>52.000000</td>\n",
       "      <td>97.000000</td>\n",
       "    </tr>\n",
       "    <tr>\n",
       "      <th>50%</th>\n",
       "      <td>3.800000</td>\n",
       "      <td>750.000000</td>\n",
       "      <td>1995.000000</td>\n",
       "      <td>300.000000</td>\n",
       "      <td>76.000000</td>\n",
       "      <td>129.000000</td>\n",
       "    </tr>\n",
       "    <tr>\n",
       "      <th>75%</th>\n",
       "      <td>4.100000</td>\n",
       "      <td>10000.000000</td>\n",
       "      <td>2006.000000</td>\n",
       "      <td>7500.000000</td>\n",
       "      <td>110.000000</td>\n",
       "      <td>165.000000</td>\n",
       "    </tr>\n",
       "    <tr>\n",
       "      <th>max</th>\n",
       "      <td>5.000000</td>\n",
       "      <td>10000.000000</td>\n",
       "      <td>2020.000000</td>\n",
       "      <td>10000.000000</td>\n",
       "      <td>200.000000</td>\n",
       "      <td>254.000000</td>\n",
       "    </tr>\n",
       "  </tbody>\n",
       "</table>\n",
       "</div>"
      ],
      "text/plain": [
       "            Rating          Size      Founded       Revenue    SalaryMin  \\\n",
       "count  3909.000000   3603.000000  2932.000000   2517.000000  3909.000000   \n",
       "mean      3.785802   3800.215099  1972.371419   3261.437823    81.910463   \n",
       "std       0.581588   4241.317779    52.719618   4167.295702    34.310710   \n",
       "min       1.000000     25.000000  1625.000000      1.000000    10.000000   \n",
       "25%       3.500000    125.000000  1961.000000     37.500000    52.000000   \n",
       "50%       3.800000    750.000000  1995.000000    300.000000    76.000000   \n",
       "75%       4.100000  10000.000000  2006.000000   7500.000000   110.000000   \n",
       "max       5.000000  10000.000000  2020.000000  10000.000000   200.000000   \n",
       "\n",
       "         SalaryMax  \n",
       "count  3909.000000  \n",
       "mean    133.825019  \n",
       "std      45.011236  \n",
       "min      26.000000  \n",
       "25%      97.000000  \n",
       "50%     129.000000  \n",
       "75%     165.000000  \n",
       "max     254.000000  "
      ]
     },
     "execution_count": 37,
     "metadata": {},
     "output_type": "execute_result"
    }
   ],
   "source": [
    "ds_df.describe()"
   ]
  },
  {
   "cell_type": "markdown",
   "id": "20473da8",
   "metadata": {},
   "source": [
    "Quan sát các cột dữ liệu dạng số thì có vẻ không có gì bất thường xuất hiện."
   ]
  },
  {
   "cell_type": "markdown",
   "id": "25eb7a9a",
   "metadata": {},
   "source": [
    "#### Tiếp theo ta kiểm tra xem `dtype` của các cột đã đúng chưa"
   ]
  },
  {
   "cell_type": "code",
   "execution_count": 38,
   "id": "38c3e6e2",
   "metadata": {},
   "outputs": [
    {
     "name": "stdout",
     "output_type": "stream",
     "text": [
      "<class 'pandas.core.frame.DataFrame'>\n",
      "RangeIndex: 3909 entries, 0 to 3908\n",
      "Data columns (total 18 columns):\n",
      " #   Column                      Non-Null Count  Dtype  \n",
      "---  ------                      --------------  -----  \n",
      " 0   Job Title                   3909 non-null   object \n",
      " 1   Job Description             3909 non-null   object \n",
      " 2   Rating                      3909 non-null   float64\n",
      " 3   Company Name                3909 non-null   object \n",
      " 4   Size                        3603 non-null   float64\n",
      " 5   Founded                     2932 non-null   float64\n",
      " 6   Type of ownership           3680 non-null   object \n",
      " 7   Industry                    3363 non-null   object \n",
      " 8   Sector                      3363 non-null   object \n",
      " 9   Revenue                     2517 non-null   float64\n",
      " 10  Competitors                 1149 non-null   object \n",
      " 11  Easy Apply                  3909 non-null   bool   \n",
      " 12  SalaryMin                   3909 non-null   int64  \n",
      " 13  SalaryMax                   3909 non-null   int64  \n",
      " 14  City                        3909 non-null   object \n",
      " 15  State                       3909 non-null   object \n",
      " 16  Headquarters_City           3669 non-null   object \n",
      " 17  Headquarters_State/Country  3669 non-null   object \n",
      "dtypes: bool(1), float64(4), int64(2), object(11)\n",
      "memory usage: 523.1+ KB\n"
     ]
    }
   ],
   "source": [
    "ds_df.info()"
   ]
  },
  {
   "cell_type": "code",
   "execution_count": 39,
   "id": "9a055213",
   "metadata": {},
   "outputs": [
    {
     "data": {
      "text/html": [
       "<div>\n",
       "<style scoped>\n",
       "    .dataframe tbody tr th:only-of-type {\n",
       "        vertical-align: middle;\n",
       "    }\n",
       "\n",
       "    .dataframe tbody tr th {\n",
       "        vertical-align: top;\n",
       "    }\n",
       "\n",
       "    .dataframe thead th {\n",
       "        text-align: right;\n",
       "    }\n",
       "</style>\n",
       "<table border=\"1\" class=\"dataframe\">\n",
       "  <thead>\n",
       "    <tr style=\"text-align: right;\">\n",
       "      <th></th>\n",
       "      <th>Job Title</th>\n",
       "      <th>Job Description</th>\n",
       "      <th>Rating</th>\n",
       "      <th>Company Name</th>\n",
       "      <th>Size</th>\n",
       "      <th>Founded</th>\n",
       "      <th>Type of ownership</th>\n",
       "      <th>Industry</th>\n",
       "      <th>Sector</th>\n",
       "      <th>Revenue</th>\n",
       "      <th>Competitors</th>\n",
       "      <th>Easy Apply</th>\n",
       "      <th>SalaryMin</th>\n",
       "      <th>SalaryMax</th>\n",
       "      <th>City</th>\n",
       "      <th>State</th>\n",
       "      <th>Headquarters_City</th>\n",
       "      <th>Headquarters_State/Country</th>\n",
       "    </tr>\n",
       "  </thead>\n",
       "  <tbody>\n",
       "    <tr>\n",
       "      <th>0</th>\n",
       "      <td>Senior Data Scientist</td>\n",
       "      <td>ABOUT HOPPER\\n\\nAt Hopper, we’re on a mission ...</td>\n",
       "      <td>3.5</td>\n",
       "      <td>Hopper</td>\n",
       "      <td>750.0</td>\n",
       "      <td>2007.0</td>\n",
       "      <td>Company - Private</td>\n",
       "      <td>Travel Agencies</td>\n",
       "      <td>Travel &amp; Tourism</td>\n",
       "      <td>NaN</td>\n",
       "      <td>NaN</td>\n",
       "      <td>False</td>\n",
       "      <td>111</td>\n",
       "      <td>181</td>\n",
       "      <td>New York</td>\n",
       "      <td>NY</td>\n",
       "      <td>Montreal</td>\n",
       "      <td>Canada</td>\n",
       "    </tr>\n",
       "    <tr>\n",
       "      <th>1</th>\n",
       "      <td>Data Scientist</td>\n",
       "      <td>At Noom, we use scientifically proven methods ...</td>\n",
       "      <td>4.5</td>\n",
       "      <td>Noom US</td>\n",
       "      <td>3000.0</td>\n",
       "      <td>2008.0</td>\n",
       "      <td>Company - Private</td>\n",
       "      <td>Health, Beauty, &amp; Fitness</td>\n",
       "      <td>Consumer Services</td>\n",
       "      <td>NaN</td>\n",
       "      <td>NaN</td>\n",
       "      <td>False</td>\n",
       "      <td>111</td>\n",
       "      <td>181</td>\n",
       "      <td>New York</td>\n",
       "      <td>NY</td>\n",
       "      <td>New York</td>\n",
       "      <td>NY</td>\n",
       "    </tr>\n",
       "    <tr>\n",
       "      <th>2</th>\n",
       "      <td>Data Science Manager</td>\n",
       "      <td>Decode_M\\n\\nhttps://www.decode-m.com/\\n\\nData ...</td>\n",
       "      <td>3.8</td>\n",
       "      <td>Decode_M</td>\n",
       "      <td>25.0</td>\n",
       "      <td>NaN</td>\n",
       "      <td>Unknown</td>\n",
       "      <td>NaN</td>\n",
       "      <td>NaN</td>\n",
       "      <td>NaN</td>\n",
       "      <td>NaN</td>\n",
       "      <td>True</td>\n",
       "      <td>111</td>\n",
       "      <td>181</td>\n",
       "      <td>New York</td>\n",
       "      <td>NY</td>\n",
       "      <td>New York</td>\n",
       "      <td>NY</td>\n",
       "    </tr>\n",
       "    <tr>\n",
       "      <th>3</th>\n",
       "      <td>Data Analyst</td>\n",
       "      <td>Sapphire Digital seeks a dynamic and driven mi...</td>\n",
       "      <td>3.4</td>\n",
       "      <td>Sapphire Digital</td>\n",
       "      <td>350.0</td>\n",
       "      <td>2019.0</td>\n",
       "      <td>Company - Private</td>\n",
       "      <td>Internet</td>\n",
       "      <td>Information Technology</td>\n",
       "      <td>NaN</td>\n",
       "      <td>Zocdoc, Healthgrades</td>\n",
       "      <td>False</td>\n",
       "      <td>111</td>\n",
       "      <td>181</td>\n",
       "      <td>Lyndhurst</td>\n",
       "      <td>NJ</td>\n",
       "      <td>Lyndhurst</td>\n",
       "      <td>NJ</td>\n",
       "    </tr>\n",
       "    <tr>\n",
       "      <th>4</th>\n",
       "      <td>Director</td>\n",
       "      <td>Director, Data Science - (200537)\\nDescription...</td>\n",
       "      <td>3.4</td>\n",
       "      <td>United Entertainment Group</td>\n",
       "      <td>125.0</td>\n",
       "      <td>2007.0</td>\n",
       "      <td>Company - Private</td>\n",
       "      <td>Advertising &amp; Marketing</td>\n",
       "      <td>Business Services</td>\n",
       "      <td>NaN</td>\n",
       "      <td>BBDO, Grey Group, Droga5</td>\n",
       "      <td>False</td>\n",
       "      <td>111</td>\n",
       "      <td>181</td>\n",
       "      <td>New York</td>\n",
       "      <td>NY</td>\n",
       "      <td>New York</td>\n",
       "      <td>NY</td>\n",
       "    </tr>\n",
       "    <tr>\n",
       "      <th>...</th>\n",
       "      <td>...</td>\n",
       "      <td>...</td>\n",
       "      <td>...</td>\n",
       "      <td>...</td>\n",
       "      <td>...</td>\n",
       "      <td>...</td>\n",
       "      <td>...</td>\n",
       "      <td>...</td>\n",
       "      <td>...</td>\n",
       "      <td>...</td>\n",
       "      <td>...</td>\n",
       "      <td>...</td>\n",
       "      <td>...</td>\n",
       "      <td>...</td>\n",
       "      <td>...</td>\n",
       "      <td>...</td>\n",
       "      <td>...</td>\n",
       "      <td>...</td>\n",
       "    </tr>\n",
       "    <tr>\n",
       "      <th>3904</th>\n",
       "      <td>AWS Data Engineer</td>\n",
       "      <td>About Us\\n\\nTachyon Technologies is a Digital ...</td>\n",
       "      <td>4.4</td>\n",
       "      <td>Tachyon Technologies</td>\n",
       "      <td>350.0</td>\n",
       "      <td>2011.0</td>\n",
       "      <td>Company - Private</td>\n",
       "      <td>IT Services</td>\n",
       "      <td>Information Technology</td>\n",
       "      <td>17.5</td>\n",
       "      <td>NaN</td>\n",
       "      <td>False</td>\n",
       "      <td>55</td>\n",
       "      <td>112</td>\n",
       "      <td>Dublin</td>\n",
       "      <td>OH</td>\n",
       "      <td>Irving</td>\n",
       "      <td>TX</td>\n",
       "    </tr>\n",
       "    <tr>\n",
       "      <th>3905</th>\n",
       "      <td>Data Analyst â Junior</td>\n",
       "      <td>Job description\\nInterpret data, analyze resul...</td>\n",
       "      <td>5.0</td>\n",
       "      <td>Staffigo Technical Services, LLC</td>\n",
       "      <td>125.0</td>\n",
       "      <td>2008.0</td>\n",
       "      <td>Company - Private</td>\n",
       "      <td>IT Services</td>\n",
       "      <td>Information Technology</td>\n",
       "      <td>75.0</td>\n",
       "      <td>NaN</td>\n",
       "      <td>False</td>\n",
       "      <td>55</td>\n",
       "      <td>112</td>\n",
       "      <td>Columbus</td>\n",
       "      <td>OH</td>\n",
       "      <td>Woodridge</td>\n",
       "      <td>IL</td>\n",
       "    </tr>\n",
       "    <tr>\n",
       "      <th>3906</th>\n",
       "      <td>Security Analytics Data Engineer</td>\n",
       "      <td>Job DescriptionThe Security Analytics Data Eng...</td>\n",
       "      <td>3.8</td>\n",
       "      <td>PDS Tech, Inc.</td>\n",
       "      <td>7500.0</td>\n",
       "      <td>1977.0</td>\n",
       "      <td>Company - Private</td>\n",
       "      <td>Staffing &amp; Outsourcing</td>\n",
       "      <td>Business Services</td>\n",
       "      <td>300.0</td>\n",
       "      <td>NaN</td>\n",
       "      <td>False</td>\n",
       "      <td>55</td>\n",
       "      <td>112</td>\n",
       "      <td>Dublin</td>\n",
       "      <td>OH</td>\n",
       "      <td>Irving</td>\n",
       "      <td>TX</td>\n",
       "    </tr>\n",
       "    <tr>\n",
       "      <th>3907</th>\n",
       "      <td>Security Analytics Data Engineer</td>\n",
       "      <td>The Security Analytics Data Engineer will inte...</td>\n",
       "      <td>4.0</td>\n",
       "      <td>Data Resource Technologies</td>\n",
       "      <td>25.0</td>\n",
       "      <td>NaN</td>\n",
       "      <td>Company - Private</td>\n",
       "      <td>Accounting</td>\n",
       "      <td>Accounting &amp; Legal</td>\n",
       "      <td>1.0</td>\n",
       "      <td>NaN</td>\n",
       "      <td>False</td>\n",
       "      <td>55</td>\n",
       "      <td>112</td>\n",
       "      <td>Dublin</td>\n",
       "      <td>OH</td>\n",
       "      <td>Omaha</td>\n",
       "      <td>NE</td>\n",
       "    </tr>\n",
       "    <tr>\n",
       "      <th>3908</th>\n",
       "      <td>Patient Safety Physician or Safety Scientist</td>\n",
       "      <td>Help us transform patients' lives.\\nAt UCB, we...</td>\n",
       "      <td>3.7</td>\n",
       "      <td>UCB</td>\n",
       "      <td>7500.0</td>\n",
       "      <td>NaN</td>\n",
       "      <td>Company - Public</td>\n",
       "      <td>Biotech &amp; Pharmaceuticals</td>\n",
       "      <td>Biotech &amp; Pharmaceuticals</td>\n",
       "      <td>3500.0</td>\n",
       "      <td>AbbVie</td>\n",
       "      <td>False</td>\n",
       "      <td>55</td>\n",
       "      <td>112</td>\n",
       "      <td>Slough</td>\n",
       "      <td>OH</td>\n",
       "      <td>Brussel</td>\n",
       "      <td>Belgium</td>\n",
       "    </tr>\n",
       "  </tbody>\n",
       "</table>\n",
       "<p>3909 rows × 18 columns</p>\n",
       "</div>"
      ],
      "text/plain": [
       "                                          Job Title  \\\n",
       "0                             Senior Data Scientist   \n",
       "1                                    Data Scientist   \n",
       "2                              Data Science Manager   \n",
       "3                                      Data Analyst   \n",
       "4                                          Director   \n",
       "...                                             ...   \n",
       "3904                              AWS Data Engineer   \n",
       "3905                          Data Analyst â Junior   \n",
       "3906               Security Analytics Data Engineer   \n",
       "3907               Security Analytics Data Engineer   \n",
       "3908  Patient Safety Physician or Safety Scientist    \n",
       "\n",
       "                                        Job Description  Rating  \\\n",
       "0     ABOUT HOPPER\\n\\nAt Hopper, we’re on a mission ...     3.5   \n",
       "1     At Noom, we use scientifically proven methods ...     4.5   \n",
       "2     Decode_M\\n\\nhttps://www.decode-m.com/\\n\\nData ...     3.8   \n",
       "3     Sapphire Digital seeks a dynamic and driven mi...     3.4   \n",
       "4     Director, Data Science - (200537)\\nDescription...     3.4   \n",
       "...                                                 ...     ...   \n",
       "3904  About Us\\n\\nTachyon Technologies is a Digital ...     4.4   \n",
       "3905  Job description\\nInterpret data, analyze resul...     5.0   \n",
       "3906  Job DescriptionThe Security Analytics Data Eng...     3.8   \n",
       "3907  The Security Analytics Data Engineer will inte...     4.0   \n",
       "3908  Help us transform patients' lives.\\nAt UCB, we...     3.7   \n",
       "\n",
       "                          Company Name    Size  Founded  Type of ownership  \\\n",
       "0                               Hopper   750.0   2007.0  Company - Private   \n",
       "1                              Noom US  3000.0   2008.0  Company - Private   \n",
       "2                             Decode_M    25.0      NaN            Unknown   \n",
       "3                     Sapphire Digital   350.0   2019.0  Company - Private   \n",
       "4           United Entertainment Group   125.0   2007.0  Company - Private   \n",
       "...                                ...     ...      ...                ...   \n",
       "3904              Tachyon Technologies   350.0   2011.0  Company - Private   \n",
       "3905  Staffigo Technical Services, LLC   125.0   2008.0  Company - Private   \n",
       "3906                    PDS Tech, Inc.  7500.0   1977.0  Company - Private   \n",
       "3907        Data Resource Technologies    25.0      NaN  Company - Private   \n",
       "3908                               UCB  7500.0      NaN   Company - Public   \n",
       "\n",
       "                       Industry                     Sector  Revenue  \\\n",
       "0               Travel Agencies           Travel & Tourism      NaN   \n",
       "1     Health, Beauty, & Fitness          Consumer Services      NaN   \n",
       "2                           NaN                        NaN      NaN   \n",
       "3                      Internet     Information Technology      NaN   \n",
       "4       Advertising & Marketing          Business Services      NaN   \n",
       "...                         ...                        ...      ...   \n",
       "3904                IT Services     Information Technology     17.5   \n",
       "3905                IT Services     Information Technology     75.0   \n",
       "3906     Staffing & Outsourcing          Business Services    300.0   \n",
       "3907                 Accounting         Accounting & Legal      1.0   \n",
       "3908  Biotech & Pharmaceuticals  Biotech & Pharmaceuticals   3500.0   \n",
       "\n",
       "                   Competitors  Easy Apply  SalaryMin  SalaryMax       City  \\\n",
       "0                          NaN       False        111        181   New York   \n",
       "1                          NaN       False        111        181   New York   \n",
       "2                          NaN        True        111        181   New York   \n",
       "3         Zocdoc, Healthgrades       False        111        181  Lyndhurst   \n",
       "4     BBDO, Grey Group, Droga5       False        111        181   New York   \n",
       "...                        ...         ...        ...        ...        ...   \n",
       "3904                       NaN       False         55        112     Dublin   \n",
       "3905                       NaN       False         55        112   Columbus   \n",
       "3906                       NaN       False         55        112     Dublin   \n",
       "3907                       NaN       False         55        112     Dublin   \n",
       "3908                    AbbVie       False         55        112     Slough   \n",
       "\n",
       "     State Headquarters_City Headquarters_State/Country  \n",
       "0       NY          Montreal                     Canada  \n",
       "1       NY          New York                         NY  \n",
       "2       NY          New York                         NY  \n",
       "3       NJ         Lyndhurst                         NJ  \n",
       "4       NY          New York                         NY  \n",
       "...    ...               ...                        ...  \n",
       "3904    OH            Irving                         TX  \n",
       "3905    OH         Woodridge                         IL  \n",
       "3906    OH            Irving                         TX  \n",
       "3907    OH             Omaha                         NE  \n",
       "3908    OH           Brussel                    Belgium  \n",
       "\n",
       "[3909 rows x 18 columns]"
      ]
     },
     "execution_count": 39,
     "metadata": {},
     "output_type": "execute_result"
    }
   ],
   "source": [
    "ds_df"
   ]
  },
  {
   "cell_type": "markdown",
   "id": "5a1d9904",
   "metadata": {},
   "source": [
    "## Đưa ra các câu hỏi cần trả lời\n",
    "\n",
    "- **Câu hỏi 1:** Liệu điểm Rating có liên hệ với sự đãi ngộ về mức lương của một công ty hay không?\n",
    "\n",
    "- Câu 2\n",
    "\n",
    "- Câu 3"
   ]
  },
  {
   "cell_type": "markdown",
   "id": "db9bcade",
   "metadata": {},
   "source": [
    "### Câu hỏi 1: Liệu điểm Rating có liên hệ với sự đãi ngộ về mức lương của một công ty hay không?\n",
    "\n",
    "Việc xem xét Ratings và mức lương sẽ giúp có được cái nhìn về khía cạnh lương thưởng của các công ty trên thị trường tuyển dụng. (Những công ty có điểm Ratings thấp có mức lương như thế nào, có chênh lệch nhiều so với những công ty được đánh giá cao hơn hay không? Những công ty được đánh giá cao thì mức lương đi kèm của họ có thực sự cao hơn không và cao hơn như thế nào?,...)"
   ]
  },
  {
   "cell_type": "markdown",
   "id": "ed2dc6d4",
   "metadata": {},
   "source": [
    "Đầu tiên, ta thấy điểm `Rating` thường là các số thập phân, do đó ta sẽ thực hiện đánh giá bằng 2 bước:\n",
    "- **Bước 1:** Gom các `Rating` thành 5 nhóm `(0,1], (1,2], (2,3], (3,4], (4,5]`, sau đó tính số lượng, giá trị min, max, median và mean của các cột SalaryMin, SalaryMax.\n",
    "- **Bước 2:** Vẽ biểu đồ cột về tương quan giữa mức lương trung bình (của cột `SalaryMin` và `SalaryMax`) và điểm được đánh giá. Vẽ biểu đồ tròn để thấy được tỉ lệ điểm đánh giá giữa các nhóm."
   ]
  },
  {
   "cell_type": "markdown",
   "id": "ca22232a",
   "metadata": {},
   "source": [
    "**Bước 1:** Gom nhóm và tính các giá trị thống kê."
   ]
  },
  {
   "cell_type": "code",
   "execution_count": 40,
   "id": "88e47f73",
   "metadata": {},
   "outputs": [
    {
     "data": {
      "text/html": [
       "<div>\n",
       "<style scoped>\n",
       "    .dataframe tbody tr th:only-of-type {\n",
       "        vertical-align: middle;\n",
       "    }\n",
       "\n",
       "    .dataframe tbody tr th {\n",
       "        vertical-align: top;\n",
       "    }\n",
       "\n",
       "    .dataframe thead tr th {\n",
       "        text-align: left;\n",
       "    }\n",
       "</style>\n",
       "<table border=\"1\" class=\"dataframe\">\n",
       "  <thead>\n",
       "    <tr>\n",
       "      <th></th>\n",
       "      <th colspan=\"6\" halign=\"left\">Rating</th>\n",
       "      <th colspan=\"5\" halign=\"left\">SalaryMin</th>\n",
       "      <th colspan=\"5\" halign=\"left\">SalaryMax</th>\n",
       "    </tr>\n",
       "    <tr>\n",
       "      <th></th>\n",
       "      <th></th>\n",
       "      <th>count</th>\n",
       "      <th>min</th>\n",
       "      <th>max</th>\n",
       "      <th>mean</th>\n",
       "      <th>median</th>\n",
       "      <th>count</th>\n",
       "      <th>min</th>\n",
       "      <th>max</th>\n",
       "      <th>mean</th>\n",
       "      <th>median</th>\n",
       "      <th>count</th>\n",
       "      <th>min</th>\n",
       "      <th>max</th>\n",
       "      <th>mean</th>\n",
       "      <th>median</th>\n",
       "    </tr>\n",
       "  </thead>\n",
       "  <tbody>\n",
       "    <tr>\n",
       "      <th>0</th>\n",
       "      <td>(0, 1]</td>\n",
       "      <td>10</td>\n",
       "      <td>1.0</td>\n",
       "      <td>1.0</td>\n",
       "      <td>1.00</td>\n",
       "      <td>1.0</td>\n",
       "      <td>10</td>\n",
       "      <td>12</td>\n",
       "      <td>156</td>\n",
       "      <td>87.30</td>\n",
       "      <td>90</td>\n",
       "      <td>10</td>\n",
       "      <td>56</td>\n",
       "      <td>254</td>\n",
       "      <td>138.40</td>\n",
       "      <td>120.0</td>\n",
       "    </tr>\n",
       "    <tr>\n",
       "      <th>1</th>\n",
       "      <td>(1, 2]</td>\n",
       "      <td>18</td>\n",
       "      <td>1.5</td>\n",
       "      <td>2.0</td>\n",
       "      <td>1.74</td>\n",
       "      <td>1.6</td>\n",
       "      <td>18</td>\n",
       "      <td>45</td>\n",
       "      <td>138</td>\n",
       "      <td>78.67</td>\n",
       "      <td>74</td>\n",
       "      <td>18</td>\n",
       "      <td>78</td>\n",
       "      <td>217</td>\n",
       "      <td>127.94</td>\n",
       "      <td>105.5</td>\n",
       "    </tr>\n",
       "    <tr>\n",
       "      <th>2</th>\n",
       "      <td>(2, 3]</td>\n",
       "      <td>317</td>\n",
       "      <td>2.1</td>\n",
       "      <td>3.0</td>\n",
       "      <td>2.74</td>\n",
       "      <td>2.8</td>\n",
       "      <td>317</td>\n",
       "      <td>12</td>\n",
       "      <td>156</td>\n",
       "      <td>77.28</td>\n",
       "      <td>74</td>\n",
       "      <td>317</td>\n",
       "      <td>27</td>\n",
       "      <td>254</td>\n",
       "      <td>126.31</td>\n",
       "      <td>123.0</td>\n",
       "    </tr>\n",
       "    <tr>\n",
       "      <th>3</th>\n",
       "      <td>(3, 4]</td>\n",
       "      <td>2455</td>\n",
       "      <td>3.1</td>\n",
       "      <td>4.0</td>\n",
       "      <td>3.65</td>\n",
       "      <td>3.7</td>\n",
       "      <td>2455</td>\n",
       "      <td>12</td>\n",
       "      <td>200</td>\n",
       "      <td>80.26</td>\n",
       "      <td>75</td>\n",
       "      <td>2455</td>\n",
       "      <td>27</td>\n",
       "      <td>254</td>\n",
       "      <td>132.02</td>\n",
       "      <td>125.0</td>\n",
       "    </tr>\n",
       "    <tr>\n",
       "      <th>4</th>\n",
       "      <td>(4, 5]</td>\n",
       "      <td>1109</td>\n",
       "      <td>4.1</td>\n",
       "      <td>5.0</td>\n",
       "      <td>4.45</td>\n",
       "      <td>4.4</td>\n",
       "      <td>1109</td>\n",
       "      <td>10</td>\n",
       "      <td>200</td>\n",
       "      <td>86.90</td>\n",
       "      <td>84</td>\n",
       "      <td>1109</td>\n",
       "      <td>26</td>\n",
       "      <td>254</td>\n",
       "      <td>140.02</td>\n",
       "      <td>143.0</td>\n",
       "    </tr>\n",
       "  </tbody>\n",
       "</table>\n",
       "</div>"
      ],
      "text/plain": [
       "   Rating                              SalaryMin                         \\\n",
       "          count  min  max  mean median     count min  max   mean median   \n",
       "0  (0, 1]    10  1.0  1.0  1.00    1.0        10  12  156  87.30     90   \n",
       "1  (1, 2]    18  1.5  2.0  1.74    1.6        18  45  138  78.67     74   \n",
       "2  (2, 3]   317  2.1  3.0  2.74    2.8       317  12  156  77.28     74   \n",
       "3  (3, 4]  2455  3.1  4.0  3.65    3.7      2455  12  200  80.26     75   \n",
       "4  (4, 5]  1109  4.1  5.0  4.45    4.4      1109  10  200  86.90     84   \n",
       "\n",
       "  SalaryMax                          \n",
       "      count min  max    mean median  \n",
       "0        10  56  254  138.40  120.0  \n",
       "1        18  78  217  127.94  105.5  \n",
       "2       317  27  254  126.31  123.0  \n",
       "3      2455  27  254  132.02  125.0  \n",
       "4      1109  26  254  140.02  143.0  "
      ]
     },
     "execution_count": 40,
     "metadata": {},
     "output_type": "execute_result"
    }
   ],
   "source": [
    "tdf = ds_df[['Rating','SalaryMin','SalaryMax']].groupby(pd.cut(ds_df.Rating,[0,1,2,3,4,5]))\\\n",
    "                .agg(['count','min','max','mean','median']).round(2).reset_index()\n",
    "tdf"
   ]
  },
  {
   "cell_type": "markdown",
   "id": "86a7accc",
   "metadata": {},
   "source": [
    "**Bước 2:** Vẽ biểu đồ để thể hiện các mối liên hệ"
   ]
  },
  {
   "cell_type": "code",
   "execution_count": 44,
   "id": "9c699468",
   "metadata": {},
   "outputs": [
    {
     "ename": "AttributeError",
     "evalue": "module 'matplotlib.pyplot' has no attribute 'pyplot'",
     "output_type": "error",
     "traceback": [
      "\u001b[1;31m---------------------------------------------------------------------------\u001b[0m",
      "\u001b[1;31mAttributeError\u001b[0m                            Traceback (most recent call last)",
      "\u001b[1;32m~\\AppData\\Local\\Temp/ipykernel_9044/3470952962.py\u001b[0m in \u001b[0;36m<module>\u001b[1;34m\u001b[0m\n\u001b[0;32m     15\u001b[0m \u001b[0maxs\u001b[0m\u001b[1;33m[\u001b[0m\u001b[1;36m1\u001b[0m\u001b[1;33m]\u001b[0m\u001b[1;33m.\u001b[0m\u001b[0mset_title\u001b[0m\u001b[1;33m(\u001b[0m\u001b[1;34m'Perentage of number of companies by ratings'\u001b[0m\u001b[1;33m)\u001b[0m\u001b[1;33m\u001b[0m\u001b[1;33m\u001b[0m\u001b[0m\n\u001b[0;32m     16\u001b[0m \u001b[0maxs\u001b[0m\u001b[1;33m[\u001b[0m\u001b[1;36m1\u001b[0m\u001b[1;33m]\u001b[0m\u001b[1;33m.\u001b[0m\u001b[0mset_ylabel\u001b[0m\u001b[1;33m(\u001b[0m\u001b[1;34m''\u001b[0m\u001b[1;33m)\u001b[0m\u001b[1;33m\u001b[0m\u001b[1;33m\u001b[0m\u001b[0m\n\u001b[1;32m---> 17\u001b[1;33m \u001b[0mplt\u001b[0m\u001b[1;33m.\u001b[0m\u001b[0mpyplot\u001b[0m\u001b[1;33m.\u001b[0m\u001b[0mlegend\u001b[0m\u001b[1;33m(\u001b[0m\u001b[0mtitle\u001b[0m \u001b[1;33m=\u001b[0m \u001b[1;34m'Rating'\u001b[0m\u001b[1;33m,\u001b[0m\u001b[0mlabels\u001b[0m \u001b[1;33m=\u001b[0m \u001b[0mlabels\u001b[0m\u001b[1;33m)\u001b[0m\u001b[1;33m\u001b[0m\u001b[1;33m\u001b[0m\u001b[0m\n\u001b[0m\u001b[0;32m     18\u001b[0m \u001b[1;33m\u001b[0m\u001b[0m\n\u001b[0;32m     19\u001b[0m \u001b[0mfig\u001b[0m\u001b[1;33m.\u001b[0m\u001b[0msuptitle\u001b[0m\u001b[1;33m(\u001b[0m\u001b[1;34m'Salary and percentage of number of companies by ratings'\u001b[0m\u001b[1;33m)\u001b[0m\u001b[1;33m\u001b[0m\u001b[1;33m\u001b[0m\u001b[0m\n",
      "\u001b[1;31mAttributeError\u001b[0m: module 'matplotlib.pyplot' has no attribute 'pyplot'"
     ]
    },
    {
     "data": {
      "image/png": "[encoded data removed]",
      "text/plain": [
       "<Figure size 1080x504 with 2 Axes>"
      ]
     },
     "metadata": {
      "needs_background": "light"
     },
     "output_type": "display_data"
    }
   ],
   "source": [
    "fig, axs = plt.subplots(1, 2)\n",
    "# Vẽ biểu đồ cột\n",
    "labels = ['(0, 1]','(1, 2]','(2, 3]','(3, 4]','(4,5]']\n",
    "sdf = pd.DataFrame()\n",
    "sdf['MinSalary'] = tdf['SalaryMin']['mean']\n",
    "sdf['MaxSalary'] = tdf['SalaryMax']['mean']\n",
    "sdf.index = labels\n",
    "sdf.plot(ax = axs[0], kind = 'bar', figsize=(15, 7))\n",
    "axs[0].set_title('Average salary range by ratings')\n",
    "axs[0].set_xlabel('Ratings')\n",
    "axs[0].set_ylabel('Salary (in thousand)')\n",
    "# Vẽ biểu đồ tròn\n",
    "rdf = tdf['Rating']['count']\n",
    "rdf.plot(ax = axs[1], kind = 'pie',autopct = '%.2f',figsize=(15, 7),labels = None)\n",
    "axs[1].set_title('Perentage of number of companies by ratings')\n",
    "axs[1].set_ylabel('')\n",
    "plt.legend(title = 'Rating',labels = labels)\n",
    "\n",
    "fig.suptitle('Salary and percentage of number of companies by ratings')\n",
    "pltyplot.show()"
   ]
  },
  {
   "cell_type": "markdown",
   "id": "3b5d3120",
   "metadata": {},
   "source": [
    "Như vậy, sau khi vẽ biểu đồ xong, ta có những đánh giá sau:\n",
    "- Phần lớn các công ty có điểm `Rating` nằm ở mức từ 3 đến 4 điểm, chiếm 62.8%. Tiếp theo là các công ty có điểm `Rating` từ 4 đến 5, chiếm 28.37%. Các công ty có điểm nằm ở các nhóm thấp hơn (dưới 3 điểm) chỉ chiếm tỉ lệ rất nhỏ, chưa tới 10%.\n",
    "- Những công ty có mức `Rating` cao hơn (trong nhóm từ 2 điểm trở lên) thường có mức đãi ngộ cao hơn về lương (cả mức thấp nhất lẫn mức cao nhất). Những công ty có điểm `Rating` thấp không có nghĩa là mức lương sẽ thấp. Tuy nhiên, chúng ta cũng nên lưu ý rằng lượng công ty có điểm `Rating` thấp chỉ chiếm 1 phần rất nhỏ, gần như không đáng kể so với phần còn lại.\n",
    "- Mức chênh lệch giữa các cột `SalaryMax` với nhau và các cột `SalaryMin` với nhau là có và khá đáng kể (VD: ở cột SalaryMax thì mức chênh lệch giữa nhóm `(3,4]` và nhóm `(4,5]` là ~8000USD/year).\n",
    "\n",
    "Ta kết luận được rằng, với các công ty trong tập dữ liệu đang xét, mức lương và `Rating` có mối liên hệ với nhau. Những công ty có điểm `Rating` càng cao thì mức lương sẽ càng cao."
   ]
  },
  {
   "cell_type": "markdown",
   "id": "8a918609",
   "metadata": {},
   "source": [
    "### Câu hỏi 2:"
   ]
  },
  {
   "cell_type": "code",
   "execution_count": null,
   "id": "bb07aa7c",
   "metadata": {},
   "outputs": [],
   "source": []
  },
  {
   "cell_type": "markdown",
   "id": "af98443c",
   "metadata": {},
   "source": [
    "### Câu hỏi 3:"
   ]
  },
  {
   "cell_type": "code",
   "execution_count": null,
   "id": "62038b43",
   "metadata": {},
   "outputs": [],
   "source": []
  },
  {
   "cell_type": "markdown",
   "id": "7a2b7b36",
   "metadata": {},
   "source": [
    "## Tổng kết"
   ]
  },
  {
   "cell_type": "code",
   "execution_count": null,
   "id": "0d862a46",
   "metadata": {},
   "outputs": [],
   "source": []
  },
  {
   "cell_type": "markdown",
   "id": "4fa81af9",
   "metadata": {},
   "source": [
    "## Tài liệu tham khảo"
   ]
  },
  {
   "cell_type": "code",
   "execution_count": null,
   "id": "c08c19a6",
   "metadata": {},
   "outputs": [],
   "source": []
  }
 ],
 "metadata": {
  "kernelspec": {
   "display_name": "Python 3 (ipykernel)",
   "language": "python",
   "name": "python3"
  },
  "language_info": {
   "codemirror_mode": {
    "name": "ipython",
    "version": 3
   },
   "file_extension": ".py",
   "mimetype": "text/x-python",
   "name": "python",
   "nbconvert_exporter": "python",
   "pygments_lexer": "ipython3",
   "version": "3.8.8"
  }
 },
 "nbformat": 4,
 "nbformat_minor": 5
}

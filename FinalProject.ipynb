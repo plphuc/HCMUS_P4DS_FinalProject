{
 "cells": [
  {
   "cell_type": "markdown",
   "id": "5a042a36",
   "metadata": {},
   "source": [
    "# Đồ án cuối kì Lập trình cho khoa học dữ liệu\n"
   ]
  },
  {
   "cell_type": "markdown",
   "id": "b2409499",
   "metadata": {},
   "source": [
    "## Thành viên nhóm"
   ]
  },
  {
   "cell_type": "markdown",
   "id": "c5ac6e19",
   "metadata": {},
   "source": [
    "\n",
    "| |Họ và tên|MSSV|\n",
    "|:--:|:--|:--:|\n",
    "|1|Võ Thành Nam|19120301|\n",
    "|2|Phạm Lưu Mỹ Phúc|19120331|"
   ]
  },
  {
   "cell_type": "markdown",
   "id": "f0104328",
   "metadata": {},
   "source": [
    "## Môi trường code"
   ]
  },
  {
   "cell_type": "code",
   "execution_count": 1,
   "id": "04412bd4",
   "metadata": {},
   "outputs": [
    {
     "data": {
      "text/plain": [
       "'C:\\\\Users\\\\Nam\\\\anaconda3\\\\envs\\\\min_ds-env\\\\python.exe'"
      ]
     },
     "execution_count": 1,
     "metadata": {},
     "output_type": "execute_result"
    }
   ],
   "source": [
    "import sys\n",
    "sys.executable"
   ]
  },
  {
   "cell_type": "markdown",
   "id": "cbedd2a7",
   "metadata": {},
   "source": [
    "## Tổng quan về dữ liệu sẽ được dùng để phân tích\n",
    "\n",
    "Bộ dữ liệu được sử dụng là file `DataScientist.csv`. Đây là dữ liệu nằm trong một bộ dữ liệu gồm nhiều file khác về thông tin tuyển dụng của những ngành nghề liên quan đến Data. \n",
    "- Bộ dữ liệu được tác giả *picklesueat* lấy từ trang web https://www.glassdoor.com/ (một trang web tìm kiếm việc làm), sử dụng công cụ `selenium`. \n",
    "- Bộ dữ liệu đã được tác giả public tại [Github](https://github.com/picklesueat/data_jobs_data) và được reup tại [Kaggle](https://www.kaggle.com/andrewmvd/data-scientist-jobs).\n",
    "- Về license của dữ liệu, tác giả không đề cập cụ thể mà cho phép mọi người có thể tải xuống tùy ý.\n",
    "- File dữ liệu `DataScientist.csv` là file dữ liệu về thông tin tuyển dụng của nghề Data Scientist bao gồm tên vị trí tuyển dụng, mức lương, tên công ty,..."
   ]
  },
  {
   "cell_type": "markdown",
   "id": "e1cf1f2b",
   "metadata": {},
   "source": [
    "## Import các thư viện cần thiết"
   ]
  },
  {
   "cell_type": "code",
   "execution_count": 37,
   "id": "387a3692",
   "metadata": {},
   "outputs": [],
   "source": [
    "import pandas as pd\n",
    "import numpy as np\n",
    "import re\n",
    "import matplotlib as plt\n",
    "import math"
   ]
  },
  {
   "cell_type": "markdown",
   "id": "1585c084",
   "metadata": {},
   "source": [
    "## Khám phá dữ liệu"
   ]
  },
  {
   "cell_type": "markdown",
   "id": "e0d809c3",
   "metadata": {},
   "source": [
    "### Đọc dữ liệu vào từ file csv vào dataframe"
   ]
  },
  {
   "cell_type": "code",
   "execution_count": 3,
   "id": "0180dbbe",
   "metadata": {},
   "outputs": [
    {
     "data": {
      "text/html": [
       "<div>\n",
       "<style scoped>\n",
       "    .dataframe tbody tr th:only-of-type {\n",
       "        vertical-align: middle;\n",
       "    }\n",
       "\n",
       "    .dataframe tbody tr th {\n",
       "        vertical-align: top;\n",
       "    }\n",
       "\n",
       "    .dataframe thead th {\n",
       "        text-align: right;\n",
       "    }\n",
       "</style>\n",
       "<table border=\"1\" class=\"dataframe\">\n",
       "  <thead>\n",
       "    <tr style=\"text-align: right;\">\n",
       "      <th></th>\n",
       "      <th>Unnamed: 0</th>\n",
       "      <th>index</th>\n",
       "      <th>Job Title</th>\n",
       "      <th>Salary Estimate</th>\n",
       "      <th>Job Description</th>\n",
       "      <th>Rating</th>\n",
       "      <th>Company Name</th>\n",
       "      <th>Location</th>\n",
       "      <th>Headquarters</th>\n",
       "      <th>Size</th>\n",
       "      <th>Founded</th>\n",
       "      <th>Type of ownership</th>\n",
       "      <th>Industry</th>\n",
       "      <th>Sector</th>\n",
       "      <th>Revenue</th>\n",
       "      <th>Competitors</th>\n",
       "      <th>Easy Apply</th>\n",
       "    </tr>\n",
       "  </thead>\n",
       "  <tbody>\n",
       "    <tr>\n",
       "      <th>0</th>\n",
       "      <td>0</td>\n",
       "      <td>0</td>\n",
       "      <td>Senior Data Scientist</td>\n",
       "      <td>$111K-$181K (Glassdoor est.)</td>\n",
       "      <td>ABOUT HOPPER\\n\\nAt Hopper, we’re on a mission ...</td>\n",
       "      <td>3.5</td>\n",
       "      <td>Hopper\\n3.5</td>\n",
       "      <td>New York, NY</td>\n",
       "      <td>Montreal, Canada</td>\n",
       "      <td>501 to 1000 employees</td>\n",
       "      <td>2007</td>\n",
       "      <td>Company - Private</td>\n",
       "      <td>Travel Agencies</td>\n",
       "      <td>Travel &amp; Tourism</td>\n",
       "      <td>Unknown / Non-Applicable</td>\n",
       "      <td>-1</td>\n",
       "      <td>-1</td>\n",
       "    </tr>\n",
       "    <tr>\n",
       "      <th>1</th>\n",
       "      <td>1</td>\n",
       "      <td>1</td>\n",
       "      <td>Data Scientist, Product Analytics</td>\n",
       "      <td>$111K-$181K (Glassdoor est.)</td>\n",
       "      <td>At Noom, we use scientifically proven methods ...</td>\n",
       "      <td>4.5</td>\n",
       "      <td>Noom US\\n4.5</td>\n",
       "      <td>New York, NY</td>\n",
       "      <td>New York, NY</td>\n",
       "      <td>1001 to 5000 employees</td>\n",
       "      <td>2008</td>\n",
       "      <td>Company - Private</td>\n",
       "      <td>Health, Beauty, &amp; Fitness</td>\n",
       "      <td>Consumer Services</td>\n",
       "      <td>Unknown / Non-Applicable</td>\n",
       "      <td>-1</td>\n",
       "      <td>-1</td>\n",
       "    </tr>\n",
       "    <tr>\n",
       "      <th>2</th>\n",
       "      <td>2</td>\n",
       "      <td>2</td>\n",
       "      <td>Data Science Manager</td>\n",
       "      <td>$111K-$181K (Glassdoor est.)</td>\n",
       "      <td>Decode_M\\n\\nhttps://www.decode-m.com/\\n\\nData ...</td>\n",
       "      <td>-1.0</td>\n",
       "      <td>Decode_M</td>\n",
       "      <td>New York, NY</td>\n",
       "      <td>New York, NY</td>\n",
       "      <td>1 to 50 employees</td>\n",
       "      <td>-1</td>\n",
       "      <td>Unknown</td>\n",
       "      <td>-1</td>\n",
       "      <td>-1</td>\n",
       "      <td>Unknown / Non-Applicable</td>\n",
       "      <td>-1</td>\n",
       "      <td>True</td>\n",
       "    </tr>\n",
       "    <tr>\n",
       "      <th>3</th>\n",
       "      <td>3</td>\n",
       "      <td>3</td>\n",
       "      <td>Data Analyst</td>\n",
       "      <td>$111K-$181K (Glassdoor est.)</td>\n",
       "      <td>Sapphire Digital seeks a dynamic and driven mi...</td>\n",
       "      <td>3.4</td>\n",
       "      <td>Sapphire Digital\\n3.4</td>\n",
       "      <td>Lyndhurst, NJ</td>\n",
       "      <td>Lyndhurst, NJ</td>\n",
       "      <td>201 to 500 employees</td>\n",
       "      <td>2019</td>\n",
       "      <td>Company - Private</td>\n",
       "      <td>Internet</td>\n",
       "      <td>Information Technology</td>\n",
       "      <td>Unknown / Non-Applicable</td>\n",
       "      <td>Zocdoc, Healthgrades</td>\n",
       "      <td>-1</td>\n",
       "    </tr>\n",
       "    <tr>\n",
       "      <th>4</th>\n",
       "      <td>4</td>\n",
       "      <td>4</td>\n",
       "      <td>Director, Data Science</td>\n",
       "      <td>$111K-$181K (Glassdoor est.)</td>\n",
       "      <td>Director, Data Science - (200537)\\nDescription...</td>\n",
       "      <td>3.4</td>\n",
       "      <td>United Entertainment Group\\n3.4</td>\n",
       "      <td>New York, NY</td>\n",
       "      <td>New York, NY</td>\n",
       "      <td>51 to 200 employees</td>\n",
       "      <td>2007</td>\n",
       "      <td>Company - Private</td>\n",
       "      <td>Advertising &amp; Marketing</td>\n",
       "      <td>Business Services</td>\n",
       "      <td>Unknown / Non-Applicable</td>\n",
       "      <td>BBDO, Grey Group, Droga5</td>\n",
       "      <td>-1</td>\n",
       "    </tr>\n",
       "  </tbody>\n",
       "</table>\n",
       "</div>"
      ],
      "text/plain": [
       "   Unnamed: 0  index                          Job Title  \\\n",
       "0           0      0              Senior Data Scientist   \n",
       "1           1      1  Data Scientist, Product Analytics   \n",
       "2           2      2               Data Science Manager   \n",
       "3           3      3                       Data Analyst   \n",
       "4           4      4             Director, Data Science   \n",
       "\n",
       "                Salary Estimate  \\\n",
       "0  $111K-$181K (Glassdoor est.)   \n",
       "1  $111K-$181K (Glassdoor est.)   \n",
       "2  $111K-$181K (Glassdoor est.)   \n",
       "3  $111K-$181K (Glassdoor est.)   \n",
       "4  $111K-$181K (Glassdoor est.)   \n",
       "\n",
       "                                     Job Description  Rating  \\\n",
       "0  ABOUT HOPPER\\n\\nAt Hopper, we’re on a mission ...     3.5   \n",
       "1  At Noom, we use scientifically proven methods ...     4.5   \n",
       "2  Decode_M\\n\\nhttps://www.decode-m.com/\\n\\nData ...    -1.0   \n",
       "3  Sapphire Digital seeks a dynamic and driven mi...     3.4   \n",
       "4  Director, Data Science - (200537)\\nDescription...     3.4   \n",
       "\n",
       "                      Company Name       Location      Headquarters  \\\n",
       "0                      Hopper\\n3.5   New York, NY  Montreal, Canada   \n",
       "1                     Noom US\\n4.5   New York, NY      New York, NY   \n",
       "2                         Decode_M   New York, NY      New York, NY   \n",
       "3            Sapphire Digital\\n3.4  Lyndhurst, NJ     Lyndhurst, NJ   \n",
       "4  United Entertainment Group\\n3.4   New York, NY      New York, NY   \n",
       "\n",
       "                     Size  Founded  Type of ownership  \\\n",
       "0   501 to 1000 employees     2007  Company - Private   \n",
       "1  1001 to 5000 employees     2008  Company - Private   \n",
       "2       1 to 50 employees       -1            Unknown   \n",
       "3    201 to 500 employees     2019  Company - Private   \n",
       "4     51 to 200 employees     2007  Company - Private   \n",
       "\n",
       "                    Industry                  Sector  \\\n",
       "0            Travel Agencies        Travel & Tourism   \n",
       "1  Health, Beauty, & Fitness       Consumer Services   \n",
       "2                         -1                      -1   \n",
       "3                   Internet  Information Technology   \n",
       "4    Advertising & Marketing       Business Services   \n",
       "\n",
       "                    Revenue               Competitors Easy Apply  \n",
       "0  Unknown / Non-Applicable                        -1         -1  \n",
       "1  Unknown / Non-Applicable                        -1         -1  \n",
       "2  Unknown / Non-Applicable                        -1       True  \n",
       "3  Unknown / Non-Applicable      Zocdoc, Healthgrades         -1  \n",
       "4  Unknown / Non-Applicable  BBDO, Grey Group, Droga5         -1  "
      ]
     },
     "execution_count": 3,
     "metadata": {},
     "output_type": "execute_result"
    }
   ],
   "source": [
    "ds_df = pd.read_csv('DataScientist.csv')\n",
    "ds_df.head()"
   ]
  },
  {
   "cell_type": "markdown",
   "id": "b2f74463",
   "metadata": {},
   "source": [
    "Đầu tiên, ta thấy dữ liệu có đến 2 cột index, ta sẽ không sử dụng 2 cột này, do đó sẽ loại bỏ 2 cột này đi."
   ]
  },
  {
   "cell_type": "code",
   "execution_count": 4,
   "id": "fc22b220",
   "metadata": {},
   "outputs": [],
   "source": [
    "ds_df.drop(columns = ['Unnamed: 0','index'],inplace = True)"
   ]
  },
  {
   "cell_type": "markdown",
   "id": "2d47b4af",
   "metadata": {},
   "source": [
    "### Số lượng dòng và cột của dữ liệu"
   ]
  },
  {
   "cell_type": "code",
   "execution_count": 5,
   "id": "53fa7d1d",
   "metadata": {},
   "outputs": [
    {
     "name": "stdout",
     "output_type": "stream",
     "text": [
      "Number of rows: 3909\n",
      "Number of columns: 15\n"
     ]
    }
   ],
   "source": [
    "n_rows = ds_df.shape[0]\n",
    "n_cols = ds_df.shape[1]\n",
    "print(f'Number of rows: {n_rows}')\n",
    "print(f'Number of columns: {n_cols}')"
   ]
  },
  {
   "cell_type": "markdown",
   "id": "4b2a20b4",
   "metadata": {},
   "source": [
    "### Xét xem các dữ liệu có trùng nhau hay không"
   ]
  },
  {
   "cell_type": "code",
   "execution_count": 6,
   "id": "15808744",
   "metadata": {},
   "outputs": [
    {
     "name": "stdout",
     "output_type": "stream",
     "text": [
      "Number of duplicated rows: 0\n"
     ]
    }
   ],
   "source": [
    "print(f'Number of duplicated rows: {sum(ds_df.duplicated())}')"
   ]
  },
  {
   "cell_type": "markdown",
   "id": "70191e56",
   "metadata": {},
   "source": [
    "### Ý nghĩa của các cột trong dataframe\n",
    "(Dựa theo mô tả tại trang web [Kaggle](https://www.kaggle.com/andrewmvd/data-scientist-jobs))\n",
    "\n",
    "- **Job Title**: tên vị trí tuyển dụng.\n",
    "- **Salary Estimate**: mức lương dự kiến.\n",
    "- **Job Description**: mô tả công việc.\n",
    "- **Rating**: điểm đánh giá.\n",
    "- **Company Name**: tên công ty.\n",
    "- **Location**: địa điểm làm việc.\n",
    "- **Headquarters**: trụ sở công ty.\n",
    "- **Size**: kích thước công ty (số lượng nhân viên).\n",
    "- **Founded**: năm thành lập công ty.\n",
    "- **Type of ownership**: loại hình sở hữu của công ty.\n",
    "- **Industry**: phân loại ngành của công ty.\n",
    "- **Sector**: lĩnh vực của công ty.\n",
    "- **Revenue**: doanh thu của công ty (theo năm).\n",
    "- **Competitors**: công ty đối thủ.\n",
    "- **Easy Apply**: công ty có dễ apply hay không."
   ]
  },
  {
   "cell_type": "markdown",
   "id": "c02c0086",
   "metadata": {},
   "source": [
    "### Sơ lược về dữ liệu trong các cột"
   ]
  },
  {
   "cell_type": "code",
   "execution_count": 7,
   "id": "48123959",
   "metadata": {},
   "outputs": [
    {
     "name": "stdout",
     "output_type": "stream",
     "text": [
      "<class 'pandas.core.frame.DataFrame'>\n",
      "RangeIndex: 3909 entries, 0 to 3908\n",
      "Data columns (total 15 columns):\n",
      " #   Column             Non-Null Count  Dtype  \n",
      "---  ------             --------------  -----  \n",
      " 0   Job Title          3909 non-null   object \n",
      " 1   Salary Estimate    3909 non-null   object \n",
      " 2   Job Description    3909 non-null   object \n",
      " 3   Rating             3909 non-null   float64\n",
      " 4   Company Name       3909 non-null   object \n",
      " 5   Location           3909 non-null   object \n",
      " 6   Headquarters       3909 non-null   object \n",
      " 7   Size               3909 non-null   object \n",
      " 8   Founded            3909 non-null   int64  \n",
      " 9   Type of ownership  3909 non-null   object \n",
      " 10  Industry           3909 non-null   object \n",
      " 11  Sector             3909 non-null   object \n",
      " 12  Revenue            3909 non-null   object \n",
      " 13  Competitors        3909 non-null   object \n",
      " 14  Easy Apply         3909 non-null   object \n",
      "dtypes: float64(1), int64(1), object(13)\n",
      "memory usage: 458.2+ KB\n"
     ]
    }
   ],
   "source": [
    "ds_df.info()"
   ]
  },
  {
   "cell_type": "markdown",
   "id": "a2554c54",
   "metadata": {},
   "source": [
    "### Nhận xét chung\n",
    "\n",
    "- Như ta có thể thấy, dữ liệu không có bất kì dòng nào thiếu hay trùng lắp. Tuy nhiên, khi quan sát bảng dữ liệu ở phía trên, có thế thấy tác giả đã thay thế các dữ liệu (có thể là bị thiếu) bằng giá trị -1.\n",
    "- Những cột đáng lẽ cần phải ở kiểu dữ liệu là số như `Salary Estimate`, `Size` thì lại có kiểu dữ liệu là object, ta cần phải xử lí những cột này.\n",
    "- Cột `Company Name` có vẻ bị lỗi khi thu thập dữ liệu (tên công ty gắn liền với rating).\n",
    "- Cột `Easy Apply` chỉ nên có giá trị `True` hoặc `False`.\n",
    "- ...\n",
    "\n",
    "Ta không quan sát được toàn bộ dữ liệu, do đó, ta sẽ phân tích và tiền xử lí cho từng cột trong phần tiền xử lí dữ liệu."
   ]
  },
  {
   "cell_type": "markdown",
   "id": "af4f1ee4",
   "metadata": {},
   "source": [
    "## Tiền xử lí dữ liệu"
   ]
  },
  {
   "cell_type": "markdown",
   "id": "dbd6476d",
   "metadata": {},
   "source": [
    "### Các giá trị của Job title liệu đã đúng hay chưa?\n",
    "\n",
    "Quan sát các dòng đầu tiên, ta thấy `Job Title` không chỉ bao gồm một vị trí mà có thế có nhiều vị trí, ta sẽ xem xét các giá trị trong cột này."
   ]
  },
  {
   "cell_type": "code",
   "execution_count": 8,
   "id": "0944648f",
   "metadata": {},
   "outputs": [
    {
     "data": {
      "text/plain": [
       "2079"
      ]
     },
     "execution_count": 8,
     "metadata": {},
     "output_type": "execute_result"
    }
   ],
   "source": [
    "ds_df['Job Title'].nunique()"
   ]
  },
  {
   "cell_type": "markdown",
   "id": "dbc926f7",
   "metadata": {},
   "source": [
    "Số lượng các `Job Title` khác nhau là rất lớn, do đó ta sẽ xem qua 20 giá trị xuất hiện nhiều nhất và 20 giá trị xuất hiện ít nhất."
   ]
  },
  {
   "cell_type": "code",
   "execution_count": 9,
   "id": "6d4ef623",
   "metadata": {},
   "outputs": [
    {
     "data": {
      "text/html": [
       "<div>\n",
       "<style scoped>\n",
       "    .dataframe tbody tr th:only-of-type {\n",
       "        vertical-align: middle;\n",
       "    }\n",
       "\n",
       "    .dataframe tbody tr th {\n",
       "        vertical-align: top;\n",
       "    }\n",
       "\n",
       "    .dataframe thead th {\n",
       "        text-align: right;\n",
       "    }\n",
       "</style>\n",
       "<table border=\"1\" class=\"dataframe\">\n",
       "  <thead>\n",
       "    <tr style=\"text-align: right;\">\n",
       "      <th></th>\n",
       "      <th>Job Title</th>\n",
       "      <th>count</th>\n",
       "      <th>Job Title</th>\n",
       "      <th>count</th>\n",
       "    </tr>\n",
       "  </thead>\n",
       "  <tbody>\n",
       "    <tr>\n",
       "      <th>0</th>\n",
       "      <td>Data Scientist</td>\n",
       "      <td>274</td>\n",
       "      <td>Machine Learning-Computer Vision Research Scie...</td>\n",
       "      <td>1</td>\n",
       "    </tr>\n",
       "    <tr>\n",
       "      <th>1</th>\n",
       "      <td>Data Engineer</td>\n",
       "      <td>260</td>\n",
       "      <td>Radar Exploitation Scientist (Must Have Top Se...</td>\n",
       "      <td>1</td>\n",
       "    </tr>\n",
       "    <tr>\n",
       "      <th>2</th>\n",
       "      <td>Data Analyst</td>\n",
       "      <td>246</td>\n",
       "      <td>+ Data Engineer</td>\n",
       "      <td>1</td>\n",
       "    </tr>\n",
       "    <tr>\n",
       "      <th>3</th>\n",
       "      <td>Senior Data Scientist</td>\n",
       "      <td>91</td>\n",
       "      <td>Data Scientist - Power BI</td>\n",
       "      <td>1</td>\n",
       "    </tr>\n",
       "    <tr>\n",
       "      <th>4</th>\n",
       "      <td>Senior Data Analyst</td>\n",
       "      <td>47</td>\n",
       "      <td>Clinical Scientist, Neuroscience (Director level)</td>\n",
       "      <td>1</td>\n",
       "    </tr>\n",
       "    <tr>\n",
       "      <th>5</th>\n",
       "      <td>Machine Learning Engineer</td>\n",
       "      <td>47</td>\n",
       "      <td>Experienced Food Scientist / Product Developme...</td>\n",
       "      <td>1</td>\n",
       "    </tr>\n",
       "    <tr>\n",
       "      <th>6</th>\n",
       "      <td>Big Data Engineer</td>\n",
       "      <td>41</td>\n",
       "      <td>BI Data Analyst and Specialist</td>\n",
       "      <td>1</td>\n",
       "    </tr>\n",
       "    <tr>\n",
       "      <th>7</th>\n",
       "      <td>Business Intelligence Analyst</td>\n",
       "      <td>39</td>\n",
       "      <td>Gilbert Data Science Tutor Jobs</td>\n",
       "      <td>1</td>\n",
       "    </tr>\n",
       "    <tr>\n",
       "      <th>8</th>\n",
       "      <td>Senior Data Engineer</td>\n",
       "      <td>37</td>\n",
       "      <td>Program Data Analyst</td>\n",
       "      <td>1</td>\n",
       "    </tr>\n",
       "    <tr>\n",
       "      <th>9</th>\n",
       "      <td>Lead Data Scientist</td>\n",
       "      <td>23</td>\n",
       "      <td>Data Modeler, JLL Technologies</td>\n",
       "      <td>1</td>\n",
       "    </tr>\n",
       "    <tr>\n",
       "      <th>10</th>\n",
       "      <td>Sr. Data Scientist</td>\n",
       "      <td>23</td>\n",
       "      <td>Data Production Analyst</td>\n",
       "      <td>1</td>\n",
       "    </tr>\n",
       "    <tr>\n",
       "      <th>11</th>\n",
       "      <td>Research Scientist</td>\n",
       "      <td>22</td>\n",
       "      <td>Analytic Consultant 4</td>\n",
       "      <td>1</td>\n",
       "    </tr>\n",
       "    <tr>\n",
       "      <th>12</th>\n",
       "      <td>Data Modeler</td>\n",
       "      <td>17</td>\n",
       "      <td>SAP Data Analyst</td>\n",
       "      <td>1</td>\n",
       "    </tr>\n",
       "    <tr>\n",
       "      <th>13</th>\n",
       "      <td>Junior Data Analyst</td>\n",
       "      <td>15</td>\n",
       "      <td>Data Analyst - Report Writer</td>\n",
       "      <td>1</td>\n",
       "    </tr>\n",
       "    <tr>\n",
       "      <th>14</th>\n",
       "      <td>Principal Data Scientist</td>\n",
       "      <td>15</td>\n",
       "      <td>Senior Data Engineer (Austin, St. Louis or Tor...</td>\n",
       "      <td>1</td>\n",
       "    </tr>\n",
       "    <tr>\n",
       "      <th>15</th>\n",
       "      <td>Statistician (Data Scientist) *12 month Roster...</td>\n",
       "      <td>14</td>\n",
       "      <td>Business Intelligence Analyst - Entry</td>\n",
       "      <td>1</td>\n",
       "    </tr>\n",
       "    <tr>\n",
       "      <th>16</th>\n",
       "      <td>Federal - Data Scientist</td>\n",
       "      <td>13</td>\n",
       "      <td>Scientist, Oncology Translational Sciences</td>\n",
       "      <td>1</td>\n",
       "    </tr>\n",
       "    <tr>\n",
       "      <th>17</th>\n",
       "      <td>Sr. Data Engineer</td>\n",
       "      <td>13</td>\n",
       "      <td>Sr. Data Modeler (Open API)</td>\n",
       "      <td>1</td>\n",
       "    </tr>\n",
       "    <tr>\n",
       "      <th>18</th>\n",
       "      <td>Scientist</td>\n",
       "      <td>13</td>\n",
       "      <td>Senior Scientist/Engineer, Process Development</td>\n",
       "      <td>1</td>\n",
       "    </tr>\n",
       "    <tr>\n",
       "      <th>19</th>\n",
       "      <td>Sr. Data Analyst</td>\n",
       "      <td>11</td>\n",
       "      <td>Lead Process Development Scientist - Upstream</td>\n",
       "      <td>1</td>\n",
       "    </tr>\n",
       "  </tbody>\n",
       "</table>\n",
       "</div>"
      ],
      "text/plain": [
       "                                            Job Title  count  \\\n",
       "0                                      Data Scientist    274   \n",
       "1                                       Data Engineer    260   \n",
       "2                                        Data Analyst    246   \n",
       "3                               Senior Data Scientist     91   \n",
       "4                                 Senior Data Analyst     47   \n",
       "5                           Machine Learning Engineer     47   \n",
       "6                                   Big Data Engineer     41   \n",
       "7                       Business Intelligence Analyst     39   \n",
       "8                                Senior Data Engineer     37   \n",
       "9                                 Lead Data Scientist     23   \n",
       "10                                 Sr. Data Scientist     23   \n",
       "11                                 Research Scientist     22   \n",
       "12                                       Data Modeler     17   \n",
       "13                                Junior Data Analyst     15   \n",
       "14                           Principal Data Scientist     15   \n",
       "15  Statistician (Data Scientist) *12 month Roster...     14   \n",
       "16                           Federal - Data Scientist     13   \n",
       "17                                  Sr. Data Engineer     13   \n",
       "18                                          Scientist     13   \n",
       "19                                   Sr. Data Analyst     11   \n",
       "\n",
       "                                            Job Title  count  \n",
       "0   Machine Learning-Computer Vision Research Scie...      1  \n",
       "1   Radar Exploitation Scientist (Must Have Top Se...      1  \n",
       "2                                     + Data Engineer      1  \n",
       "3                           Data Scientist - Power BI      1  \n",
       "4   Clinical Scientist, Neuroscience (Director level)      1  \n",
       "5   Experienced Food Scientist / Product Developme...      1  \n",
       "6                      BI Data Analyst and Specialist      1  \n",
       "7                     Gilbert Data Science Tutor Jobs      1  \n",
       "8                                Program Data Analyst      1  \n",
       "9                      Data Modeler, JLL Technologies      1  \n",
       "10                            Data Production Analyst      1  \n",
       "11                              Analytic Consultant 4      1  \n",
       "12                                   SAP Data Analyst      1  \n",
       "13                       Data Analyst - Report Writer      1  \n",
       "14  Senior Data Engineer (Austin, St. Louis or Tor...      1  \n",
       "15              Business Intelligence Analyst - Entry      1  \n",
       "16         Scientist, Oncology Translational Sciences      1  \n",
       "17                        Sr. Data Modeler (Open API)      1  \n",
       "18     Senior Scientist/Engineer, Process Development      1  \n",
       "19      Lead Process Development Scientist - Upstream      1  "
      ]
     },
     "execution_count": 9,
     "metadata": {},
     "output_type": "execute_result"
    }
   ],
   "source": [
    "job_title_first_20 = ds_df['Job Title'].value_counts()[:20].reset_index()\n",
    "job_title_last_20 = ds_df['Job Title'].value_counts()[-20:].reset_index()\n",
    "pd.concat([job_title_first_20,job_title_last_20],axis=1).rename(columns = {'Job Title':'count','index':'Job Title'})"
   ]
  },
  {
   "cell_type": "markdown",
   "id": "dfc1b9d8",
   "metadata": {},
   "source": [
    "Ta có nhận xét: mỗi công ty khi đăng tin tuyển dụng sẽ có một cách thông tin về **Job title** riêng (có thể là tuyển dụng cho nhiều vị trí cùng lúc, ghi tên vị trí cùng với thời gian làm việc,...) nên số lượng giá trị là rất lớn. Tuy nhiên cũng có nhiều vị trí trùng nhau nhưng lại có cách viết khác nhau (Sr., Senior), ta sẽ xử lí những giá trị này."
   ]
  },
  {
   "cell_type": "code",
   "execution_count": 10,
   "id": "cbef7dfe",
   "metadata": {},
   "outputs": [],
   "source": [
    "ds_df['Job Title'] = ds_df['Job Title'].str.replace('Sr.','Senior',regex=False)\n",
    "ds_df['Job Title'] = ds_df['Job Title'].str.replace('Jr.','Junior',regex=False)"
   ]
  },
  {
   "cell_type": "markdown",
   "id": "6b4f3e7c",
   "metadata": {},
   "source": [
    "### Loại bỏ rating trong Company name"
   ]
  },
  {
   "cell_type": "code",
   "execution_count": 11,
   "id": "daa442e2",
   "metadata": {},
   "outputs": [],
   "source": [
    "ds_df['Company Name'] = ds_df['Company Name'].str.split('\\n').str[0]"
   ]
  },
  {
   "cell_type": "markdown",
   "id": "53e0c935",
   "metadata": {},
   "source": [
    "### Tách tên thành phố trong cột Headquarters và xử lí missing value"
   ]
  },
  {
   "cell_type": "code",
   "execution_count": 12,
   "id": "083fce2c",
   "metadata": {},
   "outputs": [],
   "source": [
    "ds_df['Headquarters'].replace('-1',np.nan,inplace = True)"
   ]
  },
  {
   "cell_type": "code",
   "execution_count": 13,
   "id": "4d0f38d0",
   "metadata": {},
   "outputs": [
    {
     "data": {
      "text/html": [
       "<div>\n",
       "<style scoped>\n",
       "    .dataframe tbody tr th:only-of-type {\n",
       "        vertical-align: middle;\n",
       "    }\n",
       "\n",
       "    .dataframe tbody tr th {\n",
       "        vertical-align: top;\n",
       "    }\n",
       "\n",
       "    .dataframe thead th {\n",
       "        text-align: right;\n",
       "    }\n",
       "</style>\n",
       "<table border=\"1\" class=\"dataframe\">\n",
       "  <thead>\n",
       "    <tr style=\"text-align: right;\">\n",
       "      <th></th>\n",
       "      <th>0</th>\n",
       "      <th>1</th>\n",
       "      <th>2</th>\n",
       "    </tr>\n",
       "  </thead>\n",
       "  <tbody>\n",
       "    <tr>\n",
       "      <th>0</th>\n",
       "      <td>Montreal</td>\n",
       "      <td>Canada</td>\n",
       "      <td>None</td>\n",
       "    </tr>\n",
       "    <tr>\n",
       "      <th>1</th>\n",
       "      <td>New York</td>\n",
       "      <td>NY</td>\n",
       "      <td>None</td>\n",
       "    </tr>\n",
       "    <tr>\n",
       "      <th>2</th>\n",
       "      <td>New York</td>\n",
       "      <td>NY</td>\n",
       "      <td>None</td>\n",
       "    </tr>\n",
       "    <tr>\n",
       "      <th>3</th>\n",
       "      <td>Lyndhurst</td>\n",
       "      <td>NJ</td>\n",
       "      <td>None</td>\n",
       "    </tr>\n",
       "    <tr>\n",
       "      <th>4</th>\n",
       "      <td>New York</td>\n",
       "      <td>NY</td>\n",
       "      <td>None</td>\n",
       "    </tr>\n",
       "    <tr>\n",
       "      <th>...</th>\n",
       "      <td>...</td>\n",
       "      <td>...</td>\n",
       "      <td>...</td>\n",
       "    </tr>\n",
       "    <tr>\n",
       "      <th>3904</th>\n",
       "      <td>Irving</td>\n",
       "      <td>TX</td>\n",
       "      <td>None</td>\n",
       "    </tr>\n",
       "    <tr>\n",
       "      <th>3905</th>\n",
       "      <td>Woodridge</td>\n",
       "      <td>IL</td>\n",
       "      <td>None</td>\n",
       "    </tr>\n",
       "    <tr>\n",
       "      <th>3906</th>\n",
       "      <td>Irving</td>\n",
       "      <td>TX</td>\n",
       "      <td>None</td>\n",
       "    </tr>\n",
       "    <tr>\n",
       "      <th>3907</th>\n",
       "      <td>Omaha</td>\n",
       "      <td>NE</td>\n",
       "      <td>None</td>\n",
       "    </tr>\n",
       "    <tr>\n",
       "      <th>3908</th>\n",
       "      <td>Brussel</td>\n",
       "      <td>Belgium</td>\n",
       "      <td>None</td>\n",
       "    </tr>\n",
       "  </tbody>\n",
       "</table>\n",
       "<p>3909 rows × 3 columns</p>\n",
       "</div>"
      ],
      "text/plain": [
       "              0         1     2\n",
       "0      Montreal    Canada  None\n",
       "1      New York        NY  None\n",
       "2      New York        NY  None\n",
       "3     Lyndhurst        NJ  None\n",
       "4      New York        NY  None\n",
       "...         ...       ...   ...\n",
       "3904     Irving        TX  None\n",
       "3905  Woodridge        IL  None\n",
       "3906     Irving        TX  None\n",
       "3907      Omaha        NE  None\n",
       "3908    Brussel   Belgium  None\n",
       "\n",
       "[3909 rows x 3 columns]"
      ]
     },
     "execution_count": 13,
     "metadata": {},
     "output_type": "execute_result"
    }
   ],
   "source": [
    "headquarters_splited = ds_df['Headquarters'].str.split(',',expand=True)\n",
    "headquarters_splited"
   ]
  },
  {
   "cell_type": "markdown",
   "id": "92c97180",
   "metadata": {},
   "source": [
    "Một số tên công ty có định dạng thông tin `Headquarters` khác với các công ty còn lại, ta sẽ xem xét và giải quyết những giá trị đặc biệt này."
   ]
  },
  {
   "cell_type": "code",
   "execution_count": 14,
   "id": "fb778db0",
   "metadata": {},
   "outputs": [
    {
     "data": {
      "text/html": [
       "<div>\n",
       "<style scoped>\n",
       "    .dataframe tbody tr th:only-of-type {\n",
       "        vertical-align: middle;\n",
       "    }\n",
       "\n",
       "    .dataframe tbody tr th {\n",
       "        vertical-align: top;\n",
       "    }\n",
       "\n",
       "    .dataframe thead th {\n",
       "        text-align: right;\n",
       "    }\n",
       "</style>\n",
       "<table border=\"1\" class=\"dataframe\">\n",
       "  <thead>\n",
       "    <tr style=\"text-align: right;\">\n",
       "      <th></th>\n",
       "      <th>0</th>\n",
       "      <th>1</th>\n",
       "      <th>2</th>\n",
       "    </tr>\n",
       "  </thead>\n",
       "  <tbody>\n",
       "    <tr>\n",
       "      <th>142</th>\n",
       "      <td>New York</td>\n",
       "      <td>NY (US)</td>\n",
       "      <td>NY</td>\n",
       "    </tr>\n",
       "    <tr>\n",
       "      <th>303</th>\n",
       "      <td>New York</td>\n",
       "      <td>NY (US)</td>\n",
       "      <td>NY</td>\n",
       "    </tr>\n",
       "    <tr>\n",
       "      <th>1686</th>\n",
       "      <td>Philadelphia</td>\n",
       "      <td>PA (US)</td>\n",
       "      <td>PA</td>\n",
       "    </tr>\n",
       "    <tr>\n",
       "      <th>1751</th>\n",
       "      <td>Philadelphia</td>\n",
       "      <td>PA (US)</td>\n",
       "      <td>PA</td>\n",
       "    </tr>\n",
       "    <tr>\n",
       "      <th>1816</th>\n",
       "      <td>New York</td>\n",
       "      <td>NY (US)</td>\n",
       "      <td>NY</td>\n",
       "    </tr>\n",
       "    <tr>\n",
       "      <th>2118</th>\n",
       "      <td>San Marcos</td>\n",
       "      <td>CA (US)</td>\n",
       "      <td>CA</td>\n",
       "    </tr>\n",
       "  </tbody>\n",
       "</table>\n",
       "</div>"
      ],
      "text/plain": [
       "                 0         1    2\n",
       "142       New York   NY (US)   NY\n",
       "303       New York   NY (US)   NY\n",
       "1686  Philadelphia   PA (US)   PA\n",
       "1751  Philadelphia   PA (US)   PA\n",
       "1816      New York   NY (US)   NY\n",
       "2118    San Marcos   CA (US)   CA"
      ]
     },
     "execution_count": 14,
     "metadata": {},
     "output_type": "execute_result"
    }
   ],
   "source": [
    "headquarters_splited[~headquarters_splited[2].isnull()]"
   ]
  },
  {
   "cell_type": "markdown",
   "id": "7a22c557",
   "metadata": {},
   "source": [
    "Như vậy, các định dạng khác thường là do một số công ty có ghi thêm quốc gia, ta sẽ loại bỏ các giá trị này."
   ]
  },
  {
   "cell_type": "code",
   "execution_count": 15,
   "id": "49efe3a0",
   "metadata": {},
   "outputs": [],
   "source": [
    "headquarters_splited[1] = headquarters_splited[1].str.replace('\\(\\w*\\)','',regex=True) \n",
    "headquarters_splited.drop(columns=[2],inplace=True)"
   ]
  },
  {
   "cell_type": "code",
   "execution_count": 16,
   "id": "83dc7ac6",
   "metadata": {},
   "outputs": [],
   "source": [
    "ds_df[['Headquarters_City','Headquarters_State/Country']] = headquarters_splited\n",
    "ds_df.drop(columns=['Headquarters'],inplace = True)"
   ]
  },
  {
   "cell_type": "markdown",
   "id": "664f0943",
   "metadata": {},
   "source": [
    "### Tiền xử lí các cột Founded"
   ]
  },
  {
   "cell_type": "code",
   "execution_count": 17,
   "id": "b694f11a",
   "metadata": {},
   "outputs": [
    {
     "data": {
      "text/plain": [
       "-1       977\n",
       " 1625      2\n",
       " 1682      1\n",
       " 1740      9\n",
       " 1775     13\n",
       "        ... \n",
       " 2016     49\n",
       " 2017     40\n",
       " 2018     27\n",
       " 2019     14\n",
       " 2020      1\n",
       "Name: Founded, Length: 173, dtype: int64"
      ]
     },
     "execution_count": 17,
     "metadata": {},
     "output_type": "execute_result"
    }
   ],
   "source": [
    "ds_df['Founded'].value_counts().sort_index()"
   ]
  },
  {
   "cell_type": "markdown",
   "id": "bc6336bd",
   "metadata": {},
   "source": [
    "Cột `Founded` có khá nhiều giá trị thiếu, tác giả đã đánh dấu bằng giá trị -1. Ta không có cách nào đễ xác định năm thành lập của những công ty này. Do đó, để tiện cho việc tính toán các tác vụ về sau (tính giá trị thiếu,...), ta sẽ chuyển các giá trị -1 về NaN."
   ]
  },
  {
   "cell_type": "code",
   "execution_count": 18,
   "id": "0c0982c6",
   "metadata": {},
   "outputs": [],
   "source": [
    "ds_df['Founded'].replace(-1,np.nan,inplace = True)"
   ]
  },
  {
   "cell_type": "markdown",
   "id": "66d82fb2",
   "metadata": {},
   "source": [
    "### Tiền xử lí cột Industry"
   ]
  },
  {
   "cell_type": "code",
   "execution_count": 19,
   "id": "1d4157f8",
   "metadata": {},
   "outputs": [
    {
     "data": {
      "text/plain": [
       "-1                                      546\n",
       "IT Services                             472\n",
       "Staffing & Outsourcing                  313\n",
       "Biotech & Pharmaceuticals               293\n",
       "Computer Hardware & Software            264\n",
       "                                       ... \n",
       "Telecommunications Manufacturing          1\n",
       "Beauty & Personal Accessories Stores      1\n",
       "Truck Rental & Leasing                    1\n",
       "Sporting Goods Stores                     1\n",
       "Health Fundraising Organizations          1\n",
       "Name: Industry, Length: 96, dtype: int64"
      ]
     },
     "execution_count": 19,
     "metadata": {},
     "output_type": "execute_result"
    }
   ],
   "source": [
    "ds_df['Industry'].value_counts()"
   ]
  },
  {
   "cell_type": "markdown",
   "id": "366bc90a",
   "metadata": {},
   "source": [
    "Tương tự cột `Founded`, cột `Industry` cũng có các giá trị thiếu được đánh dấu bằng giá trị `-1`. Ta sẽ chuyển giá trị này thành `NaN`."
   ]
  },
  {
   "cell_type": "code",
   "execution_count": 20,
   "id": "7e222665",
   "metadata": {},
   "outputs": [],
   "source": [
    "ds_df['Industry'].replace('-1',np.nan,inplace = True)"
   ]
  },
  {
   "cell_type": "markdown",
   "id": "b0254d16",
   "metadata": {},
   "source": [
    "### Tiền xử lí cột Revenue"
   ]
  },
  {
   "cell_type": "code",
   "execution_count": 21,
   "id": "8d2e2a53",
   "metadata": {},
   "outputs": [
    {
     "data": {
      "text/plain": [
       "Unknown / Non-Applicable            1163\n",
       "$10+ billion (USD)                   599\n",
       "$100 to $500 million (USD)           338\n",
       "-1                                   229\n",
       "$50 to $100 million (USD)            214\n",
       "$2 to $5 billion (USD)               211\n",
       "$10 to $25 million (USD)             191\n",
       "$1 to $2 billion (USD)               180\n",
       "$1 to $5 million (USD)               170\n",
       "$25 to $50 million (USD)             143\n",
       "$5 to $10 billion (USD)              133\n",
       "Less than $1 million (USD)           124\n",
       "$500 million to $1 billion (USD)     114\n",
       "$5 to $10 million (USD)              100\n",
       "Name: Revenue, dtype: int64"
      ]
     },
     "execution_count": 21,
     "metadata": {},
     "output_type": "execute_result"
    }
   ],
   "source": [
    "ds_df['Revenue'].value_counts()"
   ]
  },
  {
   "cell_type": "markdown",
   "id": "2320c5a6",
   "metadata": {},
   "source": [
    "Như có thể quan sát, cột này có 3 kiểu thể hiện dữ liệu: giá trị thiếu đánh dấu bằng `-1`, giá trị `Unknown / Non-Applicable` và giá trị có định dạng là một khoảng ước lượng. Ta sẽ tiền xử lí cột này như sau:\n",
    "- Các dòng có giá trị `-1` hoặc `Unknown / Non-Applicable` sẽ chuyển thành dạng `NaN`.\n",
    "- Các dòng có giá trị là môt khoảng ước lượng sẽ chuyển thành giá trị trung bình của khoảng. Với 2 khoảng đầu cuối, ta sẽ mặc định thành giá trị phân chia của khoảng đó. Ngoài ra, các giá trị ***billion*** cũng sẽ được đổi thành ***million***."
   ]
  },
  {
   "cell_type": "code",
   "execution_count": 22,
   "id": "2321cce3",
   "metadata": {},
   "outputs": [],
   "source": [
    "def convert_to_num(s):\n",
    "    if type(s) != str:\n",
    "        return\n",
    "    if re.compile(r'\\$\\d+\\+ billion').match(s):\n",
    "        value_range = [int(d) for d in re.findall(r'\\d+',s)]\n",
    "        return sum(value_range)/len(value_range)*1000\n",
    "    elif re.compile(r'\\$\\d+ to \\$\\d+ billion').match(s):\n",
    "        value_range = [int(d) for d in re.findall(r'\\d+',s)]\n",
    "        return sum(value_range)/len(value_range)*1000\n",
    "    elif re.compile(r'\\$\\d+ million to \\$\\d+ billion').match(s):\n",
    "        match = re.compile(r'\\$(\\d+) million to \\$(\\d+) billion').match(s)\n",
    "        return (int(match.group(1))+int(match.group(2))*1000)/2\n",
    "    else:\n",
    "        value_range = [int(d) for d in re.findall(r'\\d+',s)]\n",
    "        return sum(value_range)/len(value_range)\n",
    "ds_df['Revenue'].replace('-1',np.nan,inplace = True)\n",
    "ds_df['Revenue'].replace('Unknown / Non-Applicable',np.nan,inplace = True)\n",
    "ds_df['Revenue'] = ds_df['Revenue'].apply(convert_to_num)"
   ]
  },
  {
   "cell_type": "markdown",
   "id": "a720f859",
   "metadata": {},
   "source": [
    "### Tiền xử lí cột Easy Apply\n",
    "\n",
    "Ta xem xét kiểu dữ liệu và giá trị trong cột."
   ]
  },
  {
   "cell_type": "code",
   "execution_count": 23,
   "id": "ef419443",
   "metadata": {},
   "outputs": [
    {
     "name": "stdout",
     "output_type": "stream",
     "text": [
      "object\n"
     ]
    },
    {
     "data": {
      "text/plain": [
       "-1      3745\n",
       "True     164\n",
       "Name: Easy Apply, dtype: int64"
      ]
     },
     "execution_count": 23,
     "metadata": {},
     "output_type": "execute_result"
    }
   ],
   "source": [
    "print(ds_df['Easy Apply'].dtype)\n",
    "ds_df['Easy Apply'].value_counts()"
   ]
  },
  {
   "cell_type": "markdown",
   "id": "45c31a85",
   "metadata": {},
   "source": [
    "Các giá trị của cột này nên có dạng `True` hoặc `False`. Các giá trị `-1` trong trường hợp này không phải là giá trị thiếu, mà là công ty không có phương thức `Easy Apply` nên sẽ không có giá trị này. Ta sẽ chuyển các giá trị `-1` thành `False`."
   ]
  },
  {
   "cell_type": "code",
   "execution_count": 24,
   "id": "d780c4e6",
   "metadata": {},
   "outputs": [],
   "source": [
    "ds_df['Easy Apply'].replace('-1',False,inplace = True)\n",
    "ds_df['Easy Apply']  = ds_df['Easy Apply'].astype(bool)"
   ]
  },
  {
   "cell_type": "markdown",
   "id": "7375ba0b",
   "metadata": {},
   "source": [
    "### Tiền xử lí cột Salary Estimate\n",
    "\n",
    "Cột này bao gồm các giá trị là khoảng ước tính, do đó ta sẽ tách thành 2 cột min và max."
   ]
  },
  {
   "cell_type": "code",
   "execution_count": 25,
   "id": "7c66ebff",
   "metadata": {},
   "outputs": [],
   "source": [
    "def split_to_minmax(s):\n",
    "    value_range = [int(d) for d in re.findall(r'\\d+',s)]\n",
    "    return value_range\n",
    "ds_df[['SalaryMin','SalaryMax']] = pd.DataFrame(ds_df['Salary Estimate'].apply(split_to_minmax).to_list())\n",
    "ds_df.drop(columns=['Salary Estimate'],inplace = True)"
   ]
  },
  {
   "cell_type": "markdown",
   "id": "218fafef",
   "metadata": {},
   "source": [
    "### Tiền xử lí cột Rating\n",
    "\n",
    "Cột `Rating` có khá nhiều giá trị thiếu được đánh dấu bằng giá trị `-1`. Ta sẽ thay thế các giá trị này bằng trung bình của các giá trị còn lại."
   ]
  },
  {
   "cell_type": "code",
   "execution_count": 26,
   "id": "f7db27d6",
   "metadata": {},
   "outputs": [],
   "source": [
    "ds_df['Rating'].replace(-1,np.nan,inplace = True)\n",
    "mean = ds_df['Rating'].mean(skipna = True).round(1)\n",
    "ds_df['Rating'].replace(np.nan,mean,inplace = True)"
   ]
  },
  {
   "cell_type": "markdown",
   "id": "ec40b731",
   "metadata": {},
   "source": [
    "### Tiền xử lí cột Location va loại bỏ missing value\n",
    "\n",
    "Trong cột `Location`, mỗi giá trị bao gồm tên thành phố và tên bang cách nhau bởi dấu `,`. Ta sẽ tách các giá trị này thành 2 cột là `City` và `State`."
   ]
  },
  {
   "cell_type": "code",
   "execution_count": 27,
   "id": "0e6e0e92",
   "metadata": {},
   "outputs": [],
   "source": [
    "ds_df['Location'].replace('-1',np.nan,inplace = True)"
   ]
  },
  {
   "cell_type": "code",
   "execution_count": 28,
   "id": "87a5b178",
   "metadata": {},
   "outputs": [],
   "source": [
    "ds_df[['City','State']] = ds_df['Location'].str.split(',',expand=True)\n",
    "ds_df.drop(columns = ['Location'], inplace = True)"
   ]
  },
  {
   "cell_type": "markdown",
   "id": "61df3ca5",
   "metadata": {},
   "source": [
    "### Tiền xử lí cột Size\n",
    "\n",
    "Cột size gồm 3 kiểu thể hiện dữ liệu: gồm `-1` cho các giá trị thiếu, `Unknown` là các giá trị mà công ty không cung cấp và còn lại là các khoảng. Ta sẽ tiền xử lí cột này như sau:\n",
    "- Các giá trị `-1` và `Unknown` sẽ thay thế bằng giá trị NaN.\n",
    "- Các giá trị là các khoảng, ta sẽ chuyển thành giá trị trung bình, riêng khoảng lớn nhất sẽ dùng giá trị phân chia."
   ]
  },
  {
   "cell_type": "code",
   "execution_count": 29,
   "id": "84d58c4a",
   "metadata": {},
   "outputs": [
    {
     "data": {
      "text/plain": [
       "10000+ employees           993\n",
       "51 to 200 employees        563\n",
       "1001 to 5000 employees     553\n",
       "1 to 50 employees          550\n",
       "201 to 500 employees       418\n",
       "501 to 1000 employees      307\n",
       "-1                         229\n",
       "5001 to 10000 employees    219\n",
       "Unknown                     77\n",
       "Name: Size, dtype: int64"
      ]
     },
     "execution_count": 29,
     "metadata": {},
     "output_type": "execute_result"
    }
   ],
   "source": [
    "ds_df['Size'].value_counts()"
   ]
  },
  {
   "cell_type": "code",
   "execution_count": 39,
   "id": "0eae0e4e",
   "metadata": {},
   "outputs": [],
   "source": [
    "def convert_to_mean(s):\n",
    "    if type(s) != str:\n",
    "        return\n",
    "    value_range = [int(d) for d in re.findall(r'\\d+',s)]\n",
    "    return math.floor(sum(value_range)/len(value_range))\n",
    "ds_df['Size'].replace('-1',np.nan,inplace = True)\n",
    "ds_df['Size'].replace('Unknown',np.nan,inplace = True)\n",
    "ds_df['Size']=ds_df['Size'].apply(convert_to_mean)"
   ]
  },
  {
   "cell_type": "markdown",
   "id": "1808e58d",
   "metadata": {},
   "source": [
    "### Tiền xử lí các cột Type of ownership, Sector, Competitors"
   ]
  },
  {
   "cell_type": "code",
   "execution_count": 42,
   "id": "a1464475",
   "metadata": {},
   "outputs": [
    {
     "data": {
      "text/plain": [
       "array(['Company - Private', 'Unknown', 'Company - Public',\n",
       "       'Nonprofit Organization', '-1', 'Government', 'Hospital',\n",
       "       'Self-employed', 'Subsidiary or Business Segment', 'Contract',\n",
       "       'School / School District', 'Private Practice / Firm',\n",
       "       'College / University', 'Franchise', 'Other Organization'],\n",
       "      dtype=object)"
      ]
     },
     "execution_count": 42,
     "metadata": {},
     "output_type": "execute_result"
    }
   ],
   "source": [
    "ds_df['Type of ownership'].unique()"
   ]
  },
  {
   "cell_type": "code",
   "execution_count": 43,
   "id": "2b30a0cc",
   "metadata": {},
   "outputs": [
    {
     "data": {
      "text/plain": [
       "array(['Travel & Tourism', 'Consumer Services', '-1',\n",
       "       'Information Technology', 'Business Services', 'Insurance',\n",
       "       'Finance', 'Retail', 'Media', 'Restaurants, Bars & Food Services',\n",
       "       'Agriculture & Forestry', 'Non-Profit', 'Education', 'Government',\n",
       "       'Health Care', 'Oil, Gas, Energy & Utilities',\n",
       "       'Accounting & Legal', 'Manufacturing', 'Real Estate',\n",
       "       'Biotech & Pharmaceuticals', 'Arts, Entertainment & Recreation',\n",
       "       'Aerospace & Defense', 'Construction, Repair & Maintenance',\n",
       "       'Transportation & Logistics', 'Telecommunications',\n",
       "       'Mining & Metals'], dtype=object)"
      ]
     },
     "execution_count": 43,
     "metadata": {},
     "output_type": "execute_result"
    }
   ],
   "source": [
    "ds_df['Sector'].unique()"
   ]
  },
  {
   "cell_type": "code",
   "execution_count": 45,
   "id": "7703404a",
   "metadata": {},
   "outputs": [
    {
     "data": {
      "text/plain": [
       "-1                                                      2760\n",
       "Amazon, Accenture, Microsoft                              61\n",
       "Google, Microsoft, Samsung Electronics                    60\n",
       "Google, Microsoft, Walmart                                47\n",
       "Google, Microsoft, Apple                                  25\n",
       "                                                        ... \n",
       "Petco, Walmart, Target                                     1\n",
       "WesternGeco, Petroleum Geo-Services, TGS                   1\n",
       "Agilent Technologies                                       1\n",
       "Accenture, Capgemini                                       1\n",
       "Converge, Future Electronics, Advanced MP Technology       1\n",
       "Name: Competitors, Length: 422, dtype: int64"
      ]
     },
     "execution_count": 45,
     "metadata": {},
     "output_type": "execute_result"
    }
   ],
   "source": [
    "ds_df['Competitors'].value_counts()"
   ]
  },
  {
   "cell_type": "markdown",
   "id": "a979a3b8",
   "metadata": {},
   "source": [
    "Với cả 3 cột trên, ta sẽ tiền xử lí bằng cách thay thế `-1` thành `NaN`."
   ]
  },
  {
   "cell_type": "code",
   "execution_count": 48,
   "id": "8cbefce9",
   "metadata": {},
   "outputs": [],
   "source": [
    "ds_df[['Type of ownership','Sector','Competitors']] = ds_df[['Type of ownership','Sector','Competitors']].replace('-1',np.nan)"
   ]
  },
  {
   "cell_type": "markdown",
   "id": "5a1d9904",
   "metadata": {},
   "source": [
    "## Đưa ra các câu hỏi cần trả lời\n",
    "\n",
    "Câu 1\n",
    "\n",
    "Câu 2\n",
    "\n",
    "Câu 3"
   ]
  },
  {
   "cell_type": "code",
   "execution_count": null,
   "id": "49a78239",
   "metadata": {},
   "outputs": [],
   "source": []
  },
  {
   "cell_type": "markdown",
   "id": "db9bcade",
   "metadata": {},
   "source": [
    "### Câu hỏi 1:"
   ]
  },
  {
   "cell_type": "code",
   "execution_count": null,
   "id": "fdccacd3",
   "metadata": {},
   "outputs": [],
   "source": []
  },
  {
   "cell_type": "markdown",
   "id": "8a918609",
   "metadata": {},
   "source": [
    "### Câu hỏi 2:"
   ]
  },
  {
   "cell_type": "code",
   "execution_count": null,
   "id": "bb07aa7c",
   "metadata": {},
   "outputs": [],
   "source": []
  },
  {
   "cell_type": "markdown",
   "id": "af98443c",
   "metadata": {},
   "source": [
    "### Câu hỏi 3:"
   ]
  },
  {
   "cell_type": "code",
   "execution_count": null,
   "id": "62038b43",
   "metadata": {},
   "outputs": [],
   "source": []
  },
  {
   "cell_type": "markdown",
   "id": "7a2b7b36",
   "metadata": {},
   "source": [
    "## Tổng kết"
   ]
  },
  {
   "cell_type": "code",
   "execution_count": null,
   "id": "0d862a46",
   "metadata": {},
   "outputs": [],
   "source": []
  },
  {
   "cell_type": "markdown",
   "id": "4fa81af9",
   "metadata": {},
   "source": [
    "## Tài liệu tham khảo"
   ]
  },
  {
   "cell_type": "code",
   "execution_count": null,
   "id": "c08c19a6",
   "metadata": {},
   "outputs": [],
   "source": []
  }
 ],
 "metadata": {
  "kernelspec": {
   "display_name": "Python 3 (ipykernel)",
   "language": "python",
   "name": "python3"
  },
  "language_info": {
   "codemirror_mode": {
    "name": "ipython",
    "version": 3
   },
   "file_extension": ".py",
   "mimetype": "text/x-python",
   "name": "python",
   "nbconvert_exporter": "python",
   "pygments_lexer": "ipython3",
   "version": "3.8.8"
  }
 },
 "nbformat": 4,
 "nbformat_minor": 5
}
